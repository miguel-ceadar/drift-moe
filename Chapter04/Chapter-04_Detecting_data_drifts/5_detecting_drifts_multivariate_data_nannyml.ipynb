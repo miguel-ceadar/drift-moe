{
 "cells": [
  {
   "cell_type": "code",
   "execution_count": 1,
   "metadata": {},
   "outputs": [],
   "source": [
    "import nannyml as nml\n",
    "from IPython.display import display"
   ]
  },
  {
   "cell_type": "code",
   "execution_count": 2,
   "metadata": {},
   "outputs": [
    {
     "data": {
      "text/html": [
       "<div>\n",
       "<style scoped>\n",
       "    .dataframe tbody tr th:only-of-type {\n",
       "        vertical-align: middle;\n",
       "    }\n",
       "\n",
       "    .dataframe tbody tr th {\n",
       "        vertical-align: top;\n",
       "    }\n",
       "\n",
       "    .dataframe thead th {\n",
       "        text-align: right;\n",
       "    }\n",
       "</style>\n",
       "<table border=\"1\" class=\"dataframe\">\n",
       "  <thead>\n",
       "    <tr style=\"text-align: right;\">\n",
       "      <th></th>\n",
       "      <th>car_value</th>\n",
       "      <th>salary_range</th>\n",
       "      <th>debt_to_income_ratio</th>\n",
       "      <th>loan_length</th>\n",
       "      <th>repaid_loan_on_prev_car</th>\n",
       "      <th>size_of_downpayment</th>\n",
       "      <th>driver_tenure</th>\n",
       "      <th>repaid</th>\n",
       "      <th>timestamp</th>\n",
       "      <th>y_pred_proba</th>\n",
       "      <th>y_pred</th>\n",
       "    </tr>\n",
       "  </thead>\n",
       "  <tbody>\n",
       "    <tr>\n",
       "      <th>0</th>\n",
       "      <td>39811.0</td>\n",
       "      <td>40K - 60K €</td>\n",
       "      <td>0.632950</td>\n",
       "      <td>19.0</td>\n",
       "      <td>False</td>\n",
       "      <td>40%</td>\n",
       "      <td>0.212653</td>\n",
       "      <td>1.0</td>\n",
       "      <td>2018-01-01 00:00:00.000</td>\n",
       "      <td>0.99</td>\n",
       "      <td>1</td>\n",
       "    </tr>\n",
       "    <tr>\n",
       "      <th>1</th>\n",
       "      <td>12679.0</td>\n",
       "      <td>40K - 60K €</td>\n",
       "      <td>0.718627</td>\n",
       "      <td>7.0</td>\n",
       "      <td>True</td>\n",
       "      <td>10%</td>\n",
       "      <td>4.927549</td>\n",
       "      <td>0.0</td>\n",
       "      <td>2018-01-01 00:08:43.152</td>\n",
       "      <td>0.07</td>\n",
       "      <td>0</td>\n",
       "    </tr>\n",
       "    <tr>\n",
       "      <th>2</th>\n",
       "      <td>19847.0</td>\n",
       "      <td>40K - 60K €</td>\n",
       "      <td>0.721724</td>\n",
       "      <td>17.0</td>\n",
       "      <td>False</td>\n",
       "      <td>0%</td>\n",
       "      <td>0.520817</td>\n",
       "      <td>1.0</td>\n",
       "      <td>2018-01-01 00:17:26.304</td>\n",
       "      <td>1.00</td>\n",
       "      <td>1</td>\n",
       "    </tr>\n",
       "    <tr>\n",
       "      <th>3</th>\n",
       "      <td>22652.0</td>\n",
       "      <td>20K - 20K €</td>\n",
       "      <td>0.705992</td>\n",
       "      <td>16.0</td>\n",
       "      <td>False</td>\n",
       "      <td>10%</td>\n",
       "      <td>0.453649</td>\n",
       "      <td>1.0</td>\n",
       "      <td>2018-01-01 00:26:09.456</td>\n",
       "      <td>0.98</td>\n",
       "      <td>1</td>\n",
       "    </tr>\n",
       "    <tr>\n",
       "      <th>4</th>\n",
       "      <td>21268.0</td>\n",
       "      <td>60K+ €</td>\n",
       "      <td>0.671888</td>\n",
       "      <td>21.0</td>\n",
       "      <td>True</td>\n",
       "      <td>30%</td>\n",
       "      <td>5.695263</td>\n",
       "      <td>1.0</td>\n",
       "      <td>2018-01-01 00:34:52.608</td>\n",
       "      <td>0.99</td>\n",
       "      <td>1</td>\n",
       "    </tr>\n",
       "  </tbody>\n",
       "</table>\n",
       "</div>"
      ],
      "text/plain": [
       "   car_value salary_range  debt_to_income_ratio  loan_length  \\\n",
       "0    39811.0  40K - 60K €              0.632950         19.0   \n",
       "1    12679.0  40K - 60K €              0.718627          7.0   \n",
       "2    19847.0  40K - 60K €              0.721724         17.0   \n",
       "3    22652.0  20K - 20K €              0.705992         16.0   \n",
       "4    21268.0       60K+ €              0.671888         21.0   \n",
       "\n",
       "   repaid_loan_on_prev_car size_of_downpayment  driver_tenure  repaid  \\\n",
       "0                    False                 40%       0.212653     1.0   \n",
       "1                     True                 10%       4.927549     0.0   \n",
       "2                    False                  0%       0.520817     1.0   \n",
       "3                    False                 10%       0.453649     1.0   \n",
       "4                     True                 30%       5.695263     1.0   \n",
       "\n",
       "                 timestamp  y_pred_proba  y_pred  \n",
       "0  2018-01-01 00:00:00.000          0.99       1  \n",
       "1  2018-01-01 00:08:43.152          0.07       0  \n",
       "2  2018-01-01 00:17:26.304          1.00       1  \n",
       "3  2018-01-01 00:26:09.456          0.98       1  \n",
       "4  2018-01-01 00:34:52.608          0.99       1  "
      ]
     },
     "metadata": {},
     "output_type": "display_data"
    }
   ],
   "source": [
    "reference_df, analysis_df, _ = nml.load_synthetic_car_loan_dataset()\n",
    "display(reference_df.head())"
   ]
  },
  {
   "cell_type": "code",
   "execution_count": 3,
   "metadata": {},
   "outputs": [
    {
     "data": {
      "text/html": [
       "<div>\n",
       "<style scoped>\n",
       "    .dataframe tbody tr th:only-of-type {\n",
       "        vertical-align: middle;\n",
       "    }\n",
       "\n",
       "    .dataframe tbody tr th {\n",
       "        vertical-align: top;\n",
       "    }\n",
       "\n",
       "    .dataframe thead tr th {\n",
       "        text-align: left;\n",
       "    }\n",
       "</style>\n",
       "<table border=\"1\" class=\"dataframe\">\n",
       "  <thead>\n",
       "    <tr>\n",
       "      <th></th>\n",
       "      <th colspan=\"7\" halign=\"left\">chunk</th>\n",
       "      <th colspan=\"7\" halign=\"left\">reconstruction_error</th>\n",
       "    </tr>\n",
       "    <tr>\n",
       "      <th></th>\n",
       "      <th>key</th>\n",
       "      <th>chunk_index</th>\n",
       "      <th>start_index</th>\n",
       "      <th>end_index</th>\n",
       "      <th>start_date</th>\n",
       "      <th>end_date</th>\n",
       "      <th>period</th>\n",
       "      <th>sampling_error</th>\n",
       "      <th>value</th>\n",
       "      <th>upper_confidence_boundary</th>\n",
       "      <th>lower_confidence_boundary</th>\n",
       "      <th>upper_threshold</th>\n",
       "      <th>lower_threshold</th>\n",
       "      <th>alert</th>\n",
       "    </tr>\n",
       "  </thead>\n",
       "  <tbody>\n",
       "    <tr>\n",
       "      <th>0</th>\n",
       "      <td>[0:4999]</td>\n",
       "      <td>0</td>\n",
       "      <td>0</td>\n",
       "      <td>4999</td>\n",
       "      <td>2018-10-30 18:00:00</td>\n",
       "      <td>2018-11-30 00:27:16.848</td>\n",
       "      <td>analysis</td>\n",
       "      <td>0.006996</td>\n",
       "      <td>1.141517</td>\n",
       "      <td>1.162505</td>\n",
       "      <td>1.120528</td>\n",
       "      <td>1.153019</td>\n",
       "      <td>1.115281</td>\n",
       "      <td>False</td>\n",
       "    </tr>\n",
       "    <tr>\n",
       "      <th>1</th>\n",
       "      <td>[5000:9999]</td>\n",
       "      <td>1</td>\n",
       "      <td>5000</td>\n",
       "      <td>9999</td>\n",
       "      <td>2018-11-30 00:36:00</td>\n",
       "      <td>2018-12-30 07:03:16.848</td>\n",
       "      <td>analysis</td>\n",
       "      <td>0.006996</td>\n",
       "      <td>1.130636</td>\n",
       "      <td>1.151625</td>\n",
       "      <td>1.109648</td>\n",
       "      <td>1.153019</td>\n",
       "      <td>1.115281</td>\n",
       "      <td>False</td>\n",
       "    </tr>\n",
       "    <tr>\n",
       "      <th>2</th>\n",
       "      <td>[10000:14999]</td>\n",
       "      <td>2</td>\n",
       "      <td>10000</td>\n",
       "      <td>14999</td>\n",
       "      <td>2018-12-30 07:12:00</td>\n",
       "      <td>2019-01-29 13:39:16.848</td>\n",
       "      <td>analysis</td>\n",
       "      <td>0.006996</td>\n",
       "      <td>1.138914</td>\n",
       "      <td>1.159903</td>\n",
       "      <td>1.117926</td>\n",
       "      <td>1.153019</td>\n",
       "      <td>1.115281</td>\n",
       "      <td>False</td>\n",
       "    </tr>\n",
       "    <tr>\n",
       "      <th>3</th>\n",
       "      <td>[15000:19999]</td>\n",
       "      <td>3</td>\n",
       "      <td>15000</td>\n",
       "      <td>19999</td>\n",
       "      <td>2019-01-29 13:48:00</td>\n",
       "      <td>2019-02-28 20:15:16.848</td>\n",
       "      <td>analysis</td>\n",
       "      <td>0.006996</td>\n",
       "      <td>1.145040</td>\n",
       "      <td>1.166029</td>\n",
       "      <td>1.124052</td>\n",
       "      <td>1.153019</td>\n",
       "      <td>1.115281</td>\n",
       "      <td>False</td>\n",
       "    </tr>\n",
       "    <tr>\n",
       "      <th>4</th>\n",
       "      <td>[20000:24999]</td>\n",
       "      <td>4</td>\n",
       "      <td>20000</td>\n",
       "      <td>24999</td>\n",
       "      <td>2019-02-28 20:24:00</td>\n",
       "      <td>2019-03-31 02:51:16.848</td>\n",
       "      <td>analysis</td>\n",
       "      <td>0.006996</td>\n",
       "      <td>1.137563</td>\n",
       "      <td>1.158551</td>\n",
       "      <td>1.116574</td>\n",
       "      <td>1.153019</td>\n",
       "      <td>1.115281</td>\n",
       "      <td>False</td>\n",
       "    </tr>\n",
       "    <tr>\n",
       "      <th>5</th>\n",
       "      <td>[25000:29999]</td>\n",
       "      <td>5</td>\n",
       "      <td>25000</td>\n",
       "      <td>29999</td>\n",
       "      <td>2019-03-31 03:00:00</td>\n",
       "      <td>2019-04-30 09:27:16.848</td>\n",
       "      <td>analysis</td>\n",
       "      <td>0.006996</td>\n",
       "      <td>1.249205</td>\n",
       "      <td>1.270194</td>\n",
       "      <td>1.228217</td>\n",
       "      <td>1.153019</td>\n",
       "      <td>1.115281</td>\n",
       "      <td>True</td>\n",
       "    </tr>\n",
       "    <tr>\n",
       "      <th>6</th>\n",
       "      <td>[30000:34999]</td>\n",
       "      <td>6</td>\n",
       "      <td>30000</td>\n",
       "      <td>34999</td>\n",
       "      <td>2019-04-30 09:36:00</td>\n",
       "      <td>2019-05-30 16:03:16.848</td>\n",
       "      <td>analysis</td>\n",
       "      <td>0.006996</td>\n",
       "      <td>1.243101</td>\n",
       "      <td>1.264090</td>\n",
       "      <td>1.222113</td>\n",
       "      <td>1.153019</td>\n",
       "      <td>1.115281</td>\n",
       "      <td>True</td>\n",
       "    </tr>\n",
       "    <tr>\n",
       "      <th>7</th>\n",
       "      <td>[35000:39999]</td>\n",
       "      <td>7</td>\n",
       "      <td>35000</td>\n",
       "      <td>39999</td>\n",
       "      <td>2019-05-30 16:12:00</td>\n",
       "      <td>2019-06-29 22:39:16.848</td>\n",
       "      <td>analysis</td>\n",
       "      <td>0.006996</td>\n",
       "      <td>1.258147</td>\n",
       "      <td>1.279135</td>\n",
       "      <td>1.237158</td>\n",
       "      <td>1.153019</td>\n",
       "      <td>1.115281</td>\n",
       "      <td>True</td>\n",
       "    </tr>\n",
       "    <tr>\n",
       "      <th>8</th>\n",
       "      <td>[40000:44999]</td>\n",
       "      <td>8</td>\n",
       "      <td>40000</td>\n",
       "      <td>44999</td>\n",
       "      <td>2019-06-29 22:48:00</td>\n",
       "      <td>2019-07-30 05:15:16.848</td>\n",
       "      <td>analysis</td>\n",
       "      <td>0.006996</td>\n",
       "      <td>1.228179</td>\n",
       "      <td>1.249167</td>\n",
       "      <td>1.207190</td>\n",
       "      <td>1.153019</td>\n",
       "      <td>1.115281</td>\n",
       "      <td>True</td>\n",
       "    </tr>\n",
       "    <tr>\n",
       "      <th>9</th>\n",
       "      <td>[45000:49999]</td>\n",
       "      <td>9</td>\n",
       "      <td>45000</td>\n",
       "      <td>49999</td>\n",
       "      <td>2019-07-30 05:24:00</td>\n",
       "      <td>2019-08-29 11:51:16.848</td>\n",
       "      <td>analysis</td>\n",
       "      <td>0.006996</td>\n",
       "      <td>1.259884</td>\n",
       "      <td>1.280872</td>\n",
       "      <td>1.238895</td>\n",
       "      <td>1.153019</td>\n",
       "      <td>1.115281</td>\n",
       "      <td>True</td>\n",
       "    </tr>\n",
       "  </tbody>\n",
       "</table>\n",
       "</div>"
      ],
      "text/plain": [
       "           chunk                                                        \\\n",
       "             key chunk_index start_index end_index          start_date   \n",
       "0       [0:4999]           0           0      4999 2018-10-30 18:00:00   \n",
       "1    [5000:9999]           1        5000      9999 2018-11-30 00:36:00   \n",
       "2  [10000:14999]           2       10000     14999 2018-12-30 07:12:00   \n",
       "3  [15000:19999]           3       15000     19999 2019-01-29 13:48:00   \n",
       "4  [20000:24999]           4       20000     24999 2019-02-28 20:24:00   \n",
       "5  [25000:29999]           5       25000     29999 2019-03-31 03:00:00   \n",
       "6  [30000:34999]           6       30000     34999 2019-04-30 09:36:00   \n",
       "7  [35000:39999]           7       35000     39999 2019-05-30 16:12:00   \n",
       "8  [40000:44999]           8       40000     44999 2019-06-29 22:48:00   \n",
       "9  [45000:49999]           9       45000     49999 2019-07-30 05:24:00   \n",
       "\n",
       "                                    reconstruction_error            \\\n",
       "                 end_date    period       sampling_error     value   \n",
       "0 2018-11-30 00:27:16.848  analysis             0.006996  1.141517   \n",
       "1 2018-12-30 07:03:16.848  analysis             0.006996  1.130636   \n",
       "2 2019-01-29 13:39:16.848  analysis             0.006996  1.138914   \n",
       "3 2019-02-28 20:15:16.848  analysis             0.006996  1.145040   \n",
       "4 2019-03-31 02:51:16.848  analysis             0.006996  1.137563   \n",
       "5 2019-04-30 09:27:16.848  analysis             0.006996  1.249205   \n",
       "6 2019-05-30 16:03:16.848  analysis             0.006996  1.243101   \n",
       "7 2019-06-29 22:39:16.848  analysis             0.006996  1.258147   \n",
       "8 2019-07-30 05:15:16.848  analysis             0.006996  1.228179   \n",
       "9 2019-08-29 11:51:16.848  analysis             0.006996  1.259884   \n",
       "\n",
       "                                                                       \\\n",
       "  upper_confidence_boundary lower_confidence_boundary upper_threshold   \n",
       "0                  1.162505                  1.120528        1.153019   \n",
       "1                  1.151625                  1.109648        1.153019   \n",
       "2                  1.159903                  1.117926        1.153019   \n",
       "3                  1.166029                  1.124052        1.153019   \n",
       "4                  1.158551                  1.116574        1.153019   \n",
       "5                  1.270194                  1.228217        1.153019   \n",
       "6                  1.264090                  1.222113        1.153019   \n",
       "7                  1.279135                  1.237158        1.153019   \n",
       "8                  1.249167                  1.207190        1.153019   \n",
       "9                  1.280872                  1.238895        1.153019   \n",
       "\n",
       "                          \n",
       "  lower_threshold  alert  \n",
       "0        1.115281  False  \n",
       "1        1.115281  False  \n",
       "2        1.115281  False  \n",
       "3        1.115281  False  \n",
       "4        1.115281  False  \n",
       "5        1.115281   True  \n",
       "6        1.115281   True  \n",
       "7        1.115281   True  \n",
       "8        1.115281   True  \n",
       "9        1.115281   True  "
      ]
     },
     "metadata": {},
     "output_type": "display_data"
    }
   ],
   "source": [
    "non_feature_columns = ['timestamp', 'y_pred_proba', 'y_pred', 'repaid']\n",
    "\n",
    "feature_column_names = [\n",
    "     col for col in reference_df.columns\n",
    "     if col not in non_feature_columns\n",
    "]\n",
    "\n",
    "calc = nml.DataReconstructionDriftCalculator(\n",
    "     column_names=feature_column_names,\n",
    "     timestamp_column_name='timestamp',\n",
    "     chunk_size=5000\n",
    ")\n",
    "calc.fit(reference_df)\n",
    "results = calc.calculate(analysis_df)\n",
    "\n",
    "display(results.filter(period='analysis').to_df())\n"
   ]
  },
  {
   "cell_type": "code",
   "execution_count": 4,
   "metadata": {},
   "outputs": [
    {
     "data": {
      "text/html": [
       "<div>\n",
       "<style scoped>\n",
       "    .dataframe tbody tr th:only-of-type {\n",
       "        vertical-align: middle;\n",
       "    }\n",
       "\n",
       "    .dataframe tbody tr th {\n",
       "        vertical-align: top;\n",
       "    }\n",
       "\n",
       "    .dataframe thead tr th {\n",
       "        text-align: left;\n",
       "    }\n",
       "</style>\n",
       "<table border=\"1\" class=\"dataframe\">\n",
       "  <thead>\n",
       "    <tr>\n",
       "      <th></th>\n",
       "      <th colspan=\"7\" halign=\"left\">chunk</th>\n",
       "      <th colspan=\"7\" halign=\"left\">reconstruction_error</th>\n",
       "    </tr>\n",
       "    <tr>\n",
       "      <th></th>\n",
       "      <th>key</th>\n",
       "      <th>chunk_index</th>\n",
       "      <th>start_index</th>\n",
       "      <th>end_index</th>\n",
       "      <th>start_date</th>\n",
       "      <th>end_date</th>\n",
       "      <th>period</th>\n",
       "      <th>sampling_error</th>\n",
       "      <th>value</th>\n",
       "      <th>upper_confidence_boundary</th>\n",
       "      <th>lower_confidence_boundary</th>\n",
       "      <th>upper_threshold</th>\n",
       "      <th>lower_threshold</th>\n",
       "      <th>alert</th>\n",
       "    </tr>\n",
       "  </thead>\n",
       "  <tbody>\n",
       "    <tr>\n",
       "      <th>0</th>\n",
       "      <td>[0:4999]</td>\n",
       "      <td>0</td>\n",
       "      <td>0</td>\n",
       "      <td>4999</td>\n",
       "      <td>2018-01-01 00:00:00</td>\n",
       "      <td>2018-01-31 06:27:16.848</td>\n",
       "      <td>reference</td>\n",
       "      <td>0.006996</td>\n",
       "      <td>1.136408</td>\n",
       "      <td>1.157397</td>\n",
       "      <td>1.115420</td>\n",
       "      <td>1.153019</td>\n",
       "      <td>1.115281</td>\n",
       "      <td>False</td>\n",
       "    </tr>\n",
       "    <tr>\n",
       "      <th>1</th>\n",
       "      <td>[5000:9999]</td>\n",
       "      <td>1</td>\n",
       "      <td>5000</td>\n",
       "      <td>9999</td>\n",
       "      <td>2018-01-31 06:36:00</td>\n",
       "      <td>2018-03-02 13:03:16.848</td>\n",
       "      <td>reference</td>\n",
       "      <td>0.006996</td>\n",
       "      <td>1.134478</td>\n",
       "      <td>1.155466</td>\n",
       "      <td>1.113490</td>\n",
       "      <td>1.153019</td>\n",
       "      <td>1.115281</td>\n",
       "      <td>False</td>\n",
       "    </tr>\n",
       "    <tr>\n",
       "      <th>2</th>\n",
       "      <td>[10000:14999]</td>\n",
       "      <td>2</td>\n",
       "      <td>10000</td>\n",
       "      <td>14999</td>\n",
       "      <td>2018-03-02 13:12:00</td>\n",
       "      <td>2018-04-01 19:39:16.848</td>\n",
       "      <td>reference</td>\n",
       "      <td>0.006996</td>\n",
       "      <td>1.136076</td>\n",
       "      <td>1.157065</td>\n",
       "      <td>1.115088</td>\n",
       "      <td>1.153019</td>\n",
       "      <td>1.115281</td>\n",
       "      <td>False</td>\n",
       "    </tr>\n",
       "    <tr>\n",
       "      <th>3</th>\n",
       "      <td>[15000:19999]</td>\n",
       "      <td>3</td>\n",
       "      <td>15000</td>\n",
       "      <td>19999</td>\n",
       "      <td>2018-04-01 19:48:00</td>\n",
       "      <td>2018-05-02 02:15:16.848</td>\n",
       "      <td>reference</td>\n",
       "      <td>0.006996</td>\n",
       "      <td>1.140114</td>\n",
       "      <td>1.161103</td>\n",
       "      <td>1.119126</td>\n",
       "      <td>1.153019</td>\n",
       "      <td>1.115281</td>\n",
       "      <td>False</td>\n",
       "    </tr>\n",
       "    <tr>\n",
       "      <th>4</th>\n",
       "      <td>[20000:24999]</td>\n",
       "      <td>4</td>\n",
       "      <td>20000</td>\n",
       "      <td>24999</td>\n",
       "      <td>2018-05-02 02:24:00</td>\n",
       "      <td>2018-06-01 08:51:16.848</td>\n",
       "      <td>reference</td>\n",
       "      <td>0.006996</td>\n",
       "      <td>1.126078</td>\n",
       "      <td>1.147067</td>\n",
       "      <td>1.105090</td>\n",
       "      <td>1.153019</td>\n",
       "      <td>1.115281</td>\n",
       "      <td>False</td>\n",
       "    </tr>\n",
       "    <tr>\n",
       "      <th>5</th>\n",
       "      <td>[25000:29999]</td>\n",
       "      <td>5</td>\n",
       "      <td>25000</td>\n",
       "      <td>29999</td>\n",
       "      <td>2018-06-01 09:00:00</td>\n",
       "      <td>2018-07-01 15:27:16.848</td>\n",
       "      <td>reference</td>\n",
       "      <td>0.006996</td>\n",
       "      <td>1.142018</td>\n",
       "      <td>1.163006</td>\n",
       "      <td>1.121029</td>\n",
       "      <td>1.153019</td>\n",
       "      <td>1.115281</td>\n",
       "      <td>False</td>\n",
       "    </tr>\n",
       "    <tr>\n",
       "      <th>6</th>\n",
       "      <td>[30000:34999]</td>\n",
       "      <td>6</td>\n",
       "      <td>30000</td>\n",
       "      <td>34999</td>\n",
       "      <td>2018-07-01 15:36:00</td>\n",
       "      <td>2018-07-31 22:03:16.848</td>\n",
       "      <td>reference</td>\n",
       "      <td>0.006996</td>\n",
       "      <td>1.125146</td>\n",
       "      <td>1.146135</td>\n",
       "      <td>1.104158</td>\n",
       "      <td>1.153019</td>\n",
       "      <td>1.115281</td>\n",
       "      <td>False</td>\n",
       "    </tr>\n",
       "    <tr>\n",
       "      <th>7</th>\n",
       "      <td>[35000:39999]</td>\n",
       "      <td>7</td>\n",
       "      <td>35000</td>\n",
       "      <td>39999</td>\n",
       "      <td>2018-07-31 22:12:00</td>\n",
       "      <td>2018-08-31 04:39:16.848</td>\n",
       "      <td>reference</td>\n",
       "      <td>0.006996</td>\n",
       "      <td>1.143206</td>\n",
       "      <td>1.164195</td>\n",
       "      <td>1.122218</td>\n",
       "      <td>1.153019</td>\n",
       "      <td>1.115281</td>\n",
       "      <td>False</td>\n",
       "    </tr>\n",
       "    <tr>\n",
       "      <th>8</th>\n",
       "      <td>[40000:44999]</td>\n",
       "      <td>8</td>\n",
       "      <td>40000</td>\n",
       "      <td>44999</td>\n",
       "      <td>2018-08-31 04:48:00</td>\n",
       "      <td>2018-09-30 11:15:16.848</td>\n",
       "      <td>reference</td>\n",
       "      <td>0.006996</td>\n",
       "      <td>1.130954</td>\n",
       "      <td>1.151942</td>\n",
       "      <td>1.109965</td>\n",
       "      <td>1.153019</td>\n",
       "      <td>1.115281</td>\n",
       "      <td>False</td>\n",
       "    </tr>\n",
       "    <tr>\n",
       "      <th>9</th>\n",
       "      <td>[45000:49999]</td>\n",
       "      <td>9</td>\n",
       "      <td>45000</td>\n",
       "      <td>49999</td>\n",
       "      <td>2018-09-30 11:24:00</td>\n",
       "      <td>2018-10-30 17:51:16.848</td>\n",
       "      <td>reference</td>\n",
       "      <td>0.006996</td>\n",
       "      <td>1.127026</td>\n",
       "      <td>1.148014</td>\n",
       "      <td>1.106037</td>\n",
       "      <td>1.153019</td>\n",
       "      <td>1.115281</td>\n",
       "      <td>False</td>\n",
       "    </tr>\n",
       "  </tbody>\n",
       "</table>\n",
       "</div>"
      ],
      "text/plain": [
       "           chunk                                                        \\\n",
       "             key chunk_index start_index end_index          start_date   \n",
       "0       [0:4999]           0           0      4999 2018-01-01 00:00:00   \n",
       "1    [5000:9999]           1        5000      9999 2018-01-31 06:36:00   \n",
       "2  [10000:14999]           2       10000     14999 2018-03-02 13:12:00   \n",
       "3  [15000:19999]           3       15000     19999 2018-04-01 19:48:00   \n",
       "4  [20000:24999]           4       20000     24999 2018-05-02 02:24:00   \n",
       "5  [25000:29999]           5       25000     29999 2018-06-01 09:00:00   \n",
       "6  [30000:34999]           6       30000     34999 2018-07-01 15:36:00   \n",
       "7  [35000:39999]           7       35000     39999 2018-07-31 22:12:00   \n",
       "8  [40000:44999]           8       40000     44999 2018-08-31 04:48:00   \n",
       "9  [45000:49999]           9       45000     49999 2018-09-30 11:24:00   \n",
       "\n",
       "                                     reconstruction_error            \\\n",
       "                 end_date     period       sampling_error     value   \n",
       "0 2018-01-31 06:27:16.848  reference             0.006996  1.136408   \n",
       "1 2018-03-02 13:03:16.848  reference             0.006996  1.134478   \n",
       "2 2018-04-01 19:39:16.848  reference             0.006996  1.136076   \n",
       "3 2018-05-02 02:15:16.848  reference             0.006996  1.140114   \n",
       "4 2018-06-01 08:51:16.848  reference             0.006996  1.126078   \n",
       "5 2018-07-01 15:27:16.848  reference             0.006996  1.142018   \n",
       "6 2018-07-31 22:03:16.848  reference             0.006996  1.125146   \n",
       "7 2018-08-31 04:39:16.848  reference             0.006996  1.143206   \n",
       "8 2018-09-30 11:15:16.848  reference             0.006996  1.130954   \n",
       "9 2018-10-30 17:51:16.848  reference             0.006996  1.127026   \n",
       "\n",
       "                                                                       \\\n",
       "  upper_confidence_boundary lower_confidence_boundary upper_threshold   \n",
       "0                  1.157397                  1.115420        1.153019   \n",
       "1                  1.155466                  1.113490        1.153019   \n",
       "2                  1.157065                  1.115088        1.153019   \n",
       "3                  1.161103                  1.119126        1.153019   \n",
       "4                  1.147067                  1.105090        1.153019   \n",
       "5                  1.163006                  1.121029        1.153019   \n",
       "6                  1.146135                  1.104158        1.153019   \n",
       "7                  1.164195                  1.122218        1.153019   \n",
       "8                  1.151942                  1.109965        1.153019   \n",
       "9                  1.148014                  1.106037        1.153019   \n",
       "\n",
       "                          \n",
       "  lower_threshold  alert  \n",
       "0        1.115281  False  \n",
       "1        1.115281  False  \n",
       "2        1.115281  False  \n",
       "3        1.115281  False  \n",
       "4        1.115281  False  \n",
       "5        1.115281  False  \n",
       "6        1.115281  False  \n",
       "7        1.115281  False  \n",
       "8        1.115281  False  \n",
       "9        1.115281  False  "
      ]
     },
     "metadata": {},
     "output_type": "display_data"
    },
    {
     "data": {
      "application/vnd.plotly.v1+json": {
       "config": {
        "plotlyServerURL": "https://plot.ly"
       },
       "data": [
        {
         "hoverinfo": "skip",
         "legendgroup": "metric_reference",
         "line": {
          "color": "#00c8e5",
          "shape": "hv",
          "width": 2
         },
         "mode": "lines",
         "name": "Metric",
         "showlegend": true,
         "type": "scatter",
         "x": [
          "2018-01-01T00:00:00",
          "2018-01-31T06:36:00",
          "2018-03-02T13:12:00",
          "2018-04-01T19:48:00",
          "2018-05-02T02:24:00",
          "2018-06-01T09:00:00",
          "2018-07-01T15:36:00",
          "2018-07-31T22:12:00",
          "2018-08-31T04:48:00",
          "2018-09-30T11:24:00",
          "2018-10-30T17:51:16.848000"
         ],
         "y": [
          1.1364081809409246,
          1.134477989486864,
          1.1360763923259611,
          1.1401143964629235,
          1.126078113672781,
          1.1420178225541335,
          1.1251463791670575,
          1.1432061571057692,
          1.1309535105091153,
          1.1270259419997948,
          1.1270259419997948
         ]
        },
        {
         "customdata": [
          [
           "Data reconstruction drift",
           "<b style=\"color:#00c8e5;line-height:60px\">Reference</b>",
           "",
           "[0:4999]",
           "From <b>Jan-01-2018</b> to <b>Jan-31-2018</b>",
           1.1364,
           0.021
          ],
          [
           "Data reconstruction drift",
           "<b style=\"color:#00c8e5;line-height:60px\">Reference</b>",
           "",
           "[5000:9999]",
           "From <b>Jan-31-2018</b> to <b>Mar-02-2018</b>",
           1.1345,
           0.021
          ],
          [
           "Data reconstruction drift",
           "<b style=\"color:#00c8e5;line-height:60px\">Reference</b>",
           "",
           "[10000:14999]",
           "From <b>Mar-02-2018</b> to <b>Apr-01-2018</b>",
           1.1361,
           0.021
          ],
          [
           "Data reconstruction drift",
           "<b style=\"color:#00c8e5;line-height:60px\">Reference</b>",
           "",
           "[15000:19999]",
           "From <b>Apr-01-2018</b> to <b>May-02-2018</b>",
           1.1401,
           0.021
          ],
          [
           "Data reconstruction drift",
           "<b style=\"color:#00c8e5;line-height:60px\">Reference</b>",
           "",
           "[20000:24999]",
           "From <b>May-02-2018</b> to <b>Jun-01-2018</b>",
           1.1261,
           0.021
          ],
          [
           "Data reconstruction drift",
           "<b style=\"color:#00c8e5;line-height:60px\">Reference</b>",
           "",
           "[25000:29999]",
           "From <b>Jun-01-2018</b> to <b>Jul-01-2018</b>",
           1.142,
           0.021
          ],
          [
           "Data reconstruction drift",
           "<b style=\"color:#00c8e5;line-height:60px\">Reference</b>",
           "",
           "[30000:34999]",
           "From <b>Jul-01-2018</b> to <b>Jul-31-2018</b>",
           1.1251,
           0.021
          ],
          [
           "Data reconstruction drift",
           "<b style=\"color:#00c8e5;line-height:60px\">Reference</b>",
           "",
           "[35000:39999]",
           "From <b>Jul-31-2018</b> to <b>Aug-31-2018</b>",
           1.1432,
           0.021
          ],
          [
           "Data reconstruction drift",
           "<b style=\"color:#00c8e5;line-height:60px\">Reference</b>",
           "",
           "[40000:44999]",
           "From <b>Aug-31-2018</b> to <b>Sep-30-2018</b>",
           1.131,
           0.021
          ],
          [
           "Data reconstruction drift",
           "<b style=\"color:#00c8e5;line-height:60px\">Reference</b>",
           "",
           "[45000:49999]",
           "From <b>Sep-30-2018</b> to <b>Oct-30-2018</b>",
           1.127,
           0.021
          ]
         ],
         "hovertemplate": "%{customdata[1]} &nbsp; &nbsp; %{customdata[2]} <br />Chunk: <b>%{customdata[3]}</b> &nbsp; &nbsp; %{customdata[4]} <br />%{customdata[0]}: <b>%{customdata[5]}</b><br />Confidence band: +/- <b>%{customdata[6]}</b><br /><extra></extra>",
         "legendgroup": "metric_reference",
         "marker": {
          "color": "#00c8e5",
          "size": 5,
          "symbol": "circle"
         },
         "mode": "markers",
         "name": "Metric",
         "showlegend": false,
         "type": "scatter",
         "x": [
          "2018-01-16T03:18:00",
          "2018-02-15T09:54:00",
          "2018-03-17T16:30:00",
          "2018-04-16T23:06:00",
          "2018-05-17T05:42:00",
          "2018-06-16T12:18:00",
          "2018-07-16T18:54:00",
          "2018-08-16T01:30:00",
          "2018-09-15T08:06:00",
          "2018-10-15T14:37:38.424000"
         ],
         "y": [
          1.1364081809409246,
          1.134477989486864,
          1.1360763923259611,
          1.1401143964629235,
          1.126078113672781,
          1.1420178225541335,
          1.1251463791670575,
          1.1432061571057692,
          1.1309535105091153,
          1.1270259419997948,
          1.1270259419997948
         ]
        },
        {
         "hoverinfo": "skip",
         "legendgroup": "metric_analysis",
         "line": {
          "color": "#00c8e5",
          "shape": "hv",
          "width": 2
         },
         "mode": "lines",
         "name": "Metric",
         "showlegend": false,
         "type": "scatter",
         "x": [
          "2018-10-30T18:00:00",
          "2018-11-30T00:36:00",
          "2018-12-30T07:12:00",
          "2019-01-29T13:48:00",
          "2019-02-28T20:24:00",
          "2019-03-31T03:00:00",
          "2019-04-30T09:36:00",
          "2019-05-30T16:12:00",
          "2019-06-29T22:48:00",
          "2019-07-30T05:24:00",
          "2019-08-29T11:51:16.848000"
         ],
         "y": [
          1.1415167360570921,
          1.1306364046263673,
          1.1389142568036612,
          1.145040278718482,
          1.1375628170543015,
          1.249205229639025,
          1.243101488735435,
          1.2581468610835445,
          1.2281786294002086,
          1.2598837521769455,
          1.2598837521769455
         ]
        },
        {
         "customdata": [
          [
           "Data reconstruction drift",
           "<b style=\"color:#3b0280;line-height:60px\">Analysis</b>",
           "",
           "[0:4999]",
           "From <b>Oct-30-2018</b> to <b>Nov-30-2018</b>",
           1.1415,
           0.021
          ],
          [
           "Data reconstruction drift",
           "<b style=\"color:#3b0280;line-height:60px\">Analysis</b>",
           "",
           "[5000:9999]",
           "From <b>Nov-30-2018</b> to <b>Dec-30-2018</b>",
           1.1306,
           0.021
          ],
          [
           "Data reconstruction drift",
           "<b style=\"color:#3b0280;line-height:60px\">Analysis</b>",
           "",
           "[10000:14999]",
           "From <b>Dec-30-2018</b> to <b>Jan-29-2019</b>",
           1.1389,
           0.021
          ],
          [
           "Data reconstruction drift",
           "<b style=\"color:#3b0280;line-height:60px\">Analysis</b>",
           "",
           "[15000:19999]",
           "From <b>Jan-29-2019</b> to <b>Feb-28-2019</b>",
           1.145,
           0.021
          ],
          [
           "Data reconstruction drift",
           "<b style=\"color:#3b0280;line-height:60px\">Analysis</b>",
           "",
           "[20000:24999]",
           "From <b>Feb-28-2019</b> to <b>Mar-31-2019</b>",
           1.1376,
           0.021
          ],
          [
           "Data reconstruction drift",
           "<b style=\"color:#3b0280;line-height:60px\">Analysis</b>",
           "<span style=\"color:#AD0000\">⚠ <b>Drift detected</b></span>",
           "[25000:29999]",
           "From <b>Mar-31-2019</b> to <b>Apr-30-2019</b>",
           1.2492,
           0.021
          ],
          [
           "Data reconstruction drift",
           "<b style=\"color:#3b0280;line-height:60px\">Analysis</b>",
           "<span style=\"color:#AD0000\">⚠ <b>Drift detected</b></span>",
           "[30000:34999]",
           "From <b>Apr-30-2019</b> to <b>May-30-2019</b>",
           1.2431,
           0.021
          ],
          [
           "Data reconstruction drift",
           "<b style=\"color:#3b0280;line-height:60px\">Analysis</b>",
           "<span style=\"color:#AD0000\">⚠ <b>Drift detected</b></span>",
           "[35000:39999]",
           "From <b>May-30-2019</b> to <b>Jun-29-2019</b>",
           1.2581,
           0.021
          ],
          [
           "Data reconstruction drift",
           "<b style=\"color:#3b0280;line-height:60px\">Analysis</b>",
           "<span style=\"color:#AD0000\">⚠ <b>Drift detected</b></span>",
           "[40000:44999]",
           "From <b>Jun-29-2019</b> to <b>Jul-30-2019</b>",
           1.2282,
           0.021
          ],
          [
           "Data reconstruction drift",
           "<b style=\"color:#3b0280;line-height:60px\">Analysis</b>",
           "<span style=\"color:#AD0000\">⚠ <b>Drift detected</b></span>",
           "[45000:49999]",
           "From <b>Jul-30-2019</b> to <b>Aug-29-2019</b>",
           1.2599,
           0.021
          ]
         ],
         "hovertemplate": "%{customdata[1]} &nbsp; &nbsp; %{customdata[2]} <br />Chunk: <b>%{customdata[3]}</b> &nbsp; &nbsp; %{customdata[4]} <br />%{customdata[0]}: <b>%{customdata[5]}</b><br />Confidence band: +/- <b>%{customdata[6]}</b><br /><extra></extra>",
         "legendgroup": "metric_analysis",
         "marker": {
          "color": "#00c8e5",
          "size": 5,
          "symbol": "circle"
         },
         "mode": "markers",
         "name": "Metric",
         "showlegend": false,
         "type": "scatter",
         "x": [
          "2018-11-14T21:18:00",
          "2018-12-15T03:54:00",
          "2019-01-14T10:30:00",
          "2019-02-13T17:06:00",
          "2019-03-15T23:42:00",
          "2019-04-15T06:18:00",
          "2019-05-15T12:54:00",
          "2019-06-14T19:30:00",
          "2019-07-15T02:06:00",
          "2019-08-14T08:37:38.424000"
         ],
         "y": [
          1.1415167360570921,
          1.1306364046263673,
          1.1389142568036612,
          1.145040278718482,
          1.1375628170543015,
          1.249205229639025,
          1.243101488735435,
          1.2581468610835445,
          1.2281786294002086,
          1.2598837521769455,
          1.2598837521769455
         ]
        },
        {
         "hoverinfo": "skip",
         "legendgroup": "alert",
         "marker": {
          "color": "#DD4040",
          "size": 8,
          "symbol": "diamond"
         },
         "mode": "markers",
         "name": "Alert",
         "showlegend": true,
         "type": "scatter",
         "x": [
          "2019-04-15T06:18:00",
          "2019-05-15T12:54:00",
          "2019-06-14T19:30:00",
          "2019-07-15T02:06:00",
          "2019-08-14T08:37:38.424000"
         ],
         "y": [
          1.249205229639025,
          1.243101488735435,
          1.2581468610835445,
          1.2281786294002086,
          1.2598837521769455
         ]
        },
        {
         "hoverinfo": "skip",
         "legendgroup": "thresh",
         "line": {
          "color": "#DD4040",
          "dash": "dash",
          "width": 2
         },
         "mode": "lines",
         "name": "Threshold",
         "showlegend": false,
         "type": "scatter",
         "x": [
          "2018-01-01T00:00:00",
          "2018-01-31T06:36:00",
          "2018-03-02T13:12:00",
          "2018-04-01T19:48:00",
          "2018-05-02T02:24:00",
          "2018-06-01T09:00:00",
          "2018-07-01T15:36:00",
          "2018-07-31T22:12:00",
          "2018-08-31T04:48:00",
          "2018-09-30T11:24:00",
          "2018-10-30T17:51:16.848000"
         ],
         "y": [
          1.1530194836139025,
          1.1530194836139025,
          1.1530194836139025,
          1.1530194836139025,
          1.1530194836139025,
          1.1530194836139025,
          1.1530194836139025,
          1.1530194836139025,
          1.1530194836139025,
          1.1530194836139025,
          1.1530194836139025
         ]
        },
        {
         "hoverinfo": "skip",
         "legendgroup": "thresh",
         "line": {
          "color": "#DD4040",
          "dash": "dash",
          "width": 2
         },
         "mode": "lines",
         "name": "Threshold",
         "showlegend": false,
         "type": "scatter",
         "x": [
          "2018-01-01T00:00:00",
          "2018-01-31T06:36:00",
          "2018-03-02T13:12:00",
          "2018-04-01T19:48:00",
          "2018-05-02T02:24:00",
          "2018-06-01T09:00:00",
          "2018-07-01T15:36:00",
          "2018-07-31T22:12:00",
          "2018-08-31T04:48:00",
          "2018-09-30T11:24:00",
          "2018-10-30T17:51:16.848000"
         ],
         "y": [
          1.1152814932311623,
          1.1152814932311623,
          1.1152814932311623,
          1.1152814932311623,
          1.1152814932311623,
          1.1152814932311623,
          1.1152814932311623,
          1.1152814932311623,
          1.1152814932311623,
          1.1152814932311623,
          1.1152814932311623
         ]
        },
        {
         "hoverinfo": "skip",
         "legendgroup": "thresh",
         "line": {
          "color": "#DD4040",
          "dash": "dash",
          "width": 2
         },
         "mode": "lines",
         "name": "Threshold",
         "showlegend": false,
         "type": "scatter",
         "x": [
          "2018-10-30T18:00:00",
          "2018-11-30T00:36:00",
          "2018-12-30T07:12:00",
          "2019-01-29T13:48:00",
          "2019-02-28T20:24:00",
          "2019-03-31T03:00:00",
          "2019-04-30T09:36:00",
          "2019-05-30T16:12:00",
          "2019-06-29T22:48:00",
          "2019-07-30T05:24:00",
          "2019-08-29T11:51:16.848000"
         ],
         "y": [
          1.1530194836139025,
          1.1530194836139025,
          1.1530194836139025,
          1.1530194836139025,
          1.1530194836139025,
          1.1530194836139025,
          1.1530194836139025,
          1.1530194836139025,
          1.1530194836139025,
          1.1530194836139025,
          1.1530194836139025
         ]
        },
        {
         "hoverinfo": "skip",
         "legendgroup": "thresh",
         "line": {
          "color": "#DD4040",
          "dash": "dash",
          "width": 2
         },
         "mode": "lines",
         "name": "Threshold",
         "showlegend": false,
         "type": "scatter",
         "x": [
          "2018-10-30T18:00:00",
          "2018-11-30T00:36:00",
          "2018-12-30T07:12:00",
          "2019-01-29T13:48:00",
          "2019-02-28T20:24:00",
          "2019-03-31T03:00:00",
          "2019-04-30T09:36:00",
          "2019-05-30T16:12:00",
          "2019-06-29T22:48:00",
          "2019-07-30T05:24:00",
          "2019-08-29T11:51:16.848000"
         ],
         "y": [
          1.1152814932311623,
          1.1152814932311623,
          1.1152814932311623,
          1.1152814932311623,
          1.1152814932311623,
          1.1152814932311623,
          1.1152814932311623,
          1.1152814932311623,
          1.1152814932311623,
          1.1152814932311623,
          1.1152814932311623
         ]
        },
        {
         "hoverinfo": "skip",
         "line": {
          "color": "rgba(0,0,0,0)",
          "shape": "hv"
         },
         "mode": "lines",
         "name": "Confidence band",
         "showlegend": false,
         "type": "scatter",
         "x": [
          "2018-01-01T00:00:00",
          "2018-01-31T06:36:00",
          "2018-03-02T13:12:00",
          "2018-04-01T19:48:00",
          "2018-05-02T02:24:00",
          "2018-06-01T09:00:00",
          "2018-07-01T15:36:00",
          "2018-07-31T22:12:00",
          "2018-08-31T04:48:00",
          "2018-09-30T11:24:00",
          "2018-10-30T17:51:16.848000"
         ],
         "y": [
          1.1573966671575404,
          1.1554664757034798,
          1.157064878542577,
          1.1611028826795393,
          1.147066599889397,
          1.1630063087707494,
          1.1461348653836734,
          1.164194643322385,
          1.1519419967257312,
          1.1480144282164106,
          1.1480144282164106
         ]
        },
        {
         "fill": "tonexty",
         "fillcolor": "rgba(0.0, 0.7843137254901961, 0.8980392156862745, 0.2)",
         "hoverinfo": "skip",
         "line": {
          "color": "rgba(0,0,0,0)",
          "shape": "hv"
         },
         "mode": "lines",
         "name": "Confidence band",
         "showlegend": true,
         "type": "scatter",
         "x": [
          "2018-01-01T00:00:00",
          "2018-01-31T06:36:00",
          "2018-03-02T13:12:00",
          "2018-04-01T19:48:00",
          "2018-05-02T02:24:00",
          "2018-06-01T09:00:00",
          "2018-07-01T15:36:00",
          "2018-07-31T22:12:00",
          "2018-08-31T04:48:00",
          "2018-09-30T11:24:00",
          "2018-10-30T17:51:16.848000"
         ],
         "y": [
          1.1154196947243087,
          1.113489503270248,
          1.1150879061093453,
          1.1191259102463076,
          1.1050896274561652,
          1.1210293363375177,
          1.1041578929504416,
          1.1222176708891534,
          1.1099650242924994,
          1.106037455783179,
          1.106037455783179
         ]
        },
        {
         "hoverinfo": "skip",
         "line": {
          "color": "rgba(0,0,0,0)",
          "shape": "hv"
         },
         "mode": "lines",
         "name": "Confidence band",
         "showlegend": false,
         "type": "scatter",
         "x": [
          "2018-10-30T18:00:00",
          "2018-11-30T00:36:00",
          "2018-12-30T07:12:00",
          "2019-01-29T13:48:00",
          "2019-02-28T20:24:00",
          "2019-03-31T03:00:00",
          "2019-04-30T09:36:00",
          "2019-05-30T16:12:00",
          "2019-06-29T22:48:00",
          "2019-07-30T05:24:00",
          "2019-08-29T11:51:16.848000"
         ],
         "y": [
          1.162505222273708,
          1.1516248908429831,
          1.159902743020277,
          1.1660287649350978,
          1.1585513032709174,
          1.270193715855641,
          1.2640899749520509,
          1.2791353473001603,
          1.2491671156168245,
          1.2808722383935613,
          1.2808722383935613
         ]
        },
        {
         "fill": "tonexty",
         "fillcolor": "rgba(0.0, 0.7843137254901961, 0.8980392156862745, 0.2)",
         "hoverinfo": "skip",
         "line": {
          "color": "rgba(0,0,0,0)",
          "shape": "hv"
         },
         "mode": "lines",
         "name": "Confidence band",
         "showlegend": false,
         "type": "scatter",
         "x": [
          "2018-10-30T18:00:00",
          "2018-11-30T00:36:00",
          "2018-12-30T07:12:00",
          "2019-01-29T13:48:00",
          "2019-02-28T20:24:00",
          "2019-03-31T03:00:00",
          "2019-04-30T09:36:00",
          "2019-05-30T16:12:00",
          "2019-06-29T22:48:00",
          "2019-07-30T05:24:00",
          "2019-08-29T11:51:16.848000"
         ],
         "y": [
          1.1205282498404763,
          1.1096479184097514,
          1.1179257705870453,
          1.124051792501866,
          1.1165743308376856,
          1.2282167434224092,
          1.2221130025188192,
          1.2371583748669286,
          1.2071901431835927,
          1.2388952659603296,
          1.2388952659603296
         ]
        }
       ],
       "layout": {
        "annotations": [
         {
          "showarrow": false,
          "text": "Reference",
          "x": "2018-05-17T05:42:00",
          "xshift": 10,
          "y": 1.01,
          "yref": "y domain"
         },
         {
          "showarrow": false,
          "text": "Analysis",
          "x": "2019-03-15T23:42:00",
          "xshift": 15,
          "y": 1.01,
          "yref": "y domain"
         }
        ],
        "hoverlabel": {
         "bgcolor": "white",
         "font": {
          "size": 14
         }
        },
        "legend": {
         "itemclick": false,
         "itemdoubleclick": false,
         "traceorder": "grouped"
        },
        "paper_bgcolor": "rgba(255,255,255,1)",
        "plot_bgcolor": "rgba(255,255,255,1)",
        "shapes": [
         {
          "layer": "below",
          "line": {
           "color": "#666666",
           "width": 1
          },
          "type": "line",
          "x0": "2018-10-30T18:00:00",
          "x1": "2018-10-30T18:00:00",
          "xref": "x",
          "y0": 0,
          "y1": 1,
          "yref": "y domain"
         }
        ],
        "template": {
         "data": {
          "bar": [
           {
            "error_x": {
             "color": "#2a3f5f"
            },
            "error_y": {
             "color": "#2a3f5f"
            },
            "marker": {
             "line": {
              "color": "#E5ECF6",
              "width": 0.5
             },
             "pattern": {
              "fillmode": "overlay",
              "size": 10,
              "solidity": 0.2
             }
            },
            "type": "bar"
           }
          ],
          "barpolar": [
           {
            "marker": {
             "line": {
              "color": "#E5ECF6",
              "width": 0.5
             },
             "pattern": {
              "fillmode": "overlay",
              "size": 10,
              "solidity": 0.2
             }
            },
            "type": "barpolar"
           }
          ],
          "carpet": [
           {
            "aaxis": {
             "endlinecolor": "#2a3f5f",
             "gridcolor": "white",
             "linecolor": "white",
             "minorgridcolor": "white",
             "startlinecolor": "#2a3f5f"
            },
            "baxis": {
             "endlinecolor": "#2a3f5f",
             "gridcolor": "white",
             "linecolor": "white",
             "minorgridcolor": "white",
             "startlinecolor": "#2a3f5f"
            },
            "type": "carpet"
           }
          ],
          "choropleth": [
           {
            "colorbar": {
             "outlinewidth": 0,
             "ticks": ""
            },
            "type": "choropleth"
           }
          ],
          "contour": [
           {
            "colorbar": {
             "outlinewidth": 0,
             "ticks": ""
            },
            "colorscale": [
             [
              0,
              "#0d0887"
             ],
             [
              0.1111111111111111,
              "#46039f"
             ],
             [
              0.2222222222222222,
              "#7201a8"
             ],
             [
              0.3333333333333333,
              "#9c179e"
             ],
             [
              0.4444444444444444,
              "#bd3786"
             ],
             [
              0.5555555555555556,
              "#d8576b"
             ],
             [
              0.6666666666666666,
              "#ed7953"
             ],
             [
              0.7777777777777778,
              "#fb9f3a"
             ],
             [
              0.8888888888888888,
              "#fdca26"
             ],
             [
              1,
              "#f0f921"
             ]
            ],
            "type": "contour"
           }
          ],
          "contourcarpet": [
           {
            "colorbar": {
             "outlinewidth": 0,
             "ticks": ""
            },
            "type": "contourcarpet"
           }
          ],
          "heatmap": [
           {
            "colorbar": {
             "outlinewidth": 0,
             "ticks": ""
            },
            "colorscale": [
             [
              0,
              "#0d0887"
             ],
             [
              0.1111111111111111,
              "#46039f"
             ],
             [
              0.2222222222222222,
              "#7201a8"
             ],
             [
              0.3333333333333333,
              "#9c179e"
             ],
             [
              0.4444444444444444,
              "#bd3786"
             ],
             [
              0.5555555555555556,
              "#d8576b"
             ],
             [
              0.6666666666666666,
              "#ed7953"
             ],
             [
              0.7777777777777778,
              "#fb9f3a"
             ],
             [
              0.8888888888888888,
              "#fdca26"
             ],
             [
              1,
              "#f0f921"
             ]
            ],
            "type": "heatmap"
           }
          ],
          "heatmapgl": [
           {
            "colorbar": {
             "outlinewidth": 0,
             "ticks": ""
            },
            "colorscale": [
             [
              0,
              "#0d0887"
             ],
             [
              0.1111111111111111,
              "#46039f"
             ],
             [
              0.2222222222222222,
              "#7201a8"
             ],
             [
              0.3333333333333333,
              "#9c179e"
             ],
             [
              0.4444444444444444,
              "#bd3786"
             ],
             [
              0.5555555555555556,
              "#d8576b"
             ],
             [
              0.6666666666666666,
              "#ed7953"
             ],
             [
              0.7777777777777778,
              "#fb9f3a"
             ],
             [
              0.8888888888888888,
              "#fdca26"
             ],
             [
              1,
              "#f0f921"
             ]
            ],
            "type": "heatmapgl"
           }
          ],
          "histogram": [
           {
            "marker": {
             "pattern": {
              "fillmode": "overlay",
              "size": 10,
              "solidity": 0.2
             }
            },
            "type": "histogram"
           }
          ],
          "histogram2d": [
           {
            "colorbar": {
             "outlinewidth": 0,
             "ticks": ""
            },
            "colorscale": [
             [
              0,
              "#0d0887"
             ],
             [
              0.1111111111111111,
              "#46039f"
             ],
             [
              0.2222222222222222,
              "#7201a8"
             ],
             [
              0.3333333333333333,
              "#9c179e"
             ],
             [
              0.4444444444444444,
              "#bd3786"
             ],
             [
              0.5555555555555556,
              "#d8576b"
             ],
             [
              0.6666666666666666,
              "#ed7953"
             ],
             [
              0.7777777777777778,
              "#fb9f3a"
             ],
             [
              0.8888888888888888,
              "#fdca26"
             ],
             [
              1,
              "#f0f921"
             ]
            ],
            "type": "histogram2d"
           }
          ],
          "histogram2dcontour": [
           {
            "colorbar": {
             "outlinewidth": 0,
             "ticks": ""
            },
            "colorscale": [
             [
              0,
              "#0d0887"
             ],
             [
              0.1111111111111111,
              "#46039f"
             ],
             [
              0.2222222222222222,
              "#7201a8"
             ],
             [
              0.3333333333333333,
              "#9c179e"
             ],
             [
              0.4444444444444444,
              "#bd3786"
             ],
             [
              0.5555555555555556,
              "#d8576b"
             ],
             [
              0.6666666666666666,
              "#ed7953"
             ],
             [
              0.7777777777777778,
              "#fb9f3a"
             ],
             [
              0.8888888888888888,
              "#fdca26"
             ],
             [
              1,
              "#f0f921"
             ]
            ],
            "type": "histogram2dcontour"
           }
          ],
          "mesh3d": [
           {
            "colorbar": {
             "outlinewidth": 0,
             "ticks": ""
            },
            "type": "mesh3d"
           }
          ],
          "parcoords": [
           {
            "line": {
             "colorbar": {
              "outlinewidth": 0,
              "ticks": ""
             }
            },
            "type": "parcoords"
           }
          ],
          "pie": [
           {
            "automargin": true,
            "type": "pie"
           }
          ],
          "scatter": [
           {
            "fillpattern": {
             "fillmode": "overlay",
             "size": 10,
             "solidity": 0.2
            },
            "type": "scatter"
           }
          ],
          "scatter3d": [
           {
            "line": {
             "colorbar": {
              "outlinewidth": 0,
              "ticks": ""
             }
            },
            "marker": {
             "colorbar": {
              "outlinewidth": 0,
              "ticks": ""
             }
            },
            "type": "scatter3d"
           }
          ],
          "scattercarpet": [
           {
            "marker": {
             "colorbar": {
              "outlinewidth": 0,
              "ticks": ""
             }
            },
            "type": "scattercarpet"
           }
          ],
          "scattergeo": [
           {
            "marker": {
             "colorbar": {
              "outlinewidth": 0,
              "ticks": ""
             }
            },
            "type": "scattergeo"
           }
          ],
          "scattergl": [
           {
            "marker": {
             "colorbar": {
              "outlinewidth": 0,
              "ticks": ""
             }
            },
            "type": "scattergl"
           }
          ],
          "scattermapbox": [
           {
            "marker": {
             "colorbar": {
              "outlinewidth": 0,
              "ticks": ""
             }
            },
            "type": "scattermapbox"
           }
          ],
          "scatterpolar": [
           {
            "marker": {
             "colorbar": {
              "outlinewidth": 0,
              "ticks": ""
             }
            },
            "type": "scatterpolar"
           }
          ],
          "scatterpolargl": [
           {
            "marker": {
             "colorbar": {
              "outlinewidth": 0,
              "ticks": ""
             }
            },
            "type": "scatterpolargl"
           }
          ],
          "scatterternary": [
           {
            "marker": {
             "colorbar": {
              "outlinewidth": 0,
              "ticks": ""
             }
            },
            "type": "scatterternary"
           }
          ],
          "surface": [
           {
            "colorbar": {
             "outlinewidth": 0,
             "ticks": ""
            },
            "colorscale": [
             [
              0,
              "#0d0887"
             ],
             [
              0.1111111111111111,
              "#46039f"
             ],
             [
              0.2222222222222222,
              "#7201a8"
             ],
             [
              0.3333333333333333,
              "#9c179e"
             ],
             [
              0.4444444444444444,
              "#bd3786"
             ],
             [
              0.5555555555555556,
              "#d8576b"
             ],
             [
              0.6666666666666666,
              "#ed7953"
             ],
             [
              0.7777777777777778,
              "#fb9f3a"
             ],
             [
              0.8888888888888888,
              "#fdca26"
             ],
             [
              1,
              "#f0f921"
             ]
            ],
            "type": "surface"
           }
          ],
          "table": [
           {
            "cells": {
             "fill": {
              "color": "#EBF0F8"
             },
             "line": {
              "color": "white"
             }
            },
            "header": {
             "fill": {
              "color": "#C8D4E3"
             },
             "line": {
              "color": "white"
             }
            },
            "type": "table"
           }
          ]
         },
         "layout": {
          "annotationdefaults": {
           "arrowcolor": "#2a3f5f",
           "arrowhead": 0,
           "arrowwidth": 1
          },
          "autotypenumbers": "strict",
          "coloraxis": {
           "colorbar": {
            "outlinewidth": 0,
            "ticks": ""
           }
          },
          "colorscale": {
           "diverging": [
            [
             0,
             "#8e0152"
            ],
            [
             0.1,
             "#c51b7d"
            ],
            [
             0.2,
             "#de77ae"
            ],
            [
             0.3,
             "#f1b6da"
            ],
            [
             0.4,
             "#fde0ef"
            ],
            [
             0.5,
             "#f7f7f7"
            ],
            [
             0.6,
             "#e6f5d0"
            ],
            [
             0.7,
             "#b8e186"
            ],
            [
             0.8,
             "#7fbc41"
            ],
            [
             0.9,
             "#4d9221"
            ],
            [
             1,
             "#276419"
            ]
           ],
           "sequential": [
            [
             0,
             "#0d0887"
            ],
            [
             0.1111111111111111,
             "#46039f"
            ],
            [
             0.2222222222222222,
             "#7201a8"
            ],
            [
             0.3333333333333333,
             "#9c179e"
            ],
            [
             0.4444444444444444,
             "#bd3786"
            ],
            [
             0.5555555555555556,
             "#d8576b"
            ],
            [
             0.6666666666666666,
             "#ed7953"
            ],
            [
             0.7777777777777778,
             "#fb9f3a"
            ],
            [
             0.8888888888888888,
             "#fdca26"
            ],
            [
             1,
             "#f0f921"
            ]
           ],
           "sequentialminus": [
            [
             0,
             "#0d0887"
            ],
            [
             0.1111111111111111,
             "#46039f"
            ],
            [
             0.2222222222222222,
             "#7201a8"
            ],
            [
             0.3333333333333333,
             "#9c179e"
            ],
            [
             0.4444444444444444,
             "#bd3786"
            ],
            [
             0.5555555555555556,
             "#d8576b"
            ],
            [
             0.6666666666666666,
             "#ed7953"
            ],
            [
             0.7777777777777778,
             "#fb9f3a"
            ],
            [
             0.8888888888888888,
             "#fdca26"
            ],
            [
             1,
             "#f0f921"
            ]
           ]
          },
          "colorway": [
           "#636efa",
           "#EF553B",
           "#00cc96",
           "#ab63fa",
           "#FFA15A",
           "#19d3f3",
           "#FF6692",
           "#B6E880",
           "#FF97FF",
           "#FECB52"
          ],
          "font": {
           "color": "#2a3f5f"
          },
          "geo": {
           "bgcolor": "white",
           "lakecolor": "white",
           "landcolor": "#E5ECF6",
           "showlakes": true,
           "showland": true,
           "subunitcolor": "white"
          },
          "hoverlabel": {
           "align": "left"
          },
          "hovermode": "closest",
          "mapbox": {
           "style": "light"
          },
          "paper_bgcolor": "white",
          "plot_bgcolor": "#E5ECF6",
          "polar": {
           "angularaxis": {
            "gridcolor": "white",
            "linecolor": "white",
            "ticks": ""
           },
           "bgcolor": "#E5ECF6",
           "radialaxis": {
            "gridcolor": "white",
            "linecolor": "white",
            "ticks": ""
           }
          },
          "scene": {
           "xaxis": {
            "backgroundcolor": "#E5ECF6",
            "gridcolor": "white",
            "gridwidth": 2,
            "linecolor": "white",
            "showbackground": true,
            "ticks": "",
            "zerolinecolor": "white"
           },
           "yaxis": {
            "backgroundcolor": "#E5ECF6",
            "gridcolor": "white",
            "gridwidth": 2,
            "linecolor": "white",
            "showbackground": true,
            "ticks": "",
            "zerolinecolor": "white"
           },
           "zaxis": {
            "backgroundcolor": "#E5ECF6",
            "gridcolor": "white",
            "gridwidth": 2,
            "linecolor": "white",
            "showbackground": true,
            "ticks": "",
            "zerolinecolor": "white"
           }
          },
          "shapedefaults": {
           "line": {
            "color": "#2a3f5f"
           }
          },
          "ternary": {
           "aaxis": {
            "gridcolor": "white",
            "linecolor": "white",
            "ticks": ""
           },
           "baxis": {
            "gridcolor": "white",
            "linecolor": "white",
            "ticks": ""
           },
           "bgcolor": "#E5ECF6",
           "caxis": {
            "gridcolor": "white",
            "linecolor": "white",
            "ticks": ""
           }
          },
          "title": {
           "x": 0.05
          },
          "xaxis": {
           "automargin": true,
           "gridcolor": "white",
           "linecolor": "white",
           "ticks": "",
           "title": {
            "standoff": 15
           },
           "zerolinecolor": "white",
           "zerolinewidth": 2
          },
          "yaxis": {
           "automargin": true,
           "gridcolor": "white",
           "linecolor": "white",
           "ticks": "",
           "title": {
            "standoff": 15
           },
           "zerolinecolor": "white",
           "zerolinewidth": 2
          }
         }
        },
        "title": {
         "text": "Multivariate drift (PCA reconstruction error)"
        },
        "xaxis": {
         "linecolor": "#3b0280",
         "matches": "x",
         "mirror": true,
         "showgrid": false,
         "title": {
          "text": "Time"
         },
         "zeroline": false
        },
        "yaxis": {
         "linecolor": "#3b0280",
         "mirror": true,
         "showgrid": false,
         "title": {
          "text": "Data reconstruction drift"
         },
         "zeroline": false
        }
       }
      }
     },
     "metadata": {},
     "output_type": "display_data"
    }
   ],
   "source": [
    "display(results.filter(period='reference').to_df())\n",
    "\n",
    "figure = results.plot()\n",
    "figure.show()"
   ]
  }
 ],
 "metadata": {
  "kernelspec": {
   "display_name": "book",
   "language": "python",
   "name": "python3"
  },
  "language_info": {
   "codemirror_mode": {
    "name": "ipython",
    "version": 3
   },
   "file_extension": ".py",
   "mimetype": "text/x-python",
   "name": "python",
   "nbconvert_exporter": "python",
   "pygments_lexer": "ipython3",
   "version": "3.10.14"
  }
 },
 "nbformat": 4,
 "nbformat_minor": 2
}
