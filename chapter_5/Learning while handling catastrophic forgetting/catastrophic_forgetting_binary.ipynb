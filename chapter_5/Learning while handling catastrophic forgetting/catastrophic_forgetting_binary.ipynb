{
 "cells": [
  {
   "cell_type": "markdown",
   "metadata": {},
   "source": [
    "# Catastrophic forgetting during binary classification"
   ]
  },
  {
   "cell_type": "code",
   "execution_count": 24,
   "metadata": {},
   "outputs": [
    {
     "data": {
      "text/plain": [
       "<torch._C.Generator at 0x112e2fed0>"
      ]
     },
     "execution_count": 24,
     "metadata": {},
     "output_type": "execute_result"
    }
   ],
   "source": [
    "from __future__ import print_function\n",
    "import argparse\n",
    "import torch\n",
    "import torch.nn as nn\n",
    "import torch.nn.functional as F\n",
    "import torch.optim as optim\n",
    "from torchvision import datasets, transforms\n",
    "from torch.optim.lr_scheduler import StepLR\n",
    "from torch.utils.data import random_split\n",
    "from torch.utils.data import Subset, DataLoader, random_split\n",
    "from torchvision import datasets, transforms\n",
    "import torch.optim as optim\n",
    "from torch.optim.lr_scheduler import StepLR\n",
    "import matplotlib.pyplot as plt\n",
    "import os\n",
    "# Set the seed for PyTorch\n",
    "torch.manual_seed(42)"
   ]
  },
  {
   "cell_type": "markdown",
   "metadata": {},
   "source": [
    "Adapted from Original Pytorch github https://github.com/pytorch/examples/blob/main/mnist/main.py "
   ]
  },
  {
   "cell_type": "code",
   "execution_count": 25,
   "metadata": {},
   "outputs": [],
   "source": [
    "class Net(nn.Module):\n",
    "    def __init__(self):\n",
    "        super(Net, self).__init__()\n",
    "        self.conv1 = nn.Conv2d(1, 32, 3, 1)\n",
    "        self.conv2 = nn.Conv2d(32, 64, 3, 1)\n",
    "        self.dropout1 = nn.Dropout(0.25)\n",
    "        self.dropout2 = nn.Dropout(0.5)\n",
    "        self.fc1 = nn.Linear(9216, 128)\n",
    "        self.fc2 = nn.Linear(128, 2) # adapt to 2 classes [1 or 0]\n",
    "\n",
    "    def forward(self, x):\n",
    "        x = self.conv1(x)\n",
    "        x = F.relu(x)\n",
    "        x = self.conv2(x)\n",
    "        x = F.relu(x)\n",
    "        x = F.max_pool2d(x, 2)\n",
    "        x = self.dropout1(x)\n",
    "        x = torch.flatten(x, 1)\n",
    "        x = self.fc1(x)\n",
    "        x = F.relu(x)\n",
    "        x = self.dropout2(x)\n",
    "        x = self.fc2(x)\n",
    "        output = F.log_softmax(x, dim=1)\n",
    "        return output\n",
    "    "
   ]
  },
  {
   "cell_type": "code",
   "execution_count": 26,
   "metadata": {},
   "outputs": [
    {
     "name": "stdout",
     "output_type": "stream",
     "text": [
      "Train Epoch: 1 [0/172 (0%)]\tLoss: 0.710694\n",
      "\n",
      "Test set: Average loss: 0.0146, Accuracy: 25/43 (58%)\n",
      "\n",
      "Epoch 1/14: Training Loss: 0.0116, Test Accuracy: 58.14%\n",
      "Train Epoch: 2 [0/172 (0%)]\tLoss: 0.718812\n",
      "\n",
      "Test set: Average loss: 0.0146, Accuracy: 25/43 (58%)\n",
      "\n",
      "Epoch 2/14: Training Loss: 0.0122, Test Accuracy: 58.14%\n",
      "Train Epoch: 3 [0/172 (0%)]\tLoss: 0.733826\n",
      "\n",
      "Test set: Average loss: 0.0146, Accuracy: 25/43 (58%)\n",
      "\n",
      "Epoch 3/14: Training Loss: 0.0120, Test Accuracy: 58.14%\n",
      "Train Epoch: 4 [0/172 (0%)]\tLoss: 0.692886\n",
      "\n",
      "Test set: Average loss: 0.0146, Accuracy: 25/43 (58%)\n",
      "\n",
      "Epoch 4/14: Training Loss: 0.0115, Test Accuracy: 58.14%\n",
      "Train Epoch: 5 [0/172 (0%)]\tLoss: 0.722565\n",
      "\n",
      "Test set: Average loss: 0.0146, Accuracy: 25/43 (58%)\n",
      "\n",
      "Epoch 5/14: Training Loss: 0.0120, Test Accuracy: 58.14%\n",
      "Train Epoch: 6 [0/172 (0%)]\tLoss: 0.741944\n",
      "\n",
      "Test set: Average loss: 0.0146, Accuracy: 25/43 (58%)\n",
      "\n",
      "Epoch 6/14: Training Loss: 0.0123, Test Accuracy: 58.14%\n",
      "Train Epoch: 7 [0/172 (0%)]\tLoss: 0.703187\n",
      "\n",
      "Test set: Average loss: 0.0146, Accuracy: 25/43 (58%)\n",
      "\n",
      "Epoch 7/14: Training Loss: 0.0113, Test Accuracy: 58.14%\n",
      "Train Epoch: 8 [0/172 (0%)]\tLoss: 0.747879\n",
      "\n",
      "Test set: Average loss: 0.0146, Accuracy: 25/43 (58%)\n",
      "\n",
      "Epoch 8/14: Training Loss: 0.0124, Test Accuracy: 58.14%\n",
      "Train Epoch: 9 [0/172 (0%)]\tLoss: 0.738190\n",
      "\n",
      "Test set: Average loss: 0.0146, Accuracy: 25/43 (58%)\n",
      "\n",
      "Epoch 9/14: Training Loss: 0.0119, Test Accuracy: 58.14%\n",
      "Train Epoch: 10 [0/172 (0%)]\tLoss: 0.722565\n",
      "\n",
      "Test set: Average loss: 0.0146, Accuracy: 25/43 (58%)\n",
      "\n",
      "Epoch 10/14: Training Loss: 0.0121, Test Accuracy: 58.14%\n",
      "Train Epoch: 11 [0/172 (0%)]\tLoss: 0.660065\n",
      "\n",
      "Test set: Average loss: 0.0146, Accuracy: 25/43 (58%)\n",
      "\n",
      "Epoch 11/14: Training Loss: 0.0118, Test Accuracy: 58.14%\n",
      "Train Epoch: 12 [0/172 (0%)]\tLoss: 0.709122\n",
      "\n",
      "Test set: Average loss: 0.0146, Accuracy: 25/43 (58%)\n",
      "\n",
      "Epoch 12/14: Training Loss: 0.0117, Test Accuracy: 58.14%\n",
      "Train Epoch: 13 [0/172 (0%)]\tLoss: 0.714447\n",
      "\n",
      "Test set: Average loss: 0.0146, Accuracy: 25/43 (58%)\n",
      "\n",
      "Epoch 13/14: Training Loss: 0.0118, Test Accuracy: 58.14%\n",
      "Train Epoch: 14 [0/172 (0%)]\tLoss: 0.710694\n",
      "\n",
      "Test set: Average loss: 0.0146, Accuracy: 25/43 (58%)\n",
      "\n",
      "Epoch 14/14: Training Loss: 0.0120, Test Accuracy: 58.14%\n",
      "Model state dict saved to: models/mnist_cnn_task1.pt\n"
     ]
    },
    {
     "data": {
      "image/png": "[encoded data removed]",
      "text/plain": [
       "<Figure size 1200x400 with 2 Axes>"
      ]
     },
     "metadata": {},
     "output_type": "display_data"
    }
   ],
   "source": [
    "\n",
    "def train(args, model, device, train_loader, optimizer, epoch):\n",
    "    model.train()\n",
    "    total_loss = 0.0\n",
    "    correct = 0\n",
    "\n",
    "    for batch_idx, (data, target) in enumerate(train_loader):\n",
    "        data, target = data.to(device), target.to(device)\n",
    "        optimizer.zero_grad()\n",
    "        output = model(data)\n",
    "        predicted_labels = torch.argmax(output, dim=1).float()\n",
    "        # Activate gradients for backpropagation in the predictions\n",
    "        predicted_labels.requires_grad = True \n",
    "        loss_BCE = nn.BCEWithLogitsLoss()\n",
    "        loss = loss_BCE(predicted_labels, target.float())\n",
    "        total_loss += loss.item()\n",
    "        # Calculate accuracy\n",
    "        pred = output.argmax(dim=1, keepdim=True)\n",
    "        correct += pred.eq(target.view_as(pred)).sum().item()\n",
    "\n",
    "\n",
    "        loss.backward()\n",
    "        optimizer.step()\n",
    "\n",
    "        if batch_idx % args.log_interval == 0:\n",
    "            print('Train Epoch: {} [{}/{} ({:.0f}%)]\\tLoss: {:.6f}'.format(\n",
    "                epoch, batch_idx * len(data), len(train_loader.dataset),\n",
    "                100. * batch_idx / len(train_loader), loss.item()))\n",
    "            if args.dry_run:\n",
    "                break\n",
    "\n",
    "    # Calculate and return the average loss and accuracy\n",
    "    average_loss = total_loss / len(train_loader.dataset)\n",
    "    accuracy = 100.*correct / len(train_loader.dataset)\n",
    "    return accuracy, average_loss\n",
    "def test(model, device, test_loader):\n",
    "    model.eval()\n",
    "    test_loss = 0\n",
    "    correct = 0\n",
    "    with torch.no_grad():\n",
    "        for data, target in test_loader:\n",
    "            data, target = data.to(device), target.to(device)\n",
    "            output = model(data)\n",
    "            predicted_labels = torch.argmax(output, dim=1).float()#.squeeze(1)\n",
    "            # Set requires_grad to True\n",
    "            predicted_labels.requires_grad = True\n",
    "            loss_BCE = nn.BCEWithLogitsLoss()\n",
    "            test_loss += loss_BCE(predicted_labels, target.float()).item()  # sum up batch loss\n",
    "            pred = output.argmax(dim=1, keepdim=True)  # get the index of the max log-probability\n",
    "            correct += pred.eq(target.view_as(pred)).sum().item()\n",
    "\n",
    "    test_loss /= len(test_loader.dataset)\n",
    "    accuracy = 100. * correct / len(test_loader.dataset)\n",
    "    print('\\nTest set: Average loss: {:.4f}, Accuracy: {}/{} ({:.0f}%)\\n'.format(\n",
    "        test_loss, correct, len(test_loader.dataset),\n",
    "        100. * correct / len(test_loader.dataset)))\n",
    "    return accuracy, test_loss\n",
    "\n",
    "def train_and_test(args, model, device, train_loader, test_loader, optimizer, scheduler, title = \"\"):\n",
    "    train_losses = []  # Store training losses\n",
    "    test_accuracies = []  # Store test accuracies\n",
    "    test_losses = [] \n",
    "    train_accuracies = [] \n",
    "\n",
    "    for epoch in range(1, args.epochs + 1):\n",
    "        train_accuracy, train_loss = train(args, model, device, train_loader, optimizer, epoch)\n",
    "        test_accuracy, test_loss = test(model, device, test_loader)\n",
    "        scheduler.step()\n",
    "\n",
    "        \n",
    "        train_accuracies.append(train_accuracy)\n",
    "        train_losses.append(train_loss)\n",
    "        test_accuracies.append(test_accuracy)\n",
    "        test_losses.append(test_loss)\n",
    "\n",
    "            # Print training loss and test accuracy during each epoch\n",
    "        print(f'Epoch {epoch}/{args.epochs}: Training Loss: {train_loss:.4f}, Test Accuracy: {test_accuracy:.2f}%')\n",
    "        \n",
    "    # Plot loss and accuracy after all epochs\n",
    "    plot_loss_and_accuracy(train_accuracies, train_losses, test_accuracies, test_losses, title)\n",
    "\n",
    "def save_model_state_dict(model_state_dict, filename, overwrite=True):\n",
    "    models_folder = \"models\"\n",
    "    \n",
    "    # Check if the models folder exists, if not, create it\n",
    "    if not os.path.exists(models_folder):\n",
    "        os.makedirs(models_folder)\n",
    "\n",
    "    file_path = os.path.join(models_folder, filename)\n",
    "\n",
    "    # Check if the file already exists\n",
    "    if os.path.exists(file_path) and not overwrite:\n",
    "        user_input = input(f\"The file '{filename}' already exists. Do you want to overwrite it? (yes/no): \")\n",
    "        if user_input.lower() != 'yes':\n",
    "            print(\"Model not saved.\")\n",
    "            return\n",
    "\n",
    "    # Save the model state dict\n",
    "    torch.save(model_state_dict, file_path)\n",
    "    print(f\"Model state dict saved to: {file_path}\")\n",
    "def plot_loss_and_accuracy(train_accuracies, train_losses, test_accuracies, test_losses, title = \"\"):\n",
    "    fig, (ax1, ax2) = plt.subplots(1, 2, figsize=(12, 4))\n",
    "\n",
    "    # Plot Training Loss and Accuracy\n",
    "    ax1.plot(train_losses, label='Training Loss')\n",
    "    ax1.plot(train_accuracies, label='Training Accuracy')\n",
    "    ax1.set_xlabel('Epoch')\n",
    "    ax1.set_title(f'{title} - training data')\n",
    "    ax1.legend()\n",
    "\n",
    "    # Plot Testing Loss and Accuracy\n",
    "    ax2.plot(test_losses, label='Testing Loss')\n",
    "    ax2.plot(test_accuracies, label='Testing Accuracy')\n",
    "    ax2.set_xlabel('Epoch')\n",
    "    ax2.set_title(f'{title} - testing data')\n",
    "    ax2.legend()\n",
    "def plot_loss_and_accuracy_single(test_accuracies, test_losses, title = \"\"):\n",
    "    fig, (ax2) = plt.subplots(1, 1, figsize=(12, 4))\n",
    "    # Plot Testing Loss and Accuracy\n",
    "    ax2.plot(test_losses, label='Testing Loss')\n",
    "    ax2.plot(test_accuracies, label='Testing Accuracy')\n",
    "    ax2.set_xlabel('Epoch')\n",
    "    ax2.set_title(f'{title} - testing data')\n",
    "    ax2.legend()\n",
    "\n",
    "    \n",
    "def get_data_loaders(dataset, train_size, test_size, train_kwargs, test_kwargs):\n",
    "    train_set, test_set = random_split(dataset, [train_size, test_size])\n",
    "    train_loader = DataLoader(train_set, **train_kwargs)\n",
    "    test_loader = DataLoader(test_set, **test_kwargs)\n",
    "    return train_loader, test_loader\n",
    "\n",
    "\n",
    "parser = argparse.ArgumentParser(description='PyTorch MNIST Example')\n",
    "parser.add_argument('--batch-size', type=int, default=64, metavar='N',\n",
    "                        help='input batch size for training (default: 64)')\n",
    "parser.add_argument('--test-batch-size', type=int, default=1000, metavar='N',\n",
    "                        help='input batch size for testing (default: 1000)')\n",
    "parser.add_argument('--epochs', type=int, default=14, metavar='N',\n",
    "                        help='number of epochs to train (default: 14)')\n",
    "parser.add_argument('--lr', type=float, default=1.0, metavar='LR',\n",
    "                        help='learning rate (default: 1.0)')\n",
    "parser.add_argument('--gamma', type=float, default=0.7, metavar='M',\n",
    "                        help='Learning rate step gamma (default: 0.7)')\n",
    "parser.add_argument('--no-cuda', action='store_true', default=False,\n",
    "                        help='disables CUDA training')\n",
    "parser.add_argument('--no-mps', action='store_true', default=False,\n",
    "                        help='disables macOS GPU training')\n",
    "parser.add_argument('--dry-run', action='store_true', default=False,\n",
    "                        help='quickly check a single pass')\n",
    "parser.add_argument('--seed', type=int, default=1, metavar='S',\n",
    "                        help='random seed (default: 1)')\n",
    "parser.add_argument('--log-interval', type=int, default=10, metavar='N',\n",
    "                        help='how many batches to wait before logging training status')\n",
    "parser.add_argument('--save-model', action='store_true', default=False,\n",
    "                        help='For Saving the current Model')\n",
    "parser.add_argument('--test_reduced', action='store_true', default=True,\n",
    "                        help='For Saving the current Model')\n",
    "\n",
    "# args = parser.parse_args()\n",
    "args, unknown = parser.parse_known_args()\n",
    "use_cuda = not args.no_cuda and torch.cuda.is_available()\n",
    "use_mps = not args.no_mps and torch.backends.mps.is_available()\n",
    "    \n",
    "torch.manual_seed(args.seed)\n",
    "\n",
    "if use_cuda:\n",
    "        device = torch.device(\"cuda\")\n",
    "elif use_mps:\n",
    "        device = torch.device(\"mps\")\n",
    "else:\n",
    "        device = torch.device(\"cpu\")\n",
    "\n",
    "train_kwargs = {'batch_size': args.batch_size}\n",
    "test_kwargs = {'batch_size': args.test_batch_size}\n",
    "\n",
    "if 'cuda' in str(device):\n",
    "        cuda_kwargs = {'num_workers': 1, 'pin_memory': True, 'shuffle': True}\n",
    "        train_kwargs.update(cuda_kwargs)\n",
    "        test_kwargs.update(cuda_kwargs)\n",
    "\n",
    "transform = transforms.Compose([transforms.ToTensor(), transforms.Normalize((0.1307,), (0.3081,))])\n",
    "mnist_dataset = datasets.MNIST(root=\"./data\", train=True, transform=transform, download=True)\n",
    "\n",
    "if args.test_reduced:\n",
    "        sampled_indices = torch.randperm(len(mnist_dataset))[:1000]\n",
    "        mnist_dataset = Subset(mnist_dataset, sampled_indices)\n",
    "\n",
    "# Define task 1 labeling\n",
    "task1_classes = [1,0]\n",
    "# Define task 2 labeling\n",
    "task2_classes = [5,0]\n",
    "\n",
    "task1_indices = [i for i, (_, label) in enumerate(mnist_dataset) if label in task1_classes]\n",
    "task2_indices = [i for i, (_, label) in enumerate(mnist_dataset) if label in task2_classes]\n",
    "\n",
    "task1_dataset = Subset(mnist_dataset, task1_indices)\n",
    "task2_dataset = Subset(mnist_dataset, task2_indices)\n",
    "\n",
    "train_size_task1 = int(0.8 * len(task1_indices))\n",
    "test_size_task1 = len(task1_indices) - train_size_task1\n",
    "\n",
    "train_size_task2 = int(0.8 * len(task2_indices))\n",
    "test_size_task2 = len(task2_indices) - train_size_task2\n",
    "\n",
    "train_loader_task1, test_loader_task1 = get_data_loaders(task1_dataset, train_size_task1, test_size_task1,\n",
    "                                                             train_kwargs, test_kwargs)\n",
    "model = Net().to(device)\n",
    "optimizer = optim.Adadelta(model.parameters(), lr=args.lr)\n",
    "scheduler = StepLR(optimizer, step_size=1, gamma=args.gamma)\n",
    "train_and_test(args, model, device, train_loader_task1, test_loader_task1, optimizer, scheduler,title=\"Task 1: \")\n",
    "model_state_dict_task1 = model.state_dict()\n",
    "save_model_state_dict(model_state_dict_task1, \"mnist_cnn_task1.pt\")"
   ]
  },
  {
   "cell_type": "markdown",
   "metadata": {},
   "source": [
    "Test model trained on task 1 over testing data"
   ]
  },
  {
   "cell_type": "code",
   "execution_count": 27,
   "metadata": {},
   "outputs": [
    {
     "name": "stdout",
     "output_type": "stream",
     "text": [
      "\n",
      "Test set: Average loss: 0.0146, Accuracy: 25/43 (58%)\n",
      "\n"
     ]
    },
    {
     "data": {
      "text/plain": [
       "(58.13953488372093, 0.014605989289838214)"
      ]
     },
     "execution_count": 27,
     "metadata": {},
     "output_type": "execute_result"
    }
   ],
   "source": [
    "test(model, device, test_loader_task1)"
   ]
  },
  {
   "cell_type": "markdown",
   "metadata": {},
   "source": [
    "Finetune model, trained on task 1 with new labels of task 2\n"
   ]
  },
  {
   "cell_type": "code",
   "execution_count": 28,
   "metadata": {},
   "outputs": [
    {
     "name": "stdout",
     "output_type": "stream",
     "text": [
      "-------------------MODEL TRAINING TASK #2-------------------\n",
      "Train Epoch: 1 [0/140 (0%)]\tLoss: -0.236496\n",
      "\n",
      "Test set: Average loss: 0.0055, Accuracy: 19/35 (54%)\n",
      "\n",
      "Epoch 1/14: Training Loss: 0.0030, Test Accuracy: 54.29%\n",
      "Train Epoch: 2 [0/140 (0%)]\tLoss: 0.154740\n",
      "\n",
      "Test set: Average loss: 0.0055, Accuracy: 19/35 (54%)\n",
      "\n",
      "Epoch 2/14: Training Loss: 0.0054, Test Accuracy: 54.29%\n",
      "Train Epoch: 3 [0/140 (0%)]\tLoss: 0.144440\n",
      "\n",
      "Test set: Average loss: 0.0055, Accuracy: 19/35 (54%)\n",
      "\n",
      "Epoch 3/14: Training Loss: 0.0085, Test Accuracy: 54.29%\n",
      "Train Epoch: 4 [0/140 (0%)]\tLoss: 0.037247\n",
      "\n",
      "Test set: Average loss: 0.0055, Accuracy: 19/35 (54%)\n",
      "\n",
      "Epoch 4/14: Training Loss: 0.0049, Test Accuracy: 54.29%\n",
      "Train Epoch: 5 [0/140 (0%)]\tLoss: 0.027558\n",
      "\n",
      "Test set: Average loss: 0.0055, Accuracy: 19/35 (54%)\n",
      "\n",
      "Epoch 5/14: Training Loss: 0.0036, Test Accuracy: 54.29%\n",
      "Train Epoch: 6 [0/140 (0%)]\tLoss: -0.031188\n",
      "\n",
      "Test set: Average loss: 0.0055, Accuracy: 19/35 (54%)\n",
      "\n",
      "Epoch 6/14: Training Loss: 0.0020, Test Accuracy: 54.29%\n",
      "Train Epoch: 7 [0/140 (0%)]\tLoss: 0.301301\n",
      "\n",
      "Test set: Average loss: 0.0055, Accuracy: 19/35 (54%)\n",
      "\n",
      "Epoch 7/14: Training Loss: 0.0040, Test Accuracy: 54.29%\n",
      "Train Epoch: 8 [0/140 (0%)]\tLoss: 0.037247\n",
      "\n",
      "Test set: Average loss: 0.0055, Accuracy: 19/35 (54%)\n",
      "\n",
      "Epoch 8/14: Training Loss: 0.0040, Test Accuracy: 54.29%\n",
      "Train Epoch: 9 [0/140 (0%)]\tLoss: 0.183808\n",
      "\n",
      "Test set: Average loss: 0.0055, Accuracy: 19/35 (54%)\n",
      "\n",
      "Epoch 9/14: Training Loss: 0.0041, Test Accuracy: 54.29%\n",
      "Train Epoch: 10 [0/140 (0%)]\tLoss: -0.158371\n",
      "\n",
      "Test set: Average loss: 0.0055, Accuracy: 19/35 (54%)\n",
      "\n",
      "Epoch 10/14: Training Loss: 0.0026, Test Accuracy: 54.29%\n",
      "Train Epoch: 11 [0/140 (0%)]\tLoss: -0.187438\n",
      "\n",
      "Test set: Average loss: 0.0055, Accuracy: 19/35 (54%)\n",
      "\n",
      "Epoch 11/14: Training Loss: -0.0021, Test Accuracy: 54.29%\n",
      "Train Epoch: 12 [0/140 (0%)]\tLoss: -0.020888\n",
      "\n",
      "Test set: Average loss: 0.0055, Accuracy: 19/35 (54%)\n",
      "\n",
      "Epoch 12/14: Training Loss: -0.0016, Test Accuracy: 54.29%\n",
      "Train Epoch: 13 [0/140 (0%)]\tLoss: -0.080246\n",
      "\n",
      "Test set: Average loss: 0.0055, Accuracy: 19/35 (54%)\n",
      "\n",
      "Epoch 13/14: Training Loss: 0.0035, Test Accuracy: 54.29%\n",
      "Train Epoch: 14 [0/140 (0%)]\tLoss: 0.252244\n",
      "\n",
      "Test set: Average loss: 0.0055, Accuracy: 19/35 (54%)\n",
      "\n",
      "Epoch 14/14: Training Loss: 0.0059, Test Accuracy: 54.29%\n",
      "Model state dict saved to: models/mnist_cnn_task2.pt\n"
     ]
    },
    {
     "data": {
      "image/png": "[encoded data removed]",
      "text/plain": [
       "<Figure size 1200x400 with 2 Axes>"
      ]
     },
     "metadata": {},
     "output_type": "display_data"
    }
   ],
   "source": [
    "model_task2 = Net().to(device)\n",
    "model_task2.load_state_dict(model_state_dict_task1.copy()) \n",
    "optimizer_task2 = optim.Adadelta(model_task2.parameters(), lr=args.lr)\n",
    "scheduler_task2 = StepLR(optimizer_task2, step_size=1, gamma=args.gamma)\n",
    "\n",
    "print(f\"MODEL TRAINING TASK #2\".center(60, \"-\"))\n",
    "\n",
    "train_loader_task2, test_loader_task2 = get_data_loaders(task2_dataset, train_size_task2, test_size_task2,\n",
    "                                                             train_kwargs, test_kwargs)\n",
    "\n",
    "train_and_test(args, model_task2, device, train_loader_task2, test_loader_task2, optimizer_task2, scheduler_task2, title=\"Task 2: \")\n",
    "\n",
    "model_state_dict_task2 = model_task2.state_dict()\n",
    "save_model_state_dict(model_state_dict_task1, \"mnist_cnn_task2.pt\")\n"
   ]
  },
  {
   "cell_type": "markdown",
   "metadata": {},
   "source": [
    "Test model finetuned in task 2 over second data"
   ]
  },
  {
   "cell_type": "code",
   "execution_count": 29,
   "metadata": {},
   "outputs": [
    {
     "name": "stdout",
     "output_type": "stream",
     "text": [
      "\n",
      "Test set: Average loss: 0.0055, Accuracy: 19/35 (54%)\n",
      "\n"
     ]
    },
    {
     "data": {
      "text/plain": [
       "(54.285714285714285, 0.005502538595880781)"
      ]
     },
     "execution_count": 29,
     "metadata": {},
     "output_type": "execute_result"
    }
   ],
   "source": [
    "test(model_task2, device, test_loader_task2)"
   ]
  },
  {
   "cell_type": "markdown",
   "metadata": {},
   "source": [
    "## Testing model again on task 1\n"
   ]
  },
  {
   "cell_type": "code",
   "execution_count": 31,
   "metadata": {},
   "outputs": [
    {
     "name": "stdout",
     "output_type": "stream",
     "text": [
      "\n",
      "Test set: Average loss: 0.0160, Accuracy: 20/43 (47%)\n",
      "\n"
     ]
    },
    {
     "data": {
      "text/plain": [
       "(46.51162790697674, 0.016023032887037412)"
      ]
     },
     "execution_count": 31,
     "metadata": {},
     "output_type": "execute_result"
    }
   ],
   "source": [
    "model_task1_adapted = Net().to(device)\n",
    "model_task1_adapted.load_state_dict(model_state_dict_task2.copy()) \n",
    "optimizer_task1_adapted = optim.Adadelta(model_task1_adapted.parameters(), lr=args.lr)\n",
    "scheduler_taskadapted = StepLR(optimizer_task1_adapted, step_size=1, gamma=args.gamma)\n",
    "train_loader_task1_adapted, test_loader_task1_adapted = get_data_loaders(task1_dataset, train_size_task1, test_size_task1,\n",
    "                                                             train_kwargs, test_kwargs)\n",
    "test(model_task1_adapted, device, test_loader_task1_adapted)"
   ]
  }
 ],
 "metadata": {
  "kernelspec": {
   "display_name": "book",
   "language": "python",
   "name": "python3"
  },
  "language_info": {
   "codemirror_mode": {
    "name": "ipython",
    "version": 3
   },
   "file_extension": ".py",
   "mimetype": "text/x-python",
   "name": "python",
   "nbconvert_exporter": "python",
   "pygments_lexer": "ipython3",
   "version": "3.10.13"
  }
 },
 "nbformat": 4,
 "nbformat_minor": 2
}
