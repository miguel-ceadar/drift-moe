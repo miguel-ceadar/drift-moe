{
 "cells": [
  {
   "cell_type": "code",
   "execution_count": null,
   "id": "06f4ccde-505a-47a7-b6c1-0d955a1b2874",
   "metadata": {
    "tags": []
   },
   "outputs": [],
   "source": [
    "from river import datasets\n",
    "from river import evaluate\n",
    "from river import linear_model\n",
    "from river import metrics\n",
    "from river import optim\n",
    "from river import preprocessing\n",
    "from river import drift\n",
    "import pickle\n",
    "import numpy as np\n",
    "from sklearn.linear_model import LogisticRegression"
   ]
  },
  {
   "cell_type": "code",
   "execution_count": null,
   "id": "afec7d4a-57c1-474d-ac92-b32978b37161",
   "metadata": {
    "tags": []
   },
   "outputs": [],
   "source": [
    "# Initialize Dataset\n",
    "dataset = datasets.synth.Agrawal(\n",
    "     classification_function=5,\n",
    "     seed=42\n",
    ")\n",
    "\n",
    "# Load the active model pickle file\n",
    "active_model = pickle.load(open('saved_models/classification/active_model.pkl', 'rb'))\n",
    "\n",
    "# Initialie the ADWIN drift detector\n",
    "drift_detector = drift.ADWIN(delta=1)\n",
    "warning_detector = drift.ADWIN(delta=1.5)\n",
    "drifts = []\n",
    "\n",
    "# Initialise metric\n",
    "metric = metrics.Accuracy()\n",
    "print_warning = True\n",
    "feature_buffer = list()\n",
    "label_buffer = list()\n",
    "\n",
    "for i,data in enumerate(dataset.take(420)):\n",
    "    # data[0] - features, data[1] - label\n",
    "    y_pred = active_model.predict(np.reshape(list(data[0].values()), (-1, 1)).T)\n",
    "    metric = metric.update(data[1],y_pred[0])\n",
    "    correctly_classified = y_pred[0] == data[1]\n",
    "    warning_detector.update(correctly_classified)\n",
    "    # Updating buffers for training new model\n",
    "    feature_buffer.append(list(data[0].values()))\n",
    "    label_buffer.append(data[1])\n",
    "    # The warning detector indicates after each sample if there is a warning in the data\n",
    "    if warning_detector.drift_detected and print_warning:\n",
    "        print(f'Warning detected at index {i}')\n",
    "        print_warning = False\n",
    "        drifts.append(i)\n",
    "        print(f'Training a new model')\n",
    "        background_model = LogisticRegression()\n",
    "        background_model.fit(feature_buffer,label_buffer)\n",
    "    drift_detector.update(correctly_classified)\n",
    "    # The drift detector indicates after each sample if there is a drift in the data\n",
    "    if drift_detector.drift_detected:\n",
    "        print(f\"Change detected at index {i}\")\n",
    "        print_warning = True\n",
    "        print(f\"Replacing active model with background model\")\n",
    "        active_model=background_model"
   ]
  },
  {
   "cell_type": "code",
   "execution_count": null,
   "id": "e21819b5-09af-4513-92ee-3103ec701b9d",
   "metadata": {},
   "outputs": [],
   "source": []
  }
 ],
 "metadata": {
  "kernelspec": {
   "display_name": "Python 3 (ipykernel)",
   "language": "python",
   "name": "python3"
  },
  "language_info": {
   "codemirror_mode": {
    "name": "ipython",
    "version": 3
   },
   "file_extension": ".py",
   "mimetype": "text/x-python",
   "name": "python",
   "nbconvert_exporter": "python",
   "pygments_lexer": "ipython3",
   "version": "3.10.13"
  }
 },
 "nbformat": 4,
 "nbformat_minor": 5
}
