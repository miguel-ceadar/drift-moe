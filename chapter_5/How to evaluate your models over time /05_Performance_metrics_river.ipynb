{
 "cells": [
  {
   "cell_type": "code",
   "execution_count": null,
   "id": "7382b15d-b10b-422d-9fd1-ae93e471c060",
   "metadata": {
    "tags": []
   },
   "outputs": [],
   "source": [
    "import numpy as np\n",
    "import pandas as pd\n",
    "import river\n",
    "import nannyml as nml\n",
    "import pickle\n",
    "import matplotlib.pyplot as plt\n",
    "\n",
    "# Load river modules\n",
    "from river import datasets\n",
    "from river import evaluate\n",
    "from river import linear_model\n",
    "\n",
    "from river import metrics\n",
    "from river import optim\n",
    "from river import preprocessing\n",
    "from river import drift\n",
    "from river.metrics import ClassificationReport"
   ]
  },
  {
   "cell_type": "code",
   "execution_count": null,
   "id": "f1b93e27-6a34-40e2-96ea-f7d8941b4d1c",
   "metadata": {
    "tags": []
   },
   "outputs": [],
   "source": [
    "import pandas as pd\n",
    "from sklearn.metrics import accuracy_score, precision_score, recall_score\n",
    "\n",
    "labels = list()\n",
    "y_preds = list()\n",
    "\n",
    "def update_error_window(label, y_pred, window_size=100):\n",
    "\n",
    "    labels.append(int(label))\n",
    "    y_preds.append(int(y_pred))\n",
    "    lbl_window = pd.Series(labels)[-window_size:]#.rolling(window=window_size)\n",
    "    pred_window = pd.Series(y_preds)[-window_size:]#.rolling(window=window_size)\n",
    "    \n",
    "    accuracy = accuracy_score(lbl_window, pred_window)\n",
    "    precision = precision_score(lbl_window, pred_window)\n",
    "    recall = recall_score(lbl_window, pred_window)\n",
    "    \n",
    "    return accuracy, precision, recall"
   ]
  },
  {
   "cell_type": "code",
   "execution_count": null,
   "id": "d444cb76-ecef-4750-baf0-5ae985e695c3",
   "metadata": {
    "jupyter": {
     "outputs_hidden": true
    },
    "tags": []
   },
   "outputs": [],
   "source": [
    "# Initialize dataset\n",
    "dataset = datasets.synth.Agrawal(\n",
    "     classification_function=0,\n",
    "     seed=42\n",
    ")\n",
    "\n",
    "# Load model pickle file\n",
    "LogRegmodel = pickle.load(open('saved_models/classification/model.pkl', 'rb'))\n",
    "\n",
    "# Initialize drift detector\n",
    "drift_detector = drift.ADWIN(delta=1)\n",
    "\n",
    "# Initializing lists\n",
    "drifts = list()\n",
    "correctly_classified_data = list()\n",
    "acc_scores = list()\n",
    "y_pred = list()\n",
    "y_true = list()\n",
    "\n",
    "# Initialize metrics\n",
    "metric = river.metrics.Accuracy()\n",
    "\n",
    "for i,data in enumerate(dataset.take(20000)):\n",
    "    y_pred_before = LogRegmodel.predict_one(data[0])\n",
    "    y_pred.append(y_pred_before)\n",
    "    y_true.append(data[1])\n",
    "    metric = metric.update(data[1],y_pred_before) # Accuracy\n",
    "    correctly_classified = y_pred_before==data[1]  # checking accuracy\n",
    "    correctly_classified_data.append(correctly_classified)\n",
    "    acc, pre, rec = update_error_window(y_pred_before,data[1])\n",
    "    acc_scores.append(acc)\n",
    "    drift_detector.update(correctly_classified)   # Data is processed one sample at a time\n",
    "    if drift_detector.drift_detected:\n",
    "        # The drift detector indicates after each sample if there is a drift in the data\n",
    "        print(f'Change detected at index {i}')\n",
    "        drifts.append(i)"
   ]
  },
  {
   "cell_type": "code",
   "execution_count": null,
   "id": "14d6ebd0-dfe4-420b-b90b-c7c140f4ec29",
   "metadata": {
    "tags": []
   },
   "outputs": [],
   "source": [
    "drifts"
   ]
  },
  {
   "cell_type": "code",
   "execution_count": null,
   "id": "1f68a5fe-1d62-4330-ad7b-cf245c7cc56e",
   "metadata": {
    "tags": []
   },
   "outputs": [],
   "source": [
    "# Removing 'nan' from accuracy scores\n",
    "acc_scores_cleaned = [x for x in acc_scores if str(x) != 'nan']"
   ]
  },
  {
   "cell_type": "code",
   "execution_count": null,
   "id": "01a91a6a-3166-450c-80f8-d2975ef6bfeb",
   "metadata": {
    "tags": []
   },
   "outputs": [],
   "source": [
    "plt.plot(acc_scores_cleaned[:200])\n",
    "plt.xlabel('Data Stream Samples')\n",
    "plt.ylabel('Accuracy Scores')\n",
    "plt.title('Impact on Accuracy Scores due to Concept Drift')"
   ]
  },
  {
   "cell_type": "code",
   "execution_count": null,
   "id": "93844797-afb2-44bc-a2f9-8b7917ecb7e3",
   "metadata": {
    "tags": []
   },
   "outputs": [],
   "source": [
    "# Converting predictions from boolean to integer\n",
    "y_pred = [int(x) for x in y_pred]"
   ]
  },
  {
   "cell_type": "code",
   "execution_count": null,
   "id": "770256a6-5ce3-4a82-b35a-d619b3c432aa",
   "metadata": {},
   "outputs": [],
   "source": [
    "report = ClassificationReport()\n",
    "for yt,yp in zip(y_true,y_pred):\n",
    "    report = report.update(yt,yp)"
   ]
  },
  {
   "cell_type": "code",
   "execution_count": null,
   "id": "f023d109-dcd2-4d03-81ec-746bef462c89",
   "metadata": {
    "tags": []
   },
   "outputs": [],
   "source": [
    "report"
   ]
  },
  {
   "cell_type": "code",
   "execution_count": null,
   "id": "67177a3b-e4cd-47e9-b3af-a0bbae2be030",
   "metadata": {},
   "outputs": [],
   "source": []
  }
 ],
 "metadata": {
  "kernelspec": {
   "display_name": "Python 3 (ipykernel)",
   "language": "python",
   "name": "python3"
  },
  "language_info": {
   "codemirror_mode": {
    "name": "ipython",
    "version": 3
   },
   "file_extension": ".py",
   "mimetype": "text/x-python",
   "name": "python",
   "nbconvert_exporter": "python",
   "pygments_lexer": "ipython3",
   "version": "3.10.13"
  }
 },
 "nbformat": 4,
 "nbformat_minor": 5
}
