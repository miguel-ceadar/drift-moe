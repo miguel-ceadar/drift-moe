{
 "cells": [
  {
   "cell_type": "code",
   "execution_count": null,
   "id": "1cfd5c88-c171-4ed2-bbb5-92ecde4613b3",
   "metadata": {
    "tags": []
   },
   "outputs": [],
   "source": [
    "import nannyml as nml"
   ]
  },
  {
   "cell_type": "code",
   "execution_count": null,
   "id": "7befa16a-bdd4-47c0-90aa-8addf57c0dfc",
   "metadata": {
    "tags": []
   },
   "outputs": [],
   "source": [
    "reference_df, analysis_df, _ = nml.load_synthetic_car_loan_dataset()"
   ]
  },
  {
   "cell_type": "code",
   "execution_count": null,
   "id": "c388b2af-aa0b-4278-b134-361b41526ec2",
   "metadata": {
    "tags": []
   },
   "outputs": [],
   "source": [
    "reference_df.head()"
   ]
  },
  {
   "cell_type": "code",
   "execution_count": null,
   "id": "8fb69608-f19f-476e-8cbf-718fcefbc218",
   "metadata": {
    "tags": []
   },
   "outputs": [],
   "source": [
    "analysis_df.head()"
   ]
  },
  {
   "cell_type": "markdown",
   "id": "bc5acb54-3ebd-43e7-82a3-21268fa4dfc7",
   "metadata": {},
   "source": [
    "#### Size based chunking"
   ]
  },
  {
   "cell_type": "code",
   "execution_count": null,
   "id": "2e5c3d50-cbcf-45a5-a153-829cdec30b96",
   "metadata": {
    "tags": []
   },
   "outputs": [],
   "source": [
    "cbpe = nml.CBPE(\n",
    "    y_pred_proba='y_pred_proba',\n",
    "    y_pred='y_pred',\n",
    "    y_true='repaid',\n",
    "    timestamp_column_name='timestamp',\n",
    "    metrics=['roc_auc'],\n",
    "    problem_type='classification_binary',\n",
    "    chunk_size=3500, # here we define the chunk size.\n",
    ")"
   ]
  },
  {
   "cell_type": "code",
   "execution_count": null,
   "id": "b89801c4-d913-467d-811d-dc2d6041688b",
   "metadata": {
    "tags": []
   },
   "outputs": [],
   "source": [
    "cbpe.fit(reference_df)"
   ]
  },
  {
   "cell_type": "code",
   "execution_count": null,
   "id": "235f8820-7258-45f1-8a2f-cdfeb9ac8826",
   "metadata": {
    "tags": []
   },
   "outputs": [],
   "source": [
    "est_perf = cbpe.estimate(analysis_df)"
   ]
  },
  {
   "cell_type": "code",
   "execution_count": null,
   "id": "3b87977a-674c-4cc3-8aae-8f48d4a345ea",
   "metadata": {
    "tags": []
   },
   "outputs": [],
   "source": [
    "est_perf.data.iloc[:3, :6]"
   ]
  },
  {
   "cell_type": "code",
   "execution_count": null,
   "id": "5594bc51-5968-43ff-971e-0da2f04f430e",
   "metadata": {
    "tags": []
   },
   "outputs": [],
   "source": [
    "figure = est_perf.plot(kind='performance')"
   ]
  },
  {
   "cell_type": "code",
   "execution_count": null,
   "id": "03d3a694-b8fd-4875-b1ed-1bb029a010a2",
   "metadata": {
    "tags": []
   },
   "outputs": [],
   "source": [
    "figure.show()"
   ]
  },
  {
   "cell_type": "markdown",
   "id": "ec86fb7a-d318-4541-b967-07e938d48576",
   "metadata": {},
   "source": [
    "#### Regression dataset"
   ]
  },
  {
   "cell_type": "code",
   "execution_count": null,
   "id": "8767c5de-49c7-4438-bcaa-c997fde9ea0b",
   "metadata": {
    "tags": []
   },
   "outputs": [],
   "source": [
    "reference_df, analysis_df, analysis_targets_df = nml.datasets.load_synthetic_car_price_dataset()"
   ]
  },
  {
   "cell_type": "code",
   "execution_count": null,
   "id": "5938e859-88ea-4275-b72d-257675160d55",
   "metadata": {
    "tags": []
   },
   "outputs": [],
   "source": [
    "display(reference_df.head())"
   ]
  },
  {
   "cell_type": "code",
   "execution_count": null,
   "id": "b03142b5-c361-4099-a8dc-c63d2bacdea5",
   "metadata": {
    "tags": []
   },
   "outputs": [],
   "source": [
    "display(analysis_df.head())"
   ]
  },
  {
   "cell_type": "code",
   "execution_count": null,
   "id": "52a6ed51-7ee1-41de-b013-65ef00b3681f",
   "metadata": {
    "tags": []
   },
   "outputs": [],
   "source": [
    "display(analysis_targets_df.head())"
   ]
  },
  {
   "cell_type": "code",
   "execution_count": null,
   "id": "a682cbf5-38fd-4bca-a443-48585a8463e5",
   "metadata": {
    "tags": []
   },
   "outputs": [],
   "source": [
    "estimator = nml.DLE(\n",
    "    feature_column_names=['car_age', 'km_driven', 'price_new', 'accident_count',\n",
    "                          'door_count', 'fuel', 'transmission'],\n",
    "    y_pred='y_pred',\n",
    "    y_true='y_true',\n",
    "    timestamp_column_name='timestamp',\n",
    "    metrics=['rmse', 'rmsle'],\n",
    "    chunk_size=6000,\n",
    ")"
   ]
  },
  {
   "cell_type": "code",
   "execution_count": null,
   "id": "3c8c95f5-2c3b-416f-8fa9-8af73ce130fb",
   "metadata": {
    "tags": []
   },
   "outputs": [],
   "source": [
    "estimator.fit(reference_df)"
   ]
  },
  {
   "cell_type": "code",
   "execution_count": null,
   "id": "00f8fab6-da4c-4e80-bea2-ddae4512d7b8",
   "metadata": {
    "tags": []
   },
   "outputs": [],
   "source": [
    "results = estimator.estimate(analysis_df)"
   ]
  },
  {
   "cell_type": "code",
   "execution_count": null,
   "id": "429b6cca-1bcc-452e-9cd2-1c403aca114c",
   "metadata": {
    "tags": []
   },
   "outputs": [],
   "source": [
    "metric_fig = results.plot()"
   ]
  },
  {
   "cell_type": "code",
   "execution_count": null,
   "id": "c49d51b1-289c-4b46-bdcc-1d19f5693ebf",
   "metadata": {
    "tags": []
   },
   "outputs": [],
   "source": [
    "metric_fig.show()"
   ]
  },
  {
   "cell_type": "code",
   "execution_count": null,
   "id": "61713350-a6fc-444b-b083-6b61fe7e8a35",
   "metadata": {},
   "outputs": [],
   "source": []
  }
 ],
 "metadata": {
  "kernelspec": {
   "display_name": "Python 3 (ipykernel)",
   "language": "python",
   "name": "python3"
  },
  "language_info": {
   "codemirror_mode": {
    "name": "ipython",
    "version": 3
   },
   "file_extension": ".py",
   "mimetype": "text/x-python",
   "name": "python",
   "nbconvert_exporter": "python",
   "pygments_lexer": "ipython3",
   "version": "3.10.13"
  }
 },
 "nbformat": 4,
 "nbformat_minor": 5
}
