{
 "cells": [
  {
   "cell_type": "code",
   "execution_count": null,
   "id": "d1f6af59-bce7-4a4c-a68c-4f6f3da0329a",
   "metadata": {
    "tags": []
   },
   "outputs": [],
   "source": [
    "import numpy as np \n",
    "import pandas as pd\n",
    "import pickle"
   ]
  },
  {
   "cell_type": "code",
   "execution_count": null,
   "id": "7cf30175-c8af-44f7-999f-a98b4e928834",
   "metadata": {
    "tags": []
   },
   "outputs": [],
   "source": [
    "# import river modules\n",
    "from river import datasets\n",
    "from river import evaluate\n",
    "from river import metrics\n",
    "from river import optim\n",
    "from river import preprocessing\n",
    "from river import linear_model\n",
    "from river import drift"
   ]
  },
  {
   "cell_type": "markdown",
   "id": "ce4a5ff8-6ba8-43db-9ad1-a0c8ec914a12",
   "metadata": {},
   "source": [
    "#### Drift Detection using DDM "
   ]
  },
  {
   "cell_type": "code",
   "execution_count": null,
   "id": "7ccb2d3c-5aa7-44d9-a0d6-e88f61a13b9f",
   "metadata": {
    "tags": []
   },
   "outputs": [],
   "source": [
    "# Dataset\n",
    "dataset = datasets.synth.Agrawal(\n",
    "     classification_function=5,\n",
    "     seed=42\n",
    ")\n",
    "\n",
    "# Initialise the DDM drift detector\n",
    "ddm = drift.DDM(warm_start=30,\n",
    "                warning_threshold=1,\n",
    "                drift_threshold=2)\n",
    "\n",
    "# Initializing model\n",
    "LRmodel = pickle.load(open('saved_models/classification/model.pkl', 'rb'))\n",
    "\n",
    "# Initialise metric\n",
    "metric = metrics.Accuracy()\n",
    "\n",
    "print_warning = True\n",
    "drifts = list()\n",
    "warnings = list()\n",
    "\n",
    "for i,data in enumerate(dataset.take(200)):\n",
    "    # data[0] - features, data[1] - label\n",
    "    # Data is processed one sample at a time\n",
    "    y_pred = LRmodel.predict_one(data[0])\n",
    "    metric = metric.update(data[1],y_pred)\n",
    "    # correctly_classified data if y_pred == data[1] for checking accuracy\n",
    "    ddm.update(y_pred == data[1])\n",
    "    if ddm.warning_detected and print_warning:\n",
    "        # The warning detector indicates after each sample if there is a warning in the data\n",
    "        print(f'Warning detected at index {i}')\n",
    "        warnings.append(i)\n",
    "        print_warning = False\n",
    "    if ddm.drift_detected:\n",
    "        # The drift detector indicates after each sample if there is a drift in the data\n",
    "        print(f\"Change detected at index {i}\")\n",
    "        drifts.append(i)\n",
    "        print_warning = True\n",
    "\n",
    "print(f'{metric}\\n')\n",
    "print(f'Warnings: {warnings}')\n",
    "print(f'Drifts: {drifts}')"
   ]
  },
  {
   "cell_type": "code",
   "execution_count": null,
   "id": "9c6e4d81-3503-4c1e-bf60-7d0ba4541da1",
   "metadata": {},
   "outputs": [],
   "source": []
  }
 ],
 "metadata": {
  "kernelspec": {
   "display_name": "Python 3 (ipykernel)",
   "language": "python",
   "name": "python3"
  },
  "language_info": {
   "codemirror_mode": {
    "name": "ipython",
    "version": 3
   },
   "file_extension": ".py",
   "mimetype": "text/x-python",
   "name": "python",
   "nbconvert_exporter": "python",
   "pygments_lexer": "ipython3",
   "version": "3.10.13"
  }
 },
 "nbformat": 4,
 "nbformat_minor": 5
}
