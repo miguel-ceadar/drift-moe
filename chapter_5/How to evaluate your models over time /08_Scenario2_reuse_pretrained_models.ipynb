{
 "cells": [
  {
   "cell_type": "code",
   "execution_count": null,
   "id": "824ff82f-dadb-4636-b0df-73dd373049d4",
   "metadata": {
    "tags": []
   },
   "outputs": [],
   "source": [
    "import numpy as np\n",
    "from river import datasets\n",
    "from river import evaluate\n",
    "from river import linear_model\n",
    "from river import metrics\n",
    "from river import optim\n",
    "from river import preprocessing\n",
    "from river import drift\n",
    "import pickle\n",
    "from sklearn.linear_model import LogisticRegression\n",
    "from sklearn.preprocessing import StandardScaler\n",
    "from sklearn.pipeline import Pipeline"
   ]
  },
  {
   "cell_type": "code",
   "execution_count": null,
   "id": "6890ffa9-2070-4914-82ca-fccb2cf263c3",
   "metadata": {
    "tags": []
   },
   "outputs": [],
   "source": [
    "dataset = datasets.synth.Agrawal(\n",
    "     classification_function=0,\n",
    "     seed=42\n",
    ")"
   ]
  },
  {
   "cell_type": "markdown",
   "id": "5804c446-0b7b-4eaf-bbd2-168543672acd",
   "metadata": {},
   "source": [
    "## Model Training"
   ]
  },
  {
   "cell_type": "markdown",
   "id": "32fbdf07-5b96-4640-945c-a368bf819674",
   "metadata": {},
   "source": [
    "#### Model 1 with 59.5% Accuracy"
   ]
  },
  {
   "cell_type": "code",
   "execution_count": null,
   "id": "9779c2ce-68c7-474d-ab74-cab8bfddcb38",
   "metadata": {
    "tags": []
   },
   "outputs": [],
   "source": [
    "LRmodel1 = Pipeline([('scaler', StandardScaler()), ('logreg' ,LogisticRegression())])"
   ]
  },
  {
   "cell_type": "code",
   "execution_count": null,
   "id": "1850bbe5-4af7-4356-9f08-1710393db7d7",
   "metadata": {
    "tags": []
   },
   "outputs": [],
   "source": [
    "# Train model with 100 samples\n",
    "feature_buffer = list()\n",
    "label_buffer = list()\n",
    "\n",
    "for i,data in enumerate(dataset.take(100)):\n",
    "    # data[0] - features, data[1] - label\n",
    "    feature_buffer.append(list(data[0].values()))\n",
    "    label_buffer.append(data[1])"
   ]
  },
  {
   "cell_type": "code",
   "execution_count": null,
   "id": "c5b26988-d0ea-40a3-9223-ea01ab6d061a",
   "metadata": {
    "tags": []
   },
   "outputs": [],
   "source": [
    "LRmodel1.fit(feature_buffer, label_buffer)"
   ]
  },
  {
   "cell_type": "code",
   "execution_count": null,
   "id": "e1e62c91-53ec-40e1-97ce-426636c9afe0",
   "metadata": {
    "tags": []
   },
   "outputs": [],
   "source": [
    "drift_detector = drift.ADWIN(delta=1.2)\n",
    "drifts = list()\n",
    "# Initialise metric\n",
    "metric = metrics.Accuracy()\n",
    "print_warning = True\n",
    "feature_buffer = list()\n",
    "label_buffer = list()\n",
    "\n",
    "for i,data in enumerate(dataset.take(1000)):\n",
    "    # data[0] - features, data[1] - label\n",
    "    y_pred = LRmodel1.predict(np.reshape(list(data[0].values()), (-1, 1)).T)\n",
    "    metric = metric.update(data[1],y_pred[0])\n",
    "    correctly_classified = y_pred == data[1]\n",
    "    drift_detector.update(correctly_classified)   # Data is processed one sample at a time\n",
    "    feature_buffer.append(list(data[0].values()))\n",
    "    label_buffer.append(data[1])\n",
    "    if drift_detector.drift_detected:\n",
    "        # The drift detector indicates after each sample if there is a drift in the data\n",
    "        print(f'Change detected at index {i}')\n",
    "        drifts.append(i)"
   ]
  },
  {
   "cell_type": "code",
   "execution_count": null,
   "id": "262d51da-1a6d-4d47-b1c9-0a8bca8d0e97",
   "metadata": {
    "tags": []
   },
   "outputs": [],
   "source": [
    "metric"
   ]
  },
  {
   "cell_type": "markdown",
   "id": "9d2b1ea2-89a3-4015-a584-5a3bbdf21656",
   "metadata": {},
   "source": [
    "#### Model 2 with 67.40% Accuracy"
   ]
  },
  {
   "cell_type": "code",
   "execution_count": null,
   "id": "94b047be-7349-4a73-bf2c-f7b8252fc95d",
   "metadata": {
    "tags": []
   },
   "outputs": [],
   "source": [
    "# Train model with 500 samples\n",
    "feature_buffer2 = list()\n",
    "label_buffer2 = list()\n",
    "\n",
    "for i,data in enumerate(dataset.take(500)):\n",
    "    # data[0] - features, data[1] - label\n",
    "    feature_buffer2.append(list(data[0].values()))\n",
    "    label_buffer2.append(data[1])"
   ]
  },
  {
   "cell_type": "code",
   "execution_count": null,
   "id": "0b580b6a-08f3-4e11-b09a-1dd17a02a32a",
   "metadata": {
    "tags": []
   },
   "outputs": [],
   "source": [
    "LRmodel2 = Pipeline([('scaler', StandardScaler()), ('logreg' ,LogisticRegression())])"
   ]
  },
  {
   "cell_type": "code",
   "execution_count": null,
   "id": "8b0b0a94-b92a-471e-b018-0593547769d6",
   "metadata": {
    "tags": []
   },
   "outputs": [],
   "source": [
    "LRmodel2.fit(feature_buffer2, label_buffer2)"
   ]
  },
  {
   "cell_type": "code",
   "execution_count": null,
   "id": "f11dd9b5-b109-46ef-9468-33219659f55c",
   "metadata": {
    "tags": []
   },
   "outputs": [],
   "source": [
    "drift_detector = drift.ADWIN(delta=1.2)\n",
    "drifts = list()\n",
    "# Initialise metric\n",
    "metric = metrics.Accuracy()\n",
    "print_warning = True\n",
    "feature_buffer = list()\n",
    "label_buffer = list()\n",
    "\n",
    "for i,data in enumerate(dataset.take(1000)):\n",
    "    # data[0] - features, data[1] - label\n",
    "    y_pred = LRmodel2.predict(np.reshape(list(data[0].values()), (-1, 1)).T)\n",
    "    metric = metric.update(data[1],y_pred[0])\n",
    "    correctly_classified = y_pred == data[1]\n",
    "    drift_detector.update(correctly_classified)   # Data is processed one sample at a time\n",
    "    feature_buffer.append(list(data[0].values()))\n",
    "    label_buffer.append(data[1])\n",
    "    if drift_detector.drift_detected:\n",
    "        # The drift detector indicates after each sample if there is a drift in the data\n",
    "        print(f'Change detected at index {i}')\n",
    "        drifts.append(i)"
   ]
  },
  {
   "cell_type": "code",
   "execution_count": null,
   "id": "db1bccdf-015f-4d2e-88eb-44f28812dd2d",
   "metadata": {
    "tags": []
   },
   "outputs": [],
   "source": [
    "metric"
   ]
  },
  {
   "cell_type": "markdown",
   "id": "9e7ceaa5-0396-4966-94d7-e31bd3d51ada",
   "metadata": {},
   "source": [
    "#### Model 3 with Accuracy"
   ]
  },
  {
   "cell_type": "code",
   "execution_count": null,
   "id": "9629ad14-f3d3-40b5-8458-ccd3c7ec660f",
   "metadata": {
    "tags": []
   },
   "outputs": [],
   "source": [
    "# Train model with 200 samples\n",
    "feature_buffer3 = list()\n",
    "label_buffer3 = list()\n",
    "\n",
    "for i,data in enumerate(dataset.take(200)):\n",
    "    # data[0] - features, data[1] - label\n",
    "    feature_buffer3.append(list(data[0].values()))\n",
    "    label_buffer3.append(data[1])"
   ]
  },
  {
   "cell_type": "code",
   "execution_count": null,
   "id": "0ee35b05-f21e-449b-bfd4-509006f9fd92",
   "metadata": {
    "tags": []
   },
   "outputs": [],
   "source": [
    "LRmodel3 = Pipeline([('scaler', StandardScaler()), ('logreg' ,LogisticRegression())])"
   ]
  },
  {
   "cell_type": "code",
   "execution_count": null,
   "id": "cfee5010-ccbf-450e-bfb7-491432643252",
   "metadata": {
    "tags": []
   },
   "outputs": [],
   "source": [
    "LRmodel3.fit(feature_buffer3, label_buffer3)"
   ]
  },
  {
   "cell_type": "code",
   "execution_count": null,
   "id": "098d8929-89d6-4291-9350-b09d1897d055",
   "metadata": {
    "tags": []
   },
   "outputs": [],
   "source": [
    "drift_detector = drift.ADWIN(delta=1.2)\n",
    "drifts = list()\n",
    "# Initialise metric\n",
    "metric = metrics.Accuracy()\n",
    "print_warning = True\n",
    "feature_buffer = list()\n",
    "label_buffer = list()\n",
    "\n",
    "for i,data in enumerate(dataset.take(1000)):\n",
    "    # data[0] - features, data[1] - label\n",
    "    y_pred = LRmodel3.predict(np.reshape(list(data[0].values()), (-1, 1)).T)\n",
    "    metric = metric.update(data[1],y_pred[0])\n",
    "    correctly_classified = y_pred == data[1]\n",
    "    drift_detector.update(correctly_classified)   # Data is processed one sample at a time\n",
    "    feature_buffer.append(list(data[0].values()))\n",
    "    label_buffer.append(data[1])\n",
    "    if drift_detector.drift_detected:\n",
    "        # The drift detector indicates after each sample if there is a drift in the data\n",
    "        print(f'Change detected at index {i}')\n",
    "        drifts.append(i)"
   ]
  },
  {
   "cell_type": "code",
   "execution_count": null,
   "id": "8ebc4a76-caae-42bc-962e-ee270ae7019c",
   "metadata": {
    "tags": []
   },
   "outputs": [],
   "source": [
    "metric"
   ]
  },
  {
   "cell_type": "markdown",
   "id": "6844559d-676d-4ac1-8b77-2a582002cb1f",
   "metadata": {},
   "source": [
    "Saving three models with Accuracy scores:\n",
    "- Model1:  59.50%\n",
    "- Model2:  67.40% \n",
    "- Model3:  65.10%"
   ]
  },
  {
   "cell_type": "markdown",
   "id": "c50be558-1e94-4db9-9da4-caeed781d507",
   "metadata": {},
   "source": [
    "## Loading saved models and benchmarking them"
   ]
  },
  {
   "cell_type": "code",
   "execution_count": null,
   "id": "725c3b27-d2df-4b4d-868d-36ac496bd96d",
   "metadata": {
    "tags": []
   },
   "outputs": [],
   "source": [
    "LRmodel1 = pickle.load(open('saved_models/classification/sklearn/LRmodel1.pkl', 'rb'))"
   ]
  },
  {
   "cell_type": "code",
   "execution_count": null,
   "id": "7c001354-96fa-402d-87fb-3cdc7720a265",
   "metadata": {
    "tags": []
   },
   "outputs": [],
   "source": [
    "# Initialize drift detector\n",
    "drift_detector = drift.ADWIN(delta=1.2)\n",
    "drifts = list()\n",
    "\n",
    "# Initialise metric\n",
    "metric = metrics.Accuracy()\n",
    "print_warning = True\n",
    "feature_buffer = list()\n",
    "label_buffer = list()\n",
    "\n",
    "for i,data in enumerate(dataset.take(1000)):\n",
    "    # data[0] - features, data[1] - label\n",
    "    y_pred = LRmodel1.predict(np.reshape(list(data[0].values()), (-1, 1)).T)\n",
    "    metric = metric.update(data[1],y_pred[0])\n",
    "    correctly_classified = y_pred == data[1]\n",
    "    drift_detector.update(correctly_classified)   # Data is processed one sample at a time\n",
    "    feature_buffer.append(list(data[0].values()))\n",
    "    label_buffer.append(data[1])\n",
    "    if drift_detector.drift_detected:\n",
    "        # The drift detector indicates after each sample if there is a drift in the data\n",
    "        print(f'Change detected at index {i}')\n",
    "        drifts.append(i)\n",
    "print(metric)"
   ]
  },
  {
   "cell_type": "code",
   "execution_count": null,
   "id": "59b26981-d04f-455a-85c7-9036947166f0",
   "metadata": {
    "tags": []
   },
   "outputs": [],
   "source": [
    "LRmodel2 = pickle.load(open('saved_models/classification/sklearn/LRmodel2.pkl', 'rb'))"
   ]
  },
  {
   "cell_type": "code",
   "execution_count": null,
   "id": "59daf13e-560b-4d14-8879-eca7d2297694",
   "metadata": {
    "tags": []
   },
   "outputs": [],
   "source": [
    "drift_detector = drift.ADWIN(delta=1.2)\n",
    "drifts = list()\n",
    "# Initialise metric\n",
    "metric = metrics.Accuracy()\n",
    "print_warning = True\n",
    "feature_buffer = list()\n",
    "label_buffer = list()\n",
    "\n",
    "for i,data in enumerate(dataset.take(1000)):\n",
    "    # data[0] - features, data[1] - label\n",
    "    y_pred = LRmodel2.predict(np.reshape(list(data[0].values()), (-1, 1)).T)\n",
    "    metric = metric.update(data[1],y_pred[0])\n",
    "    correctly_classified = y_pred == data[1]\n",
    "    drift_detector.update(correctly_classified)   # Data is processed one sample at a time\n",
    "    feature_buffer.append(list(data[0].values()))\n",
    "    label_buffer.append(data[1])\n",
    "    if drift_detector.drift_detected:\n",
    "        # The drift detector indicates after each sample if there is a drift in the data\n",
    "        print(f'Change detected at index {i}')\n",
    "        drifts.append(i)\n",
    "print(metric)"
   ]
  },
  {
   "cell_type": "code",
   "execution_count": null,
   "id": "9989a106-93dd-405a-9f29-df5cce5ece50",
   "metadata": {
    "tags": []
   },
   "outputs": [],
   "source": [
    "LRmodel3 = pickle.load(open('saved_models/classification/sklearn/LRmodel3.pkl', 'rb'))"
   ]
  },
  {
   "cell_type": "code",
   "execution_count": null,
   "id": "ebb04f2c-a927-42d0-8131-288d9eb874cd",
   "metadata": {
    "tags": []
   },
   "outputs": [],
   "source": [
    "drift_detector = drift.ADWIN(delta=1.2)\n",
    "drifts = list()\n",
    "# Initialise metric\n",
    "metric = metrics.Accuracy()\n",
    "print_warning = True\n",
    "feature_buffer = list()\n",
    "label_buffer = list()\n",
    "\n",
    "for i,data in enumerate(dataset.take(1000)):\n",
    "    # data[0] - features, data[1] - label\n",
    "    y_pred = LRmodel3.predict(np.reshape(list(data[0].values()), (-1, 1)).T)\n",
    "    metric = metric.update(data[1],y_pred[0])\n",
    "    correctly_classified = y_pred == data[1]\n",
    "    drift_detector.update(correctly_classified)   # Data is processed one sample at a time\n",
    "    feature_buffer.append(list(data[0].values()))\n",
    "    label_buffer.append(data[1])\n",
    "    if drift_detector.drift_detected:\n",
    "        # The drift detector indicates after each sample if there is a drift in the data\n",
    "        print(f'Change detected at index {i}')\n",
    "        drifts.append(i)\n",
    "print(metric)"
   ]
  },
  {
   "cell_type": "code",
   "execution_count": null,
   "id": "0ff79025-4098-4400-b7d6-4bc958aa3c8d",
   "metadata": {
    "tags": []
   },
   "outputs": [],
   "source": [
    "PretrainedModels = dict()"
   ]
  },
  {
   "cell_type": "code",
   "execution_count": null,
   "id": "a1b70a7b-6973-4137-b132-55a36279e2f5",
   "metadata": {
    "tags": []
   },
   "outputs": [],
   "source": [
    "PretrainedModels[\"model1\"]=dict()\n",
    "PretrainedModels[\"model2\"]=dict()\n",
    "PretrainedModels[\"model3\"]=dict()"
   ]
  },
  {
   "cell_type": "code",
   "execution_count": null,
   "id": "d4178988-078a-4f56-93af-c85f9d053240",
   "metadata": {
    "tags": []
   },
   "outputs": [],
   "source": [
    "PretrainedModels[\"model1\"][\"name\"]=\"saved_models/classification/sklearn/LRmodel1.pkl\"\n",
    "PretrainedModels[\"model2\"][\"name\"]=\"saved_models/classification/sklearn/LRmodel2.pkl\"\n",
    "PretrainedModels[\"model3\"][\"name\"]=\"saved_models/classification/sklearn/LRmodel3.pkl\""
   ]
  },
  {
   "cell_type": "code",
   "execution_count": null,
   "id": "3ad15922-ebf6-4791-93ba-1e45885c95f7",
   "metadata": {
    "tags": []
   },
   "outputs": [],
   "source": [
    "PretrainedModels[\"model1\"][\"accuracy\"]=\"59.50%\"\n",
    "PretrainedModels[\"model2\"][\"accuracy\"]=\"67.40%\"\n",
    "PretrainedModels[\"model3\"][\"accuracy\"]=\"65.10%\""
   ]
  },
  {
   "cell_type": "code",
   "execution_count": null,
   "id": "18e03c5b-f0e0-4616-a9d1-c0445c559d33",
   "metadata": {
    "tags": []
   },
   "outputs": [],
   "source": [
    "PretrainedModels"
   ]
  },
  {
   "cell_type": "code",
   "execution_count": null,
   "id": "fa02d6df-fe83-466f-a1ea-c8356c320023",
   "metadata": {
    "tags": []
   },
   "outputs": [],
   "source": [
    "PretrainedModels['model1']['name']"
   ]
  },
  {
   "cell_type": "code",
   "execution_count": null,
   "id": "6c5a5172-bcd1-48e3-b391-428f905d7f32",
   "metadata": {
    "tags": []
   },
   "outputs": [],
   "source": [
    "LRmodel1 = pickle.load(open(PretrainedModels['model1']['name'], 'rb'))\n",
    "LRmodel1"
   ]
  },
  {
   "cell_type": "code",
   "execution_count": null,
   "id": "89648c23-056a-49c3-847c-c553d4c19131",
   "metadata": {
    "tags": []
   },
   "outputs": [],
   "source": [
    "LRmodel = pickle.load(open(PretrainedModels['model1']['name'], 'rb'))\n",
    "\n",
    "drift_detector = drift.ADWIN(delta=0.99)\n",
    "print(drift_detector)\n",
    "drifts = list()\n",
    "correctly_classified_data = list()\n",
    "feature_buffer = list()\n",
    "label_buffer = list()\n",
    "\n",
    "for i,data in enumerate(dataset.take(16000)):\n",
    "    y_pred = LRmodel.predict(np.reshape(list(data[0].values()), (-1, 1)).T)\n",
    "    metric = metric.update(data[1],y_pred[0]) # Accuracy\n",
    "    correctly_classified = y_pred[0]==data[1]  # checking accuracy\n",
    "    correctly_classified_data.append(correctly_classified)\n",
    "    drift_detector.update(correctly_classified) \n",
    "    feature_buffer.append(list(data[0].values()))\n",
    "    label_buffer.append(data[1])\n",
    "    if drift_detector.drift_detected:\n",
    "        print(f'Change detected at index {i}')\n",
    "        drifts.append(i)\n",
    "        print(f'Using pre-trained model with better accuracy')\n",
    "        LRmodel = pickle.load(open(PretrainedModels['model2']['name'], 'rb'))\n",
    "        break"
   ]
  },
  {
   "cell_type": "code",
   "execution_count": null,
   "id": "a6c4c0fb-6870-4cc6-8197-e65a8e535d66",
   "metadata": {
    "tags": []
   },
   "outputs": [],
   "source": [
    "metric"
   ]
  },
  {
   "cell_type": "code",
   "execution_count": null,
   "id": "6eb09fbb-91cd-46cd-a753-48584b379d1c",
   "metadata": {},
   "outputs": [],
   "source": []
  }
 ],
 "metadata": {
  "kernelspec": {
   "display_name": "Python 3 (ipykernel)",
   "language": "python",
   "name": "python3"
  },
  "language_info": {
   "codemirror_mode": {
    "name": "ipython",
    "version": 3
   },
   "file_extension": ".py",
   "mimetype": "text/x-python",
   "name": "python",
   "nbconvert_exporter": "python",
   "pygments_lexer": "ipython3",
   "version": "3.10.13"
  }
 },
 "nbformat": 4,
 "nbformat_minor": 5
}
