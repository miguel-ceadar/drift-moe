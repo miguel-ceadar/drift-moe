{
 "cells": [
  {
   "cell_type": "code",
   "execution_count": null,
   "metadata": {},
   "outputs": [],
   "source": [
    "import nannyml as nml\n",
    "from IPython.display import display"
   ]
  },
  {
   "cell_type": "code",
   "execution_count": null,
   "metadata": {},
   "outputs": [],
   "source": [
    "# Load synthetic data\n",
    "reference_df, analysis_df, _ = nml.load_synthetic_car_loan_dataset()\n",
    "display(reference_df.head())"
   ]
  },
  {
   "cell_type": "code",
   "execution_count": null,
   "metadata": {},
   "outputs": [],
   "source": [
    "non_feature_columns = ['timestamp', 'y_pred_proba', 'y_pred', 'repaid']\n",
    "\n",
    "# Define feature columns\n",
    "feature_column_names = [\n",
    "     col for col in reference_df.columns\n",
    "     if col not in non_feature_columns\n",
    "]\n",
    "\n",
    "calc = nml.DataReconstructionDriftCalculator(\n",
    "     column_names=feature_column_names,\n",
    "     timestamp_column_name='timestamp',\n",
    "     chunk_size=5000\n",
    ")\n",
    "calc.fit(reference_df)\n",
    "results = calc.calculate(analysis_df)\n",
    "\n",
    "display(results.filter(period='analysis').to_df())\n"
   ]
  },
  {
   "cell_type": "code",
   "execution_count": null,
   "metadata": {},
   "outputs": [],
   "source": [
    "display(results.filter(period='reference').to_df())\n",
    "\n",
    "figure = results.plot()\n",
    "figure.show()"
   ]
  }
 ],
 "metadata": {
  "kernelspec": {
   "display_name": "book",
   "language": "python",
   "name": "python3"
  },
  "language_info": {
   "codemirror_mode": {
    "name": "ipython",
    "version": 3
   },
   "file_extension": ".py",
   "mimetype": "text/x-python",
   "name": "python",
   "nbconvert_exporter": "python",
   "pygments_lexer": "ipython3",
   "version": "3.10.13"
  }
 },
 "nbformat": 4,
 "nbformat_minor": 2
}
