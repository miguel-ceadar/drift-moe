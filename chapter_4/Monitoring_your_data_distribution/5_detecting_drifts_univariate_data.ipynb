{
 "cells": [
  {
   "cell_type": "markdown",
   "metadata": {},
   "source": [
    "# Detecting drifts"
   ]
  },
  {
   "cell_type": "code",
   "execution_count": null,
   "metadata": {},
   "outputs": [],
   "source": [
    "import numpy as np\n",
    "import pandas as pd\n",
    "import matplotlib.pyplot as plt\n",
    "from scipy.stats import ttest_ind\n"
   ]
  },
  {
   "cell_type": "code",
   "execution_count": null,
   "metadata": {},
   "outputs": [],
   "source": [
    "date_rng = pd.date_range(start='2023-01-01', end='2023-12-31', freq='D')\n",
    "data_drift = np.random.normal(loc=0, scale=1, size=len(date_rng)) + np.linspace(0, 5, num=len(date_rng)) + np.random.normal(loc=0, scale=0.5, size=len(date_rng))\n",
    "data_drift += 0.02 * np.arange(len(date_rng))\n",
    "\n",
    "df_drift = pd.DataFrame(data_drift, columns=['Value'], index=date_rng)\n",
    "\n",
    "window_size = 60\n",
    "df_drift['Rolling_Mean'] = df_drift['Value'].rolling(window=window_size).mean()\n",
    "df_drift['Rolling_Std'] = df_drift['Value'].rolling(window=window_size).std()\n",
    "\n",
    "plt.figure(figsize=(12, 8))\n",
    "plt.plot(df_drift.index, df_drift['Value'], label='Original Data with Drift')\n",
    "plt.plot(df_drift.index, df_drift['Rolling_Mean'], label='Rolling Mean (Window Size = 30)', linestyle='--', color='red')\n",
    "plt.fill_between(df_drift.index, df_drift['Rolling_Mean'] - df_drift['Rolling_Std'], df_drift['Rolling_Mean'] + df_drift['Rolling_Std'], color='red', alpha=0.2, label='Rolling Std (Window Size = 30)')\n",
    "plt.axvline(x=df_drift.index[window_size], color='red', linestyle='--', label='Drift Evaluation Window')\n",
    "plt.legend()\n",
    "plt.title('Data with Drift and Rolling Mean/Std')\n",
    "plt.xlabel('Date')\n",
    "plt.ylabel('Value')\n",
    "plt.show()\n",
    "\n",
    "shift_point = window_size\n",
    "data_before_drift = df_drift['Value'][:shift_point]\n",
    "data_after_drift = df_drift['Value'][shift_point:]\n",
    "\n",
    "_, p_value_drift = ttest_ind(data_before_drift, data_after_drift, alternative='two-sided')\n",
    "\n",
    "alpha_drift = 0.05\n",
    "\n",
    "print(\"p_value for drift detection: \", p_value_drift)\n",
    "\n",
    "if p_value_drift < alpha_drift:\n",
    "    print(f\"Drift is statistically significant.\")\n",
    "else:\n",
    "    print(f\"No statistically significant drift detected.\")\n"
   ]
  },
  {
   "cell_type": "markdown",
   "metadata": {},
   "source": [
    "# Evaluating at multiple points"
   ]
  },
  {
   "cell_type": "code",
   "execution_count": null,
   "metadata": {},
   "outputs": [],
   "source": [
    "def plot_drift_detection(df, window_size, drift_locations, p_values):\n",
    "    plt.figure(figsize=(12, 8))\n",
    "    plt.plot(df.index, df['Value'], label='Original Data with Drift')\n",
    "\n",
    "    for loc, p_value in zip(drift_locations, p_values):\n",
    "        plt.axvline(x=df.index[loc], color='red', linestyle='--', label=f'Drift Evaluation Window at {loc}')\n",
    "        plt.text(df.index[loc], df['Value'].max(), f'p-value: {p_value:.4f}', color='red')\n",
    "\n",
    "    df['Rolling_Mean'] = df['Value'].rolling(window=window_size).mean()\n",
    "    df['Rolling_Std'] = df['Value'].rolling(window=window_size).std()\n",
    "\n",
    "    plt.plot(df.index, df['Rolling_Mean'], label=f'Rolling Mean (Window Size = {window_size})', linestyle='--', color='red')\n",
    "    plt.fill_between(df.index, df['Rolling_Mean'] - df['Rolling_Std'], df['Rolling_Mean'] + df['Rolling_Std'], color='red', alpha=0.2, label=f'Rolling Std (Window Size = {window_size})')\n",
    "\n",
    "    plt.legend()\n",
    "    plt.title('Data with Drift and Rolling Mean/Std')\n",
    "    plt.xlabel('Date')\n",
    "    plt.ylabel('Value')\n",
    "    plt.grid(True)\n",
    "    plt.show()\n",
    "\n",
    "# Generate data with drift\n",
    "date_rng = pd.date_range(start='2023-01-01', end='2023-12-31', freq='D')\n",
    "data_drift = np.random.normal(loc=0, scale=1, size=len(date_rng)) + np.linspace(0, 5, num=len(date_rng)) + np.random.normal(loc=0, scale=0.5, size=len(date_rng))\n",
    "\n",
    "data_drift += 0.02 * np.arange(len(date_rng))\n",
    "\n",
    "df_drift = pd.DataFrame(data_drift, columns=['Value'], index=date_rng)\n",
    "\n",
    "window_size = 30\n",
    "drift_locations = [50, 150, 200, 350]\n",
    "p_values = []\n",
    "\n",
    "for loc in drift_locations:\n",
    "    shift_point = loc\n",
    "    data_before_drift = df_drift['Value'][:shift_point]\n",
    "    data_after_drift = df_drift['Value'][shift_point:]\n",
    "\n",
    "    _, p_value_drift = ttest_ind(data_before_drift, data_after_drift, alternative='two-sided')\n",
    "    p_values.append(p_value_drift)\n",
    "\n",
    "    alpha_drift = 0.05\n",
    "\n",
    "    print(f\"p_value for drift detection at location {loc}: {p_value_drift}\")\n",
    "\n",
    "    if p_value_drift < alpha_drift:\n",
    "        print(f\"Drift at location {loc} is statistically significant.\")\n",
    "    else:\n",
    "        print(f\"No statistically significant drift detected at location {loc}.\")\n",
    "\n",
    "plot_drift_detection(df_drift, window_size, drift_locations, p_values)\n"
   ]
  },
  {
   "cell_type": "code",
   "execution_count": null,
   "metadata": {},
   "outputs": [],
   "source": []
  }
 ],
 "metadata": {
  "kernelspec": {
   "display_name": "book",
   "language": "python",
   "name": "python3"
  },
  "language_info": {
   "codemirror_mode": {
    "name": "ipython",
    "version": 3
   },
   "file_extension": ".py",
   "mimetype": "text/x-python",
   "name": "python",
   "nbconvert_exporter": "python",
   "pygments_lexer": "ipython3",
   "version": "3.10.13"
  }
 },
 "nbformat": 4,
 "nbformat_minor": 2
}
