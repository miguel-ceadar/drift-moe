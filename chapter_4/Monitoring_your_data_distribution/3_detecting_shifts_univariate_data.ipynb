{
 "cells": [
  {
   "cell_type": "markdown",
   "metadata": {},
   "source": [
    "# Example of shift detection using univariate data\n"
   ]
  },
  {
   "cell_type": "code",
   "execution_count": null,
   "metadata": {},
   "outputs": [],
   "source": [
    "import numpy as np\n",
    "import pandas as pd\n",
    "import matplotlib.pyplot as plt\n",
    "from scipy.stats import ttest_ind"
   ]
  },
  {
   "cell_type": "code",
   "execution_count": null,
   "metadata": {},
   "outputs": [],
   "source": [
    "np.random.seed(42)\n",
    "date_rng = pd.date_range(start='2023-01-01', end='2023-12-31', freq='D')\n",
    "data_shift = np.random.normal(loc=0, scale=1, size=len(date_rng))\n",
    "data_shift[200:250] += 10\n",
    "\n",
    "df_shift = pd.DataFrame(data_shift, columns=['Value'], index=date_rng)\n",
    "\n",
    "shift_point = 210\n",
    "data_before_shift = df_shift['Value'][:shift_point]\n",
    "data_after_shift = df_shift['Value'][shift_point:]\n",
    "\n",
    "_, p_value = ttest_ind(data_before_shift, data_after_shift, alternative='two-sided')\n",
    "\n",
    "alpha = 0.05\n",
    "\n",
    "plt.figure(figsize=(10, 6))\n",
    "plt.plot(df_shift.index, df_shift['Value'], label='Original Data with Shift')\n",
    "plt.axvline(x=df_shift.index[shift_point], color='red', linestyle='--', label='Suspected Shift Point')\n",
    "plt.annotate(f'p-value = {p_value:.4f}', xy=(df_shift.index[shift_point], df_shift['Value'][shift_point] + 1), color='red')\n",
    "plt.legend()\n",
    "plt.title('Shift Detection using t-test')\n",
    "plt.xlabel('Date')\n",
    "plt.ylabel('Value')\n",
    "plt.show()\n",
    "\n",
    "print(\"p_value: \", p_value)\n",
    "\n",
    "if p_value < alpha:\n",
    "    print(f\"The shift at point {shift_point} is statistically significant.\")\n",
    "else:\n",
    "    print(f\"No statistically significant shift detected at point {shift_point}.\")\n"
   ]
  },
  {
   "cell_type": "code",
   "execution_count": null,
   "metadata": {},
   "outputs": [],
   "source": [
    "import numpy as np\n",
    "import pandas as pd\n",
    "import matplotlib.pyplot as plt\n",
    "from scipy.stats import ttest_ind\n",
    "\n",
    "def detect_shift_and_plot(data, shift_point):\n",
    "    data_before_shift = data['Value'][:shift_point]\n",
    "    data_after_shift = data['Value'][shift_point:]\n",
    "    _, p_value = ttest_ind(data_before_shift, data_after_shift, alternative='two-sided')\n",
    "    \n",
    "    plt.plot(data.index, data['Value'], label=f'Shift Point: {shift_point}')\n",
    "    plt.axvline(x=data.index[shift_point], color='red', linestyle='--')\n",
    "    plt.annotate(f'p-value = {p_value:.4f}', xy=(data.index[shift_point], data['Value'][shift_point] + 1), color='red')\n",
    "\n",
    "    if p_value < alpha:\n",
    "        print(f\"Shift at point {shift_point} is statistically significant.\")\n",
    "    else:\n",
    "        print(f\"No statistically significant shift detected at point {shift_point}.\")\n",
    "\n",
    "\n",
    "np.random.seed(42)\n",
    "date_rng = pd.date_range(start='2023-01-01', end='2023-12-31', freq='D')\n",
    "data_shift = np.random.normal(loc=0, scale=1, size=len(date_rng))\n",
    "data_shift[200:250] += 10\n",
    "\n",
    "df_shift = pd.DataFrame(data_shift, columns=['Value'], index=date_rng)\n",
    "\n",
    "alpha = 0.05\n",
    "\n",
    "plt.figure(figsize=(15, 10))\n",
    "for i, shift_point in enumerate(range(200, 251, 10)):\n",
    "    plt.subplot(4, 2, i + 1)\n",
    "    detect_shift_and_plot(df_shift, shift_point)\n",
    "    plt.legend()\n",
    "    plt.title(f'Shift Detection at Point: {shift_point}')\n",
    "plt.tight_layout(rect=[0, 0, 1, 0.96])\n",
    "plt.show()\n",
    "\n"
   ]
  }
 ],
 "metadata": {
  "kernelspec": {
   "display_name": "book",
   "language": "python",
   "name": "python3"
  },
  "language_info": {
   "codemirror_mode": {
    "name": "ipython",
    "version": 3
   },
   "file_extension": ".py",
   "mimetype": "text/x-python",
   "name": "python",
   "nbconvert_exporter": "python",
   "pygments_lexer": "ipython3",
   "version": "3.10.13"
  }
 },
 "nbformat": 4,
 "nbformat_minor": 2
}
