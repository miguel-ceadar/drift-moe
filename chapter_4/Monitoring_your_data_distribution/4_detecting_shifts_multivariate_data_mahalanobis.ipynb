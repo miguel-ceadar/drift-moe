{
 "cells": [
  {
   "cell_type": "markdown",
   "metadata": {},
   "source": [
    "# Mahalanobis distance outlier method for multivariate data  "
   ]
  },
  {
   "cell_type": "code",
   "execution_count": null,
   "metadata": {},
   "outputs": [],
   "source": [
    "import numpy as np\n",
    "import pandas as pd\n",
    "from scipy.stats import chi2\n",
    "import matplotlib.pyplot as plt\n",
    "\n",
    "def generate_multivariate_data(start_date='2023-01-01', end_date='2023-12-31', freq='D'):\n",
    "   date_rng = pd.date_range(start=start_date, end=end_date, freq=freq)\n",
    "   data_field1 = np.random.normal(loc=0, scale=1, size=len(date_rng))\n",
    "   data_field1[210:270] += 100\n",
    "   data_field2 = np.random.normal(loc=0, scale=1, size=len(date_rng))\n",
    "   data_field2[200:250] += 10\n",
    "   data_field3 = np.random.normal(loc=0, scale=1, size=len(date_rng))\n",
    "   multivariate_data = np.column_stack((data_field1, data_field2, data_field3))\n",
    "   return pd.DataFrame(multivariate_data, columns=['var_A', 'var_B', 'var_C'], index=date_rng)\n",
    "\n",
    "df_multivariate = generate_multivariate_data()\n",
    "print(df_multivariate)\n"
   ]
  },
  {
   "cell_type": "code",
   "execution_count": null,
   "metadata": {},
   "outputs": [],
   "source": [
    "import seaborn as sns\n",
    "import matplotlib.pyplot as plt\n",
    "\n",
    "# Set Seaborn style\n",
    "sns.set(style=\"darkgrid\")\n",
    "\n",
    "# Plot the multivariate data\n",
    "plt.figure(figsize=(12, 6))\n",
    "sns.lineplot(data=df_multivariate, dashes=False)\n",
    "\n",
    "\n",
    "plt.title('Multivariate Data with Shifts')\n",
    "plt.xlabel('Date')\n",
    "plt.ylabel('Value')\n",
    "plt.legend()\n",
    "plt.show()\n"
   ]
  },
  {
   "cell_type": "markdown",
   "metadata": {},
   "source": [
    "# Detect outliers in multivariate data using Mahalanobis Distance"
   ]
  },
  {
   "cell_type": "code",
   "execution_count": null,
   "metadata": {},
   "outputs": [],
   "source": [
    "mean_vector = df_multivariate.mean().values\n",
    "\n",
    "covariance_matrix = df_multivariate.cov().values\n",
    "\n",
    "covariance_matrix_inv = np.linalg.inv(covariance_matrix)\n",
    "\n",
    "mahalanobis_distance = np.array([np.sqrt((x - mean_vector).T.dot(covariance_matrix_inv).dot(x - mean_vector)) for x in df_multivariate.values])\n",
    "\n",
    "alpha = 0.65\n",
    "\n",
    "threshold = chi2.ppf(alpha, df=len(df_multivariate.columns))\n",
    "\n",
    "shift_points = np.where(mahalanobis_distance > threshold)[0]\n",
    "\n",
    "plt.figure(figsize=(12, 6))\n",
    "plt.plot(df_multivariate.index, mahalanobis_distance, label='Mahalanobis Distance')\n",
    "plt.axhline(y=threshold, color='red', linestyle='--', label='Threshold')\n",
    "plt.scatter(df_multivariate.index[shift_points], mahalanobis_distance[shift_points], color='red', label='Shift Points')\n",
    "plt.title('Mahalanobis Distance for Shift Detection')\n",
    "plt.xlabel('Date')\n",
    "plt.ylabel('Mahalanobis Distance')\n",
    "plt.legend()\n",
    "plt.show()\n"
   ]
  }
 ],
 "metadata": {
  "kernelspec": {
   "display_name": "book",
   "language": "python",
   "name": "python3"
  },
  "language_info": {
   "codemirror_mode": {
    "name": "ipython",
    "version": 3
   },
   "file_extension": ".py",
   "mimetype": "text/x-python",
   "name": "python",
   "nbconvert_exporter": "python",
   "pygments_lexer": "ipython3",
   "version": "3.10.13"
  }
 },
 "nbformat": 4,
 "nbformat_minor": 2
}
