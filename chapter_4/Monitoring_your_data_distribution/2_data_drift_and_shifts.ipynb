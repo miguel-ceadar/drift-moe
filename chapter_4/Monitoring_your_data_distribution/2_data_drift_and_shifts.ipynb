{
 "cells": [
  {
   "cell_type": "code",
   "execution_count": null,
   "metadata": {},
   "outputs": [],
   "source": [
    "import pandas as pd\n",
    "import numpy as np\n",
    "import matplotlib.pyplot as plt\n",
    "\n",
    "def plot_rolling_statistics(dataframe, window_size, title):\n",
    "    plt.figure(figsize=(10, 6))\n",
    "    plt.plot(dataframe['Value'], label='Original Data')\n",
    "    plt.plot(dataframe['Rolling_Mean'], label=f'Rolling Mean ({window_size} days)')\n",
    "    plt.plot(dataframe['Rolling_Std'], label=f'Rolling Std ({window_size} days)')\n",
    "    plt.legend()\n",
    "    plt.title(title)\n",
    "    plt.xlabel('Date')\n",
    "    plt.ylabel('Value')\n",
    "    plt.show()\n"
   ]
  },
  {
   "cell_type": "markdown",
   "metadata": {},
   "source": [
    "# Data example"
   ]
  },
  {
   "cell_type": "code",
   "execution_count": null,
   "metadata": {},
   "outputs": [],
   "source": [
    "np.random.seed(42)\n",
    "date_rng = pd.date_range(start='2023-01-01', end='2023-12-31', freq='D')\n",
    "df = np.random.normal(loc=0, scale=1, size=len(date_rng)) + np.linspace(0, 5, num=len(date_rng)) + np.random.normal(loc=0, scale=0.5, size=len(date_rng))\n",
    "\n",
    "df = pd.DataFrame(df, columns=['Value'], index=date_rng)\n",
    "\n",
    "window_size = 30\n",
    "df['Rolling_Mean'] = df['Value'].rolling(window=window_size).mean()\n",
    "df['Rolling_Std'] = df['Value'].rolling(window=window_size).std()\n",
    "\n",
    "plot_rolling_statistics(df, window_size, 'Tracking Mean and Standard Deviation Changes Over Time')"
   ]
  },
  {
   "cell_type": "markdown",
   "metadata": {},
   "source": [
    "# Shift example"
   ]
  },
  {
   "cell_type": "code",
   "execution_count": null,
   "metadata": {},
   "outputs": [],
   "source": [
    "data_shift = np.random.normal(loc=0, scale=1, size=len(date_rng)) + np.linspace(0, 5, num=len(date_rng)) + np.random.normal(loc=0, scale=0.5, size=len(date_rng))\n",
    "data_shift[200:250] += 10  # Introducing a shift\n",
    "\n",
    "data_shift = pd.DataFrame(data_shift, columns=['Value'], index=date_rng)\n",
    "\n",
    "window_size = 30\n",
    "data_shift['Rolling_Mean'] = data_shift['Value'].rolling(window=window_size).mean()\n",
    "data_shift['Rolling_Std'] = data_shift['Value'].rolling(window=window_size).std()\n",
    "\n",
    "\n",
    "plot_rolling_statistics(data_shift, window_size, 'Shift Example: Tracking Mean and Standard Deviation Changes Over Time')"
   ]
  },
  {
   "cell_type": "markdown",
   "metadata": {},
   "source": [
    "# Drift example"
   ]
  },
  {
   "cell_type": "code",
   "execution_count": null,
   "metadata": {},
   "outputs": [],
   "source": [
    "np.random.seed(42)\n",
    "date_rng = pd.date_range(start='2023-01-01', end='2023-12-31', freq='D')\n",
    "data_drift = np.random.normal(loc=0, scale=1, size=len(date_rng)) + np.linspace(0, 5, num=len(date_rng)) + np.random.normal(loc=0, scale=0.5, size=len(date_rng))\n",
    "data_drift += 0.02 * np.arange(len(date_rng))  # Introducing a drift\n",
    "\n",
    "df_drift = pd.DataFrame(data_drift, columns=['Value'], index=date_rng)\n",
    "\n",
    "window_size = 30\n",
    "df_drift['Rolling_Mean'] = df_drift['Value'].rolling(window=window_size).mean()\n",
    "df_drift['Rolling_Std'] = df_drift['Value'].rolling(window=window_size).std()\n",
    "\n",
    "plt.figure(figsize=(10, 6))\n",
    "plt.plot(df_drift['Value'], label='Original Data with Drift')\n",
    "plt.plot(df_drift['Rolling_Mean'], label=f'Rolling Mean ({window_size} days)')\n",
    "plt.plot(df_drift['Rolling_Std'], label=f'Rolling Std ({window_size} days)')\n",
    "plt.legend()\n",
    "plt.title('Drift Example: Tracking Mean and Standard Deviation Changes Over Time')\n",
    "plt.xlabel('Date')\n",
    "plt.ylabel('Value')\n",
    "plt.show()\n"
   ]
  }
 ],
 "metadata": {
  "kernelspec": {
   "display_name": "book",
   "language": "python",
   "name": "python3"
  },
  "language_info": {
   "codemirror_mode": {
    "name": "ipython",
    "version": 3
   },
   "file_extension": ".py",
   "mimetype": "text/x-python",
   "name": "python",
   "nbconvert_exporter": "python",
   "pygments_lexer": "ipython3",
   "version": "3.10.13"
  }
 },
 "nbformat": 4,
 "nbformat_minor": 2
}
