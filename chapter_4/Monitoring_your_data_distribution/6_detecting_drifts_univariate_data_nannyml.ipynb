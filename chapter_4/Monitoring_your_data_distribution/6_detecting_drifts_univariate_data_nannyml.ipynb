{
 "cells": [
  {
   "cell_type": "markdown",
   "metadata": {},
   "source": [
    "# Detecting drifts with NannyML"
   ]
  },
  {
   "cell_type": "code",
   "execution_count": null,
   "metadata": {},
   "outputs": [],
   "source": [
    "import nannyml as nml\n",
    "from IPython.display import display"
   ]
  },
  {
   "cell_type": "code",
   "execution_count": null,
   "metadata": {},
   "outputs": [],
   "source": [
    "reference_df, analysis_df, _ = nml.load_synthetic_car_loan_dataset()\n",
    "display(reference_df.head())\n"
   ]
  },
  {
   "cell_type": "code",
   "execution_count": null,
   "metadata": {},
   "outputs": [],
   "source": [
    "display(analysis_df.head())"
   ]
  },
  {
   "cell_type": "code",
   "execution_count": null,
   "metadata": {},
   "outputs": [],
   "source": [
    "\n",
    "column_names = ['car_value', 'salary_range', 'debt_to_income_ratio', 'loan_length', 'repaid_loan_on_prev_car', 'size_of_downpayment', 'driver_tenure', 'y_pred_proba', 'y_pred']\n",
    "\n",
    "calc = nml.UnivariateDriftCalculator(\n",
    "     column_names=column_names,\n",
    "     treat_as_categorical=['y_pred'],\n",
    "     timestamp_column_name='timestamp',\n",
    "     continuous_methods=['kolmogorov_smirnov', 'jensen_shannon'],\n",
    "     categorical_methods=['chi2', 'jensen_shannon'],\n",
    ")\n",
    "\n",
    "calc.fit(reference_df)\n",
    "results = calc.calculate(analysis_df)\n",
    "display(results.filter(period='analysis', column_names=['debt_to_income_ratio']).to_df())\n"
   ]
  },
  {
   "cell_type": "code",
   "execution_count": null,
   "metadata": {},
   "outputs": [],
   "source": [
    "figure = results.filter(column_names=results.continuous_column_names, methods=['jensen_shannon']).plot(kind='drift')\n",
    "figure.show()\n",
    "\n",
    "figure = results.filter(column_names=results.categorical_column_names, methods=['chi2']).plot(kind='drift')\n",
    "figure.show()\n",
    "\n",
    "figure = results.filter(column_names=results.continuous_column_names, methods=['jensen_shannon']).plot(kind='distribution')\n",
    "figure.show()\n",
    "\n",
    "figure = results.filter(column_names=results.categorical_column_names, methods=['chi2']).plot(kind='distribution')\n",
    "figure.show()"
   ]
  }
 ],
 "metadata": {
  "kernelspec": {
   "display_name": "book",
   "language": "python",
   "name": "python3"
  },
  "language_info": {
   "codemirror_mode": {
    "name": "ipython",
    "version": 3
   },
   "file_extension": ".py",
   "mimetype": "text/x-python",
   "name": "python",
   "nbconvert_exporter": "python",
   "pygments_lexer": "ipython3",
   "version": "3.10.13"
  }
 },
 "nbformat": 4,
 "nbformat_minor": 2
}
