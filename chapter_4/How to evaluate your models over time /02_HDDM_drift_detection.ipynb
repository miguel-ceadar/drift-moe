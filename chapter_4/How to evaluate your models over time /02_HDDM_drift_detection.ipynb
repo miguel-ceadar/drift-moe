{
 "cells": [
  {
   "cell_type": "code",
   "execution_count": null,
   "id": "9a2f0bb0-bf0b-4645-b5d8-4cd13d54a15d",
   "metadata": {
    "tags": []
   },
   "outputs": [],
   "source": [
    "import numpy as np \n",
    "import pandas as pd\n",
    "import pickle"
   ]
  },
  {
   "cell_type": "code",
   "execution_count": null,
   "id": "0f4170a0-c3f5-4bc8-a636-40b188626558",
   "metadata": {
    "tags": []
   },
   "outputs": [],
   "source": [
    "# import river modules\n",
    "from river import datasets\n",
    "from river import evaluate\n",
    "from river import metrics\n",
    "from river import optim\n",
    "from river import preprocessing\n",
    "from river import linear_model\n",
    "from river import drift"
   ]
  },
  {
   "cell_type": "markdown",
   "id": "e91f13bb-caaa-485b-b077-02b8426ed7b8",
   "metadata": {},
   "source": [
    "#### Drift Detection using HDDM_A"
   ]
  },
  {
   "cell_type": "code",
   "execution_count": null,
   "id": "11e542bb-4d81-4ba1-80f3-4233311fd9b5",
   "metadata": {
    "tags": []
   },
   "outputs": [],
   "source": [
    "# Dataset\n",
    "dataset = datasets.synth.Agrawal(\n",
    "     classification_function=5,\n",
    "     seed=42\n",
    ")\n",
    "\n",
    "# Initializing model\n",
    "LRmodel = pickle.load(open('saved_models/classification/model.pkl', 'rb'))\n",
    "\n",
    "# Initialize HDMM_A drift detector\n",
    "hddm_a = drift.HDDM_A(drift_confidence=0.05,\n",
    "                     warning_confidence=0.09,\n",
    "                     two_sided_test=False)\n",
    "\n",
    "# Initialise metric\n",
    "metric = metrics.Accuracy()\n",
    "print_warning = True\n",
    "drifts = list()\n",
    "warnings = list()\n",
    "\n",
    "for i,data in enumerate(dataset.take(800)):\n",
    "    # data[0] - features, data[1] - label\n",
    "    y_pred = LRmodel.predict_one(data[0])\n",
    "    metric = metric.update(data[1],y_pred)\n",
    "    # correctly_classified if y_pred == data[1] for checking accuracy\n",
    "    hddm_a.update(y_pred == data[1])   # Data is processed one sample at a time\n",
    "    if hddm_a.warning_detected and print_warning:\n",
    "        # The drift detector indicates after each sample if there is a drift in the data\n",
    "        print(f'Warning detected at index {i}')\n",
    "        print_warning = False\n",
    "        warnings.append(i)\n",
    "    if hddm_a.drift_detected:\n",
    "        print(f\"Change detected at index {i}\")\n",
    "        print_warning = True\n",
    "        drifts.append(i)\n",
    "\n",
    "print(f'{metric}\\n')\n",
    "print(f'Warnings: {warnings}')\n",
    "print(f'Drifts: {drifts}')"
   ]
  },
  {
   "cell_type": "code",
   "execution_count": null,
   "id": "afba0ce0-c5eb-49ae-8501-7649e5dc4f8b",
   "metadata": {},
   "outputs": [],
   "source": []
  }
 ],
 "metadata": {
  "kernelspec": {
   "display_name": "Python 3 (ipykernel)",
   "language": "python",
   "name": "python3"
  },
  "language_info": {
   "codemirror_mode": {
    "name": "ipython",
    "version": 3
   },
   "file_extension": ".py",
   "mimetype": "text/x-python",
   "name": "python",
   "nbconvert_exporter": "python",
   "pygments_lexer": "ipython3",
   "version": "3.10.13"
  }
 },
 "nbformat": 4,
 "nbformat_minor": 5
}
