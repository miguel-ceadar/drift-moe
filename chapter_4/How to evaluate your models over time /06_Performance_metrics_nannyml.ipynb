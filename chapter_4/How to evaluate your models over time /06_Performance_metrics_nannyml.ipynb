{
 "cells": [
  {
   "cell_type": "code",
   "execution_count": 20,
   "id": "1cfd5c88-c171-4ed2-bbb5-92ecde4613b3",
   "metadata": {
    "tags": []
   },
   "outputs": [],
   "source": [
    "import nannyml as nml"
   ]
  },
  {
   "cell_type": "code",
   "execution_count": 21,
   "id": "7befa16a-bdd4-47c0-90aa-8addf57c0dfc",
   "metadata": {
    "tags": []
   },
   "outputs": [],
   "source": [
    "reference_df, analysis_df, _ = nml.load_synthetic_car_loan_dataset()"
   ]
  },
  {
   "cell_type": "code",
   "execution_count": 22,
   "id": "c388b2af-aa0b-4278-b134-361b41526ec2",
   "metadata": {
    "tags": []
   },
   "outputs": [
    {
     "data": {
      "text/html": [
       "<div>\n",
       "<style scoped>\n",
       "    .dataframe tbody tr th:only-of-type {\n",
       "        vertical-align: middle;\n",
       "    }\n",
       "\n",
       "    .dataframe tbody tr th {\n",
       "        vertical-align: top;\n",
       "    }\n",
       "\n",
       "    .dataframe thead th {\n",
       "        text-align: right;\n",
       "    }\n",
       "</style>\n",
       "<table border=\"1\" class=\"dataframe\">\n",
       "  <thead>\n",
       "    <tr style=\"text-align: right;\">\n",
       "      <th></th>\n",
       "      <th>car_value</th>\n",
       "      <th>salary_range</th>\n",
       "      <th>debt_to_income_ratio</th>\n",
       "      <th>loan_length</th>\n",
       "      <th>repaid_loan_on_prev_car</th>\n",
       "      <th>size_of_downpayment</th>\n",
       "      <th>driver_tenure</th>\n",
       "      <th>repaid</th>\n",
       "      <th>timestamp</th>\n",
       "      <th>y_pred_proba</th>\n",
       "      <th>y_pred</th>\n",
       "    </tr>\n",
       "  </thead>\n",
       "  <tbody>\n",
       "    <tr>\n",
       "      <th>0</th>\n",
       "      <td>39811.0</td>\n",
       "      <td>40K - 60K €</td>\n",
       "      <td>0.632950</td>\n",
       "      <td>19.0</td>\n",
       "      <td>False</td>\n",
       "      <td>40%</td>\n",
       "      <td>0.212653</td>\n",
       "      <td>1.0</td>\n",
       "      <td>2018-01-01 00:00:00.000</td>\n",
       "      <td>0.99</td>\n",
       "      <td>1</td>\n",
       "    </tr>\n",
       "    <tr>\n",
       "      <th>1</th>\n",
       "      <td>12679.0</td>\n",
       "      <td>40K - 60K €</td>\n",
       "      <td>0.718627</td>\n",
       "      <td>7.0</td>\n",
       "      <td>True</td>\n",
       "      <td>10%</td>\n",
       "      <td>4.927549</td>\n",
       "      <td>0.0</td>\n",
       "      <td>2018-01-01 00:08:43.152</td>\n",
       "      <td>0.07</td>\n",
       "      <td>0</td>\n",
       "    </tr>\n",
       "    <tr>\n",
       "      <th>2</th>\n",
       "      <td>19847.0</td>\n",
       "      <td>40K - 60K €</td>\n",
       "      <td>0.721724</td>\n",
       "      <td>17.0</td>\n",
       "      <td>False</td>\n",
       "      <td>0%</td>\n",
       "      <td>0.520817</td>\n",
       "      <td>1.0</td>\n",
       "      <td>2018-01-01 00:17:26.304</td>\n",
       "      <td>1.00</td>\n",
       "      <td>1</td>\n",
       "    </tr>\n",
       "    <tr>\n",
       "      <th>3</th>\n",
       "      <td>22652.0</td>\n",
       "      <td>20K - 20K €</td>\n",
       "      <td>0.705992</td>\n",
       "      <td>16.0</td>\n",
       "      <td>False</td>\n",
       "      <td>10%</td>\n",
       "      <td>0.453649</td>\n",
       "      <td>1.0</td>\n",
       "      <td>2018-01-01 00:26:09.456</td>\n",
       "      <td>0.98</td>\n",
       "      <td>1</td>\n",
       "    </tr>\n",
       "    <tr>\n",
       "      <th>4</th>\n",
       "      <td>21268.0</td>\n",
       "      <td>60K+ €</td>\n",
       "      <td>0.671888</td>\n",
       "      <td>21.0</td>\n",
       "      <td>True</td>\n",
       "      <td>30%</td>\n",
       "      <td>5.695263</td>\n",
       "      <td>1.0</td>\n",
       "      <td>2018-01-01 00:34:52.608</td>\n",
       "      <td>0.99</td>\n",
       "      <td>1</td>\n",
       "    </tr>\n",
       "  </tbody>\n",
       "</table>\n",
       "</div>"
      ],
      "text/plain": [
       "   car_value salary_range  debt_to_income_ratio  loan_length  \\\n",
       "0    39811.0  40K - 60K €              0.632950         19.0   \n",
       "1    12679.0  40K - 60K €              0.718627          7.0   \n",
       "2    19847.0  40K - 60K €              0.721724         17.0   \n",
       "3    22652.0  20K - 20K €              0.705992         16.0   \n",
       "4    21268.0       60K+ €              0.671888         21.0   \n",
       "\n",
       "   repaid_loan_on_prev_car size_of_downpayment  driver_tenure  repaid  \\\n",
       "0                    False                 40%       0.212653     1.0   \n",
       "1                     True                 10%       4.927549     0.0   \n",
       "2                    False                  0%       0.520817     1.0   \n",
       "3                    False                 10%       0.453649     1.0   \n",
       "4                     True                 30%       5.695263     1.0   \n",
       "\n",
       "                 timestamp  y_pred_proba  y_pred  \n",
       "0  2018-01-01 00:00:00.000          0.99       1  \n",
       "1  2018-01-01 00:08:43.152          0.07       0  \n",
       "2  2018-01-01 00:17:26.304          1.00       1  \n",
       "3  2018-01-01 00:26:09.456          0.98       1  \n",
       "4  2018-01-01 00:34:52.608          0.99       1  "
      ]
     },
     "execution_count": 22,
     "metadata": {},
     "output_type": "execute_result"
    }
   ],
   "source": [
    "reference_df.head()"
   ]
  },
  {
   "cell_type": "code",
   "execution_count": 23,
   "id": "8fb69608-f19f-476e-8cbf-718fcefbc218",
   "metadata": {
    "tags": []
   },
   "outputs": [
    {
     "data": {
      "text/html": [
       "<div>\n",
       "<style scoped>\n",
       "    .dataframe tbody tr th:only-of-type {\n",
       "        vertical-align: middle;\n",
       "    }\n",
       "\n",
       "    .dataframe tbody tr th {\n",
       "        vertical-align: top;\n",
       "    }\n",
       "\n",
       "    .dataframe thead th {\n",
       "        text-align: right;\n",
       "    }\n",
       "</style>\n",
       "<table border=\"1\" class=\"dataframe\">\n",
       "  <thead>\n",
       "    <tr style=\"text-align: right;\">\n",
       "      <th></th>\n",
       "      <th>car_value</th>\n",
       "      <th>salary_range</th>\n",
       "      <th>debt_to_income_ratio</th>\n",
       "      <th>loan_length</th>\n",
       "      <th>repaid_loan_on_prev_car</th>\n",
       "      <th>size_of_downpayment</th>\n",
       "      <th>driver_tenure</th>\n",
       "      <th>timestamp</th>\n",
       "      <th>y_pred_proba</th>\n",
       "      <th>y_pred</th>\n",
       "    </tr>\n",
       "  </thead>\n",
       "  <tbody>\n",
       "    <tr>\n",
       "      <th>0</th>\n",
       "      <td>12638.0</td>\n",
       "      <td>0 - 20K €</td>\n",
       "      <td>0.487926</td>\n",
       "      <td>21.0</td>\n",
       "      <td>False</td>\n",
       "      <td>10%</td>\n",
       "      <td>4.224628</td>\n",
       "      <td>2018-10-30 18:00:00.000</td>\n",
       "      <td>0.99</td>\n",
       "      <td>1</td>\n",
       "    </tr>\n",
       "    <tr>\n",
       "      <th>1</th>\n",
       "      <td>52425.0</td>\n",
       "      <td>20K - 20K €</td>\n",
       "      <td>0.672183</td>\n",
       "      <td>20.0</td>\n",
       "      <td>False</td>\n",
       "      <td>40%</td>\n",
       "      <td>4.963103</td>\n",
       "      <td>2018-10-30 18:08:43.152</td>\n",
       "      <td>0.98</td>\n",
       "      <td>1</td>\n",
       "    </tr>\n",
       "    <tr>\n",
       "      <th>2</th>\n",
       "      <td>20369.0</td>\n",
       "      <td>40K - 60K €</td>\n",
       "      <td>0.703090</td>\n",
       "      <td>19.0</td>\n",
       "      <td>True</td>\n",
       "      <td>40%</td>\n",
       "      <td>4.588951</td>\n",
       "      <td>2018-10-30 18:17:26.304</td>\n",
       "      <td>0.98</td>\n",
       "      <td>1</td>\n",
       "    </tr>\n",
       "    <tr>\n",
       "      <th>3</th>\n",
       "      <td>10592.0</td>\n",
       "      <td>20K - 20K €</td>\n",
       "      <td>0.653258</td>\n",
       "      <td>21.0</td>\n",
       "      <td>False</td>\n",
       "      <td>10%</td>\n",
       "      <td>4.711015</td>\n",
       "      <td>2018-10-30 18:26:09.456</td>\n",
       "      <td>0.97</td>\n",
       "      <td>1</td>\n",
       "    </tr>\n",
       "    <tr>\n",
       "      <th>4</th>\n",
       "      <td>33933.0</td>\n",
       "      <td>0 - 20K €</td>\n",
       "      <td>0.722263</td>\n",
       "      <td>18.0</td>\n",
       "      <td>False</td>\n",
       "      <td>0%</td>\n",
       "      <td>0.906738</td>\n",
       "      <td>2018-10-30 18:34:52.608</td>\n",
       "      <td>0.92</td>\n",
       "      <td>1</td>\n",
       "    </tr>\n",
       "  </tbody>\n",
       "</table>\n",
       "</div>"
      ],
      "text/plain": [
       "   car_value salary_range  debt_to_income_ratio  loan_length  \\\n",
       "0    12638.0    0 - 20K €              0.487926         21.0   \n",
       "1    52425.0  20K - 20K €              0.672183         20.0   \n",
       "2    20369.0  40K - 60K €              0.703090         19.0   \n",
       "3    10592.0  20K - 20K €              0.653258         21.0   \n",
       "4    33933.0    0 - 20K €              0.722263         18.0   \n",
       "\n",
       "   repaid_loan_on_prev_car size_of_downpayment  driver_tenure  \\\n",
       "0                    False                 10%       4.224628   \n",
       "1                    False                 40%       4.963103   \n",
       "2                     True                 40%       4.588951   \n",
       "3                    False                 10%       4.711015   \n",
       "4                    False                  0%       0.906738   \n",
       "\n",
       "                 timestamp  y_pred_proba  y_pred  \n",
       "0  2018-10-30 18:00:00.000          0.99       1  \n",
       "1  2018-10-30 18:08:43.152          0.98       1  \n",
       "2  2018-10-30 18:17:26.304          0.98       1  \n",
       "3  2018-10-30 18:26:09.456          0.97       1  \n",
       "4  2018-10-30 18:34:52.608          0.92       1  "
      ]
     },
     "execution_count": 23,
     "metadata": {},
     "output_type": "execute_result"
    }
   ],
   "source": [
    "analysis_df.head()"
   ]
  },
  {
   "cell_type": "markdown",
   "id": "bc5acb54-3ebd-43e7-82a3-21268fa4dfc7",
   "metadata": {},
   "source": [
    "#### Size based chunking"
   ]
  },
  {
   "cell_type": "code",
   "execution_count": 24,
   "id": "2e5c3d50-cbcf-45a5-a153-829cdec30b96",
   "metadata": {
    "tags": []
   },
   "outputs": [],
   "source": [
    "cbpe = nml.CBPE(\n",
    "    y_pred_proba='y_pred_proba',\n",
    "    y_pred='y_pred',\n",
    "    y_true='repaid',\n",
    "    timestamp_column_name='timestamp',\n",
    "    metrics=['roc_auc'],\n",
    "    problem_type='classification_binary',\n",
    "    chunk_size=3500, # here we define the chunk size.\n",
    ")"
   ]
  },
  {
   "cell_type": "code",
   "execution_count": 25,
   "id": "b89801c4-d913-467d-811d-dc2d6041688b",
   "metadata": {
    "tags": []
   },
   "outputs": [
    {
     "data": {
      "text/plain": [
       "<nannyml.performance_estimation.confidence_based.cbpe.CBPE at 0x7fa4a6dbb4c0>"
      ]
     },
     "execution_count": 25,
     "metadata": {},
     "output_type": "execute_result"
    }
   ],
   "source": [
    "cbpe.fit(reference_df)"
   ]
  },
  {
   "cell_type": "code",
   "execution_count": 26,
   "id": "235f8820-7258-45f1-8a2f-cdfeb9ac8826",
   "metadata": {
    "tags": []
   },
   "outputs": [],
   "source": [
    "est_perf = cbpe.estimate(analysis_df)"
   ]
  },
  {
   "cell_type": "code",
   "execution_count": 27,
   "id": "3b87977a-674c-4cc3-8aae-8f48d4a345ea",
   "metadata": {
    "tags": []
   },
   "outputs": [
    {
     "data": {
      "text/html": [
       "<div>\n",
       "<style scoped>\n",
       "    .dataframe tbody tr th:only-of-type {\n",
       "        vertical-align: middle;\n",
       "    }\n",
       "\n",
       "    .dataframe tbody tr th {\n",
       "        vertical-align: top;\n",
       "    }\n",
       "\n",
       "    .dataframe thead tr th {\n",
       "        text-align: left;\n",
       "    }\n",
       "</style>\n",
       "<table border=\"1\" class=\"dataframe\">\n",
       "  <thead>\n",
       "    <tr>\n",
       "      <th></th>\n",
       "      <th colspan=\"6\" halign=\"left\">chunk</th>\n",
       "    </tr>\n",
       "    <tr>\n",
       "      <th></th>\n",
       "      <th>key</th>\n",
       "      <th>chunk_index</th>\n",
       "      <th>start_index</th>\n",
       "      <th>end_index</th>\n",
       "      <th>start_date</th>\n",
       "      <th>end_date</th>\n",
       "    </tr>\n",
       "  </thead>\n",
       "  <tbody>\n",
       "    <tr>\n",
       "      <th>0</th>\n",
       "      <td>[0:3499]</td>\n",
       "      <td>0</td>\n",
       "      <td>0</td>\n",
       "      <td>3499</td>\n",
       "      <td>2018-01-01 00:00:00</td>\n",
       "      <td>2018-01-22 04:28:28.848</td>\n",
       "    </tr>\n",
       "    <tr>\n",
       "      <th>1</th>\n",
       "      <td>[3500:6999]</td>\n",
       "      <td>1</td>\n",
       "      <td>3500</td>\n",
       "      <td>6999</td>\n",
       "      <td>2018-01-22 04:37:12</td>\n",
       "      <td>2018-02-12 09:05:40.848</td>\n",
       "    </tr>\n",
       "    <tr>\n",
       "      <th>2</th>\n",
       "      <td>[7000:10499]</td>\n",
       "      <td>2</td>\n",
       "      <td>7000</td>\n",
       "      <td>10499</td>\n",
       "      <td>2018-02-12 09:14:24</td>\n",
       "      <td>2018-03-05 13:42:52.848</td>\n",
       "    </tr>\n",
       "  </tbody>\n",
       "</table>\n",
       "</div>"
      ],
      "text/plain": [
       "          chunk                                                        \\\n",
       "            key chunk_index start_index end_index          start_date   \n",
       "0      [0:3499]           0           0      3499 2018-01-01 00:00:00   \n",
       "1   [3500:6999]           1        3500      6999 2018-01-22 04:37:12   \n",
       "2  [7000:10499]           2        7000     10499 2018-02-12 09:14:24   \n",
       "\n",
       "                           \n",
       "                 end_date  \n",
       "0 2018-01-22 04:28:28.848  \n",
       "1 2018-02-12 09:05:40.848  \n",
       "2 2018-03-05 13:42:52.848  "
      ]
     },
     "execution_count": 27,
     "metadata": {},
     "output_type": "execute_result"
    }
   ],
   "source": [
    "est_perf.data.iloc[:3, :6]"
   ]
  },
  {
   "cell_type": "code",
   "execution_count": 28,
   "id": "5594bc51-5968-43ff-971e-0da2f04f430e",
   "metadata": {
    "tags": []
   },
   "outputs": [],
   "source": [
    "figure = est_perf.plot(kind='performance')"
   ]
  },
  {
   "cell_type": "code",
   "execution_count": 29,
   "id": "03d3a694-b8fd-4875-b1ed-1bb029a010a2",
   "metadata": {
    "tags": []
   },
   "outputs": [
    {
     "data": {
      "application/vnd.plotly.v1+json": {
       "config": {
        "plotlyServerURL": "https://plot.ly"
       },
       "data": [
        {
         "hoverinfo": "skip",
         "legendgroup": "metric_reference",
         "line": {
          "color": "#3b0280",
          "dash": "dash",
          "shape": "hv",
          "width": 2
         },
         "mode": "lines",
         "name": "Metric",
         "showlegend": true,
         "type": "scatter",
         "x": [
          "2018-01-01T00:00:00",
          "2018-01-22T04:37:12",
          "2018-02-12T09:14:24",
          "2018-03-05T13:51:36",
          "2018-03-26T18:28:48",
          "2018-04-16T23:06:00",
          "2018-05-08T03:43:12",
          "2018-05-29T08:20:24",
          "2018-06-19T12:57:36",
          "2018-07-10T17:34:48",
          "2018-07-31T22:12:00",
          "2018-08-22T02:49:12",
          "2018-09-12T07:26:24",
          "2018-10-03T12:03:36",
          "2018-10-30T17:51:16.848000"
         ],
         "xaxis": "x",
         "y": [
          0.9711141543776487,
          0.9714338484449446,
          0.970794118962904,
          0.9709789935422903,
          0.9711835536384775,
          0.9711270299476225,
          0.9712228103765392,
          0.9707976167145087,
          0.9712721760631918,
          0.9707099702889102,
          0.9710326273081721,
          0.9715589815875766,
          0.9710862586595468,
          0.971160101085215,
          0.971160101085215
         ],
         "yaxis": "y"
        },
        {
         "customdata": [
          [
           "Estimated <b>ROC AUC</b>",
           "<b style=\"color:#3b0280;line-height:60px\">Reference</b>",
           "",
           "[0:3499]",
           "From <b>Jan-01-2018</b> to <b>Jan-22-2018</b>",
           0.9711,
           0.0065
          ],
          [
           "Estimated <b>ROC AUC</b>",
           "<b style=\"color:#3b0280;line-height:60px\">Reference</b>",
           "",
           "[3500:6999]",
           "From <b>Jan-22-2018</b> to <b>Feb-12-2018</b>",
           0.9714,
           0.0065
          ],
          [
           "Estimated <b>ROC AUC</b>",
           "<b style=\"color:#3b0280;line-height:60px\">Reference</b>",
           "",
           "[7000:10499]",
           "From <b>Feb-12-2018</b> to <b>Mar-05-2018</b>",
           0.9708,
           0.0065
          ],
          [
           "Estimated <b>ROC AUC</b>",
           "<b style=\"color:#3b0280;line-height:60px\">Reference</b>",
           "",
           "[10500:13999]",
           "From <b>Mar-05-2018</b> to <b>Mar-26-2018</b>",
           0.971,
           0.0065
          ],
          [
           "Estimated <b>ROC AUC</b>",
           "<b style=\"color:#3b0280;line-height:60px\">Reference</b>",
           "",
           "[14000:17499]",
           "From <b>Mar-26-2018</b> to <b>Apr-16-2018</b>",
           0.9712,
           0.0065
          ],
          [
           "Estimated <b>ROC AUC</b>",
           "<b style=\"color:#3b0280;line-height:60px\">Reference</b>",
           "",
           "[17500:20999]",
           "From <b>Apr-16-2018</b> to <b>May-08-2018</b>",
           0.9711,
           0.0065
          ],
          [
           "Estimated <b>ROC AUC</b>",
           "<b style=\"color:#3b0280;line-height:60px\">Reference</b>",
           "",
           "[21000:24499]",
           "From <b>May-08-2018</b> to <b>May-29-2018</b>",
           0.9712,
           0.0065
          ],
          [
           "Estimated <b>ROC AUC</b>",
           "<b style=\"color:#3b0280;line-height:60px\">Reference</b>",
           "",
           "[24500:27999]",
           "From <b>May-29-2018</b> to <b>Jun-19-2018</b>",
           0.9708,
           0.0065
          ],
          [
           "Estimated <b>ROC AUC</b>",
           "<b style=\"color:#3b0280;line-height:60px\">Reference</b>",
           "",
           "[28000:31499]",
           "From <b>Jun-19-2018</b> to <b>Jul-10-2018</b>",
           0.9713,
           0.0065
          ],
          [
           "Estimated <b>ROC AUC</b>",
           "<b style=\"color:#3b0280;line-height:60px\">Reference</b>",
           "",
           "[31500:34999]",
           "From <b>Jul-10-2018</b> to <b>Jul-31-2018</b>",
           0.9707,
           0.0065
          ],
          [
           "Estimated <b>ROC AUC</b>",
           "<b style=\"color:#3b0280;line-height:60px\">Reference</b>",
           "",
           "[35000:38499]",
           "From <b>Jul-31-2018</b> to <b>Aug-22-2018</b>",
           0.971,
           0.0065
          ],
          [
           "Estimated <b>ROC AUC</b>",
           "<b style=\"color:#3b0280;line-height:60px\">Reference</b>",
           "",
           "[38500:41999]",
           "From <b>Aug-22-2018</b> to <b>Sep-12-2018</b>",
           0.9716,
           0.0065
          ],
          [
           "Estimated <b>ROC AUC</b>",
           "<b style=\"color:#3b0280;line-height:60px\">Reference</b>",
           "",
           "[42000:45499]",
           "From <b>Sep-12-2018</b> to <b>Oct-03-2018</b>",
           0.9711,
           0.0065
          ],
          [
           "Estimated <b>ROC AUC</b>",
           "<b style=\"color:#3b0280;line-height:60px\">Reference</b>",
           "",
           "[45500:49999]",
           "From <b>Oct-03-2018</b> to <b>Oct-30-2018</b>",
           0.9712,
           0.0057
          ]
         ],
         "hovertemplate": "%{customdata[1]} &nbsp; &nbsp; %{customdata[2]} <br />Chunk: <b>%{customdata[3]}</b> &nbsp; &nbsp; %{customdata[4]} <br />%{customdata[0]}: <b>%{customdata[5]}</b><br />Confidence band: +/- <b>%{customdata[6]}</b><br /><extra></extra>",
         "legendgroup": "metric_reference",
         "line": {
          "dash": "dash"
         },
         "marker": {
          "color": "#3b0280",
          "size": 5,
          "symbol": "circle"
         },
         "mode": "markers",
         "name": "Metric",
         "showlegend": false,
         "type": "scatter",
         "x": [
          "2018-01-11T14:18:36",
          "2018-02-01T18:55:48",
          "2018-02-22T23:33:00",
          "2018-03-16T04:10:12",
          "2018-04-06T08:47:24",
          "2018-04-27T13:24:36",
          "2018-05-18T18:01:48",
          "2018-06-08T22:39:00",
          "2018-06-30T03:16:12",
          "2018-07-21T07:53:24",
          "2018-08-11T12:30:36",
          "2018-09-01T17:07:48",
          "2018-09-22T21:45:00",
          "2018-10-17T02:57:26.424000"
         ],
         "xaxis": "x",
         "y": [
          0.9711141543776487,
          0.9714338484449446,
          0.970794118962904,
          0.9709789935422903,
          0.9711835536384775,
          0.9711270299476225,
          0.9712228103765392,
          0.9707976167145087,
          0.9712721760631918,
          0.9707099702889102,
          0.9710326273081721,
          0.9715589815875766,
          0.9710862586595468,
          0.971160101085215,
          0.971160101085215
         ],
         "yaxis": "y"
        },
        {
         "hoverinfo": "skip",
         "legendgroup": "metric_analysis",
         "line": {
          "color": "#3b0280",
          "dash": "dash",
          "shape": "hv",
          "width": 2
         },
         "mode": "lines",
         "name": "Metric",
         "showlegend": false,
         "type": "scatter",
         "x": [
          "2018-10-30T18:00:00",
          "2018-11-20T22:37:12",
          "2018-12-12T03:14:24",
          "2019-01-02T07:51:36",
          "2019-01-23T12:28:48",
          "2019-02-13T17:06:00",
          "2019-03-06T21:43:12",
          "2019-03-28T02:20:24",
          "2019-04-18T06:57:36",
          "2019-05-09T11:34:48",
          "2019-05-30T16:12:00",
          "2019-06-20T20:49:12",
          "2019-07-12T01:26:24",
          "2019-08-02T06:03:36",
          "2019-08-29T11:51:16.848000"
         ],
         "xaxis": "x",
         "y": [
          0.9707243330786001,
          0.9709103110407242,
          0.9711452021486057,
          0.9713386013850864,
          0.9711270428529367,
          0.9711667092759231,
          0.971352358655818,
          0.963013418036912,
          0.9609614754522646,
          0.9619067163856213,
          0.9608876697965859,
          0.9619211454740371,
          0.9623631678419259,
          0.9615068637309028,
          0.9615068637309028
         ],
         "yaxis": "y"
        },
        {
         "customdata": [
          [
           "Estimated <b>ROC AUC</b>",
           "<b style=\"color:#3b0280;line-height:60px\">Analysis</b>",
           "",
           "[0:3499]",
           "From <b>Oct-30-2018</b> to <b>Nov-20-2018</b>",
           0.9707,
           0.0065
          ],
          [
           "Estimated <b>ROC AUC</b>",
           "<b style=\"color:#3b0280;line-height:60px\">Analysis</b>",
           "",
           "[3500:6999]",
           "From <b>Nov-20-2018</b> to <b>Dec-12-2018</b>",
           0.9709,
           0.0065
          ],
          [
           "Estimated <b>ROC AUC</b>",
           "<b style=\"color:#3b0280;line-height:60px\">Analysis</b>",
           "",
           "[7000:10499]",
           "From <b>Dec-12-2018</b> to <b>Jan-02-2019</b>",
           0.9711,
           0.0065
          ],
          [
           "Estimated <b>ROC AUC</b>",
           "<b style=\"color:#3b0280;line-height:60px\">Analysis</b>",
           "",
           "[10500:13999]",
           "From <b>Jan-02-2019</b> to <b>Jan-23-2019</b>",
           0.9713,
           0.0065
          ],
          [
           "Estimated <b>ROC AUC</b>",
           "<b style=\"color:#3b0280;line-height:60px\">Analysis</b>",
           "",
           "[14000:17499]",
           "From <b>Jan-23-2019</b> to <b>Feb-13-2019</b>",
           0.9711,
           0.0065
          ],
          [
           "Estimated <b>ROC AUC</b>",
           "<b style=\"color:#3b0280;line-height:60px\">Analysis</b>",
           "",
           "[17500:20999]",
           "From <b>Feb-13-2019</b> to <b>Mar-06-2019</b>",
           0.9712,
           0.0065
          ],
          [
           "Estimated <b>ROC AUC</b>",
           "<b style=\"color:#3b0280;line-height:60px\">Analysis</b>",
           "",
           "[21000:24499]",
           "From <b>Mar-06-2019</b> to <b>Mar-28-2019</b>",
           0.9714,
           0.0065
          ],
          [
           "Estimated <b>ROC AUC</b>",
           "<b style=\"color:#3b0280;line-height:60px\">Analysis</b>",
           "<span style=\"color:#AD0000\">⚠ <b>Drift detected</b></span>",
           "[24500:27999]",
           "From <b>Mar-28-2019</b> to <b>Apr-18-2019</b>",
           0.963,
           0.0065
          ],
          [
           "Estimated <b>ROC AUC</b>",
           "<b style=\"color:#3b0280;line-height:60px\">Analysis</b>",
           "<span style=\"color:#AD0000\">⚠ <b>Drift detected</b></span>",
           "[28000:31499]",
           "From <b>Apr-18-2019</b> to <b>May-09-2019</b>",
           0.961,
           0.0065
          ],
          [
           "Estimated <b>ROC AUC</b>",
           "<b style=\"color:#3b0280;line-height:60px\">Analysis</b>",
           "<span style=\"color:#AD0000\">⚠ <b>Drift detected</b></span>",
           "[31500:34999]",
           "From <b>May-09-2019</b> to <b>May-30-2019</b>",
           0.9619,
           0.0065
          ],
          [
           "Estimated <b>ROC AUC</b>",
           "<b style=\"color:#3b0280;line-height:60px\">Analysis</b>",
           "<span style=\"color:#AD0000\">⚠ <b>Drift detected</b></span>",
           "[35000:38499]",
           "From <b>May-30-2019</b> to <b>Jun-20-2019</b>",
           0.9609,
           0.0065
          ],
          [
           "Estimated <b>ROC AUC</b>",
           "<b style=\"color:#3b0280;line-height:60px\">Analysis</b>",
           "<span style=\"color:#AD0000\">⚠ <b>Drift detected</b></span>",
           "[38500:41999]",
           "From <b>Jun-20-2019</b> to <b>Jul-12-2019</b>",
           0.9619,
           0.0065
          ],
          [
           "Estimated <b>ROC AUC</b>",
           "<b style=\"color:#3b0280;line-height:60px\">Analysis</b>",
           "<span style=\"color:#AD0000\">⚠ <b>Drift detected</b></span>",
           "[42000:45499]",
           "From <b>Jul-12-2019</b> to <b>Aug-02-2019</b>",
           0.9624,
           0.0065
          ],
          [
           "Estimated <b>ROC AUC</b>",
           "<b style=\"color:#3b0280;line-height:60px\">Analysis</b>",
           "<span style=\"color:#AD0000\">⚠ <b>Drift detected</b></span>",
           "[45500:49999]",
           "From <b>Aug-02-2019</b> to <b>Aug-29-2019</b>",
           0.9615,
           0.0057
          ]
         ],
         "hovertemplate": "%{customdata[1]} &nbsp; &nbsp; %{customdata[2]} <br />Chunk: <b>%{customdata[3]}</b> &nbsp; &nbsp; %{customdata[4]} <br />%{customdata[0]}: <b>%{customdata[5]}</b><br />Confidence band: +/- <b>%{customdata[6]}</b><br /><extra></extra>",
         "legendgroup": "metric_analysis",
         "line": {
          "dash": "dash"
         },
         "marker": {
          "color": "#3b0280",
          "size": 5,
          "symbol": "circle"
         },
         "mode": "markers",
         "name": "Metric",
         "showlegend": false,
         "type": "scatter",
         "x": [
          "2018-11-10T08:18:36",
          "2018-12-01T12:55:48",
          "2018-12-22T17:33:00",
          "2019-01-12T22:10:12",
          "2019-02-03T02:47:24",
          "2019-02-24T07:24:36",
          "2019-03-17T12:01:48",
          "2019-04-07T16:39:00",
          "2019-04-28T21:16:12",
          "2019-05-20T01:53:24",
          "2019-06-10T06:30:36",
          "2019-07-01T11:07:48",
          "2019-07-22T15:45:00",
          "2019-08-15T20:57:26.424000"
         ],
         "xaxis": "x",
         "y": [
          0.9707243330786001,
          0.9709103110407242,
          0.9711452021486057,
          0.9713386013850864,
          0.9711270428529367,
          0.9711667092759231,
          0.971352358655818,
          0.963013418036912,
          0.9609614754522646,
          0.9619067163856213,
          0.9608876697965859,
          0.9619211454740371,
          0.9623631678419259,
          0.9615068637309028,
          0.9615068637309028
         ],
         "yaxis": "y"
        },
        {
         "hoverinfo": "skip",
         "legendgroup": "alert",
         "marker": {
          "color": "#DD4040",
          "size": 8,
          "symbol": "diamond"
         },
         "mode": "markers",
         "name": "Alert",
         "showlegend": true,
         "type": "scatter",
         "x": [
          "2019-04-07T16:39:00",
          "2019-04-28T21:16:12",
          "2019-05-20T01:53:24",
          "2019-06-10T06:30:36",
          "2019-07-01T11:07:48",
          "2019-07-22T15:45:00",
          "2019-08-15T20:57:26.424000"
         ],
         "xaxis": "x",
         "y": [
          0.963013418036912,
          0.9609614754522646,
          0.9619067163856213,
          0.9608876697965859,
          0.9619211454740371,
          0.9623631678419259,
          0.9615068637309028
         ],
         "yaxis": "y"
        },
        {
         "hoverinfo": "skip",
         "legendgroup": "thresh",
         "line": {
          "color": "#DD4040",
          "dash": "dash",
          "width": 2
         },
         "mode": "lines",
         "name": "Threshold",
         "showlegend": true,
         "type": "scatter",
         "x": [
          "2018-01-01T00:00:00",
          "2018-01-22T04:37:12",
          "2018-02-12T09:14:24",
          "2018-03-05T13:51:36",
          "2018-03-26T18:28:48",
          "2018-04-16T23:06:00",
          "2018-05-08T03:43:12",
          "2018-05-29T08:20:24",
          "2018-06-19T12:57:36",
          "2018-07-10T17:34:48",
          "2018-07-31T22:12:00",
          "2018-08-22T02:49:12",
          "2018-09-12T07:26:24",
          "2018-10-03T12:03:36",
          "2018-10-30T17:51:16.848000"
         ],
         "xaxis": "x",
         "y": [
          0.978564155174044,
          0.978564155174044,
          0.978564155174044,
          0.978564155174044,
          0.978564155174044,
          0.978564155174044,
          0.978564155174044,
          0.978564155174044,
          0.978564155174044,
          0.978564155174044,
          0.978564155174044,
          0.978564155174044,
          0.978564155174044,
          0.978564155174044,
          0.978564155174044
         ],
         "yaxis": "y"
        },
        {
         "hoverinfo": "skip",
         "legendgroup": "thresh",
         "line": {
          "color": "#DD4040",
          "dash": "dash",
          "width": 2
         },
         "mode": "lines",
         "name": "Threshold",
         "showlegend": false,
         "type": "scatter",
         "x": [
          "2018-01-01T00:00:00",
          "2018-01-22T04:37:12",
          "2018-02-12T09:14:24",
          "2018-03-05T13:51:36",
          "2018-03-26T18:28:48",
          "2018-04-16T23:06:00",
          "2018-05-08T03:43:12",
          "2018-05-29T08:20:24",
          "2018-06-19T12:57:36",
          "2018-07-10T17:34:48",
          "2018-07-31T22:12:00",
          "2018-08-22T02:49:12",
          "2018-09-12T07:26:24",
          "2018-10-03T12:03:36",
          "2018-10-30T17:51:16.848000"
         ],
         "xaxis": "x",
         "y": [
          0.963390373907214,
          0.963390373907214,
          0.963390373907214,
          0.963390373907214,
          0.963390373907214,
          0.963390373907214,
          0.963390373907214,
          0.963390373907214,
          0.963390373907214,
          0.963390373907214,
          0.963390373907214,
          0.963390373907214,
          0.963390373907214,
          0.963390373907214,
          0.963390373907214
         ],
         "yaxis": "y"
        },
        {
         "hoverinfo": "skip",
         "legendgroup": "thresh",
         "line": {
          "color": "#DD4040",
          "dash": "dash",
          "width": 2
         },
         "mode": "lines",
         "name": "Threshold",
         "showlegend": false,
         "type": "scatter",
         "x": [
          "2018-10-30T18:00:00",
          "2018-11-20T22:37:12",
          "2018-12-12T03:14:24",
          "2019-01-02T07:51:36",
          "2019-01-23T12:28:48",
          "2019-02-13T17:06:00",
          "2019-03-06T21:43:12",
          "2019-03-28T02:20:24",
          "2019-04-18T06:57:36",
          "2019-05-09T11:34:48",
          "2019-05-30T16:12:00",
          "2019-06-20T20:49:12",
          "2019-07-12T01:26:24",
          "2019-08-02T06:03:36",
          "2019-08-29T11:51:16.848000"
         ],
         "xaxis": "x",
         "y": [
          0.978564155174044,
          0.978564155174044,
          0.978564155174044,
          0.978564155174044,
          0.978564155174044,
          0.978564155174044,
          0.978564155174044,
          0.978564155174044,
          0.978564155174044,
          0.978564155174044,
          0.978564155174044,
          0.978564155174044,
          0.978564155174044,
          0.978564155174044,
          0.978564155174044
         ],
         "yaxis": "y"
        },
        {
         "hoverinfo": "skip",
         "legendgroup": "thresh",
         "line": {
          "color": "#DD4040",
          "dash": "dash",
          "width": 2
         },
         "mode": "lines",
         "name": "Threshold",
         "showlegend": false,
         "type": "scatter",
         "x": [
          "2018-10-30T18:00:00",
          "2018-11-20T22:37:12",
          "2018-12-12T03:14:24",
          "2019-01-02T07:51:36",
          "2019-01-23T12:28:48",
          "2019-02-13T17:06:00",
          "2019-03-06T21:43:12",
          "2019-03-28T02:20:24",
          "2019-04-18T06:57:36",
          "2019-05-09T11:34:48",
          "2019-05-30T16:12:00",
          "2019-06-20T20:49:12",
          "2019-07-12T01:26:24",
          "2019-08-02T06:03:36",
          "2019-08-29T11:51:16.848000"
         ],
         "xaxis": "x",
         "y": [
          0.963390373907214,
          0.963390373907214,
          0.963390373907214,
          0.963390373907214,
          0.963390373907214,
          0.963390373907214,
          0.963390373907214,
          0.963390373907214,
          0.963390373907214,
          0.963390373907214,
          0.963390373907214,
          0.963390373907214,
          0.963390373907214,
          0.963390373907214,
          0.963390373907214
         ],
         "yaxis": "y"
        },
        {
         "hoverinfo": "skip",
         "line": {
          "color": "rgba(0, 0, 0, 0)",
          "shape": "hv"
         },
         "mode": "lines",
         "name": "Confidence band",
         "showlegend": false,
         "type": "scatter",
         "x": [
          "2018-01-01T00:00:00",
          "2018-01-22T04:37:12",
          "2018-02-12T09:14:24",
          "2018-03-05T13:51:36",
          "2018-03-26T18:28:48",
          "2018-04-16T23:06:00",
          "2018-05-08T03:43:12",
          "2018-05-29T08:20:24",
          "2018-06-19T12:57:36",
          "2018-07-10T17:34:48",
          "2018-07-31T22:12:00",
          "2018-08-22T02:49:12",
          "2018-09-12T07:26:24",
          "2018-10-03T12:03:36",
          "2018-10-30T17:51:16.848000"
         ],
         "xaxis": "x",
         "y": [
          0.9776068143536168,
          0.9779265084209128,
          0.9772867789388722,
          0.9774716535182585,
          0.9776762136144457,
          0.9776196899235906,
          0.9777154703525074,
          0.9772902766904769,
          0.97776483603916,
          0.9772026302648783,
          0.9775252872841402,
          0.9780516415635447,
          0.9775789186355149,
          0.976886088966453,
          0.976886088966453
         ],
         "yaxis": "y"
        },
        {
         "fill": "tonexty",
         "fillcolor": "rgba(59, 2, 128, 0.2)",
         "hoverinfo": "skip",
         "line": {
          "color": "rgba(0, 0, 0, 0)",
          "shape": "hv"
         },
         "mode": "lines",
         "name": "Confidence band",
         "showlegend": true,
         "type": "scatter",
         "x": [
          "2018-01-01T00:00:00",
          "2018-01-22T04:37:12",
          "2018-02-12T09:14:24",
          "2018-03-05T13:51:36",
          "2018-03-26T18:28:48",
          "2018-04-16T23:06:00",
          "2018-05-08T03:43:12",
          "2018-05-29T08:20:24",
          "2018-06-19T12:57:36",
          "2018-07-10T17:34:48",
          "2018-07-31T22:12:00",
          "2018-08-22T02:49:12",
          "2018-09-12T07:26:24",
          "2018-10-03T12:03:36",
          "2018-10-30T17:51:16.848000"
         ],
         "xaxis": "x",
         "y": [
          0.9646214944016805,
          0.9649411884689765,
          0.9643014589869359,
          0.9644863335663222,
          0.9646908936625094,
          0.9646343699716543,
          0.9647301504005711,
          0.9643049567385406,
          0.9647795160872237,
          0.964217310312942,
          0.9645399673322039,
          0.9650663216116084,
          0.9645935986835786,
          0.965434113203977,
          0.965434113203977
         ],
         "yaxis": "y"
        },
        {
         "hoverinfo": "skip",
         "line": {
          "color": "rgba(0, 0, 0, 0)",
          "shape": "hv"
         },
         "mode": "lines",
         "name": "Confidence band",
         "showlegend": false,
         "type": "scatter",
         "x": [
          "2018-10-30T18:00:00",
          "2018-11-20T22:37:12",
          "2018-12-12T03:14:24",
          "2019-01-02T07:51:36",
          "2019-01-23T12:28:48",
          "2019-02-13T17:06:00",
          "2019-03-06T21:43:12",
          "2019-03-28T02:20:24",
          "2019-04-18T06:57:36",
          "2019-05-09T11:34:48",
          "2019-05-30T16:12:00",
          "2019-06-20T20:49:12",
          "2019-07-12T01:26:24",
          "2019-08-02T06:03:36",
          "2019-08-29T11:51:16.848000"
         ],
         "xaxis": "x",
         "y": [
          0.9772169930545682,
          0.9774029710166924,
          0.9776378621245738,
          0.9778312613610546,
          0.9776197028289049,
          0.9776593692518912,
          0.9778450186317862,
          0.9695060780128801,
          0.9674541354282328,
          0.9683993763615895,
          0.9673803297725541,
          0.9684138054500052,
          0.968855827817894,
          0.9672328516121408,
          0.9672328516121408
         ],
         "yaxis": "y"
        },
        {
         "fill": "tonexty",
         "fillcolor": "rgba(59, 2, 128, 0.2)",
         "hoverinfo": "skip",
         "line": {
          "color": "rgba(0, 0, 0, 0)",
          "shape": "hv"
         },
         "mode": "lines",
         "name": "Confidence band",
         "showlegend": false,
         "type": "scatter",
         "x": [
          "2018-10-30T18:00:00",
          "2018-11-20T22:37:12",
          "2018-12-12T03:14:24",
          "2019-01-02T07:51:36",
          "2019-01-23T12:28:48",
          "2019-02-13T17:06:00",
          "2019-03-06T21:43:12",
          "2019-03-28T02:20:24",
          "2019-04-18T06:57:36",
          "2019-05-09T11:34:48",
          "2019-05-30T16:12:00",
          "2019-06-20T20:49:12",
          "2019-07-12T01:26:24",
          "2019-08-02T06:03:36",
          "2019-08-29T11:51:16.848000"
         ],
         "xaxis": "x",
         "y": [
          0.9642316731026319,
          0.9644176510647561,
          0.9646525421726375,
          0.9648459414091183,
          0.9646343828769686,
          0.9646740492999549,
          0.9648596986798499,
          0.9565207580609438,
          0.9544688154762965,
          0.9554140564096532,
          0.9543950098206178,
          0.9554284854980689,
          0.9558705078659577,
          0.9557808758496648,
          0.9557808758496648
         ],
         "yaxis": "y"
        }
       ],
       "layout": {
        "annotations": [
         {
          "font": {
           "size": 16
          },
          "showarrow": false,
          "text": "Estimated <b>ROC AUC</b>",
          "x": 0.5,
          "xanchor": "center",
          "xref": "paper",
          "y": 1,
          "yanchor": "bottom",
          "yref": "paper"
         },
         {
          "showarrow": false,
          "text": "Reference",
          "x": "2018-05-18T18:01:48",
          "xref": "x",
          "xshift": 10,
          "y": 1.01,
          "yref": "y domain"
         },
         {
          "showarrow": false,
          "text": "Analysis",
          "x": "2019-03-17T12:01:48",
          "xref": "x",
          "xshift": 15,
          "y": 1.01,
          "yref": "y domain"
         }
        ],
        "autosize": true,
        "hoverlabel": {
         "bgcolor": "white",
         "font": {
          "size": 14
         }
        },
        "legend": {
         "itemclick": false,
         "itemdoubleclick": false,
         "traceorder": "grouped"
        },
        "paper_bgcolor": "rgba(255,255,255,1)",
        "plot_bgcolor": "rgba(255,255,255,1)",
        "shapes": [
         {
          "layer": "below",
          "line": {
           "color": "#666666",
           "width": 1
          },
          "type": "line",
          "x0": "2018-10-30T18:00:00",
          "x1": "2018-10-30T18:00:00",
          "xref": "x",
          "y0": 0,
          "y1": 1,
          "yref": "y domain"
         }
        ],
        "template": {
         "data": {
          "bar": [
           {
            "error_x": {
             "color": "#2a3f5f"
            },
            "error_y": {
             "color": "#2a3f5f"
            },
            "marker": {
             "line": {
              "color": "#E5ECF6",
              "width": 0.5
             },
             "pattern": {
              "fillmode": "overlay",
              "size": 10,
              "solidity": 0.2
             }
            },
            "type": "bar"
           }
          ],
          "barpolar": [
           {
            "marker": {
             "line": {
              "color": "#E5ECF6",
              "width": 0.5
             },
             "pattern": {
              "fillmode": "overlay",
              "size": 10,
              "solidity": 0.2
             }
            },
            "type": "barpolar"
           }
          ],
          "carpet": [
           {
            "aaxis": {
             "endlinecolor": "#2a3f5f",
             "gridcolor": "white",
             "linecolor": "white",
             "minorgridcolor": "white",
             "startlinecolor": "#2a3f5f"
            },
            "baxis": {
             "endlinecolor": "#2a3f5f",
             "gridcolor": "white",
             "linecolor": "white",
             "minorgridcolor": "white",
             "startlinecolor": "#2a3f5f"
            },
            "type": "carpet"
           }
          ],
          "choropleth": [
           {
            "colorbar": {
             "outlinewidth": 0,
             "ticks": ""
            },
            "type": "choropleth"
           }
          ],
          "contour": [
           {
            "colorbar": {
             "outlinewidth": 0,
             "ticks": ""
            },
            "colorscale": [
             [
              0,
              "#0d0887"
             ],
             [
              0.1111111111111111,
              "#46039f"
             ],
             [
              0.2222222222222222,
              "#7201a8"
             ],
             [
              0.3333333333333333,
              "#9c179e"
             ],
             [
              0.4444444444444444,
              "#bd3786"
             ],
             [
              0.5555555555555556,
              "#d8576b"
             ],
             [
              0.6666666666666666,
              "#ed7953"
             ],
             [
              0.7777777777777778,
              "#fb9f3a"
             ],
             [
              0.8888888888888888,
              "#fdca26"
             ],
             [
              1,
              "#f0f921"
             ]
            ],
            "type": "contour"
           }
          ],
          "contourcarpet": [
           {
            "colorbar": {
             "outlinewidth": 0,
             "ticks": ""
            },
            "type": "contourcarpet"
           }
          ],
          "heatmap": [
           {
            "colorbar": {
             "outlinewidth": 0,
             "ticks": ""
            },
            "colorscale": [
             [
              0,
              "#0d0887"
             ],
             [
              0.1111111111111111,
              "#46039f"
             ],
             [
              0.2222222222222222,
              "#7201a8"
             ],
             [
              0.3333333333333333,
              "#9c179e"
             ],
             [
              0.4444444444444444,
              "#bd3786"
             ],
             [
              0.5555555555555556,
              "#d8576b"
             ],
             [
              0.6666666666666666,
              "#ed7953"
             ],
             [
              0.7777777777777778,
              "#fb9f3a"
             ],
             [
              0.8888888888888888,
              "#fdca26"
             ],
             [
              1,
              "#f0f921"
             ]
            ],
            "type": "heatmap"
           }
          ],
          "heatmapgl": [
           {
            "colorbar": {
             "outlinewidth": 0,
             "ticks": ""
            },
            "colorscale": [
             [
              0,
              "#0d0887"
             ],
             [
              0.1111111111111111,
              "#46039f"
             ],
             [
              0.2222222222222222,
              "#7201a8"
             ],
             [
              0.3333333333333333,
              "#9c179e"
             ],
             [
              0.4444444444444444,
              "#bd3786"
             ],
             [
              0.5555555555555556,
              "#d8576b"
             ],
             [
              0.6666666666666666,
              "#ed7953"
             ],
             [
              0.7777777777777778,
              "#fb9f3a"
             ],
             [
              0.8888888888888888,
              "#fdca26"
             ],
             [
              1,
              "#f0f921"
             ]
            ],
            "type": "heatmapgl"
           }
          ],
          "histogram": [
           {
            "marker": {
             "pattern": {
              "fillmode": "overlay",
              "size": 10,
              "solidity": 0.2
             }
            },
            "type": "histogram"
           }
          ],
          "histogram2d": [
           {
            "colorbar": {
             "outlinewidth": 0,
             "ticks": ""
            },
            "colorscale": [
             [
              0,
              "#0d0887"
             ],
             [
              0.1111111111111111,
              "#46039f"
             ],
             [
              0.2222222222222222,
              "#7201a8"
             ],
             [
              0.3333333333333333,
              "#9c179e"
             ],
             [
              0.4444444444444444,
              "#bd3786"
             ],
             [
              0.5555555555555556,
              "#d8576b"
             ],
             [
              0.6666666666666666,
              "#ed7953"
             ],
             [
              0.7777777777777778,
              "#fb9f3a"
             ],
             [
              0.8888888888888888,
              "#fdca26"
             ],
             [
              1,
              "#f0f921"
             ]
            ],
            "type": "histogram2d"
           }
          ],
          "histogram2dcontour": [
           {
            "colorbar": {
             "outlinewidth": 0,
             "ticks": ""
            },
            "colorscale": [
             [
              0,
              "#0d0887"
             ],
             [
              0.1111111111111111,
              "#46039f"
             ],
             [
              0.2222222222222222,
              "#7201a8"
             ],
             [
              0.3333333333333333,
              "#9c179e"
             ],
             [
              0.4444444444444444,
              "#bd3786"
             ],
             [
              0.5555555555555556,
              "#d8576b"
             ],
             [
              0.6666666666666666,
              "#ed7953"
             ],
             [
              0.7777777777777778,
              "#fb9f3a"
             ],
             [
              0.8888888888888888,
              "#fdca26"
             ],
             [
              1,
              "#f0f921"
             ]
            ],
            "type": "histogram2dcontour"
           }
          ],
          "mesh3d": [
           {
            "colorbar": {
             "outlinewidth": 0,
             "ticks": ""
            },
            "type": "mesh3d"
           }
          ],
          "parcoords": [
           {
            "line": {
             "colorbar": {
              "outlinewidth": 0,
              "ticks": ""
             }
            },
            "type": "parcoords"
           }
          ],
          "pie": [
           {
            "automargin": true,
            "type": "pie"
           }
          ],
          "scatter": [
           {
            "fillpattern": {
             "fillmode": "overlay",
             "size": 10,
             "solidity": 0.2
            },
            "type": "scatter"
           }
          ],
          "scatter3d": [
           {
            "line": {
             "colorbar": {
              "outlinewidth": 0,
              "ticks": ""
             }
            },
            "marker": {
             "colorbar": {
              "outlinewidth": 0,
              "ticks": ""
             }
            },
            "type": "scatter3d"
           }
          ],
          "scattercarpet": [
           {
            "marker": {
             "colorbar": {
              "outlinewidth": 0,
              "ticks": ""
             }
            },
            "type": "scattercarpet"
           }
          ],
          "scattergeo": [
           {
            "marker": {
             "colorbar": {
              "outlinewidth": 0,
              "ticks": ""
             }
            },
            "type": "scattergeo"
           }
          ],
          "scattergl": [
           {
            "marker": {
             "colorbar": {
              "outlinewidth": 0,
              "ticks": ""
             }
            },
            "type": "scattergl"
           }
          ],
          "scattermapbox": [
           {
            "marker": {
             "colorbar": {
              "outlinewidth": 0,
              "ticks": ""
             }
            },
            "type": "scattermapbox"
           }
          ],
          "scatterpolar": [
           {
            "marker": {
             "colorbar": {
              "outlinewidth": 0,
              "ticks": ""
             }
            },
            "type": "scatterpolar"
           }
          ],
          "scatterpolargl": [
           {
            "marker": {
             "colorbar": {
              "outlinewidth": 0,
              "ticks": ""
             }
            },
            "type": "scatterpolargl"
           }
          ],
          "scatterternary": [
           {
            "marker": {
             "colorbar": {
              "outlinewidth": 0,
              "ticks": ""
             }
            },
            "type": "scatterternary"
           }
          ],
          "surface": [
           {
            "colorbar": {
             "outlinewidth": 0,
             "ticks": ""
            },
            "colorscale": [
             [
              0,
              "#0d0887"
             ],
             [
              0.1111111111111111,
              "#46039f"
             ],
             [
              0.2222222222222222,
              "#7201a8"
             ],
             [
              0.3333333333333333,
              "#9c179e"
             ],
             [
              0.4444444444444444,
              "#bd3786"
             ],
             [
              0.5555555555555556,
              "#d8576b"
             ],
             [
              0.6666666666666666,
              "#ed7953"
             ],
             [
              0.7777777777777778,
              "#fb9f3a"
             ],
             [
              0.8888888888888888,
              "#fdca26"
             ],
             [
              1,
              "#f0f921"
             ]
            ],
            "type": "surface"
           }
          ],
          "table": [
           {
            "cells": {
             "fill": {
              "color": "#EBF0F8"
             },
             "line": {
              "color": "white"
             }
            },
            "header": {
             "fill": {
              "color": "#C8D4E3"
             },
             "line": {
              "color": "white"
             }
            },
            "type": "table"
           }
          ]
         },
         "layout": {
          "annotationdefaults": {
           "arrowcolor": "#2a3f5f",
           "arrowhead": 0,
           "arrowwidth": 1
          },
          "autotypenumbers": "strict",
          "coloraxis": {
           "colorbar": {
            "outlinewidth": 0,
            "ticks": ""
           }
          },
          "colorscale": {
           "diverging": [
            [
             0,
             "#8e0152"
            ],
            [
             0.1,
             "#c51b7d"
            ],
            [
             0.2,
             "#de77ae"
            ],
            [
             0.3,
             "#f1b6da"
            ],
            [
             0.4,
             "#fde0ef"
            ],
            [
             0.5,
             "#f7f7f7"
            ],
            [
             0.6,
             "#e6f5d0"
            ],
            [
             0.7,
             "#b8e186"
            ],
            [
             0.8,
             "#7fbc41"
            ],
            [
             0.9,
             "#4d9221"
            ],
            [
             1,
             "#276419"
            ]
           ],
           "sequential": [
            [
             0,
             "#0d0887"
            ],
            [
             0.1111111111111111,
             "#46039f"
            ],
            [
             0.2222222222222222,
             "#7201a8"
            ],
            [
             0.3333333333333333,
             "#9c179e"
            ],
            [
             0.4444444444444444,
             "#bd3786"
            ],
            [
             0.5555555555555556,
             "#d8576b"
            ],
            [
             0.6666666666666666,
             "#ed7953"
            ],
            [
             0.7777777777777778,
             "#fb9f3a"
            ],
            [
             0.8888888888888888,
             "#fdca26"
            ],
            [
             1,
             "#f0f921"
            ]
           ],
           "sequentialminus": [
            [
             0,
             "#0d0887"
            ],
            [
             0.1111111111111111,
             "#46039f"
            ],
            [
             0.2222222222222222,
             "#7201a8"
            ],
            [
             0.3333333333333333,
             "#9c179e"
            ],
            [
             0.4444444444444444,
             "#bd3786"
            ],
            [
             0.5555555555555556,
             "#d8576b"
            ],
            [
             0.6666666666666666,
             "#ed7953"
            ],
            [
             0.7777777777777778,
             "#fb9f3a"
            ],
            [
             0.8888888888888888,
             "#fdca26"
            ],
            [
             1,
             "#f0f921"
            ]
           ]
          },
          "colorway": [
           "#636efa",
           "#EF553B",
           "#00cc96",
           "#ab63fa",
           "#FFA15A",
           "#19d3f3",
           "#FF6692",
           "#B6E880",
           "#FF97FF",
           "#FECB52"
          ],
          "font": {
           "color": "#2a3f5f"
          },
          "geo": {
           "bgcolor": "white",
           "lakecolor": "white",
           "landcolor": "#E5ECF6",
           "showlakes": true,
           "showland": true,
           "subunitcolor": "white"
          },
          "hoverlabel": {
           "align": "left"
          },
          "hovermode": "closest",
          "mapbox": {
           "style": "light"
          },
          "paper_bgcolor": "white",
          "plot_bgcolor": "#E5ECF6",
          "polar": {
           "angularaxis": {
            "gridcolor": "white",
            "linecolor": "white",
            "ticks": ""
           },
           "bgcolor": "#E5ECF6",
           "radialaxis": {
            "gridcolor": "white",
            "linecolor": "white",
            "ticks": ""
           }
          },
          "scene": {
           "xaxis": {
            "backgroundcolor": "#E5ECF6",
            "gridcolor": "white",
            "gridwidth": 2,
            "linecolor": "white",
            "showbackground": true,
            "ticks": "",
            "zerolinecolor": "white"
           },
           "yaxis": {
            "backgroundcolor": "#E5ECF6",
            "gridcolor": "white",
            "gridwidth": 2,
            "linecolor": "white",
            "showbackground": true,
            "ticks": "",
            "zerolinecolor": "white"
           },
           "zaxis": {
            "backgroundcolor": "#E5ECF6",
            "gridcolor": "white",
            "gridwidth": 2,
            "linecolor": "white",
            "showbackground": true,
            "ticks": "",
            "zerolinecolor": "white"
           }
          },
          "shapedefaults": {
           "line": {
            "color": "#2a3f5f"
           }
          },
          "ternary": {
           "aaxis": {
            "gridcolor": "white",
            "linecolor": "white",
            "ticks": ""
           },
           "baxis": {
            "gridcolor": "white",
            "linecolor": "white",
            "ticks": ""
           },
           "bgcolor": "#E5ECF6",
           "caxis": {
            "gridcolor": "white",
            "linecolor": "white",
            "ticks": ""
           }
          },
          "title": {
           "x": 0.05
          },
          "xaxis": {
           "automargin": true,
           "gridcolor": "white",
           "linecolor": "white",
           "ticks": "",
           "title": {
            "standoff": 15
           },
           "zerolinecolor": "white",
           "zerolinewidth": 2
          },
          "yaxis": {
           "automargin": true,
           "gridcolor": "white",
           "linecolor": "white",
           "ticks": "",
           "title": {
            "standoff": 15
           },
           "zerolinecolor": "white",
           "zerolinewidth": 2
          }
         }
        },
        "title": {
         "text": "Estimated performance <b>(CBPE)</b>"
        },
        "xaxis": {
         "anchor": "y",
         "autorange": true,
         "domain": [
          0,
          1
         ],
         "linecolor": "#3b0280",
         "matches": "x",
         "mirror": true,
         "range": [
          "2017-12-08 07:24:00.6357",
          "2019-09-20 04:57:57.8893"
         ],
         "showgrid": false,
         "title": {
          "text": "Time"
         },
         "type": "date",
         "zeroline": false
        },
        "yaxis": {
         "anchor": "x",
         "autorange": true,
         "domain": [
          0,
          1
         ],
         "linecolor": "#3b0280",
         "mirror": true,
         "range": [
          0.9530522795232051,
          0.9799068854714567
         ],
         "showgrid": false,
         "title": {
          "text": "ROC AUC"
         },
         "type": "linear",
         "zeroline": false
        }
       }
      },
      "image/png": "[encoded data removed]",
      "text/html": [
       "<div>                            <div id=\"f82ae01e-03ff-4826-b6a1-74bf15f20a85\" class=\"plotly-graph-div\" style=\"height:500.0px; width:100%;\"></div>            <script type=\"text/javascript\">                require([\"plotly\"], function(Plotly) {                    window.PLOTLYENV=window.PLOTLYENV || {};                                    if (document.getElementById(\"f82ae01e-03ff-4826-b6a1-74bf15f20a85\")) {                    Plotly.newPlot(                        \"f82ae01e-03ff-4826-b6a1-74bf15f20a85\",                        [{\"hoverinfo\":\"skip\",\"legendgroup\":\"metric_reference\",\"line\":{\"color\":\"#3b0280\",\"dash\":\"dash\",\"shape\":\"hv\",\"width\":2},\"mode\":\"lines\",\"name\":\"Metric\",\"showlegend\":true,\"x\":[\"2018-01-01T00:00:00\",\"2018-01-22T04:37:12\",\"2018-02-12T09:14:24\",\"2018-03-05T13:51:36\",\"2018-03-26T18:28:48\",\"2018-04-16T23:06:00\",\"2018-05-08T03:43:12\",\"2018-05-29T08:20:24\",\"2018-06-19T12:57:36\",\"2018-07-10T17:34:48\",\"2018-07-31T22:12:00\",\"2018-08-22T02:49:12\",\"2018-09-12T07:26:24\",\"2018-10-03T12:03:36\",\"2018-10-30T17:51:16.848000\"],\"y\":[0.9711141543776487,0.9714338484449446,0.970794118962904,0.9709789935422903,0.9711835536384775,0.9711270299476225,0.9712228103765392,0.9707976167145087,0.9712721760631918,0.9707099702889102,0.9710326273081721,0.9715589815875766,0.9710862586595468,0.971160101085215,0.971160101085215],\"type\":\"scatter\",\"xaxis\":\"x\",\"yaxis\":\"y\"},{\"customdata\":[[\"Estimated \\u003cb\\u003eROC AUC\\u003c\\u002fb\\u003e\",\"\\u003cb style=\\\"color:#3b0280;line-height:60px\\\"\\u003eReference\\u003c\\u002fb\\u003e\",\"\",\"[0:3499]\",\"From \\u003cb\\u003eJan-01-2018\\u003c\\u002fb\\u003e to \\u003cb\\u003eJan-22-2018\\u003c\\u002fb\\u003e\",0.9711,0.0065],[\"Estimated \\u003cb\\u003eROC AUC\\u003c\\u002fb\\u003e\",\"\\u003cb style=\\\"color:#3b0280;line-height:60px\\\"\\u003eReference\\u003c\\u002fb\\u003e\",\"\",\"[3500:6999]\",\"From \\u003cb\\u003eJan-22-2018\\u003c\\u002fb\\u003e to \\u003cb\\u003eFeb-12-2018\\u003c\\u002fb\\u003e\",0.9714,0.0065],[\"Estimated \\u003cb\\u003eROC AUC\\u003c\\u002fb\\u003e\",\"\\u003cb style=\\\"color:#3b0280;line-height:60px\\\"\\u003eReference\\u003c\\u002fb\\u003e\",\"\",\"[7000:10499]\",\"From \\u003cb\\u003eFeb-12-2018\\u003c\\u002fb\\u003e to \\u003cb\\u003eMar-05-2018\\u003c\\u002fb\\u003e\",0.9708,0.0065],[\"Estimated \\u003cb\\u003eROC AUC\\u003c\\u002fb\\u003e\",\"\\u003cb style=\\\"color:#3b0280;line-height:60px\\\"\\u003eReference\\u003c\\u002fb\\u003e\",\"\",\"[10500:13999]\",\"From \\u003cb\\u003eMar-05-2018\\u003c\\u002fb\\u003e to \\u003cb\\u003eMar-26-2018\\u003c\\u002fb\\u003e\",0.971,0.0065],[\"Estimated \\u003cb\\u003eROC AUC\\u003c\\u002fb\\u003e\",\"\\u003cb style=\\\"color:#3b0280;line-height:60px\\\"\\u003eReference\\u003c\\u002fb\\u003e\",\"\",\"[14000:17499]\",\"From \\u003cb\\u003eMar-26-2018\\u003c\\u002fb\\u003e to \\u003cb\\u003eApr-16-2018\\u003c\\u002fb\\u003e\",0.9712,0.0065],[\"Estimated \\u003cb\\u003eROC AUC\\u003c\\u002fb\\u003e\",\"\\u003cb style=\\\"color:#3b0280;line-height:60px\\\"\\u003eReference\\u003c\\u002fb\\u003e\",\"\",\"[17500:20999]\",\"From \\u003cb\\u003eApr-16-2018\\u003c\\u002fb\\u003e to \\u003cb\\u003eMay-08-2018\\u003c\\u002fb\\u003e\",0.9711,0.0065],[\"Estimated \\u003cb\\u003eROC AUC\\u003c\\u002fb\\u003e\",\"\\u003cb style=\\\"color:#3b0280;line-height:60px\\\"\\u003eReference\\u003c\\u002fb\\u003e\",\"\",\"[21000:24499]\",\"From \\u003cb\\u003eMay-08-2018\\u003c\\u002fb\\u003e to \\u003cb\\u003eMay-29-2018\\u003c\\u002fb\\u003e\",0.9712,0.0065],[\"Estimated \\u003cb\\u003eROC AUC\\u003c\\u002fb\\u003e\",\"\\u003cb style=\\\"color:#3b0280;line-height:60px\\\"\\u003eReference\\u003c\\u002fb\\u003e\",\"\",\"[24500:27999]\",\"From \\u003cb\\u003eMay-29-2018\\u003c\\u002fb\\u003e to \\u003cb\\u003eJun-19-2018\\u003c\\u002fb\\u003e\",0.9708,0.0065],[\"Estimated \\u003cb\\u003eROC AUC\\u003c\\u002fb\\u003e\",\"\\u003cb style=\\\"color:#3b0280;line-height:60px\\\"\\u003eReference\\u003c\\u002fb\\u003e\",\"\",\"[28000:31499]\",\"From \\u003cb\\u003eJun-19-2018\\u003c\\u002fb\\u003e to \\u003cb\\u003eJul-10-2018\\u003c\\u002fb\\u003e\",0.9713,0.0065],[\"Estimated \\u003cb\\u003eROC AUC\\u003c\\u002fb\\u003e\",\"\\u003cb style=\\\"color:#3b0280;line-height:60px\\\"\\u003eReference\\u003c\\u002fb\\u003e\",\"\",\"[31500:34999]\",\"From \\u003cb\\u003eJul-10-2018\\u003c\\u002fb\\u003e to \\u003cb\\u003eJul-31-2018\\u003c\\u002fb\\u003e\",0.9707,0.0065],[\"Estimated \\u003cb\\u003eROC AUC\\u003c\\u002fb\\u003e\",\"\\u003cb style=\\\"color:#3b0280;line-height:60px\\\"\\u003eReference\\u003c\\u002fb\\u003e\",\"\",\"[35000:38499]\",\"From \\u003cb\\u003eJul-31-2018\\u003c\\u002fb\\u003e to \\u003cb\\u003eAug-22-2018\\u003c\\u002fb\\u003e\",0.971,0.0065],[\"Estimated \\u003cb\\u003eROC AUC\\u003c\\u002fb\\u003e\",\"\\u003cb style=\\\"color:#3b0280;line-height:60px\\\"\\u003eReference\\u003c\\u002fb\\u003e\",\"\",\"[38500:41999]\",\"From \\u003cb\\u003eAug-22-2018\\u003c\\u002fb\\u003e to \\u003cb\\u003eSep-12-2018\\u003c\\u002fb\\u003e\",0.9716,0.0065],[\"Estimated \\u003cb\\u003eROC AUC\\u003c\\u002fb\\u003e\",\"\\u003cb style=\\\"color:#3b0280;line-height:60px\\\"\\u003eReference\\u003c\\u002fb\\u003e\",\"\",\"[42000:45499]\",\"From \\u003cb\\u003eSep-12-2018\\u003c\\u002fb\\u003e to \\u003cb\\u003eOct-03-2018\\u003c\\u002fb\\u003e\",0.9711,0.0065],[\"Estimated \\u003cb\\u003eROC AUC\\u003c\\u002fb\\u003e\",\"\\u003cb style=\\\"color:#3b0280;line-height:60px\\\"\\u003eReference\\u003c\\u002fb\\u003e\",\"\",\"[45500:49999]\",\"From \\u003cb\\u003eOct-03-2018\\u003c\\u002fb\\u003e to \\u003cb\\u003eOct-30-2018\\u003c\\u002fb\\u003e\",0.9712,0.0057]],\"hovertemplate\":\"%{customdata[1]} &nbsp; &nbsp; %{customdata[2]} \\u003cbr \\u002f\\u003eChunk: \\u003cb\\u003e%{customdata[3]}\\u003c\\u002fb\\u003e &nbsp; &nbsp; %{customdata[4]} \\u003cbr \\u002f\\u003e%{customdata[0]}: \\u003cb\\u003e%{customdata[5]}\\u003c\\u002fb\\u003e\\u003cbr \\u002f\\u003eConfidence band: +\\u002f- \\u003cb\\u003e%{customdata[6]}\\u003c\\u002fb\\u003e\\u003cbr \\u002f\\u003e\\u003cextra\\u003e\\u003c\\u002fextra\\u003e\",\"legendgroup\":\"metric_reference\",\"line\":{\"dash\":\"dash\"},\"marker\":{\"color\":\"#3b0280\",\"size\":5,\"symbol\":\"circle\"},\"mode\":\"markers\",\"name\":\"Metric\",\"showlegend\":false,\"x\":[\"2018-01-11T14:18:36\",\"2018-02-01T18:55:48\",\"2018-02-22T23:33:00\",\"2018-03-16T04:10:12\",\"2018-04-06T08:47:24\",\"2018-04-27T13:24:36\",\"2018-05-18T18:01:48\",\"2018-06-08T22:39:00\",\"2018-06-30T03:16:12\",\"2018-07-21T07:53:24\",\"2018-08-11T12:30:36\",\"2018-09-01T17:07:48\",\"2018-09-22T21:45:00\",\"2018-10-17T02:57:26.424000\"],\"y\":[0.9711141543776487,0.9714338484449446,0.970794118962904,0.9709789935422903,0.9711835536384775,0.9711270299476225,0.9712228103765392,0.9707976167145087,0.9712721760631918,0.9707099702889102,0.9710326273081721,0.9715589815875766,0.9710862586595468,0.971160101085215,0.971160101085215],\"type\":\"scatter\",\"xaxis\":\"x\",\"yaxis\":\"y\"},{\"hoverinfo\":\"skip\",\"legendgroup\":\"metric_analysis\",\"line\":{\"color\":\"#3b0280\",\"dash\":\"dash\",\"shape\":\"hv\",\"width\":2},\"mode\":\"lines\",\"name\":\"Metric\",\"showlegend\":false,\"x\":[\"2018-10-30T18:00:00\",\"2018-11-20T22:37:12\",\"2018-12-12T03:14:24\",\"2019-01-02T07:51:36\",\"2019-01-23T12:28:48\",\"2019-02-13T17:06:00\",\"2019-03-06T21:43:12\",\"2019-03-28T02:20:24\",\"2019-04-18T06:57:36\",\"2019-05-09T11:34:48\",\"2019-05-30T16:12:00\",\"2019-06-20T20:49:12\",\"2019-07-12T01:26:24\",\"2019-08-02T06:03:36\",\"2019-08-29T11:51:16.848000\"],\"y\":[0.9707243330786001,0.9709103110407242,0.9711452021486057,0.9713386013850864,0.9711270428529367,0.9711667092759231,0.971352358655818,0.963013418036912,0.9609614754522646,0.9619067163856213,0.9608876697965859,0.9619211454740371,0.9623631678419259,0.9615068637309028,0.9615068637309028],\"type\":\"scatter\",\"xaxis\":\"x\",\"yaxis\":\"y\"},{\"customdata\":[[\"Estimated \\u003cb\\u003eROC AUC\\u003c\\u002fb\\u003e\",\"\\u003cb style=\\\"color:#3b0280;line-height:60px\\\"\\u003eAnalysis\\u003c\\u002fb\\u003e\",\"\",\"[0:3499]\",\"From \\u003cb\\u003eOct-30-2018\\u003c\\u002fb\\u003e to \\u003cb\\u003eNov-20-2018\\u003c\\u002fb\\u003e\",0.9707,0.0065],[\"Estimated \\u003cb\\u003eROC AUC\\u003c\\u002fb\\u003e\",\"\\u003cb style=\\\"color:#3b0280;line-height:60px\\\"\\u003eAnalysis\\u003c\\u002fb\\u003e\",\"\",\"[3500:6999]\",\"From \\u003cb\\u003eNov-20-2018\\u003c\\u002fb\\u003e to \\u003cb\\u003eDec-12-2018\\u003c\\u002fb\\u003e\",0.9709,0.0065],[\"Estimated \\u003cb\\u003eROC AUC\\u003c\\u002fb\\u003e\",\"\\u003cb style=\\\"color:#3b0280;line-height:60px\\\"\\u003eAnalysis\\u003c\\u002fb\\u003e\",\"\",\"[7000:10499]\",\"From \\u003cb\\u003eDec-12-2018\\u003c\\u002fb\\u003e to \\u003cb\\u003eJan-02-2019\\u003c\\u002fb\\u003e\",0.9711,0.0065],[\"Estimated \\u003cb\\u003eROC AUC\\u003c\\u002fb\\u003e\",\"\\u003cb style=\\\"color:#3b0280;line-height:60px\\\"\\u003eAnalysis\\u003c\\u002fb\\u003e\",\"\",\"[10500:13999]\",\"From \\u003cb\\u003eJan-02-2019\\u003c\\u002fb\\u003e to \\u003cb\\u003eJan-23-2019\\u003c\\u002fb\\u003e\",0.9713,0.0065],[\"Estimated \\u003cb\\u003eROC AUC\\u003c\\u002fb\\u003e\",\"\\u003cb style=\\\"color:#3b0280;line-height:60px\\\"\\u003eAnalysis\\u003c\\u002fb\\u003e\",\"\",\"[14000:17499]\",\"From \\u003cb\\u003eJan-23-2019\\u003c\\u002fb\\u003e to \\u003cb\\u003eFeb-13-2019\\u003c\\u002fb\\u003e\",0.9711,0.0065],[\"Estimated \\u003cb\\u003eROC AUC\\u003c\\u002fb\\u003e\",\"\\u003cb style=\\\"color:#3b0280;line-height:60px\\\"\\u003eAnalysis\\u003c\\u002fb\\u003e\",\"\",\"[17500:20999]\",\"From \\u003cb\\u003eFeb-13-2019\\u003c\\u002fb\\u003e to \\u003cb\\u003eMar-06-2019\\u003c\\u002fb\\u003e\",0.9712,0.0065],[\"Estimated \\u003cb\\u003eROC AUC\\u003c\\u002fb\\u003e\",\"\\u003cb style=\\\"color:#3b0280;line-height:60px\\\"\\u003eAnalysis\\u003c\\u002fb\\u003e\",\"\",\"[21000:24499]\",\"From \\u003cb\\u003eMar-06-2019\\u003c\\u002fb\\u003e to \\u003cb\\u003eMar-28-2019\\u003c\\u002fb\\u003e\",0.9714,0.0065],[\"Estimated \\u003cb\\u003eROC AUC\\u003c\\u002fb\\u003e\",\"\\u003cb style=\\\"color:#3b0280;line-height:60px\\\"\\u003eAnalysis\\u003c\\u002fb\\u003e\",\"\\u003cspan style=\\\"color:#AD0000\\\"\\u003e\\u26a0 \\u003cb\\u003eDrift detected\\u003c\\u002fb\\u003e\\u003c\\u002fspan\\u003e\",\"[24500:27999]\",\"From \\u003cb\\u003eMar-28-2019\\u003c\\u002fb\\u003e to \\u003cb\\u003eApr-18-2019\\u003c\\u002fb\\u003e\",0.963,0.0065],[\"Estimated \\u003cb\\u003eROC AUC\\u003c\\u002fb\\u003e\",\"\\u003cb style=\\\"color:#3b0280;line-height:60px\\\"\\u003eAnalysis\\u003c\\u002fb\\u003e\",\"\\u003cspan style=\\\"color:#AD0000\\\"\\u003e\\u26a0 \\u003cb\\u003eDrift detected\\u003c\\u002fb\\u003e\\u003c\\u002fspan\\u003e\",\"[28000:31499]\",\"From \\u003cb\\u003eApr-18-2019\\u003c\\u002fb\\u003e to \\u003cb\\u003eMay-09-2019\\u003c\\u002fb\\u003e\",0.961,0.0065],[\"Estimated \\u003cb\\u003eROC AUC\\u003c\\u002fb\\u003e\",\"\\u003cb style=\\\"color:#3b0280;line-height:60px\\\"\\u003eAnalysis\\u003c\\u002fb\\u003e\",\"\\u003cspan style=\\\"color:#AD0000\\\"\\u003e\\u26a0 \\u003cb\\u003eDrift detected\\u003c\\u002fb\\u003e\\u003c\\u002fspan\\u003e\",\"[31500:34999]\",\"From \\u003cb\\u003eMay-09-2019\\u003c\\u002fb\\u003e to \\u003cb\\u003eMay-30-2019\\u003c\\u002fb\\u003e\",0.9619,0.0065],[\"Estimated \\u003cb\\u003eROC AUC\\u003c\\u002fb\\u003e\",\"\\u003cb style=\\\"color:#3b0280;line-height:60px\\\"\\u003eAnalysis\\u003c\\u002fb\\u003e\",\"\\u003cspan style=\\\"color:#AD0000\\\"\\u003e\\u26a0 \\u003cb\\u003eDrift detected\\u003c\\u002fb\\u003e\\u003c\\u002fspan\\u003e\",\"[35000:38499]\",\"From \\u003cb\\u003eMay-30-2019\\u003c\\u002fb\\u003e to \\u003cb\\u003eJun-20-2019\\u003c\\u002fb\\u003e\",0.9609,0.0065],[\"Estimated \\u003cb\\u003eROC AUC\\u003c\\u002fb\\u003e\",\"\\u003cb style=\\\"color:#3b0280;line-height:60px\\\"\\u003eAnalysis\\u003c\\u002fb\\u003e\",\"\\u003cspan style=\\\"color:#AD0000\\\"\\u003e\\u26a0 \\u003cb\\u003eDrift detected\\u003c\\u002fb\\u003e\\u003c\\u002fspan\\u003e\",\"[38500:41999]\",\"From \\u003cb\\u003eJun-20-2019\\u003c\\u002fb\\u003e to \\u003cb\\u003eJul-12-2019\\u003c\\u002fb\\u003e\",0.9619,0.0065],[\"Estimated \\u003cb\\u003eROC AUC\\u003c\\u002fb\\u003e\",\"\\u003cb style=\\\"color:#3b0280;line-height:60px\\\"\\u003eAnalysis\\u003c\\u002fb\\u003e\",\"\\u003cspan style=\\\"color:#AD0000\\\"\\u003e\\u26a0 \\u003cb\\u003eDrift detected\\u003c\\u002fb\\u003e\\u003c\\u002fspan\\u003e\",\"[42000:45499]\",\"From \\u003cb\\u003eJul-12-2019\\u003c\\u002fb\\u003e to \\u003cb\\u003eAug-02-2019\\u003c\\u002fb\\u003e\",0.9624,0.0065],[\"Estimated \\u003cb\\u003eROC AUC\\u003c\\u002fb\\u003e\",\"\\u003cb style=\\\"color:#3b0280;line-height:60px\\\"\\u003eAnalysis\\u003c\\u002fb\\u003e\",\"\\u003cspan style=\\\"color:#AD0000\\\"\\u003e\\u26a0 \\u003cb\\u003eDrift detected\\u003c\\u002fb\\u003e\\u003c\\u002fspan\\u003e\",\"[45500:49999]\",\"From \\u003cb\\u003eAug-02-2019\\u003c\\u002fb\\u003e to \\u003cb\\u003eAug-29-2019\\u003c\\u002fb\\u003e\",0.9615,0.0057]],\"hovertemplate\":\"%{customdata[1]} &nbsp; &nbsp; %{customdata[2]} \\u003cbr \\u002f\\u003eChunk: \\u003cb\\u003e%{customdata[3]}\\u003c\\u002fb\\u003e &nbsp; &nbsp; %{customdata[4]} \\u003cbr \\u002f\\u003e%{customdata[0]}: \\u003cb\\u003e%{customdata[5]}\\u003c\\u002fb\\u003e\\u003cbr \\u002f\\u003eConfidence band: +\\u002f- \\u003cb\\u003e%{customdata[6]}\\u003c\\u002fb\\u003e\\u003cbr \\u002f\\u003e\\u003cextra\\u003e\\u003c\\u002fextra\\u003e\",\"legendgroup\":\"metric_analysis\",\"line\":{\"dash\":\"dash\"},\"marker\":{\"color\":\"#3b0280\",\"size\":5,\"symbol\":\"circle\"},\"mode\":\"markers\",\"name\":\"Metric\",\"showlegend\":false,\"x\":[\"2018-11-10T08:18:36\",\"2018-12-01T12:55:48\",\"2018-12-22T17:33:00\",\"2019-01-12T22:10:12\",\"2019-02-03T02:47:24\",\"2019-02-24T07:24:36\",\"2019-03-17T12:01:48\",\"2019-04-07T16:39:00\",\"2019-04-28T21:16:12\",\"2019-05-20T01:53:24\",\"2019-06-10T06:30:36\",\"2019-07-01T11:07:48\",\"2019-07-22T15:45:00\",\"2019-08-15T20:57:26.424000\"],\"y\":[0.9707243330786001,0.9709103110407242,0.9711452021486057,0.9713386013850864,0.9711270428529367,0.9711667092759231,0.971352358655818,0.963013418036912,0.9609614754522646,0.9619067163856213,0.9608876697965859,0.9619211454740371,0.9623631678419259,0.9615068637309028,0.9615068637309028],\"type\":\"scatter\",\"xaxis\":\"x\",\"yaxis\":\"y\"},{\"hoverinfo\":\"skip\",\"legendgroup\":\"alert\",\"marker\":{\"color\":\"#DD4040\",\"size\":8,\"symbol\":\"diamond\"},\"mode\":\"markers\",\"name\":\"Alert\",\"showlegend\":true,\"x\":[\"2019-04-07T16:39:00\",\"2019-04-28T21:16:12\",\"2019-05-20T01:53:24\",\"2019-06-10T06:30:36\",\"2019-07-01T11:07:48\",\"2019-07-22T15:45:00\",\"2019-08-15T20:57:26.424000\"],\"y\":[0.963013418036912,0.9609614754522646,0.9619067163856213,0.9608876697965859,0.9619211454740371,0.9623631678419259,0.9615068637309028],\"type\":\"scatter\",\"xaxis\":\"x\",\"yaxis\":\"y\"},{\"hoverinfo\":\"skip\",\"legendgroup\":\"thresh\",\"line\":{\"color\":\"#DD4040\",\"dash\":\"dash\",\"width\":2},\"mode\":\"lines\",\"name\":\"Threshold\",\"showlegend\":true,\"x\":[\"2018-01-01T00:00:00\",\"2018-01-22T04:37:12\",\"2018-02-12T09:14:24\",\"2018-03-05T13:51:36\",\"2018-03-26T18:28:48\",\"2018-04-16T23:06:00\",\"2018-05-08T03:43:12\",\"2018-05-29T08:20:24\",\"2018-06-19T12:57:36\",\"2018-07-10T17:34:48\",\"2018-07-31T22:12:00\",\"2018-08-22T02:49:12\",\"2018-09-12T07:26:24\",\"2018-10-03T12:03:36\",\"2018-10-30T17:51:16.848000\"],\"y\":[0.978564155174044,0.978564155174044,0.978564155174044,0.978564155174044,0.978564155174044,0.978564155174044,0.978564155174044,0.978564155174044,0.978564155174044,0.978564155174044,0.978564155174044,0.978564155174044,0.978564155174044,0.978564155174044,0.978564155174044],\"type\":\"scatter\",\"xaxis\":\"x\",\"yaxis\":\"y\"},{\"hoverinfo\":\"skip\",\"legendgroup\":\"thresh\",\"line\":{\"color\":\"#DD4040\",\"dash\":\"dash\",\"width\":2},\"mode\":\"lines\",\"name\":\"Threshold\",\"showlegend\":false,\"x\":[\"2018-01-01T00:00:00\",\"2018-01-22T04:37:12\",\"2018-02-12T09:14:24\",\"2018-03-05T13:51:36\",\"2018-03-26T18:28:48\",\"2018-04-16T23:06:00\",\"2018-05-08T03:43:12\",\"2018-05-29T08:20:24\",\"2018-06-19T12:57:36\",\"2018-07-10T17:34:48\",\"2018-07-31T22:12:00\",\"2018-08-22T02:49:12\",\"2018-09-12T07:26:24\",\"2018-10-03T12:03:36\",\"2018-10-30T17:51:16.848000\"],\"y\":[0.963390373907214,0.963390373907214,0.963390373907214,0.963390373907214,0.963390373907214,0.963390373907214,0.963390373907214,0.963390373907214,0.963390373907214,0.963390373907214,0.963390373907214,0.963390373907214,0.963390373907214,0.963390373907214,0.963390373907214],\"type\":\"scatter\",\"xaxis\":\"x\",\"yaxis\":\"y\"},{\"hoverinfo\":\"skip\",\"legendgroup\":\"thresh\",\"line\":{\"color\":\"#DD4040\",\"dash\":\"dash\",\"width\":2},\"mode\":\"lines\",\"name\":\"Threshold\",\"showlegend\":false,\"x\":[\"2018-10-30T18:00:00\",\"2018-11-20T22:37:12\",\"2018-12-12T03:14:24\",\"2019-01-02T07:51:36\",\"2019-01-23T12:28:48\",\"2019-02-13T17:06:00\",\"2019-03-06T21:43:12\",\"2019-03-28T02:20:24\",\"2019-04-18T06:57:36\",\"2019-05-09T11:34:48\",\"2019-05-30T16:12:00\",\"2019-06-20T20:49:12\",\"2019-07-12T01:26:24\",\"2019-08-02T06:03:36\",\"2019-08-29T11:51:16.848000\"],\"y\":[0.978564155174044,0.978564155174044,0.978564155174044,0.978564155174044,0.978564155174044,0.978564155174044,0.978564155174044,0.978564155174044,0.978564155174044,0.978564155174044,0.978564155174044,0.978564155174044,0.978564155174044,0.978564155174044,0.978564155174044],\"type\":\"scatter\",\"xaxis\":\"x\",\"yaxis\":\"y\"},{\"hoverinfo\":\"skip\",\"legendgroup\":\"thresh\",\"line\":{\"color\":\"#DD4040\",\"dash\":\"dash\",\"width\":2},\"mode\":\"lines\",\"name\":\"Threshold\",\"showlegend\":false,\"x\":[\"2018-10-30T18:00:00\",\"2018-11-20T22:37:12\",\"2018-12-12T03:14:24\",\"2019-01-02T07:51:36\",\"2019-01-23T12:28:48\",\"2019-02-13T17:06:00\",\"2019-03-06T21:43:12\",\"2019-03-28T02:20:24\",\"2019-04-18T06:57:36\",\"2019-05-09T11:34:48\",\"2019-05-30T16:12:00\",\"2019-06-20T20:49:12\",\"2019-07-12T01:26:24\",\"2019-08-02T06:03:36\",\"2019-08-29T11:51:16.848000\"],\"y\":[0.963390373907214,0.963390373907214,0.963390373907214,0.963390373907214,0.963390373907214,0.963390373907214,0.963390373907214,0.963390373907214,0.963390373907214,0.963390373907214,0.963390373907214,0.963390373907214,0.963390373907214,0.963390373907214,0.963390373907214],\"type\":\"scatter\",\"xaxis\":\"x\",\"yaxis\":\"y\"},{\"hoverinfo\":\"skip\",\"line\":{\"color\":\"rgba(0,0,0,0)\",\"shape\":\"hv\"},\"mode\":\"lines\",\"name\":\"Confidence band\",\"showlegend\":false,\"x\":[\"2018-01-01T00:00:00\",\"2018-01-22T04:37:12\",\"2018-02-12T09:14:24\",\"2018-03-05T13:51:36\",\"2018-03-26T18:28:48\",\"2018-04-16T23:06:00\",\"2018-05-08T03:43:12\",\"2018-05-29T08:20:24\",\"2018-06-19T12:57:36\",\"2018-07-10T17:34:48\",\"2018-07-31T22:12:00\",\"2018-08-22T02:49:12\",\"2018-09-12T07:26:24\",\"2018-10-03T12:03:36\",\"2018-10-30T17:51:16.848000\"],\"y\":[0.9776068143536168,0.9779265084209128,0.9772867789388722,0.9774716535182585,0.9776762136144457,0.9776196899235906,0.9777154703525074,0.9772902766904769,0.97776483603916,0.9772026302648783,0.9775252872841402,0.9780516415635447,0.9775789186355149,0.976886088966453,0.976886088966453],\"type\":\"scatter\",\"xaxis\":\"x\",\"yaxis\":\"y\"},{\"fill\":\"tonexty\",\"fillcolor\":\"rgba(0.23137254901960785, 0.00784313725490196, 0.5019607843137255, 0.2)\",\"hoverinfo\":\"skip\",\"line\":{\"color\":\"rgba(0,0,0,0)\",\"shape\":\"hv\"},\"mode\":\"lines\",\"name\":\"Confidence band\",\"showlegend\":true,\"x\":[\"2018-01-01T00:00:00\",\"2018-01-22T04:37:12\",\"2018-02-12T09:14:24\",\"2018-03-05T13:51:36\",\"2018-03-26T18:28:48\",\"2018-04-16T23:06:00\",\"2018-05-08T03:43:12\",\"2018-05-29T08:20:24\",\"2018-06-19T12:57:36\",\"2018-07-10T17:34:48\",\"2018-07-31T22:12:00\",\"2018-08-22T02:49:12\",\"2018-09-12T07:26:24\",\"2018-10-03T12:03:36\",\"2018-10-30T17:51:16.848000\"],\"y\":[0.9646214944016805,0.9649411884689765,0.9643014589869359,0.9644863335663222,0.9646908936625094,0.9646343699716543,0.9647301504005711,0.9643049567385406,0.9647795160872237,0.964217310312942,0.9645399673322039,0.9650663216116084,0.9645935986835786,0.965434113203977,0.965434113203977],\"type\":\"scatter\",\"xaxis\":\"x\",\"yaxis\":\"y\"},{\"hoverinfo\":\"skip\",\"line\":{\"color\":\"rgba(0,0,0,0)\",\"shape\":\"hv\"},\"mode\":\"lines\",\"name\":\"Confidence band\",\"showlegend\":false,\"x\":[\"2018-10-30T18:00:00\",\"2018-11-20T22:37:12\",\"2018-12-12T03:14:24\",\"2019-01-02T07:51:36\",\"2019-01-23T12:28:48\",\"2019-02-13T17:06:00\",\"2019-03-06T21:43:12\",\"2019-03-28T02:20:24\",\"2019-04-18T06:57:36\",\"2019-05-09T11:34:48\",\"2019-05-30T16:12:00\",\"2019-06-20T20:49:12\",\"2019-07-12T01:26:24\",\"2019-08-02T06:03:36\",\"2019-08-29T11:51:16.848000\"],\"y\":[0.9772169930545682,0.9774029710166924,0.9776378621245738,0.9778312613610546,0.9776197028289049,0.9776593692518912,0.9778450186317862,0.9695060780128801,0.9674541354282328,0.9683993763615895,0.9673803297725541,0.9684138054500052,0.968855827817894,0.9672328516121408,0.9672328516121408],\"type\":\"scatter\",\"xaxis\":\"x\",\"yaxis\":\"y\"},{\"fill\":\"tonexty\",\"fillcolor\":\"rgba(0.23137254901960785, 0.00784313725490196, 0.5019607843137255, 0.2)\",\"hoverinfo\":\"skip\",\"line\":{\"color\":\"rgba(0,0,0,0)\",\"shape\":\"hv\"},\"mode\":\"lines\",\"name\":\"Confidence band\",\"showlegend\":false,\"x\":[\"2018-10-30T18:00:00\",\"2018-11-20T22:37:12\",\"2018-12-12T03:14:24\",\"2019-01-02T07:51:36\",\"2019-01-23T12:28:48\",\"2019-02-13T17:06:00\",\"2019-03-06T21:43:12\",\"2019-03-28T02:20:24\",\"2019-04-18T06:57:36\",\"2019-05-09T11:34:48\",\"2019-05-30T16:12:00\",\"2019-06-20T20:49:12\",\"2019-07-12T01:26:24\",\"2019-08-02T06:03:36\",\"2019-08-29T11:51:16.848000\"],\"y\":[0.9642316731026319,0.9644176510647561,0.9646525421726375,0.9648459414091183,0.9646343828769686,0.9646740492999549,0.9648596986798499,0.9565207580609438,0.9544688154762965,0.9554140564096532,0.9543950098206178,0.9554284854980689,0.9558705078659577,0.9557808758496648,0.9557808758496648],\"type\":\"scatter\",\"xaxis\":\"x\",\"yaxis\":\"y\"}],                        {\"height\":500.0,\"hoverlabel\":{\"bgcolor\":\"white\",\"font\":{\"size\":14}},\"legend\":{\"itemclick\":false,\"itemdoubleclick\":false,\"traceorder\":\"grouped\"},\"paper_bgcolor\":\"rgba(255,255,255,1)\",\"plot_bgcolor\":\"rgba(255,255,255,1)\",\"title\":{\"text\":\"Estimated performance \\u003cb\\u003e(CBPE)\\u003c\\u002fb\\u003e\"},\"xaxis\":{\"linecolor\":\"#3b0280\",\"mirror\":true,\"showgrid\":false,\"title\":{\"text\":\"Time\"},\"zeroline\":false,\"anchor\":\"y\",\"domain\":[0.0,1.0],\"matches\":\"x\"},\"yaxis\":{\"linecolor\":\"#3b0280\",\"mirror\":true,\"showgrid\":false,\"title\":{\"text\":\"ROC AUC\"},\"zeroline\":false,\"anchor\":\"x\",\"domain\":[0.0,1.0]},\"template\":{\"data\":{\"histogram2dcontour\":[{\"type\":\"histogram2dcontour\",\"colorbar\":{\"outlinewidth\":0,\"ticks\":\"\"},\"colorscale\":[[0.0,\"#0d0887\"],[0.1111111111111111,\"#46039f\"],[0.2222222222222222,\"#7201a8\"],[0.3333333333333333,\"#9c179e\"],[0.4444444444444444,\"#bd3786\"],[0.5555555555555556,\"#d8576b\"],[0.6666666666666666,\"#ed7953\"],[0.7777777777777778,\"#fb9f3a\"],[0.8888888888888888,\"#fdca26\"],[1.0,\"#f0f921\"]]}],\"choropleth\":[{\"type\":\"choropleth\",\"colorbar\":{\"outlinewidth\":0,\"ticks\":\"\"}}],\"histogram2d\":[{\"type\":\"histogram2d\",\"colorbar\":{\"outlinewidth\":0,\"ticks\":\"\"},\"colorscale\":[[0.0,\"#0d0887\"],[0.1111111111111111,\"#46039f\"],[0.2222222222222222,\"#7201a8\"],[0.3333333333333333,\"#9c179e\"],[0.4444444444444444,\"#bd3786\"],[0.5555555555555556,\"#d8576b\"],[0.6666666666666666,\"#ed7953\"],[0.7777777777777778,\"#fb9f3a\"],[0.8888888888888888,\"#fdca26\"],[1.0,\"#f0f921\"]]}],\"heatmap\":[{\"type\":\"heatmap\",\"colorbar\":{\"outlinewidth\":0,\"ticks\":\"\"},\"colorscale\":[[0.0,\"#0d0887\"],[0.1111111111111111,\"#46039f\"],[0.2222222222222222,\"#7201a8\"],[0.3333333333333333,\"#9c179e\"],[0.4444444444444444,\"#bd3786\"],[0.5555555555555556,\"#d8576b\"],[0.6666666666666666,\"#ed7953\"],[0.7777777777777778,\"#fb9f3a\"],[0.8888888888888888,\"#fdca26\"],[1.0,\"#f0f921\"]]}],\"heatmapgl\":[{\"type\":\"heatmapgl\",\"colorbar\":{\"outlinewidth\":0,\"ticks\":\"\"},\"colorscale\":[[0.0,\"#0d0887\"],[0.1111111111111111,\"#46039f\"],[0.2222222222222222,\"#7201a8\"],[0.3333333333333333,\"#9c179e\"],[0.4444444444444444,\"#bd3786\"],[0.5555555555555556,\"#d8576b\"],[0.6666666666666666,\"#ed7953\"],[0.7777777777777778,\"#fb9f3a\"],[0.8888888888888888,\"#fdca26\"],[1.0,\"#f0f921\"]]}],\"contourcarpet\":[{\"type\":\"contourcarpet\",\"colorbar\":{\"outlinewidth\":0,\"ticks\":\"\"}}],\"contour\":[{\"type\":\"contour\",\"colorbar\":{\"outlinewidth\":0,\"ticks\":\"\"},\"colorscale\":[[0.0,\"#0d0887\"],[0.1111111111111111,\"#46039f\"],[0.2222222222222222,\"#7201a8\"],[0.3333333333333333,\"#9c179e\"],[0.4444444444444444,\"#bd3786\"],[0.5555555555555556,\"#d8576b\"],[0.6666666666666666,\"#ed7953\"],[0.7777777777777778,\"#fb9f3a\"],[0.8888888888888888,\"#fdca26\"],[1.0,\"#f0f921\"]]}],\"surface\":[{\"type\":\"surface\",\"colorbar\":{\"outlinewidth\":0,\"ticks\":\"\"},\"colorscale\":[[0.0,\"#0d0887\"],[0.1111111111111111,\"#46039f\"],[0.2222222222222222,\"#7201a8\"],[0.3333333333333333,\"#9c179e\"],[0.4444444444444444,\"#bd3786\"],[0.5555555555555556,\"#d8576b\"],[0.6666666666666666,\"#ed7953\"],[0.7777777777777778,\"#fb9f3a\"],[0.8888888888888888,\"#fdca26\"],[1.0,\"#f0f921\"]]}],\"mesh3d\":[{\"type\":\"mesh3d\",\"colorbar\":{\"outlinewidth\":0,\"ticks\":\"\"}}],\"scatter\":[{\"fillpattern\":{\"fillmode\":\"overlay\",\"size\":10,\"solidity\":0.2},\"type\":\"scatter\"}],\"parcoords\":[{\"type\":\"parcoords\",\"line\":{\"colorbar\":{\"outlinewidth\":0,\"ticks\":\"\"}}}],\"scatterpolargl\":[{\"type\":\"scatterpolargl\",\"marker\":{\"colorbar\":{\"outlinewidth\":0,\"ticks\":\"\"}}}],\"bar\":[{\"error_x\":{\"color\":\"#2a3f5f\"},\"error_y\":{\"color\":\"#2a3f5f\"},\"marker\":{\"line\":{\"color\":\"#E5ECF6\",\"width\":0.5},\"pattern\":{\"fillmode\":\"overlay\",\"size\":10,\"solidity\":0.2}},\"type\":\"bar\"}],\"scattergeo\":[{\"type\":\"scattergeo\",\"marker\":{\"colorbar\":{\"outlinewidth\":0,\"ticks\":\"\"}}}],\"scatterpolar\":[{\"type\":\"scatterpolar\",\"marker\":{\"colorbar\":{\"outlinewidth\":0,\"ticks\":\"\"}}}],\"histogram\":[{\"marker\":{\"pattern\":{\"fillmode\":\"overlay\",\"size\":10,\"solidity\":0.2}},\"type\":\"histogram\"}],\"scattergl\":[{\"type\":\"scattergl\",\"marker\":{\"colorbar\":{\"outlinewidth\":0,\"ticks\":\"\"}}}],\"scatter3d\":[{\"type\":\"scatter3d\",\"line\":{\"colorbar\":{\"outlinewidth\":0,\"ticks\":\"\"}},\"marker\":{\"colorbar\":{\"outlinewidth\":0,\"ticks\":\"\"}}}],\"scattermapbox\":[{\"type\":\"scattermapbox\",\"marker\":{\"colorbar\":{\"outlinewidth\":0,\"ticks\":\"\"}}}],\"scatterternary\":[{\"type\":\"scatterternary\",\"marker\":{\"colorbar\":{\"outlinewidth\":0,\"ticks\":\"\"}}}],\"scattercarpet\":[{\"type\":\"scattercarpet\",\"marker\":{\"colorbar\":{\"outlinewidth\":0,\"ticks\":\"\"}}}],\"carpet\":[{\"aaxis\":{\"endlinecolor\":\"#2a3f5f\",\"gridcolor\":\"white\",\"linecolor\":\"white\",\"minorgridcolor\":\"white\",\"startlinecolor\":\"#2a3f5f\"},\"baxis\":{\"endlinecolor\":\"#2a3f5f\",\"gridcolor\":\"white\",\"linecolor\":\"white\",\"minorgridcolor\":\"white\",\"startlinecolor\":\"#2a3f5f\"},\"type\":\"carpet\"}],\"table\":[{\"cells\":{\"fill\":{\"color\":\"#EBF0F8\"},\"line\":{\"color\":\"white\"}},\"header\":{\"fill\":{\"color\":\"#C8D4E3\"},\"line\":{\"color\":\"white\"}},\"type\":\"table\"}],\"barpolar\":[{\"marker\":{\"line\":{\"color\":\"#E5ECF6\",\"width\":0.5},\"pattern\":{\"fillmode\":\"overlay\",\"size\":10,\"solidity\":0.2}},\"type\":\"barpolar\"}],\"pie\":[{\"automargin\":true,\"type\":\"pie\"}]},\"layout\":{\"autotypenumbers\":\"strict\",\"colorway\":[\"#636efa\",\"#EF553B\",\"#00cc96\",\"#ab63fa\",\"#FFA15A\",\"#19d3f3\",\"#FF6692\",\"#B6E880\",\"#FF97FF\",\"#FECB52\"],\"font\":{\"color\":\"#2a3f5f\"},\"hovermode\":\"closest\",\"hoverlabel\":{\"align\":\"left\"},\"paper_bgcolor\":\"white\",\"plot_bgcolor\":\"#E5ECF6\",\"polar\":{\"bgcolor\":\"#E5ECF6\",\"angularaxis\":{\"gridcolor\":\"white\",\"linecolor\":\"white\",\"ticks\":\"\"},\"radialaxis\":{\"gridcolor\":\"white\",\"linecolor\":\"white\",\"ticks\":\"\"}},\"ternary\":{\"bgcolor\":\"#E5ECF6\",\"aaxis\":{\"gridcolor\":\"white\",\"linecolor\":\"white\",\"ticks\":\"\"},\"baxis\":{\"gridcolor\":\"white\",\"linecolor\":\"white\",\"ticks\":\"\"},\"caxis\":{\"gridcolor\":\"white\",\"linecolor\":\"white\",\"ticks\":\"\"}},\"coloraxis\":{\"colorbar\":{\"outlinewidth\":0,\"ticks\":\"\"}},\"colorscale\":{\"sequential\":[[0.0,\"#0d0887\"],[0.1111111111111111,\"#46039f\"],[0.2222222222222222,\"#7201a8\"],[0.3333333333333333,\"#9c179e\"],[0.4444444444444444,\"#bd3786\"],[0.5555555555555556,\"#d8576b\"],[0.6666666666666666,\"#ed7953\"],[0.7777777777777778,\"#fb9f3a\"],[0.8888888888888888,\"#fdca26\"],[1.0,\"#f0f921\"]],\"sequentialminus\":[[0.0,\"#0d0887\"],[0.1111111111111111,\"#46039f\"],[0.2222222222222222,\"#7201a8\"],[0.3333333333333333,\"#9c179e\"],[0.4444444444444444,\"#bd3786\"],[0.5555555555555556,\"#d8576b\"],[0.6666666666666666,\"#ed7953\"],[0.7777777777777778,\"#fb9f3a\"],[0.8888888888888888,\"#fdca26\"],[1.0,\"#f0f921\"]],\"diverging\":[[0,\"#8e0152\"],[0.1,\"#c51b7d\"],[0.2,\"#de77ae\"],[0.3,\"#f1b6da\"],[0.4,\"#fde0ef\"],[0.5,\"#f7f7f7\"],[0.6,\"#e6f5d0\"],[0.7,\"#b8e186\"],[0.8,\"#7fbc41\"],[0.9,\"#4d9221\"],[1,\"#276419\"]]},\"xaxis\":{\"gridcolor\":\"white\",\"linecolor\":\"white\",\"ticks\":\"\",\"title\":{\"standoff\":15},\"zerolinecolor\":\"white\",\"automargin\":true,\"zerolinewidth\":2},\"yaxis\":{\"gridcolor\":\"white\",\"linecolor\":\"white\",\"ticks\":\"\",\"title\":{\"standoff\":15},\"zerolinecolor\":\"white\",\"automargin\":true,\"zerolinewidth\":2},\"scene\":{\"xaxis\":{\"backgroundcolor\":\"#E5ECF6\",\"gridcolor\":\"white\",\"linecolor\":\"white\",\"showbackground\":true,\"ticks\":\"\",\"zerolinecolor\":\"white\",\"gridwidth\":2},\"yaxis\":{\"backgroundcolor\":\"#E5ECF6\",\"gridcolor\":\"white\",\"linecolor\":\"white\",\"showbackground\":true,\"ticks\":\"\",\"zerolinecolor\":\"white\",\"gridwidth\":2},\"zaxis\":{\"backgroundcolor\":\"#E5ECF6\",\"gridcolor\":\"white\",\"linecolor\":\"white\",\"showbackground\":true,\"ticks\":\"\",\"zerolinecolor\":\"white\",\"gridwidth\":2}},\"shapedefaults\":{\"line\":{\"color\":\"#2a3f5f\"}},\"annotationdefaults\":{\"arrowcolor\":\"#2a3f5f\",\"arrowhead\":0,\"arrowwidth\":1},\"geo\":{\"bgcolor\":\"white\",\"landcolor\":\"#E5ECF6\",\"subunitcolor\":\"white\",\"showland\":true,\"showlakes\":true,\"lakecolor\":\"white\"},\"title\":{\"x\":0.05},\"mapbox\":{\"style\":\"light\"}}},\"annotations\":[{\"font\":{\"size\":16},\"showarrow\":false,\"text\":\"Estimated \\u003cb\\u003eROC AUC\\u003c\\u002fb\\u003e\",\"x\":0.5,\"xanchor\":\"center\",\"xref\":\"paper\",\"y\":1.0,\"yanchor\":\"bottom\",\"yref\":\"paper\"},{\"showarrow\":false,\"text\":\"Reference\",\"x\":\"2018-05-18T18:01:48\",\"xref\":\"x\",\"xshift\":10,\"y\":1.01,\"yref\":\"y domain\"},{\"showarrow\":false,\"text\":\"Analysis\",\"x\":\"2019-03-17T12:01:48\",\"xref\":\"x\",\"xshift\":15,\"y\":1.01,\"yref\":\"y domain\"}],\"shapes\":[{\"layer\":\"below\",\"line\":{\"color\":\"#666666\",\"width\":1},\"type\":\"line\",\"x0\":\"2018-10-30T18:00:00\",\"x1\":\"2018-10-30T18:00:00\",\"xref\":\"x\",\"y0\":0,\"y1\":1,\"yref\":\"y domain\"}]},                        {\"responsive\": true}                    ).then(function(){\n",
       "                            \n",
       "var gd = document.getElementById('f82ae01e-03ff-4826-b6a1-74bf15f20a85');\n",
       "var x = new MutationObserver(function (mutations, observer) {{\n",
       "        var display = window.getComputedStyle(gd).display;\n",
       "        if (!display || display === 'none') {{\n",
       "            console.log([gd, 'removed!']);\n",
       "            Plotly.purge(gd);\n",
       "            observer.disconnect();\n",
       "        }}\n",
       "}});\n",
       "\n",
       "// Listen for the removal of the full notebook cells\n",
       "var notebookContainer = gd.closest('#notebook-container');\n",
       "if (notebookContainer) {{\n",
       "    x.observe(notebookContainer, {childList: true});\n",
       "}}\n",
       "\n",
       "// Listen for the clearing of the current output cell\n",
       "var outputEl = gd.closest('.output');\n",
       "if (outputEl) {{\n",
       "    x.observe(outputEl, {childList: true});\n",
       "}}\n",
       "\n",
       "                        })                };                });            </script>        </div>"
      ]
     },
     "metadata": {},
     "output_type": "display_data"
    }
   ],
   "source": [
    "figure.show()"
   ]
  },
  {
   "cell_type": "markdown",
   "id": "ec86fb7a-d318-4541-b967-07e938d48576",
   "metadata": {},
   "source": [
    "#### Regression dataset"
   ]
  },
  {
   "cell_type": "code",
   "execution_count": 30,
   "id": "8767c5de-49c7-4438-bcaa-c997fde9ea0b",
   "metadata": {
    "tags": []
   },
   "outputs": [],
   "source": [
    "reference_df, analysis_df, analysis_targets_df = nml.datasets.load_synthetic_car_price_dataset()"
   ]
  },
  {
   "cell_type": "code",
   "execution_count": 31,
   "id": "5938e859-88ea-4275-b72d-257675160d55",
   "metadata": {
    "tags": []
   },
   "outputs": [
    {
     "data": {
      "text/html": [
       "<div>\n",
       "<style scoped>\n",
       "    .dataframe tbody tr th:only-of-type {\n",
       "        vertical-align: middle;\n",
       "    }\n",
       "\n",
       "    .dataframe tbody tr th {\n",
       "        vertical-align: top;\n",
       "    }\n",
       "\n",
       "    .dataframe thead th {\n",
       "        text-align: right;\n",
       "    }\n",
       "</style>\n",
       "<table border=\"1\" class=\"dataframe\">\n",
       "  <thead>\n",
       "    <tr style=\"text-align: right;\">\n",
       "      <th></th>\n",
       "      <th>car_age</th>\n",
       "      <th>km_driven</th>\n",
       "      <th>price_new</th>\n",
       "      <th>accident_count</th>\n",
       "      <th>door_count</th>\n",
       "      <th>fuel</th>\n",
       "      <th>transmission</th>\n",
       "      <th>y_true</th>\n",
       "      <th>y_pred</th>\n",
       "      <th>timestamp</th>\n",
       "    </tr>\n",
       "  </thead>\n",
       "  <tbody>\n",
       "    <tr>\n",
       "      <th>0</th>\n",
       "      <td>15.0</td>\n",
       "      <td>144020.0</td>\n",
       "      <td>42810.0</td>\n",
       "      <td>4.0</td>\n",
       "      <td>3.0</td>\n",
       "      <td>diesel</td>\n",
       "      <td>automatic</td>\n",
       "      <td>569.0</td>\n",
       "      <td>1246.0</td>\n",
       "      <td>2017-01-24 08:00:00.000</td>\n",
       "    </tr>\n",
       "    <tr>\n",
       "      <th>1</th>\n",
       "      <td>12.0</td>\n",
       "      <td>57078.0</td>\n",
       "      <td>31835.0</td>\n",
       "      <td>3.0</td>\n",
       "      <td>3.0</td>\n",
       "      <td>electric</td>\n",
       "      <td>automatic</td>\n",
       "      <td>4277.0</td>\n",
       "      <td>4924.0</td>\n",
       "      <td>2017-01-24 08:00:33.600</td>\n",
       "    </tr>\n",
       "    <tr>\n",
       "      <th>2</th>\n",
       "      <td>2.0</td>\n",
       "      <td>76288.0</td>\n",
       "      <td>31851.0</td>\n",
       "      <td>3.0</td>\n",
       "      <td>5.0</td>\n",
       "      <td>diesel</td>\n",
       "      <td>automatic</td>\n",
       "      <td>7011.0</td>\n",
       "      <td>5744.0</td>\n",
       "      <td>2017-01-24 08:01:07.200</td>\n",
       "    </tr>\n",
       "    <tr>\n",
       "      <th>3</th>\n",
       "      <td>7.0</td>\n",
       "      <td>97593.0</td>\n",
       "      <td>29288.0</td>\n",
       "      <td>2.0</td>\n",
       "      <td>3.0</td>\n",
       "      <td>electric</td>\n",
       "      <td>manual</td>\n",
       "      <td>5576.0</td>\n",
       "      <td>6781.0</td>\n",
       "      <td>2017-01-24 08:01:40.800</td>\n",
       "    </tr>\n",
       "    <tr>\n",
       "      <th>4</th>\n",
       "      <td>13.0</td>\n",
       "      <td>9985.0</td>\n",
       "      <td>41350.0</td>\n",
       "      <td>1.0</td>\n",
       "      <td>5.0</td>\n",
       "      <td>diesel</td>\n",
       "      <td>automatic</td>\n",
       "      <td>6456.0</td>\n",
       "      <td>6822.0</td>\n",
       "      <td>2017-01-24 08:02:14.400</td>\n",
       "    </tr>\n",
       "  </tbody>\n",
       "</table>\n",
       "</div>"
      ],
      "text/plain": [
       "   car_age  km_driven  price_new  accident_count  door_count      fuel  \\\n",
       "0     15.0   144020.0    42810.0             4.0         3.0    diesel   \n",
       "1     12.0    57078.0    31835.0             3.0         3.0  electric   \n",
       "2      2.0    76288.0    31851.0             3.0         5.0    diesel   \n",
       "3      7.0    97593.0    29288.0             2.0         3.0  electric   \n",
       "4     13.0     9985.0    41350.0             1.0         5.0    diesel   \n",
       "\n",
       "  transmission  y_true  y_pred                timestamp  \n",
       "0    automatic   569.0  1246.0  2017-01-24 08:00:00.000  \n",
       "1    automatic  4277.0  4924.0  2017-01-24 08:00:33.600  \n",
       "2    automatic  7011.0  5744.0  2017-01-24 08:01:07.200  \n",
       "3       manual  5576.0  6781.0  2017-01-24 08:01:40.800  \n",
       "4    automatic  6456.0  6822.0  2017-01-24 08:02:14.400  "
      ]
     },
     "metadata": {},
     "output_type": "display_data"
    }
   ],
   "source": [
    "display(reference_df.head())"
   ]
  },
  {
   "cell_type": "code",
   "execution_count": 32,
   "id": "b03142b5-c361-4099-a8dc-c63d2bacdea5",
   "metadata": {
    "tags": []
   },
   "outputs": [
    {
     "data": {
      "text/html": [
       "<div>\n",
       "<style scoped>\n",
       "    .dataframe tbody tr th:only-of-type {\n",
       "        vertical-align: middle;\n",
       "    }\n",
       "\n",
       "    .dataframe tbody tr th {\n",
       "        vertical-align: top;\n",
       "    }\n",
       "\n",
       "    .dataframe thead th {\n",
       "        text-align: right;\n",
       "    }\n",
       "</style>\n",
       "<table border=\"1\" class=\"dataframe\">\n",
       "  <thead>\n",
       "    <tr style=\"text-align: right;\">\n",
       "      <th></th>\n",
       "      <th>car_age</th>\n",
       "      <th>km_driven</th>\n",
       "      <th>price_new</th>\n",
       "      <th>accident_count</th>\n",
       "      <th>door_count</th>\n",
       "      <th>fuel</th>\n",
       "      <th>transmission</th>\n",
       "      <th>y_pred</th>\n",
       "      <th>timestamp</th>\n",
       "    </tr>\n",
       "  </thead>\n",
       "  <tbody>\n",
       "    <tr>\n",
       "      <th>0</th>\n",
       "      <td>9.0</td>\n",
       "      <td>96276.0</td>\n",
       "      <td>36603.0</td>\n",
       "      <td>4.0</td>\n",
       "      <td>4.0</td>\n",
       "      <td>gas</td>\n",
       "      <td>manual</td>\n",
       "      <td>3785.0</td>\n",
       "      <td>2017-02-16 16:00:00.000</td>\n",
       "    </tr>\n",
       "    <tr>\n",
       "      <th>1</th>\n",
       "      <td>12.0</td>\n",
       "      <td>25303.0</td>\n",
       "      <td>22210.0</td>\n",
       "      <td>2.0</td>\n",
       "      <td>5.0</td>\n",
       "      <td>gas</td>\n",
       "      <td>manual</td>\n",
       "      <td>4134.0</td>\n",
       "      <td>2017-02-16 16:00:33.600</td>\n",
       "    </tr>\n",
       "    <tr>\n",
       "      <th>2</th>\n",
       "      <td>11.0</td>\n",
       "      <td>143756.0</td>\n",
       "      <td>23364.0</td>\n",
       "      <td>1.0</td>\n",
       "      <td>4.0</td>\n",
       "      <td>gas</td>\n",
       "      <td>automatic</td>\n",
       "      <td>2748.0</td>\n",
       "      <td>2017-02-16 16:01:07.200</td>\n",
       "    </tr>\n",
       "    <tr>\n",
       "      <th>3</th>\n",
       "      <td>10.0</td>\n",
       "      <td>88496.0</td>\n",
       "      <td>37141.0</td>\n",
       "      <td>5.0</td>\n",
       "      <td>3.0</td>\n",
       "      <td>electric</td>\n",
       "      <td>manual</td>\n",
       "      <td>3488.0</td>\n",
       "      <td>2017-02-16 16:01:40.800</td>\n",
       "    </tr>\n",
       "    <tr>\n",
       "      <th>4</th>\n",
       "      <td>18.0</td>\n",
       "      <td>110028.0</td>\n",
       "      <td>43042.0</td>\n",
       "      <td>1.0</td>\n",
       "      <td>4.0</td>\n",
       "      <td>gas</td>\n",
       "      <td>manual</td>\n",
       "      <td>3915.0</td>\n",
       "      <td>2017-02-16 16:02:14.400</td>\n",
       "    </tr>\n",
       "  </tbody>\n",
       "</table>\n",
       "</div>"
      ],
      "text/plain": [
       "   car_age  km_driven  price_new  accident_count  door_count      fuel  \\\n",
       "0      9.0    96276.0    36603.0             4.0         4.0       gas   \n",
       "1     12.0    25303.0    22210.0             2.0         5.0       gas   \n",
       "2     11.0   143756.0    23364.0             1.0         4.0       gas   \n",
       "3     10.0    88496.0    37141.0             5.0         3.0  electric   \n",
       "4     18.0   110028.0    43042.0             1.0         4.0       gas   \n",
       "\n",
       "  transmission  y_pred                timestamp  \n",
       "0       manual  3785.0  2017-02-16 16:00:00.000  \n",
       "1       manual  4134.0  2017-02-16 16:00:33.600  \n",
       "2    automatic  2748.0  2017-02-16 16:01:07.200  \n",
       "3       manual  3488.0  2017-02-16 16:01:40.800  \n",
       "4       manual  3915.0  2017-02-16 16:02:14.400  "
      ]
     },
     "metadata": {},
     "output_type": "display_data"
    }
   ],
   "source": [
    "display(analysis_df.head())"
   ]
  },
  {
   "cell_type": "code",
   "execution_count": 33,
   "id": "52a6ed51-7ee1-41de-b013-65ef00b3681f",
   "metadata": {
    "tags": []
   },
   "outputs": [
    {
     "data": {
      "text/html": [
       "<div>\n",
       "<style scoped>\n",
       "    .dataframe tbody tr th:only-of-type {\n",
       "        vertical-align: middle;\n",
       "    }\n",
       "\n",
       "    .dataframe tbody tr th {\n",
       "        vertical-align: top;\n",
       "    }\n",
       "\n",
       "    .dataframe thead th {\n",
       "        text-align: right;\n",
       "    }\n",
       "</style>\n",
       "<table border=\"1\" class=\"dataframe\">\n",
       "  <thead>\n",
       "    <tr style=\"text-align: right;\">\n",
       "      <th></th>\n",
       "      <th>y_true</th>\n",
       "    </tr>\n",
       "  </thead>\n",
       "  <tbody>\n",
       "    <tr>\n",
       "      <th>0</th>\n",
       "      <td>2945.0</td>\n",
       "    </tr>\n",
       "    <tr>\n",
       "      <th>1</th>\n",
       "      <td>2966.0</td>\n",
       "    </tr>\n",
       "    <tr>\n",
       "      <th>2</th>\n",
       "      <td>1833.0</td>\n",
       "    </tr>\n",
       "    <tr>\n",
       "      <th>3</th>\n",
       "      <td>2973.0</td>\n",
       "    </tr>\n",
       "    <tr>\n",
       "      <th>4</th>\n",
       "      <td>4878.0</td>\n",
       "    </tr>\n",
       "  </tbody>\n",
       "</table>\n",
       "</div>"
      ],
      "text/plain": [
       "   y_true\n",
       "0  2945.0\n",
       "1  2966.0\n",
       "2  1833.0\n",
       "3  2973.0\n",
       "4  4878.0"
      ]
     },
     "metadata": {},
     "output_type": "display_data"
    }
   ],
   "source": [
    "display(analysis_targets_df.head())"
   ]
  },
  {
   "cell_type": "code",
   "execution_count": 34,
   "id": "a682cbf5-38fd-4bca-a443-48585a8463e5",
   "metadata": {
    "tags": []
   },
   "outputs": [],
   "source": [
    "estimator = nml.DLE(\n",
    "    feature_column_names=['car_age', 'km_driven', 'price_new', 'accident_count',\n",
    "                          'door_count', 'fuel', 'transmission'],\n",
    "    y_pred='y_pred',\n",
    "    y_true='y_true',\n",
    "    timestamp_column_name='timestamp',\n",
    "    metrics=['rmse', 'rmsle'],\n",
    "    chunk_size=6000,\n",
    ")"
   ]
  },
  {
   "cell_type": "code",
   "execution_count": 35,
   "id": "3c8c95f5-2c3b-416f-8fa9-8af73ce130fb",
   "metadata": {
    "tags": []
   },
   "outputs": [
    {
     "name": "stderr",
     "output_type": "stream",
     "text": [
      "/home/jaydeep/.local/lib/python3.10/site-packages/lightgbm/basic.py:2065: UserWarning:\n",
      "\n",
      "Using categorical_feature in Dataset.\n",
      "\n",
      "/home/jaydeep/.local/lib/python3.10/site-packages/lightgbm/basic.py:2065: UserWarning:\n",
      "\n",
      "Using categorical_feature in Dataset.\n",
      "\n"
     ]
    },
    {
     "data": {
      "text/plain": [
       "<nannyml.performance_estimation.direct_loss_estimation.dle.DLE at 0x7fa49c310a30>"
      ]
     },
     "execution_count": 35,
     "metadata": {},
     "output_type": "execute_result"
    }
   ],
   "source": [
    "estimator.fit(reference_df)"
   ]
  },
  {
   "cell_type": "code",
   "execution_count": 36,
   "id": "00f8fab6-da4c-4e80-bea2-ddae4512d7b8",
   "metadata": {
    "tags": []
   },
   "outputs": [],
   "source": [
    "results = estimator.estimate(analysis_df)"
   ]
  },
  {
   "cell_type": "code",
   "execution_count": 37,
   "id": "429b6cca-1bcc-452e-9cd2-1c403aca114c",
   "metadata": {
    "tags": []
   },
   "outputs": [],
   "source": [
    "metric_fig = results.plot()"
   ]
  },
  {
   "cell_type": "code",
   "execution_count": 38,
   "id": "c49d51b1-289c-4b46-bdcc-1d19f5693ebf",
   "metadata": {
    "tags": []
   },
   "outputs": [
    {
     "data": {
      "application/vnd.plotly.v1+json": {
       "config": {
        "plotlyServerURL": "https://plot.ly"
       },
       "data": [
        {
         "hoverinfo": "skip",
         "legendgroup": "metric_reference",
         "line": {
          "color": "#3b0280",
          "dash": "dash",
          "shape": "hv",
          "width": 2
         },
         "mode": "lines",
         "name": "Metric",
         "showlegend": true,
         "type": "scatter",
         "x": [
          "2017-01-24T08:00:00",
          "2017-01-26T16:00:00",
          "2017-01-29T00:00:00",
          "2017-01-31T08:00:00",
          "2017-02-02T16:00:00",
          "2017-02-05T00:00:00",
          "2017-02-07T08:00:00",
          "2017-02-09T16:00:00",
          "2017-02-12T00:00:00",
          "2017-02-14T08:00:00",
          "2017-02-16T15:59:26.400000"
         ],
         "xaxis": "x",
         "y": [
          1073.9055147872575,
          1056.6200053706243,
          1054.927053290527,
          1054.4272682263668,
          1066.5355064357439,
          1064.8034128794523,
          1057.2188294764996,
          1055.103719698418,
          1052.1097230379528,
          1053.1670440769963,
          1053.1670440769963
         ],
         "yaxis": "y"
        },
        {
         "customdata": [
          [
           "Estimated <b>RMSE</b>",
           "<b style=\"color:#3b0280;line-height:60px\">Reference</b>",
           "",
           "[0:5999]",
           "From <b>Jan-24-2017</b> to <b>Jan-26-2017</b>",
           1073.9055,
           31.044
          ],
          [
           "Estimated <b>RMSE</b>",
           "<b style=\"color:#3b0280;line-height:60px\">Reference</b>",
           "",
           "[6000:11999]",
           "From <b>Jan-26-2017</b> to <b>Jan-28-2017</b>",
           1056.62,
           31.044
          ],
          [
           "Estimated <b>RMSE</b>",
           "<b style=\"color:#3b0280;line-height:60px\">Reference</b>",
           "",
           "[12000:17999]",
           "From <b>Jan-29-2017</b> to <b>Jan-31-2017</b>",
           1054.9271,
           31.044
          ],
          [
           "Estimated <b>RMSE</b>",
           "<b style=\"color:#3b0280;line-height:60px\">Reference</b>",
           "",
           "[18000:23999]",
           "From <b>Jan-31-2017</b> to <b>Feb-02-2017</b>",
           1054.4273,
           31.044
          ],
          [
           "Estimated <b>RMSE</b>",
           "<b style=\"color:#3b0280;line-height:60px\">Reference</b>",
           "",
           "[24000:29999]",
           "From <b>Feb-02-2017</b> to <b>Feb-04-2017</b>",
           1066.5355,
           31.044
          ],
          [
           "Estimated <b>RMSE</b>",
           "<b style=\"color:#3b0280;line-height:60px\">Reference</b>",
           "",
           "[30000:35999]",
           "From <b>Feb-05-2017</b> to <b>Feb-07-2017</b>",
           1064.8034,
           31.044
          ],
          [
           "Estimated <b>RMSE</b>",
           "<b style=\"color:#3b0280;line-height:60px\">Reference</b>",
           "",
           "[36000:41999]",
           "From <b>Feb-07-2017</b> to <b>Feb-09-2017</b>",
           1057.2188,
           31.044
          ],
          [
           "Estimated <b>RMSE</b>",
           "<b style=\"color:#3b0280;line-height:60px\">Reference</b>",
           "",
           "[42000:47999]",
           "From <b>Feb-09-2017</b> to <b>Feb-11-2017</b>",
           1055.1037,
           31.044
          ],
          [
           "Estimated <b>RMSE</b>",
           "<b style=\"color:#3b0280;line-height:60px\">Reference</b>",
           "",
           "[48000:53999]",
           "From <b>Feb-12-2017</b> to <b>Feb-14-2017</b>",
           1052.1097,
           31.044
          ],
          [
           "Estimated <b>RMSE</b>",
           "<b style=\"color:#3b0280;line-height:60px\">Reference</b>",
           "",
           "[54000:59999]",
           "From <b>Feb-14-2017</b> to <b>Feb-16-2017</b>",
           1053.167,
           31.044
          ]
         ],
         "hovertemplate": "%{customdata[1]} &nbsp; &nbsp; %{customdata[2]} <br />Chunk: <b>%{customdata[3]}</b> &nbsp; &nbsp; %{customdata[4]} <br />%{customdata[0]}: <b>%{customdata[5]}</b><br />Confidence band: +/- <b>%{customdata[6]}</b><br /><extra></extra>",
         "legendgroup": "metric_reference",
         "line": {
          "dash": "dash"
         },
         "marker": {
          "color": "#3b0280",
          "size": 5,
          "symbol": "circle"
         },
         "mode": "markers",
         "name": "Metric",
         "showlegend": false,
         "type": "scatter",
         "x": [
          "2017-01-25T12:00:00",
          "2017-01-27T20:00:00",
          "2017-01-30T04:00:00",
          "2017-02-01T12:00:00",
          "2017-02-03T20:00:00",
          "2017-02-06T04:00:00",
          "2017-02-08T12:00:00",
          "2017-02-10T20:00:00",
          "2017-02-13T04:00:00",
          "2017-02-15T11:59:43.200000"
         ],
         "xaxis": "x",
         "y": [
          1073.9055147872575,
          1056.6200053706243,
          1054.927053290527,
          1054.4272682263668,
          1066.5355064357439,
          1064.8034128794523,
          1057.2188294764996,
          1055.103719698418,
          1052.1097230379528,
          1053.1670440769963,
          1053.1670440769963
         ],
         "yaxis": "y"
        },
        {
         "hoverinfo": "skip",
         "legendgroup": "metric_analysis",
         "line": {
          "color": "#3b0280",
          "dash": "dash",
          "shape": "hv",
          "width": 2
         },
         "mode": "lines",
         "name": "Metric",
         "showlegend": false,
         "type": "scatter",
         "x": [
          "2017-02-16T16:00:00",
          "2017-02-19T00:00:00",
          "2017-02-21T08:00:00",
          "2017-02-23T16:00:00",
          "2017-02-26T00:00:00",
          "2017-02-28T08:00:00",
          "2017-03-02T16:00:00",
          "2017-03-05T00:00:00",
          "2017-03-07T08:00:00",
          "2017-03-09T16:00:00",
          "2017-03-11T23:59:26.400000"
         ],
         "xaxis": "x",
         "y": [
          1067.21288526678,
          1063.1297150282562,
          1054.1587491366226,
          1060.66574227496,
          1055.23022681048,
          928.5133883491517,
          928.9159605715453,
          927.9158358901553,
          930.4262063467054,
          919.3978643291063,
          919.3978643291063
         ],
         "yaxis": "y"
        },
        {
         "customdata": [
          [
           "Estimated <b>RMSE</b>",
           "<b style=\"color:#3b0280;line-height:60px\">Analysis</b>",
           "",
           "[0:5999]",
           "From <b>Feb-16-2017</b> to <b>Feb-18-2017</b>",
           1067.2129,
           31.044
          ],
          [
           "Estimated <b>RMSE</b>",
           "<b style=\"color:#3b0280;line-height:60px\">Analysis</b>",
           "",
           "[6000:11999]",
           "From <b>Feb-19-2017</b> to <b>Feb-21-2017</b>",
           1063.1297,
           31.044
          ],
          [
           "Estimated <b>RMSE</b>",
           "<b style=\"color:#3b0280;line-height:60px\">Analysis</b>",
           "",
           "[12000:17999]",
           "From <b>Feb-21-2017</b> to <b>Feb-23-2017</b>",
           1054.1587,
           31.044
          ],
          [
           "Estimated <b>RMSE</b>",
           "<b style=\"color:#3b0280;line-height:60px\">Analysis</b>",
           "",
           "[18000:23999]",
           "From <b>Feb-23-2017</b> to <b>Feb-25-2017</b>",
           1060.6657,
           31.044
          ],
          [
           "Estimated <b>RMSE</b>",
           "<b style=\"color:#3b0280;line-height:60px\">Analysis</b>",
           "",
           "[24000:29999]",
           "From <b>Feb-26-2017</b> to <b>Feb-28-2017</b>",
           1055.2302,
           31.044
          ],
          [
           "Estimated <b>RMSE</b>",
           "<b style=\"color:#3b0280;line-height:60px\">Analysis</b>",
           "<span style=\"color:#AD0000\">⚠ <b>Drift detected</b></span>",
           "[30000:35999]",
           "From <b>Feb-28-2017</b> to <b>Mar-02-2017</b>",
           928.5134,
           31.044
          ],
          [
           "Estimated <b>RMSE</b>",
           "<b style=\"color:#3b0280;line-height:60px\">Analysis</b>",
           "<span style=\"color:#AD0000\">⚠ <b>Drift detected</b></span>",
           "[36000:41999]",
           "From <b>Mar-02-2017</b> to <b>Mar-04-2017</b>",
           928.916,
           31.044
          ],
          [
           "Estimated <b>RMSE</b>",
           "<b style=\"color:#3b0280;line-height:60px\">Analysis</b>",
           "<span style=\"color:#AD0000\">⚠ <b>Drift detected</b></span>",
           "[42000:47999]",
           "From <b>Mar-05-2017</b> to <b>Mar-07-2017</b>",
           927.9158,
           31.044
          ],
          [
           "Estimated <b>RMSE</b>",
           "<b style=\"color:#3b0280;line-height:60px\">Analysis</b>",
           "<span style=\"color:#AD0000\">⚠ <b>Drift detected</b></span>",
           "[48000:53999]",
           "From <b>Mar-07-2017</b> to <b>Mar-09-2017</b>",
           930.4262,
           31.044
          ],
          [
           "Estimated <b>RMSE</b>",
           "<b style=\"color:#3b0280;line-height:60px\">Analysis</b>",
           "<span style=\"color:#AD0000\">⚠ <b>Drift detected</b></span>",
           "[54000:59999]",
           "From <b>Mar-09-2017</b> to <b>Mar-11-2017</b>",
           919.3979,
           31.044
          ]
         ],
         "hovertemplate": "%{customdata[1]} &nbsp; &nbsp; %{customdata[2]} <br />Chunk: <b>%{customdata[3]}</b> &nbsp; &nbsp; %{customdata[4]} <br />%{customdata[0]}: <b>%{customdata[5]}</b><br />Confidence band: +/- <b>%{customdata[6]}</b><br /><extra></extra>",
         "legendgroup": "metric_analysis",
         "line": {
          "dash": "dash"
         },
         "marker": {
          "color": "#3b0280",
          "size": 5,
          "symbol": "circle"
         },
         "mode": "markers",
         "name": "Metric",
         "showlegend": false,
         "type": "scatter",
         "x": [
          "2017-02-17T20:00:00",
          "2017-02-20T04:00:00",
          "2017-02-22T12:00:00",
          "2017-02-24T20:00:00",
          "2017-02-27T04:00:00",
          "2017-03-01T12:00:00",
          "2017-03-03T20:00:00",
          "2017-03-06T04:00:00",
          "2017-03-08T12:00:00",
          "2017-03-10T19:59:43.200000"
         ],
         "xaxis": "x",
         "y": [
          1067.21288526678,
          1063.1297150282562,
          1054.1587491366226,
          1060.66574227496,
          1055.23022681048,
          928.5133883491517,
          928.9159605715453,
          927.9158358901553,
          930.4262063467054,
          919.3978643291063,
          919.3978643291063
         ],
         "yaxis": "y"
        },
        {
         "hoverinfo": "skip",
         "legendgroup": "alert",
         "marker": {
          "color": "#DD4040",
          "size": 8,
          "symbol": "diamond"
         },
         "mode": "markers",
         "name": "Alert",
         "showlegend": true,
         "type": "scatter",
         "x": [
          "2017-03-01T12:00:00",
          "2017-03-03T20:00:00",
          "2017-03-06T04:00:00",
          "2017-03-08T12:00:00",
          "2017-03-10T19:59:43.200000"
         ],
         "xaxis": "x",
         "y": [
          928.5133883491517,
          928.9159605715453,
          927.9158358901553,
          930.4262063467054,
          919.3978643291063
         ],
         "yaxis": "y"
        },
        {
         "hoverinfo": "skip",
         "legendgroup": "thresh",
         "line": {
          "color": "#DD4040",
          "dash": "dash",
          "width": 2
         },
         "mode": "lines",
         "name": "Threshold",
         "showlegend": true,
         "type": "scatter",
         "x": [
          "2017-01-24T08:00:00",
          "2017-01-26T16:00:00",
          "2017-01-29T00:00:00",
          "2017-01-31T08:00:00",
          "2017-02-02T16:00:00",
          "2017-02-05T00:00:00",
          "2017-02-07T08:00:00",
          "2017-02-09T16:00:00",
          "2017-02-12T00:00:00",
          "2017-02-14T08:00:00",
          "2017-02-16T15:59:26.400000"
         ],
         "xaxis": "x",
         "y": [
          1103.313740532938,
          1103.313740532938,
          1103.313740532938,
          1103.313740532938,
          1103.313740532938,
          1103.313740532938,
          1103.313740532938,
          1103.313740532938,
          1103.313740532938,
          1103.313740532938,
          1103.313740532938
         ],
         "yaxis": "y"
        },
        {
         "hoverinfo": "skip",
         "legendgroup": "thresh",
         "line": {
          "color": "#DD4040",
          "dash": "dash",
          "width": 2
         },
         "mode": "lines",
         "name": "Threshold",
         "showlegend": false,
         "type": "scatter",
         "x": [
          "2017-01-24T08:00:00",
          "2017-01-26T16:00:00",
          "2017-01-29T00:00:00",
          "2017-01-31T08:00:00",
          "2017-02-02T16:00:00",
          "2017-02-05T00:00:00",
          "2017-02-07T08:00:00",
          "2017-02-09T16:00:00",
          "2017-02-12T00:00:00",
          "2017-02-14T08:00:00",
          "2017-02-16T15:59:26.400000"
         ],
         "xaxis": "x",
         "y": [
          1014.2761673303021,
          1014.2761673303021,
          1014.2761673303021,
          1014.2761673303021,
          1014.2761673303021,
          1014.2761673303021,
          1014.2761673303021,
          1014.2761673303021,
          1014.2761673303021,
          1014.2761673303021,
          1014.2761673303021
         ],
         "yaxis": "y"
        },
        {
         "hoverinfo": "skip",
         "legendgroup": "thresh",
         "line": {
          "color": "#DD4040",
          "dash": "dash",
          "width": 2
         },
         "mode": "lines",
         "name": "Threshold",
         "showlegend": false,
         "type": "scatter",
         "x": [
          "2017-02-16T16:00:00",
          "2017-02-19T00:00:00",
          "2017-02-21T08:00:00",
          "2017-02-23T16:00:00",
          "2017-02-26T00:00:00",
          "2017-02-28T08:00:00",
          "2017-03-02T16:00:00",
          "2017-03-05T00:00:00",
          "2017-03-07T08:00:00",
          "2017-03-09T16:00:00",
          "2017-03-11T23:59:26.400000"
         ],
         "xaxis": "x",
         "y": [
          1103.313740532938,
          1103.313740532938,
          1103.313740532938,
          1103.313740532938,
          1103.313740532938,
          1103.313740532938,
          1103.313740532938,
          1103.313740532938,
          1103.313740532938,
          1103.313740532938,
          1103.313740532938
         ],
         "yaxis": "y"
        },
        {
         "hoverinfo": "skip",
         "legendgroup": "thresh",
         "line": {
          "color": "#DD4040",
          "dash": "dash",
          "width": 2
         },
         "mode": "lines",
         "name": "Threshold",
         "showlegend": false,
         "type": "scatter",
         "x": [
          "2017-02-16T16:00:00",
          "2017-02-19T00:00:00",
          "2017-02-21T08:00:00",
          "2017-02-23T16:00:00",
          "2017-02-26T00:00:00",
          "2017-02-28T08:00:00",
          "2017-03-02T16:00:00",
          "2017-03-05T00:00:00",
          "2017-03-07T08:00:00",
          "2017-03-09T16:00:00",
          "2017-03-11T23:59:26.400000"
         ],
         "xaxis": "x",
         "y": [
          1014.2761673303021,
          1014.2761673303021,
          1014.2761673303021,
          1014.2761673303021,
          1014.2761673303021,
          1014.2761673303021,
          1014.2761673303021,
          1014.2761673303021,
          1014.2761673303021,
          1014.2761673303021,
          1014.2761673303021
         ],
         "yaxis": "y"
        },
        {
         "hoverinfo": "skip",
         "line": {
          "color": "rgba(0, 0, 0, 0)",
          "shape": "hv"
         },
         "mode": "lines",
         "name": "Confidence band",
         "showlegend": false,
         "type": "scatter",
         "x": [
          "2017-01-24T08:00:00",
          "2017-01-26T16:00:00",
          "2017-01-29T00:00:00",
          "2017-01-31T08:00:00",
          "2017-02-02T16:00:00",
          "2017-02-05T00:00:00",
          "2017-02-07T08:00:00",
          "2017-02-09T16:00:00",
          "2017-02-12T00:00:00",
          "2017-02-14T08:00:00",
          "2017-02-16T15:59:26.400000"
         ],
         "xaxis": "x",
         "y": [
          1104.9495415825209,
          1087.6640321658876,
          1085.9710800857904,
          1085.47129502163,
          1097.5795332310072,
          1095.8474396747156,
          1088.262856271763,
          1086.1477464936813,
          1083.1537498332161,
          1084.2110708722596,
          1084.2110708722596
         ],
         "yaxis": "y"
        },
        {
         "fill": "tonexty",
         "fillcolor": "rgba(59, 2, 128, 0.2)",
         "hoverinfo": "skip",
         "line": {
          "color": "rgba(0, 0, 0, 0)",
          "shape": "hv"
         },
         "mode": "lines",
         "name": "Confidence band",
         "showlegend": true,
         "type": "scatter",
         "x": [
          "2017-01-24T08:00:00",
          "2017-01-26T16:00:00",
          "2017-01-29T00:00:00",
          "2017-01-31T08:00:00",
          "2017-02-02T16:00:00",
          "2017-02-05T00:00:00",
          "2017-02-07T08:00:00",
          "2017-02-09T16:00:00",
          "2017-02-12T00:00:00",
          "2017-02-14T08:00:00",
          "2017-02-16T15:59:26.400000"
         ],
         "xaxis": "x",
         "y": [
          1042.8614879919942,
          1025.575978575361,
          1023.8830264952638,
          1023.3832414311036,
          1035.4914796404805,
          1033.759386084189,
          1026.1748026812363,
          1024.0596929031547,
          1021.0656962426896,
          1022.123017281733,
          1022.123017281733
         ],
         "yaxis": "y"
        },
        {
         "hoverinfo": "skip",
         "line": {
          "color": "rgba(0, 0, 0, 0)",
          "shape": "hv"
         },
         "mode": "lines",
         "name": "Confidence band",
         "showlegend": false,
         "type": "scatter",
         "x": [
          "2017-02-16T16:00:00",
          "2017-02-19T00:00:00",
          "2017-02-21T08:00:00",
          "2017-02-23T16:00:00",
          "2017-02-26T00:00:00",
          "2017-02-28T08:00:00",
          "2017-03-02T16:00:00",
          "2017-03-05T00:00:00",
          "2017-03-07T08:00:00",
          "2017-03-09T16:00:00",
          "2017-03-11T23:59:26.400000"
         ],
         "xaxis": "x",
         "y": [
          1098.2569120620433,
          1094.1737418235195,
          1085.202775931886,
          1091.7097690702233,
          1086.2742536057433,
          959.5574151444149,
          959.9599873668085,
          958.9598626854186,
          961.4702331419686,
          950.4418911243695,
          950.4418911243695
         ],
         "yaxis": "y"
        },
        {
         "fill": "tonexty",
         "fillcolor": "rgba(59, 2, 128, 0.2)",
         "hoverinfo": "skip",
         "line": {
          "color": "rgba(0, 0, 0, 0)",
          "shape": "hv"
         },
         "mode": "lines",
         "name": "Confidence band",
         "showlegend": false,
         "type": "scatter",
         "x": [
          "2017-02-16T16:00:00",
          "2017-02-19T00:00:00",
          "2017-02-21T08:00:00",
          "2017-02-23T16:00:00",
          "2017-02-26T00:00:00",
          "2017-02-28T08:00:00",
          "2017-03-02T16:00:00",
          "2017-03-05T00:00:00",
          "2017-03-07T08:00:00",
          "2017-03-09T16:00:00",
          "2017-03-11T23:59:26.400000"
         ],
         "xaxis": "x",
         "y": [
          1036.1688584715166,
          1032.0856882329929,
          1023.1147223413594,
          1029.6217154796966,
          1024.1862000152166,
          897.4693615538885,
          897.871933776282,
          896.8718090948921,
          899.3821795514422,
          888.353837533843,
          888.353837533843
         ],
         "yaxis": "y"
        },
        {
         "hoverinfo": "skip",
         "legendgroup": "metric_reference",
         "line": {
          "color": "#3b0280",
          "dash": "dash",
          "shape": "hv",
          "width": 2
         },
         "mode": "lines",
         "name": "Metric",
         "showlegend": false,
         "type": "scatter",
         "x": [
          "2017-01-24T08:00:00",
          "2017-01-26T16:00:00",
          "2017-01-29T00:00:00",
          "2017-01-31T08:00:00",
          "2017-02-02T16:00:00",
          "2017-02-05T00:00:00",
          "2017-02-07T08:00:00",
          "2017-02-09T16:00:00",
          "2017-02-12T00:00:00",
          "2017-02-14T08:00:00",
          "2017-02-16T15:59:26.400000"
         ],
         "xaxis": "x2",
         "y": [
          0.2665463800316081,
          0.26910295684146857,
          0.2687449242373963,
          0.2670795143259885,
          0.266765881956791,
          0.2664202986217347,
          0.2675556514379483,
          0.26879278430666087,
          0.2678228456654652,
          0.268474450764883,
          0.268474450764883
         ],
         "yaxis": "y2"
        },
        {
         "customdata": [
          [
           "Estimated <b>RMSLE</b>",
           "<b style=\"color:#3b0280;line-height:60px\">Reference</b>",
           "",
           "[0:5999]",
           "From <b>Jan-24-2017</b> to <b>Jan-26-2017</b>",
           0.2665,
           0.0067
          ],
          [
           "Estimated <b>RMSLE</b>",
           "<b style=\"color:#3b0280;line-height:60px\">Reference</b>",
           "",
           "[6000:11999]",
           "From <b>Jan-26-2017</b> to <b>Jan-28-2017</b>",
           0.2691,
           0.0067
          ],
          [
           "Estimated <b>RMSLE</b>",
           "<b style=\"color:#3b0280;line-height:60px\">Reference</b>",
           "",
           "[12000:17999]",
           "From <b>Jan-29-2017</b> to <b>Jan-31-2017</b>",
           0.2687,
           0.0067
          ],
          [
           "Estimated <b>RMSLE</b>",
           "<b style=\"color:#3b0280;line-height:60px\">Reference</b>",
           "",
           "[18000:23999]",
           "From <b>Jan-31-2017</b> to <b>Feb-02-2017</b>",
           0.2671,
           0.0067
          ],
          [
           "Estimated <b>RMSLE</b>",
           "<b style=\"color:#3b0280;line-height:60px\">Reference</b>",
           "",
           "[24000:29999]",
           "From <b>Feb-02-2017</b> to <b>Feb-04-2017</b>",
           0.2668,
           0.0067
          ],
          [
           "Estimated <b>RMSLE</b>",
           "<b style=\"color:#3b0280;line-height:60px\">Reference</b>",
           "",
           "[30000:35999]",
           "From <b>Feb-05-2017</b> to <b>Feb-07-2017</b>",
           0.2664,
           0.0067
          ],
          [
           "Estimated <b>RMSLE</b>",
           "<b style=\"color:#3b0280;line-height:60px\">Reference</b>",
           "",
           "[36000:41999]",
           "From <b>Feb-07-2017</b> to <b>Feb-09-2017</b>",
           0.2676,
           0.0067
          ],
          [
           "Estimated <b>RMSLE</b>",
           "<b style=\"color:#3b0280;line-height:60px\">Reference</b>",
           "",
           "[42000:47999]",
           "From <b>Feb-09-2017</b> to <b>Feb-11-2017</b>",
           0.2688,
           0.0067
          ],
          [
           "Estimated <b>RMSLE</b>",
           "<b style=\"color:#3b0280;line-height:60px\">Reference</b>",
           "",
           "[48000:53999]",
           "From <b>Feb-12-2017</b> to <b>Feb-14-2017</b>",
           0.2678,
           0.0067
          ],
          [
           "Estimated <b>RMSLE</b>",
           "<b style=\"color:#3b0280;line-height:60px\">Reference</b>",
           "",
           "[54000:59999]",
           "From <b>Feb-14-2017</b> to <b>Feb-16-2017</b>",
           0.2685,
           0.0067
          ]
         ],
         "hovertemplate": "%{customdata[1]} &nbsp; &nbsp; %{customdata[2]} <br />Chunk: <b>%{customdata[3]}</b> &nbsp; &nbsp; %{customdata[4]} <br />%{customdata[0]}: <b>%{customdata[5]}</b><br />Confidence band: +/- <b>%{customdata[6]}</b><br /><extra></extra>",
         "legendgroup": "metric_reference",
         "line": {
          "dash": "dash"
         },
         "marker": {
          "color": "#3b0280",
          "size": 5,
          "symbol": "circle"
         },
         "mode": "markers",
         "name": "Metric",
         "showlegend": false,
         "type": "scatter",
         "x": [
          "2017-01-25T12:00:00",
          "2017-01-27T20:00:00",
          "2017-01-30T04:00:00",
          "2017-02-01T12:00:00",
          "2017-02-03T20:00:00",
          "2017-02-06T04:00:00",
          "2017-02-08T12:00:00",
          "2017-02-10T20:00:00",
          "2017-02-13T04:00:00",
          "2017-02-15T11:59:43.200000"
         ],
         "xaxis": "x2",
         "y": [
          0.2665463800316081,
          0.26910295684146857,
          0.2687449242373963,
          0.2670795143259885,
          0.266765881956791,
          0.2664202986217347,
          0.2675556514379483,
          0.26879278430666087,
          0.2678228456654652,
          0.268474450764883,
          0.268474450764883
         ],
         "yaxis": "y2"
        },
        {
         "hoverinfo": "skip",
         "legendgroup": "metric_analysis",
         "line": {
          "color": "#3b0280",
          "dash": "dash",
          "shape": "hv",
          "width": 2
         },
         "mode": "lines",
         "name": "Metric",
         "showlegend": false,
         "type": "scatter",
         "x": [
          "2017-02-16T16:00:00",
          "2017-02-19T00:00:00",
          "2017-02-21T08:00:00",
          "2017-02-23T16:00:00",
          "2017-02-26T00:00:00",
          "2017-02-28T08:00:00",
          "2017-03-02T16:00:00",
          "2017-03-05T00:00:00",
          "2017-03-07T08:00:00",
          "2017-03-09T16:00:00",
          "2017-03-11T23:59:26.400000"
         ],
         "xaxis": "x2",
         "y": [
          0.26579823395332525,
          0.2668676483739787,
          0.2678838677706675,
          0.2656952488975803,
          0.26835369010346916,
          0.3074006336142836,
          0.3086685744486676,
          0.30878061712198335,
          0.3085125121316404,
          0.3106956900896941,
          0.3106956900896941
         ],
         "yaxis": "y2"
        },
        {
         "customdata": [
          [
           "Estimated <b>RMSLE</b>",
           "<b style=\"color:#3b0280;line-height:60px\">Analysis</b>",
           "",
           "[0:5999]",
           "From <b>Feb-16-2017</b> to <b>Feb-18-2017</b>",
           0.2658,
           0.0067
          ],
          [
           "Estimated <b>RMSLE</b>",
           "<b style=\"color:#3b0280;line-height:60px\">Analysis</b>",
           "",
           "[6000:11999]",
           "From <b>Feb-19-2017</b> to <b>Feb-21-2017</b>",
           0.2669,
           0.0067
          ],
          [
           "Estimated <b>RMSLE</b>",
           "<b style=\"color:#3b0280;line-height:60px\">Analysis</b>",
           "",
           "[12000:17999]",
           "From <b>Feb-21-2017</b> to <b>Feb-23-2017</b>",
           0.2679,
           0.0067
          ],
          [
           "Estimated <b>RMSLE</b>",
           "<b style=\"color:#3b0280;line-height:60px\">Analysis</b>",
           "",
           "[18000:23999]",
           "From <b>Feb-23-2017</b> to <b>Feb-25-2017</b>",
           0.2657,
           0.0067
          ],
          [
           "Estimated <b>RMSLE</b>",
           "<b style=\"color:#3b0280;line-height:60px\">Analysis</b>",
           "",
           "[24000:29999]",
           "From <b>Feb-26-2017</b> to <b>Feb-28-2017</b>",
           0.2684,
           0.0067
          ],
          [
           "Estimated <b>RMSLE</b>",
           "<b style=\"color:#3b0280;line-height:60px\">Analysis</b>",
           "<span style=\"color:#AD0000\">⚠ <b>Drift detected</b></span>",
           "[30000:35999]",
           "From <b>Feb-28-2017</b> to <b>Mar-02-2017</b>",
           0.3074,
           0.0067
          ],
          [
           "Estimated <b>RMSLE</b>",
           "<b style=\"color:#3b0280;line-height:60px\">Analysis</b>",
           "<span style=\"color:#AD0000\">⚠ <b>Drift detected</b></span>",
           "[36000:41999]",
           "From <b>Mar-02-2017</b> to <b>Mar-04-2017</b>",
           0.3087,
           0.0067
          ],
          [
           "Estimated <b>RMSLE</b>",
           "<b style=\"color:#3b0280;line-height:60px\">Analysis</b>",
           "<span style=\"color:#AD0000\">⚠ <b>Drift detected</b></span>",
           "[42000:47999]",
           "From <b>Mar-05-2017</b> to <b>Mar-07-2017</b>",
           0.3088,
           0.0067
          ],
          [
           "Estimated <b>RMSLE</b>",
           "<b style=\"color:#3b0280;line-height:60px\">Analysis</b>",
           "<span style=\"color:#AD0000\">⚠ <b>Drift detected</b></span>",
           "[48000:53999]",
           "From <b>Mar-07-2017</b> to <b>Mar-09-2017</b>",
           0.3085,
           0.0067
          ],
          [
           "Estimated <b>RMSLE</b>",
           "<b style=\"color:#3b0280;line-height:60px\">Analysis</b>",
           "<span style=\"color:#AD0000\">⚠ <b>Drift detected</b></span>",
           "[54000:59999]",
           "From <b>Mar-09-2017</b> to <b>Mar-11-2017</b>",
           0.3107,
           0.0067
          ]
         ],
         "hovertemplate": "%{customdata[1]} &nbsp; &nbsp; %{customdata[2]} <br />Chunk: <b>%{customdata[3]}</b> &nbsp; &nbsp; %{customdata[4]} <br />%{customdata[0]}: <b>%{customdata[5]}</b><br />Confidence band: +/- <b>%{customdata[6]}</b><br /><extra></extra>",
         "legendgroup": "metric_analysis",
         "line": {
          "dash": "dash"
         },
         "marker": {
          "color": "#3b0280",
          "size": 5,
          "symbol": "circle"
         },
         "mode": "markers",
         "name": "Metric",
         "showlegend": false,
         "type": "scatter",
         "x": [
          "2017-02-17T20:00:00",
          "2017-02-20T04:00:00",
          "2017-02-22T12:00:00",
          "2017-02-24T20:00:00",
          "2017-02-27T04:00:00",
          "2017-03-01T12:00:00",
          "2017-03-03T20:00:00",
          "2017-03-06T04:00:00",
          "2017-03-08T12:00:00",
          "2017-03-10T19:59:43.200000"
         ],
         "xaxis": "x2",
         "y": [
          0.26579823395332525,
          0.2668676483739787,
          0.2678838677706675,
          0.2656952488975803,
          0.26835369010346916,
          0.3074006336142836,
          0.3086685744486676,
          0.30878061712198335,
          0.3085125121316404,
          0.3106956900896941,
          0.3106956900896941
         ],
         "yaxis": "y2"
        },
        {
         "hoverinfo": "skip",
         "legendgroup": "alert",
         "marker": {
          "color": "#DD4040",
          "size": 8,
          "symbol": "diamond"
         },
         "mode": "markers",
         "name": "Alert",
         "showlegend": false,
         "type": "scatter",
         "x": [
          "2017-03-01T12:00:00",
          "2017-03-03T20:00:00",
          "2017-03-06T04:00:00",
          "2017-03-08T12:00:00",
          "2017-03-10T19:59:43.200000"
         ],
         "xaxis": "x2",
         "y": [
          0.3074006336142836,
          0.3086685744486676,
          0.30878061712198335,
          0.3085125121316404,
          0.3106956900896941
         ],
         "yaxis": "y2"
        },
        {
         "hoverinfo": "skip",
         "legendgroup": "thresh",
         "line": {
          "color": "#DD4040",
          "dash": "dash",
          "width": 2
         },
         "mode": "lines",
         "name": "Threshold",
         "showlegend": false,
         "type": "scatter",
         "x": [
          "2017-01-24T08:00:00",
          "2017-01-26T16:00:00",
          "2017-01-29T00:00:00",
          "2017-01-31T08:00:00",
          "2017-02-02T16:00:00",
          "2017-02-05T00:00:00",
          "2017-02-07T08:00:00",
          "2017-02-09T16:00:00",
          "2017-02-12T00:00:00",
          "2017-02-14T08:00:00",
          "2017-02-16T15:59:26.400000"
         ],
         "xaxis": "x2",
         "y": [
          0.27151088740402257,
          0.27151088740402257,
          0.27151088740402257,
          0.27151088740402257,
          0.27151088740402257,
          0.27151088740402257,
          0.27151088740402257,
          0.27151088740402257,
          0.27151088740402257,
          0.27151088740402257,
          0.27151088740402257
         ],
         "yaxis": "y2"
        },
        {
         "hoverinfo": "skip",
         "legendgroup": "thresh",
         "line": {
          "color": "#DD4040",
          "dash": "dash",
          "width": 2
         },
         "mode": "lines",
         "name": "Threshold",
         "showlegend": false,
         "type": "scatter",
         "x": [
          "2017-01-24T08:00:00",
          "2017-01-26T16:00:00",
          "2017-01-29T00:00:00",
          "2017-01-31T08:00:00",
          "2017-02-02T16:00:00",
          "2017-02-05T00:00:00",
          "2017-02-07T08:00:00",
          "2017-02-09T16:00:00",
          "2017-02-12T00:00:00",
          "2017-02-14T08:00:00",
          "2017-02-16T15:59:26.400000"
         ],
         "xaxis": "x2",
         "y": [
          0.26394771674257017,
          0.26394771674257017,
          0.26394771674257017,
          0.26394771674257017,
          0.26394771674257017,
          0.26394771674257017,
          0.26394771674257017,
          0.26394771674257017,
          0.26394771674257017,
          0.26394771674257017,
          0.26394771674257017
         ],
         "yaxis": "y2"
        },
        {
         "hoverinfo": "skip",
         "legendgroup": "thresh",
         "line": {
          "color": "#DD4040",
          "dash": "dash",
          "width": 2
         },
         "mode": "lines",
         "name": "Threshold",
         "showlegend": false,
         "type": "scatter",
         "x": [
          "2017-02-16T16:00:00",
          "2017-02-19T00:00:00",
          "2017-02-21T08:00:00",
          "2017-02-23T16:00:00",
          "2017-02-26T00:00:00",
          "2017-02-28T08:00:00",
          "2017-03-02T16:00:00",
          "2017-03-05T00:00:00",
          "2017-03-07T08:00:00",
          "2017-03-09T16:00:00",
          "2017-03-11T23:59:26.400000"
         ],
         "xaxis": "x2",
         "y": [
          0.27151088740402257,
          0.27151088740402257,
          0.27151088740402257,
          0.27151088740402257,
          0.27151088740402257,
          0.27151088740402257,
          0.27151088740402257,
          0.27151088740402257,
          0.27151088740402257,
          0.27151088740402257,
          0.27151088740402257
         ],
         "yaxis": "y2"
        },
        {
         "hoverinfo": "skip",
         "legendgroup": "thresh",
         "line": {
          "color": "#DD4040",
          "dash": "dash",
          "width": 2
         },
         "mode": "lines",
         "name": "Threshold",
         "showlegend": false,
         "type": "scatter",
         "x": [
          "2017-02-16T16:00:00",
          "2017-02-19T00:00:00",
          "2017-02-21T08:00:00",
          "2017-02-23T16:00:00",
          "2017-02-26T00:00:00",
          "2017-02-28T08:00:00",
          "2017-03-02T16:00:00",
          "2017-03-05T00:00:00",
          "2017-03-07T08:00:00",
          "2017-03-09T16:00:00",
          "2017-03-11T23:59:26.400000"
         ],
         "xaxis": "x2",
         "y": [
          0.26394771674257017,
          0.26394771674257017,
          0.26394771674257017,
          0.26394771674257017,
          0.26394771674257017,
          0.26394771674257017,
          0.26394771674257017,
          0.26394771674257017,
          0.26394771674257017,
          0.26394771674257017,
          0.26394771674257017
         ],
         "yaxis": "y2"
        },
        {
         "hoverinfo": "skip",
         "line": {
          "color": "rgba(0, 0, 0, 0)",
          "shape": "hv"
         },
         "mode": "lines",
         "name": "Confidence band",
         "showlegend": false,
         "type": "scatter",
         "x": [
          "2017-01-24T08:00:00",
          "2017-01-26T16:00:00",
          "2017-01-29T00:00:00",
          "2017-01-31T08:00:00",
          "2017-02-02T16:00:00",
          "2017-02-05T00:00:00",
          "2017-02-07T08:00:00",
          "2017-02-09T16:00:00",
          "2017-02-12T00:00:00",
          "2017-02-14T08:00:00",
          "2017-02-16T15:59:26.400000"
         ],
         "xaxis": "x2",
         "y": [
          0.2732633750242777,
          0.2758199518341382,
          0.27546191923006597,
          0.2737965093186581,
          0.27348287694946066,
          0.27313729361440436,
          0.27427264643061794,
          0.2755097792993305,
          0.27453984065813486,
          0.27519144575755267,
          0.27519144575755267
         ],
         "yaxis": "y2"
        },
        {
         "fill": "tonexty",
         "fillcolor": "rgba(59, 2, 128, 0.2)",
         "hoverinfo": "skip",
         "line": {
          "color": "rgba(0, 0, 0, 0)",
          "shape": "hv"
         },
         "mode": "lines",
         "name": "Confidence band",
         "showlegend": false,
         "type": "scatter",
         "x": [
          "2017-01-24T08:00:00",
          "2017-01-26T16:00:00",
          "2017-01-29T00:00:00",
          "2017-01-31T08:00:00",
          "2017-02-02T16:00:00",
          "2017-02-05T00:00:00",
          "2017-02-07T08:00:00",
          "2017-02-09T16:00:00",
          "2017-02-12T00:00:00",
          "2017-02-14T08:00:00",
          "2017-02-16T15:59:26.400000"
         ],
         "xaxis": "x2",
         "y": [
          0.25982938503893843,
          0.2623859618487989,
          0.2620279292447267,
          0.26036251933331883,
          0.2600488869641214,
          0.2597033036290651,
          0.26083865644527865,
          0.2620757893139912,
          0.26110585067279557,
          0.2617574557722134,
          0.2617574557722134
         ],
         "yaxis": "y2"
        },
        {
         "hoverinfo": "skip",
         "line": {
          "color": "rgba(0, 0, 0, 0)",
          "shape": "hv"
         },
         "mode": "lines",
         "name": "Confidence band",
         "showlegend": false,
         "type": "scatter",
         "x": [
          "2017-02-16T16:00:00",
          "2017-02-19T00:00:00",
          "2017-02-21T08:00:00",
          "2017-02-23T16:00:00",
          "2017-02-26T00:00:00",
          "2017-02-28T08:00:00",
          "2017-03-02T16:00:00",
          "2017-03-05T00:00:00",
          "2017-03-07T08:00:00",
          "2017-03-09T16:00:00",
          "2017-03-11T23:59:26.400000"
         ],
         "xaxis": "x2",
         "y": [
          0.2725152289459949,
          0.27358464336664834,
          0.2746008627633372,
          0.2724122438902499,
          0.2750706850961388,
          0.31411762860695325,
          0.3153855694413372,
          0.315497612114653,
          0.31522950712431,
          0.31741268508236375,
          0.31741268508236375
         ],
         "yaxis": "y2"
        },
        {
         "fill": "tonexty",
         "fillcolor": "rgba(59, 2, 128, 0.2)",
         "hoverinfo": "skip",
         "line": {
          "color": "rgba(0, 0, 0, 0)",
          "shape": "hv"
         },
         "mode": "lines",
         "name": "Confidence band",
         "showlegend": false,
         "type": "scatter",
         "x": [
          "2017-02-16T16:00:00",
          "2017-02-19T00:00:00",
          "2017-02-21T08:00:00",
          "2017-02-23T16:00:00",
          "2017-02-26T00:00:00",
          "2017-02-28T08:00:00",
          "2017-03-02T16:00:00",
          "2017-03-05T00:00:00",
          "2017-03-07T08:00:00",
          "2017-03-09T16:00:00",
          "2017-03-11T23:59:26.400000"
         ],
         "xaxis": "x2",
         "y": [
          0.2590812389606556,
          0.26015065338130905,
          0.2611668727779979,
          0.25897825390491064,
          0.2616366951107995,
          0.30068363862161396,
          0.30195157945599793,
          0.3020636221293137,
          0.30179551713897074,
          0.30397869509702446,
          0.30397869509702446
         ],
         "yaxis": "y2"
        }
       ],
       "layout": {
        "annotations": [
         {
          "font": {
           "size": 16
          },
          "showarrow": false,
          "text": "Estimated <b>RMSE</b>",
          "x": 0.5,
          "xanchor": "center",
          "xref": "paper",
          "y": 1,
          "yanchor": "bottom",
          "yref": "paper"
         },
         {
          "font": {
           "size": 16
          },
          "showarrow": false,
          "text": "Estimated <b>RMSLE</b>",
          "x": 0.5,
          "xanchor": "center",
          "xref": "paper",
          "y": 0.375,
          "yanchor": "bottom",
          "yref": "paper"
         },
         {
          "showarrow": false,
          "text": "Reference",
          "x": "2017-02-03T20:00:00",
          "xref": "x",
          "xshift": 10,
          "y": 1.01,
          "yref": "y domain"
         },
         {
          "showarrow": false,
          "text": "Analysis",
          "x": "2017-02-27T04:00:00",
          "xref": "x",
          "xshift": 15,
          "y": 1.01,
          "yref": "y domain"
         },
         {
          "showarrow": false,
          "text": "Reference",
          "x": "2017-02-03T20:00:00",
          "xref": "x2",
          "xshift": 10,
          "y": 1.01,
          "yref": "y2 domain"
         },
         {
          "showarrow": false,
          "text": "Analysis",
          "x": "2017-02-27T04:00:00",
          "xref": "x2",
          "xshift": 15,
          "y": 1.01,
          "yref": "y2 domain"
         }
        ],
        "autosize": true,
        "hoverlabel": {
         "bgcolor": "white",
         "font": {
          "size": 14
         }
        },
        "legend": {
         "itemclick": false,
         "itemdoubleclick": false,
         "traceorder": "grouped"
        },
        "paper_bgcolor": "rgba(255,255,255,1)",
        "plot_bgcolor": "rgba(255,255,255,1)",
        "shapes": [
         {
          "layer": "below",
          "line": {
           "color": "#666666",
           "width": 1
          },
          "type": "line",
          "x0": "2017-02-16T16:00:00",
          "x1": "2017-02-16T16:00:00",
          "xref": "x",
          "y0": 0,
          "y1": 1,
          "yref": "y domain"
         },
         {
          "layer": "below",
          "line": {
           "color": "#666666",
           "width": 1
          },
          "type": "line",
          "x0": "2017-02-16T16:00:00",
          "x1": "2017-02-16T16:00:00",
          "xref": "x",
          "y0": 0,
          "y1": 1,
          "yref": "y domain"
         },
         {
          "layer": "below",
          "line": {
           "color": "#666666",
           "width": 1
          },
          "type": "line",
          "x0": "2017-02-16T16:00:00",
          "x1": "2017-02-16T16:00:00",
          "xref": "x2",
          "y0": 0,
          "y1": 1,
          "yref": "y2 domain"
         }
        ],
        "template": {
         "data": {
          "bar": [
           {
            "error_x": {
             "color": "#2a3f5f"
            },
            "error_y": {
             "color": "#2a3f5f"
            },
            "marker": {
             "line": {
              "color": "#E5ECF6",
              "width": 0.5
             },
             "pattern": {
              "fillmode": "overlay",
              "size": 10,
              "solidity": 0.2
             }
            },
            "type": "bar"
           }
          ],
          "barpolar": [
           {
            "marker": {
             "line": {
              "color": "#E5ECF6",
              "width": 0.5
             },
             "pattern": {
              "fillmode": "overlay",
              "size": 10,
              "solidity": 0.2
             }
            },
            "type": "barpolar"
           }
          ],
          "carpet": [
           {
            "aaxis": {
             "endlinecolor": "#2a3f5f",
             "gridcolor": "white",
             "linecolor": "white",
             "minorgridcolor": "white",
             "startlinecolor": "#2a3f5f"
            },
            "baxis": {
             "endlinecolor": "#2a3f5f",
             "gridcolor": "white",
             "linecolor": "white",
             "minorgridcolor": "white",
             "startlinecolor": "#2a3f5f"
            },
            "type": "carpet"
           }
          ],
          "choropleth": [
           {
            "colorbar": {
             "outlinewidth": 0,
             "ticks": ""
            },
            "type": "choropleth"
           }
          ],
          "contour": [
           {
            "colorbar": {
             "outlinewidth": 0,
             "ticks": ""
            },
            "colorscale": [
             [
              0,
              "#0d0887"
             ],
             [
              0.1111111111111111,
              "#46039f"
             ],
             [
              0.2222222222222222,
              "#7201a8"
             ],
             [
              0.3333333333333333,
              "#9c179e"
             ],
             [
              0.4444444444444444,
              "#bd3786"
             ],
             [
              0.5555555555555556,
              "#d8576b"
             ],
             [
              0.6666666666666666,
              "#ed7953"
             ],
             [
              0.7777777777777778,
              "#fb9f3a"
             ],
             [
              0.8888888888888888,
              "#fdca26"
             ],
             [
              1,
              "#f0f921"
             ]
            ],
            "type": "contour"
           }
          ],
          "contourcarpet": [
           {
            "colorbar": {
             "outlinewidth": 0,
             "ticks": ""
            },
            "type": "contourcarpet"
           }
          ],
          "heatmap": [
           {
            "colorbar": {
             "outlinewidth": 0,
             "ticks": ""
            },
            "colorscale": [
             [
              0,
              "#0d0887"
             ],
             [
              0.1111111111111111,
              "#46039f"
             ],
             [
              0.2222222222222222,
              "#7201a8"
             ],
             [
              0.3333333333333333,
              "#9c179e"
             ],
             [
              0.4444444444444444,
              "#bd3786"
             ],
             [
              0.5555555555555556,
              "#d8576b"
             ],
             [
              0.6666666666666666,
              "#ed7953"
             ],
             [
              0.7777777777777778,
              "#fb9f3a"
             ],
             [
              0.8888888888888888,
              "#fdca26"
             ],
             [
              1,
              "#f0f921"
             ]
            ],
            "type": "heatmap"
           }
          ],
          "heatmapgl": [
           {
            "colorbar": {
             "outlinewidth": 0,
             "ticks": ""
            },
            "colorscale": [
             [
              0,
              "#0d0887"
             ],
             [
              0.1111111111111111,
              "#46039f"
             ],
             [
              0.2222222222222222,
              "#7201a8"
             ],
             [
              0.3333333333333333,
              "#9c179e"
             ],
             [
              0.4444444444444444,
              "#bd3786"
             ],
             [
              0.5555555555555556,
              "#d8576b"
             ],
             [
              0.6666666666666666,
              "#ed7953"
             ],
             [
              0.7777777777777778,
              "#fb9f3a"
             ],
             [
              0.8888888888888888,
              "#fdca26"
             ],
             [
              1,
              "#f0f921"
             ]
            ],
            "type": "heatmapgl"
           }
          ],
          "histogram": [
           {
            "marker": {
             "pattern": {
              "fillmode": "overlay",
              "size": 10,
              "solidity": 0.2
             }
            },
            "type": "histogram"
           }
          ],
          "histogram2d": [
           {
            "colorbar": {
             "outlinewidth": 0,
             "ticks": ""
            },
            "colorscale": [
             [
              0,
              "#0d0887"
             ],
             [
              0.1111111111111111,
              "#46039f"
             ],
             [
              0.2222222222222222,
              "#7201a8"
             ],
             [
              0.3333333333333333,
              "#9c179e"
             ],
             [
              0.4444444444444444,
              "#bd3786"
             ],
             [
              0.5555555555555556,
              "#d8576b"
             ],
             [
              0.6666666666666666,
              "#ed7953"
             ],
             [
              0.7777777777777778,
              "#fb9f3a"
             ],
             [
              0.8888888888888888,
              "#fdca26"
             ],
             [
              1,
              "#f0f921"
             ]
            ],
            "type": "histogram2d"
           }
          ],
          "histogram2dcontour": [
           {
            "colorbar": {
             "outlinewidth": 0,
             "ticks": ""
            },
            "colorscale": [
             [
              0,
              "#0d0887"
             ],
             [
              0.1111111111111111,
              "#46039f"
             ],
             [
              0.2222222222222222,
              "#7201a8"
             ],
             [
              0.3333333333333333,
              "#9c179e"
             ],
             [
              0.4444444444444444,
              "#bd3786"
             ],
             [
              0.5555555555555556,
              "#d8576b"
             ],
             [
              0.6666666666666666,
              "#ed7953"
             ],
             [
              0.7777777777777778,
              "#fb9f3a"
             ],
             [
              0.8888888888888888,
              "#fdca26"
             ],
             [
              1,
              "#f0f921"
             ]
            ],
            "type": "histogram2dcontour"
           }
          ],
          "mesh3d": [
           {
            "colorbar": {
             "outlinewidth": 0,
             "ticks": ""
            },
            "type": "mesh3d"
           }
          ],
          "parcoords": [
           {
            "line": {
             "colorbar": {
              "outlinewidth": 0,
              "ticks": ""
             }
            },
            "type": "parcoords"
           }
          ],
          "pie": [
           {
            "automargin": true,
            "type": "pie"
           }
          ],
          "scatter": [
           {
            "fillpattern": {
             "fillmode": "overlay",
             "size": 10,
             "solidity": 0.2
            },
            "type": "scatter"
           }
          ],
          "scatter3d": [
           {
            "line": {
             "colorbar": {
              "outlinewidth": 0,
              "ticks": ""
             }
            },
            "marker": {
             "colorbar": {
              "outlinewidth": 0,
              "ticks": ""
             }
            },
            "type": "scatter3d"
           }
          ],
          "scattercarpet": [
           {
            "marker": {
             "colorbar": {
              "outlinewidth": 0,
              "ticks": ""
             }
            },
            "type": "scattercarpet"
           }
          ],
          "scattergeo": [
           {
            "marker": {
             "colorbar": {
              "outlinewidth": 0,
              "ticks": ""
             }
            },
            "type": "scattergeo"
           }
          ],
          "scattergl": [
           {
            "marker": {
             "colorbar": {
              "outlinewidth": 0,
              "ticks": ""
             }
            },
            "type": "scattergl"
           }
          ],
          "scattermapbox": [
           {
            "marker": {
             "colorbar": {
              "outlinewidth": 0,
              "ticks": ""
             }
            },
            "type": "scattermapbox"
           }
          ],
          "scatterpolar": [
           {
            "marker": {
             "colorbar": {
              "outlinewidth": 0,
              "ticks": ""
             }
            },
            "type": "scatterpolar"
           }
          ],
          "scatterpolargl": [
           {
            "marker": {
             "colorbar": {
              "outlinewidth": 0,
              "ticks": ""
             }
            },
            "type": "scatterpolargl"
           }
          ],
          "scatterternary": [
           {
            "marker": {
             "colorbar": {
              "outlinewidth": 0,
              "ticks": ""
             }
            },
            "type": "scatterternary"
           }
          ],
          "surface": [
           {
            "colorbar": {
             "outlinewidth": 0,
             "ticks": ""
            },
            "colorscale": [
             [
              0,
              "#0d0887"
             ],
             [
              0.1111111111111111,
              "#46039f"
             ],
             [
              0.2222222222222222,
              "#7201a8"
             ],
             [
              0.3333333333333333,
              "#9c179e"
             ],
             [
              0.4444444444444444,
              "#bd3786"
             ],
             [
              0.5555555555555556,
              "#d8576b"
             ],
             [
              0.6666666666666666,
              "#ed7953"
             ],
             [
              0.7777777777777778,
              "#fb9f3a"
             ],
             [
              0.8888888888888888,
              "#fdca26"
             ],
             [
              1,
              "#f0f921"
             ]
            ],
            "type": "surface"
           }
          ],
          "table": [
           {
            "cells": {
             "fill": {
              "color": "#EBF0F8"
             },
             "line": {
              "color": "white"
             }
            },
            "header": {
             "fill": {
              "color": "#C8D4E3"
             },
             "line": {
              "color": "white"
             }
            },
            "type": "table"
           }
          ]
         },
         "layout": {
          "annotationdefaults": {
           "arrowcolor": "#2a3f5f",
           "arrowhead": 0,
           "arrowwidth": 1
          },
          "autotypenumbers": "strict",
          "coloraxis": {
           "colorbar": {
            "outlinewidth": 0,
            "ticks": ""
           }
          },
          "colorscale": {
           "diverging": [
            [
             0,
             "#8e0152"
            ],
            [
             0.1,
             "#c51b7d"
            ],
            [
             0.2,
             "#de77ae"
            ],
            [
             0.3,
             "#f1b6da"
            ],
            [
             0.4,
             "#fde0ef"
            ],
            [
             0.5,
             "#f7f7f7"
            ],
            [
             0.6,
             "#e6f5d0"
            ],
            [
             0.7,
             "#b8e186"
            ],
            [
             0.8,
             "#7fbc41"
            ],
            [
             0.9,
             "#4d9221"
            ],
            [
             1,
             "#276419"
            ]
           ],
           "sequential": [
            [
             0,
             "#0d0887"
            ],
            [
             0.1111111111111111,
             "#46039f"
            ],
            [
             0.2222222222222222,
             "#7201a8"
            ],
            [
             0.3333333333333333,
             "#9c179e"
            ],
            [
             0.4444444444444444,
             "#bd3786"
            ],
            [
             0.5555555555555556,
             "#d8576b"
            ],
            [
             0.6666666666666666,
             "#ed7953"
            ],
            [
             0.7777777777777778,
             "#fb9f3a"
            ],
            [
             0.8888888888888888,
             "#fdca26"
            ],
            [
             1,
             "#f0f921"
            ]
           ],
           "sequentialminus": [
            [
             0,
             "#0d0887"
            ],
            [
             0.1111111111111111,
             "#46039f"
            ],
            [
             0.2222222222222222,
             "#7201a8"
            ],
            [
             0.3333333333333333,
             "#9c179e"
            ],
            [
             0.4444444444444444,
             "#bd3786"
            ],
            [
             0.5555555555555556,
             "#d8576b"
            ],
            [
             0.6666666666666666,
             "#ed7953"
            ],
            [
             0.7777777777777778,
             "#fb9f3a"
            ],
            [
             0.8888888888888888,
             "#fdca26"
            ],
            [
             1,
             "#f0f921"
            ]
           ]
          },
          "colorway": [
           "#636efa",
           "#EF553B",
           "#00cc96",
           "#ab63fa",
           "#FFA15A",
           "#19d3f3",
           "#FF6692",
           "#B6E880",
           "#FF97FF",
           "#FECB52"
          ],
          "font": {
           "color": "#2a3f5f"
          },
          "geo": {
           "bgcolor": "white",
           "lakecolor": "white",
           "landcolor": "#E5ECF6",
           "showlakes": true,
           "showland": true,
           "subunitcolor": "white"
          },
          "hoverlabel": {
           "align": "left"
          },
          "hovermode": "closest",
          "mapbox": {
           "style": "light"
          },
          "paper_bgcolor": "white",
          "plot_bgcolor": "#E5ECF6",
          "polar": {
           "angularaxis": {
            "gridcolor": "white",
            "linecolor": "white",
            "ticks": ""
           },
           "bgcolor": "#E5ECF6",
           "radialaxis": {
            "gridcolor": "white",
            "linecolor": "white",
            "ticks": ""
           }
          },
          "scene": {
           "xaxis": {
            "backgroundcolor": "#E5ECF6",
            "gridcolor": "white",
            "gridwidth": 2,
            "linecolor": "white",
            "showbackground": true,
            "ticks": "",
            "zerolinecolor": "white"
           },
           "yaxis": {
            "backgroundcolor": "#E5ECF6",
            "gridcolor": "white",
            "gridwidth": 2,
            "linecolor": "white",
            "showbackground": true,
            "ticks": "",
            "zerolinecolor": "white"
           },
           "zaxis": {
            "backgroundcolor": "#E5ECF6",
            "gridcolor": "white",
            "gridwidth": 2,
            "linecolor": "white",
            "showbackground": true,
            "ticks": "",
            "zerolinecolor": "white"
           }
          },
          "shapedefaults": {
           "line": {
            "color": "#2a3f5f"
           }
          },
          "ternary": {
           "aaxis": {
            "gridcolor": "white",
            "linecolor": "white",
            "ticks": ""
           },
           "baxis": {
            "gridcolor": "white",
            "linecolor": "white",
            "ticks": ""
           },
           "bgcolor": "#E5ECF6",
           "caxis": {
            "gridcolor": "white",
            "linecolor": "white",
            "ticks": ""
           }
          },
          "title": {
           "x": 0.05
          },
          "xaxis": {
           "automargin": true,
           "gridcolor": "white",
           "linecolor": "white",
           "ticks": "",
           "title": {
            "standoff": 15
           },
           "zerolinecolor": "white",
           "zerolinewidth": 2
          },
          "yaxis": {
           "automargin": true,
           "gridcolor": "white",
           "linecolor": "white",
           "ticks": "",
           "title": {
            "standoff": 15
           },
           "zerolinecolor": "white",
           "zerolinewidth": 2
          }
         }
        },
        "title": {
         "text": "Estimated performance <b>(DLE)</b>"
        },
        "xaxis": {
         "anchor": "y",
         "autorange": true,
         "domain": [
          0,
          1
         ],
         "linecolor": "#3b0280",
         "matches": "x",
         "mirror": true,
         "range": [
          "2017-01-22 21:14:16.3656",
          "2017-03-13 12:40:18.1612"
         ],
         "showgrid": false,
         "title": {
          "text": "Time"
         },
         "type": "date",
         "zeroline": false
        },
        "xaxis2": {
         "anchor": "y2",
         "autorange": true,
         "domain": [
          0,
          1
         ],
         "linecolor": "#3b0280",
         "matches": "x",
         "mirror": true,
         "range": [
          "2017-01-22 21:14:16.3656",
          "2017-03-13 12:40:18.1612"
         ],
         "showgrid": false,
         "title": {
          "text": "Time"
         },
         "type": "date",
         "zeroline": false
        },
        "yaxis": {
         "anchor": "x",
         "autorange": true,
         "domain": [
          0.625,
          1
         ],
         "linecolor": "#3b0280",
         "mirror": true,
         "range": [
          876.3207428644721,
          1116.9826362518918
         ],
         "showgrid": false,
         "title": {
          "text": "RMSE"
         },
         "type": "linear",
         "zeroline": false
        },
        "yaxis2": {
         "anchor": "x2",
         "autorange": true,
         "domain": [
          0,
          0.375
         ],
         "linecolor": "#3b0280",
         "mirror": true,
         "range": [
          0.25573189661727436,
          0.32065904237000004
         ],
         "showgrid": false,
         "title": {
          "text": "RMSLE"
         },
         "type": "linear",
         "zeroline": false
        }
       }
      },
      "image/png": "[encoded data removed]",
      "text/html": [
       "<div>                            <div id=\"e9640a6e-c48b-4cd3-83d8-e13ccdf435df\" class=\"plotly-graph-div\" style=\"height:1000.0px; width:100%;\"></div>            <script type=\"text/javascript\">                require([\"plotly\"], function(Plotly) {                    window.PLOTLYENV=window.PLOTLYENV || {};                                    if (document.getElementById(\"e9640a6e-c48b-4cd3-83d8-e13ccdf435df\")) {                    Plotly.newPlot(                        \"e9640a6e-c48b-4cd3-83d8-e13ccdf435df\",                        [{\"hoverinfo\":\"skip\",\"legendgroup\":\"metric_reference\",\"line\":{\"color\":\"#3b0280\",\"dash\":\"dash\",\"shape\":\"hv\",\"width\":2},\"mode\":\"lines\",\"name\":\"Metric\",\"showlegend\":true,\"x\":[\"2017-01-24T08:00:00\",\"2017-01-26T16:00:00\",\"2017-01-29T00:00:00\",\"2017-01-31T08:00:00\",\"2017-02-02T16:00:00\",\"2017-02-05T00:00:00\",\"2017-02-07T08:00:00\",\"2017-02-09T16:00:00\",\"2017-02-12T00:00:00\",\"2017-02-14T08:00:00\",\"2017-02-16T15:59:26.400000\"],\"y\":[1073.9055147872575,1056.6200053706243,1054.927053290527,1054.4272682263668,1066.5355064357439,1064.8034128794523,1057.2188294764996,1055.103719698418,1052.1097230379528,1053.1670440769963,1053.1670440769963],\"type\":\"scatter\",\"xaxis\":\"x\",\"yaxis\":\"y\"},{\"customdata\":[[\"Estimated \\u003cb\\u003eRMSE\\u003c\\u002fb\\u003e\",\"\\u003cb style=\\\"color:#3b0280;line-height:60px\\\"\\u003eReference\\u003c\\u002fb\\u003e\",\"\",\"[0:5999]\",\"From \\u003cb\\u003eJan-24-2017\\u003c\\u002fb\\u003e to \\u003cb\\u003eJan-26-2017\\u003c\\u002fb\\u003e\",1073.9055,31.044],[\"Estimated \\u003cb\\u003eRMSE\\u003c\\u002fb\\u003e\",\"\\u003cb style=\\\"color:#3b0280;line-height:60px\\\"\\u003eReference\\u003c\\u002fb\\u003e\",\"\",\"[6000:11999]\",\"From \\u003cb\\u003eJan-26-2017\\u003c\\u002fb\\u003e to \\u003cb\\u003eJan-28-2017\\u003c\\u002fb\\u003e\",1056.62,31.044],[\"Estimated \\u003cb\\u003eRMSE\\u003c\\u002fb\\u003e\",\"\\u003cb style=\\\"color:#3b0280;line-height:60px\\\"\\u003eReference\\u003c\\u002fb\\u003e\",\"\",\"[12000:17999]\",\"From \\u003cb\\u003eJan-29-2017\\u003c\\u002fb\\u003e to \\u003cb\\u003eJan-31-2017\\u003c\\u002fb\\u003e\",1054.9271,31.044],[\"Estimated \\u003cb\\u003eRMSE\\u003c\\u002fb\\u003e\",\"\\u003cb style=\\\"color:#3b0280;line-height:60px\\\"\\u003eReference\\u003c\\u002fb\\u003e\",\"\",\"[18000:23999]\",\"From \\u003cb\\u003eJan-31-2017\\u003c\\u002fb\\u003e to \\u003cb\\u003eFeb-02-2017\\u003c\\u002fb\\u003e\",1054.4273,31.044],[\"Estimated \\u003cb\\u003eRMSE\\u003c\\u002fb\\u003e\",\"\\u003cb style=\\\"color:#3b0280;line-height:60px\\\"\\u003eReference\\u003c\\u002fb\\u003e\",\"\",\"[24000:29999]\",\"From \\u003cb\\u003eFeb-02-2017\\u003c\\u002fb\\u003e to \\u003cb\\u003eFeb-04-2017\\u003c\\u002fb\\u003e\",1066.5355,31.044],[\"Estimated \\u003cb\\u003eRMSE\\u003c\\u002fb\\u003e\",\"\\u003cb style=\\\"color:#3b0280;line-height:60px\\\"\\u003eReference\\u003c\\u002fb\\u003e\",\"\",\"[30000:35999]\",\"From \\u003cb\\u003eFeb-05-2017\\u003c\\u002fb\\u003e to \\u003cb\\u003eFeb-07-2017\\u003c\\u002fb\\u003e\",1064.8034,31.044],[\"Estimated \\u003cb\\u003eRMSE\\u003c\\u002fb\\u003e\",\"\\u003cb style=\\\"color:#3b0280;line-height:60px\\\"\\u003eReference\\u003c\\u002fb\\u003e\",\"\",\"[36000:41999]\",\"From \\u003cb\\u003eFeb-07-2017\\u003c\\u002fb\\u003e to \\u003cb\\u003eFeb-09-2017\\u003c\\u002fb\\u003e\",1057.2188,31.044],[\"Estimated \\u003cb\\u003eRMSE\\u003c\\u002fb\\u003e\",\"\\u003cb style=\\\"color:#3b0280;line-height:60px\\\"\\u003eReference\\u003c\\u002fb\\u003e\",\"\",\"[42000:47999]\",\"From \\u003cb\\u003eFeb-09-2017\\u003c\\u002fb\\u003e to \\u003cb\\u003eFeb-11-2017\\u003c\\u002fb\\u003e\",1055.1037,31.044],[\"Estimated \\u003cb\\u003eRMSE\\u003c\\u002fb\\u003e\",\"\\u003cb style=\\\"color:#3b0280;line-height:60px\\\"\\u003eReference\\u003c\\u002fb\\u003e\",\"\",\"[48000:53999]\",\"From \\u003cb\\u003eFeb-12-2017\\u003c\\u002fb\\u003e to \\u003cb\\u003eFeb-14-2017\\u003c\\u002fb\\u003e\",1052.1097,31.044],[\"Estimated \\u003cb\\u003eRMSE\\u003c\\u002fb\\u003e\",\"\\u003cb style=\\\"color:#3b0280;line-height:60px\\\"\\u003eReference\\u003c\\u002fb\\u003e\",\"\",\"[54000:59999]\",\"From \\u003cb\\u003eFeb-14-2017\\u003c\\u002fb\\u003e to \\u003cb\\u003eFeb-16-2017\\u003c\\u002fb\\u003e\",1053.167,31.044]],\"hovertemplate\":\"%{customdata[1]} &nbsp; &nbsp; %{customdata[2]} \\u003cbr \\u002f\\u003eChunk: \\u003cb\\u003e%{customdata[3]}\\u003c\\u002fb\\u003e &nbsp; &nbsp; %{customdata[4]} \\u003cbr \\u002f\\u003e%{customdata[0]}: \\u003cb\\u003e%{customdata[5]}\\u003c\\u002fb\\u003e\\u003cbr \\u002f\\u003eConfidence band: +\\u002f- \\u003cb\\u003e%{customdata[6]}\\u003c\\u002fb\\u003e\\u003cbr \\u002f\\u003e\\u003cextra\\u003e\\u003c\\u002fextra\\u003e\",\"legendgroup\":\"metric_reference\",\"line\":{\"dash\":\"dash\"},\"marker\":{\"color\":\"#3b0280\",\"size\":5,\"symbol\":\"circle\"},\"mode\":\"markers\",\"name\":\"Metric\",\"showlegend\":false,\"x\":[\"2017-01-25T12:00:00\",\"2017-01-27T20:00:00\",\"2017-01-30T04:00:00\",\"2017-02-01T12:00:00\",\"2017-02-03T20:00:00\",\"2017-02-06T04:00:00\",\"2017-02-08T12:00:00\",\"2017-02-10T20:00:00\",\"2017-02-13T04:00:00\",\"2017-02-15T11:59:43.200000\"],\"y\":[1073.9055147872575,1056.6200053706243,1054.927053290527,1054.4272682263668,1066.5355064357439,1064.8034128794523,1057.2188294764996,1055.103719698418,1052.1097230379528,1053.1670440769963,1053.1670440769963],\"type\":\"scatter\",\"xaxis\":\"x\",\"yaxis\":\"y\"},{\"hoverinfo\":\"skip\",\"legendgroup\":\"metric_analysis\",\"line\":{\"color\":\"#3b0280\",\"dash\":\"dash\",\"shape\":\"hv\",\"width\":2},\"mode\":\"lines\",\"name\":\"Metric\",\"showlegend\":false,\"x\":[\"2017-02-16T16:00:00\",\"2017-02-19T00:00:00\",\"2017-02-21T08:00:00\",\"2017-02-23T16:00:00\",\"2017-02-26T00:00:00\",\"2017-02-28T08:00:00\",\"2017-03-02T16:00:00\",\"2017-03-05T00:00:00\",\"2017-03-07T08:00:00\",\"2017-03-09T16:00:00\",\"2017-03-11T23:59:26.400000\"],\"y\":[1067.21288526678,1063.1297150282562,1054.1587491366226,1060.66574227496,1055.23022681048,928.5133883491517,928.9159605715453,927.9158358901553,930.4262063467054,919.3978643291063,919.3978643291063],\"type\":\"scatter\",\"xaxis\":\"x\",\"yaxis\":\"y\"},{\"customdata\":[[\"Estimated \\u003cb\\u003eRMSE\\u003c\\u002fb\\u003e\",\"\\u003cb style=\\\"color:#3b0280;line-height:60px\\\"\\u003eAnalysis\\u003c\\u002fb\\u003e\",\"\",\"[0:5999]\",\"From \\u003cb\\u003eFeb-16-2017\\u003c\\u002fb\\u003e to \\u003cb\\u003eFeb-18-2017\\u003c\\u002fb\\u003e\",1067.2129,31.044],[\"Estimated \\u003cb\\u003eRMSE\\u003c\\u002fb\\u003e\",\"\\u003cb style=\\\"color:#3b0280;line-height:60px\\\"\\u003eAnalysis\\u003c\\u002fb\\u003e\",\"\",\"[6000:11999]\",\"From \\u003cb\\u003eFeb-19-2017\\u003c\\u002fb\\u003e to \\u003cb\\u003eFeb-21-2017\\u003c\\u002fb\\u003e\",1063.1297,31.044],[\"Estimated \\u003cb\\u003eRMSE\\u003c\\u002fb\\u003e\",\"\\u003cb style=\\\"color:#3b0280;line-height:60px\\\"\\u003eAnalysis\\u003c\\u002fb\\u003e\",\"\",\"[12000:17999]\",\"From \\u003cb\\u003eFeb-21-2017\\u003c\\u002fb\\u003e to \\u003cb\\u003eFeb-23-2017\\u003c\\u002fb\\u003e\",1054.1587,31.044],[\"Estimated \\u003cb\\u003eRMSE\\u003c\\u002fb\\u003e\",\"\\u003cb style=\\\"color:#3b0280;line-height:60px\\\"\\u003eAnalysis\\u003c\\u002fb\\u003e\",\"\",\"[18000:23999]\",\"From \\u003cb\\u003eFeb-23-2017\\u003c\\u002fb\\u003e to \\u003cb\\u003eFeb-25-2017\\u003c\\u002fb\\u003e\",1060.6657,31.044],[\"Estimated \\u003cb\\u003eRMSE\\u003c\\u002fb\\u003e\",\"\\u003cb style=\\\"color:#3b0280;line-height:60px\\\"\\u003eAnalysis\\u003c\\u002fb\\u003e\",\"\",\"[24000:29999]\",\"From \\u003cb\\u003eFeb-26-2017\\u003c\\u002fb\\u003e to \\u003cb\\u003eFeb-28-2017\\u003c\\u002fb\\u003e\",1055.2302,31.044],[\"Estimated \\u003cb\\u003eRMSE\\u003c\\u002fb\\u003e\",\"\\u003cb style=\\\"color:#3b0280;line-height:60px\\\"\\u003eAnalysis\\u003c\\u002fb\\u003e\",\"\\u003cspan style=\\\"color:#AD0000\\\"\\u003e\\u26a0 \\u003cb\\u003eDrift detected\\u003c\\u002fb\\u003e\\u003c\\u002fspan\\u003e\",\"[30000:35999]\",\"From \\u003cb\\u003eFeb-28-2017\\u003c\\u002fb\\u003e to \\u003cb\\u003eMar-02-2017\\u003c\\u002fb\\u003e\",928.5134,31.044],[\"Estimated \\u003cb\\u003eRMSE\\u003c\\u002fb\\u003e\",\"\\u003cb style=\\\"color:#3b0280;line-height:60px\\\"\\u003eAnalysis\\u003c\\u002fb\\u003e\",\"\\u003cspan style=\\\"color:#AD0000\\\"\\u003e\\u26a0 \\u003cb\\u003eDrift detected\\u003c\\u002fb\\u003e\\u003c\\u002fspan\\u003e\",\"[36000:41999]\",\"From \\u003cb\\u003eMar-02-2017\\u003c\\u002fb\\u003e to \\u003cb\\u003eMar-04-2017\\u003c\\u002fb\\u003e\",928.916,31.044],[\"Estimated \\u003cb\\u003eRMSE\\u003c\\u002fb\\u003e\",\"\\u003cb style=\\\"color:#3b0280;line-height:60px\\\"\\u003eAnalysis\\u003c\\u002fb\\u003e\",\"\\u003cspan style=\\\"color:#AD0000\\\"\\u003e\\u26a0 \\u003cb\\u003eDrift detected\\u003c\\u002fb\\u003e\\u003c\\u002fspan\\u003e\",\"[42000:47999]\",\"From \\u003cb\\u003eMar-05-2017\\u003c\\u002fb\\u003e to \\u003cb\\u003eMar-07-2017\\u003c\\u002fb\\u003e\",927.9158,31.044],[\"Estimated \\u003cb\\u003eRMSE\\u003c\\u002fb\\u003e\",\"\\u003cb style=\\\"color:#3b0280;line-height:60px\\\"\\u003eAnalysis\\u003c\\u002fb\\u003e\",\"\\u003cspan style=\\\"color:#AD0000\\\"\\u003e\\u26a0 \\u003cb\\u003eDrift detected\\u003c\\u002fb\\u003e\\u003c\\u002fspan\\u003e\",\"[48000:53999]\",\"From \\u003cb\\u003eMar-07-2017\\u003c\\u002fb\\u003e to \\u003cb\\u003eMar-09-2017\\u003c\\u002fb\\u003e\",930.4262,31.044],[\"Estimated \\u003cb\\u003eRMSE\\u003c\\u002fb\\u003e\",\"\\u003cb style=\\\"color:#3b0280;line-height:60px\\\"\\u003eAnalysis\\u003c\\u002fb\\u003e\",\"\\u003cspan style=\\\"color:#AD0000\\\"\\u003e\\u26a0 \\u003cb\\u003eDrift detected\\u003c\\u002fb\\u003e\\u003c\\u002fspan\\u003e\",\"[54000:59999]\",\"From \\u003cb\\u003eMar-09-2017\\u003c\\u002fb\\u003e to \\u003cb\\u003eMar-11-2017\\u003c\\u002fb\\u003e\",919.3979,31.044]],\"hovertemplate\":\"%{customdata[1]} &nbsp; &nbsp; %{customdata[2]} \\u003cbr \\u002f\\u003eChunk: \\u003cb\\u003e%{customdata[3]}\\u003c\\u002fb\\u003e &nbsp; &nbsp; %{customdata[4]} \\u003cbr \\u002f\\u003e%{customdata[0]}: \\u003cb\\u003e%{customdata[5]}\\u003c\\u002fb\\u003e\\u003cbr \\u002f\\u003eConfidence band: +\\u002f- \\u003cb\\u003e%{customdata[6]}\\u003c\\u002fb\\u003e\\u003cbr \\u002f\\u003e\\u003cextra\\u003e\\u003c\\u002fextra\\u003e\",\"legendgroup\":\"metric_analysis\",\"line\":{\"dash\":\"dash\"},\"marker\":{\"color\":\"#3b0280\",\"size\":5,\"symbol\":\"circle\"},\"mode\":\"markers\",\"name\":\"Metric\",\"showlegend\":false,\"x\":[\"2017-02-17T20:00:00\",\"2017-02-20T04:00:00\",\"2017-02-22T12:00:00\",\"2017-02-24T20:00:00\",\"2017-02-27T04:00:00\",\"2017-03-01T12:00:00\",\"2017-03-03T20:00:00\",\"2017-03-06T04:00:00\",\"2017-03-08T12:00:00\",\"2017-03-10T19:59:43.200000\"],\"y\":[1067.21288526678,1063.1297150282562,1054.1587491366226,1060.66574227496,1055.23022681048,928.5133883491517,928.9159605715453,927.9158358901553,930.4262063467054,919.3978643291063,919.3978643291063],\"type\":\"scatter\",\"xaxis\":\"x\",\"yaxis\":\"y\"},{\"hoverinfo\":\"skip\",\"legendgroup\":\"alert\",\"marker\":{\"color\":\"#DD4040\",\"size\":8,\"symbol\":\"diamond\"},\"mode\":\"markers\",\"name\":\"Alert\",\"showlegend\":true,\"x\":[\"2017-03-01T12:00:00\",\"2017-03-03T20:00:00\",\"2017-03-06T04:00:00\",\"2017-03-08T12:00:00\",\"2017-03-10T19:59:43.200000\"],\"y\":[928.5133883491517,928.9159605715453,927.9158358901553,930.4262063467054,919.3978643291063],\"type\":\"scatter\",\"xaxis\":\"x\",\"yaxis\":\"y\"},{\"hoverinfo\":\"skip\",\"legendgroup\":\"thresh\",\"line\":{\"color\":\"#DD4040\",\"dash\":\"dash\",\"width\":2},\"mode\":\"lines\",\"name\":\"Threshold\",\"showlegend\":true,\"x\":[\"2017-01-24T08:00:00\",\"2017-01-26T16:00:00\",\"2017-01-29T00:00:00\",\"2017-01-31T08:00:00\",\"2017-02-02T16:00:00\",\"2017-02-05T00:00:00\",\"2017-02-07T08:00:00\",\"2017-02-09T16:00:00\",\"2017-02-12T00:00:00\",\"2017-02-14T08:00:00\",\"2017-02-16T15:59:26.400000\"],\"y\":[1103.313740532938,1103.313740532938,1103.313740532938,1103.313740532938,1103.313740532938,1103.313740532938,1103.313740532938,1103.313740532938,1103.313740532938,1103.313740532938,1103.313740532938],\"type\":\"scatter\",\"xaxis\":\"x\",\"yaxis\":\"y\"},{\"hoverinfo\":\"skip\",\"legendgroup\":\"thresh\",\"line\":{\"color\":\"#DD4040\",\"dash\":\"dash\",\"width\":2},\"mode\":\"lines\",\"name\":\"Threshold\",\"showlegend\":false,\"x\":[\"2017-01-24T08:00:00\",\"2017-01-26T16:00:00\",\"2017-01-29T00:00:00\",\"2017-01-31T08:00:00\",\"2017-02-02T16:00:00\",\"2017-02-05T00:00:00\",\"2017-02-07T08:00:00\",\"2017-02-09T16:00:00\",\"2017-02-12T00:00:00\",\"2017-02-14T08:00:00\",\"2017-02-16T15:59:26.400000\"],\"y\":[1014.2761673303021,1014.2761673303021,1014.2761673303021,1014.2761673303021,1014.2761673303021,1014.2761673303021,1014.2761673303021,1014.2761673303021,1014.2761673303021,1014.2761673303021,1014.2761673303021],\"type\":\"scatter\",\"xaxis\":\"x\",\"yaxis\":\"y\"},{\"hoverinfo\":\"skip\",\"legendgroup\":\"thresh\",\"line\":{\"color\":\"#DD4040\",\"dash\":\"dash\",\"width\":2},\"mode\":\"lines\",\"name\":\"Threshold\",\"showlegend\":false,\"x\":[\"2017-02-16T16:00:00\",\"2017-02-19T00:00:00\",\"2017-02-21T08:00:00\",\"2017-02-23T16:00:00\",\"2017-02-26T00:00:00\",\"2017-02-28T08:00:00\",\"2017-03-02T16:00:00\",\"2017-03-05T00:00:00\",\"2017-03-07T08:00:00\",\"2017-03-09T16:00:00\",\"2017-03-11T23:59:26.400000\"],\"y\":[1103.313740532938,1103.313740532938,1103.313740532938,1103.313740532938,1103.313740532938,1103.313740532938,1103.313740532938,1103.313740532938,1103.313740532938,1103.313740532938,1103.313740532938],\"type\":\"scatter\",\"xaxis\":\"x\",\"yaxis\":\"y\"},{\"hoverinfo\":\"skip\",\"legendgroup\":\"thresh\",\"line\":{\"color\":\"#DD4040\",\"dash\":\"dash\",\"width\":2},\"mode\":\"lines\",\"name\":\"Threshold\",\"showlegend\":false,\"x\":[\"2017-02-16T16:00:00\",\"2017-02-19T00:00:00\",\"2017-02-21T08:00:00\",\"2017-02-23T16:00:00\",\"2017-02-26T00:00:00\",\"2017-02-28T08:00:00\",\"2017-03-02T16:00:00\",\"2017-03-05T00:00:00\",\"2017-03-07T08:00:00\",\"2017-03-09T16:00:00\",\"2017-03-11T23:59:26.400000\"],\"y\":[1014.2761673303021,1014.2761673303021,1014.2761673303021,1014.2761673303021,1014.2761673303021,1014.2761673303021,1014.2761673303021,1014.2761673303021,1014.2761673303021,1014.2761673303021,1014.2761673303021],\"type\":\"scatter\",\"xaxis\":\"x\",\"yaxis\":\"y\"},{\"hoverinfo\":\"skip\",\"line\":{\"color\":\"rgba(0,0,0,0)\",\"shape\":\"hv\"},\"mode\":\"lines\",\"name\":\"Confidence band\",\"showlegend\":false,\"x\":[\"2017-01-24T08:00:00\",\"2017-01-26T16:00:00\",\"2017-01-29T00:00:00\",\"2017-01-31T08:00:00\",\"2017-02-02T16:00:00\",\"2017-02-05T00:00:00\",\"2017-02-07T08:00:00\",\"2017-02-09T16:00:00\",\"2017-02-12T00:00:00\",\"2017-02-14T08:00:00\",\"2017-02-16T15:59:26.400000\"],\"y\":[1104.9495415825209,1087.6640321658876,1085.9710800857904,1085.47129502163,1097.5795332310072,1095.8474396747156,1088.262856271763,1086.1477464936813,1083.1537498332161,1084.2110708722596,1084.2110708722596],\"type\":\"scatter\",\"xaxis\":\"x\",\"yaxis\":\"y\"},{\"fill\":\"tonexty\",\"fillcolor\":\"rgba(0.23137254901960785, 0.00784313725490196, 0.5019607843137255, 0.2)\",\"hoverinfo\":\"skip\",\"line\":{\"color\":\"rgba(0,0,0,0)\",\"shape\":\"hv\"},\"mode\":\"lines\",\"name\":\"Confidence band\",\"showlegend\":true,\"x\":[\"2017-01-24T08:00:00\",\"2017-01-26T16:00:00\",\"2017-01-29T00:00:00\",\"2017-01-31T08:00:00\",\"2017-02-02T16:00:00\",\"2017-02-05T00:00:00\",\"2017-02-07T08:00:00\",\"2017-02-09T16:00:00\",\"2017-02-12T00:00:00\",\"2017-02-14T08:00:00\",\"2017-02-16T15:59:26.400000\"],\"y\":[1042.8614879919942,1025.575978575361,1023.8830264952638,1023.3832414311036,1035.4914796404805,1033.759386084189,1026.1748026812363,1024.0596929031547,1021.0656962426896,1022.123017281733,1022.123017281733],\"type\":\"scatter\",\"xaxis\":\"x\",\"yaxis\":\"y\"},{\"hoverinfo\":\"skip\",\"line\":{\"color\":\"rgba(0,0,0,0)\",\"shape\":\"hv\"},\"mode\":\"lines\",\"name\":\"Confidence band\",\"showlegend\":false,\"x\":[\"2017-02-16T16:00:00\",\"2017-02-19T00:00:00\",\"2017-02-21T08:00:00\",\"2017-02-23T16:00:00\",\"2017-02-26T00:00:00\",\"2017-02-28T08:00:00\",\"2017-03-02T16:00:00\",\"2017-03-05T00:00:00\",\"2017-03-07T08:00:00\",\"2017-03-09T16:00:00\",\"2017-03-11T23:59:26.400000\"],\"y\":[1098.2569120620433,1094.1737418235195,1085.202775931886,1091.7097690702233,1086.2742536057433,959.5574151444149,959.9599873668085,958.9598626854186,961.4702331419686,950.4418911243695,950.4418911243695],\"type\":\"scatter\",\"xaxis\":\"x\",\"yaxis\":\"y\"},{\"fill\":\"tonexty\",\"fillcolor\":\"rgba(0.23137254901960785, 0.00784313725490196, 0.5019607843137255, 0.2)\",\"hoverinfo\":\"skip\",\"line\":{\"color\":\"rgba(0,0,0,0)\",\"shape\":\"hv\"},\"mode\":\"lines\",\"name\":\"Confidence band\",\"showlegend\":false,\"x\":[\"2017-02-16T16:00:00\",\"2017-02-19T00:00:00\",\"2017-02-21T08:00:00\",\"2017-02-23T16:00:00\",\"2017-02-26T00:00:00\",\"2017-02-28T08:00:00\",\"2017-03-02T16:00:00\",\"2017-03-05T00:00:00\",\"2017-03-07T08:00:00\",\"2017-03-09T16:00:00\",\"2017-03-11T23:59:26.400000\"],\"y\":[1036.1688584715166,1032.0856882329929,1023.1147223413594,1029.6217154796966,1024.1862000152166,897.4693615538885,897.871933776282,896.8718090948921,899.3821795514422,888.353837533843,888.353837533843],\"type\":\"scatter\",\"xaxis\":\"x\",\"yaxis\":\"y\"},{\"hoverinfo\":\"skip\",\"legendgroup\":\"metric_reference\",\"line\":{\"color\":\"#3b0280\",\"dash\":\"dash\",\"shape\":\"hv\",\"width\":2},\"mode\":\"lines\",\"name\":\"Metric\",\"showlegend\":false,\"x\":[\"2017-01-24T08:00:00\",\"2017-01-26T16:00:00\",\"2017-01-29T00:00:00\",\"2017-01-31T08:00:00\",\"2017-02-02T16:00:00\",\"2017-02-05T00:00:00\",\"2017-02-07T08:00:00\",\"2017-02-09T16:00:00\",\"2017-02-12T00:00:00\",\"2017-02-14T08:00:00\",\"2017-02-16T15:59:26.400000\"],\"y\":[0.2665463800316081,0.26910295684146857,0.2687449242373963,0.2670795143259885,0.266765881956791,0.2664202986217347,0.2675556514379483,0.26879278430666087,0.2678228456654652,0.268474450764883,0.268474450764883],\"type\":\"scatter\",\"xaxis\":\"x2\",\"yaxis\":\"y2\"},{\"customdata\":[[\"Estimated \\u003cb\\u003eRMSLE\\u003c\\u002fb\\u003e\",\"\\u003cb style=\\\"color:#3b0280;line-height:60px\\\"\\u003eReference\\u003c\\u002fb\\u003e\",\"\",\"[0:5999]\",\"From \\u003cb\\u003eJan-24-2017\\u003c\\u002fb\\u003e to \\u003cb\\u003eJan-26-2017\\u003c\\u002fb\\u003e\",0.2665,0.0067],[\"Estimated \\u003cb\\u003eRMSLE\\u003c\\u002fb\\u003e\",\"\\u003cb style=\\\"color:#3b0280;line-height:60px\\\"\\u003eReference\\u003c\\u002fb\\u003e\",\"\",\"[6000:11999]\",\"From \\u003cb\\u003eJan-26-2017\\u003c\\u002fb\\u003e to \\u003cb\\u003eJan-28-2017\\u003c\\u002fb\\u003e\",0.2691,0.0067],[\"Estimated \\u003cb\\u003eRMSLE\\u003c\\u002fb\\u003e\",\"\\u003cb style=\\\"color:#3b0280;line-height:60px\\\"\\u003eReference\\u003c\\u002fb\\u003e\",\"\",\"[12000:17999]\",\"From \\u003cb\\u003eJan-29-2017\\u003c\\u002fb\\u003e to \\u003cb\\u003eJan-31-2017\\u003c\\u002fb\\u003e\",0.2687,0.0067],[\"Estimated \\u003cb\\u003eRMSLE\\u003c\\u002fb\\u003e\",\"\\u003cb style=\\\"color:#3b0280;line-height:60px\\\"\\u003eReference\\u003c\\u002fb\\u003e\",\"\",\"[18000:23999]\",\"From \\u003cb\\u003eJan-31-2017\\u003c\\u002fb\\u003e to \\u003cb\\u003eFeb-02-2017\\u003c\\u002fb\\u003e\",0.2671,0.0067],[\"Estimated \\u003cb\\u003eRMSLE\\u003c\\u002fb\\u003e\",\"\\u003cb style=\\\"color:#3b0280;line-height:60px\\\"\\u003eReference\\u003c\\u002fb\\u003e\",\"\",\"[24000:29999]\",\"From \\u003cb\\u003eFeb-02-2017\\u003c\\u002fb\\u003e to \\u003cb\\u003eFeb-04-2017\\u003c\\u002fb\\u003e\",0.2668,0.0067],[\"Estimated \\u003cb\\u003eRMSLE\\u003c\\u002fb\\u003e\",\"\\u003cb style=\\\"color:#3b0280;line-height:60px\\\"\\u003eReference\\u003c\\u002fb\\u003e\",\"\",\"[30000:35999]\",\"From \\u003cb\\u003eFeb-05-2017\\u003c\\u002fb\\u003e to \\u003cb\\u003eFeb-07-2017\\u003c\\u002fb\\u003e\",0.2664,0.0067],[\"Estimated \\u003cb\\u003eRMSLE\\u003c\\u002fb\\u003e\",\"\\u003cb style=\\\"color:#3b0280;line-height:60px\\\"\\u003eReference\\u003c\\u002fb\\u003e\",\"\",\"[36000:41999]\",\"From \\u003cb\\u003eFeb-07-2017\\u003c\\u002fb\\u003e to \\u003cb\\u003eFeb-09-2017\\u003c\\u002fb\\u003e\",0.2676,0.0067],[\"Estimated \\u003cb\\u003eRMSLE\\u003c\\u002fb\\u003e\",\"\\u003cb style=\\\"color:#3b0280;line-height:60px\\\"\\u003eReference\\u003c\\u002fb\\u003e\",\"\",\"[42000:47999]\",\"From \\u003cb\\u003eFeb-09-2017\\u003c\\u002fb\\u003e to \\u003cb\\u003eFeb-11-2017\\u003c\\u002fb\\u003e\",0.2688,0.0067],[\"Estimated \\u003cb\\u003eRMSLE\\u003c\\u002fb\\u003e\",\"\\u003cb style=\\\"color:#3b0280;line-height:60px\\\"\\u003eReference\\u003c\\u002fb\\u003e\",\"\",\"[48000:53999]\",\"From \\u003cb\\u003eFeb-12-2017\\u003c\\u002fb\\u003e to \\u003cb\\u003eFeb-14-2017\\u003c\\u002fb\\u003e\",0.2678,0.0067],[\"Estimated \\u003cb\\u003eRMSLE\\u003c\\u002fb\\u003e\",\"\\u003cb style=\\\"color:#3b0280;line-height:60px\\\"\\u003eReference\\u003c\\u002fb\\u003e\",\"\",\"[54000:59999]\",\"From \\u003cb\\u003eFeb-14-2017\\u003c\\u002fb\\u003e to \\u003cb\\u003eFeb-16-2017\\u003c\\u002fb\\u003e\",0.2685,0.0067]],\"hovertemplate\":\"%{customdata[1]} &nbsp; &nbsp; %{customdata[2]} \\u003cbr \\u002f\\u003eChunk: \\u003cb\\u003e%{customdata[3]}\\u003c\\u002fb\\u003e &nbsp; &nbsp; %{customdata[4]} \\u003cbr \\u002f\\u003e%{customdata[0]}: \\u003cb\\u003e%{customdata[5]}\\u003c\\u002fb\\u003e\\u003cbr \\u002f\\u003eConfidence band: +\\u002f- \\u003cb\\u003e%{customdata[6]}\\u003c\\u002fb\\u003e\\u003cbr \\u002f\\u003e\\u003cextra\\u003e\\u003c\\u002fextra\\u003e\",\"legendgroup\":\"metric_reference\",\"line\":{\"dash\":\"dash\"},\"marker\":{\"color\":\"#3b0280\",\"size\":5,\"symbol\":\"circle\"},\"mode\":\"markers\",\"name\":\"Metric\",\"showlegend\":false,\"x\":[\"2017-01-25T12:00:00\",\"2017-01-27T20:00:00\",\"2017-01-30T04:00:00\",\"2017-02-01T12:00:00\",\"2017-02-03T20:00:00\",\"2017-02-06T04:00:00\",\"2017-02-08T12:00:00\",\"2017-02-10T20:00:00\",\"2017-02-13T04:00:00\",\"2017-02-15T11:59:43.200000\"],\"y\":[0.2665463800316081,0.26910295684146857,0.2687449242373963,0.2670795143259885,0.266765881956791,0.2664202986217347,0.2675556514379483,0.26879278430666087,0.2678228456654652,0.268474450764883,0.268474450764883],\"type\":\"scatter\",\"xaxis\":\"x2\",\"yaxis\":\"y2\"},{\"hoverinfo\":\"skip\",\"legendgroup\":\"metric_analysis\",\"line\":{\"color\":\"#3b0280\",\"dash\":\"dash\",\"shape\":\"hv\",\"width\":2},\"mode\":\"lines\",\"name\":\"Metric\",\"showlegend\":false,\"x\":[\"2017-02-16T16:00:00\",\"2017-02-19T00:00:00\",\"2017-02-21T08:00:00\",\"2017-02-23T16:00:00\",\"2017-02-26T00:00:00\",\"2017-02-28T08:00:00\",\"2017-03-02T16:00:00\",\"2017-03-05T00:00:00\",\"2017-03-07T08:00:00\",\"2017-03-09T16:00:00\",\"2017-03-11T23:59:26.400000\"],\"y\":[0.26579823395332525,0.2668676483739787,0.2678838677706675,0.2656952488975803,0.26835369010346916,0.3074006336142836,0.3086685744486676,0.30878061712198335,0.3085125121316404,0.3106956900896941,0.3106956900896941],\"type\":\"scatter\",\"xaxis\":\"x2\",\"yaxis\":\"y2\"},{\"customdata\":[[\"Estimated \\u003cb\\u003eRMSLE\\u003c\\u002fb\\u003e\",\"\\u003cb style=\\\"color:#3b0280;line-height:60px\\\"\\u003eAnalysis\\u003c\\u002fb\\u003e\",\"\",\"[0:5999]\",\"From \\u003cb\\u003eFeb-16-2017\\u003c\\u002fb\\u003e to \\u003cb\\u003eFeb-18-2017\\u003c\\u002fb\\u003e\",0.2658,0.0067],[\"Estimated \\u003cb\\u003eRMSLE\\u003c\\u002fb\\u003e\",\"\\u003cb style=\\\"color:#3b0280;line-height:60px\\\"\\u003eAnalysis\\u003c\\u002fb\\u003e\",\"\",\"[6000:11999]\",\"From \\u003cb\\u003eFeb-19-2017\\u003c\\u002fb\\u003e to \\u003cb\\u003eFeb-21-2017\\u003c\\u002fb\\u003e\",0.2669,0.0067],[\"Estimated \\u003cb\\u003eRMSLE\\u003c\\u002fb\\u003e\",\"\\u003cb style=\\\"color:#3b0280;line-height:60px\\\"\\u003eAnalysis\\u003c\\u002fb\\u003e\",\"\",\"[12000:17999]\",\"From \\u003cb\\u003eFeb-21-2017\\u003c\\u002fb\\u003e to \\u003cb\\u003eFeb-23-2017\\u003c\\u002fb\\u003e\",0.2679,0.0067],[\"Estimated \\u003cb\\u003eRMSLE\\u003c\\u002fb\\u003e\",\"\\u003cb style=\\\"color:#3b0280;line-height:60px\\\"\\u003eAnalysis\\u003c\\u002fb\\u003e\",\"\",\"[18000:23999]\",\"From \\u003cb\\u003eFeb-23-2017\\u003c\\u002fb\\u003e to \\u003cb\\u003eFeb-25-2017\\u003c\\u002fb\\u003e\",0.2657,0.0067],[\"Estimated \\u003cb\\u003eRMSLE\\u003c\\u002fb\\u003e\",\"\\u003cb style=\\\"color:#3b0280;line-height:60px\\\"\\u003eAnalysis\\u003c\\u002fb\\u003e\",\"\",\"[24000:29999]\",\"From \\u003cb\\u003eFeb-26-2017\\u003c\\u002fb\\u003e to \\u003cb\\u003eFeb-28-2017\\u003c\\u002fb\\u003e\",0.2684,0.0067],[\"Estimated \\u003cb\\u003eRMSLE\\u003c\\u002fb\\u003e\",\"\\u003cb style=\\\"color:#3b0280;line-height:60px\\\"\\u003eAnalysis\\u003c\\u002fb\\u003e\",\"\\u003cspan style=\\\"color:#AD0000\\\"\\u003e\\u26a0 \\u003cb\\u003eDrift detected\\u003c\\u002fb\\u003e\\u003c\\u002fspan\\u003e\",\"[30000:35999]\",\"From \\u003cb\\u003eFeb-28-2017\\u003c\\u002fb\\u003e to \\u003cb\\u003eMar-02-2017\\u003c\\u002fb\\u003e\",0.3074,0.0067],[\"Estimated \\u003cb\\u003eRMSLE\\u003c\\u002fb\\u003e\",\"\\u003cb style=\\\"color:#3b0280;line-height:60px\\\"\\u003eAnalysis\\u003c\\u002fb\\u003e\",\"\\u003cspan style=\\\"color:#AD0000\\\"\\u003e\\u26a0 \\u003cb\\u003eDrift detected\\u003c\\u002fb\\u003e\\u003c\\u002fspan\\u003e\",\"[36000:41999]\",\"From \\u003cb\\u003eMar-02-2017\\u003c\\u002fb\\u003e to \\u003cb\\u003eMar-04-2017\\u003c\\u002fb\\u003e\",0.3087,0.0067],[\"Estimated \\u003cb\\u003eRMSLE\\u003c\\u002fb\\u003e\",\"\\u003cb style=\\\"color:#3b0280;line-height:60px\\\"\\u003eAnalysis\\u003c\\u002fb\\u003e\",\"\\u003cspan style=\\\"color:#AD0000\\\"\\u003e\\u26a0 \\u003cb\\u003eDrift detected\\u003c\\u002fb\\u003e\\u003c\\u002fspan\\u003e\",\"[42000:47999]\",\"From \\u003cb\\u003eMar-05-2017\\u003c\\u002fb\\u003e to \\u003cb\\u003eMar-07-2017\\u003c\\u002fb\\u003e\",0.3088,0.0067],[\"Estimated \\u003cb\\u003eRMSLE\\u003c\\u002fb\\u003e\",\"\\u003cb style=\\\"color:#3b0280;line-height:60px\\\"\\u003eAnalysis\\u003c\\u002fb\\u003e\",\"\\u003cspan style=\\\"color:#AD0000\\\"\\u003e\\u26a0 \\u003cb\\u003eDrift detected\\u003c\\u002fb\\u003e\\u003c\\u002fspan\\u003e\",\"[48000:53999]\",\"From \\u003cb\\u003eMar-07-2017\\u003c\\u002fb\\u003e to \\u003cb\\u003eMar-09-2017\\u003c\\u002fb\\u003e\",0.3085,0.0067],[\"Estimated \\u003cb\\u003eRMSLE\\u003c\\u002fb\\u003e\",\"\\u003cb style=\\\"color:#3b0280;line-height:60px\\\"\\u003eAnalysis\\u003c\\u002fb\\u003e\",\"\\u003cspan style=\\\"color:#AD0000\\\"\\u003e\\u26a0 \\u003cb\\u003eDrift detected\\u003c\\u002fb\\u003e\\u003c\\u002fspan\\u003e\",\"[54000:59999]\",\"From \\u003cb\\u003eMar-09-2017\\u003c\\u002fb\\u003e to \\u003cb\\u003eMar-11-2017\\u003c\\u002fb\\u003e\",0.3107,0.0067]],\"hovertemplate\":\"%{customdata[1]} &nbsp; &nbsp; %{customdata[2]} \\u003cbr \\u002f\\u003eChunk: \\u003cb\\u003e%{customdata[3]}\\u003c\\u002fb\\u003e &nbsp; &nbsp; %{customdata[4]} \\u003cbr \\u002f\\u003e%{customdata[0]}: \\u003cb\\u003e%{customdata[5]}\\u003c\\u002fb\\u003e\\u003cbr \\u002f\\u003eConfidence band: +\\u002f- \\u003cb\\u003e%{customdata[6]}\\u003c\\u002fb\\u003e\\u003cbr \\u002f\\u003e\\u003cextra\\u003e\\u003c\\u002fextra\\u003e\",\"legendgroup\":\"metric_analysis\",\"line\":{\"dash\":\"dash\"},\"marker\":{\"color\":\"#3b0280\",\"size\":5,\"symbol\":\"circle\"},\"mode\":\"markers\",\"name\":\"Metric\",\"showlegend\":false,\"x\":[\"2017-02-17T20:00:00\",\"2017-02-20T04:00:00\",\"2017-02-22T12:00:00\",\"2017-02-24T20:00:00\",\"2017-02-27T04:00:00\",\"2017-03-01T12:00:00\",\"2017-03-03T20:00:00\",\"2017-03-06T04:00:00\",\"2017-03-08T12:00:00\",\"2017-03-10T19:59:43.200000\"],\"y\":[0.26579823395332525,0.2668676483739787,0.2678838677706675,0.2656952488975803,0.26835369010346916,0.3074006336142836,0.3086685744486676,0.30878061712198335,0.3085125121316404,0.3106956900896941,0.3106956900896941],\"type\":\"scatter\",\"xaxis\":\"x2\",\"yaxis\":\"y2\"},{\"hoverinfo\":\"skip\",\"legendgroup\":\"alert\",\"marker\":{\"color\":\"#DD4040\",\"size\":8,\"symbol\":\"diamond\"},\"mode\":\"markers\",\"name\":\"Alert\",\"showlegend\":false,\"x\":[\"2017-03-01T12:00:00\",\"2017-03-03T20:00:00\",\"2017-03-06T04:00:00\",\"2017-03-08T12:00:00\",\"2017-03-10T19:59:43.200000\"],\"y\":[0.3074006336142836,0.3086685744486676,0.30878061712198335,0.3085125121316404,0.3106956900896941],\"type\":\"scatter\",\"xaxis\":\"x2\",\"yaxis\":\"y2\"},{\"hoverinfo\":\"skip\",\"legendgroup\":\"thresh\",\"line\":{\"color\":\"#DD4040\",\"dash\":\"dash\",\"width\":2},\"mode\":\"lines\",\"name\":\"Threshold\",\"showlegend\":false,\"x\":[\"2017-01-24T08:00:00\",\"2017-01-26T16:00:00\",\"2017-01-29T00:00:00\",\"2017-01-31T08:00:00\",\"2017-02-02T16:00:00\",\"2017-02-05T00:00:00\",\"2017-02-07T08:00:00\",\"2017-02-09T16:00:00\",\"2017-02-12T00:00:00\",\"2017-02-14T08:00:00\",\"2017-02-16T15:59:26.400000\"],\"y\":[0.27151088740402257,0.27151088740402257,0.27151088740402257,0.27151088740402257,0.27151088740402257,0.27151088740402257,0.27151088740402257,0.27151088740402257,0.27151088740402257,0.27151088740402257,0.27151088740402257],\"type\":\"scatter\",\"xaxis\":\"x2\",\"yaxis\":\"y2\"},{\"hoverinfo\":\"skip\",\"legendgroup\":\"thresh\",\"line\":{\"color\":\"#DD4040\",\"dash\":\"dash\",\"width\":2},\"mode\":\"lines\",\"name\":\"Threshold\",\"showlegend\":false,\"x\":[\"2017-01-24T08:00:00\",\"2017-01-26T16:00:00\",\"2017-01-29T00:00:00\",\"2017-01-31T08:00:00\",\"2017-02-02T16:00:00\",\"2017-02-05T00:00:00\",\"2017-02-07T08:00:00\",\"2017-02-09T16:00:00\",\"2017-02-12T00:00:00\",\"2017-02-14T08:00:00\",\"2017-02-16T15:59:26.400000\"],\"y\":[0.26394771674257017,0.26394771674257017,0.26394771674257017,0.26394771674257017,0.26394771674257017,0.26394771674257017,0.26394771674257017,0.26394771674257017,0.26394771674257017,0.26394771674257017,0.26394771674257017],\"type\":\"scatter\",\"xaxis\":\"x2\",\"yaxis\":\"y2\"},{\"hoverinfo\":\"skip\",\"legendgroup\":\"thresh\",\"line\":{\"color\":\"#DD4040\",\"dash\":\"dash\",\"width\":2},\"mode\":\"lines\",\"name\":\"Threshold\",\"showlegend\":false,\"x\":[\"2017-02-16T16:00:00\",\"2017-02-19T00:00:00\",\"2017-02-21T08:00:00\",\"2017-02-23T16:00:00\",\"2017-02-26T00:00:00\",\"2017-02-28T08:00:00\",\"2017-03-02T16:00:00\",\"2017-03-05T00:00:00\",\"2017-03-07T08:00:00\",\"2017-03-09T16:00:00\",\"2017-03-11T23:59:26.400000\"],\"y\":[0.27151088740402257,0.27151088740402257,0.27151088740402257,0.27151088740402257,0.27151088740402257,0.27151088740402257,0.27151088740402257,0.27151088740402257,0.27151088740402257,0.27151088740402257,0.27151088740402257],\"type\":\"scatter\",\"xaxis\":\"x2\",\"yaxis\":\"y2\"},{\"hoverinfo\":\"skip\",\"legendgroup\":\"thresh\",\"line\":{\"color\":\"#DD4040\",\"dash\":\"dash\",\"width\":2},\"mode\":\"lines\",\"name\":\"Threshold\",\"showlegend\":false,\"x\":[\"2017-02-16T16:00:00\",\"2017-02-19T00:00:00\",\"2017-02-21T08:00:00\",\"2017-02-23T16:00:00\",\"2017-02-26T00:00:00\",\"2017-02-28T08:00:00\",\"2017-03-02T16:00:00\",\"2017-03-05T00:00:00\",\"2017-03-07T08:00:00\",\"2017-03-09T16:00:00\",\"2017-03-11T23:59:26.400000\"],\"y\":[0.26394771674257017,0.26394771674257017,0.26394771674257017,0.26394771674257017,0.26394771674257017,0.26394771674257017,0.26394771674257017,0.26394771674257017,0.26394771674257017,0.26394771674257017,0.26394771674257017],\"type\":\"scatter\",\"xaxis\":\"x2\",\"yaxis\":\"y2\"},{\"hoverinfo\":\"skip\",\"line\":{\"color\":\"rgba(0,0,0,0)\",\"shape\":\"hv\"},\"mode\":\"lines\",\"name\":\"Confidence band\",\"showlegend\":false,\"x\":[\"2017-01-24T08:00:00\",\"2017-01-26T16:00:00\",\"2017-01-29T00:00:00\",\"2017-01-31T08:00:00\",\"2017-02-02T16:00:00\",\"2017-02-05T00:00:00\",\"2017-02-07T08:00:00\",\"2017-02-09T16:00:00\",\"2017-02-12T00:00:00\",\"2017-02-14T08:00:00\",\"2017-02-16T15:59:26.400000\"],\"y\":[0.2732633750242777,0.2758199518341382,0.27546191923006597,0.2737965093186581,0.27348287694946066,0.27313729361440436,0.27427264643061794,0.2755097792993305,0.27453984065813486,0.27519144575755267,0.27519144575755267],\"type\":\"scatter\",\"xaxis\":\"x2\",\"yaxis\":\"y2\"},{\"fill\":\"tonexty\",\"fillcolor\":\"rgba(0.23137254901960785, 0.00784313725490196, 0.5019607843137255, 0.2)\",\"hoverinfo\":\"skip\",\"line\":{\"color\":\"rgba(0,0,0,0)\",\"shape\":\"hv\"},\"mode\":\"lines\",\"name\":\"Confidence band\",\"showlegend\":false,\"x\":[\"2017-01-24T08:00:00\",\"2017-01-26T16:00:00\",\"2017-01-29T00:00:00\",\"2017-01-31T08:00:00\",\"2017-02-02T16:00:00\",\"2017-02-05T00:00:00\",\"2017-02-07T08:00:00\",\"2017-02-09T16:00:00\",\"2017-02-12T00:00:00\",\"2017-02-14T08:00:00\",\"2017-02-16T15:59:26.400000\"],\"y\":[0.25982938503893843,0.2623859618487989,0.2620279292447267,0.26036251933331883,0.2600488869641214,0.2597033036290651,0.26083865644527865,0.2620757893139912,0.26110585067279557,0.2617574557722134,0.2617574557722134],\"type\":\"scatter\",\"xaxis\":\"x2\",\"yaxis\":\"y2\"},{\"hoverinfo\":\"skip\",\"line\":{\"color\":\"rgba(0,0,0,0)\",\"shape\":\"hv\"},\"mode\":\"lines\",\"name\":\"Confidence band\",\"showlegend\":false,\"x\":[\"2017-02-16T16:00:00\",\"2017-02-19T00:00:00\",\"2017-02-21T08:00:00\",\"2017-02-23T16:00:00\",\"2017-02-26T00:00:00\",\"2017-02-28T08:00:00\",\"2017-03-02T16:00:00\",\"2017-03-05T00:00:00\",\"2017-03-07T08:00:00\",\"2017-03-09T16:00:00\",\"2017-03-11T23:59:26.400000\"],\"y\":[0.2725152289459949,0.27358464336664834,0.2746008627633372,0.2724122438902499,0.2750706850961388,0.31411762860695325,0.3153855694413372,0.315497612114653,0.31522950712431,0.31741268508236375,0.31741268508236375],\"type\":\"scatter\",\"xaxis\":\"x2\",\"yaxis\":\"y2\"},{\"fill\":\"tonexty\",\"fillcolor\":\"rgba(0.23137254901960785, 0.00784313725490196, 0.5019607843137255, 0.2)\",\"hoverinfo\":\"skip\",\"line\":{\"color\":\"rgba(0,0,0,0)\",\"shape\":\"hv\"},\"mode\":\"lines\",\"name\":\"Confidence band\",\"showlegend\":false,\"x\":[\"2017-02-16T16:00:00\",\"2017-02-19T00:00:00\",\"2017-02-21T08:00:00\",\"2017-02-23T16:00:00\",\"2017-02-26T00:00:00\",\"2017-02-28T08:00:00\",\"2017-03-02T16:00:00\",\"2017-03-05T00:00:00\",\"2017-03-07T08:00:00\",\"2017-03-09T16:00:00\",\"2017-03-11T23:59:26.400000\"],\"y\":[0.2590812389606556,0.26015065338130905,0.2611668727779979,0.25897825390491064,0.2616366951107995,0.30068363862161396,0.30195157945599793,0.3020636221293137,0.30179551713897074,0.30397869509702446,0.30397869509702446],\"type\":\"scatter\",\"xaxis\":\"x2\",\"yaxis\":\"y2\"}],                        {\"height\":1000.0,\"hoverlabel\":{\"bgcolor\":\"white\",\"font\":{\"size\":14}},\"legend\":{\"itemclick\":false,\"itemdoubleclick\":false,\"traceorder\":\"grouped\"},\"paper_bgcolor\":\"rgba(255,255,255,1)\",\"plot_bgcolor\":\"rgba(255,255,255,1)\",\"title\":{\"text\":\"Estimated performance \\u003cb\\u003e(DLE)\\u003c\\u002fb\\u003e\"},\"xaxis\":{\"linecolor\":\"#3b0280\",\"mirror\":true,\"showgrid\":false,\"title\":{\"text\":\"Time\"},\"zeroline\":false,\"anchor\":\"y\",\"domain\":[0.0,1.0],\"matches\":\"x\"},\"yaxis\":{\"linecolor\":\"#3b0280\",\"mirror\":true,\"showgrid\":false,\"title\":{\"text\":\"RMSE\"},\"zeroline\":false,\"anchor\":\"x\",\"domain\":[0.625,1.0]},\"template\":{\"data\":{\"histogram2dcontour\":[{\"type\":\"histogram2dcontour\",\"colorbar\":{\"outlinewidth\":0,\"ticks\":\"\"},\"colorscale\":[[0.0,\"#0d0887\"],[0.1111111111111111,\"#46039f\"],[0.2222222222222222,\"#7201a8\"],[0.3333333333333333,\"#9c179e\"],[0.4444444444444444,\"#bd3786\"],[0.5555555555555556,\"#d8576b\"],[0.6666666666666666,\"#ed7953\"],[0.7777777777777778,\"#fb9f3a\"],[0.8888888888888888,\"#fdca26\"],[1.0,\"#f0f921\"]]}],\"choropleth\":[{\"type\":\"choropleth\",\"colorbar\":{\"outlinewidth\":0,\"ticks\":\"\"}}],\"histogram2d\":[{\"type\":\"histogram2d\",\"colorbar\":{\"outlinewidth\":0,\"ticks\":\"\"},\"colorscale\":[[0.0,\"#0d0887\"],[0.1111111111111111,\"#46039f\"],[0.2222222222222222,\"#7201a8\"],[0.3333333333333333,\"#9c179e\"],[0.4444444444444444,\"#bd3786\"],[0.5555555555555556,\"#d8576b\"],[0.6666666666666666,\"#ed7953\"],[0.7777777777777778,\"#fb9f3a\"],[0.8888888888888888,\"#fdca26\"],[1.0,\"#f0f921\"]]}],\"heatmap\":[{\"type\":\"heatmap\",\"colorbar\":{\"outlinewidth\":0,\"ticks\":\"\"},\"colorscale\":[[0.0,\"#0d0887\"],[0.1111111111111111,\"#46039f\"],[0.2222222222222222,\"#7201a8\"],[0.3333333333333333,\"#9c179e\"],[0.4444444444444444,\"#bd3786\"],[0.5555555555555556,\"#d8576b\"],[0.6666666666666666,\"#ed7953\"],[0.7777777777777778,\"#fb9f3a\"],[0.8888888888888888,\"#fdca26\"],[1.0,\"#f0f921\"]]}],\"heatmapgl\":[{\"type\":\"heatmapgl\",\"colorbar\":{\"outlinewidth\":0,\"ticks\":\"\"},\"colorscale\":[[0.0,\"#0d0887\"],[0.1111111111111111,\"#46039f\"],[0.2222222222222222,\"#7201a8\"],[0.3333333333333333,\"#9c179e\"],[0.4444444444444444,\"#bd3786\"],[0.5555555555555556,\"#d8576b\"],[0.6666666666666666,\"#ed7953\"],[0.7777777777777778,\"#fb9f3a\"],[0.8888888888888888,\"#fdca26\"],[1.0,\"#f0f921\"]]}],\"contourcarpet\":[{\"type\":\"contourcarpet\",\"colorbar\":{\"outlinewidth\":0,\"ticks\":\"\"}}],\"contour\":[{\"type\":\"contour\",\"colorbar\":{\"outlinewidth\":0,\"ticks\":\"\"},\"colorscale\":[[0.0,\"#0d0887\"],[0.1111111111111111,\"#46039f\"],[0.2222222222222222,\"#7201a8\"],[0.3333333333333333,\"#9c179e\"],[0.4444444444444444,\"#bd3786\"],[0.5555555555555556,\"#d8576b\"],[0.6666666666666666,\"#ed7953\"],[0.7777777777777778,\"#fb9f3a\"],[0.8888888888888888,\"#fdca26\"],[1.0,\"#f0f921\"]]}],\"surface\":[{\"type\":\"surface\",\"colorbar\":{\"outlinewidth\":0,\"ticks\":\"\"},\"colorscale\":[[0.0,\"#0d0887\"],[0.1111111111111111,\"#46039f\"],[0.2222222222222222,\"#7201a8\"],[0.3333333333333333,\"#9c179e\"],[0.4444444444444444,\"#bd3786\"],[0.5555555555555556,\"#d8576b\"],[0.6666666666666666,\"#ed7953\"],[0.7777777777777778,\"#fb9f3a\"],[0.8888888888888888,\"#fdca26\"],[1.0,\"#f0f921\"]]}],\"mesh3d\":[{\"type\":\"mesh3d\",\"colorbar\":{\"outlinewidth\":0,\"ticks\":\"\"}}],\"scatter\":[{\"fillpattern\":{\"fillmode\":\"overlay\",\"size\":10,\"solidity\":0.2},\"type\":\"scatter\"}],\"parcoords\":[{\"type\":\"parcoords\",\"line\":{\"colorbar\":{\"outlinewidth\":0,\"ticks\":\"\"}}}],\"scatterpolargl\":[{\"type\":\"scatterpolargl\",\"marker\":{\"colorbar\":{\"outlinewidth\":0,\"ticks\":\"\"}}}],\"bar\":[{\"error_x\":{\"color\":\"#2a3f5f\"},\"error_y\":{\"color\":\"#2a3f5f\"},\"marker\":{\"line\":{\"color\":\"#E5ECF6\",\"width\":0.5},\"pattern\":{\"fillmode\":\"overlay\",\"size\":10,\"solidity\":0.2}},\"type\":\"bar\"}],\"scattergeo\":[{\"type\":\"scattergeo\",\"marker\":{\"colorbar\":{\"outlinewidth\":0,\"ticks\":\"\"}}}],\"scatterpolar\":[{\"type\":\"scatterpolar\",\"marker\":{\"colorbar\":{\"outlinewidth\":0,\"ticks\":\"\"}}}],\"histogram\":[{\"marker\":{\"pattern\":{\"fillmode\":\"overlay\",\"size\":10,\"solidity\":0.2}},\"type\":\"histogram\"}],\"scattergl\":[{\"type\":\"scattergl\",\"marker\":{\"colorbar\":{\"outlinewidth\":0,\"ticks\":\"\"}}}],\"scatter3d\":[{\"type\":\"scatter3d\",\"line\":{\"colorbar\":{\"outlinewidth\":0,\"ticks\":\"\"}},\"marker\":{\"colorbar\":{\"outlinewidth\":0,\"ticks\":\"\"}}}],\"scattermapbox\":[{\"type\":\"scattermapbox\",\"marker\":{\"colorbar\":{\"outlinewidth\":0,\"ticks\":\"\"}}}],\"scatterternary\":[{\"type\":\"scatterternary\",\"marker\":{\"colorbar\":{\"outlinewidth\":0,\"ticks\":\"\"}}}],\"scattercarpet\":[{\"type\":\"scattercarpet\",\"marker\":{\"colorbar\":{\"outlinewidth\":0,\"ticks\":\"\"}}}],\"carpet\":[{\"aaxis\":{\"endlinecolor\":\"#2a3f5f\",\"gridcolor\":\"white\",\"linecolor\":\"white\",\"minorgridcolor\":\"white\",\"startlinecolor\":\"#2a3f5f\"},\"baxis\":{\"endlinecolor\":\"#2a3f5f\",\"gridcolor\":\"white\",\"linecolor\":\"white\",\"minorgridcolor\":\"white\",\"startlinecolor\":\"#2a3f5f\"},\"type\":\"carpet\"}],\"table\":[{\"cells\":{\"fill\":{\"color\":\"#EBF0F8\"},\"line\":{\"color\":\"white\"}},\"header\":{\"fill\":{\"color\":\"#C8D4E3\"},\"line\":{\"color\":\"white\"}},\"type\":\"table\"}],\"barpolar\":[{\"marker\":{\"line\":{\"color\":\"#E5ECF6\",\"width\":0.5},\"pattern\":{\"fillmode\":\"overlay\",\"size\":10,\"solidity\":0.2}},\"type\":\"barpolar\"}],\"pie\":[{\"automargin\":true,\"type\":\"pie\"}]},\"layout\":{\"autotypenumbers\":\"strict\",\"colorway\":[\"#636efa\",\"#EF553B\",\"#00cc96\",\"#ab63fa\",\"#FFA15A\",\"#19d3f3\",\"#FF6692\",\"#B6E880\",\"#FF97FF\",\"#FECB52\"],\"font\":{\"color\":\"#2a3f5f\"},\"hovermode\":\"closest\",\"hoverlabel\":{\"align\":\"left\"},\"paper_bgcolor\":\"white\",\"plot_bgcolor\":\"#E5ECF6\",\"polar\":{\"bgcolor\":\"#E5ECF6\",\"angularaxis\":{\"gridcolor\":\"white\",\"linecolor\":\"white\",\"ticks\":\"\"},\"radialaxis\":{\"gridcolor\":\"white\",\"linecolor\":\"white\",\"ticks\":\"\"}},\"ternary\":{\"bgcolor\":\"#E5ECF6\",\"aaxis\":{\"gridcolor\":\"white\",\"linecolor\":\"white\",\"ticks\":\"\"},\"baxis\":{\"gridcolor\":\"white\",\"linecolor\":\"white\",\"ticks\":\"\"},\"caxis\":{\"gridcolor\":\"white\",\"linecolor\":\"white\",\"ticks\":\"\"}},\"coloraxis\":{\"colorbar\":{\"outlinewidth\":0,\"ticks\":\"\"}},\"colorscale\":{\"sequential\":[[0.0,\"#0d0887\"],[0.1111111111111111,\"#46039f\"],[0.2222222222222222,\"#7201a8\"],[0.3333333333333333,\"#9c179e\"],[0.4444444444444444,\"#bd3786\"],[0.5555555555555556,\"#d8576b\"],[0.6666666666666666,\"#ed7953\"],[0.7777777777777778,\"#fb9f3a\"],[0.8888888888888888,\"#fdca26\"],[1.0,\"#f0f921\"]],\"sequentialminus\":[[0.0,\"#0d0887\"],[0.1111111111111111,\"#46039f\"],[0.2222222222222222,\"#7201a8\"],[0.3333333333333333,\"#9c179e\"],[0.4444444444444444,\"#bd3786\"],[0.5555555555555556,\"#d8576b\"],[0.6666666666666666,\"#ed7953\"],[0.7777777777777778,\"#fb9f3a\"],[0.8888888888888888,\"#fdca26\"],[1.0,\"#f0f921\"]],\"diverging\":[[0,\"#8e0152\"],[0.1,\"#c51b7d\"],[0.2,\"#de77ae\"],[0.3,\"#f1b6da\"],[0.4,\"#fde0ef\"],[0.5,\"#f7f7f7\"],[0.6,\"#e6f5d0\"],[0.7,\"#b8e186\"],[0.8,\"#7fbc41\"],[0.9,\"#4d9221\"],[1,\"#276419\"]]},\"xaxis\":{\"gridcolor\":\"white\",\"linecolor\":\"white\",\"ticks\":\"\",\"title\":{\"standoff\":15},\"zerolinecolor\":\"white\",\"automargin\":true,\"zerolinewidth\":2},\"yaxis\":{\"gridcolor\":\"white\",\"linecolor\":\"white\",\"ticks\":\"\",\"title\":{\"standoff\":15},\"zerolinecolor\":\"white\",\"automargin\":true,\"zerolinewidth\":2},\"scene\":{\"xaxis\":{\"backgroundcolor\":\"#E5ECF6\",\"gridcolor\":\"white\",\"linecolor\":\"white\",\"showbackground\":true,\"ticks\":\"\",\"zerolinecolor\":\"white\",\"gridwidth\":2},\"yaxis\":{\"backgroundcolor\":\"#E5ECF6\",\"gridcolor\":\"white\",\"linecolor\":\"white\",\"showbackground\":true,\"ticks\":\"\",\"zerolinecolor\":\"white\",\"gridwidth\":2},\"zaxis\":{\"backgroundcolor\":\"#E5ECF6\",\"gridcolor\":\"white\",\"linecolor\":\"white\",\"showbackground\":true,\"ticks\":\"\",\"zerolinecolor\":\"white\",\"gridwidth\":2}},\"shapedefaults\":{\"line\":{\"color\":\"#2a3f5f\"}},\"annotationdefaults\":{\"arrowcolor\":\"#2a3f5f\",\"arrowhead\":0,\"arrowwidth\":1},\"geo\":{\"bgcolor\":\"white\",\"landcolor\":\"#E5ECF6\",\"subunitcolor\":\"white\",\"showland\":true,\"showlakes\":true,\"lakecolor\":\"white\"},\"title\":{\"x\":0.05},\"mapbox\":{\"style\":\"light\"}}},\"xaxis2\":{\"anchor\":\"y2\",\"domain\":[0.0,1.0],\"linecolor\":\"#3b0280\",\"showgrid\":false,\"mirror\":true,\"zeroline\":false,\"matches\":\"x\",\"title\":{\"text\":\"Time\"}},\"yaxis2\":{\"anchor\":\"x2\",\"domain\":[0.0,0.375],\"linecolor\":\"#3b0280\",\"showgrid\":false,\"title\":{\"text\":\"RMSLE\"},\"mirror\":true,\"zeroline\":false},\"annotations\":[{\"font\":{\"size\":16},\"showarrow\":false,\"text\":\"Estimated \\u003cb\\u003eRMSE\\u003c\\u002fb\\u003e\",\"x\":0.5,\"xanchor\":\"center\",\"xref\":\"paper\",\"y\":1.0,\"yanchor\":\"bottom\",\"yref\":\"paper\"},{\"font\":{\"size\":16},\"showarrow\":false,\"text\":\"Estimated \\u003cb\\u003eRMSLE\\u003c\\u002fb\\u003e\",\"x\":0.5,\"xanchor\":\"center\",\"xref\":\"paper\",\"y\":0.375,\"yanchor\":\"bottom\",\"yref\":\"paper\"},{\"showarrow\":false,\"text\":\"Reference\",\"x\":\"2017-02-03T20:00:00\",\"xref\":\"x\",\"xshift\":10,\"y\":1.01,\"yref\":\"y domain\"},{\"showarrow\":false,\"text\":\"Analysis\",\"x\":\"2017-02-27T04:00:00\",\"xref\":\"x\",\"xshift\":15,\"y\":1.01,\"yref\":\"y domain\"},{\"showarrow\":false,\"text\":\"Reference\",\"x\":\"2017-02-03T20:00:00\",\"xref\":\"x2\",\"xshift\":10,\"y\":1.01,\"yref\":\"y2 domain\"},{\"showarrow\":false,\"text\":\"Analysis\",\"x\":\"2017-02-27T04:00:00\",\"xref\":\"x2\",\"xshift\":15,\"y\":1.01,\"yref\":\"y2 domain\"}],\"shapes\":[{\"layer\":\"below\",\"line\":{\"color\":\"#666666\",\"width\":1},\"type\":\"line\",\"x0\":\"2017-02-16T16:00:00\",\"x1\":\"2017-02-16T16:00:00\",\"xref\":\"x\",\"y0\":0,\"y1\":1,\"yref\":\"y domain\"},{\"layer\":\"below\",\"line\":{\"color\":\"#666666\",\"width\":1},\"type\":\"line\",\"x0\":\"2017-02-16T16:00:00\",\"x1\":\"2017-02-16T16:00:00\",\"xref\":\"x\",\"y0\":0,\"y1\":1,\"yref\":\"y domain\"},{\"layer\":\"below\",\"line\":{\"color\":\"#666666\",\"width\":1},\"type\":\"line\",\"x0\":\"2017-02-16T16:00:00\",\"x1\":\"2017-02-16T16:00:00\",\"xref\":\"x2\",\"y0\":0,\"y1\":1,\"yref\":\"y2 domain\"}]},                        {\"responsive\": true}                    ).then(function(){\n",
       "                            \n",
       "var gd = document.getElementById('e9640a6e-c48b-4cd3-83d8-e13ccdf435df');\n",
       "var x = new MutationObserver(function (mutations, observer) {{\n",
       "        var display = window.getComputedStyle(gd).display;\n",
       "        if (!display || display === 'none') {{\n",
       "            console.log([gd, 'removed!']);\n",
       "            Plotly.purge(gd);\n",
       "            observer.disconnect();\n",
       "        }}\n",
       "}});\n",
       "\n",
       "// Listen for the removal of the full notebook cells\n",
       "var notebookContainer = gd.closest('#notebook-container');\n",
       "if (notebookContainer) {{\n",
       "    x.observe(notebookContainer, {childList: true});\n",
       "}}\n",
       "\n",
       "// Listen for the clearing of the current output cell\n",
       "var outputEl = gd.closest('.output');\n",
       "if (outputEl) {{\n",
       "    x.observe(outputEl, {childList: true});\n",
       "}}\n",
       "\n",
       "                        })                };                });            </script>        </div>"
      ]
     },
     "metadata": {},
     "output_type": "display_data"
    }
   ],
   "source": [
    "metric_fig.show()"
   ]
  },
  {
   "cell_type": "code",
   "execution_count": null,
   "id": "61713350-a6fc-444b-b083-6b61fe7e8a35",
   "metadata": {},
   "outputs": [],
   "source": []
  }
 ],
 "metadata": {
  "kernelspec": {
   "display_name": "Python 3 (ipykernel)",
   "language": "python",
   "name": "python3"
  },
  "language_info": {
   "codemirror_mode": {
    "name": "ipython",
    "version": 3
   },
   "file_extension": ".py",
   "mimetype": "text/x-python",
   "name": "python",
   "nbconvert_exporter": "python",
   "pygments_lexer": "ipython3",
   "version": "3.10.13"
  }
 },
 "nbformat": 4,
 "nbformat_minor": 5
}
