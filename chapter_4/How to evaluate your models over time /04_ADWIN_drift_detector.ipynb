{
 "cells": [
  {
   "cell_type": "code",
   "execution_count": null,
   "id": "acbcce99-ba2c-4792-a4c1-9df2dadbffec",
   "metadata": {
    "tags": []
   },
   "outputs": [],
   "source": [
    "import numpy as np \n",
    "import pandas as pd\n",
    "import seaborn as sns\n",
    "import matplotlib.pyplot as plt\n",
    "import pickle\n",
    "from matplotlib import gridspec"
   ]
  },
  {
   "cell_type": "code",
   "execution_count": null,
   "id": "36b9c7ae-244f-4174-a2f7-65c0fbcd5564",
   "metadata": {
    "tags": []
   },
   "outputs": [],
   "source": [
    "# import river modules\n",
    "from river import datasets\n",
    "from river import evaluate\n",
    "from river import metrics\n",
    "from river import optim\n",
    "from river import preprocessing\n",
    "from river import linear_model\n",
    "from river import drift"
   ]
  },
  {
   "cell_type": "markdown",
   "id": "fed8c545-7071-47cc-a1c8-7906097c0b64",
   "metadata": {},
   "source": [
    "#### ADWIN Drift detector without Warnings"
   ]
  },
  {
   "cell_type": "code",
   "execution_count": null,
   "id": "91cd2265-8f81-4ec4-bf35-040ceb620bd1",
   "metadata": {
    "tags": []
   },
   "outputs": [],
   "source": [
    "# Initialize Dataset\n",
    "dataset = datasets.synth.Agrawal(\n",
    "     classification_function=5,\n",
    "     seed=42\n",
    ")\n",
    "\n",
    "# Loading model pickle file\n",
    "LRmodel = pickle.load(open('saved_models/classification/model.pkl', 'rb'))\n",
    "\n",
    "# Initialie the ADWIN drift detector\n",
    "drift_detector = drift.ADWIN(delta=1)\n",
    "drifts = list()\n",
    "correctly_classified_data = list()\n",
    "\n",
    "# Initialise metric\n",
    "metric = metrics.Accuracy()\n",
    "\n",
    "for i,data in enumerate(dataset.take(16000)):\n",
    "    # data[0] - features, data[1] - label\n",
    "    \n",
    "    # Data is processed one sample at a time\n",
    "    y_pred = LRmodel.predict_one(data[0])\n",
    "    metric = metric.update(data[1],y_pred)\n",
    "    correctly_classified = y_pred == data[1]\n",
    "    correctly_classified_data.append(correctly_classified)\n",
    "    drift_detector.update(correctly_classified)   \n",
    "    if drift_detector.drift_detected:\n",
    "        # The drift detector indicates after each sample if there is a drift in the data\n",
    "        print(f'Change detected at index {i}')\n",
    "        drifts.append(i)\n",
    "\n",
    "print(f'{metric}')"
   ]
  },
  {
   "cell_type": "code",
   "execution_count": null,
   "id": "afd97a5a-b19f-4694-926b-b93fdccaf4ec",
   "metadata": {
    "tags": []
   },
   "outputs": [],
   "source": [
    "drifts"
   ]
  },
  {
   "cell_type": "code",
   "execution_count": null,
   "id": "6d64913d-da06-429d-b581-1bfb567672e7",
   "metadata": {
    "tags": []
   },
   "outputs": [],
   "source": [
    "# Function to return datastream samples with a rolling average mean window\n",
    "def moving_average(datastream, window_size):\n",
    "\n",
    "    datastream_series = pd.Series(datastream)\n",
    "    windows = datastream_series.rolling(window_size)\n",
    "    moving_averages = windows.mean()\n",
    "\n",
    "    return moving_averages.tolist()[window_size - 1:]"
   ]
  },
  {
   "cell_type": "code",
   "execution_count": null,
   "id": "bc528586-5017-4698-95ae-b5a2fd805cca",
   "metadata": {
    "tags": []
   },
   "outputs": [],
   "source": [
    "new_data_stream = moving_average(correctly_classified_data,100)"
   ]
  },
  {
   "cell_type": "code",
   "execution_count": null,
   "id": "0b0e13ba-9971-4cab-96a8-911cde08053e",
   "metadata": {
    "tags": []
   },
   "outputs": [],
   "source": [
    "# Plot Drift using ADWIN\n",
    "def plot_data(data_stream, drifts=None):\n",
    "    fig = plt.figure(figsize=(20,6), tight_layout=True)\n",
    "    gs = gridspec.GridSpec(1, 2, width_ratios=[3, 1])\n",
    "    ax = plt.subplot(gs[0])\n",
    "    ax.plot(data_stream, label='Stream')\n",
    "    if drifts is not None:\n",
    "        for drift_detected in drifts:\n",
    "            ax.axvline(drift_detected, color='red')\n",
    "    plt.xlabel('Data Stream Samples')\n",
    "    plt.ylabel('Accuracy Scores')\n",
    "    plt.title('Concept Drift detection')\n",
    "    plt.legend()\n",
    "    plt.show()\n",
    "\n",
    "plot_data(new_data_stream[:2500], drifts)"
   ]
  },
  {
   "cell_type": "markdown",
   "id": "c6ec4fc2-a5c4-4b5b-9edf-dd49dc0c6119",
   "metadata": {},
   "source": [
    "#### Drift detection with Warning"
   ]
  },
  {
   "cell_type": "code",
   "execution_count": null,
   "id": "c8a2e442-b369-4910-aeaf-32939506a200",
   "metadata": {
    "tags": []
   },
   "outputs": [],
   "source": [
    "# Initialize Dataset\n",
    "dataset = datasets.synth.Agrawal(\n",
    "     classification_function=5,\n",
    "     seed=42\n",
    ")\n",
    "\n",
    "# Load model pickle file\n",
    "LRmodel = pickle.load(open('saved_models/classification/model.pkl', 'rb'))\n",
    "\n",
    "# Initialize Warning and Drift detectors\n",
    "warning_detector = drift.ADWIN(delta=1.5)\n",
    "drift_detector = drift.ADWIN(delta=1)\n",
    "\n",
    "# Lists to store drifts, warnings and correctly_classified_data\n",
    "drifts1, warnings1, correctly_classified_data1 = list(), list(), list()\n",
    "\n",
    "# Initialize metrics\n",
    "metric = metrics.Accuracy()\n",
    "for i,data in enumerate(dataset.take(2500)):\n",
    "    y_pred = LRmodel.predict_one(data[0])\n",
    "    correctly_classified = y_pred==data[1] # checking accuracy\n",
    "    correctly_classified_data1.append(correctly_classified)\n",
    "    warning_detector.update(correctly_classified)   # Data is processed one sample at a time\n",
    "    if warning_detector.drift_detected:\n",
    "        # The Warning detector indicates after each sample if there is a drift in the data\n",
    "        print(f'Warning detected at index {i}')\n",
    "        warnings1.append(i)\n",
    "    drift_detector.update(correctly_classified)   # Data is processed one sample at a time\n",
    "    if drift_detector.drift_detected:\n",
    "        # The drift detector indicates after each sample if there is a drift in the data\n",
    "        print(f'Drift detected at index {i}')\n",
    "        drifts1.append(i)"
   ]
  },
  {
   "cell_type": "code",
   "execution_count": null,
   "id": "a59528b9-7a9f-4e72-819f-b840f94a36a5",
   "metadata": {
    "tags": []
   },
   "outputs": [],
   "source": [
    "drifts1"
   ]
  },
  {
   "cell_type": "code",
   "execution_count": null,
   "id": "fced2cde-a69f-410e-acae-fdc41ee81b80",
   "metadata": {
    "tags": []
   },
   "outputs": [],
   "source": [
    "warnings1"
   ]
  },
  {
   "cell_type": "code",
   "execution_count": null,
   "id": "6bdb1b4f-eb07-4593-a75c-1dd5f8699f50",
   "metadata": {},
   "outputs": [],
   "source": [
    "new_data_stream1 = moving_average(correctly_classified_data1,100)"
   ]
  },
  {
   "cell_type": "code",
   "execution_count": null,
   "id": "0ab60769-2cff-43d4-9d33-bdc8e4de01bd",
   "metadata": {
    "tags": []
   },
   "outputs": [],
   "source": [
    "def plot_data(data_stream,drifts=None, warnings=None):\n",
    "    fig = plt.figure(figsize=(20,6), tight_layout=True)\n",
    "    gs = gridspec.GridSpec(1, 2, width_ratios=[3, 1])\n",
    "    ax = plt.subplot(gs[0])\n",
    "    ax.plot(data_stream, label='Stream')\n",
    "    if drifts is not None:\n",
    "        for drift_detected in drifts:\n",
    "            ax.axvline(drift_detected, color='red')\n",
    "    if warnings is not None:\n",
    "        for warnings_detected in warnings:\n",
    "            ax.axvline(warnings_detected, color='orange')\n",
    "    plt.xlabel('Data Stream Samples')\n",
    "    plt.ylabel('Accuracy Scores')\n",
    "    plt.title('Concept Drift detection with Warnings')\n",
    "    plt.legend()\n",
    "    plt.show()\n",
    "    plt.show()\n",
    "\n",
    "plot_data(new_data_stream1, drifts1, warnings1)"
   ]
  },
  {
   "cell_type": "code",
   "execution_count": null,
   "id": "f7f8065c-33c8-4b54-a12a-3b6d470aefc5",
   "metadata": {
    "tags": []
   },
   "outputs": [],
   "source": [
    "# Initialize Dataset\n",
    "dataset = datasets.synth.Agrawal(\n",
    "     classification_function=5,\n",
    "     seed=42\n",
    ")\n",
    "\n",
    "# Load model pickle file\n",
    "LRmodel = pickle.load(open('saved_models/classification/model.pkl', 'rb'))\n",
    "\n",
    "# Initialize Warning and Drift detectors\n",
    "warning_detector = drift.ADWIN(delta=1.5)\n",
    "drift_detector = drift.ADWIN(delta=1)\n",
    "\n",
    "# Lists to store drifts, warnings and correctly_classified_data\n",
    "drifts2, warnings2, correctly_classified_data2 = list(), list(), list()\n",
    "\n",
    "# Initialize metrics\n",
    "metric = metrics.Accuracy()\n",
    "\n",
    "# Taking 20000 samples\n",
    "for i,data in enumerate(dataset.take(20000)):\n",
    "    y_pred = LRmodel.predict_one(data[0])\n",
    "    correctly_classified = y_pred==data[1]  # checking accuracy\n",
    "    correctly_classified_data2.append(correctly_classified)\n",
    "    warning_detector.update(correctly_classified)   # Data is processed one sample at a time\n",
    "    if warning_detector.drift_detected:\n",
    "        # The Warning detector indicates after each sample if there is a drift in the data\n",
    "        print(f'Warning detected at index {i}')\n",
    "        warnings2.append(i)\n",
    "    drift_detector.update(correctly_classified)   # Data is processed one sample at a time\n",
    "    if drift_detector.drift_detected:\n",
    "        # The drift detector indicates after each sample if there is a drift in the data\n",
    "        print(f'Drift detected at index {i}')\n",
    "        drifts2.append(i)"
   ]
  },
  {
   "cell_type": "code",
   "execution_count": null,
   "id": "6f808ff5-f5fc-44c1-bd00-2881f5319c31",
   "metadata": {
    "tags": []
   },
   "outputs": [],
   "source": [
    "new_data_stream2 = moving_average(correctly_classified_data2,100)"
   ]
  },
  {
   "cell_type": "code",
   "execution_count": null,
   "id": "f811db43-7990-4a01-9706-255bf860f831",
   "metadata": {
    "tags": []
   },
   "outputs": [],
   "source": [
    "plot_data(new_data_stream2, drifts2, warnings2)"
   ]
  },
  {
   "cell_type": "code",
   "execution_count": null,
   "id": "faecd6f4-0ae9-4a46-ac8c-81b8c10aa478",
   "metadata": {},
   "outputs": [],
   "source": []
  }
 ],
 "metadata": {
  "kernelspec": {
   "display_name": "Python 3 (ipykernel)",
   "language": "python",
   "name": "python3"
  },
  "language_info": {
   "codemirror_mode": {
    "name": "ipython",
    "version": 3
   },
   "file_extension": ".py",
   "mimetype": "text/x-python",
   "name": "python",
   "nbconvert_exporter": "python",
   "pygments_lexer": "ipython3",
   "version": "3.10.13"
  }
 },
 "nbformat": 4,
 "nbformat_minor": 5
}
