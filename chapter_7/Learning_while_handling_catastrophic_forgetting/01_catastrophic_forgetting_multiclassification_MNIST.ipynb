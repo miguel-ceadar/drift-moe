{
 "cells": [
  {
   "cell_type": "markdown",
   "metadata": {},
   "source": [
    "# Catastrophic forgetting for multi-classification"
   ]
  },
  {
   "cell_type": "code",
   "execution_count": 1,
   "metadata": {},
   "outputs": [
    {
     "data": {
      "text/plain": [
       "<torch._C.Generator at 0x136fee05fb0>"
      ]
     },
     "execution_count": 1,
     "metadata": {},
     "output_type": "execute_result"
    }
   ],
   "source": [
    "from __future__ import print_function\n",
    "import argparse\n",
    "import torch\n",
    "import torch.nn as nn\n",
    "import torch.nn.functional as F\n",
    "import torch.optim as optim\n",
    "from torchvision import datasets, transforms\n",
    "from torch.optim.lr_scheduler import StepLR\n",
    "from torch.utils.data import random_split\n",
    "from torch.utils.data import Subset, DataLoader, random_split\n",
    "from torchvision import datasets, transforms\n",
    "import torch.optim as optim\n",
    "from torch.optim.lr_scheduler import StepLR\n",
    "import matplotlib.pyplot as plt\n",
    "import os\n",
    "import numpy as np\n",
    "from sklearn.metrics import confusion_matrix, classification_report\n",
    "import pandas as pd \n",
    "import models as models\n",
    "# Set the seed for PyTorch\n",
    "torch.manual_seed(42)"
   ]
  },
  {
   "cell_type": "markdown",
   "metadata": {},
   "source": [
    "Adapted from Original Pytorch github https://github.com/pytorch/examples/blob/main/mnist/main.py "
   ]
  },
  {
   "cell_type": "code",
   "execution_count": 2,
   "metadata": {},
   "outputs": [],
   "source": [
    "def auto_remap_target(target, class_list):\n",
    "    \"\"\"\n",
    "    Automatically remap target values to the range [0, num_classes-1].\n",
    "\n",
    "    Args:\n",
    "    - target (torch.Tensor): Target tensor with original class indices.\n",
    "    - class_list (list): List of class indices in your classification task.\n",
    "\n",
    "    Returns:\n",
    "    - torch.Tensor: Remapped target tensor.\n",
    "    \"\"\"\n",
    "    remap_dict = {class_val: idx for idx, class_val in enumerate(class_list)}\n",
    "    remapped_target = torch.tensor([remap_dict[val.item()] for val in target])\n",
    "    return remapped_target\n",
    "\n",
    "def inverse_remap_target(remapped_target, class_list):\n",
    "    \"\"\"\n",
    "    Map remapped target values back to their original values.\n",
    "\n",
    "    Args:\n",
    "    - remapped_target (torch.Tensor): Remapped target tensor.\n",
    "    - class_list (list): List of class indices in your classification task.\n",
    "\n",
    "    Returns:\n",
    "    - torch.Tensor: Original target tensor.\n",
    "    \"\"\"\n",
    "    original_target = torch.tensor([class_list[idx] for idx in remapped_target])\n",
    "    return original_target\n",
    "\n",
    "\n",
    "\n",
    "def train(args, model, device, train_loader, optimizer, epoch, label_types=[0, 1, 2, 3, 4, 9]):\n",
    "    \"\"\"\n",
    "    Train the neural network model using negative log-likelihood loss for multi classification.\n",
    "\n",
    "    Args:\n",
    "    - args: Commacnd-line arguments and configurations.\n",
    "    - model: The neural network model to be trained.\n",
    "    - device: The device to which data and model should be moved (e.g., \"cuda\" for GPU or \"cpu\").\n",
    "    - train_loader: DataLoader providing training data.\n",
    "    - optimizer: Optimizer for updating model parameters.\n",
    "    - epoch: The current epoch number.\n",
    "    - label_types: unique labels per task\n",
    "\n",
    "    Returns:\n",
    "    - accuracy: Accuracy of the model on the training set.\n",
    "    - average_loss: Average binary cross-entropy loss over the training set.\n",
    "    \"\"\"\n",
    "    model.train()\n",
    "    total_loss = 0.0\n",
    "    correct = 0\n",
    "    \n",
    "\n",
    "    for batch_idx, (data, target) in enumerate(train_loader):\n",
    "        data, target = data.to(device), target.to(device)\n",
    "        optimizer.zero_grad()\n",
    "        output = model(data)\n",
    "        remapped_target = auto_remap_target(target, label_types)\n",
    "        \n",
    "        loss = F.nll_loss(output, remapped_target)\n",
    "        total_loss += loss.item()\n",
    "        pred = output.argmax(dim=1, keepdim=True)\n",
    "        pred = inverse_remap_target(pred, label_types)\n",
    "        correct += pred.eq(target.view_as(pred)).sum().item()\n",
    "\n",
    "        loss.backward()\n",
    "        optimizer.step()\n",
    "\n",
    "        if batch_idx % args.log_interval == 0:\n",
    "            print('Train Epoch: {} [{}/{} ({:.0f}%)]\\tLoss: {:.6f}'.format(\n",
    "                epoch, batch_idx * len(data), len(train_loader.dataset),\n",
    "                100. * batch_idx / len(train_loader), loss.item()))\n",
    "            if args.dry_run:\n",
    "                break\n",
    "\n",
    "    # Calculate and return the average loss and accuracy\n",
    "    average_loss = total_loss / len(train_loader.dataset)\n",
    "    accuracy = 100.*correct / len(train_loader.dataset)\n",
    "    return accuracy, average_loss\n",
    "\n",
    "def validate(model, device, dataloader, label_types=[0, 1, 2, 3, 4, 9]):\n",
    "    \"\"\"\n",
    "    Evaluate the neural network model on a validation or test set using binary cross-entropy loss for binary classification.\n",
    "\n",
    "    Args:\n",
    "    - model: The neural network model to be evaluated.\n",
    "    - device: The device to which data and model should be moved (e.g., \"cuda\" for GPU or \"cpu\").\n",
    "    - test_loader: DataLoader providing validation or test data.\n",
    "\n",
    "    Returns:\n",
    "    - accuracy: Accuracy of the model on the validation or test set.\n",
    "    - val_loss: Binary cross-entropy loss on the validation or test set.\n",
    "    - all_predictions: Predicted labels for all instances in the validation or test set.\n",
    "    - all_labels: True labels for all instances in the validation or test set.\n",
    "    \"\"\"\n",
    "    model.eval()\n",
    "    val_loss = 0\n",
    "    correct = 0\n",
    "    \n",
    "    all_predictions = []\n",
    "    all_labels = []\n",
    "\n",
    "    \n",
    "    with torch.no_grad():\n",
    "            for data, target in dataloader:\n",
    "                \n",
    "                data, target = data.to(device), target.to(device)\n",
    "                output = model(data)\n",
    "        \n",
    "                remapped_target = auto_remap_target(target, label_types)\n",
    "                val_loss = F.nll_loss(output, remapped_target, reduction='sum').item()\n",
    "                pred = output.argmax(dim=1)  # get the index of the max log-probability\n",
    "                pred = inverse_remap_target(pred, label_types)\n",
    "                correct += pred.eq(target.view_as(pred)).sum().item()\n",
    "                all_predictions.append(pred.cpu().numpy())\n",
    "                all_labels.append(target.cpu().numpy())\n",
    "    \n",
    "    # Convert lists to numpy arrays\n",
    "    all_predictions = np.array(all_predictions).squeeze(0)\n",
    "    all_labels = np.array(all_labels).squeeze(0)\n",
    "    \n",
    "    val_loss /= len(dataloader.dataset)\n",
    "    accuracy = 100. * correct / len(dataloader.dataset)\n",
    "    print('\\Val set: Average loss: {:.4f}, Accuracy: {}/{} ({:.0f}%)\\n'.format(\n",
    "        val_loss, correct, len(dataloader.dataset),\n",
    "        100. * correct / len(dataloader.dataset)))\n",
    "    \n",
    "    return accuracy, val_loss, all_predictions, all_labels\n",
    "    \n",
    "def train_and_validate(args, \n",
    "                       model, \n",
    "                       device, \n",
    "                       train_loader, \n",
    "                       val_loader, \n",
    "                       optimizer, \n",
    "                       scheduler, \n",
    "                       title = \"\", \n",
    "                       type_label=[0, 1, 2, 3, 4, 9],\n",
    "                       model_path= \"model.pt\"):\n",
    "    \"\"\"\n",
    "    Train and validate a neural network model across multiple epochs.\n",
    "\n",
    "    Args:\n",
    "    - args: Command-line arguments and configurations.\n",
    "    - model: The neural network model to be trained and validated.\n",
    "    - device: The device to which data and model should be moved (e.g., \"cuda\" for GPU or \"cpu\").\n",
    "    - train_loader: DataLoader providing training data.\n",
    "    - val_loader: DataLoader providing validation or test data.\n",
    "    - optimizer: Optimizer for updating model parameters.\n",
    "    - scheduler: Learning rate scheduler.\n",
    "    - title: Title for the plot (optional).\n",
    "    - model_path: path to store the model\n",
    "\n",
    "    Returns:\n",
    "    - all_predictions: Predicted labels for all instances in the validation or test set.\n",
    "    - all_labels: True labels for all instances in the validation or test set.\n",
    "    \"\"\"\n",
    "    train_losses = [] \n",
    "    train_accuracies = [] \n",
    "    val_accuracies = [] \n",
    "    val_losses = [] \n",
    "    best_val_loss = float('inf')\n",
    "    best_epoch = 0\n",
    "\n",
    "    for epoch in range(1, args.epochs + 1):\n",
    "        train_accuracy, train_loss = train(args, model, device, train_loader, optimizer, epoch,type_label)\n",
    "        val_accuracy, val_loss, all_predictions, all_labels = validate(model, device, val_loader,type_label)\n",
    "        scheduler.step()\n",
    "        train_accuracies.append(train_accuracy)\n",
    "        train_losses.append(train_loss)\n",
    "        val_accuracies.append(val_accuracy)\n",
    "        val_losses.append(val_loss)\n",
    "        if val_loss<best_val_loss:\n",
    "            best_val_loss = val_loss\n",
    "            best_epoch = epoch\n",
    "            if os.path.exists(model_path):\n",
    "                os.remove(model_path)\n",
    "            torch.save(model.state_dict(), model_path)\n",
    "\n",
    "\n",
    "        print(f'Epoch {epoch}/{args.epochs}: Training Loss: {train_loss:.4f}, Val Accuracy: {val_accuracy:.2f}%')\n",
    "    \n",
    "    print(f\"Best validation loss: {best_val_loss:.4f} at epoch {best_epoch + 1}\")\n",
    "    # Plot loss and accuracy after all epochs\n",
    "    plot_loss_and_accuracy(train_accuracies, train_losses, val_accuracies, val_losses, title)\n",
    "    \n",
    "    return all_predictions, all_labels\n",
    "\n",
    "def save_model_state_dict(model_state_dict, filename, overwrite=True):\n",
    "    \"\"\"\n",
    "    Save the state dictionary of a PyTorch model to a file.\n",
    "\n",
    "    Args:\n",
    "    - model_state_dict: The state dictionary of the PyTorch model.\n",
    "    - filename: The name of the file to which the state dictionary will be saved.\n",
    "    - overwrite: Boolean flag indicating whether to overwrite an existing file (default is True).\n",
    "\n",
    "    Returns:\n",
    "    - None\n",
    "    \"\"\"\n",
    "    models_folder = \"models\"\n",
    "    \n",
    "    # Check if the models folder exists, if not, create it\n",
    "    if not os.path.exists(models_folder):\n",
    "        os.makedirs(models_folder)\n",
    "\n",
    "    file_path = os.path.join(models_folder, filename)\n",
    "\n",
    "    # Check if the file already exists\n",
    "    if os.path.exists(file_path) and not overwrite:\n",
    "        user_input = input(f\"The file '{filename}' already exists. Do you want to overwrite it? (yes/no): \")\n",
    "        if user_input.lower() != 'yes':\n",
    "            print(\"Model not saved.\")\n",
    "            return\n",
    "\n",
    "    # Save the model state dict\n",
    "    torch.save(model_state_dict, file_path)\n",
    "    print(f\"Model state dict saved to: {file_path}\")\n",
    "    \n",
    "def plot_loss_and_accuracy(train_accuracies, train_losses, val_accuracies, val_losses, title = \"\"):\n",
    "    fig, (ax1, ax2) = plt.subplots(1, 2, figsize=(12, 4))\n",
    "\n",
    "    # Plot Training Loss and Accuracy\n",
    "    ax1.plot(train_losses, label='Training Loss')\n",
    "    ax1.plot(train_accuracies, label='Training Accuracy')\n",
    "    ax1.set_xlabel('Epoch')\n",
    "    ax1.set_title(f'{title} - training data')\n",
    "    ax1.legend()\n",
    "\n",
    "    # Plot Testing Loss and Accuracy\n",
    "    ax2.plot(val_losses, label='Validation Loss')\n",
    "    ax2.plot(val_accuracies, label='Validation Accuracy')\n",
    "    ax2.set_xlabel('Epoch')\n",
    "    ax2.set_title(f'{title} - validation data')\n",
    "    ax2.legend()\n",
    "    \n",
    "def get_data_loaders(dataset, train_size, val_size, train_kwargs, val_kwargs):\n",
    "    train_set, val_set = random_split(dataset, [train_size, val_size])\n",
    "    train_loader = DataLoader(train_set, **train_kwargs)\n",
    "    val_loader = DataLoader(val_set, **val_kwargs)\n",
    "    print(len(train_loader), len(val_loader))\n",
    "    return train_loader, val_loader"
   ]
  },
  {
   "cell_type": "code",
   "execution_count": 3,
   "metadata": {},
   "outputs": [],
   "source": [
    "parser = argparse.ArgumentParser(description='PyTorch MNIST Example')\n",
    "parser.add_argument('--batch-size', type=int, default=2, metavar='N',\n",
    "                        help='input batch size for training (default: 64)')\n",
    "parser.add_argument('--val-batch-size', type=int, default=1000, metavar='N',\n",
    "                        help='input batch size for testing (default: 1000)')\n",
    "parser.add_argument('--epochs', type=int, default=5, metavar='N',\n",
    "                        help='number of epochs to train (default: 14)')\n",
    "parser.add_argument('--lr', type=float, default=1.0, metavar='LR',\n",
    "                        help='learning rate (default: 1.0)')\n",
    "parser.add_argument('--gamma', type=float, default=0.7, metavar='M',\n",
    "                        help='Learning rate step gamma (default: 0.7)')\n",
    "parser.add_argument('--no-cuda', action='store_true', default=False,\n",
    "                        help='disables CUDA training')\n",
    "parser.add_argument('--no-mps', action='store_true', default=False,\n",
    "                        help='disables macOS GPU training')\n",
    "parser.add_argument('--dry-run', action='store_true', default=False,\n",
    "                        help='quickly check a single pass')\n",
    "parser.add_argument('--seed', type=int, default=1, metavar='S',\n",
    "                        help='random seed (default: 1)')\n",
    "parser.add_argument('--log-interval', type=int, default=10, metavar='N',\n",
    "                        help='how many batches to wait before logging training status')\n",
    "parser.add_argument('--save-model', action='store_true', default=False,\n",
    "                        help='For Saving the current Model')\n",
    "parser.add_argument('--val_reduced', action='store_true', default=True,\n",
    "                        help='For Saving the current Model')\n",
    "parser.add_argument('--dataset', action='store_true', default=0,\n",
    "                        help='0 for MNIST, 1 for MNIST')\n",
    "parser.add_argument('--device', action='store_true', default=torch.device(\"cpu\"),\n",
    "                        help='.')\n",
    "\n",
    "args, unknown = parser.parse_known_args()\n",
    "DATASET = args.dataset\n",
    "use_cuda = not args.no_cuda and torch.cuda.is_available()\n",
    "use_mps = not args.no_mps and torch.backends.mps.is_available()\n",
    "\n",
    "device = args.device\n",
    "train_kwargs = {'batch_size': args.batch_size}\n",
    "val_kwargs = {'batch_size': args.val_batch_size}\n",
    "if 'cuda' in str(device):\n",
    "        cuda_kwargs = {'num_workers': 1, 'pin_memory': True, 'shuffle': True}\n",
    "        train_kwargs.update(cuda_kwargs)\n",
    "        val_kwargs.update(cuda_kwargs)\n",
    "\n",
    "transform = transforms.Compose([transforms.ToTensor(), transforms.Normalize((0.1307,), (0.3081,))])\n",
    "if DATASET==0:\n",
    "        mnist_dataset = datasets.MNIST(root=\"./data\", train=True, transform=transform, download=True)\n",
    "elif DATASET==1:\n",
    "        mnist_dataset = datasets.FashionMNIST(root=\"./data\", train=True, transform=transform, download=True)\n",
    "        \n",
    "if args.val_reduced:\n",
    "        sampled_indices = torch.randperm(len(mnist_dataset))[:2000]\n",
    "        mnist_dataset = Subset(mnist_dataset, sampled_indices)\n"
   ]
  },
  {
   "cell_type": "code",
   "execution_count": 4,
   "metadata": {},
   "outputs": [
    {
     "name": "stdout",
     "output_type": "stream",
     "text": [
      "Unique Labels in Dataset: {0, 1, 2, 3, 4, 5, 6, 7, 8, 9}\n",
      "Selected labels for Task 1: {0, 1, 2, 3, 4, 9}\n",
      "473 1\n",
      "Train Epoch: 1 [0/946 (0%)]\tLoss: 1.690321\n",
      "Train Epoch: 1 [20/946 (2%)]\tLoss: 1.539284\n",
      "Train Epoch: 1 [40/946 (4%)]\tLoss: 1.773937\n",
      "Train Epoch: 1 [60/946 (6%)]\tLoss: 1.304910\n",
      "Train Epoch: 1 [80/946 (8%)]\tLoss: 1.131086\n",
      "Train Epoch: 1 [100/946 (11%)]\tLoss: 0.365764\n",
      "Train Epoch: 1 [120/946 (13%)]\tLoss: 0.357656\n",
      "Train Epoch: 1 [140/946 (15%)]\tLoss: 0.915421\n",
      "Train Epoch: 1 [160/946 (17%)]\tLoss: 0.328362\n",
      "Train Epoch: 1 [180/946 (19%)]\tLoss: 0.311316\n",
      "Train Epoch: 1 [200/946 (21%)]\tLoss: 0.003434\n",
      "Train Epoch: 1 [220/946 (23%)]\tLoss: 0.329458\n",
      "Train Epoch: 1 [240/946 (25%)]\tLoss: 0.104118\n",
      "Train Epoch: 1 [260/946 (27%)]\tLoss: 1.249403\n",
      "Train Epoch: 1 [280/946 (30%)]\tLoss: 0.019888\n",
      "Train Epoch: 1 [300/946 (32%)]\tLoss: 0.816107\n",
      "Train Epoch: 1 [320/946 (34%)]\tLoss: 0.218305\n",
      "Train Epoch: 1 [340/946 (36%)]\tLoss: 0.031429\n",
      "Train Epoch: 1 [360/946 (38%)]\tLoss: 0.025512\n",
      "Train Epoch: 1 [380/946 (40%)]\tLoss: 1.150450\n",
      "Train Epoch: 1 [400/946 (42%)]\tLoss: 0.443438\n",
      "Train Epoch: 1 [420/946 (44%)]\tLoss: 0.056527\n",
      "Train Epoch: 1 [440/946 (47%)]\tLoss: 0.011487\n",
      "Train Epoch: 1 [460/946 (49%)]\tLoss: 0.036126\n",
      "Train Epoch: 1 [480/946 (51%)]\tLoss: 0.088766\n",
      "Train Epoch: 1 [500/946 (53%)]\tLoss: 0.264680\n",
      "Train Epoch: 1 [520/946 (55%)]\tLoss: 2.269596\n",
      "Train Epoch: 1 [540/946 (57%)]\tLoss: 1.739864\n",
      "Train Epoch: 1 [560/946 (59%)]\tLoss: 0.026825\n",
      "Train Epoch: 1 [580/946 (61%)]\tLoss: 0.078353\n",
      "Train Epoch: 1 [600/946 (63%)]\tLoss: 0.009058\n",
      "Train Epoch: 1 [620/946 (66%)]\tLoss: 0.271383\n",
      "Train Epoch: 1 [640/946 (68%)]\tLoss: 0.000115\n",
      "Train Epoch: 1 [660/946 (70%)]\tLoss: 0.055056\n",
      "Train Epoch: 1 [680/946 (72%)]\tLoss: 0.052929\n",
      "Train Epoch: 1 [700/946 (74%)]\tLoss: 0.278973\n",
      "Train Epoch: 1 [720/946 (76%)]\tLoss: 0.004635\n",
      "Train Epoch: 1 [740/946 (78%)]\tLoss: 0.007249\n",
      "Train Epoch: 1 [760/946 (80%)]\tLoss: 0.087893\n",
      "Train Epoch: 1 [780/946 (82%)]\tLoss: 0.158444\n",
      "Train Epoch: 1 [800/946 (85%)]\tLoss: 0.000283\n",
      "Train Epoch: 1 [820/946 (87%)]\tLoss: 0.002327\n",
      "Train Epoch: 1 [840/946 (89%)]\tLoss: 0.000272\n",
      "Train Epoch: 1 [860/946 (91%)]\tLoss: 0.003790\n",
      "Train Epoch: 1 [880/946 (93%)]\tLoss: 0.000451\n",
      "Train Epoch: 1 [900/946 (95%)]\tLoss: 1.302202\n",
      "Train Epoch: 1 [920/946 (97%)]\tLoss: 0.158453\n",
      "Train Epoch: 1 [940/946 (99%)]\tLoss: 0.001472\n",
      "\\Val set: Average loss: 0.1005, Accuracy: 228/237 (96%)\n",
      "\n",
      "Epoch 1/5: Training Loss: 0.2705, Val Accuracy: 96.20%\n",
      "Train Epoch: 2 [0/946 (0%)]\tLoss: 0.042830\n",
      "Train Epoch: 2 [20/946 (2%)]\tLoss: 2.119572\n",
      "Train Epoch: 2 [40/946 (4%)]\tLoss: 0.046356\n",
      "Train Epoch: 2 [60/946 (6%)]\tLoss: 2.118637\n",
      "Train Epoch: 2 [80/946 (8%)]\tLoss: 0.259410\n",
      "Train Epoch: 2 [100/946 (11%)]\tLoss: 0.001898\n",
      "Train Epoch: 2 [120/946 (13%)]\tLoss: 0.000224\n",
      "Train Epoch: 2 [140/946 (15%)]\tLoss: 0.008599\n",
      "Train Epoch: 2 [160/946 (17%)]\tLoss: 0.003941\n",
      "Train Epoch: 2 [180/946 (19%)]\tLoss: 0.000627\n",
      "Train Epoch: 2 [200/946 (21%)]\tLoss: 0.007484\n",
      "Train Epoch: 2 [220/946 (23%)]\tLoss: 0.176246\n",
      "Train Epoch: 2 [240/946 (25%)]\tLoss: 0.000962\n",
      "Train Epoch: 2 [260/946 (27%)]\tLoss: 0.001365\n",
      "Train Epoch: 2 [280/946 (30%)]\tLoss: 0.000637\n",
      "Train Epoch: 2 [300/946 (32%)]\tLoss: 0.000554\n",
      "Train Epoch: 2 [320/946 (34%)]\tLoss: 0.022287\n",
      "Train Epoch: 2 [340/946 (36%)]\tLoss: 0.004839\n",
      "Train Epoch: 2 [360/946 (38%)]\tLoss: 0.025896\n",
      "Train Epoch: 2 [380/946 (40%)]\tLoss: 1.058920\n",
      "Train Epoch: 2 [400/946 (42%)]\tLoss: 0.121386\n",
      "Train Epoch: 2 [420/946 (44%)]\tLoss: 0.014439\n",
      "Train Epoch: 2 [440/946 (47%)]\tLoss: 0.000320\n",
      "Train Epoch: 2 [460/946 (49%)]\tLoss: 0.368223\n",
      "Train Epoch: 2 [480/946 (51%)]\tLoss: 0.000207\n",
      "Train Epoch: 2 [500/946 (53%)]\tLoss: 0.047406\n",
      "Train Epoch: 2 [520/946 (55%)]\tLoss: 3.690908\n",
      "Train Epoch: 2 [540/946 (57%)]\tLoss: 0.024427\n",
      "Train Epoch: 2 [560/946 (59%)]\tLoss: 0.012809\n",
      "Train Epoch: 2 [580/946 (61%)]\tLoss: 0.014379\n",
      "Train Epoch: 2 [600/946 (63%)]\tLoss: 0.000224\n",
      "Train Epoch: 2 [620/946 (66%)]\tLoss: 0.000495\n",
      "Train Epoch: 2 [640/946 (68%)]\tLoss: 0.003399\n",
      "Train Epoch: 2 [660/946 (70%)]\tLoss: 0.023124\n",
      "Train Epoch: 2 [680/946 (72%)]\tLoss: 0.000092\n",
      "Train Epoch: 2 [700/946 (74%)]\tLoss: 0.002082\n",
      "Train Epoch: 2 [720/946 (76%)]\tLoss: 0.008152\n",
      "Train Epoch: 2 [740/946 (78%)]\tLoss: 0.000076\n",
      "Train Epoch: 2 [760/946 (80%)]\tLoss: 0.000486\n",
      "Train Epoch: 2 [780/946 (82%)]\tLoss: 0.000152\n",
      "Train Epoch: 2 [800/946 (85%)]\tLoss: 0.000305\n",
      "Train Epoch: 2 [820/946 (87%)]\tLoss: 0.002166\n",
      "Train Epoch: 2 [840/946 (89%)]\tLoss: 0.000007\n",
      "Train Epoch: 2 [860/946 (91%)]\tLoss: 0.016833\n",
      "Train Epoch: 2 [880/946 (93%)]\tLoss: 0.000000\n",
      "Train Epoch: 2 [900/946 (95%)]\tLoss: 0.119460\n",
      "Train Epoch: 2 [920/946 (97%)]\tLoss: 0.007684\n",
      "Train Epoch: 2 [940/946 (99%)]\tLoss: 0.000030\n",
      "\\Val set: Average loss: 0.0875, Accuracy: 230/237 (97%)\n",
      "\n",
      "Epoch 2/5: Training Loss: 0.0822, Val Accuracy: 97.05%\n",
      "Train Epoch: 3 [0/946 (0%)]\tLoss: 1.360357\n",
      "Train Epoch: 3 [20/946 (2%)]\tLoss: 1.533548\n",
      "Train Epoch: 3 [40/946 (4%)]\tLoss: 0.003584\n",
      "Train Epoch: 3 [60/946 (6%)]\tLoss: 0.027724\n",
      "Train Epoch: 3 [80/946 (8%)]\tLoss: 0.000900\n",
      "Train Epoch: 3 [100/946 (11%)]\tLoss: 0.000068\n",
      "Train Epoch: 3 [120/946 (13%)]\tLoss: 0.040473\n",
      "Train Epoch: 3 [140/946 (15%)]\tLoss: 0.076341\n",
      "Train Epoch: 3 [160/946 (17%)]\tLoss: 0.000617\n",
      "Train Epoch: 3 [180/946 (19%)]\tLoss: 0.005831\n",
      "Train Epoch: 3 [200/946 (21%)]\tLoss: 0.000005\n",
      "Train Epoch: 3 [220/946 (23%)]\tLoss: 0.000555\n",
      "Train Epoch: 3 [240/946 (25%)]\tLoss: 0.000498\n",
      "Train Epoch: 3 [260/946 (27%)]\tLoss: 0.000442\n",
      "Train Epoch: 3 [280/946 (30%)]\tLoss: 0.000212\n",
      "Train Epoch: 3 [300/946 (32%)]\tLoss: 0.000364\n",
      "Train Epoch: 3 [320/946 (34%)]\tLoss: 0.002077\n",
      "Train Epoch: 3 [340/946 (36%)]\tLoss: 0.004533\n",
      "Train Epoch: 3 [360/946 (38%)]\tLoss: 0.000065\n",
      "Train Epoch: 3 [380/946 (40%)]\tLoss: 0.001040\n",
      "Train Epoch: 3 [400/946 (42%)]\tLoss: 0.000967\n",
      "Train Epoch: 3 [420/946 (44%)]\tLoss: 0.000970\n",
      "Train Epoch: 3 [440/946 (47%)]\tLoss: 0.001219\n",
      "Train Epoch: 3 [460/946 (49%)]\tLoss: 0.000010\n",
      "Train Epoch: 3 [480/946 (51%)]\tLoss: 0.000446\n",
      "Train Epoch: 3 [500/946 (53%)]\tLoss: 0.086676\n",
      "Train Epoch: 3 [520/946 (55%)]\tLoss: 0.743100\n",
      "Train Epoch: 3 [540/946 (57%)]\tLoss: 1.848344\n",
      "Train Epoch: 3 [560/946 (59%)]\tLoss: 0.000564\n",
      "Train Epoch: 3 [580/946 (61%)]\tLoss: 0.000047\n",
      "Train Epoch: 3 [600/946 (63%)]\tLoss: 0.000010\n",
      "Train Epoch: 3 [620/946 (66%)]\tLoss: 0.000107\n",
      "Train Epoch: 3 [640/946 (68%)]\tLoss: 0.000007\n",
      "Train Epoch: 3 [660/946 (70%)]\tLoss: 0.000001\n",
      "Train Epoch: 3 [680/946 (72%)]\tLoss: 0.002026\n",
      "Train Epoch: 3 [700/946 (74%)]\tLoss: 0.001535\n",
      "Train Epoch: 3 [720/946 (76%)]\tLoss: 0.000009\n",
      "Train Epoch: 3 [740/946 (78%)]\tLoss: 0.000074\n",
      "Train Epoch: 3 [760/946 (80%)]\tLoss: 0.000132\n",
      "Train Epoch: 3 [780/946 (82%)]\tLoss: 0.000091\n",
      "Train Epoch: 3 [800/946 (85%)]\tLoss: 0.000005\n",
      "Train Epoch: 3 [820/946 (87%)]\tLoss: 0.000381\n",
      "Train Epoch: 3 [840/946 (89%)]\tLoss: 0.000009\n",
      "Train Epoch: 3 [860/946 (91%)]\tLoss: 0.102803\n",
      "Train Epoch: 3 [880/946 (93%)]\tLoss: 0.000000\n",
      "Train Epoch: 3 [900/946 (95%)]\tLoss: 0.400757\n",
      "Train Epoch: 3 [920/946 (97%)]\tLoss: 0.037667\n",
      "Train Epoch: 3 [940/946 (99%)]\tLoss: 0.000442\n",
      "\\Val set: Average loss: 0.0495, Accuracy: 231/237 (97%)\n",
      "\n",
      "Epoch 3/5: Training Loss: 0.0598, Val Accuracy: 97.47%\n",
      "Train Epoch: 4 [0/946 (0%)]\tLoss: 0.002391\n",
      "Train Epoch: 4 [20/946 (2%)]\tLoss: 0.362074\n",
      "Train Epoch: 4 [40/946 (4%)]\tLoss: 0.002767\n",
      "Train Epoch: 4 [60/946 (6%)]\tLoss: 0.000160\n",
      "Train Epoch: 4 [80/946 (8%)]\tLoss: 0.001470\n",
      "Train Epoch: 4 [100/946 (11%)]\tLoss: 0.000003\n",
      "Train Epoch: 4 [120/946 (13%)]\tLoss: 0.000383\n",
      "Train Epoch: 4 [140/946 (15%)]\tLoss: 0.001072\n",
      "Train Epoch: 4 [160/946 (17%)]\tLoss: 0.000003\n",
      "Train Epoch: 4 [180/946 (19%)]\tLoss: 0.000044\n",
      "Train Epoch: 4 [200/946 (21%)]\tLoss: 0.000001\n",
      "Train Epoch: 4 [220/946 (23%)]\tLoss: 0.000038\n",
      "Train Epoch: 4 [240/946 (25%)]\tLoss: 0.000189\n",
      "Train Epoch: 4 [260/946 (27%)]\tLoss: 0.000113\n",
      "Train Epoch: 4 [280/946 (30%)]\tLoss: 0.000036\n",
      "Train Epoch: 4 [300/946 (32%)]\tLoss: 0.000048\n",
      "Train Epoch: 4 [320/946 (34%)]\tLoss: 0.001928\n",
      "Train Epoch: 4 [340/946 (36%)]\tLoss: 0.019802\n",
      "Train Epoch: 4 [360/946 (38%)]\tLoss: 0.002198\n",
      "Train Epoch: 4 [380/946 (40%)]\tLoss: 0.015461\n",
      "Train Epoch: 4 [400/946 (42%)]\tLoss: 0.000125\n",
      "Train Epoch: 4 [420/946 (44%)]\tLoss: 0.000367\n",
      "Train Epoch: 4 [440/946 (47%)]\tLoss: 0.000008\n",
      "Train Epoch: 4 [460/946 (49%)]\tLoss: 0.000003\n",
      "Train Epoch: 4 [480/946 (51%)]\tLoss: 0.000000\n",
      "Train Epoch: 4 [500/946 (53%)]\tLoss: 0.001819\n",
      "Train Epoch: 4 [520/946 (55%)]\tLoss: 0.195823\n",
      "Train Epoch: 4 [540/946 (57%)]\tLoss: 0.003158\n",
      "Train Epoch: 4 [560/946 (59%)]\tLoss: 0.001013\n",
      "Train Epoch: 4 [580/946 (61%)]\tLoss: 0.001607\n",
      "Train Epoch: 4 [600/946 (63%)]\tLoss: 0.000000\n",
      "Train Epoch: 4 [620/946 (66%)]\tLoss: 0.000005\n",
      "Train Epoch: 4 [640/946 (68%)]\tLoss: 0.000201\n",
      "Train Epoch: 4 [660/946 (70%)]\tLoss: 0.000051\n",
      "Train Epoch: 4 [680/946 (72%)]\tLoss: 0.000001\n",
      "Train Epoch: 4 [700/946 (74%)]\tLoss: 0.000466\n",
      "Train Epoch: 4 [720/946 (76%)]\tLoss: 0.000001\n",
      "Train Epoch: 4 [740/946 (78%)]\tLoss: 0.000117\n",
      "Train Epoch: 4 [760/946 (80%)]\tLoss: 0.000150\n",
      "Train Epoch: 4 [780/946 (82%)]\tLoss: 0.000037\n",
      "Train Epoch: 4 [800/946 (85%)]\tLoss: 0.000200\n",
      "Train Epoch: 4 [820/946 (87%)]\tLoss: 0.000000\n",
      "Train Epoch: 4 [840/946 (89%)]\tLoss: 0.000110\n",
      "Train Epoch: 4 [860/946 (91%)]\tLoss: 0.000965\n",
      "Train Epoch: 4 [880/946 (93%)]\tLoss: 0.000069\n",
      "Train Epoch: 4 [900/946 (95%)]\tLoss: 0.597332\n",
      "Train Epoch: 4 [920/946 (97%)]\tLoss: 0.013813\n",
      "Train Epoch: 4 [940/946 (99%)]\tLoss: 0.000021\n",
      "\\Val set: Average loss: 0.0491, Accuracy: 233/237 (98%)\n",
      "\n",
      "Epoch 4/5: Training Loss: 0.0430, Val Accuracy: 98.31%\n",
      "Train Epoch: 5 [0/946 (0%)]\tLoss: 0.000297\n",
      "Train Epoch: 5 [20/946 (2%)]\tLoss: 0.252984\n",
      "Train Epoch: 5 [40/946 (4%)]\tLoss: 0.002008\n",
      "Train Epoch: 5 [60/946 (6%)]\tLoss: 0.000717\n",
      "Train Epoch: 5 [80/946 (8%)]\tLoss: 0.000051\n",
      "Train Epoch: 5 [100/946 (11%)]\tLoss: 0.000001\n",
      "Train Epoch: 5 [120/946 (13%)]\tLoss: 0.000010\n",
      "Train Epoch: 5 [140/946 (15%)]\tLoss: 0.043578\n",
      "Train Epoch: 5 [160/946 (17%)]\tLoss: 0.000000\n",
      "Train Epoch: 5 [180/946 (19%)]\tLoss: 0.030271\n",
      "Train Epoch: 5 [200/946 (21%)]\tLoss: 0.000000\n",
      "Train Epoch: 5 [220/946 (23%)]\tLoss: 0.001053\n",
      "Train Epoch: 5 [240/946 (25%)]\tLoss: 0.000002\n",
      "Train Epoch: 5 [260/946 (27%)]\tLoss: 0.000081\n",
      "Train Epoch: 5 [280/946 (30%)]\tLoss: 0.000000\n",
      "Train Epoch: 5 [300/946 (32%)]\tLoss: 0.000000\n",
      "Train Epoch: 5 [320/946 (34%)]\tLoss: 0.002379\n",
      "Train Epoch: 5 [340/946 (36%)]\tLoss: 0.027970\n",
      "Train Epoch: 5 [360/946 (38%)]\tLoss: 0.000000\n",
      "Train Epoch: 5 [380/946 (40%)]\tLoss: 0.005838\n",
      "Train Epoch: 5 [400/946 (42%)]\tLoss: 0.000055\n",
      "Train Epoch: 5 [420/946 (44%)]\tLoss: 0.022268\n",
      "Train Epoch: 5 [440/946 (47%)]\tLoss: 0.000002\n",
      "Train Epoch: 5 [460/946 (49%)]\tLoss: 0.000000\n",
      "Train Epoch: 5 [480/946 (51%)]\tLoss: 0.000005\n",
      "Train Epoch: 5 [500/946 (53%)]\tLoss: 0.006574\n",
      "Train Epoch: 5 [520/946 (55%)]\tLoss: 0.404998\n",
      "Train Epoch: 5 [540/946 (57%)]\tLoss: 0.042646\n",
      "Train Epoch: 5 [560/946 (59%)]\tLoss: 0.000004\n",
      "Train Epoch: 5 [580/946 (61%)]\tLoss: 0.155481\n",
      "Train Epoch: 5 [600/946 (63%)]\tLoss: 0.000268\n",
      "Train Epoch: 5 [620/946 (66%)]\tLoss: 0.001480\n",
      "Train Epoch: 5 [640/946 (68%)]\tLoss: 0.000003\n",
      "Train Epoch: 5 [660/946 (70%)]\tLoss: 0.000400\n",
      "Train Epoch: 5 [680/946 (72%)]\tLoss: 0.000003\n",
      "Train Epoch: 5 [700/946 (74%)]\tLoss: 0.038434\n",
      "Train Epoch: 5 [720/946 (76%)]\tLoss: 0.000722\n",
      "Train Epoch: 5 [740/946 (78%)]\tLoss: 0.000000\n",
      "Train Epoch: 5 [760/946 (80%)]\tLoss: 0.000031\n",
      "Train Epoch: 5 [780/946 (82%)]\tLoss: 0.000032\n",
      "Train Epoch: 5 [800/946 (85%)]\tLoss: 0.000008\n",
      "Train Epoch: 5 [820/946 (87%)]\tLoss: 0.000002\n",
      "Train Epoch: 5 [840/946 (89%)]\tLoss: 0.000001\n",
      "Train Epoch: 5 [860/946 (91%)]\tLoss: 0.000077\n",
      "Train Epoch: 5 [880/946 (93%)]\tLoss: 0.000001\n",
      "Train Epoch: 5 [900/946 (95%)]\tLoss: 0.056440\n",
      "Train Epoch: 5 [920/946 (97%)]\tLoss: 0.000394\n",
      "Train Epoch: 5 [940/946 (99%)]\tLoss: 0.000061\n",
      "\\Val set: Average loss: 0.0536, Accuracy: 233/237 (98%)\n",
      "\n",
      "Epoch 5/5: Training Loss: 0.0467, Val Accuracy: 98.31%\n",
      "Best validation loss: 0.0491 at epoch 5\n",
      "import torch; print(f'CUDA version: 11.8\n",
      "Torch version: 2.0.0+cu118\n",
      "device count: 1')\n",
      "Device:cpu\n",
      "Dataset:0\n"
     ]
    },
    {
     "data": {
      "image/png": "[encoded data removed]",
      "text/plain": [
       "<Figure size 1200x400 with 2 Axes>"
      ]
     },
     "metadata": {},
     "output_type": "display_data"
    }
   ],
   "source": [
    "# Define task 1 labeling\n",
    "task1_classes = [0, 1, 2, 3, 4, 9]\n",
    "# Check the unique labels in your dataset to make sure they are integers\n",
    "unique_labels = set(label for _, label in mnist_dataset)\n",
    "print(\"Unique Labels in Dataset:\", unique_labels)\n",
    "# Make sure labels are integers; if not, convert them to integers\n",
    "mnist_dataset = [(image, int(label)) for image, label in mnist_dataset]\n",
    "task1_indices = [i for i, (_, label) in enumerate(mnist_dataset) if label in task1_classes]\n",
    "task1_dataset = Subset(mnist_dataset, task1_indices)\n",
    "print(\"Selected labels for Task 1:\", set(label for _, label in task1_dataset))\n",
    "train_size_task1 = int(0.8 * len(task1_indices))\n",
    "val_size_task1 = len(task1_indices) - train_size_task1\n",
    "train_loader_task1, val_loader_task1 = get_data_loaders(task1_dataset, \n",
    "                                                        train_size_task1, \n",
    "                                                        val_size_task1,\n",
    "                                                        train_kwargs, \n",
    "                                                        val_kwargs)\n",
    "model = models.Net_log_softmax(classes = len(task1_classes)).to(device)\n",
    "# model = models.AlexNet(classes = 6).to(device)\n",
    "# model = models.BaseModel(28 * 28, 100, 6).to(device)\n",
    "\n",
    "optimizer = optim.Adadelta(model.parameters(), lr=args.lr)\n",
    "scheduler = StepLR(optimizer, step_size=1, gamma=args.gamma)\n",
    "\n",
    "all_predictions, all_labels = train_and_validate(args, model, device, \n",
    "                                                 train_loader_task1, \n",
    "                                                 val_loader_task1, \n",
    "                                                 optimizer, \n",
    "                                                 scheduler,\n",
    "                                                 title=\"Task 1: \", \n",
    "                                                 type_label=task1_classes,\n",
    "                                                 model_path= \"models/mnist_cnn_task1_MULTICLASS.pt\"\n",
    "                                                 )\n",
    "\n",
    "print(f\"import torch; print(f'CUDA version: {torch.version.cuda}\\nTorch version: {torch.__version__}\\ndevice count: {torch.cuda.device_count()}')\\nDevice:{device}\\nDataset:{DATASET}\")\n"
   ]
  },
  {
   "cell_type": "markdown",
   "metadata": {},
   "source": [
    "### Testing \n",
    "Let's evaluate the best model over the whole validation data"
   ]
  },
  {
   "cell_type": "code",
   "execution_count": 5,
   "metadata": {},
   "outputs": [
    {
     "name": "stdout",
     "output_type": "stream",
     "text": [
      "\\Val set: Average loss: 0.0536, Accuracy: 233/237 (98%)\n",
      "\n"
     ]
    }
   ],
   "source": [
    "val_accuracy, val_loss, all_predictions, all_labels  = validate(model, device, val_loader_task1,task1_classes)"
   ]
  },
  {
   "cell_type": "code",
   "execution_count": 6,
   "metadata": {},
   "outputs": [
    {
     "data": {
      "text/plain": [
       "array([9, 0, 9, 9, 2, 3, 9, 2, 2, 4, 2, 4, 4, 2, 1, 1, 1, 1, 0, 1, 1, 2,\n",
       "       9, 9, 0, 9, 3, 9, 0, 4, 4, 9, 0, 2, 3, 9, 1, 1, 2, 4, 4, 9, 9, 3,\n",
       "       9, 4, 3, 2, 9, 4, 3, 0, 4, 4, 1, 0, 1, 2, 9, 3, 4, 2, 1, 1, 1, 2,\n",
       "       9, 1, 3, 0, 9, 2, 3, 4, 1, 3, 1, 4, 4, 4, 0, 9, 4, 1, 4, 0, 0, 0,\n",
       "       1, 1, 0, 0, 9, 4, 9, 1, 0, 3, 2, 2, 9, 9, 4, 1, 0, 0, 3, 4, 0, 3,\n",
       "       4, 2, 9, 3, 2, 9, 0, 4, 3, 2, 1, 9, 0, 2, 0, 2, 9, 1, 2, 0, 0, 3,\n",
       "       1, 3, 4, 2, 3, 4, 4, 4, 0, 4, 4, 2, 2, 0, 1, 2, 3, 9, 0, 3, 4, 1,\n",
       "       1, 1, 3, 9, 1, 4, 3, 9, 9, 2, 0, 3, 0, 1, 0, 3, 9, 9, 9, 1, 1, 2,\n",
       "       9, 1, 0, 3, 1, 4, 9, 2, 0, 3, 2, 2, 0, 1, 4, 4, 3, 4, 2, 3, 1, 1,\n",
       "       1, 2, 4, 2, 2, 2, 3, 1, 1, 0, 0, 3, 2, 2, 3, 2, 0, 9, 0, 9, 3, 4,\n",
       "       3, 3, 9, 1, 4, 4, 0, 9, 9, 0, 3, 0, 0, 4, 0, 9, 2], dtype=int64)"
      ]
     },
     "execution_count": 6,
     "metadata": {},
     "output_type": "execute_result"
    }
   ],
   "source": [
    "all_predictions"
   ]
  },
  {
   "cell_type": "code",
   "execution_count": 7,
   "metadata": {},
   "outputs": [
    {
     "data": {
      "text/plain": [
       "array([9, 0, 9, 9, 2, 3, 9, 2, 2, 4, 2, 4, 4, 2, 1, 1, 1, 1, 0, 1, 1, 2,\n",
       "       9, 9, 0, 9, 3, 9, 0, 4, 4, 9, 0, 2, 3, 9, 1, 1, 2, 4, 4, 9, 9, 3,\n",
       "       9, 4, 3, 2, 9, 4, 3, 0, 4, 4, 1, 0, 1, 0, 9, 3, 4, 2, 1, 1, 0, 2,\n",
       "       9, 1, 3, 0, 9, 2, 3, 4, 1, 3, 1, 4, 4, 4, 0, 9, 4, 1, 4, 0, 0, 0,\n",
       "       1, 1, 0, 0, 9, 4, 9, 1, 0, 3, 2, 2, 9, 9, 4, 1, 0, 0, 3, 4, 0, 3,\n",
       "       4, 2, 9, 3, 2, 9, 0, 4, 3, 2, 1, 9, 0, 2, 0, 2, 9, 1, 2, 0, 0, 3,\n",
       "       1, 3, 4, 2, 3, 4, 4, 4, 0, 4, 4, 2, 2, 0, 1, 2, 3, 4, 0, 3, 4, 1,\n",
       "       1, 1, 3, 9, 1, 4, 3, 9, 9, 2, 0, 3, 0, 1, 0, 3, 9, 9, 9, 1, 1, 2,\n",
       "       9, 1, 0, 3, 1, 4, 9, 2, 0, 3, 2, 2, 0, 1, 4, 4, 3, 4, 2, 3, 1, 1,\n",
       "       1, 2, 4, 2, 2, 2, 3, 1, 1, 0, 0, 3, 2, 2, 3, 2, 0, 4, 0, 9, 3, 4,\n",
       "       3, 3, 9, 1, 4, 4, 0, 9, 9, 0, 3, 0, 0, 4, 0, 9, 2], dtype=int64)"
      ]
     },
     "execution_count": 7,
     "metadata": {},
     "output_type": "execute_result"
    }
   ],
   "source": [
    "all_labels"
   ]
  },
  {
   "cell_type": "code",
   "execution_count": 8,
   "metadata": {},
   "outputs": [
    {
     "data": {
      "text/plain": [
       "(array([0, 1, 2, 3, 4, 9], dtype=int64),\n",
       " array([0, 1, 2, 3, 4, 9], dtype=int64))"
      ]
     },
     "execution_count": 8,
     "metadata": {},
     "output_type": "execute_result"
    }
   ],
   "source": [
    "np.unique(all_predictions), np.unique(all_labels)"
   ]
  },
  {
   "cell_type": "code",
   "execution_count": 9,
   "metadata": {},
   "outputs": [
    {
     "data": {
      "text/plain": [
       "((237,), (237,))"
      ]
     },
     "execution_count": 9,
     "metadata": {},
     "output_type": "execute_result"
    }
   ],
   "source": [
    "all_predictions.shape, all_labels.shape"
   ]
  },
  {
   "cell_type": "code",
   "execution_count": 10,
   "metadata": {},
   "outputs": [
    {
     "data": {
      "text/plain": [
       "array([0, 1, 2, 3, 4, 9], dtype=int64)"
      ]
     },
     "execution_count": 10,
     "metadata": {},
     "output_type": "execute_result"
    }
   ],
   "source": [
    "unique_classes = np.unique(np.concatenate((all_labels, all_predictions)))\n",
    "unique_classes"
   ]
  },
  {
   "cell_type": "code",
   "execution_count": 11,
   "metadata": {},
   "outputs": [
    {
     "data": {
      "text/html": [
       "<div>\n",
       "<style scoped>\n",
       "    .dataframe tbody tr th:only-of-type {\n",
       "        vertical-align: middle;\n",
       "    }\n",
       "\n",
       "    .dataframe tbody tr th {\n",
       "        vertical-align: top;\n",
       "    }\n",
       "\n",
       "    .dataframe thead th {\n",
       "        text-align: right;\n",
       "    }\n",
       "</style>\n",
       "<table border=\"1\" class=\"dataframe\">\n",
       "  <thead>\n",
       "    <tr style=\"text-align: right;\">\n",
       "      <th></th>\n",
       "      <th>0</th>\n",
       "      <th>1</th>\n",
       "      <th>2</th>\n",
       "      <th>3</th>\n",
       "      <th>4</th>\n",
       "      <th>9</th>\n",
       "    </tr>\n",
       "  </thead>\n",
       "  <tbody>\n",
       "    <tr>\n",
       "      <th>0</th>\n",
       "      <td>41</td>\n",
       "      <td>1</td>\n",
       "      <td>1</td>\n",
       "      <td>0</td>\n",
       "      <td>0</td>\n",
       "      <td>0</td>\n",
       "    </tr>\n",
       "    <tr>\n",
       "      <th>1</th>\n",
       "      <td>0</td>\n",
       "      <td>40</td>\n",
       "      <td>0</td>\n",
       "      <td>0</td>\n",
       "      <td>0</td>\n",
       "      <td>0</td>\n",
       "    </tr>\n",
       "    <tr>\n",
       "      <th>2</th>\n",
       "      <td>0</td>\n",
       "      <td>0</td>\n",
       "      <td>38</td>\n",
       "      <td>0</td>\n",
       "      <td>0</td>\n",
       "      <td>0</td>\n",
       "    </tr>\n",
       "    <tr>\n",
       "      <th>3</th>\n",
       "      <td>0</td>\n",
       "      <td>0</td>\n",
       "      <td>0</td>\n",
       "      <td>35</td>\n",
       "      <td>0</td>\n",
       "      <td>0</td>\n",
       "    </tr>\n",
       "    <tr>\n",
       "      <th>4</th>\n",
       "      <td>0</td>\n",
       "      <td>0</td>\n",
       "      <td>0</td>\n",
       "      <td>0</td>\n",
       "      <td>40</td>\n",
       "      <td>2</td>\n",
       "    </tr>\n",
       "    <tr>\n",
       "      <th>9</th>\n",
       "      <td>0</td>\n",
       "      <td>0</td>\n",
       "      <td>0</td>\n",
       "      <td>0</td>\n",
       "      <td>0</td>\n",
       "      <td>39</td>\n",
       "    </tr>\n",
       "  </tbody>\n",
       "</table>\n",
       "</div>"
      ],
      "text/plain": [
       "    0   1   2   3   4   9\n",
       "0  41   1   1   0   0   0\n",
       "1   0  40   0   0   0   0\n",
       "2   0   0  38   0   0   0\n",
       "3   0   0   0  35   0   0\n",
       "4   0   0   0   0  40   2\n",
       "9   0   0   0   0   0  39"
      ]
     },
     "execution_count": 11,
     "metadata": {},
     "output_type": "execute_result"
    }
   ],
   "source": [
    "confusion_mat = confusion_matrix(all_labels, all_predictions, labels=unique_classes)\n",
    "conf_matrix = pd.DataFrame(confusion_mat, index=unique_classes, columns=unique_classes)\n",
    "conf_matrix"
   ]
  },
  {
   "cell_type": "code",
   "execution_count": 12,
   "metadata": {},
   "outputs": [
    {
     "data": {
      "text/plain": [
       "(6, 6)"
      ]
     },
     "execution_count": 12,
     "metadata": {},
     "output_type": "execute_result"
    }
   ],
   "source": [
    "confusion_mat.shape"
   ]
  },
  {
   "cell_type": "markdown",
   "metadata": {},
   "source": [
    "Customize your confusion matrix https://seaborn.pydata.org/generated/seaborn.heatmap.html "
   ]
  },
  {
   "cell_type": "code",
   "execution_count": 13,
   "metadata": {},
   "outputs": [
    {
     "data": {
      "image/png": "[encoded data removed]",
      "text/plain": [
       "<Figure size 500x400 with 1 Axes>"
      ]
     },
     "metadata": {},
     "output_type": "display_data"
    }
   ],
   "source": [
    "import seaborn as sns\n",
    "\n",
    "unique_classes = np.unique(np.concatenate((all_labels, all_predictions)))\n",
    "confusion_mat = confusion_matrix(all_labels, all_predictions, labels=unique_classes)\n",
    "conf_matrix = pd.DataFrame(confusion_mat, index=unique_classes, columns=unique_classes)\n",
    "\n",
    "# Plot the confusion matrix using seaborn\n",
    "plt.figure(figsize=(5, 4))\n",
    "ax = sns.heatmap(conf_matrix, annot=True, cmap=sns.cubehelix_palette(as_cmap=True), linewidths=0.1, cbar=False)\n",
    "\n",
    "# Set labels and ticks\n",
    "ax.set_xlabel('Predicted Labels')\n",
    "ax.set_ylabel('True Labels')\n",
    "\n",
    "# Set x and y ticks using the unique classes\n",
    "ax.set_xticks(range(len(unique_classes)))\n",
    "ax.set_yticks(range(len(unique_classes)))\n",
    "\n",
    "# Set x and y ticks at the center of the cells\n",
    "ax.set_xticks([i + 0.5 for i in range(len(unique_classes))])\n",
    "ax.set_yticks([i + 0.5 for i in range(len(unique_classes))])\n",
    "\n",
    "\n",
    "plt.show()\n"
   ]
  },
  {
   "cell_type": "code",
   "execution_count": 14,
   "metadata": {},
   "outputs": [
    {
     "data": {
      "text/plain": [
       "array([0, 1, 2, 3, 4, 9], dtype=int64)"
      ]
     },
     "execution_count": 14,
     "metadata": {},
     "output_type": "execute_result"
    }
   ],
   "source": [
    "np.unique(all_predictions)"
   ]
  },
  {
   "cell_type": "code",
   "execution_count": 15,
   "metadata": {},
   "outputs": [
    {
     "name": "stdout",
     "output_type": "stream",
     "text": [
      "\n",
      "Classification Report:\n",
      "              precision    recall  f1-score   support\n",
      "\n",
      "           0       1.00      0.95      0.98        43\n",
      "           1       0.98      1.00      0.99        40\n",
      "           2       0.97      1.00      0.99        38\n",
      "           3       1.00      1.00      1.00        35\n",
      "           4       1.00      0.95      0.98        42\n",
      "           9       0.95      1.00      0.97        39\n",
      "\n",
      "    accuracy                           0.98       237\n",
      "   macro avg       0.98      0.98      0.98       237\n",
      "weighted avg       0.98      0.98      0.98       237\n",
      "\n"
     ]
    }
   ],
   "source": [
    "print(\"\\nClassification Report:\")\n",
    "print(classification_report(all_labels, all_predictions, target_names=[str(c) for c in task1_classes]))"
   ]
  },
  {
   "cell_type": "code",
   "execution_count": 16,
   "metadata": {},
   "outputs": [
    {
     "data": {
      "text/plain": [
       "1"
      ]
     },
     "execution_count": 16,
     "metadata": {},
     "output_type": "execute_result"
    }
   ],
   "source": [
    "len(val_loader_task1)"
   ]
  },
  {
   "cell_type": "code",
   "execution_count": 17,
   "metadata": {},
   "outputs": [
    {
     "data": {
      "image/png": "[encoded data removed]",
      "text/plain": [
       "<Figure size 1200x1200 with 16 Axes>"
      ]
     },
     "metadata": {},
     "output_type": "display_data"
    }
   ],
   "source": [
    "import matplotlib.pyplot as plt\n",
    "import numpy as np\n",
    "\n",
    "def visualize_predictions(model, val_loader, device, type_label=None, dataset_type=1):\n",
    "    if type_label is None:\n",
    "        type_label = task1_classes\n",
    "\n",
    "    model.eval()\n",
    "\n",
    "    all_predictions = []\n",
    "    all_labels = []\n",
    "\n",
    "    with torch.no_grad():\n",
    "        for data, target in val_loader:\n",
    "            data, target = data.to(device), target.to(device)\n",
    "            output = model(data)\n",
    "\n",
    "            pred = output.argmax(dim=1)\n",
    "            pred = inverse_remap_target(pred, type_label)        \n",
    "            all_predictions.extend(pred.cpu().numpy())\n",
    "            all_labels.extend(target.cpu().numpy())\n",
    "\n",
    "    # Convert predictions and labels to numpy arrays\n",
    "    all_predictions = np.array(all_predictions)\n",
    "    all_labels = np.array(all_labels)\n",
    "\n",
    "    # Create a 4x4 grid for visualization\n",
    "    num_rows = 4\n",
    "    num_cols = 4\n",
    "\n",
    "    plt.figure(figsize=(12, 12))\n",
    "\n",
    "    for i in range(num_rows * num_cols):\n",
    "        plt.subplot(num_rows, num_cols, i + 1)\n",
    "        idx = np.random.randint(len(all_labels))\n",
    "        plt.imshow(data[idx].cpu().numpy().squeeze(), cmap='gray')\n",
    "\n",
    "        # Use the class names instead of numeric labels for Fashion MNIST\n",
    "        if dataset_type == 1:\n",
    "            class_names = ['T-shirt/top', 'Trouser', 'Pullover', 'Dress', 'Coat', 'Sandal', 'Shirt', 'Sneaker', 'Bag', 'Ankle boot']\n",
    "            predicted_class = class_names[all_predictions[idx]]\n",
    "            actual_class = class_names[all_labels[idx]]\n",
    "        else:\n",
    "            predicted_class = all_predictions[idx]\n",
    "            actual_class = all_labels[idx]\n",
    "\n",
    "        plt.title(f'Pred: {predicted_class}\\nActual: {actual_class}')\n",
    "        plt.axis('off')\n",
    "\n",
    "    plt.tight_layout()\n",
    "    plt.show()\n",
    "\n",
    "# Example usage for Fashion MNIST dataset (DATASET=1)\n",
    "visualize_predictions(model, val_loader_task1, device, dataset_type=DATASET)\n"
   ]
  },
  {
   "cell_type": "markdown",
   "metadata": {},
   "source": [
    "## Training on second task"
   ]
  },
  {
   "cell_type": "code",
   "execution_count": 32,
   "metadata": {},
   "outputs": [
    {
     "name": "stdout",
     "output_type": "stream",
     "text": [
      "Selected labels for Task 2: {1, 5, 6, 7, 8, 9}\n",
      "-------------------MODEL TRAINING TASK #2-------------------\n",
      "485 1\n",
      "Train Epoch: 1 [0/970 (0%)]\tLoss: 10.324610\n",
      "Train Epoch: 1 [20/970 (2%)]\tLoss: 2.362092\n",
      "Train Epoch: 1 [40/970 (4%)]\tLoss: 1.432483\n",
      "Train Epoch: 1 [60/970 (6%)]\tLoss: 1.519076\n",
      "Train Epoch: 1 [80/970 (8%)]\tLoss: 1.747675\n",
      "Train Epoch: 1 [100/970 (10%)]\tLoss: 1.212429\n",
      "Train Epoch: 1 [120/970 (12%)]\tLoss: 1.052724\n",
      "Train Epoch: 1 [140/970 (14%)]\tLoss: 1.734224\n",
      "Train Epoch: 1 [160/970 (16%)]\tLoss: 0.406871\n",
      "Train Epoch: 1 [180/970 (19%)]\tLoss: 0.019458\n",
      "Train Epoch: 1 [200/970 (21%)]\tLoss: 1.122316\n",
      "Train Epoch: 1 [220/970 (23%)]\tLoss: 0.633421\n",
      "Train Epoch: 1 [240/970 (25%)]\tLoss: 0.578571\n",
      "Train Epoch: 1 [260/970 (27%)]\tLoss: 0.054015\n",
      "Train Epoch: 1 [280/970 (29%)]\tLoss: 0.018103\n",
      "Train Epoch: 1 [300/970 (31%)]\tLoss: 0.448149\n",
      "Train Epoch: 1 [320/970 (33%)]\tLoss: 0.150154\n",
      "Train Epoch: 1 [340/970 (35%)]\tLoss: 2.056656\n",
      "Train Epoch: 1 [360/970 (37%)]\tLoss: 0.128315\n",
      "Train Epoch: 1 [380/970 (39%)]\tLoss: 0.088740\n",
      "Train Epoch: 1 [400/970 (41%)]\tLoss: 1.357062\n",
      "Train Epoch: 1 [420/970 (43%)]\tLoss: 0.637642\n",
      "Train Epoch: 1 [440/970 (45%)]\tLoss: 0.182778\n",
      "Train Epoch: 1 [460/970 (47%)]\tLoss: 0.001832\n",
      "Train Epoch: 1 [480/970 (49%)]\tLoss: 0.000821\n",
      "Train Epoch: 1 [500/970 (52%)]\tLoss: 0.226215\n",
      "Train Epoch: 1 [520/970 (54%)]\tLoss: 0.237988\n",
      "Train Epoch: 1 [540/970 (56%)]\tLoss: 0.131075\n",
      "Train Epoch: 1 [560/970 (58%)]\tLoss: 2.946692\n",
      "Train Epoch: 1 [580/970 (60%)]\tLoss: 0.136885\n",
      "Train Epoch: 1 [600/970 (62%)]\tLoss: 0.104532\n",
      "Train Epoch: 1 [620/970 (64%)]\tLoss: 0.110005\n",
      "Train Epoch: 1 [640/970 (66%)]\tLoss: 0.012824\n",
      "Train Epoch: 1 [660/970 (68%)]\tLoss: 0.000102\n",
      "Train Epoch: 1 [680/970 (70%)]\tLoss: 0.012562\n",
      "Train Epoch: 1 [700/970 (72%)]\tLoss: 0.042951\n",
      "Train Epoch: 1 [720/970 (74%)]\tLoss: 0.028079\n",
      "Train Epoch: 1 [740/970 (76%)]\tLoss: 0.001943\n",
      "Train Epoch: 1 [760/970 (78%)]\tLoss: 0.308423\n",
      "Train Epoch: 1 [780/970 (80%)]\tLoss: 0.013773\n",
      "Train Epoch: 1 [800/970 (82%)]\tLoss: 0.001895\n",
      "Train Epoch: 1 [820/970 (85%)]\tLoss: 0.006127\n",
      "Train Epoch: 1 [840/970 (87%)]\tLoss: 0.904390\n",
      "Train Epoch: 1 [860/970 (89%)]\tLoss: 0.004168\n",
      "Train Epoch: 1 [880/970 (91%)]\tLoss: 0.006876\n",
      "Train Epoch: 1 [900/970 (93%)]\tLoss: 0.388346\n",
      "Train Epoch: 1 [920/970 (95%)]\tLoss: 1.556485\n",
      "Train Epoch: 1 [940/970 (97%)]\tLoss: 0.064468\n",
      "Train Epoch: 1 [960/970 (99%)]\tLoss: 0.815671\n",
      "\\Val set: Average loss: 0.1603, Accuracy: 230/243 (95%)\n",
      "\n",
      "Epoch 1/5: Training Loss: 0.3498, Val Accuracy: 94.65%\n",
      "Train Epoch: 2 [0/970 (0%)]\tLoss: 0.183298\n",
      "Train Epoch: 2 [20/970 (2%)]\tLoss: 0.412779\n",
      "Train Epoch: 2 [40/970 (4%)]\tLoss: 0.012894\n",
      "Train Epoch: 2 [60/970 (6%)]\tLoss: 0.006668\n",
      "Train Epoch: 2 [80/970 (8%)]\tLoss: 0.040448\n",
      "Train Epoch: 2 [100/970 (10%)]\tLoss: 0.006443\n",
      "Train Epoch: 2 [120/970 (12%)]\tLoss: 0.011867\n",
      "Train Epoch: 2 [140/970 (14%)]\tLoss: 0.861655\n",
      "Train Epoch: 2 [160/970 (16%)]\tLoss: 0.003301\n",
      "Train Epoch: 2 [180/970 (19%)]\tLoss: 0.005138\n",
      "Train Epoch: 2 [200/970 (21%)]\tLoss: 0.034005\n",
      "Train Epoch: 2 [220/970 (23%)]\tLoss: 0.033866\n",
      "Train Epoch: 2 [240/970 (25%)]\tLoss: 0.000366\n",
      "Train Epoch: 2 [260/970 (27%)]\tLoss: 0.002426\n",
      "Train Epoch: 2 [280/970 (29%)]\tLoss: 0.000142\n",
      "Train Epoch: 2 [300/970 (31%)]\tLoss: 0.068449\n",
      "Train Epoch: 2 [320/970 (33%)]\tLoss: 0.020053\n",
      "Train Epoch: 2 [340/970 (35%)]\tLoss: 0.133595\n",
      "Train Epoch: 2 [360/970 (37%)]\tLoss: 0.011374\n",
      "Train Epoch: 2 [380/970 (39%)]\tLoss: 0.001394\n",
      "Train Epoch: 2 [400/970 (41%)]\tLoss: 0.608922\n",
      "Train Epoch: 2 [420/970 (43%)]\tLoss: 0.157262\n",
      "Train Epoch: 2 [440/970 (45%)]\tLoss: 0.164336\n",
      "Train Epoch: 2 [460/970 (47%)]\tLoss: 0.000140\n",
      "Train Epoch: 2 [480/970 (49%)]\tLoss: 0.001120\n",
      "Train Epoch: 2 [500/970 (52%)]\tLoss: 0.219916\n",
      "Train Epoch: 2 [520/970 (54%)]\tLoss: 0.395203\n",
      "Train Epoch: 2 [540/970 (56%)]\tLoss: 0.091588\n",
      "Train Epoch: 2 [560/970 (58%)]\tLoss: 0.551761\n",
      "Train Epoch: 2 [580/970 (60%)]\tLoss: 0.032113\n",
      "Train Epoch: 2 [600/970 (62%)]\tLoss: 0.000087\n",
      "Train Epoch: 2 [620/970 (64%)]\tLoss: 0.641239\n",
      "Train Epoch: 2 [640/970 (66%)]\tLoss: 0.000804\n",
      "Train Epoch: 2 [660/970 (68%)]\tLoss: 0.000000\n",
      "Train Epoch: 2 [680/970 (70%)]\tLoss: 0.000123\n",
      "Train Epoch: 2 [700/970 (72%)]\tLoss: 0.028860\n",
      "Train Epoch: 2 [720/970 (74%)]\tLoss: 0.006266\n",
      "Train Epoch: 2 [740/970 (76%)]\tLoss: 0.015294\n",
      "Train Epoch: 2 [760/970 (78%)]\tLoss: 0.010743\n",
      "Train Epoch: 2 [780/970 (80%)]\tLoss: 0.003356\n",
      "Train Epoch: 2 [800/970 (82%)]\tLoss: 0.000006\n",
      "Train Epoch: 2 [820/970 (85%)]\tLoss: 0.002880\n",
      "Train Epoch: 2 [840/970 (87%)]\tLoss: 0.027493\n",
      "Train Epoch: 2 [860/970 (89%)]\tLoss: 0.001286\n",
      "Train Epoch: 2 [880/970 (91%)]\tLoss: 0.000149\n",
      "Train Epoch: 2 [900/970 (93%)]\tLoss: 0.236660\n",
      "Train Epoch: 2 [920/970 (95%)]\tLoss: 0.012184\n",
      "Train Epoch: 2 [940/970 (97%)]\tLoss: 0.000003\n",
      "Train Epoch: 2 [960/970 (99%)]\tLoss: 0.020076\n",
      "\\Val set: Average loss: 0.1604, Accuracy: 233/243 (96%)\n",
      "\n",
      "Epoch 2/5: Training Loss: 0.1174, Val Accuracy: 95.88%\n",
      "Train Epoch: 3 [0/970 (0%)]\tLoss: 0.016354\n",
      "Train Epoch: 3 [20/970 (2%)]\tLoss: 0.053453\n",
      "Train Epoch: 3 [40/970 (4%)]\tLoss: 0.000240\n",
      "Train Epoch: 3 [60/970 (6%)]\tLoss: 0.007924\n",
      "Train Epoch: 3 [80/970 (8%)]\tLoss: 0.000207\n",
      "Train Epoch: 3 [100/970 (10%)]\tLoss: 0.004600\n",
      "Train Epoch: 3 [120/970 (12%)]\tLoss: 0.000018\n",
      "Train Epoch: 3 [140/970 (14%)]\tLoss: 0.740298\n",
      "Train Epoch: 3 [160/970 (16%)]\tLoss: 0.000222\n",
      "Train Epoch: 3 [180/970 (19%)]\tLoss: 0.000018\n",
      "Train Epoch: 3 [200/970 (21%)]\tLoss: 0.013012\n",
      "Train Epoch: 3 [220/970 (23%)]\tLoss: 0.003138\n",
      "Train Epoch: 3 [240/970 (25%)]\tLoss: 0.000287\n",
      "Train Epoch: 3 [260/970 (27%)]\tLoss: 0.006123\n",
      "Train Epoch: 3 [280/970 (29%)]\tLoss: 0.000230\n",
      "Train Epoch: 3 [300/970 (31%)]\tLoss: 0.000300\n",
      "Train Epoch: 3 [320/970 (33%)]\tLoss: 0.001091\n",
      "Train Epoch: 3 [340/970 (35%)]\tLoss: 0.238841\n",
      "Train Epoch: 3 [360/970 (37%)]\tLoss: 0.021148\n",
      "Train Epoch: 3 [380/970 (39%)]\tLoss: 0.000294\n",
      "Train Epoch: 3 [400/970 (41%)]\tLoss: 0.814757\n",
      "Train Epoch: 3 [420/970 (43%)]\tLoss: 0.603140\n",
      "Train Epoch: 3 [440/970 (45%)]\tLoss: 0.050598\n",
      "Train Epoch: 3 [460/970 (47%)]\tLoss: 0.000083\n",
      "Train Epoch: 3 [480/970 (49%)]\tLoss: 0.001373\n",
      "Train Epoch: 3 [500/970 (52%)]\tLoss: 0.000053\n",
      "Train Epoch: 3 [520/970 (54%)]\tLoss: 0.003405\n",
      "Train Epoch: 3 [540/970 (56%)]\tLoss: 0.015574\n",
      "Train Epoch: 3 [560/970 (58%)]\tLoss: 2.754380\n",
      "Train Epoch: 3 [580/970 (60%)]\tLoss: 0.013602\n",
      "Train Epoch: 3 [600/970 (62%)]\tLoss: 0.000072\n",
      "Train Epoch: 3 [620/970 (64%)]\tLoss: 0.021622\n",
      "Train Epoch: 3 [640/970 (66%)]\tLoss: 0.000052\n",
      "Train Epoch: 3 [660/970 (68%)]\tLoss: 0.054436\n",
      "Train Epoch: 3 [680/970 (70%)]\tLoss: 0.000773\n",
      "Train Epoch: 3 [700/970 (72%)]\tLoss: 0.007281\n",
      "Train Epoch: 3 [720/970 (74%)]\tLoss: 0.004002\n",
      "Train Epoch: 3 [740/970 (76%)]\tLoss: 0.012758\n",
      "Train Epoch: 3 [760/970 (78%)]\tLoss: 0.000525\n",
      "Train Epoch: 3 [780/970 (80%)]\tLoss: 0.000935\n",
      "Train Epoch: 3 [800/970 (82%)]\tLoss: 0.000112\n",
      "Train Epoch: 3 [820/970 (85%)]\tLoss: 0.018461\n",
      "Train Epoch: 3 [840/970 (87%)]\tLoss: 0.013517\n",
      "Train Epoch: 3 [860/970 (89%)]\tLoss: 0.000111\n",
      "Train Epoch: 3 [880/970 (91%)]\tLoss: 0.000167\n",
      "Train Epoch: 3 [900/970 (93%)]\tLoss: 0.468274\n",
      "Train Epoch: 3 [920/970 (95%)]\tLoss: 0.000267\n",
      "Train Epoch: 3 [940/970 (97%)]\tLoss: 0.000000\n",
      "Train Epoch: 3 [960/970 (99%)]\tLoss: 0.774642\n",
      "\\Val set: Average loss: 0.1336, Accuracy: 236/243 (97%)\n",
      "\n",
      "Epoch 3/5: Training Loss: 0.0937, Val Accuracy: 97.12%\n",
      "Train Epoch: 4 [0/970 (0%)]\tLoss: 0.000517\n",
      "Train Epoch: 4 [20/970 (2%)]\tLoss: 1.100481\n",
      "Train Epoch: 4 [40/970 (4%)]\tLoss: 0.000001\n",
      "Train Epoch: 4 [60/970 (6%)]\tLoss: 0.002350\n",
      "Train Epoch: 4 [80/970 (8%)]\tLoss: 0.000056\n",
      "Train Epoch: 4 [100/970 (10%)]\tLoss: 0.014839\n",
      "Train Epoch: 4 [120/970 (12%)]\tLoss: 0.000225\n",
      "Train Epoch: 4 [140/970 (14%)]\tLoss: 0.014255\n",
      "Train Epoch: 4 [160/970 (16%)]\tLoss: 0.054085\n",
      "Train Epoch: 4 [180/970 (19%)]\tLoss: 0.001136\n",
      "Train Epoch: 4 [200/970 (21%)]\tLoss: 0.000156\n",
      "Train Epoch: 4 [220/970 (23%)]\tLoss: 0.046224\n",
      "Train Epoch: 4 [240/970 (25%)]\tLoss: 0.000725\n",
      "Train Epoch: 4 [260/970 (27%)]\tLoss: 0.049409\n",
      "Train Epoch: 4 [280/970 (29%)]\tLoss: 0.000091\n",
      "Train Epoch: 4 [300/970 (31%)]\tLoss: 0.000121\n",
      "Train Epoch: 4 [320/970 (33%)]\tLoss: 0.000218\n",
      "Train Epoch: 4 [340/970 (35%)]\tLoss: 0.171515\n",
      "Train Epoch: 4 [360/970 (37%)]\tLoss: 0.000154\n",
      "Train Epoch: 4 [380/970 (39%)]\tLoss: 0.000013\n",
      "Train Epoch: 4 [400/970 (41%)]\tLoss: 0.676972\n",
      "Train Epoch: 4 [420/970 (43%)]\tLoss: 1.640702\n",
      "Train Epoch: 4 [440/970 (45%)]\tLoss: 0.000166\n",
      "Train Epoch: 4 [460/970 (47%)]\tLoss: 0.000194\n",
      "Train Epoch: 4 [480/970 (49%)]\tLoss: 0.002923\n",
      "Train Epoch: 4 [500/970 (52%)]\tLoss: 0.000936\n",
      "Train Epoch: 4 [520/970 (54%)]\tLoss: 0.021208\n",
      "Train Epoch: 4 [540/970 (56%)]\tLoss: 0.000055\n",
      "Train Epoch: 4 [560/970 (58%)]\tLoss: 1.898865\n",
      "Train Epoch: 4 [580/970 (60%)]\tLoss: 0.000017\n",
      "Train Epoch: 4 [600/970 (62%)]\tLoss: 0.000088\n",
      "Train Epoch: 4 [620/970 (64%)]\tLoss: 0.000565\n",
      "Train Epoch: 4 [640/970 (66%)]\tLoss: 0.004114\n",
      "Train Epoch: 4 [660/970 (68%)]\tLoss: 0.000183\n",
      "Train Epoch: 4 [680/970 (70%)]\tLoss: 0.002139\n",
      "Train Epoch: 4 [700/970 (72%)]\tLoss: 0.012552\n",
      "Train Epoch: 4 [720/970 (74%)]\tLoss: 0.005196\n",
      "Train Epoch: 4 [740/970 (76%)]\tLoss: 0.000407\n",
      "Train Epoch: 4 [760/970 (78%)]\tLoss: 0.263787\n",
      "Train Epoch: 4 [780/970 (80%)]\tLoss: 0.000052\n",
      "Train Epoch: 4 [800/970 (82%)]\tLoss: 0.002643\n",
      "Train Epoch: 4 [820/970 (85%)]\tLoss: 0.001557\n",
      "Train Epoch: 4 [840/970 (87%)]\tLoss: 0.001353\n",
      "Train Epoch: 4 [860/970 (89%)]\tLoss: 0.001984\n",
      "Train Epoch: 4 [880/970 (91%)]\tLoss: 0.003050\n",
      "Train Epoch: 4 [900/970 (93%)]\tLoss: 0.259481\n",
      "Train Epoch: 4 [920/970 (95%)]\tLoss: 0.000012\n",
      "Train Epoch: 4 [940/970 (97%)]\tLoss: 0.000374\n",
      "Train Epoch: 4 [960/970 (99%)]\tLoss: 0.002264\n",
      "\\Val set: Average loss: 0.1154, Accuracy: 236/243 (97%)\n",
      "\n",
      "Epoch 4/5: Training Loss: 0.0701, Val Accuracy: 97.12%\n",
      "Train Epoch: 5 [0/970 (0%)]\tLoss: 0.000370\n",
      "Train Epoch: 5 [20/970 (2%)]\tLoss: 1.649672\n",
      "Train Epoch: 5 [40/970 (4%)]\tLoss: 0.000121\n",
      "Train Epoch: 5 [60/970 (6%)]\tLoss: 0.000534\n",
      "Train Epoch: 5 [80/970 (8%)]\tLoss: 0.001201\n",
      "Train Epoch: 5 [100/970 (10%)]\tLoss: 0.000160\n",
      "Train Epoch: 5 [120/970 (12%)]\tLoss: 0.000003\n",
      "Train Epoch: 5 [140/970 (14%)]\tLoss: 0.081269\n",
      "Train Epoch: 5 [160/970 (16%)]\tLoss: 0.000229\n",
      "Train Epoch: 5 [180/970 (19%)]\tLoss: 0.000000\n",
      "Train Epoch: 5 [200/970 (21%)]\tLoss: 0.001062\n",
      "Train Epoch: 5 [220/970 (23%)]\tLoss: 0.000005\n",
      "Train Epoch: 5 [240/970 (25%)]\tLoss: 0.001041\n",
      "Train Epoch: 5 [260/970 (27%)]\tLoss: 0.000005\n",
      "Train Epoch: 5 [280/970 (29%)]\tLoss: 0.004297\n",
      "Train Epoch: 5 [300/970 (31%)]\tLoss: 0.022936\n",
      "Train Epoch: 5 [320/970 (33%)]\tLoss: 0.019400\n",
      "Train Epoch: 5 [340/970 (35%)]\tLoss: 0.006747\n",
      "Train Epoch: 5 [360/970 (37%)]\tLoss: 0.311050\n",
      "Train Epoch: 5 [380/970 (39%)]\tLoss: 0.000127\n",
      "Train Epoch: 5 [400/970 (41%)]\tLoss: 0.164291\n",
      "Train Epoch: 5 [420/970 (43%)]\tLoss: 0.083989\n",
      "Train Epoch: 5 [440/970 (45%)]\tLoss: 0.001007\n",
      "Train Epoch: 5 [460/970 (47%)]\tLoss: 0.000005\n",
      "Train Epoch: 5 [480/970 (49%)]\tLoss: 0.001581\n",
      "Train Epoch: 5 [500/970 (52%)]\tLoss: 0.070485\n",
      "Train Epoch: 5 [520/970 (54%)]\tLoss: 0.000042\n",
      "Train Epoch: 5 [540/970 (56%)]\tLoss: 0.031929\n",
      "Train Epoch: 5 [560/970 (58%)]\tLoss: 0.035951\n",
      "Train Epoch: 5 [580/970 (60%)]\tLoss: 0.004863\n",
      "Train Epoch: 5 [600/970 (62%)]\tLoss: 0.000000\n",
      "Train Epoch: 5 [620/970 (64%)]\tLoss: 0.005538\n",
      "Train Epoch: 5 [640/970 (66%)]\tLoss: 0.000034\n",
      "Train Epoch: 5 [660/970 (68%)]\tLoss: 0.000273\n",
      "Train Epoch: 5 [680/970 (70%)]\tLoss: 0.004496\n",
      "Train Epoch: 5 [700/970 (72%)]\tLoss: 0.000541\n",
      "Train Epoch: 5 [720/970 (74%)]\tLoss: 0.003982\n",
      "Train Epoch: 5 [740/970 (76%)]\tLoss: 0.000170\n",
      "Train Epoch: 5 [760/970 (78%)]\tLoss: 0.111177\n",
      "Train Epoch: 5 [780/970 (80%)]\tLoss: 0.005575\n",
      "Train Epoch: 5 [800/970 (82%)]\tLoss: 0.001764\n",
      "Train Epoch: 5 [820/970 (85%)]\tLoss: 0.020602\n",
      "Train Epoch: 5 [840/970 (87%)]\tLoss: 0.045324\n",
      "Train Epoch: 5 [860/970 (89%)]\tLoss: 0.000158\n",
      "Train Epoch: 5 [880/970 (91%)]\tLoss: 0.000952\n",
      "Train Epoch: 5 [900/970 (93%)]\tLoss: 0.046634\n",
      "Train Epoch: 5 [920/970 (95%)]\tLoss: 0.015266\n",
      "Train Epoch: 5 [940/970 (97%)]\tLoss: 0.000018\n",
      "Train Epoch: 5 [960/970 (99%)]\tLoss: 0.118437\n",
      "\\Val set: Average loss: 0.1112, Accuracy: 237/243 (98%)\n",
      "\n",
      "Epoch 5/5: Training Loss: 0.0524, Val Accuracy: 97.53%\n",
      "Best validation loss: 0.1112 at epoch 6\n"
     ]
    },
    {
     "data": {
      "text/plain": [
       "(array([1, 8, 7, 5, 1, 5, 8, 6, 7, 6, 6, 8, 9, 5, 9, 6, 1, 1, 6, 9, 8, 6,\n",
       "        5, 6, 8, 1, 7, 7, 1, 5, 6, 5, 1, 5, 1, 5, 8, 8, 9, 1, 5, 1, 8, 5,\n",
       "        8, 1, 7, 6, 5, 6, 6, 6, 6, 7, 8, 9, 1, 8, 9, 8, 7, 1, 8, 7, 7, 7,\n",
       "        1, 6, 1, 1, 5, 7, 7, 9, 6, 5, 1, 1, 7, 8, 5, 5, 5, 1, 5, 7, 6, 5,\n",
       "        8, 1, 1, 6, 7, 8, 7, 1, 6, 6, 7, 6, 8, 8, 7, 5, 8, 5, 5, 6, 8, 1,\n",
       "        9, 1, 1, 9, 9, 8, 6, 7, 7, 8, 7, 9, 8, 6, 5, 9, 6, 9, 7, 5, 6, 1,\n",
       "        7, 5, 7, 1, 1, 9, 8, 7, 1, 5, 5, 7, 6, 9, 9, 9, 6, 1, 8, 5, 1, 1,\n",
       "        1, 5, 6, 6, 5, 7, 1, 5, 5, 5, 9, 7, 8, 7, 1, 1, 5, 8, 6, 5, 6, 1,\n",
       "        6, 9, 7, 6, 7, 9, 1, 8, 1, 8, 6, 7, 7, 7, 7, 9, 9, 9, 5, 8, 8, 7,\n",
       "        9, 9, 7, 5, 9, 7, 6, 6, 8, 1, 8, 5, 9, 1, 5, 6, 7, 7, 8, 6, 6, 9,\n",
       "        7, 5, 8, 6, 9, 6, 8, 8, 9, 6, 6, 9, 6, 1, 1, 7, 7, 6, 5, 8, 9, 5,\n",
       "        9], dtype=int64),\n",
       " array([1, 8, 7, 5, 1, 5, 8, 6, 7, 6, 6, 8, 9, 5, 9, 6, 1, 1, 6, 9, 8, 6,\n",
       "        5, 6, 8, 1, 7, 7, 1, 5, 6, 5, 1, 5, 1, 5, 8, 8, 9, 1, 5, 1, 8, 5,\n",
       "        8, 1, 9, 6, 5, 6, 6, 6, 6, 7, 8, 9, 1, 8, 9, 8, 7, 1, 8, 7, 7, 7,\n",
       "        1, 6, 1, 1, 5, 7, 7, 9, 6, 8, 1, 1, 7, 8, 5, 5, 5, 1, 5, 7, 6, 5,\n",
       "        8, 1, 1, 6, 7, 8, 7, 1, 6, 6, 7, 6, 8, 8, 7, 5, 8, 5, 5, 6, 8, 1,\n",
       "        9, 1, 1, 9, 9, 8, 6, 7, 7, 8, 7, 9, 8, 6, 5, 9, 6, 9, 7, 5, 6, 1,\n",
       "        7, 5, 7, 1, 1, 6, 8, 7, 1, 5, 5, 7, 6, 9, 9, 9, 6, 1, 8, 5, 1, 1,\n",
       "        1, 5, 6, 6, 5, 9, 1, 5, 5, 5, 9, 7, 8, 7, 1, 1, 5, 8, 6, 5, 6, 1,\n",
       "        6, 9, 7, 6, 7, 9, 1, 6, 1, 8, 6, 7, 7, 7, 7, 9, 9, 9, 5, 8, 8, 7,\n",
       "        9, 9, 7, 5, 9, 7, 6, 6, 8, 1, 8, 5, 9, 1, 5, 6, 7, 9, 8, 6, 6, 9,\n",
       "        7, 5, 8, 6, 9, 6, 8, 8, 9, 6, 6, 9, 6, 1, 1, 7, 7, 6, 5, 8, 9, 5,\n",
       "        9], dtype=int64))"
      ]
     },
     "execution_count": 32,
     "metadata": {},
     "output_type": "execute_result"
    },
    {
     "data": {
      "image/png": "[encoded data removed]",
      "text/plain": [
       "<Figure size 1200x400 with 2 Axes>"
      ]
     },
     "metadata": {},
     "output_type": "display_data"
    }
   ],
   "source": [
    "task2_classes = [5, 6, 7, 8, 9, 1]\n",
    "task2_indices = [i for i, (_, label) in enumerate(mnist_dataset) if label in task2_classes]\n",
    "task2_dataset = Subset(mnist_dataset, task2_indices)\n",
    "print(\"Selected labels for Task 2:\", set(label for _, label in task2_dataset))\n",
    "train_size_task2 = int(0.8 * len(task2_indices))\n",
    "val_size_task2 = len(task2_indices) - train_size_task2\n",
    "\n",
    "model_task2 = models.Net_log_softmax(classes = len(task2_classes)).to(device)\n",
    "# model_task2 = models.BaseModel(28 * 28, 100, 6).to(device)\n",
    "# model_task2 = models.AlexNet(classes = 6).to(device)\n",
    "model_state_dict_task1 = torch.load(\"models/mnist_cnn_task1_MULTICLASS.pt\")\n",
    "model_task2.load_state_dict(model_state_dict_task1) \n",
    "optimizer_task2 = optim.Adadelta(model_task2.parameters(), lr=args.lr)\n",
    "# optimizer_task2 = optim.Adadelta(model.parameters(), lr=1)\n",
    "# scheduler_task2 = StepLR(optimizer_task2, step_size=1, gamma=0.7)\n",
    "scheduler_task2 = StepLR(optimizer_task2, step_size=1, gamma=args.gamma)\n",
    "\n",
    "print(f\"MODEL TRAINING TASK #2\".center(60, \"-\"))\n",
    "\n",
    "train_loader_task2, val_loader_task2 = get_data_loaders(task2_dataset, train_size_task2, val_size_task2,train_kwargs, val_kwargs)\n",
    "\n",
    "train_and_validate(args, \n",
    "                   model_task2, \n",
    "                   device, \n",
    "                   train_loader_task2, \n",
    "                   val_loader_task2, \n",
    "                   optimizer_task2, \n",
    "                   scheduler_task2, \n",
    "                   title=\"Task 2: \", \n",
    "                   type_label= task2_classes,\n",
    "                   model_path=\"models/mnist_cnn_task2_MULTICLASS.pt\")\n"
   ]
  },
  {
   "cell_type": "markdown",
   "metadata": {},
   "source": [
    "### Test it over task-2 validation data "
   ]
  },
  {
   "cell_type": "code",
   "execution_count": 19,
   "metadata": {},
   "outputs": [
    {
     "name": "stdout",
     "output_type": "stream",
     "text": [
      "\\Val set: Average loss: 0.0639, Accuracy: 239/243 (98%)\n",
      "\n"
     ]
    }
   ],
   "source": [
    "val_accuracy, val_loss, all_predictions, all_labels = validate(model_task2, device, val_loader_task2,task2_classes)\n"
   ]
  },
  {
   "cell_type": "code",
   "execution_count": 20,
   "metadata": {},
   "outputs": [
    {
     "data": {
      "image/png": "[encoded data removed]",
      "text/plain": [
       "<Figure size 500x400 with 1 Axes>"
      ]
     },
     "metadata": {},
     "output_type": "display_data"
    },
    {
     "data": {
      "text/plain": [
       "(array([1, 5, 6, 7, 8, 9], dtype=int64),\n",
       " array([1, 5, 6, 7, 8, 9], dtype=int64))"
      ]
     },
     "execution_count": 20,
     "metadata": {},
     "output_type": "execute_result"
    }
   ],
   "source": [
    "unique_classes = np.unique(np.concatenate((all_labels, all_predictions)))\n",
    "confusion_mat = confusion_matrix(all_labels, all_predictions, labels=unique_classes)\n",
    "conf_matrix = pd.DataFrame(confusion_mat, index=unique_classes, columns=unique_classes)\n",
    "\n",
    "# Plot the confusion matrix using seaborn\n",
    "plt.figure(figsize=(5, 4))\n",
    "ax = sns.heatmap(conf_matrix, annot=True, cmap=sns.cubehelix_palette(as_cmap=True), linewidths=0.1, cbar=False)\n",
    "\n",
    "# Set labels and ticks\n",
    "ax.set_xlabel('Predicted Labels')\n",
    "ax.set_ylabel('True Labels')\n",
    "\n",
    "# Set x and y ticks using the unique classes\n",
    "ax.set_xticks(range(len(unique_classes)))\n",
    "ax.set_yticks(range(len(unique_classes)))\n",
    "\n",
    "# Set x and y ticks at the center of the cells\n",
    "ax.set_xticks([i + 0.5 for i in range(len(unique_classes))])\n",
    "ax.set_yticks([i + 0.5 for i in range(len(unique_classes))])\n",
    "\n",
    "\n",
    "plt.show()\n",
    "np.unique(all_predictions), np.unique(all_labels)"
   ]
  },
  {
   "cell_type": "code",
   "execution_count": 21,
   "metadata": {},
   "outputs": [
    {
     "data": {
      "text/plain": [
       "array([1, 5, 6, 7, 8, 9], dtype=int64)"
      ]
     },
     "execution_count": 21,
     "metadata": {},
     "output_type": "execute_result"
    }
   ],
   "source": [
    "unique_classes"
   ]
  },
  {
   "cell_type": "code",
   "execution_count": 22,
   "metadata": {},
   "outputs": [
    {
     "data": {
      "text/plain": [
       "(array([1, 5, 6, 7, 8, 9], dtype=int64),\n",
       " array([1, 5, 6, 7, 8, 9], dtype=int64))"
      ]
     },
     "execution_count": 22,
     "metadata": {},
     "output_type": "execute_result"
    }
   ],
   "source": [
    "np.unique(all_predictions), np.unique(all_labels)"
   ]
  },
  {
   "cell_type": "code",
   "execution_count": 23,
   "metadata": {},
   "outputs": [
    {
     "data": {
      "image/png": "[encoded data removed]",
      "text/plain": [
       "<Figure size 1200x1200 with 16 Axes>"
      ]
     },
     "metadata": {},
     "output_type": "display_data"
    }
   ],
   "source": [
    "visualize_predictions(model, val_loader_task2, device, dataset_type=DATASET)\n"
   ]
  },
  {
   "cell_type": "code",
   "execution_count": 24,
   "metadata": {},
   "outputs": [
    {
     "name": "stdout",
     "output_type": "stream",
     "text": [
      "\n",
      "Classification Report:\n",
      "              precision    recall  f1-score   support\n",
      "\n",
      "           5       1.00      0.98      0.99        47\n",
      "           6       0.97      0.97      0.97        40\n",
      "           7       1.00      1.00      1.00        41\n",
      "           8       1.00      0.97      0.99        39\n",
      "           9       0.96      1.00      0.98        45\n",
      "           1       0.97      0.97      0.97        31\n",
      "\n",
      "    accuracy                           0.98       243\n",
      "   macro avg       0.98      0.98      0.98       243\n",
      "weighted avg       0.98      0.98      0.98       243\n",
      "\n"
     ]
    }
   ],
   "source": [
    "print(\"\\nClassification Report:\")\n",
    "print(classification_report(all_labels, all_predictions, target_names=[str(c) for c in task2_classes]))"
   ]
  },
  {
   "cell_type": "markdown",
   "metadata": {},
   "source": [
    "## Testing model again on task 1\n"
   ]
  },
  {
   "cell_type": "code",
   "execution_count": 25,
   "metadata": {},
   "outputs": [
    {
     "name": "stdout",
     "output_type": "stream",
     "text": [
      "\\Val set: Average loss: 7.3815, Accuracy: 71/237 (30%)\n",
      "\n"
     ]
    }
   ],
   "source": [
    "val_accuracy, val_loss, all_predictions, all_labels  = validate(model_task2, device, val_loader_task1, task1_classes)"
   ]
  },
  {
   "cell_type": "markdown",
   "metadata": {},
   "source": [
    "Alternatively, the model can be loaded using the best stored model trained on task 2"
   ]
  },
  {
   "cell_type": "code",
   "execution_count": 26,
   "metadata": {},
   "outputs": [
    {
     "name": "stdout",
     "output_type": "stream",
     "text": [
      "\\Val set: Average loss: 7.3815, Accuracy: 71/237 (30%)\n",
      "\n"
     ]
    }
   ],
   "source": [
    "model_task1_adapted = models.Net_log_softmax(classes=len(task1_classes)).to(device)\n",
    "model_state_dict_task2 = torch.load(\"models/mnist_cnn_task2.pt\")\n",
    "model_task1_adapted.load_state_dict(model_state_dict_task2.copy()) \n",
    "test_accuracy, test_loss, all_predictions, all_labels  = validate(model_task1_adapted, device, val_loader_task1, task1_classes)"
   ]
  },
  {
   "cell_type": "code",
   "execution_count": 27,
   "metadata": {},
   "outputs": [
    {
     "data": {
      "text/plain": [
       "(array([0, 1, 2, 3, 4, 9], dtype=int64),\n",
       " array([0, 1, 2, 3, 4, 9], dtype=int64))"
      ]
     },
     "execution_count": 27,
     "metadata": {},
     "output_type": "execute_result"
    }
   ],
   "source": [
    "np.unique(all_predictions), np.unique(all_labels)"
   ]
  },
  {
   "cell_type": "code",
   "execution_count": 28,
   "metadata": {},
   "outputs": [
    {
     "name": "stdout",
     "output_type": "stream",
     "text": [
      "\\Val set: Average loss: 7.3815, Accuracy: 71/237 (30%)\n",
      "\n"
     ]
    },
    {
     "data": {
      "image/png": "[encoded data removed]",
      "text/plain": [
       "<Figure size 500x400 with 1 Axes>"
      ]
     },
     "metadata": {},
     "output_type": "display_data"
    }
   ],
   "source": [
    "test_accuracy, test_loss, all_predictions, all_labels = validate(model_task2, device,  val_loader_task1)\n",
    "confusion_mat = confusion_matrix(all_labels, all_predictions )\n",
    "conf_matrix = pd.DataFrame(confusion_mat)\n",
    "# Plot the confusion matrix using seaborn\n",
    "plt.figure(figsize=(5, 4))\n",
    "ax = sns.heatmap(conf_matrix,annot=True,  cmap=sns.cubehelix_palette(as_cmap=True), linewidths=0.1, cbar=False)\n",
    "\n",
    "# Set labels and ticks  \n",
    "ax.set_xlabel('Predicted Labels')\n",
    "ax.set_ylabel('True Labels')\n",
    "ax.set_xticklabels(range(confusion_mat.shape[0]), rotation=45, ha='right')\n",
    "ax.set_yticklabels(range(confusion_mat.shape[0]), rotation=0)\n",
    "\n",
    "# Display the plot\n",
    "plt.show()"
   ]
  },
  {
   "cell_type": "code",
   "execution_count": 29,
   "metadata": {},
   "outputs": [
    {
     "name": "stdout",
     "output_type": "stream",
     "text": [
      "\n",
      "Classification Report:\n",
      "              precision    recall  f1-score   support\n",
      "\n",
      "           0       0.46      0.42      0.44        43\n",
      "           1       0.00      0.00      0.00        40\n",
      "           2       0.67      0.16      0.26        38\n",
      "           3       0.21      0.31      0.25        35\n",
      "           4       0.47      0.86      0.61        42\n",
      "           9       0.00      0.00      0.00        39\n",
      "\n",
      "    accuracy                           0.30       237\n",
      "   macro avg       0.30      0.29      0.26       237\n",
      "weighted avg       0.30      0.30      0.27       237\n",
      "\n"
     ]
    }
   ],
   "source": [
    "print(\"\\nClassification Report:\")\n",
    "print(classification_report(all_labels, all_predictions, target_names=[str(c) for c in task1_classes]))"
   ]
  },
  {
   "cell_type": "code",
   "execution_count": 30,
   "metadata": {},
   "outputs": [
    {
     "data": {
      "image/png": "[encoded data removed]",
      "text/plain": [
       "<Figure size 1200x1200 with 16 Axes>"
      ]
     },
     "metadata": {},
     "output_type": "display_data"
    }
   ],
   "source": [
    "visualize_predictions(model_task1_adapted, val_loader_task1, device, dataset_type=DATASET)"
   ]
  }
 ],
 "metadata": {
  "kernelspec": {
   "display_name": "sebasmos",
   "language": "python",
   "name": "python3"
  },
  "language_info": {
   "codemirror_mode": {
    "name": "ipython",
    "version": 3
   },
   "file_extension": ".py",
   "mimetype": "text/x-python",
   "name": "python",
   "nbconvert_exporter": "python",
   "pygments_lexer": "ipython3",
   "version": "3.10.13"
  }
 },
 "nbformat": 4,
 "nbformat_minor": 4
}
