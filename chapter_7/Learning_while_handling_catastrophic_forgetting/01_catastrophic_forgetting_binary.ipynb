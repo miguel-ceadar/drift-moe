{
 "cells": [
  {
   "cell_type": "markdown",
   "metadata": {},
   "source": [
    "# Catastrophic forgetting during binary classification"
   ]
  },
  {
   "cell_type": "code",
   "execution_count": 1,
   "metadata": {},
   "outputs": [
    {
     "ename": "ModuleNotFoundError",
     "evalue": "No module named 'torch'",
     "output_type": "error",
     "traceback": [
      "\u001b[1;31m---------------------------------------------------------------------------\u001b[0m",
      "\u001b[1;31mModuleNotFoundError\u001b[0m                       Traceback (most recent call last)",
      "Cell \u001b[1;32mIn[1], line 3\u001b[0m\n\u001b[0;32m      1\u001b[0m \u001b[38;5;28;01mfrom\u001b[39;00m \u001b[38;5;21;01m__future__\u001b[39;00m \u001b[38;5;28;01mimport\u001b[39;00m print_function\n\u001b[0;32m      2\u001b[0m \u001b[38;5;28;01mimport\u001b[39;00m \u001b[38;5;21;01margparse\u001b[39;00m\n\u001b[1;32m----> 3\u001b[0m \u001b[38;5;28;01mimport\u001b[39;00m \u001b[38;5;21;01mtorch\u001b[39;00m\n\u001b[0;32m      4\u001b[0m \u001b[38;5;28;01mimport\u001b[39;00m \u001b[38;5;21;01mtorch\u001b[39;00m\u001b[38;5;21;01m.\u001b[39;00m\u001b[38;5;21;01mnn\u001b[39;00m \u001b[38;5;28;01mas\u001b[39;00m \u001b[38;5;21;01mnn\u001b[39;00m\n\u001b[0;32m      5\u001b[0m \u001b[38;5;28;01mimport\u001b[39;00m \u001b[38;5;21;01mtorch\u001b[39;00m\u001b[38;5;21;01m.\u001b[39;00m\u001b[38;5;21;01mnn\u001b[39;00m\u001b[38;5;21;01m.\u001b[39;00m\u001b[38;5;21;01mfunctional\u001b[39;00m \u001b[38;5;28;01mas\u001b[39;00m \u001b[38;5;21;01mF\u001b[39;00m\n",
      "\u001b[1;31mModuleNotFoundError\u001b[0m: No module named 'torch'"
     ]
    }
   ],
   "source": [
    "from __future__ import print_function\n",
    "import argparse\n",
    "import torch\n",
    "import torch.nn as nn\n",
    "import torch.nn.functional as F\n",
    "import torch.optim as optim\n",
    "from torchvision import datasets, transforms\n",
    "from torch.optim.lr_scheduler import StepLR\n",
    "from torch.utils.data import random_split\n",
    "from torch.utils.data import Subset, DataLoader, random_split\n",
    "from torchvision import datasets, transforms\n",
    "import torch.optim as optim\n",
    "from torch.optim.lr_scheduler import StepLR\n",
    "import matplotlib.pyplot as plt\n",
    "import os\n",
    "import numpy as np\n",
    "from sklearn.metrics import confusion_matrix, classification_report\n",
    "import pandas as pd \n",
    "import models as models\n",
    "# Set the seed for PyTorch\n",
    "torch.manual_seed(42)"
   ]
  },
  {
   "cell_type": "markdown",
   "metadata": {},
   "source": [
    "Adapted from Original Pytorch github https://github.com/pytorch/examples/blob/main/mnist/main.py "
   ]
  },
  {
   "cell_type": "code",
   "execution_count": null,
   "metadata": {},
   "outputs": [],
   "source": [
    "def train(args, model, device, train_loader, optimizer, epoch):\n",
    "    \"\"\"\n",
    "    Train the neural network model using binary cross-entropy loss for binary classification.\n",
    "\n",
    "    Args:\n",
    "    - args: Command-line arguments and configurations.\n",
    "    - model: The neural network model to be trained.\n",
    "    - device: The device to which data and model should be moved (e.g., \"cuda\" for GPU or \"cpu\").\n",
    "    - train_loader: DataLoader providing training data.\n",
    "    - optimizer: Optimizer for updating model parameters.\n",
    "    - epoch: The current epoch number.\n",
    "\n",
    "    Returns:\n",
    "    - accuracy: Accuracy of the model on the training set.\n",
    "    - average_loss: Average binary cross-entropy loss over the training set.\n",
    "    \"\"\"\n",
    "    model.train()\n",
    "    total_loss = 0.0\n",
    "    correct = 0\n",
    "\n",
    "    for batch_idx, (data, target) in enumerate(train_loader):\n",
    "        data, target = data.to(device), target.to(device)\n",
    "        optimizer.zero_grad()\n",
    "        output = model(data)\n",
    "        predicted_labels = torch.argmax(output, dim=1).float()\n",
    "        # Activate gradients for backpropagation in the predictions\n",
    "        predicted_labels.requires_grad = True \n",
    "        loss_BCE = nn.BCEWithLogitsLoss()\n",
    "        loss = loss_BCE(predicted_labels, target.float())\n",
    "        total_loss += loss.item()\n",
    "        # Calculate accuracy\n",
    "        pred = output.argmax(dim=1, keepdim=True)\n",
    "        correct += pred.eq(target.view_as(pred)).sum().item()\n",
    "\n",
    "        loss.backward()\n",
    "        optimizer.step()\n",
    "\n",
    "        if batch_idx % args.log_interval == 0:\n",
    "            print('Train Epoch: {} [{}/{} ({:.0f}%)]\\tLoss: {:.6f}'.format(\n",
    "                epoch, batch_idx * len(data), len(train_loader.dataset),\n",
    "                100. * batch_idx / len(train_loader), loss.item()))\n",
    "            if args.dry_run:\n",
    "                break\n",
    "    # Calculate and return the average loss and accuracy\n",
    "    average_loss = total_loss / len(train_loader.dataset)\n",
    "    accuracy = 100.*correct / len(train_loader.dataset)\n",
    "    return accuracy, average_loss\n",
    "\n",
    "def validate(model, device, val_loader):\n",
    "    \"\"\"\n",
    "    Evaluate the neural network model on a validation or test set using binary cross-entropy loss for binary classification.\n",
    "\n",
    "    Args:\n",
    "    - model: The neural network model to be evaluated.\n",
    "    - device: The device to which data and model should be moved (e.g., \"cuda\" for GPU or \"cpu\").\n",
    "    - val_loader: DataLoader providing validation or test data.\n",
    "\n",
    "    Returns:\n",
    "    - accuracy: Accuracy of the model on the validation or test set.\n",
    "    - val_loss: Binary cross-entropy loss on the validation or test set.\n",
    "    - all_predictions: Predicted labels for all instances in the validation or test set.\n",
    "    - all_labels: True labels for all instances in the validation or test set.\n",
    "    \"\"\"\n",
    "    model.eval()\n",
    "    val_loss = 0\n",
    "    correct = 0\n",
    "    all_predictions = []\n",
    "    all_labels = []\n",
    "    with torch.no_grad():\n",
    "        for data, target in val_loader:\n",
    "            data, target = data.to(device), target.to(device)\n",
    "            output = model(data)\n",
    "            predicted_labels = torch.argmax(output, dim=1).float()#.squeeze(1)\n",
    "            # Set requires_grad to True\n",
    "            predicted_labels.requires_grad = True\n",
    "            loss_BCE = nn.BCEWithLogitsLoss()\n",
    "            val_loss += loss_BCE(predicted_labels, target.float()).item()  # sum up batch loss\n",
    "            pred = output.argmax(dim=1, keepdim=True)  # get the index of the max log-probability\n",
    "            correct += pred.eq(target.view_as(pred)).sum().item()\n",
    "            pred = pred.squeeze().cpu().numpy() # shape [N,]\n",
    "            target = target.cpu().numpy() #target shape is  [N,n]\n",
    "            assert pred.shape == target.shape, \"pred and targets should have the same shape\"\n",
    "            print(pred.shape, target.shape)\n",
    "            all_predictions.append(pred)\n",
    "            all_labels.append(target)\n",
    "    all_predictions = np.concatenate(all_predictions)\n",
    "    all_labels = np.concatenate(all_labels)\n",
    "\n",
    "    val_loss /= len(val_loader.dataset)\n",
    "    accuracy = 100. * correct / len(val_loader.dataset)\n",
    "    print('\\nTest set: Average loss: {:.4f}, Accuracy: {}/{} ({:.0f}%)\\n'.format(\n",
    "        val_loss, correct, len(val_loader.dataset),\n",
    "        100. * correct / len(val_loader.dataset)))\n",
    "    \n",
    "    return accuracy, val_loss, all_predictions, all_labels\n",
    "    \n",
    "\n",
    "def train_and_validate(args, model, device, train_loader, val_loader, optimizer, scheduler, title = \"\"):\n",
    "    \"\"\"\n",
    "    Train and validate a neural network model across multiple epochs.\n",
    "\n",
    "    Args:\n",
    "    - args: Command-line arguments and configurations.\n",
    "    - model: The neural network model to be trained and validated.\n",
    "    - device: The device to which data and model should be moved (e.g., \"cuda\" for GPU or \"cpu\").\n",
    "    - train_loader: DataLoader providing training data.\n",
    "    - test_loader: DataLoader providing validation or test data.\n",
    "    - optimizer: Optimizer for updating model parameters.\n",
    "    - scheduler: Learning rate scheduler.\n",
    "    - title: Title for the plot (optional).\n",
    "\n",
    "    Returns:\n",
    "    - all_predictions: Predicted labels for all instances in the validation or test set.\n",
    "    - all_labels: True labels for all instances in the validation or test set.\n",
    "    \"\"\"\n",
    "    train_losses = [] \n",
    "    val_accuracies = []  \n",
    "    train_accuracies = [] \n",
    "    val_losses = [] \n",
    "    \n",
    "    for epoch in range(1, args.epochs + 1):\n",
    "        train_accuracy, train_loss = train(args, model, device, train_loader, optimizer, epoch)\n",
    "        val_accuracy, val_loss, all_predictions, all_labels = validate(model, device, val_loader)\n",
    "        scheduler.step()        \n",
    "        train_accuracies.append(train_accuracy)\n",
    "        train_losses.append(train_loss)\n",
    "        val_accuracies.append(val_accuracy)\n",
    "        val_losses.append(val_loss)\n",
    "\n",
    "            # Print training loss and test accuracy during each epoch\n",
    "        print(f'Epoch {epoch}/{args.epochs}: Training Loss: {train_loss:.4f}, Val Accuracy: {val_accuracy:.2f}%')\n",
    "        \n",
    "    # Plot loss and accuracy after all epochs\n",
    "    plot_loss_and_accuracy(train_accuracies, train_losses, val_accuracies, val_losses, title)\n",
    "\n",
    "\n",
    "    return all_predictions, all_labels\n",
    "\n",
    "\n",
    "def save_model_state_dict(model_state_dict, filename, overwrite=True):\n",
    "    \"\"\"\n",
    "    Save the state dictionary of a PyTorch model to a file.\n",
    "\n",
    "    Args:\n",
    "    - model_state_dict: The state dictionary of the PyTorch model.\n",
    "    - filename: The name of the file to which the state dictionary will be saved.\n",
    "    - overwrite: Boolean flag indicating whether to overwrite an existing file (default is True).\n",
    "\n",
    "    Returns:\n",
    "    - None\n",
    "    \"\"\"\n",
    "    models_folder = \"models\"\n",
    "    \n",
    "    if not os.path.exists(models_folder):\n",
    "        os.makedirs(models_folder)\n",
    "\n",
    "    file_path = os.path.join(models_folder, filename)\n",
    "    if os.path.exists(file_path) and not overwrite:\n",
    "        user_input = input(f\"The file '{filename}' already exists. Do you want to overwrite it? (yes/no): \")\n",
    "        if user_input.lower() != 'yes':\n",
    "            print(\"Model not saved.\")\n",
    "            return\n",
    "    torch.save(model_state_dict, file_path)\n",
    "    print(f\"Model state dict saved to: {file_path}\")\n",
    "    \n",
    "def plot_loss_and_accuracy(train_accuracies, train_losses, val_accuracies, val_losses, title = \"\"):\n",
    "    fig, (ax1, ax2) = plt.subplots(1, 2, figsize=(12, 4))\n",
    "\n",
    "    ax1.plot(train_losses, label='Training Loss')\n",
    "    ax1.plot(train_accuracies, label='Training Accuracy')\n",
    "    ax1.set_xlabel('Epoch')\n",
    "    ax1.set_title(f'{title} - training data')\n",
    "    ax1.legend()\n",
    "    ax2.plot(val_losses, label='Validation Loss')\n",
    "    ax2.plot(val_accuracies, label='Validation Accuracy')\n",
    "    ax2.set_xlabel('Epoch')\n",
    "    ax2.set_title(f'{title} - validation data')\n",
    "    ax2.legend()\n",
    "\n",
    "def plot_loss_and_accuracy_single(val_accuracies, val_losses, title = \"\"):\n",
    "    fig, (ax2) = plt.subplots(1, 1, figsize=(12, 4))\n",
    "    # Plot Testing Loss and Accuracy\n",
    "    ax2.plot(val_losses, label='Validation Loss')\n",
    "    ax2.plot(val_accuracies, label='Validation Accuracy')\n",
    "    ax2.set_xlabel('Epoch')\n",
    "    ax2.set_title(f'{title} - Validation data')\n",
    "    ax2.legend()\n",
    "\n",
    "    \n",
    "def get_data_loaders(dataset, train_size, val_size, train_kwargs, val_kwargs):\n",
    "    train_set, val_set = random_split(dataset, [train_size, val_size])\n",
    "    train_loader = DataLoader(train_set, **train_kwargs)\n",
    "    val_loader = DataLoader(val_set, **val_kwargs)\n",
    "    return train_loader, val_loader\n",
    "\n",
    "\n",
    "parser = argparse.ArgumentParser(description='PyTorch MNIST Example')\n",
    "parser.add_argument('--batch-size', type=int, default=4, metavar='N',\n",
    "                        help='input batch size for training (default: 64)')\n",
    "parser.add_argument('--val-batch-size', type=int, default=1000, metavar='N',\n",
    "                        help='input batch size for testing (default: 1000)')\n",
    "parser.add_argument('--epochs', type=int, default=14, metavar='N',\n",
    "                        help='number of epochs to train (default: 14)')\n",
    "parser.add_argument('--lr', type=float, default=1.0, metavar='LR',\n",
    "                        help='learning rate (default: 1.0)')\n",
    "parser.add_argument('--gamma', type=float, default=0.7, metavar='M',\n",
    "                        help='Learning rate step gamma (default: 0.7)')\n",
    "parser.add_argument('--no-cuda', action='store_true', default=False,\n",
    "                        help='disables CUDA training')\n",
    "parser.add_argument('--no-mps', action='store_true', default=False,\n",
    "                        help='disables macOS GPU training')\n",
    "parser.add_argument('--dry-run', action='store_true', default=False,\n",
    "                        help='quickly check a single pass')\n",
    "parser.add_argument('--seed', type=int, default=1, metavar='S',\n",
    "                        help='random seed (default: 1)')\n",
    "parser.add_argument('--log-interval', type=int, default=10, metavar='N',\n",
    "                        help='how many batches to wait before logging training status')\n",
    "parser.add_argument('--save-model', action='store_true', default=False,\n",
    "                        help='For Saving the current Model')\n",
    "parser.add_argument('--val_reduced', action='store_true', default=True,\n",
    "                        help='For Saving the current Model')\n",
    "\n",
    "# args = parser.parse_args()\n",
    "args, unknown = parser.parse_known_args()\n",
    "use_cuda = not args.no_cuda and torch.cuda.is_available()\n",
    "use_mps = not args.no_mps and torch.backends.mps.is_available()\n",
    "    \n",
    "torch.manual_seed(args.seed)\n",
    "\n",
    "if use_cuda:\n",
    "        device = torch.device(\"cuda\")\n",
    "elif use_mps:\n",
    "        device = torch.device(\"mps\")\n",
    "else:\n",
    "        device = torch.device(\"cpu\")\n",
    "\n",
    "train_kwargs = {'batch_size': args.batch_size}\n",
    "val_kwargs = {'batch_size': args.val_batch_size}\n",
    "\n",
    "if 'cuda' in str(device):\n",
    "        cuda_kwargs = {'num_workers': 1, 'pin_memory': True, 'shuffle': True}\n",
    "        train_kwargs.update(cuda_kwargs)\n",
    "        val_kwargs.update(cuda_kwargs)\n",
    "\n",
    "transform = transforms.Compose([transforms.ToTensor(), transforms.Normalize((0.1307,), (0.3081,))])\n",
    "mnist_dataset = datasets.MNIST(root=\"./data\", train=True, transform=transform, download=True)\n",
    "\n",
    "if args.val_reduced:\n",
    "        sampled_indices = torch.randperm(len(mnist_dataset))[:1000]\n",
    "        mnist_dataset = Subset(mnist_dataset, sampled_indices)\n"
   ]
  },
  {
   "cell_type": "code",
   "execution_count": null,
   "metadata": {
    "scrolled": true
   },
   "outputs": [
    {
     "name": "stdout",
     "output_type": "stream",
     "text": [
      "Unique Labels in Dataset: {0, 1, 2, 3, 4, 5, 6, 7, 8, 9}\n",
      "Selected labels for Task 1: {0, 1}\n",
      "Train Epoch: 1 [0/172 (0%)]\tLoss: 0.693147\n",
      "Train Epoch: 1 [40/172 (23%)]\tLoss: 0.753204\n",
      "Train Epoch: 1 [80/172 (47%)]\tLoss: 0.598176\n",
      "Train Epoch: 1 [120/172 (70%)]\tLoss: 0.693147\n",
      "Train Epoch: 1 [160/172 (93%)]\tLoss: 0.658233\n",
      "(43,) (43,)\n",
      "\n",
      "Test set: Average loss: 0.0146, Accuracy: 25/43 (58%)\n",
      "\n",
      "Epoch 1/14: Training Loss: 0.1693, Val Accuracy: 58.14%\n",
      "Train Epoch: 2 [0/172 (0%)]\tLoss: 0.693147\n",
      "Train Epoch: 2 [40/172 (23%)]\tLoss: 0.598176\n",
      "Train Epoch: 2 [80/172 (47%)]\tLoss: 0.408233\n",
      "Train Epoch: 2 [120/172 (70%)]\tLoss: 0.503204\n",
      "Train Epoch: 2 [160/172 (93%)]\tLoss: 0.848176\n",
      "(43,) (43,)\n",
      "\n",
      "Test set: Average loss: 0.0146, Accuracy: 25/43 (58%)\n",
      "\n",
      "Epoch 2/14: Training Loss: 0.1701, Val Accuracy: 58.14%\n",
      "Train Epoch: 3 [0/172 (0%)]\tLoss: 0.753204\n",
      "Train Epoch: 3 [40/172 (23%)]\tLoss: 0.693147\n",
      "Train Epoch: 3 [80/172 (47%)]\tLoss: 0.693147\n",
      "Train Epoch: 3 [120/172 (70%)]\tLoss: 0.753204\n",
      "Train Epoch: 3 [160/172 (93%)]\tLoss: 0.693147\n",
      "(43,) (43,)\n",
      "\n",
      "Test set: Average loss: 0.0146, Accuracy: 25/43 (58%)\n",
      "\n",
      "Epoch 3/14: Training Loss: 0.1742, Val Accuracy: 58.14%\n",
      "Train Epoch: 4 [0/172 (0%)]\tLoss: 0.598176\n",
      "Train Epoch: 4 [40/172 (23%)]\tLoss: 0.658233\n",
      "Train Epoch: 4 [80/172 (47%)]\tLoss: 0.598176\n",
      "Train Epoch: 4 [120/172 (70%)]\tLoss: 1.003204\n",
      "Train Epoch: 4 [160/172 (93%)]\tLoss: 0.753204\n",
      "(43,) (43,)\n",
      "\n",
      "Test set: Average loss: 0.0146, Accuracy: 25/43 (58%)\n",
      "\n",
      "Epoch 4/14: Training Loss: 0.1788, Val Accuracy: 58.14%\n",
      "Train Epoch: 5 [0/172 (0%)]\tLoss: 0.753204\n",
      "Train Epoch: 5 [40/172 (23%)]\tLoss: 0.503204\n",
      "Train Epoch: 5 [80/172 (47%)]\tLoss: 0.693147\n",
      "Train Epoch: 5 [120/172 (70%)]\tLoss: 0.598176\n",
      "Train Epoch: 5 [160/172 (93%)]\tLoss: 0.503204\n",
      "(43,) (43,)\n",
      "\n",
      "Test set: Average loss: 0.0146, Accuracy: 25/43 (58%)\n",
      "\n",
      "Epoch 5/14: Training Loss: 0.1656, Val Accuracy: 58.14%\n",
      "Train Epoch: 6 [0/172 (0%)]\tLoss: 0.693147\n",
      "Train Epoch: 6 [40/172 (23%)]\tLoss: 0.693147\n",
      "Train Epoch: 6 [80/172 (47%)]\tLoss: 0.753204\n",
      "Train Epoch: 6 [120/172 (70%)]\tLoss: 0.503204\n",
      "Train Epoch: 6 [160/172 (93%)]\tLoss: 0.848176\n",
      "(43,) (43,)\n",
      "\n",
      "Test set: Average loss: 0.0146, Accuracy: 25/43 (58%)\n",
      "\n",
      "Epoch 6/14: Training Loss: 0.1692, Val Accuracy: 58.14%\n",
      "Train Epoch: 7 [0/172 (0%)]\tLoss: 0.658233\n",
      "Train Epoch: 7 [40/172 (23%)]\tLoss: 0.848176\n",
      "Train Epoch: 7 [80/172 (47%)]\tLoss: 0.598176\n",
      "Train Epoch: 7 [120/172 (70%)]\tLoss: 0.848176\n",
      "Train Epoch: 7 [160/172 (93%)]\tLoss: 0.598176\n",
      "(43,) (43,)\n",
      "\n",
      "Test set: Average loss: 0.0146, Accuracy: 25/43 (58%)\n",
      "\n",
      "Epoch 7/14: Training Loss: 0.1625, Val Accuracy: 58.14%\n",
      "Train Epoch: 8 [0/172 (0%)]\tLoss: 0.503204\n",
      "Train Epoch: 8 [40/172 (23%)]\tLoss: 0.503204\n",
      "Train Epoch: 8 [80/172 (47%)]\tLoss: 0.753204\n",
      "Train Epoch: 8 [120/172 (70%)]\tLoss: 0.503204\n",
      "Train Epoch: 8 [160/172 (93%)]\tLoss: 0.563262\n",
      "(43,) (43,)\n",
      "\n",
      "Test set: Average loss: 0.0146, Accuracy: 25/43 (58%)\n",
      "\n",
      "Epoch 8/14: Training Loss: 0.1676, Val Accuracy: 58.14%\n",
      "Train Epoch: 9 [0/172 (0%)]\tLoss: 0.848176\n",
      "Train Epoch: 9 [40/172 (23%)]\tLoss: 0.598176\n",
      "Train Epoch: 9 [80/172 (47%)]\tLoss: 0.598176\n",
      "Train Epoch: 9 [120/172 (70%)]\tLoss: 0.598176\n",
      "Train Epoch: 9 [160/172 (93%)]\tLoss: 0.753204\n",
      "(43,) (43,)\n",
      "\n",
      "Test set: Average loss: 0.0146, Accuracy: 25/43 (58%)\n",
      "\n",
      "Epoch 9/14: Training Loss: 0.1705, Val Accuracy: 58.14%\n",
      "Train Epoch: 10 [0/172 (0%)]\tLoss: 1.158233\n",
      "Train Epoch: 10 [40/172 (23%)]\tLoss: 0.598176\n",
      "Train Epoch: 10 [80/172 (47%)]\tLoss: 0.598176\n",
      "Train Epoch: 10 [120/172 (70%)]\tLoss: 1.158233\n",
      "Train Epoch: 10 [160/172 (93%)]\tLoss: 0.693147\n",
      "(43,) (43,)\n",
      "\n",
      "Test set: Average loss: 0.0146, Accuracy: 25/43 (58%)\n",
      "\n",
      "Epoch 10/14: Training Loss: 0.1721, Val Accuracy: 58.14%\n",
      "Train Epoch: 11 [0/172 (0%)]\tLoss: 0.813262\n",
      "Train Epoch: 11 [40/172 (23%)]\tLoss: 0.753204\n",
      "Train Epoch: 11 [80/172 (47%)]\tLoss: 0.753204\n",
      "Train Epoch: 11 [120/172 (70%)]\tLoss: 0.658233\n",
      "Train Epoch: 11 [160/172 (93%)]\tLoss: 0.658233\n",
      "(43,) (43,)\n",
      "\n",
      "Test set: Average loss: 0.0146, Accuracy: 25/43 (58%)\n",
      "\n",
      "Epoch 11/14: Training Loss: 0.1769, Val Accuracy: 58.14%\n",
      "Train Epoch: 12 [0/172 (0%)]\tLoss: 1.003204\n",
      "Train Epoch: 12 [40/172 (23%)]\tLoss: 0.598176\n",
      "Train Epoch: 12 [80/172 (47%)]\tLoss: 0.598176\n",
      "Train Epoch: 12 [120/172 (70%)]\tLoss: 0.503204\n",
      "Train Epoch: 12 [160/172 (93%)]\tLoss: 0.598176\n",
      "(43,) (43,)\n",
      "\n",
      "Test set: Average loss: 0.0146, Accuracy: 25/43 (58%)\n",
      "\n",
      "Epoch 12/14: Training Loss: 0.1713, Val Accuracy: 58.14%\n",
      "Train Epoch: 13 [0/172 (0%)]\tLoss: 0.598176\n",
      "Train Epoch: 13 [40/172 (23%)]\tLoss: 0.753204\n",
      "Train Epoch: 13 [80/172 (47%)]\tLoss: 0.598176\n",
      "Train Epoch: 13 [120/172 (70%)]\tLoss: 0.693147\n",
      "Train Epoch: 13 [160/172 (93%)]\tLoss: 0.753204\n",
      "(43,) (43,)\n",
      "\n",
      "Test set: Average loss: 0.0146, Accuracy: 25/43 (58%)\n",
      "\n",
      "Epoch 13/14: Training Loss: 0.1726, Val Accuracy: 58.14%\n",
      "Train Epoch: 14 [0/172 (0%)]\tLoss: 0.753204\n",
      "Train Epoch: 14 [40/172 (23%)]\tLoss: 0.503204\n",
      "Train Epoch: 14 [80/172 (47%)]\tLoss: 0.598176\n",
      "Train Epoch: 14 [120/172 (70%)]\tLoss: 0.693147\n",
      "Train Epoch: 14 [160/172 (93%)]\tLoss: 0.658233\n",
      "(43,) (43,)\n",
      "\n",
      "Test set: Average loss: 0.0146, Accuracy: 25/43 (58%)\n",
      "\n",
      "Epoch 14/14: Training Loss: 0.1680, Val Accuracy: 58.14%\n",
      "Model state dict saved to: models\\mnist_cnn_task1.pt\n"
     ]
    },
    {
     "data": {
      "image/png": "[encoded data removed]",
      "text/plain": [
       "<Figure size 1200x400 with 2 Axes>"
      ]
     },
     "metadata": {},
     "output_type": "display_data"
    }
   ],
   "source": [
    "# Define task 1 labeling\n",
    "task1_classes = [1,0]\n",
    "# Check the unique labels in your dataset to make sure they are integers\n",
    "unique_labels = set(label for _, label in mnist_dataset)\n",
    "print(\"Unique Labels in Dataset:\", unique_labels)\n",
    "# Make sure labels are integers; if not, convert them to integers\n",
    "mnist_dataset = [(image, int(label)) for image, label in mnist_dataset]\n",
    "task1_indices = [i for i, (_, label) in enumerate(mnist_dataset) if label in task1_classes]\n",
    "task1_dataset = Subset(mnist_dataset, task1_indices)\n",
    "print(\"Selected labels for Task 1:\", set(label for _, label in task1_dataset))\n",
    "train_size_task1 = int(0.8 * len(task1_indices))\n",
    "val_size_task1 = len(task1_indices) - train_size_task1\n",
    "train_loader_task1, val_loader_task1 = get_data_loaders(task1_dataset, train_size_task1, val_size_task1, train_kwargs, val_kwargs)\n",
    "# model = models.Net(classes = 2).to(device)\n",
    "model = models.Net_tunable(classes = 2, freeze_backbone = False ).to(device)\n",
    "# model = models.BaseModel(28 * 28, 100, 2).to(device)\n",
    "# model = models.AlexNet(classes = 2).to(device)\n",
    "optimizer = optim.Adadelta(model.parameters(), lr=args.lr)\n",
    "scheduler = StepLR(optimizer, step_size=1, gamma=args.gamma)\n",
    "all_predictions, all_labels  = train_and_validate(args, model, device, train_loader_task1, val_loader_task1, optimizer, scheduler,title=\"Task 1: \")\n",
    "model_state_dict_task1 = model.state_dict()\n",
    "save_model_state_dict(model_state_dict_task1, \"mnist_cnn_task1.pt\")"
   ]
  },
  {
   "cell_type": "markdown",
   "metadata": {},
   "source": [
    "### Testing \n",
    "Additionally, we store the predictions and losses\n",
    "\n",
    "Test model trained on task 1 over testing data"
   ]
  },
  {
   "cell_type": "code",
   "execution_count": null,
   "metadata": {},
   "outputs": [
    {
     "name": "stdout",
     "output_type": "stream",
     "text": [
      "(43,) (43,)\n",
      "\n",
      "Test set: Average loss: 0.0146, Accuracy: 25/43 (58%)\n",
      "\n"
     ]
    }
   ],
   "source": [
    "val_accuracy, val_loss, all_predictions, all_labels  = validate(model, device, val_loader_task1)"
   ]
  },
  {
   "cell_type": "code",
   "execution_count": null,
   "metadata": {},
   "outputs": [
    {
     "name": "stdout",
     "output_type": "stream",
     "text": [
      "# zeros: 33 vs # other: 10\n",
      "# zeros: 17 vs # other: 26\n"
     ]
    },
    {
     "data": {
      "text/plain": [
       "(None, None)"
      ]
     },
     "execution_count": 35,
     "metadata": {},
     "output_type": "execute_result"
    }
   ],
   "source": [
    "def count_zeros_and_ones(all_predictions):\n",
    "    num_zeros = len(all_predictions) - np.count_nonzero(all_predictions)\n",
    "    num_ones = np.count_nonzero(all_predictions)\n",
    "    print(f\"# zeros: {num_zeros} vs # other: {num_ones}\")\n",
    "count_zeros_and_ones(all_predictions), count_zeros_and_ones(all_labels)"
   ]
  },
  {
   "cell_type": "code",
   "execution_count": null,
   "metadata": {},
   "outputs": [
    {
     "data": {
      "text/plain": [
       "array([0, 1], dtype=int64)"
      ]
     },
     "execution_count": 36,
     "metadata": {},
     "output_type": "execute_result"
    }
   ],
   "source": [
    "np.unique(all_predictions)"
   ]
  },
  {
   "cell_type": "code",
   "execution_count": null,
   "metadata": {},
   "outputs": [
    {
     "data": {
      "text/plain": [
       "(array([0, 1], dtype=int64), array([0, 1], dtype=int64))"
      ]
     },
     "execution_count": 37,
     "metadata": {},
     "output_type": "execute_result"
    }
   ],
   "source": [
    "np.unique(all_predictions), np.unique(all_labels)"
   ]
  },
  {
   "cell_type": "code",
   "execution_count": null,
   "metadata": {},
   "outputs": [
    {
     "data": {
      "text/plain": [
       "((43,), (43,))"
      ]
     },
     "execution_count": 38,
     "metadata": {},
     "output_type": "execute_result"
    }
   ],
   "source": [
    "all_predictions.shape, all_labels.shape"
   ]
  },
  {
   "cell_type": "code",
   "execution_count": null,
   "metadata": {},
   "outputs": [
    {
     "data": {
      "image/png": "[encoded data removed]",
      "text/plain": [
       "<Figure size 500x400 with 1 Axes>"
      ]
     },
     "metadata": {},
     "output_type": "display_data"
    }
   ],
   "source": [
    "import seaborn as sns\n",
    "all_predictions = all_predictions.squeeze()\n",
    "unique_classes = np.unique(np.concatenate((all_labels, all_predictions)))\n",
    "confusion_mat = confusion_matrix(all_labels, all_predictions, labels=unique_classes)\n",
    "conf_matrix = pd.DataFrame(confusion_mat, index=unique_classes, columns=unique_classes)\n",
    "\n",
    "# Plot the confusion matrix using seaborn\n",
    "plt.figure(figsize=(5, 4))\n",
    "ax = sns.heatmap(conf_matrix, annot=True, cmap=sns.cubehelix_palette(as_cmap=True), linewidths=0.1, cbar=False)\n",
    "\n",
    "# Set labels and ticks\n",
    "ax.set_xlabel('Predicted Labels')\n",
    "ax.set_ylabel('True Labels')\n",
    "\n",
    "# Set x and y ticks using the unique classes\n",
    "ax.set_xticks(range(len(unique_classes)))\n",
    "ax.set_yticks(range(len(unique_classes)))\n",
    "\n",
    "# Set x and y ticks at the center of the cells\n",
    "ax.set_xticks([i + 0.5 for i in range(len(unique_classes))])\n",
    "ax.set_yticks([i + 0.5 for i in range(len(unique_classes))])\n",
    "\n",
    "\n",
    "plt.show()"
   ]
  },
  {
   "cell_type": "code",
   "execution_count": null,
   "metadata": {},
   "outputs": [
    {
     "name": "stdout",
     "output_type": "stream",
     "text": [
      "\n",
      "Classification Report:\n",
      "              precision    recall  f1-score   support\n",
      "\n",
      "           1       0.48      0.94      0.64        17\n",
      "           0       0.90      0.35      0.50        26\n",
      "\n",
      "    accuracy                           0.58        43\n",
      "   macro avg       0.69      0.64      0.57        43\n",
      "weighted avg       0.74      0.58      0.56        43\n",
      "\n"
     ]
    }
   ],
   "source": [
    "print(\"\\nClassification Report:\")\n",
    "print(classification_report(all_labels, all_predictions, target_names=[str(c) for c in task1_classes]))"
   ]
  },
  {
   "cell_type": "markdown",
   "metadata": {},
   "source": [
    "## Training on second task\n",
    "\n",
    "Finetune model, trained on task 1 with new labels of task 2\n"
   ]
  },
  {
   "cell_type": "code",
   "execution_count": null,
   "metadata": {
    "scrolled": true
   },
   "outputs": [
    {
     "name": "stdout",
     "output_type": "stream",
     "text": [
      "Selected labels for Task 2: {0, 5}\n",
      "-------------------MODEL TRAINING TASK #2-------------------\n",
      "Train Epoch: 1 [0/140 (0%)]\tLoss: 0.848176\n",
      "Train Epoch: 1 [40/140 (29%)]\tLoss: 1.003204\n",
      "Train Epoch: 1 [80/140 (57%)]\tLoss: -0.401824\n",
      "Train Epoch: 1 [120/140 (86%)]\tLoss: -0.246796\n",
      "(35,) (35,)\n",
      "\n",
      "Test set: Average loss: 0.0096, Accuracy: 19/35 (54%)\n",
      "\n",
      "Epoch 1/14: Training Loss: 0.0535, Val Accuracy: 54.29%\n",
      "Train Epoch: 2 [0/140 (0%)]\tLoss: 0.848176\n",
      "Train Epoch: 2 [40/140 (29%)]\tLoss: -0.246796\n",
      "Train Epoch: 2 [80/140 (57%)]\tLoss: 1.003204\n",
      "Train Epoch: 2 [120/140 (86%)]\tLoss: 0.848176\n",
      "(35,) (35,)\n",
      "\n",
      "Test set: Average loss: 0.0096, Accuracy: 19/35 (54%)\n",
      "\n",
      "Epoch 2/14: Training Loss: 0.0110, Val Accuracy: 54.29%\n",
      "Train Epoch: 3 [0/140 (0%)]\tLoss: 1.003204\n",
      "Train Epoch: 3 [40/140 (29%)]\tLoss: 0.693147\n",
      "Train Epoch: 3 [80/140 (57%)]\tLoss: -0.401824\n",
      "Train Epoch: 3 [120/140 (86%)]\tLoss: 0.063262\n",
      "(35,) (35,)\n",
      "\n",
      "Test set: Average loss: 0.0096, Accuracy: 19/35 (54%)\n",
      "\n",
      "Epoch 3/14: Training Loss: 0.0256, Val Accuracy: 54.29%\n",
      "Train Epoch: 4 [0/140 (0%)]\tLoss: 0.848176\n",
      "Train Epoch: 4 [40/140 (29%)]\tLoss: 0.848176\n",
      "Train Epoch: 4 [80/140 (57%)]\tLoss: 1.003204\n",
      "Train Epoch: 4 [120/140 (86%)]\tLoss: -0.246796\n",
      "(35,) (35,)\n",
      "\n",
      "Test set: Average loss: 0.0096, Accuracy: 19/35 (54%)\n",
      "\n",
      "Epoch 4/14: Training Loss: 0.0614, Val Accuracy: 54.29%\n",
      "Train Epoch: 5 [0/140 (0%)]\tLoss: -1.496796\n",
      "Train Epoch: 5 [40/140 (29%)]\tLoss: 1.003204\n",
      "Train Epoch: 5 [80/140 (57%)]\tLoss: 0.848176\n",
      "Train Epoch: 5 [120/140 (86%)]\tLoss: 1.003204\n",
      "(35,) (35,)\n",
      "\n",
      "Test set: Average loss: 0.0096, Accuracy: 19/35 (54%)\n",
      "\n",
      "Epoch 5/14: Training Loss: 0.0300, Val Accuracy: 54.29%\n",
      "Train Epoch: 6 [0/140 (0%)]\tLoss: -1.496796\n",
      "Train Epoch: 6 [40/140 (29%)]\tLoss: -0.401824\n",
      "Train Epoch: 6 [80/140 (57%)]\tLoss: 0.848176\n",
      "Train Epoch: 6 [120/140 (86%)]\tLoss: -0.401824\n",
      "(35,) (35,)\n",
      "\n",
      "Test set: Average loss: 0.0096, Accuracy: 19/35 (54%)\n",
      "\n",
      "Epoch 6/14: Training Loss: 0.0580, Val Accuracy: 54.29%\n",
      "Train Epoch: 7 [0/140 (0%)]\tLoss: -0.401824\n",
      "Train Epoch: 7 [40/140 (29%)]\tLoss: -0.091767\n",
      "Train Epoch: 7 [80/140 (57%)]\tLoss: -0.246796\n",
      "Train Epoch: 7 [120/140 (86%)]\tLoss: 0.848176\n",
      "(35,) (35,)\n",
      "\n",
      "Test set: Average loss: 0.0096, Accuracy: 19/35 (54%)\n",
      "\n",
      "Epoch 7/14: Training Loss: 0.0177, Val Accuracy: 54.29%\n",
      "Train Epoch: 8 [0/140 (0%)]\tLoss: -1.496796\n",
      "Train Epoch: 8 [40/140 (29%)]\tLoss: -0.401824\n",
      "Train Epoch: 8 [80/140 (57%)]\tLoss: -0.401824\n",
      "Train Epoch: 8 [120/140 (86%)]\tLoss: 0.848176\n",
      "(35,) (35,)\n",
      "\n",
      "Test set: Average loss: 0.0096, Accuracy: 19/35 (54%)\n",
      "\n",
      "Epoch 8/14: Training Loss: 0.0390, Val Accuracy: 54.29%\n",
      "Train Epoch: 9 [0/140 (0%)]\tLoss: -0.401824\n",
      "Train Epoch: 9 [40/140 (29%)]\tLoss: -0.401824\n",
      "Train Epoch: 9 [80/140 (57%)]\tLoss: 0.848176\n",
      "Train Epoch: 9 [120/140 (86%)]\tLoss: 1.158233\n",
      "(35,) (35,)\n",
      "\n",
      "Test set: Average loss: 0.0096, Accuracy: 19/35 (54%)\n",
      "\n",
      "Epoch 9/14: Training Loss: -0.0046, Val Accuracy: 54.29%\n",
      "Train Epoch: 10 [0/140 (0%)]\tLoss: 0.848176\n",
      "Train Epoch: 10 [40/140 (29%)]\tLoss: 0.848176\n",
      "Train Epoch: 10 [80/140 (57%)]\tLoss: 0.848176\n",
      "Train Epoch: 10 [120/140 (86%)]\tLoss: 0.693147\n",
      "(35,) (35,)\n",
      "\n",
      "Test set: Average loss: 0.0096, Accuracy: 19/35 (54%)\n",
      "\n",
      "Epoch 10/14: Training Loss: 0.0513, Val Accuracy: 54.29%\n",
      "Train Epoch: 11 [0/140 (0%)]\tLoss: -0.246796\n",
      "Train Epoch: 11 [40/140 (29%)]\tLoss: -1.341767\n",
      "Train Epoch: 11 [80/140 (57%)]\tLoss: -0.091767\n",
      "Train Epoch: 11 [120/140 (86%)]\tLoss: -1.341767\n",
      "(35,) (35,)\n",
      "\n",
      "Test set: Average loss: 0.0096, Accuracy: 19/35 (54%)\n",
      "\n",
      "Epoch 11/14: Training Loss: -0.0035, Val Accuracy: 54.29%\n",
      "Train Epoch: 12 [0/140 (0%)]\tLoss: -1.496796\n",
      "Train Epoch: 12 [40/140 (29%)]\tLoss: 0.848176\n",
      "Train Epoch: 12 [80/140 (57%)]\tLoss: -0.401824\n",
      "Train Epoch: 12 [120/140 (86%)]\tLoss: -0.401824\n",
      "(35,) (35,)\n",
      "\n",
      "Test set: Average loss: 0.0096, Accuracy: 19/35 (54%)\n",
      "\n",
      "Epoch 12/14: Training Loss: 0.0021, Val Accuracy: 54.29%\n",
      "Train Epoch: 13 [0/140 (0%)]\tLoss: -0.401824\n",
      "Train Epoch: 13 [40/140 (29%)]\tLoss: -1.496796\n",
      "Train Epoch: 13 [80/140 (57%)]\tLoss: -1.496796\n",
      "Train Epoch: 13 [120/140 (86%)]\tLoss: 0.693147\n",
      "(35,) (35,)\n",
      "\n",
      "Test set: Average loss: 0.0096, Accuracy: 19/35 (54%)\n",
      "\n",
      "Epoch 13/14: Training Loss: 0.0099, Val Accuracy: 54.29%\n",
      "Train Epoch: 14 [0/140 (0%)]\tLoss: 0.848176\n",
      "Train Epoch: 14 [40/140 (29%)]\tLoss: -1.496796\n",
      "Train Epoch: 14 [80/140 (57%)]\tLoss: 0.693147\n",
      "Train Epoch: 14 [120/140 (86%)]\tLoss: 0.693147\n",
      "(35,) (35,)\n",
      "\n",
      "Test set: Average loss: 0.0096, Accuracy: 19/35 (54%)\n",
      "\n",
      "Epoch 14/14: Training Loss: 0.0524, Val Accuracy: 54.29%\n",
      "Model state dict saved to: models\\mnist_cnn_task2.pt\n"
     ]
    },
    {
     "data": {
      "image/png": "[encoded data removed]",
      "text/plain": [
       "<Figure size 1200x400 with 2 Axes>"
      ]
     },
     "metadata": {},
     "output_type": "display_data"
    }
   ],
   "source": [
    "task2_classes = [5,0 ]\n",
    "task2_indices = [i for i, (_, label) in enumerate(mnist_dataset) if label in task2_classes]\n",
    "task2_dataset = Subset(mnist_dataset, task2_indices)\n",
    "print(\"Selected labels for Task 2:\", set(label for _, label in task2_dataset))\n",
    "train_size_task2 = int(0.8 * len(task2_indices))\n",
    "val_size_task2 = len(task2_indices) - train_size_task2\n",
    "model_task2 = models.Net_tunable(classes = 2, freeze_backbone=True).to(device)\n",
    "# model_task2 = models.Net(classes = 2, freeze_backbone=True).to(device)\n",
    "# model_task2 = models.BaseModel(28 * 28, 100, 2).to(device)\n",
    "# model_task2 = models.AlexNet(classes = 2).to(device)\n",
    "model_state_dict_task1 = torch.load(\"models/mnist_cnn_task1.pt\")\n",
    "model_task2.load_state_dict(model_state_dict_task1.copy(), strict=False) \n",
    "optimizer_task2 = optim.Adadelta(model_task2.parameters(), lr=args.lr)\n",
    "# optimizer_task2 = optim.Adadelta(model.parameters(), lr=1)\n",
    "# scheduler_task2 = StepLR(optimizer_task2, step_size=1, gamma=0.7)\n",
    "scheduler_task2 = StepLR(optimizer_task2, step_size=2, gamma=args.gamma)\n",
    "\n",
    "print(f\"MODEL TRAINING TASK #2\".center(60, \"-\"))\n",
    "\n",
    "train_loader_task2, val_loader_task2 = get_data_loaders(task2_dataset, train_size_task2, val_size_task2,\n",
    "                                                             train_kwargs, val_kwargs)\n",
    "\n",
    "train_and_validate(args, model_task2, device, train_loader_task2, val_loader_task2, optimizer_task2, scheduler_task2, title=\"Task 2: \")\n",
    "\n",
    "model_state_dict_task2 = model_task2.state_dict()\n",
    "save_model_state_dict(model_state_dict_task1, \"mnist_cnn_task2.pt\")"
   ]
  },
  {
   "cell_type": "markdown",
   "metadata": {},
   "source": [
    "Test model finetuned in task 2 over second data"
   ]
  },
  {
   "cell_type": "code",
   "execution_count": null,
   "metadata": {},
   "outputs": [
    {
     "name": "stdout",
     "output_type": "stream",
     "text": [
      "(35,) (35,)\n",
      "\n",
      "Test set: Average loss: 0.0096, Accuracy: 19/35 (54%)\n",
      "\n",
      "# zeros: 31 vs # other: 4\n",
      "# zeros: 20 vs # other: 15\n"
     ]
    },
    {
     "data": {
      "image/png": "[encoded data removed]",
      "text/plain": [
       "<Figure size 500x400 with 1 Axes>"
      ]
     },
     "metadata": {},
     "output_type": "display_data"
    },
    {
     "data": {
      "text/plain": [
       "(array([0, 1], dtype=int64), array([0, 5], dtype=int64))"
      ]
     },
     "execution_count": 42,
     "metadata": {},
     "output_type": "execute_result"
    }
   ],
   "source": [
    "val_accuracy, val_loss, all_predictions, all_labels = validate(model_task2, device, val_loader_task2)\n",
    "unique_classes = np.unique(np.concatenate((all_labels, all_predictions)))\n",
    "confusion_mat = confusion_matrix(all_labels, all_predictions, labels=unique_classes)\n",
    "conf_matrix = pd.DataFrame(confusion_mat, index=unique_classes, columns=unique_classes)\n",
    "\n",
    "count_zeros_and_ones(all_predictions), count_zeros_and_ones(all_labels)\n",
    "# Plot the confusion matrix using seaborn\n",
    "plt.figure(figsize=(5, 4))\n",
    "ax = sns.heatmap(conf_matrix, annot=True, cmap=sns.cubehelix_palette(as_cmap=True), linewidths=0.1, cbar=False)\n",
    "\n",
    "# Set labels and ticks\n",
    "ax.set_xlabel('Predicted Labels')\n",
    "ax.set_ylabel('True Labels')\n",
    "\n",
    "# Set x and y ticks using the unique classes\n",
    "ax.set_xticks(range(len(unique_classes)))\n",
    "ax.set_yticks(range(len(unique_classes)))\n",
    "\n",
    "# Set x and y ticks at the center of the cells\n",
    "ax.set_xticks([i + 0.5 for i in range(len(unique_classes))])\n",
    "ax.set_yticks([i + 0.5 for i in range(len(unique_classes))])\n",
    "\n",
    "\n",
    "plt.show()\n",
    "np.unique(all_predictions), np.unique(all_labels)"
   ]
  },
  {
   "cell_type": "code",
   "execution_count": null,
   "metadata": {},
   "outputs": [
    {
     "name": "stdout",
     "output_type": "stream",
     "text": [
      "(35,) (35,)\n",
      "\n",
      "Test set: Average loss: 0.0096, Accuracy: 19/35 (54%)\n",
      "\n"
     ]
    }
   ],
   "source": [
    "val_accuracy, val_loss, all_predictions, all_labels  = validate(model_task2, device, val_loader_task2)"
   ]
  },
  {
   "cell_type": "markdown",
   "metadata": {},
   "source": [
    "## Testing model again on task 1\n"
   ]
  },
  {
   "cell_type": "code",
   "execution_count": null,
   "metadata": {},
   "outputs": [
    {
     "name": "stdout",
     "output_type": "stream",
     "text": [
      "(43,) (43,)\n",
      "\n",
      "Test set: Average loss: 0.0146, Accuracy: 25/43 (58%)\n",
      "\n"
     ]
    }
   ],
   "source": [
    "val_accuracy, val_loss, all_predictions, all_labels  = validate(model_task2, device, val_loader_task1)"
   ]
  },
  {
   "cell_type": "code",
   "execution_count": null,
   "metadata": {},
   "outputs": [
    {
     "name": "stdout",
     "output_type": "stream",
     "text": [
      "# zeros: 33 vs # other: 10\n",
      "# zeros: 17 vs # other: 26\n"
     ]
    },
    {
     "data": {
      "text/plain": [
       "(None, None)"
      ]
     },
     "execution_count": 45,
     "metadata": {},
     "output_type": "execute_result"
    }
   ],
   "source": [
    "count_zeros_and_ones(all_predictions), count_zeros_and_ones(all_labels)"
   ]
  },
  {
   "cell_type": "code",
   "execution_count": null,
   "metadata": {},
   "outputs": [
    {
     "name": "stdout",
     "output_type": "stream",
     "text": [
      "(43,) (43,)\n",
      "\n",
      "Test set: Average loss: 0.0146, Accuracy: 25/43 (58%)\n",
      "\n"
     ]
    }
   ],
   "source": [
    "model_task1_adapted = models.Net_tunable(classes=2).to(device)\n",
    "# model_task1_adapted = models.BaseModel(28 * 28, 100, 2).t\n",
    "# model_task1_adapted = models.AlexNet(classes = 2).to(device)\n",
    "model_state_dict_task2 = torch.load(\"models/mnist_cnn_task2.pt\")\n",
    "model_task1_adapted.load_state_dict(model_state_dict_task2.copy()) \n",
    "val_accuracy, val_loss, all_predictions, all_labels  = validate(model_task1_adapted, device, val_loader_task1)"
   ]
  },
  {
   "cell_type": "code",
   "execution_count": null,
   "metadata": {},
   "outputs": [
    {
     "data": {
      "text/plain": [
       "array([0, 1], dtype=int64)"
      ]
     },
     "execution_count": 47,
     "metadata": {},
     "output_type": "execute_result"
    }
   ],
   "source": [
    "np.unique(all_predictions)"
   ]
  },
  {
   "cell_type": "code",
   "execution_count": null,
   "metadata": {},
   "outputs": [
    {
     "data": {
      "image/png": "[encoded data removed]",
      "text/plain": [
       "<Figure size 500x400 with 1 Axes>"
      ]
     },
     "metadata": {},
     "output_type": "display_data"
    }
   ],
   "source": [
    "confusion_mat = confusion_matrix(all_labels, all_predictions.squeeze())\n",
    "conf_matrix = pd.DataFrame(confusion_mat)\n",
    "# Plot the confusion matrix using seaborn\n",
    "plt.figure(figsize=(5, 4))\n",
    "ax = sns.heatmap(conf_matrix,annot=True,  cmap=sns.cubehelix_palette(as_cmap=True), linewidths=0.1, cbar=False)\n",
    "\n",
    "# Set labels and ticks\n",
    "ax.set_xlabel('Predicted Labels')\n",
    "ax.set_ylabel('True Labels')\n",
    "ax.set_xticklabels(range(confusion_mat.shape[0]), rotation=45, ha='right')\n",
    "ax.set_yticklabels(range(confusion_mat.shape[0]), rotation=0)\n",
    "\n",
    "# Display the plot\n",
    "plt.show()\n"
   ]
  },
  {
   "cell_type": "code",
   "execution_count": null,
   "metadata": {},
   "outputs": [
    {
     "name": "stdout",
     "output_type": "stream",
     "text": [
      "\n",
      "Classification Report:\n",
      "              precision    recall  f1-score   support\n",
      "\n",
      "           1       0.48      0.94      0.64        17\n",
      "           0       0.90      0.35      0.50        26\n",
      "\n",
      "    accuracy                           0.58        43\n",
      "   macro avg       0.69      0.64      0.57        43\n",
      "weighted avg       0.74      0.58      0.56        43\n",
      "\n"
     ]
    }
   ],
   "source": [
    "print(\"\\nClassification Report:\")\n",
    "print(classification_report(all_labels, all_predictions, target_names=[str(c) for c in task1_classes]))"
   ]
  }
 ],
 "metadata": {
  "kernelspec": {
   "display_name": "sebasmos",
   "language": "python",
   "name": "python3"
  },
  "language_info": {
   "codemirror_mode": {
    "name": "ipython",
    "version": 3
   },
   "file_extension": ".py",
   "mimetype": "text/x-python",
   "name": "python",
   "nbconvert_exporter": "python",
   "pygments_lexer": "ipython3",
   "version": "3.11.5"
  }
 },
 "nbformat": 4,
 "nbformat_minor": 4
}
