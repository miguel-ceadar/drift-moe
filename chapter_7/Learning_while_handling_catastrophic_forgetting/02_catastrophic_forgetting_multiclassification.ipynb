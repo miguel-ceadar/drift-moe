{
 "cells": [
  {
   "cell_type": "markdown",
   "metadata": {},
   "source": [
    "# Catastrophic forgetting for multi-classification"
   ]
  },
  {
   "cell_type": "code",
   "execution_count": 1,
   "metadata": {},
   "outputs": [
    {
     "data": {
      "text/plain": [
       "<torch._C.Generator at 0x230f478e090>"
      ]
     },
     "execution_count": 1,
     "metadata": {},
     "output_type": "execute_result"
    }
   ],
   "source": [
    "from __future__ import print_function\n",
    "import argparse\n",
    "import torch\n",
    "import torch.nn as nn\n",
    "import torch.nn.functional as F\n",
    "import torch.optim as optim\n",
    "from torchvision import datasets, transforms\n",
    "from torch.optim.lr_scheduler import StepLR\n",
    "from torch.utils.data import random_split\n",
    "from torch.utils.data import Subset, DataLoader, random_split\n",
    "from torchvision import datasets, transforms\n",
    "import torch.optim as optim\n",
    "from torch.optim.lr_scheduler import StepLR\n",
    "import matplotlib.pyplot as plt\n",
    "import os\n",
    "import numpy as np\n",
    "from sklearn.metrics import confusion_matrix, classification_report\n",
    "import pandas as pd \n",
    "import models as models\n",
    "# Set the seed for PyTorch\n",
    "torch.manual_seed(42)"
   ]
  },
  {
   "cell_type": "markdown",
   "metadata": {},
   "source": [
    "Adapted from Original Pytorch github https://github.com/pytorch/examples/blob/main/mnist/main.py "
   ]
  },
  {
   "cell_type": "code",
   "execution_count": 2,
   "metadata": {},
   "outputs": [],
   "source": [
    "def train(args, model, device, train_loader, optimizer, epoch):\n",
    "    \"\"\"\n",
    "    Train the neural network model using negative log-likelihood loss for multi classification.\n",
    "\n",
    "    Args:\n",
    "    - args: Command-line arguments and configurations.\n",
    "    - model: The neural network model to be trained.\n",
    "    - device: The device to which data and model should be moved (e.g., \"cuda\" for GPU or \"cpu\").\n",
    "    - train_loader: DataLoader providing training data.\n",
    "    - optimizer: Optimizer for updating model parameters.\n",
    "    - epoch: The current epoch number.\n",
    "\n",
    "    Returns:\n",
    "    - accuracy: Accuracy of the model on the training set.\n",
    "    - average_loss: Average binary cross-entropy loss over the training set.\n",
    "    \"\"\"\n",
    "    model.train()\n",
    "    total_loss = 0.0\n",
    "    correct = 0\n",
    "\n",
    "    for batch_idx, (data, target) in enumerate(train_loader):\n",
    "        data, target = data.to(device), target.to(device)\n",
    "        optimizer.zero_grad()\n",
    "        output = model(data)\n",
    "        loss = F.nll_loss(output, target)\n",
    "        total_loss += loss.item()\n",
    "\n",
    "        # Calculate accuracy\n",
    "        pred = output.argmax(dim=1, keepdim=True)\n",
    "        correct += pred.eq(target.view_as(pred)).sum().item()\n",
    "\n",
    "        loss.backward()\n",
    "        optimizer.step()\n",
    "\n",
    "        if batch_idx % args.log_interval == 0:\n",
    "            print('Train Epoch: {} [{}/{} ({:.0f}%)]\\tLoss: {:.6f}'.format(\n",
    "                epoch, batch_idx * len(data), len(train_loader.dataset),\n",
    "                100. * batch_idx / len(train_loader), loss.item()))\n",
    "            if args.dry_run:\n",
    "                break\n",
    "\n",
    "    # Calculate and return the average loss and accuracy\n",
    "    average_loss = total_loss / len(train_loader.dataset)\n",
    "    accuracy = 100.*correct / len(train_loader.dataset)\n",
    "    return accuracy, average_loss\n",
    "\n",
    "def validate(model, device, dataloader):\n",
    "    \"\"\"\n",
    "    Evaluate the neural network model on a validation or test set using binary cross-entropy loss for binary classification.\n",
    "\n",
    "    Args:\n",
    "    - model: The neural network model to be evaluated.\n",
    "    - device: The device to which data and model should be moved (e.g., \"cuda\" for GPU or \"cpu\").\n",
    "    - test_loader: DataLoader providing validation or test data.\n",
    "\n",
    "    Returns:\n",
    "    - accuracy: Accuracy of the model on the validation or test set.\n",
    "    - val_loss: Binary cross-entropy loss on the validation or test set.\n",
    "    - all_predictions: Predicted labels for all instances in the validation or test set.\n",
    "    - all_labels: True labels for all instances in the validation or test set.\n",
    "    \"\"\"\n",
    "    model.eval()\n",
    "    val_loss = 0\n",
    "    correct = 0\n",
    "    \n",
    "    all_predictions = []\n",
    "    all_labels = []\n",
    "    \n",
    "    with torch.no_grad():\n",
    "            for data, target in dataloader:\n",
    "                \n",
    "                data, target = data.to(device), target.to(device)\n",
    "                output = model(data)\n",
    "                val_loss += F.nll_loss(output, target, reduction='sum').item()  # sum up batch loss\n",
    "                pred = output.argmax(dim=1)  # get the index of the max log-probability\n",
    "                correct += pred.eq(target.view_as(pred)).sum().item()\n",
    "                all_predictions.append(pred.cpu().numpy())\n",
    "                all_labels.append(target.cpu().numpy())\n",
    "    \n",
    "    # Convert lists to numpy arrays\n",
    "    all_predictions = np.array(all_predictions).squeeze(0)\n",
    "    all_labels = np.array(all_labels).squeeze(0)\n",
    "    \n",
    "    val_loss /= len(dataloader.dataset)\n",
    "    accuracy = 100. * correct / len(dataloader.dataset)\n",
    "    print('\\Val set: Average loss: {:.4f}, Accuracy: {}/{} ({:.0f}%)\\n'.format(\n",
    "        val_loss, correct, len(dataloader.dataset),\n",
    "        100. * correct / len(dataloader.dataset)))\n",
    "    \n",
    "    return accuracy, val_loss, all_predictions, all_labels\n",
    "    \n",
    "def train_and_validate(args, model, device, train_loader, val_loader, optimizer, scheduler, title = \"\"):\n",
    "    \"\"\"\n",
    "    Train and validate a neural network model across multiple epochs.\n",
    "\n",
    "    Args:\n",
    "    - args: Command-line arguments and configurations.\n",
    "    - model: The neural network model to be trained and validated.\n",
    "    - device: The device to which data and model should be moved (e.g., \"cuda\" for GPU or \"cpu\").\n",
    "    - train_loader: DataLoader providing training data.\n",
    "    - val_loader: DataLoader providing validation or test data.\n",
    "    - optimizer: Optimizer for updating model parameters.\n",
    "    - scheduler: Learning rate scheduler.\n",
    "    - title: Title for the plot (optional).\n",
    "\n",
    "    Returns:\n",
    "    - all_predictions: Predicted labels for all instances in the validation or test set.\n",
    "    - all_labels: True labels for all instances in the validation or test set.\n",
    "    \"\"\"\n",
    "    train_losses = [] \n",
    "    train_accuracies = [] \n",
    "    val_accuracies = [] \n",
    "    val_losses = [] \n",
    "    \n",
    "\n",
    "    for epoch in range(1, args.epochs + 1):\n",
    "        train_accuracy, train_loss = train(args, model, device, train_loader, optimizer, epoch)\n",
    "        val_accuracy, val_loss, all_predictions, all_labels = validate(model, device, val_loader)\n",
    "        scheduler.step()\n",
    "\n",
    "        \n",
    "        train_accuracies.append(train_accuracy)\n",
    "        train_losses.append(train_loss)\n",
    "        val_accuracies.append(val_accuracy)\n",
    "        val_losses.append(val_loss)\n",
    "\n",
    "        print(f'Epoch {epoch}/{args.epochs}: Training Loss: {train_loss:.4f}, Val Accuracy: {val_accuracy:.2f}%')\n",
    "        \n",
    "    # Plot loss and accuracy after all epochs\n",
    "    plot_loss_and_accuracy(train_accuracies, train_losses, val_accuracies, val_losses, title)\n",
    "\n",
    "    return all_predictions, all_labels\n",
    "\n",
    "def save_model_state_dict(model_state_dict, filename, overwrite=True):\n",
    "    \"\"\"\n",
    "    Save the state dictionary of a PyTorch model to a file.\n",
    "\n",
    "    Args:\n",
    "    - model_state_dict: The state dictionary of the PyTorch model.\n",
    "    - filename: The name of the file to which the state dictionary will be saved.\n",
    "    - overwrite: Boolean flag indicating whether to overwrite an existing file (default is True).\n",
    "\n",
    "    Returns:\n",
    "    - None\n",
    "    \"\"\"\n",
    "    models_folder = \"models\"\n",
    "    \n",
    "    # Check if the models folder exists, if not, create it\n",
    "    if not os.path.exists(models_folder):\n",
    "        os.makedirs(models_folder)\n",
    "\n",
    "    file_path = os.path.join(models_folder, filename)\n",
    "\n",
    "    # Check if the file already exists\n",
    "    if os.path.exists(file_path) and not overwrite:\n",
    "        user_input = input(f\"The file '{filename}' already exists. Do you want to overwrite it? (yes/no): \")\n",
    "        if user_input.lower() != 'yes':\n",
    "            print(\"Model not saved.\")\n",
    "            return\n",
    "\n",
    "    # Save the model state dict\n",
    "    torch.save(model_state_dict, file_path)\n",
    "    print(f\"Model state dict saved to: {file_path}\")\n",
    "def plot_loss_and_accuracy(train_accuracies, train_losses, val_accuracies, val_losses, title = \"\"):\n",
    "    fig, (ax1, ax2) = plt.subplots(1, 2, figsize=(12, 4))\n",
    "\n",
    "    # Plot Training Loss and Accuracy\n",
    "    ax1.plot(train_losses, label='Training Loss')\n",
    "    ax1.plot(train_accuracies, label='Training Accuracy')\n",
    "    ax1.set_xlabel('Epoch')\n",
    "    ax1.set_title(f'{title} - training data')\n",
    "    ax1.legend()\n",
    "\n",
    "    # Plot Testing Loss and Accuracy\n",
    "    ax2.plot(val_losses, label='Validation Loss')\n",
    "    ax2.plot(val_accuracies, label='Validation Accuracy')\n",
    "    ax2.set_xlabel('Epoch')\n",
    "    ax2.set_title(f'{title} - validation data')\n",
    "    ax2.legend()\n",
    "    \n",
    "def get_data_loaders(dataset, train_size, val_size, train_kwargs, val_kwargs):\n",
    "    train_set, val_set = random_split(dataset, [train_size, val_size])\n",
    "    train_loader = DataLoader(train_set, **train_kwargs)\n",
    "    val_loader = DataLoader(val_set, **val_kwargs)\n",
    "    return train_loader, val_loader"
   ]
  },
  {
   "cell_type": "code",
   "execution_count": 3,
   "metadata": {},
   "outputs": [],
   "source": [
    "parser = argparse.ArgumentParser(description='PyTorch MNIST Example')\n",
    "parser.add_argument('--batch-size', type=int, default=64, metavar='N',\n",
    "                        help='input batch size for training (default: 64)')\n",
    "parser.add_argument('--val-batch-size', type=int, default=1000, metavar='N',\n",
    "                        help='input batch size for testing (default: 1000)')\n",
    "parser.add_argument('--epochs', type=int, default=14, metavar='N',\n",
    "                        help='number of epochs to train (default: 14)')\n",
    "parser.add_argument('--lr', type=float, default=1.0, metavar='LR',\n",
    "                        help='learning rate (default: 1.0)')\n",
    "parser.add_argument('--gamma', type=float, default=0.7, metavar='M',\n",
    "                        help='Learning rate step gamma (default: 0.7)')\n",
    "parser.add_argument('--no-cuda', action='store_true', default=False,\n",
    "                        help='disables CUDA training')\n",
    "parser.add_argument('--no-mps', action='store_true', default=False,\n",
    "                        help='disables macOS GPU training')\n",
    "parser.add_argument('--dry-run', action='store_true', default=False,\n",
    "                        help='quickly check a single pass')\n",
    "parser.add_argument('--seed', type=int, default=1, metavar='S',\n",
    "                        help='random seed (default: 1)')\n",
    "parser.add_argument('--log-interval', type=int, default=10, metavar='N',\n",
    "                        help='how many batches to wait before logging training status')\n",
    "parser.add_argument('--save-model', action='store_true', default=False,\n",
    "                        help='For Saving the current Model')\n",
    "parser.add_argument('--val_reduced', action='store_true', default=True,\n",
    "                        help='For Saving the current Model')\n",
    "\n",
    "args, unknown = parser.parse_known_args()\n",
    "use_cuda = not args.no_cuda and torch.cuda.is_available()\n",
    "use_mps = not args.no_mps and torch.backends.mps.is_available()\n",
    "    \n",
    "torch.manual_seed(args.seed)\n",
    "\n",
    "if use_cuda:\n",
    "        device = torch.device(\"cuda\")\n",
    "elif use_mps:\n",
    "        device = torch.device(\"mps\")\n",
    "else:\n",
    "        device = torch.device(\"cpu\")\n",
    "\n",
    "train_kwargs = {'batch_size': args.batch_size}\n",
    "val_kwargs = {'batch_size': args.val_batch_size}\n",
    "if 'cuda' in str(device):\n",
    "        cuda_kwargs = {'num_workers': 1, 'pin_memory': True, 'shuffle': True}\n",
    "        train_kwargs.update(cuda_kwargs)\n",
    "        val_kwargs.update(cuda_kwargs)\n",
    "\n",
    "transform = transforms.Compose([transforms.ToTensor(), transforms.Normalize((0.1307,), (0.3081,))])\n",
    "mnist_dataset = datasets.MNIST(root=\"./data\", train=True, transform=transform, download=True)\n",
    "\n",
    "if args.val_reduced:\n",
    "        sampled_indices = torch.randperm(len(mnist_dataset))[:2000]\n",
    "        mnist_dataset = Subset(mnist_dataset, sampled_indices)\n"
   ]
  },
  {
   "cell_type": "code",
   "execution_count": 4,
   "metadata": {},
   "outputs": [
    {
     "name": "stdout",
     "output_type": "stream",
     "text": [
      "Unique Labels in Dataset: {0, 1, 2, 3, 4, 5, 6, 7, 8, 9}\n",
      "Selected labels for Task 1: {0, 1, 2, 3, 4, 9}\n"
     ]
    },
    {
     "ename": "RuntimeError",
     "evalue": "CUDA error: device-side assert triggered\nCUDA kernel errors might be asynchronously reported at some other API call, so the stacktrace below might be incorrect.\nFor debugging consider passing CUDA_LAUNCH_BLOCKING=1.\nCompile with `TORCH_USE_CUDA_DSA` to enable device-side assertions.\n",
     "output_type": "error",
     "traceback": [
      "\u001b[1;31m---------------------------------------------------------------------------\u001b[0m",
      "\u001b[1;31mRuntimeError\u001b[0m                              Traceback (most recent call last)",
      "Cell \u001b[1;32mIn[4], line 21\u001b[0m\n\u001b[0;32m     19\u001b[0m optimizer \u001b[38;5;241m=\u001b[39m optim\u001b[38;5;241m.\u001b[39mAdadelta(model\u001b[38;5;241m.\u001b[39mparameters(), lr\u001b[38;5;241m=\u001b[39margs\u001b[38;5;241m.\u001b[39mlr)\n\u001b[0;32m     20\u001b[0m scheduler \u001b[38;5;241m=\u001b[39m StepLR(optimizer, step_size\u001b[38;5;241m=\u001b[39m\u001b[38;5;241m1\u001b[39m, gamma\u001b[38;5;241m=\u001b[39margs\u001b[38;5;241m.\u001b[39mgamma)\n\u001b[1;32m---> 21\u001b[0m all_predictions, all_labels \u001b[38;5;241m=\u001b[39m \u001b[43mtrain_and_validate\u001b[49m\u001b[43m(\u001b[49m\u001b[43margs\u001b[49m\u001b[43m,\u001b[49m\u001b[43m \u001b[49m\u001b[43mmodel\u001b[49m\u001b[43m,\u001b[49m\u001b[43m \u001b[49m\u001b[43mdevice\u001b[49m\u001b[43m,\u001b[49m\u001b[43m \u001b[49m\u001b[43mtrain_loader_task1\u001b[49m\u001b[43m,\u001b[49m\u001b[43m \u001b[49m\u001b[43mval_loader_task1\u001b[49m\u001b[43m,\u001b[49m\u001b[43m \u001b[49m\u001b[43moptimizer\u001b[49m\u001b[43m,\u001b[49m\u001b[43m \u001b[49m\u001b[43mscheduler\u001b[49m\u001b[43m,\u001b[49m\u001b[43mtitle\u001b[49m\u001b[38;5;241;43m=\u001b[39;49m\u001b[38;5;124;43m\"\u001b[39;49m\u001b[38;5;124;43mTask 1: \u001b[39;49m\u001b[38;5;124;43m\"\u001b[39;49m\u001b[43m)\u001b[49m\n\u001b[0;32m     22\u001b[0m model_state_dict_task1 \u001b[38;5;241m=\u001b[39m model\u001b[38;5;241m.\u001b[39mstate_dict()\n\u001b[0;32m     23\u001b[0m save_model_state_dict(model_state_dict_task1, \u001b[38;5;124m\"\u001b[39m\u001b[38;5;124mmnist_cnn_task1.pt\u001b[39m\u001b[38;5;124m\"\u001b[39m)\n",
      "Cell \u001b[1;32mIn[2], line 117\u001b[0m, in \u001b[0;36mtrain_and_validate\u001b[1;34m(args, model, device, train_loader, val_loader, optimizer, scheduler, title)\u001b[0m\n\u001b[0;32m    113\u001b[0m val_losses \u001b[38;5;241m=\u001b[39m [] \n\u001b[0;32m    116\u001b[0m \u001b[38;5;28;01mfor\u001b[39;00m epoch \u001b[38;5;129;01min\u001b[39;00m \u001b[38;5;28mrange\u001b[39m(\u001b[38;5;241m1\u001b[39m, args\u001b[38;5;241m.\u001b[39mepochs \u001b[38;5;241m+\u001b[39m \u001b[38;5;241m1\u001b[39m):\n\u001b[1;32m--> 117\u001b[0m     train_accuracy, train_loss \u001b[38;5;241m=\u001b[39m \u001b[43mtrain\u001b[49m\u001b[43m(\u001b[49m\u001b[43margs\u001b[49m\u001b[43m,\u001b[49m\u001b[43m \u001b[49m\u001b[43mmodel\u001b[49m\u001b[43m,\u001b[49m\u001b[43m \u001b[49m\u001b[43mdevice\u001b[49m\u001b[43m,\u001b[49m\u001b[43m \u001b[49m\u001b[43mtrain_loader\u001b[49m\u001b[43m,\u001b[49m\u001b[43m \u001b[49m\u001b[43moptimizer\u001b[49m\u001b[43m,\u001b[49m\u001b[43m \u001b[49m\u001b[43mepoch\u001b[49m\u001b[43m)\u001b[49m\n\u001b[0;32m    118\u001b[0m     val_accuracy, val_loss, all_predictions, all_labels \u001b[38;5;241m=\u001b[39m validate(model, device, val_loader)\n\u001b[0;32m    119\u001b[0m     scheduler\u001b[38;5;241m.\u001b[39mstep()\n",
      "Cell \u001b[1;32mIn[2], line 26\u001b[0m, in \u001b[0;36mtrain\u001b[1;34m(args, model, device, train_loader, optimizer, epoch)\u001b[0m\n\u001b[0;32m     24\u001b[0m output \u001b[38;5;241m=\u001b[39m model(data)\n\u001b[0;32m     25\u001b[0m loss \u001b[38;5;241m=\u001b[39m F\u001b[38;5;241m.\u001b[39mnll_loss(output, target)\n\u001b[1;32m---> 26\u001b[0m total_loss \u001b[38;5;241m+\u001b[39m\u001b[38;5;241m=\u001b[39m \u001b[43mloss\u001b[49m\u001b[38;5;241;43m.\u001b[39;49m\u001b[43mitem\u001b[49m\u001b[43m(\u001b[49m\u001b[43m)\u001b[49m\n\u001b[0;32m     28\u001b[0m \u001b[38;5;66;03m# Calculate accuracy\u001b[39;00m\n\u001b[0;32m     29\u001b[0m pred \u001b[38;5;241m=\u001b[39m output\u001b[38;5;241m.\u001b[39margmax(dim\u001b[38;5;241m=\u001b[39m\u001b[38;5;241m1\u001b[39m, keepdim\u001b[38;5;241m=\u001b[39m\u001b[38;5;28;01mTrue\u001b[39;00m)\n",
      "\u001b[1;31mRuntimeError\u001b[0m: CUDA error: device-side assert triggered\nCUDA kernel errors might be asynchronously reported at some other API call, so the stacktrace below might be incorrect.\nFor debugging consider passing CUDA_LAUNCH_BLOCKING=1.\nCompile with `TORCH_USE_CUDA_DSA` to enable device-side assertions.\n"
     ]
    }
   ],
   "source": [
    "# Define task 1 labeling\n",
    "task1_classes = [0, 1, 2, 3, 4, 9]\n",
    "# Check the unique labels in your dataset to make sure they are integers\n",
    "unique_labels = set(label for _, label in mnist_dataset)\n",
    "print(\"Unique Labels in Dataset:\", unique_labels)\n",
    "# Make sure labels are integers; if not, convert them to integers\n",
    "mnist_dataset = [(image, int(label)) for image, label in mnist_dataset]\n",
    "task1_indices = [i for i, (_, label) in enumerate(mnist_dataset) if label in task1_classes]\n",
    "task1_dataset = Subset(mnist_dataset, task1_indices)\n",
    "print(\"Selected labels for Task 1:\", set(label for _, label in task1_dataset))\n",
    "train_size_task1 = int(0.8 * len(task1_indices))\n",
    "val_size_task1 = len(task1_indices) - train_size_task1\n",
    "train_loader_task1, val_loader_task1 = get_data_loaders(task1_dataset, train_size_task1, val_size_task1,\n",
    "                                                             train_kwargs, val_kwargs)\n",
    "model = models.Net_log_softmax(classes = 6).to(device)\n",
    "# model = models.AlexNet(classes = 6).to(device)\n",
    "# model = models.BaseModel(28 * 28, 100, 6).to(device)\n",
    "\n",
    "optimizer = optim.Adadelta(model.parameters(), lr=args.lr)\n",
    "scheduler = StepLR(optimizer, step_size=1, gamma=args.gamma)\n",
    "all_predictions, all_labels = train_and_validate(args, model, device, train_loader_task1, val_loader_task1, optimizer, scheduler,title=\"Task 1: \")\n",
    "model_state_dict_task1 = model.state_dict()\n",
    "save_model_state_dict(model_state_dict_task1, \"mnist_cnn_task1.pt\")"
   ]
  },
  {
   "cell_type": "markdown",
   "metadata": {},
   "source": [
    "### Testing \n",
    "Additionally, we store the predictions and losses"
   ]
  },
  {
   "cell_type": "code",
   "execution_count": null,
   "metadata": {},
   "outputs": [
    {
     "name": "stdout",
     "output_type": "stream",
     "text": [
      "\n",
      "Test set: Average loss: 0.1033, Accuracy: 209/244 (86%)\n",
      "\n"
     ]
    }
   ],
   "source": [
    "val_accuracy, val_loss, all_predictions, all_labels  = validate(model, device, val_loader_task1)"
   ]
  },
  {
   "cell_type": "code",
   "execution_count": null,
   "metadata": {},
   "outputs": [
    {
     "data": {
      "text/plain": [
       "array([4, 4, 0, 3, 3, 1, 4, 1, 4, 1, 3, 1, 2, 1, 4, 3, 3, 3, 1, 0, 4, 4,\n",
       "       0, 0, 2, 1, 4, 0, 2, 1, 3, 4, 1, 4, 2, 4, 0, 3, 0, 1, 3, 4, 1, 1,\n",
       "       0, 0, 1, 3, 0, 3, 4, 1, 4, 2, 2, 1, 1, 2, 3, 0, 2, 1, 3, 2, 0, 3,\n",
       "       1, 1, 4, 4, 3, 4, 1, 3, 3, 0, 1, 1, 3, 1, 0, 2, 2, 0, 1, 3, 0, 3,\n",
       "       2, 1, 1, 2, 3, 4, 3, 3, 3, 4, 1, 4, 0, 4, 0, 0, 1, 2, 1, 3, 1, 4,\n",
       "       4, 3, 2, 0, 2, 4, 0, 1, 4, 1, 0, 1, 0, 3, 3, 2, 2, 4, 1, 1, 3, 1,\n",
       "       1, 4, 3, 1, 4, 3, 4, 0, 4, 1, 0, 0, 4, 2, 4, 3, 4, 0, 2, 4, 4, 1,\n",
       "       3, 4, 3, 0, 4, 2, 3, 4, 1, 0, 1, 4, 3, 0, 1, 1, 2, 2, 1, 2, 2, 4,\n",
       "       4, 2, 4, 3, 0, 4, 4, 4, 0, 4, 3, 4, 0, 2, 3, 0, 2, 2, 1, 3, 1, 1,\n",
       "       4, 3, 1, 4, 4, 1, 1, 2, 0, 3, 4, 3, 1, 3, 1, 1, 4, 4, 1, 3, 4, 0,\n",
       "       3, 3, 4, 4, 4, 3, 0, 1, 0, 0, 3, 1, 3, 1, 4, 1, 1, 4, 2, 3, 3, 1,\n",
       "       3, 3])"
      ]
     },
     "execution_count": 6,
     "metadata": {},
     "output_type": "execute_result"
    }
   ],
   "source": [
    "all_predictions"
   ]
  },
  {
   "cell_type": "code",
   "execution_count": null,
   "metadata": {},
   "outputs": [
    {
     "data": {
      "text/plain": [
       "(array([0, 1, 2, 3, 4]), array([0, 1, 2, 3, 4, 9]))"
      ]
     },
     "execution_count": 7,
     "metadata": {},
     "output_type": "execute_result"
    }
   ],
   "source": [
    "np.unique(all_predictions), np.unique(all_labels)"
   ]
  },
  {
   "cell_type": "code",
   "execution_count": null,
   "metadata": {},
   "outputs": [
    {
     "data": {
      "text/plain": [
       "((244,), (244,))"
      ]
     },
     "execution_count": 8,
     "metadata": {},
     "output_type": "execute_result"
    }
   ],
   "source": [
    "all_predictions.shape, all_labels.shape"
   ]
  },
  {
   "cell_type": "code",
   "execution_count": null,
   "metadata": {},
   "outputs": [
    {
     "data": {
      "text/plain": [
       "array([0, 1, 2, 3, 4, 9])"
      ]
     },
     "execution_count": 9,
     "metadata": {},
     "output_type": "execute_result"
    }
   ],
   "source": [
    "unique_classes = np.unique(np.concatenate((all_labels, all_predictions)))\n",
    "unique_classes"
   ]
  },
  {
   "cell_type": "code",
   "execution_count": null,
   "metadata": {},
   "outputs": [
    {
     "data": {
      "text/html": [
       "<div>\n",
       "<style scoped>\n",
       "    .dataframe tbody tr th:only-of-type {\n",
       "        vertical-align: middle;\n",
       "    }\n",
       "\n",
       "    .dataframe tbody tr th {\n",
       "        vertical-align: top;\n",
       "    }\n",
       "\n",
       "    .dataframe thead th {\n",
       "        text-align: right;\n",
       "    }\n",
       "</style>\n",
       "<table border=\"1\" class=\"dataframe\">\n",
       "  <thead>\n",
       "    <tr style=\"text-align: right;\">\n",
       "      <th></th>\n",
       "      <th>0</th>\n",
       "      <th>1</th>\n",
       "      <th>2</th>\n",
       "      <th>3</th>\n",
       "      <th>4</th>\n",
       "      <th>9</th>\n",
       "    </tr>\n",
       "  </thead>\n",
       "  <tbody>\n",
       "    <tr>\n",
       "      <th>0</th>\n",
       "      <td>38</td>\n",
       "      <td>0</td>\n",
       "      <td>0</td>\n",
       "      <td>1</td>\n",
       "      <td>0</td>\n",
       "      <td>0</td>\n",
       "    </tr>\n",
       "    <tr>\n",
       "      <th>1</th>\n",
       "      <td>0</td>\n",
       "      <td>58</td>\n",
       "      <td>0</td>\n",
       "      <td>0</td>\n",
       "      <td>1</td>\n",
       "      <td>0</td>\n",
       "    </tr>\n",
       "    <tr>\n",
       "      <th>2</th>\n",
       "      <td>0</td>\n",
       "      <td>0</td>\n",
       "      <td>30</td>\n",
       "      <td>1</td>\n",
       "      <td>0</td>\n",
       "      <td>0</td>\n",
       "    </tr>\n",
       "    <tr>\n",
       "      <th>3</th>\n",
       "      <td>0</td>\n",
       "      <td>2</td>\n",
       "      <td>1</td>\n",
       "      <td>49</td>\n",
       "      <td>0</td>\n",
       "      <td>0</td>\n",
       "    </tr>\n",
       "    <tr>\n",
       "      <th>4</th>\n",
       "      <td>0</td>\n",
       "      <td>0</td>\n",
       "      <td>0</td>\n",
       "      <td>0</td>\n",
       "      <td>34</td>\n",
       "      <td>0</td>\n",
       "    </tr>\n",
       "    <tr>\n",
       "      <th>9</th>\n",
       "      <td>1</td>\n",
       "      <td>1</td>\n",
       "      <td>0</td>\n",
       "      <td>3</td>\n",
       "      <td>24</td>\n",
       "      <td>0</td>\n",
       "    </tr>\n",
       "  </tbody>\n",
       "</table>\n",
       "</div>"
      ],
      "text/plain": [
       "    0   1   2   3   4  9\n",
       "0  38   0   0   1   0  0\n",
       "1   0  58   0   0   1  0\n",
       "2   0   0  30   1   0  0\n",
       "3   0   2   1  49   0  0\n",
       "4   0   0   0   0  34  0\n",
       "9   1   1   0   3  24  0"
      ]
     },
     "execution_count": 10,
     "metadata": {},
     "output_type": "execute_result"
    }
   ],
   "source": [
    "confusion_mat = confusion_matrix(all_labels, all_predictions, labels=unique_classes)\n",
    "conf_matrix = pd.DataFrame(confusion_mat, index=unique_classes, columns=unique_classes)\n",
    "conf_matrix"
   ]
  },
  {
   "cell_type": "code",
   "execution_count": null,
   "metadata": {},
   "outputs": [
    {
     "data": {
      "text/plain": [
       "(6, 6)"
      ]
     },
     "execution_count": 11,
     "metadata": {},
     "output_type": "execute_result"
    }
   ],
   "source": [
    "confusion_mat.shape"
   ]
  },
  {
   "cell_type": "markdown",
   "metadata": {},
   "source": [
    "Customize your confusion matrix https://seaborn.pydata.org/generated/seaborn.heatmap.html "
   ]
  },
  {
   "cell_type": "code",
   "execution_count": null,
   "metadata": {},
   "outputs": [
    {
     "data": {
      "image/png": "[encoded data removed]",
      "text/plain": [
       "<Figure size 500x400 with 1 Axes>"
      ]
     },
     "metadata": {},
     "output_type": "display_data"
    }
   ],
   "source": [
    "import seaborn as sns\n",
    "\n",
    "unique_classes = np.unique(np.concatenate((all_labels, all_predictions)))\n",
    "confusion_mat = confusion_matrix(all_labels, all_predictions, labels=unique_classes)\n",
    "conf_matrix = pd.DataFrame(confusion_mat, index=unique_classes, columns=unique_classes)\n",
    "\n",
    "# Plot the confusion matrix using seaborn\n",
    "plt.figure(figsize=(5, 4))\n",
    "ax = sns.heatmap(conf_matrix, annot=True, cmap=sns.cubehelix_palette(as_cmap=True), linewidths=0.1, cbar=False)\n",
    "\n",
    "# Set labels and ticks\n",
    "ax.set_xlabel('Predicted Labels')\n",
    "ax.set_ylabel('True Labels')\n",
    "\n",
    "# Set x and y ticks using the unique classes\n",
    "ax.set_xticks(range(len(unique_classes)))\n",
    "ax.set_yticks(range(len(unique_classes)))\n",
    "\n",
    "# Set x and y ticks at the center of the cells\n",
    "ax.set_xticks([i + 0.5 for i in range(len(unique_classes))])\n",
    "ax.set_yticks([i + 0.5 for i in range(len(unique_classes))])\n",
    "\n",
    "\n",
    "plt.show()\n"
   ]
  },
  {
   "cell_type": "code",
   "execution_count": null,
   "metadata": {},
   "outputs": [
    {
     "data": {
      "text/plain": [
       "array([0, 1, 2, 3, 4])"
      ]
     },
     "execution_count": 13,
     "metadata": {},
     "output_type": "execute_result"
    }
   ],
   "source": [
    "np.unique(all_predictions)"
   ]
  },
  {
   "cell_type": "code",
   "execution_count": null,
   "metadata": {},
   "outputs": [
    {
     "name": "stdout",
     "output_type": "stream",
     "text": [
      "\n",
      "Classification Report:\n",
      "              precision    recall  f1-score   support\n",
      "\n",
      "           0       0.97      0.97      0.97        39\n",
      "           1       0.95      0.98      0.97        59\n",
      "           2       0.97      0.97      0.97        31\n",
      "           3       0.91      0.94      0.92        52\n",
      "           4       0.58      1.00      0.73        34\n",
      "           9       0.00      0.00      0.00        29\n",
      "\n",
      "    accuracy                           0.86       244\n",
      "   macro avg       0.73      0.81      0.76       244\n",
      "weighted avg       0.78      0.86      0.81       244\n",
      "\n"
     ]
    },
    {
     "name": "stderr",
     "output_type": "stream",
     "text": [
      "/Users/sebasmos/opt/anaconda3/envs/book/lib/python3.10/site-packages/sklearn/metrics/_classification.py:1471: UndefinedMetricWarning: Precision and F-score are ill-defined and being set to 0.0 in labels with no predicted samples. Use `zero_division` parameter to control this behavior.\n",
      "  _warn_prf(average, modifier, msg_start, len(result))\n",
      "/Users/sebasmos/opt/anaconda3/envs/book/lib/python3.10/site-packages/sklearn/metrics/_classification.py:1471: UndefinedMetricWarning: Precision and F-score are ill-defined and being set to 0.0 in labels with no predicted samples. Use `zero_division` parameter to control this behavior.\n",
      "  _warn_prf(average, modifier, msg_start, len(result))\n",
      "/Users/sebasmos/opt/anaconda3/envs/book/lib/python3.10/site-packages/sklearn/metrics/_classification.py:1471: UndefinedMetricWarning: Precision and F-score are ill-defined and being set to 0.0 in labels with no predicted samples. Use `zero_division` parameter to control this behavior.\n",
      "  _warn_prf(average, modifier, msg_start, len(result))\n"
     ]
    }
   ],
   "source": [
    "print(\"\\nClassification Report:\")\n",
    "print(classification_report(all_labels, all_predictions, target_names=[str(c) for c in task1_classes]))"
   ]
  },
  {
   "cell_type": "markdown",
   "metadata": {},
   "source": [
    "## Training on second task"
   ]
  },
  {
   "cell_type": "code",
   "execution_count": null,
   "metadata": {},
   "outputs": [
    {
     "name": "stdout",
     "output_type": "stream",
     "text": [
      "Selected labels for Task 2: {0, 5, 6, 7, 8, 9}\n",
      "-------------------MODEL TRAINING TASK #2-------------------\n",
      "Train Epoch: 1 [0/938 (0%)]\tLoss: 2.271125\n",
      "Train Epoch: 1 [640/938 (67%)]\tLoss: 0.015446\n",
      "\n",
      "Test set: Average loss: 0.0199, Accuracy: 71/235 (30%)\n",
      "\n",
      "Epoch 1/14: Training Loss: 0.0041, Test Accuracy: 30.21%\n",
      "Train Epoch: 2 [0/938 (0%)]\tLoss: 0.034529\n",
      "Train Epoch: 2 [640/938 (67%)]\tLoss: 0.083685\n",
      "\n",
      "Test set: Average loss: 0.0108, Accuracy: 72/235 (31%)\n",
      "\n",
      "Epoch 2/14: Training Loss: 0.0005, Test Accuracy: 30.64%\n",
      "Train Epoch: 3 [0/938 (0%)]\tLoss: 0.007272\n",
      "Train Epoch: 3 [640/938 (67%)]\tLoss: 0.014336\n",
      "\n",
      "Test set: Average loss: 0.0088, Accuracy: 72/235 (31%)\n",
      "\n",
      "Epoch 3/14: Training Loss: 0.0002, Test Accuracy: 30.64%\n",
      "Train Epoch: 4 [0/938 (0%)]\tLoss: 0.003617\n",
      "Train Epoch: 4 [640/938 (67%)]\tLoss: 0.005266\n",
      "\n",
      "Test set: Average loss: 0.0063, Accuracy: 72/235 (31%)\n",
      "\n",
      "Epoch 4/14: Training Loss: 0.0002, Test Accuracy: 30.64%\n",
      "Train Epoch: 5 [0/938 (0%)]\tLoss: 0.004657\n",
      "Train Epoch: 5 [640/938 (67%)]\tLoss: 0.003483\n",
      "\n",
      "Test set: Average loss: 0.0064, Accuracy: 72/235 (31%)\n",
      "\n",
      "Epoch 5/14: Training Loss: 0.0001, Test Accuracy: 30.64%\n",
      "Train Epoch: 6 [0/938 (0%)]\tLoss: 0.005936\n",
      "Train Epoch: 6 [640/938 (67%)]\tLoss: 0.001324\n",
      "\n",
      "Test set: Average loss: 0.0079, Accuracy: 72/235 (31%)\n",
      "\n",
      "Epoch 6/14: Training Loss: 0.0001, Test Accuracy: 30.64%\n",
      "Train Epoch: 7 [0/938 (0%)]\tLoss: 0.005095\n",
      "Train Epoch: 7 [640/938 (67%)]\tLoss: 0.003543\n",
      "\n",
      "Test set: Average loss: 0.0077, Accuracy: 72/235 (31%)\n",
      "\n",
      "Epoch 7/14: Training Loss: 0.0001, Test Accuracy: 30.64%\n",
      "Train Epoch: 8 [0/938 (0%)]\tLoss: 0.005087\n",
      "Train Epoch: 8 [640/938 (67%)]\tLoss: 0.018677\n",
      "\n",
      "Test set: Average loss: 0.0075, Accuracy: 72/235 (31%)\n",
      "\n",
      "Epoch 8/14: Training Loss: 0.0001, Test Accuracy: 30.64%\n",
      "Train Epoch: 9 [0/938 (0%)]\tLoss: 0.003753\n",
      "Train Epoch: 9 [640/938 (67%)]\tLoss: 0.004732\n",
      "\n",
      "Test set: Average loss: 0.0070, Accuracy: 72/235 (31%)\n",
      "\n",
      "Epoch 9/14: Training Loss: 0.0001, Test Accuracy: 30.64%\n",
      "Train Epoch: 10 [0/938 (0%)]\tLoss: 0.002655\n",
      "Train Epoch: 10 [640/938 (67%)]\tLoss: 0.013202\n",
      "\n",
      "Test set: Average loss: 0.0065, Accuracy: 72/235 (31%)\n",
      "\n",
      "Epoch 10/14: Training Loss: 0.0001, Test Accuracy: 30.64%\n",
      "Train Epoch: 11 [0/938 (0%)]\tLoss: 0.000736\n",
      "Train Epoch: 11 [640/938 (67%)]\tLoss: 0.002484\n",
      "\n",
      "Test set: Average loss: 0.0064, Accuracy: 72/235 (31%)\n",
      "\n",
      "Epoch 11/14: Training Loss: 0.0002, Test Accuracy: 30.64%\n",
      "Train Epoch: 12 [0/938 (0%)]\tLoss: 0.004173\n",
      "Train Epoch: 12 [640/938 (67%)]\tLoss: 0.000789\n",
      "\n",
      "Test set: Average loss: 0.0061, Accuracy: 72/235 (31%)\n",
      "\n",
      "Epoch 12/14: Training Loss: 0.0001, Test Accuracy: 30.64%\n",
      "Train Epoch: 13 [0/938 (0%)]\tLoss: 0.007960\n",
      "Train Epoch: 13 [640/938 (67%)]\tLoss: 0.002743\n",
      "\n",
      "Test set: Average loss: 0.0062, Accuracy: 72/235 (31%)\n",
      "\n",
      "Epoch 13/14: Training Loss: 0.0001, Test Accuracy: 30.64%\n",
      "Train Epoch: 14 [0/938 (0%)]\tLoss: 0.003063\n",
      "Train Epoch: 14 [640/938 (67%)]\tLoss: 0.000775\n",
      "\n",
      "Test set: Average loss: 0.0064, Accuracy: 72/235 (31%)\n",
      "\n",
      "Epoch 14/14: Training Loss: 0.0000, Test Accuracy: 30.64%\n",
      "Model state dict saved to: models/mnist_cnn_task2.pt\n"
     ]
    },
    {
     "data": {
      "image/png": "[encoded data removed]",
      "text/plain": [
       "<Figure size 1200x400 with 2 Axes>"
      ]
     },
     "metadata": {},
     "output_type": "display_data"
    }
   ],
   "source": [
    "# Define task 2 labeling\n",
    "task2_classes = [5, 6, 7, 8, 9, 0]\n",
    "task2_indices = [i for i, (_, label) in enumerate(mnist_dataset) if label in task2_classes]\n",
    "task2_dataset = Subset(mnist_dataset, task2_indices)\n",
    "print(\"Selected labels for Task 2:\", set(label for _, label in task2_dataset))\n",
    "train_size_task2 = int(0.8 * len(task2_indices))\n",
    "val_size_task2 = len(task2_indices) - train_size_task2\n",
    "\n",
    "model_task2 = models.Net_log_softmax(classes = 6).to(device)\n",
    "# model_task2 = models.BaseModel(28 * 28, 100, 6).to(device)\n",
    "# model_task2 = models.AlexNet(classes = 6).to(device)\n",
    "model_task2.load_state_dict(model_state_dict_task1.copy()) \n",
    "optimizer_task2 = optim.Adadelta(model_task2.parameters(), lr=args.lr)\n",
    "# optimizer_task2 = optim.Adadelta(model.parameters(), lr=1)\n",
    "# scheduler_task2 = StepLR(optimizer_task2, step_size=1, gamma=0.7)\n",
    "scheduler_task2 = StepLR(optimizer_task2, step_size=1, gamma=args.gamma)\n",
    "\n",
    "print(f\"MODEL TRAINING TASK #2\".center(60, \"-\"))\n",
    "\n",
    "train_loader_task2, val_loader_task2 = get_data_loaders(task2_dataset, train_size_task2, val_size_task2,\n",
    "                                                             train_kwargs, val_kwargs)\n",
    "\n",
    "train_and_validate(args, model_task2, device, train_loader_task2, val_loader_task2, optimizer_task2, scheduler_task2, title=\"Task 2: \")\n",
    "\n",
    "model_state_dict_task2 = model_task2.state_dict()\n",
    "save_model_state_dict(model_state_dict_task1, \"mnist_cnn_task2.pt\")\n",
    "\n"
   ]
  },
  {
   "cell_type": "code",
   "execution_count": null,
   "metadata": {},
   "outputs": [
    {
     "name": "stdout",
     "output_type": "stream",
     "text": [
      "\n",
      "Test set: Average loss: 0.0064, Accuracy: 72/235 (31%)\n",
      "\n"
     ]
    },
    {
     "data": {
      "image/png": "[encoded data removed]",
      "text/plain": [
       "<Figure size 500x400 with 1 Axes>"
      ]
     },
     "metadata": {},
     "output_type": "display_data"
    },
    {
     "data": {
      "text/plain": [
       "(array([0, 5]), array([0, 5, 6, 7, 8, 9]))"
      ]
     },
     "execution_count": 16,
     "metadata": {},
     "output_type": "execute_result"
    }
   ],
   "source": [
    "val_accuracy, val_loss, all_predictions, all_labels = validate(model_task2, device, validate_loader_task2)\n",
    "unique_classes = np.unique(np.concatenate((all_labels, all_predictions)))\n",
    "confusion_mat = confusion_matrix(all_labels, all_predictions, labels=unique_classes)\n",
    "conf_matrix = pd.DataFrame(confusion_mat, index=unique_classes, columns=unique_classes)\n",
    "\n",
    "# Plot the confusion matrix using seaborn\n",
    "plt.figure(figsize=(5, 4))\n",
    "ax = sns.heatmap(conf_matrix, annot=True, cmap=sns.cubehelix_palette(as_cmap=True), linewidths=0.1, cbar=False)\n",
    "\n",
    "# Set labels and ticks\n",
    "ax.set_xlabel('Predicted Labels')\n",
    "ax.set_ylabel('True Labels')\n",
    "\n",
    "# Set x and y ticks using the unique classes\n",
    "ax.set_xticks(range(len(unique_classes)))\n",
    "ax.set_yticks(range(len(unique_classes)))\n",
    "\n",
    "# Set x and y ticks at the center of the cells\n",
    "ax.set_xticks([i + 0.5 for i in range(len(unique_classes))])\n",
    "ax.set_yticks([i + 0.5 for i in range(len(unique_classes))])\n",
    "\n",
    "\n",
    "plt.show()\n",
    "np.unique(all_predictions), np.unique(all_labels)"
   ]
  },
  {
   "cell_type": "code",
   "execution_count": null,
   "metadata": {},
   "outputs": [
    {
     "data": {
      "text/plain": [
       "array([0, 5, 6, 7, 8, 9])"
      ]
     },
     "execution_count": 17,
     "metadata": {},
     "output_type": "execute_result"
    }
   ],
   "source": [
    "unique_classes"
   ]
  },
  {
   "cell_type": "code",
   "execution_count": null,
   "metadata": {},
   "outputs": [
    {
     "data": {
      "text/plain": [
       "(array([0, 5]), array([0, 5, 6, 7, 8, 9]))"
      ]
     },
     "execution_count": 18,
     "metadata": {},
     "output_type": "execute_result"
    }
   ],
   "source": [
    "np.unique(all_predictions), np.unique(all_labels)"
   ]
  },
  {
   "cell_type": "markdown",
   "metadata": {},
   "source": [
    "Test it over task-2 data "
   ]
  },
  {
   "cell_type": "code",
   "execution_count": null,
   "metadata": {},
   "outputs": [
    {
     "name": "stdout",
     "output_type": "stream",
     "text": [
      "\n",
      "Test set: Average loss: 0.0064, Accuracy: 72/235 (31%)\n",
      "\n"
     ]
    }
   ],
   "source": [
    "val_accuracy, val_loss, all_predictions, all_labels  = validate(model_task2, device, val_loader_task2)"
   ]
  },
  {
   "cell_type": "markdown",
   "metadata": {},
   "source": [
    "## Testing model again on task 1\n"
   ]
  },
  {
   "cell_type": "code",
   "execution_count": null,
   "metadata": {},
   "outputs": [
    {
     "name": "stdout",
     "output_type": "stream",
     "text": [
      "\n",
      "Test set: Average loss: 3.3407, Accuracy: 67/244 (27%)\n",
      "\n"
     ]
    }
   ],
   "source": [
    "val_accuracy, val_loss, all_predictions, all_labels  = validate(model_task2, device, val_loader_task1)"
   ]
  },
  {
   "cell_type": "code",
   "execution_count": null,
   "metadata": {},
   "outputs": [],
   "source": [
    "# model_task1_adapted = models.Net_log_softmax(classes=6).to(device)\n",
    "# model_state_dict_task2 = torch.load(\"models/mnist_cnn_task2.pt\")\n",
    "# model_task1_adapted.load_state_dict(model_state_dict_task2.copy()) \n",
    "# test_accuracy, test_loss, all_predictions, all_labels  = test(model_task1_adapted, device, test_loader_task1)"
   ]
  },
  {
   "cell_type": "code",
   "execution_count": null,
   "metadata": {},
   "outputs": [
    {
     "data": {
      "text/plain": [
       "(array([0, 1, 2, 4, 5]), array([0, 1, 2, 3, 4, 9]))"
      ]
     },
     "execution_count": 26,
     "metadata": {},
     "output_type": "execute_result"
    }
   ],
   "source": [
    "np.unique(all_predictions), np.unique(all_labels)"
   ]
  },
  {
   "cell_type": "code",
   "execution_count": null,
   "metadata": {},
   "outputs": [
    {
     "name": "stdout",
     "output_type": "stream",
     "text": [
      "\n",
      "Test set: Average loss: 3.3407, Accuracy: 67/244 (27%)\n",
      "\n"
     ]
    },
    {
     "data": {
      "image/png": "[encoded data removed]",
      "text/plain": [
       "<Figure size 500x400 with 1 Axes>"
      ]
     },
     "metadata": {},
     "output_type": "display_data"
    }
   ],
   "source": [
    "test_accuracy, test_loss, all_predictions, all_labels = validate(model_task2, device,  val_loader_task1)\n",
    "confusion_mat = confusion_matrix(all_labels, all_predictions )\n",
    "conf_matrix = pd.DataFrame(confusion_mat)\n",
    "# Plot the confusion matrix using seaborn\n",
    "plt.figure(figsize=(5, 4))\n",
    "ax = sns.heatmap(conf_matrix,annot=True,  cmap=sns.cubehelix_palette(as_cmap=True), linewidths=0.1, cbar=False)\n",
    "\n",
    "# Set labels and ticks\n",
    "ax.set_xlabel('Predicted Labels')\n",
    "ax.set_ylabel('True Labels')\n",
    "ax.set_xticklabels(range(confusion_mat.shape[0]), rotation=45, ha='right')\n",
    "ax.set_yticklabels(range(confusion_mat.shape[0]), rotation=0)\n",
    "\n",
    "# Display the plot\n",
    "plt.show()"
   ]
  },
  {
   "cell_type": "code",
   "execution_count": null,
   "metadata": {},
   "outputs": [],
   "source": [
    "# print(\"\\nClassification Report:\")\n",
    "# print(classification_report(all_labels, all_predictions, target_names=[str(c) for c in task1_classes]))"
   ]
  }
 ],
 "metadata": {
  "kernelspec": {
   "display_name": "sebasmos",
   "language": "python",
   "name": "python3"
  },
  "language_info": {
   "codemirror_mode": {
    "name": "ipython",
    "version": 3
   },
   "file_extension": ".py",
   "mimetype": "text/x-python",
   "name": "python",
   "nbconvert_exporter": "python",
   "pygments_lexer": "ipython3",
   "version": "3.10.13"
  }
 },
 "nbformat": 4,
 "nbformat_minor": 4
}
