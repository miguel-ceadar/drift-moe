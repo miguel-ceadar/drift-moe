{
 "cells": [
  {
   "cell_type": "code",
   "execution_count": 1,
   "id": "79490722-4599-4ce5-b6f7-e27695d81b08",
   "metadata": {
    "tags": []
   },
   "outputs": [],
   "source": [
    "import numpy as np \n",
    "import pandas as pd\n",
    "import pickle\n",
    "from sklearn import datasets"
   ]
  },
  {
   "cell_type": "code",
   "execution_count": 2,
   "id": "72002377-cdfd-4ae8-b69a-2ce983cec0e0",
   "metadata": {
    "tags": []
   },
   "outputs": [],
   "source": [
    "# import river modules\n",
    "from river import evaluate\n",
    "from river import metrics\n",
    "from river import optim\n",
    "from river import stream\n",
    "from river import drift"
   ]
  },
  {
   "cell_type": "markdown",
   "id": "6bd96ae3-7ea2-4aaa-8dac-31a99e776402",
   "metadata": {},
   "source": [
    "#### Drift Detection using Pagehinkley"
   ]
  },
  {
   "cell_type": "code",
   "execution_count": 3,
   "id": "18c3c2ed-71c9-4eb9-9d11-e90d65cba1c4",
   "metadata": {
    "tags": []
   },
   "outputs": [
    {
     "data": {
      "text/plain": [
       "PageHinkley (\n",
       "  min_instances=30\n",
       "  delta=0.005\n",
       "  threshold=50.\n",
       "  alpha=0.9999\n",
       "  mode=\"both\"\n",
       ")"
      ]
     },
     "execution_count": 3,
     "metadata": {},
     "output_type": "execute_result"
    }
   ],
   "source": [
    "# Initializing drift detector\n",
    "ph = drift.PageHinkley()\n",
    "ph"
   ]
  },
  {
   "cell_type": "code",
   "execution_count": 4,
   "id": "2d3e795a-384c-4b85-882e-190771348c47",
   "metadata": {
    "tags": []
   },
   "outputs": [],
   "source": [
    "# Creating regression dataset from sklearn dataset module\n",
    "np.random.seed(1000)\n",
    "X, y = datasets.make_regression(n_samples=100, n_features=4)\n",
    "\n",
    "# Loading model from pickle file\n",
    "PARegmodel = pickle.load(open('../saved_models/regression/PARegmodel.pkl', 'rb'))\n",
    "metric = metrics.MAE() + metrics.MSE()"
   ]
  },
  {
   "cell_type": "code",
   "execution_count": 5,
   "id": "602c8a0f-3223-4c05-80eb-96353559717c",
   "metadata": {
    "tags": []
   },
   "outputs": [
    {
     "name": "stdout",
     "output_type": "stream",
     "text": [
      "Change detected with data: {0: 1.0485307227685718, 1: -0.8353282327925169, 2: 1.1334172311772497, 3: -1.694998315517214}\n",
      "Change detected with data: {0: 1.3944227462859724, 1: -2.12832537042671, 2: 0.1779371057504889, 3: -1.4371393945822026}\n",
      "Change detected with data: {0: -0.3831474108842978, 1: 0.3121180100663634, 2: -0.5501738650283003, 3: 1.5331610653579348}\n",
      "\n",
      "\n",
      "MAE: 89.620452, MSE: 12,602.256485\n"
     ]
    }
   ],
   "source": [
    "for xi, yi in stream.iter_array(X, y):\n",
    "    # Data is processed one sample at a time\n",
    "    y_pred = PARegmodel.predict_one(xi)\n",
    "    metric = metric.update(yi, y_pred)\n",
    "    error = yi-y_pred\n",
    "    # Update drift detector with error\n",
    "    ph.update(error)\n",
    "    if ph.drift_detected:\n",
    "         print(f\"Change detected with data: {xi}\")\n",
    "print(\"\\n\")\n",
    "print(metric)"
   ]
  },
  {
   "cell_type": "code",
   "execution_count": null,
   "id": "0b010cce-73df-4be4-86e5-4977fc20b03f",
   "metadata": {},
   "outputs": [],
   "source": []
  }
 ],
 "metadata": {
  "kernelspec": {
   "display_name": "Python 3",
   "language": "python",
   "name": "python3"
  },
  "language_info": {
   "codemirror_mode": {
    "name": "ipython",
    "version": 3
   },
   "file_extension": ".py",
   "mimetype": "text/x-python",
   "name": "python",
   "nbconvert_exporter": "python",
   "pygments_lexer": "ipython3",
   "version": "3.10.14"
  },
  "vscode": {
   "interpreter": {
    "hash": "b0fa6594d8f4cbf19f97940f81e996739fb7646882a419484c72d19e05852a7e"
   }
  }
 },
 "nbformat": 4,
 "nbformat_minor": 5
}
