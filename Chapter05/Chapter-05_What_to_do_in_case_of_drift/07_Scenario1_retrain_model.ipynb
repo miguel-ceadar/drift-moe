{
 "cells": [
  {
   "cell_type": "code",
   "execution_count": 1,
   "id": "df4dceca-9d30-414f-b11e-bf581d77c272",
   "metadata": {
    "tags": []
   },
   "outputs": [],
   "source": [
    "import numpy as np\n",
    "from river import datasets\n",
    "from river import evaluate\n",
    "from river import linear_model\n",
    "from river import metrics\n",
    "from river import optim\n",
    "from river import preprocessing\n",
    "from river import drift\n",
    "import pickle\n",
    "from sklearn.linear_model import LogisticRegression\n",
    "from sklearn.preprocessing import StandardScaler\n",
    "from sklearn.pipeline import Pipeline"
   ]
  },
  {
   "cell_type": "code",
   "execution_count": 2,
   "id": "455bf7cc-2ae8-4bff-a0af-4bad117466bf",
   "metadata": {
    "tags": []
   },
   "outputs": [
    {
     "name": "stdout",
     "output_type": "stream",
     "text": [
      "Change detected at index 95\n",
      "Re-train the model\n",
      "Pipeline(steps=[('scaler', StandardScaler()), ('logreg', LogisticRegression())])\n",
      "Change detected at index 319\n",
      "Re-train the model\n",
      "Pipeline(steps=[('scaler', StandardScaler()), ('logreg', LogisticRegression())])\n",
      "Accuracy: 65.20%\n"
     ]
    },
    {
     "name": "stderr",
     "output_type": "stream",
     "text": [
      "/Users/sebasmos/anaconda3/envs/book/lib/python3.10/site-packages/sklearn/base.py:347: InconsistentVersionWarning: Trying to unpickle estimator StandardScaler from version 1.3.2 when using version 1.3.0. This might lead to breaking code or invalid results. Use at your own risk. For more info please refer to:\n",
      "https://scikit-learn.org/stable/model_persistence.html#security-maintainability-limitations\n",
      "  warnings.warn(\n",
      "/Users/sebasmos/anaconda3/envs/book/lib/python3.10/site-packages/sklearn/base.py:347: InconsistentVersionWarning: Trying to unpickle estimator LogisticRegression from version 1.3.2 when using version 1.3.0. This might lead to breaking code or invalid results. Use at your own risk. For more info please refer to:\n",
      "https://scikit-learn.org/stable/model_persistence.html#security-maintainability-limitations\n",
      "  warnings.warn(\n",
      "/Users/sebasmos/anaconda3/envs/book/lib/python3.10/site-packages/sklearn/base.py:347: InconsistentVersionWarning: Trying to unpickle estimator Pipeline from version 1.3.2 when using version 1.3.0. This might lead to breaking code or invalid results. Use at your own risk. For more info please refer to:\n",
      "https://scikit-learn.org/stable/model_persistence.html#security-maintainability-limitations\n",
      "  warnings.warn(\n"
     ]
    }
   ],
   "source": [
    "# Load dataset\n",
    "dataset = datasets.synth.Agrawal(\n",
    "     classification_function=0,\n",
    "     seed=42\n",
    ")\n",
    "\n",
    "# Load pickled model\n",
    "LRmodel1 = pickle.load(open('../saved_models/classification/sklearn/LogRegsk.pkl', 'rb'))\n",
    "\n",
    "# Initialize drift detector\n",
    "drift_detector = drift.ADWIN(delta=1.2)\n",
    "drifts = list()\n",
    "\n",
    "# Initialise metric\n",
    "metric = metrics.Accuracy()\n",
    "\n",
    "# buffers to store data stream for re-trainig model\n",
    "feature_buffer = list()\n",
    "label_buffer = list()\n",
    "\n",
    "for i,data in enumerate(dataset.take(1000)):\n",
    "    # data[0] - features, data[1] - label\n",
    "    y_pred = LRmodel1.predict(np.reshape(list(data[0].values()), (-1, 1)).T)\n",
    "    metric = metric.update(data[1],y_pred[0])\n",
    "    correctly_classified = y_pred == data[1]\n",
    "    drift_detector.update(correctly_classified)   # Data is processed one sample at a time\n",
    "    feature_buffer.append(list(data[0].values()))\n",
    "    label_buffer.append(data[1])\n",
    "    if drift_detector.drift_detected:\n",
    "        # The drift detector indicates after each sample if there is a drift in the data\n",
    "        print(f'Change detected at index {i}')\n",
    "        drifts.append(i)\n",
    "        print(f'Re-train the model')\n",
    "        LRmodel1.fit(feature_buffer,label_buffer)\n",
    "        print(LRmodel1)\n",
    "\n",
    "print(metric)"
   ]
  },
  {
   "cell_type": "code",
   "execution_count": null,
   "id": "ebfe9a55-7b3a-472a-93da-132fb416316c",
   "metadata": {},
   "outputs": [],
   "source": []
  }
 ],
 "metadata": {
  "kernelspec": {
   "display_name": "Python 3",
   "language": "python",
   "name": "python3"
  },
  "language_info": {
   "codemirror_mode": {
    "name": "ipython",
    "version": 3
   },
   "file_extension": ".py",
   "mimetype": "text/x-python",
   "name": "python",
   "nbconvert_exporter": "python",
   "pygments_lexer": "ipython3",
   "version": "3.10.14"
  },
  "vscode": {
   "interpreter": {
    "hash": "b0fa6594d8f4cbf19f97940f81e996739fb7646882a419484c72d19e05852a7e"
   }
  }
 },
 "nbformat": 4,
 "nbformat_minor": 5
}
