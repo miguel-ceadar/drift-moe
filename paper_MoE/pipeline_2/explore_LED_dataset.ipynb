{
 "cells": [
  {
   "cell_type": "code",
   "execution_count": 1,
   "id": "dacdbd1f",
   "metadata": {},
   "outputs": [],
   "source": [
    "# !pip install river "
   ]
  },
  {
   "cell_type": "code",
   "execution_count": 2,
   "id": "a4cf350a",
   "metadata": {},
   "outputs": [
    {
     "name": "stdout",
     "output_type": "stream",
     "text": [
      "Features: {'region-centroid-col': 218, 'region-centroid-row': 178, 'short-line-density-5': 0.11111111, 'short-line-density-2': 0.0, 'vedge-mean': 0.8333326999999999, 'vegde-sd': 0.54772234, 'hedge-mean': 1.1111094, 'hedge-sd': 0.5443307, 'intensity-mean': 59.629630000000006, 'rawred-mean': 52.44444300000001, 'rawblue-mean': 75.22222, 'rawgreen-mean': 51.22222, 'exred-mean': -21.555555, 'exblue-mean': 46.77778, 'exgreen-mean': -25.222220999999998, 'value-mean': 75.22222, 'saturation-mean': 0.31899637, 'hue-mean': -2.0405545}\n",
      "Class: path\n"
     ]
    }
   ],
   "source": [
    "from river import datasets\n",
    "\n",
    "# Load the ImageSegments dataset\n",
    "dataset = datasets.ImageSegments()\n",
    "\n",
    "# Iterate over the dataset\n",
    "for x, y in dataset:\n",
    "    print(\"Features:\", x)\n",
    "    print(\"Class:\", y)\n",
    "    break  # Remove this to process the full dataset"
   ]
  },
  {
   "cell_type": "code",
   "execution_count": 3,
   "id": "ad74ffb1",
   "metadata": {},
   "outputs": [
    {
     "name": "stdout",
     "output_type": "stream",
     "text": [
      "Number of samples: 2310\n"
     ]
    }
   ],
   "source": [
    "from river import datasets\n",
    "\n",
    "# Load the ImageSegments dataset\n",
    "dataset = datasets.ImageSegments()\n",
    "\n",
    "# Get the number of samples\n",
    "size = dataset.n_samples\n",
    "\n",
    "# Print the size\n",
    "print(\"Number of samples:\", size)"
   ]
  },
  {
   "cell_type": "code",
   "execution_count": 4,
   "id": "b21efdec",
   "metadata": {},
   "outputs": [
    {
     "name": "stdout",
     "output_type": "stream",
     "text": [
      "Number of classes: 7\n"
     ]
    }
   ],
   "source": [
    "from river import datasets\n",
    "\n",
    "# Load the ImageSegments dataset\n",
    "dataset = datasets.ImageSegments()\n",
    "\n",
    "# Get the unique classes\n",
    "classes = dataset.n_classes\n",
    "\n",
    "# Print the number of classes\n",
    "print(\"Number of classes:\", classes)"
   ]
  }
 ],
 "metadata": {
  "kernelspec": {
   "display_name": "medsam",
   "language": "python",
   "name": "python3"
  },
  "language_info": {
   "codemirror_mode": {
    "name": "ipython",
    "version": 3
   },
   "file_extension": ".py",
   "mimetype": "text/x-python",
   "name": "python",
   "nbconvert_exporter": "python",
   "pygments_lexer": "ipython3",
   "version": "3.10.13"
  }
 },
 "nbformat": 4,
 "nbformat_minor": 5
}
