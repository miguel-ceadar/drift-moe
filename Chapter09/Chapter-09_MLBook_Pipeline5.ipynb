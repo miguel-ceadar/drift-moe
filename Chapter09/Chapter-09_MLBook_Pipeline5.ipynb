{
 "cells": [
  {
   "cell_type": "markdown",
   "id": "15c8fa7f-6023-4758-8a60-a27d5d92c36a",
   "metadata": {},
   "source": [
    "# Managing Your Model Registry"
   ]
  },
  {
   "cell_type": "markdown",
   "id": "f39d5d99-5dd8-45cb-9f04-dd72044ed36f",
   "metadata": {},
   "source": [
    "## Registering a Model with MLFlow"
   ]
  },
  {
   "cell_type": "code",
   "execution_count": 1,
   "id": "bbad76df-9aaf-4bed-b2a6-1fa01a9edc87",
   "metadata": {
    "tags": []
   },
   "outputs": [
    {
     "name": "stderr",
     "output_type": "stream",
     "text": [
      "2024/06/17 16:24:06 INFO mlflow.tracking.fluent: Experiment with name 'MLBook_Experiment4' does not exist. Creating a new experiment.\n",
      "/Users/sebasmos/anaconda3/envs/book/lib/python3.10/site-packages/_distutils_hack/__init__.py:26: UserWarning: Setuptools is replacing distutils.\n",
      "  warnings.warn(\"Setuptools is replacing distutils.\")\n",
      "Successfully registered model 'RandomForestClassifier'.\n",
      "2024/06/17 16:24:08 INFO mlflow.store.model_registry.abstract_store: Waiting up to 300 seconds for model version to finish creation. Model name: RandomForestClassifier, version 1\n",
      "Created version '1' of model 'RandomForestClassifier'.\n"
     ]
    },
    {
     "data": {
      "text/plain": [
       "<ModelVersion: aliases=[], creation_timestamp=1718637848361, current_stage='None', description='', last_updated_timestamp=1718637848361, name='RandomForestClassifier', run_id='1db3d60f0b934badbfc1704ed35e6a24', run_link='', source='/Users/sebasmos/Desktop/Data-Drift-in-Machine-Learning_book/mlruns/2/1db3d60f0b934badbfc1704ed35e6a24/artifacts/RandomForest', status='READY', status_message='', tags={}, user_id='', version='1'>"
      ]
     },
     "execution_count": 1,
     "metadata": {},
     "output_type": "execute_result"
    }
   ],
   "source": [
    "import mlflow\n",
    "from sklearn.ensemble import RandomForestClassifier\n",
    "from sklearn.datasets import make_classification\n",
    "from sklearn.model_selection import train_test_split\n",
    "from sklearn.metrics import accuracy_score\n",
    "\n",
    "# Prepare a dataset and train a simple model\n",
    "X, y = make_classification()\n",
    "X_train, X_test, y_train, y_test = train_test_split(X, y)\n",
    "model = RandomForestClassifier().fit(X_train, y_train)\n",
    "\n",
    "# Setting the MLflow tracking URI and experiment\n",
    "mlflow.set_tracking_uri('http://127.0.0.1:5000')  # Adjust as necessary\n",
    "experiment_name = 'MLBook_Experiment4'\n",
    "mlflow.set_experiment(experiment_name)\n",
    "\n",
    "# Start an MLflow run and log the model\n",
    "with mlflow.start_run():\n",
    "    mlflow.sklearn.log_model(model, \"RandomForest\")\n",
    "    run_id = mlflow.active_run().info.run_id\n",
    "\n",
    "# Register the model in the model registry\n",
    "model_uri = f\"runs:/{run_id}/RandomForest\"\n",
    "mlflow.register_model(model_uri, \"RandomForestClassifier\")\n"
   ]
  },
  {
   "cell_type": "markdown",
   "id": "3119cda4-9365-41ea-9375-339a1fadbbac",
   "metadata": {},
   "source": [
    "## Updating Model Registry"
   ]
  },
  {
   "cell_type": "code",
   "execution_count": 2,
   "id": "ca54d57a-a860-4fbe-b2aa-252714b50675",
   "metadata": {
    "tags": []
   },
   "outputs": [
    {
     "name": "stderr",
     "output_type": "stream",
     "text": [
      "Registered model 'RandomForestClassifier' already exists. Creating a new version of this model...\n",
      "2024/06/17 16:24:09 INFO mlflow.store.model_registry.abstract_store: Waiting up to 300 seconds for model version to finish creation. Model name: RandomForestClassifier, version 2\n",
      "Created version '2' of model 'RandomForestClassifier'.\n",
      "/var/folders/79/lmgzzcl17bb5gc349jpl0mvm0000gn/T/ipykernel_55383/3543076641.py:20: FutureWarning: ``mlflow.tracking.client.MlflowClient.get_latest_versions`` is deprecated since 2.9.0. Model registry stages will be removed in a future major release. To learn more about the deprecation of model registry stages, see our migration guide here: https://mlflow.org/docs/2.9.2/model-registry.html#migrating-from-stages\n",
      "  version=client.get_latest_versions(\"RandomForestClassifier\")[0].version,\n",
      "/var/folders/79/lmgzzcl17bb5gc349jpl0mvm0000gn/T/ipykernel_55383/3543076641.py:18: FutureWarning: ``mlflow.tracking.client.MlflowClient.transition_model_version_stage`` is deprecated since 2.9.0. Model registry stages will be removed in a future major release. To learn more about the deprecation of model registry stages, see our migration guide here: https://mlflow.org/docs/2.9.2/model-registry.html#migrating-from-stages\n",
      "  client.transition_model_version_stage(\n"
     ]
    }
   ],
   "source": [
    "# Assume drift_detection_function() is a function that detects drift\n",
    "def drift_detection_function(X_test, y_test):\n",
    "    return True\n",
    "\n",
    "if drift_detection_function(X_test, y_test):\n",
    "    # Retrain the model with new data\n",
    "    new_model = RandomForestClassifier().fit(X_train, y_train)\n",
    "    \n",
    "    # Log and register the new model version\n",
    "    with mlflow.start_run():\n",
    "        mlflow.sklearn.log_model(new_model, \"RandomForest\")\n",
    "        new_run_id = mlflow.active_run().info.run_id\n",
    "        model_uri = f\"runs:/{new_run_id}/RandomForest\"\n",
    "        mlflow.register_model(model_uri, \"RandomForestClassifier\")\n",
    "        # Promote this model to staging or production after validation\n",
    "        client = mlflow.tracking.MlflowClient()\n",
    "        run_id = mlflow.active_run().info.run_id\n",
    "        client.transition_model_version_stage(\n",
    "            name=\"RandomForestClassifier\",\n",
    "            version=client.get_latest_versions(\"RandomForestClassifier\")[0].version,\n",
    "            stage=\"Production\"\n",
    "        )\n"
   ]
  },
  {
   "cell_type": "markdown",
   "id": "6c2681a7-4fbc-4d09-bae8-4da31369114d",
   "metadata": {},
   "source": [
    "## Managing Model Metadata and Access"
   ]
  },
  {
   "cell_type": "code",
   "execution_count": 3,
   "id": "ffefeba3-e58f-40a1-b616-4338c09b15c4",
   "metadata": {
    "tags": []
   },
   "outputs": [
    {
     "name": "stderr",
     "output_type": "stream",
     "text": [
      "Registered model 'RandomForestClassifier' already exists. Creating a new version of this model...\n",
      "2024/06/17 16:24:11 INFO mlflow.store.model_registry.abstract_store: Waiting up to 300 seconds for model version to finish creation. Model name: RandomForestClassifier, version 3\n",
      "Created version '3' of model 'RandomForestClassifier'.\n"
     ]
    },
    {
     "data": {
      "text/plain": [
       "<RegisteredModel: aliases={}, creation_timestamp=1718637848342, description='Production models can only be updated by the ML team.', last_updated_timestamp=1718637851356, latest_versions=[<ModelVersion: aliases=[], creation_timestamp=1718637851334, current_stage='None', description='', last_updated_timestamp=1718637851334, name='RandomForestClassifier', run_id='61835ab485994d6fb5017822863c67e6', run_link='', source='/Users/sebasmos/Desktop/Data-Drift-in-Machine-Learning_book/mlruns/2/61835ab485994d6fb5017822863c67e6/artifacts/my_model', status='READY', status_message='', tags={}, user_id='', version='3'>,\n",
       " <ModelVersion: aliases=[], creation_timestamp=1718637849962, current_stage='Production', description='', last_updated_timestamp=1718637849977, name='RandomForestClassifier', run_id='0012ed58f8064c6b941b47921e6a3245', run_link='', source='/Users/sebasmos/Desktop/Data-Drift-in-Machine-Learning_book/mlruns/2/0012ed58f8064c6b941b47921e6a3245/artifacts/RandomForest', status='READY', status_message='', tags={}, user_id='', version='2'>], name='RandomForestClassifier', tags={}>"
      ]
     },
     "execution_count": 3,
     "metadata": {},
     "output_type": "execute_result"
    }
   ],
   "source": [
    "# When logging the model, include additional metadata\n",
    "with mlflow.start_run() as run:\n",
    "    mlflow.log_params(model.get_params())\n",
    "    mlflow.log_metrics({'accuracy': accuracy_score(y_test, model.predict(X_test))})\n",
    "    mlflow.set_tags({'data_version': 'v1', 'model_type': 'RandomForest'})\n",
    "\n",
    "    mlflow.sklearn.log_model(model, \"my_model\", registered_model_name=\"RandomForestClassifier\")\n",
    "\n",
    "# Set up access control\n",
    "client.update_model_version(\n",
    "    name=\"RandomForestClassifier\",\n",
    "    version=1,\n",
    "    description=\"This version is for users in the analytics team.\"\n",
    ")\n",
    "\n",
    "# Specify who can transition models to production\n",
    "client.update_registered_model(\n",
    "    name=\"RandomForestClassifier\",\n",
    "    description=\"Production models can only be updated by the ML team.\"\n",
    ")\n"
   ]
  },
  {
   "cell_type": "code",
   "execution_count": null,
   "id": "26ba4adb-e8a5-43dd-8afc-492bcfcc4bd9",
   "metadata": {},
   "outputs": [],
   "source": []
  }
 ],
 "metadata": {
  "kernelspec": {
   "display_name": "Python 3 (ipykernel)",
   "language": "python",
   "name": "python3"
  },
  "language_info": {
   "codemirror_mode": {
    "name": "ipython",
    "version": 3
   },
   "file_extension": ".py",
   "mimetype": "text/x-python",
   "name": "python",
   "nbconvert_exporter": "python",
   "pygments_lexer": "ipython3",
   "version": "3.10.14"
  }
 },
 "nbformat": 4,
 "nbformat_minor": 5
}
