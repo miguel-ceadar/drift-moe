{
 "cells": [
  {
   "cell_type": "markdown",
   "id": "58ad0a99-3aa8-4fda-a300-dfe47c8ce751",
   "metadata": {},
   "source": [
    "# Triggering actions in case of drifts"
   ]
  },
  {
   "cell_type": "code",
   "execution_count": null,
   "id": "7e94a14c-ec68-45b6-86f1-4c6d9c9877c0",
   "metadata": {
    "tags": []
   },
   "outputs": [],
   "source": [
    "import pandas as pd\n",
    "from sklearn.metrics import accuracy_score\n",
    "from sklearn.ensemble import RandomForestClassifier\n",
    "from sklearn.model_selection import train_test_split\n",
    "import mlflow\n",
    "\n",
    "# Assuming heart.csv is in the correct path and contains the right data\n",
    "df = pd.read_csv('heart.csv')\n",
    "df = df[['Age', 'RestingBP', 'Cholesterol', 'FastingBS', 'MaxHR', 'Oldpeak', 'HeartDisease']]\n",
    "df['HeartDisease'] = df['HeartDisease'].astype('str')\n",
    "df.rename(columns={'HeartDisease': 'label'}, inplace=True)\n",
    "\n",
    "features = df.drop('label', axis=1)\n",
    "target = df['label']\n",
    "X_train, X_test, y_train, y_test = train_test_split(features, target, test_size=0.3, random_state=0)\n",
    "\n",
    "model = RandomForestClassifier(n_estimators=200, max_depth=30)\n",
    "model.fit(X_train, y_train)\n",
    "\n",
    "predictions = model.predict(X_test)\n",
    "print(f\"Model Accuracy: {accuracy_score(y_test, predictions)}\")\n",
    "\n",
    "# Setting the MLflow tracking URI and experiment\n",
    "mlflow.set_tracking_uri('http://127.0.0.1:5000')  # Adjust as necessary\n",
    "experiment_name = 'MLBook_Experiment3'\n",
    "mlflow.set_experiment(experiment_name)\n",
    "\n",
    "# Start an MLflow run\n",
    "with mlflow.start_run(run_name='HeartDiseaseRF'):\n",
    "    # Log parameters\n",
    "    mlflow.log_param(\"n_estimators\", 200)\n",
    "    mlflow.log_param(\"max_depth\", 30)\n",
    "\n",
    "    # Log model accuracy\n",
    "    mlflow.log_metric(\"accuracy\", accuracy_score(y_test, predictions))\n",
    "\n",
    "    # Log the model itself\n",
    "    mlflow.sklearn.log_model(model, \"HeartDiseaseRF\")\n",
    "\n",
    "# The run is automatically ended when the context manager exits\n",
    "print(\"Model logged to MLFlow.\")"
   ]
  },
  {
   "cell_type": "code",
   "execution_count": null,
   "id": "2beed329-568c-4ac4-b9fb-391b0ba7c787",
   "metadata": {
    "tags": []
   },
   "outputs": [],
   "source": [
    "client = mlflow.tracking.MlflowClient()\n",
    "experiment_id = client.get_experiment_by_name(experiment_name).experiment_id\n",
    "run_infos = client.search_runs([experiment_id])\n",
    "model_url = run_infos[0].info.artifact_uri+\"/HeartDiseaseRF\"\n",
    "result = mlflow.register_model(\n",
    "    model_url, \"sk-learn-random-forest-HD\"\n",
    ")"
   ]
  },
  {
   "cell_type": "code",
   "execution_count": null,
   "id": "e01b5b6b-13eb-4550-a9fc-4240c31950bd",
   "metadata": {
    "tags": []
   },
   "outputs": [],
   "source": [
    "import mlflow\n",
    "import numpy as np\n",
    "from sklearn.ensemble import RandomForestClassifier\n",
    "from sklearn.datasets import make_classification\n",
    "from sklearn.model_selection import train_test_split\n",
    "from sklearn.metrics import accuracy_score\n",
    "\n",
    "# Step 1: Load the trained model from the MLFlow model registry\n",
    "mlflow.set_tracking_uri('http://127.0.0.1:5000')  # Set to your MLFlow server\n",
    "model_name = \"sk-learn-random-forest-HD\"\n",
    "model_version = 1  # Assuming version 1 is the latest production model\n",
    "\n",
    "model_uri = f\"models:/{model_name}/{model_version}\"\n",
    "model = mlflow.sklearn.load_model(model_uri)\n",
    "\n",
    "# Step 2: Define the data pipeline and simulate incoming data\n",
    "def get_incoming_data():\n",
    "    # In a real scenario, this function would be replaced by data ingestion mechanisms\n",
    "    # Here we simulate data generation for inference\n",
    "    X, _ = make_classification(n_samples=10, n_features=6, n_classes=2, random_state=42)\n",
    "    return X\n",
    "\n",
    "# Simulate a data sink\n",
    "incoming_data = get_incoming_data()\n",
    "\n",
    "# Step 3: Inference using the model\n",
    "predictions = model.predict(incoming_data)"
   ]
  },
  {
   "cell_type": "code",
   "execution_count": null,
   "id": "8214d89f-24c7-4650-b73a-62e7913131e0",
   "metadata": {
    "tags": []
   },
   "outputs": [],
   "source": [
    "# Step 4: Check for drift (a simple drift detection mechanism)\n",
    "# In a real-world scenario, this should be replaced by a robust drift detection method\n",
    "def drift_detection(predictions):\n",
    "    # Simulate drift detection logic\n",
    "    # This could be a statistical test or comparison with expected distribution\n",
    "    drift_detected = np.random.choice([True, False])  # Randomly simulating drift for demo purposes\n",
    "    return drift_detected\n",
    "\n",
    "# Step 5: Automated response if drift is detected\n",
    "if drift_detection(predictions):\n",
    "    # Alerting the team (can be an email, a message in a team chat, etc.)\n",
    "    print(\"Drift detected! Alerting the team...\")\n",
    "\n",
    "    # Retraining the model with new data (for simplicity, we use the same dataset)\n",
    "    X, y = make_classification(n_samples=100, n_features=6, n_classes=2, random_state=42)\n",
    "    X_train, X_test, y_train, y_test = train_test_split(X, y, test_size=0.2, random_state=42)\n",
    "    new_model = RandomForestClassifier()\n",
    "    new_model.fit(X_train, y_train)\n",
    "    \n",
    "    # Evaluate the new model\n",
    "    new_accuracy = accuracy_score(y_test, new_model.predict(X_test))\n",
    "    print(f\"New model accuracy: {new_accuracy}\")\n",
    "\n",
    "    # If the new model is better, register it to MLFlow\n",
    "    if new_accuracy > 0.8:  # Assuming 0.8 is our threshold for model performance\n",
    "        with mlflow.start_run():\n",
    "            mlflow.sklearn.log_model(new_model, \"RandomForestModel\")\n",
    "            mlflow.log_metric(\"accuracy\", new_accuracy)\n",
    "            print(\"New model trained and registered to MLFlow due to drift.\")\n",
    "\n",
    "# The above code demonstrates how an inference pipeline can handle data drifts\n",
    "# by incorporating a drift detection mechanism and an automated response system.\n"
   ]
  },
  {
   "cell_type": "code",
   "execution_count": null,
   "id": "b213a4a7-fdc8-472b-8605-66654986213a",
   "metadata": {},
   "outputs": [],
   "source": []
  }
 ],
 "metadata": {
  "kernelspec": {
   "display_name": "Python 3 (ipykernel)",
   "language": "python",
   "name": "python3"
  },
  "language_info": {
   "codemirror_mode": {
    "name": "ipython",
    "version": 3
   },
   "file_extension": ".py",
   "mimetype": "text/x-python",
   "name": "python",
   "nbconvert_exporter": "python",
   "pygments_lexer": "ipython3",
   "version": "3.10.14"
  }
 },
 "nbformat": 4,
 "nbformat_minor": 5
}
