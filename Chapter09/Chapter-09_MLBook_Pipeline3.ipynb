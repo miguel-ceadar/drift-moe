{
 "cells": [
  {
   "cell_type": "markdown",
   "id": "e35a70aa-be7b-4b69-9e9e-23eeac637a04",
   "metadata": {},
   "source": [
    "# Do You Need a Human in the Loop?"
   ]
  },
  {
   "cell_type": "markdown",
   "id": "191d2eac-cb49-4f7d-9f46-f2c787d6a3d0",
   "metadata": {},
   "source": [
    "## Active learning workflow using PyTorch and modAL"
   ]
  },
  {
   "cell_type": "code",
   "execution_count": 7,
   "id": "bb6a6fd0-95ed-43e1-a515-75c767aa2c5d",
   "metadata": {
    "tags": []
   },
   "outputs": [],
   "source": [
    "import numpy as np\n",
    "import torch\n",
    "from modAL.models import ActiveLearner\n",
    "from modAL.uncertainty import uncertainty_sampling\n",
    "from torch.utils.data import Dataset, DataLoader"
   ]
  },
  {
   "cell_type": "code",
   "execution_count": 8,
   "id": "1fa444ca-55db-436d-864b-cb8184bdc640",
   "metadata": {
    "tags": []
   },
   "outputs": [],
   "source": [
    "# Define a PyTorch Dataset\n",
    "class CustomDataset(Dataset):\n",
    "    def __init__(self, X, y):\n",
    "        self.X = X\n",
    "        self.y = y\n",
    "\n",
    "    def __len__(self):\n",
    "        return len(self.X)\n",
    "\n",
    "    def __getitem__(self, idx):\n",
    "        return self.X[idx], self.y[idx]\n",
    "\n",
    "# Define a PyTorch model\n",
    "class SimpleNN(torch.nn.Module):\n",
    "    def __init__(self, input_dim):\n",
    "        super(SimpleNN, self).__init__()\n",
    "        self.fc1 = torch.nn.Linear(input_dim, 50)\n",
    "        self.relu = torch.nn.ReLU()\n",
    "        self.fc2 = torch.nn.Linear(50, 2)\n",
    "\n",
    "    def forward(self, x):\n",
    "        x = self.relu(self.fc1(x))\n",
    "        return self.fc2(x)"
   ]
  },
  {
   "cell_type": "code",
   "execution_count": 9,
   "id": "43e9bd53-4237-4ad4-b544-6a89d00f6ef3",
   "metadata": {
    "tags": []
   },
   "outputs": [],
   "source": [
    "# PyTorch model wrapper\n",
    "class PyTorchClassifier:\n",
    "    def __init__(self, model, criterion, optimizer):\n",
    "        self.model = model\n",
    "        self.criterion = criterion\n",
    "        self.optimizer = optimizer\n",
    "\n",
    "    def fit(self, X, y, epochs=1):\n",
    "        self.model.train()\n",
    "        dataset = CustomDataset(X, y)\n",
    "        loader = DataLoader(dataset, batch_size=10, shuffle=True)\n",
    "        for epoch in range(epochs):\n",
    "            for batch_idx, (data, target) in enumerate(loader):\n",
    "                self.optimizer.zero_grad()\n",
    "                output = self.model(data)\n",
    "                loss = self.criterion(output, target)\n",
    "                loss.backward()\n",
    "                self.optimizer.step()\n",
    "\n",
    "    def predict(self, X):\n",
    "        self.model.eval()\n",
    "        X_tensor = torch.Tensor(X)\n",
    "        with torch.no_grad():\n",
    "            y_pred = self.model(X_tensor).argmax(dim=1)\n",
    "        return y_pred.cpu().numpy()\n",
    "\n",
    "    def predict_proba(self, X):\n",
    "        self.model.eval()\n",
    "        X_tensor = torch.Tensor(X)\n",
    "        with torch.no_grad():\n",
    "            y_pred_proba = torch.nn.functional.softmax(self.model(X_tensor), dim=1)\n",
    "        return y_pred_proba.cpu().numpy()"
   ]
  },
  {
   "cell_type": "code",
   "execution_count": 10,
   "id": "102469fb-bf0f-4582-be15-ced47da7c134",
   "metadata": {},
   "outputs": [],
   "source": [
    "# Initialize model, optimizer, and loss function\n",
    "model = SimpleNN(input_dim=20)\n",
    "criterion = torch.nn.CrossEntropyLoss()\n",
    "optimizer = torch.optim.Adam(model.parameters(), lr=0.01)"
   ]
  },
  {
   "cell_type": "code",
   "execution_count": 11,
   "id": "db45954a-bd60-478c-8f19-262dbcd9b169",
   "metadata": {
    "tags": []
   },
   "outputs": [],
   "source": [
    "# Generate synthetic data\n",
    "X_raw = np.random.randn(1000, 20).astype(np.float32)\n",
    "y_raw = np.random.randint(0, 2, (1000,)).astype(np.int64)\n",
    "\n",
    "# Initial labeled data\n",
    "initial_idx = np.random.choice(range(1000), size=100, replace=False)\n",
    "X_initial = X_raw[initial_idx]\n",
    "y_initial = y_raw[initial_idx]\n",
    "\n",
    "# Remaining unlabeled data\n",
    "X_pool = np.delete(X_raw, initial_idx, axis=0)\n",
    "y_pool = np.delete(y_raw, initial_idx, axis=0)\n",
    "\n",
    "# Convert to PyTorch datasets\n",
    "initial_dataset = CustomDataset(X_initial, y_initial)\n",
    "pool_dataset = CustomDataset(X_pool, y_pool)\n",
    "\n",
    "# Wrap the PyTorch model with the custom classifier\n",
    "pytorch_classifier = PyTorchClassifier(model, criterion, optimizer)\n"
   ]
  },
  {
   "cell_type": "code",
   "execution_count": 12,
   "id": "bdfc55cf-03db-4cb7-9678-8353e894871c",
   "metadata": {
    "tags": []
   },
   "outputs": [],
   "source": [
    "# Define the active learner\n",
    "learner = ActiveLearner(\n",
    "    estimator=pytorch_classifier,\n",
    "    query_strategy=uncertainty_sampling,\n",
    "    X_training=initial_dataset.X,  # initial training data\n",
    "    y_training=initial_dataset.y,  # initial training labels\n",
    ")"
   ]
  },
  {
   "cell_type": "code",
   "execution_count": 13,
   "id": "d6183d5d-f9cb-428f-8cd3-9a5a7bbf53a7",
   "metadata": {
    "tags": []
   },
   "outputs": [
    {
     "name": "stdout",
     "output_type": "stream",
     "text": [
      "Query 0: Model was trained with 10 new instances.\n",
      "Query 1: Model was trained with 10 new instances.\n",
      "Query 2: Model was trained with 10 new instances.\n",
      "Query 3: Model was trained with 10 new instances.\n",
      "Query 4: Model was trained with 10 new instances.\n",
      "Query 5: Model was trained with 10 new instances.\n",
      "Query 6: Model was trained with 10 new instances.\n",
      "Query 7: Model was trained with 10 new instances.\n",
      "Query 8: Model was trained with 10 new instances.\n",
      "Query 9: Model was trained with 10 new instances.\n"
     ]
    }
   ],
   "source": [
    "# Active learning loop\n",
    "n_queries = 10\n",
    "for i in range(n_queries):\n",
    "    # Query for labels\n",
    "    query_idx, query_instance = learner.query(pool_dataset.X, n_instances=10)\n",
    "    query_label = pool_dataset.y[query_idx]\n",
    "\n",
    "    # Update pool (simulate labeling and removing queried instances)\n",
    "    pool_dataset.X = np.delete(pool_dataset.X, query_idx, axis=0)\n",
    "    pool_dataset.y = np.delete(pool_dataset.y, query_idx, axis=0)\n",
    "\n",
    "    # Teach the model with the new data\n",
    "    learner.teach(query_instance, query_label)\n",
    "\n",
    "    # Print the progress\n",
    "    print(f'Query {i}: Model was trained with {len(query_idx)} new instances.')"
   ]
  },
  {
   "cell_type": "code",
   "execution_count": null,
   "id": "75fdb4ac-7aaf-48d2-bace-009c54105c95",
   "metadata": {},
   "outputs": [],
   "source": []
  }
 ],
 "metadata": {
  "kernelspec": {
   "display_name": "Python 3 (ipykernel)",
   "language": "python",
   "name": "python3"
  },
  "language_info": {
   "codemirror_mode": {
    "name": "ipython",
    "version": 3
   },
   "file_extension": ".py",
   "mimetype": "text/x-python",
   "name": "python",
   "nbconvert_exporter": "python",
   "pygments_lexer": "ipython3",
   "version": "3.10.14"
  }
 },
 "nbformat": 4,
 "nbformat_minor": 5
}
