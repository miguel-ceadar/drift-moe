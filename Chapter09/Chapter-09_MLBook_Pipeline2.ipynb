{
  "cells": [
    {
      "cell_type": "markdown",
      "id": "8bce458f-a200-4ac2-8426-00ab6a79c1d6",
      "metadata": {
        "id": "8bce458f-a200-4ac2-8426-00ab6a79c1d6"
      },
      "source": [
        "# Tracking Changes in Your Pipeline"
      ]
    },
    {
      "cell_type": "markdown",
      "id": "9ddb6e44-0035-4231-b74b-c97cd440da36",
      "metadata": {
        "id": "9ddb6e44-0035-4231-b74b-c97cd440da36"
      },
      "source": [
        "## Step 1: Data Preparation"
      ]
    },
    {
      "cell_type": "code",
      "execution_count": 1,
      "id": "a69299f4-e929-44ff-9956-e23a2b498a47",
      "metadata": {
        "id": "a69299f4-e929-44ff-9956-e23a2b498a47",
        "tags": []
      },
      "outputs": [],
      "source": [
        "# Import necessary libraries\n",
        "import torch\n",
        "import torch.nn as nn\n",
        "import torch.optim as optim\n",
        "from torch.utils.data import DataLoader, TensorDataset\n",
        "from sklearn.datasets import make_classification\n",
        "from sklearn.model_selection import train_test_split\n",
        "import numpy as np\n",
        "\n",
        "# Generate synthetic data for demonstration purposes\n",
        "X, y = make_classification(n_samples=1000, n_features=10, n_classes=2, random_state=42)\n",
        "X_train, X_test, y_train, y_test = train_test_split(X, y, test_size=0.2, random_state=42)\n",
        "\n",
        "# Convert to PyTorch tensors and create data loaders\n",
        "train_data = TensorDataset(torch.tensor(X_train, dtype=torch.float32), torch.tensor(y_train, dtype=torch.long))\n",
        "test_data = TensorDataset(torch.tensor(X_test, dtype=torch.float32), torch.tensor(y_test, dtype=torch.long))\n",
        "\n",
        "train_loader = DataLoader(train_data, batch_size=64, shuffle=True)\n",
        "test_loader = DataLoader(test_data, batch_size=64, shuffle=False)\n"
      ]
    },
    {
      "cell_type": "markdown",
      "id": "2bbdac53-9af8-4664-8798-90b4b85948fb",
      "metadata": {
        "id": "2bbdac53-9af8-4664-8798-90b4b85948fb"
      },
      "source": [
        "## Step 2: Model training with PyTorch"
      ]
    },
    {
      "cell_type": "code",
      "execution_count": 2,
      "id": "43212e54-23da-460e-8575-6e6c4f42b96c",
      "metadata": {
        "colab": {
          "base_uri": "https://localhost:8080/"
        },
        "id": "43212e54-23da-460e-8575-6e6c4f42b96c",
        "outputId": "062c9471-91a7-4c55-f36f-14a7b0611ef1",
        "tags": []
      },
      "outputs": [
        {
          "name": "stdout",
          "output_type": "stream",
          "text": [
            "Epoch 1/10, Loss: 0.6526679396629333\n",
            "Epoch 2/10, Loss: 0.6071622371673584\n",
            "Epoch 3/10, Loss: 0.5397849678993225\n",
            "Epoch 4/10, Loss: 0.562313973903656\n",
            "Epoch 5/10, Loss: 0.4002085030078888\n",
            "Epoch 6/10, Loss: 0.41115787625312805\n",
            "Epoch 7/10, Loss: 0.3581184446811676\n",
            "Epoch 8/10, Loss: 0.3598690927028656\n",
            "Epoch 9/10, Loss: 0.3118450343608856\n",
            "Epoch 10/10, Loss: 0.5227107405662537\n"
          ]
        }
      ],
      "source": [
        "# Define a simple neural network for binary classification\n",
        "class SimpleNN(nn.Module):\n",
        "    def __init__(self):\n",
        "        super(SimpleNN, self).__init__()\n",
        "        self.fc1 = nn.Linear(10, 64)\n",
        "        self.relu = nn.ReLU()\n",
        "        self.fc2 = nn.Linear(64, 2)  # Output layer for 2 classes\n",
        "\n",
        "    def forward(self, x):\n",
        "        x = self.relu(self.fc1(x))\n",
        "        x = self.fc2(x)\n",
        "        return x\n",
        "\n",
        "# Initialize the model, loss function, and optimizer\n",
        "model = SimpleNN()\n",
        "criterion = nn.CrossEntropyLoss()\n",
        "optimizer = optim.Adam(model.parameters(), lr=0.001)\n",
        "\n",
        "# Training loop\n",
        "num_epochs = 10\n",
        "for epoch in range(num_epochs):\n",
        "    for inputs, labels in train_loader:\n",
        "        optimizer.zero_grad()\n",
        "        outputs = model(inputs)\n",
        "        loss = criterion(outputs, labels)\n",
        "        loss.backward()\n",
        "        optimizer.step()\n",
        "\n",
        "    print(f'Epoch {epoch+1}/{num_epochs}, Loss: {loss.item()}')\n"
      ]
    },
    {
      "cell_type": "markdown",
      "id": "eeacebac-ef11-4f39-85cc-73e97d45a96c",
      "metadata": {
        "id": "eeacebac-ef11-4f39-85cc-73e97d45a96c"
      },
      "source": [
        "## Step 3: Drift detection setup with NannyML"
      ]
    },
    {
      "cell_type": "code",
      "execution_count": 3,
      "id": "947a324a-1ffc-44ce-b6cf-8e2a26b2d713",
      "metadata": {
        "colab": {
          "base_uri": "https://localhost:8080/",
          "height": 1000
        },
        "id": "947a324a-1ffc-44ce-b6cf-8e2a26b2d713",
        "outputId": "45638888-6995-4930-e566-0b5d7a29bd96",
        "tags": []
      },
      "outputs": [
        {
          "data": {
            "application/vnd.plotly.v1+json": {
              "config": {
                "plotlyServerURL": "https://plot.ly"
              },
              "data": [
                {
                  "hoverinfo": "skip",
                  "legendgroup": "metric_reference",
                  "line": {
                    "color": "#00c8e5",
                    "shape": "hv",
                    "width": 2
                  },
                  "mode": "lines",
                  "name": "Method",
                  "showlegend": true,
                  "type": "scatter",
                  "x": [
                    "2020-01-01T00:00:00",
                    "2020-01-01T00:00:00",
                    "2020-01-01T00:00:00",
                    "2020-01-01T00:00:00",
                    "2020-01-01T00:00:00",
                    "2020-01-01T00:00:00",
                    "2020-01-01T00:00:00",
                    "2020-01-01T00:00:00",
                    "2020-01-01T00:00:00",
                    "2020-01-01T00:00:00",
                    "2020-01-01T00:00:00"
                  ],
                  "xaxis": "x",
                  "y": [
                    0.32973403902714143,
                    0.29546883621114084,
                    0.385401275355021,
                    0.28010498655308874,
                    0.3274914960637939,
                    0.2332990713310183,
                    0.30815767638944547,
                    0.4384943544656545,
                    0.22674282589645306,
                    0.3170919982701036,
                    0.3170919982701036
                  ],
                  "yaxis": "y"
                },
                {
                  "customdata": [
                    [
                      "Jensen-Shannon distance for <b>feature_0</b>",
                      "<b style=\"color:#00c8e5;line-height:60px\">Reference</b>",
                      "<span style=\"color:#AD0000\">⚠ <b>Drift detected</b></span>",
                      "[0:19]",
                      "From <b>Jan-01-2020</b> to <b>Jan-01-2020</b>",
                      0.3297
                    ],
                    [
                      "Jensen-Shannon distance for <b>feature_0</b>",
                      "<b style=\"color:#00c8e5;line-height:60px\">Reference</b>",
                      "<span style=\"color:#AD0000\">⚠ <b>Drift detected</b></span>",
                      "[20:39]",
                      "From <b>Jan-01-2020</b> to <b>Jan-01-2020</b>",
                      0.2955
                    ],
                    [
                      "Jensen-Shannon distance for <b>feature_0</b>",
                      "<b style=\"color:#00c8e5;line-height:60px\">Reference</b>",
                      "<span style=\"color:#AD0000\">⚠ <b>Drift detected</b></span>",
                      "[40:59]",
                      "From <b>Jan-01-2020</b> to <b>Jan-01-2020</b>",
                      0.3854
                    ],
                    [
                      "Jensen-Shannon distance for <b>feature_0</b>",
                      "<b style=\"color:#00c8e5;line-height:60px\">Reference</b>",
                      "<span style=\"color:#AD0000\">⚠ <b>Drift detected</b></span>",
                      "[60:79]",
                      "From <b>Jan-01-2020</b> to <b>Jan-01-2020</b>",
                      0.2801
                    ],
                    [
                      "Jensen-Shannon distance for <b>feature_0</b>",
                      "<b style=\"color:#00c8e5;line-height:60px\">Reference</b>",
                      "<span style=\"color:#AD0000\">⚠ <b>Drift detected</b></span>",
                      "[80:99]",
                      "From <b>Jan-01-2020</b> to <b>Jan-01-2020</b>",
                      0.3275
                    ],
                    [
                      "Jensen-Shannon distance for <b>feature_0</b>",
                      "<b style=\"color:#00c8e5;line-height:60px\">Reference</b>",
                      "<span style=\"color:#AD0000\">⚠ <b>Drift detected</b></span>",
                      "[100:119]",
                      "From <b>Jan-01-2020</b> to <b>Jan-01-2020</b>",
                      0.2333
                    ],
                    [
                      "Jensen-Shannon distance for <b>feature_0</b>",
                      "<b style=\"color:#00c8e5;line-height:60px\">Reference</b>",
                      "<span style=\"color:#AD0000\">⚠ <b>Drift detected</b></span>",
                      "[120:139]",
                      "From <b>Jan-01-2020</b> to <b>Jan-01-2020</b>",
                      0.3082
                    ],
                    [
                      "Jensen-Shannon distance for <b>feature_0</b>",
                      "<b style=\"color:#00c8e5;line-height:60px\">Reference</b>",
                      "<span style=\"color:#AD0000\">⚠ <b>Drift detected</b></span>",
                      "[140:159]",
                      "From <b>Jan-01-2020</b> to <b>Jan-01-2020</b>",
                      0.4385
                    ],
                    [
                      "Jensen-Shannon distance for <b>feature_0</b>",
                      "<b style=\"color:#00c8e5;line-height:60px\">Reference</b>",
                      "<span style=\"color:#AD0000\">⚠ <b>Drift detected</b></span>",
                      "[160:179]",
                      "From <b>Jan-01-2020</b> to <b>Jan-01-2020</b>",
                      0.2267
                    ],
                    [
                      "Jensen-Shannon distance for <b>feature_0</b>",
                      "<b style=\"color:#00c8e5;line-height:60px\">Reference</b>",
                      "<span style=\"color:#AD0000\">⚠ <b>Drift detected</b></span>",
                      "[180:199]",
                      "From <b>Jan-01-2020</b> to <b>Jan-01-2020</b>",
                      0.3171
                    ]
                  ],
                  "hovertemplate": "%{customdata[1]} &nbsp; &nbsp; %{customdata[2]} <br />Chunk: <b>%{customdata[3]}</b> &nbsp; &nbsp; %{customdata[4]} <br />%{customdata[0]}: <b>%{customdata[5]}</b><b r /><extra></extra>",
                  "legendgroup": "metric_reference",
                  "marker": {
                    "color": "#00c8e5",
                    "size": 5,
                    "symbol": "circle"
                  },
                  "mode": "markers",
                  "name": "Method",
                  "showlegend": false,
                  "type": "scatter",
                  "x": [
                    "2020-01-01T00:00:00",
                    "2020-01-01T00:00:00",
                    "2020-01-01T00:00:00",
                    "2020-01-01T00:00:00",
                    "2020-01-01T00:00:00",
                    "2020-01-01T00:00:00",
                    "2020-01-01T00:00:00",
                    "2020-01-01T00:00:00",
                    "2020-01-01T00:00:00",
                    "2020-01-01T00:00:00"
                  ],
                  "xaxis": "x",
                  "y": [
                    0.32973403902714143,
                    0.29546883621114084,
                    0.385401275355021,
                    0.28010498655308874,
                    0.3274914960637939,
                    0.2332990713310183,
                    0.30815767638944547,
                    0.4384943544656545,
                    0.22674282589645306,
                    0.3170919982701036,
                    0.3170919982701036
                  ],
                  "yaxis": "y"
                },
                {
                  "hoverinfo": "skip",
                  "legendgroup": "metric_analysis",
                  "line": {
                    "color": "#00c8e5",
                    "shape": "hv",
                    "width": 2
                  },
                  "mode": "lines",
                  "name": "Method",
                  "showlegend": false,
                  "type": "scatter",
                  "x": [
                    "2020-02-01T00:00:00",
                    "2020-02-01T00:00:00",
                    "2020-02-01T00:00:00",
                    "2020-02-01T00:00:00",
                    "2020-02-01T00:00:00",
                    "2020-02-01T00:00:00",
                    "2020-02-01T00:00:00",
                    "2020-02-01T00:00:00",
                    "2020-02-01T00:00:00",
                    "2020-02-01T00:00:00",
                    "2020-02-01T00:00:00"
                  ],
                  "xaxis": "x",
                  "y": [
                    0.32973403902714143,
                    0.29546883621114084,
                    0.385401275355021,
                    0.28010498655308874,
                    0.3274914960637939,
                    0.2332990713310183,
                    0.30815767638944547,
                    0.4384943544656545,
                    0.22674282589645306,
                    0.3170919982701036,
                    0.3170919982701036
                  ],
                  "yaxis": "y"
                },
                {
                  "customdata": [
                    [
                      "Jensen-Shannon distance for <b>feature_0</b>",
                      "<b style=\"color:#00c8e5;line-height:60px\">Analysis</b>",
                      "<span style=\"color:#AD0000\">⚠ <b>Drift detected</b></span>",
                      "[0:19]",
                      "From <b>Feb-01-2020</b> to <b>Feb-01-2020</b>",
                      0.3297
                    ],
                    [
                      "Jensen-Shannon distance for <b>feature_0</b>",
                      "<b style=\"color:#00c8e5;line-height:60px\">Analysis</b>",
                      "<span style=\"color:#AD0000\">⚠ <b>Drift detected</b></span>",
                      "[20:39]",
                      "From <b>Feb-01-2020</b> to <b>Feb-01-2020</b>",
                      0.2955
                    ],
                    [
                      "Jensen-Shannon distance for <b>feature_0</b>",
                      "<b style=\"color:#00c8e5;line-height:60px\">Analysis</b>",
                      "<span style=\"color:#AD0000\">⚠ <b>Drift detected</b></span>",
                      "[40:59]",
                      "From <b>Feb-01-2020</b> to <b>Feb-01-2020</b>",
                      0.3854
                    ],
                    [
                      "Jensen-Shannon distance for <b>feature_0</b>",
                      "<b style=\"color:#00c8e5;line-height:60px\">Analysis</b>",
                      "<span style=\"color:#AD0000\">⚠ <b>Drift detected</b></span>",
                      "[60:79]",
                      "From <b>Feb-01-2020</b> to <b>Feb-01-2020</b>",
                      0.2801
                    ],
                    [
                      "Jensen-Shannon distance for <b>feature_0</b>",
                      "<b style=\"color:#00c8e5;line-height:60px\">Analysis</b>",
                      "<span style=\"color:#AD0000\">⚠ <b>Drift detected</b></span>",
                      "[80:99]",
                      "From <b>Feb-01-2020</b> to <b>Feb-01-2020</b>",
                      0.3275
                    ],
                    [
                      "Jensen-Shannon distance for <b>feature_0</b>",
                      "<b style=\"color:#00c8e5;line-height:60px\">Analysis</b>",
                      "<span style=\"color:#AD0000\">⚠ <b>Drift detected</b></span>",
                      "[100:119]",
                      "From <b>Feb-01-2020</b> to <b>Feb-01-2020</b>",
                      0.2333
                    ],
                    [
                      "Jensen-Shannon distance for <b>feature_0</b>",
                      "<b style=\"color:#00c8e5;line-height:60px\">Analysis</b>",
                      "<span style=\"color:#AD0000\">⚠ <b>Drift detected</b></span>",
                      "[120:139]",
                      "From <b>Feb-01-2020</b> to <b>Feb-01-2020</b>",
                      0.3082
                    ],
                    [
                      "Jensen-Shannon distance for <b>feature_0</b>",
                      "<b style=\"color:#00c8e5;line-height:60px\">Analysis</b>",
                      "<span style=\"color:#AD0000\">⚠ <b>Drift detected</b></span>",
                      "[140:159]",
                      "From <b>Feb-01-2020</b> to <b>Feb-01-2020</b>",
                      0.4385
                    ],
                    [
                      "Jensen-Shannon distance for <b>feature_0</b>",
                      "<b style=\"color:#00c8e5;line-height:60px\">Analysis</b>",
                      "<span style=\"color:#AD0000\">⚠ <b>Drift detected</b></span>",
                      "[160:179]",
                      "From <b>Feb-01-2020</b> to <b>Feb-01-2020</b>",
                      0.2267
                    ],
                    [
                      "Jensen-Shannon distance for <b>feature_0</b>",
                      "<b style=\"color:#00c8e5;line-height:60px\">Analysis</b>",
                      "<span style=\"color:#AD0000\">⚠ <b>Drift detected</b></span>",
                      "[180:199]",
                      "From <b>Feb-01-2020</b> to <b>Feb-01-2020</b>",
                      0.3171
                    ]
                  ],
                  "hovertemplate": "%{customdata[1]} &nbsp; &nbsp; %{customdata[2]} <br />Chunk: <b>%{customdata[3]}</b> &nbsp; &nbsp; %{customdata[4]} <br />%{customdata[0]}: <b>%{customdata[5]}</b><b r /><extra></extra>",
                  "legendgroup": "metric_analysis",
                  "marker": {
                    "color": "#00c8e5",
                    "size": 5,
                    "symbol": "circle"
                  },
                  "mode": "markers",
                  "name": "Method",
                  "showlegend": false,
                  "type": "scatter",
                  "x": [
                    "2020-02-01T00:00:00",
                    "2020-02-01T00:00:00",
                    "2020-02-01T00:00:00",
                    "2020-02-01T00:00:00",
                    "2020-02-01T00:00:00",
                    "2020-02-01T00:00:00",
                    "2020-02-01T00:00:00",
                    "2020-02-01T00:00:00",
                    "2020-02-01T00:00:00",
                    "2020-02-01T00:00:00"
                  ],
                  "xaxis": "x",
                  "y": [
                    0.32973403902714143,
                    0.29546883621114084,
                    0.385401275355021,
                    0.28010498655308874,
                    0.3274914960637939,
                    0.2332990713310183,
                    0.30815767638944547,
                    0.4384943544656545,
                    0.22674282589645306,
                    0.3170919982701036,
                    0.3170919982701036
                  ],
                  "yaxis": "y"
                },
                {
                  "hoverinfo": "skip",
                  "legendgroup": "alert",
                  "marker": {
                    "color": "#DD4040",
                    "size": 8,
                    "symbol": "diamond"
                  },
                  "mode": "markers",
                  "name": "Alert",
                  "showlegend": true,
                  "type": "scatter",
                  "x": [
                    "2020-02-01T00:00:00",
                    "2020-02-01T00:00:00",
                    "2020-02-01T00:00:00",
                    "2020-02-01T00:00:00",
                    "2020-02-01T00:00:00",
                    "2020-02-01T00:00:00",
                    "2020-02-01T00:00:00",
                    "2020-02-01T00:00:00",
                    "2020-02-01T00:00:00",
                    "2020-02-01T00:00:00"
                  ],
                  "xaxis": "x",
                  "y": [
                    0.32973403902714143,
                    0.29546883621114084,
                    0.385401275355021,
                    0.28010498655308874,
                    0.3274914960637939,
                    0.2332990713310183,
                    0.30815767638944547,
                    0.4384943544656545,
                    0.22674282589645306,
                    0.3170919982701036
                  ],
                  "yaxis": "y"
                },
                {
                  "hoverinfo": "skip",
                  "legendgroup": "thresh",
                  "line": {
                    "color": "#DD4040",
                    "dash": "dash",
                    "width": 2
                  },
                  "mode": "lines",
                  "name": "Threshold",
                  "showlegend": true,
                  "type": "scatter",
                  "x": [
                    "2020-01-01T00:00:00",
                    "2020-01-01T00:00:00",
                    "2020-01-01T00:00:00",
                    "2020-01-01T00:00:00",
                    "2020-01-01T00:00:00",
                    "2020-01-01T00:00:00",
                    "2020-01-01T00:00:00",
                    "2020-01-01T00:00:00",
                    "2020-01-01T00:00:00",
                    "2020-01-01T00:00:00",
                    "2020-01-01T00:00:00"
                  ],
                  "xaxis": "x",
                  "y": [
                    0.1,
                    0.1,
                    0.1,
                    0.1,
                    0.1,
                    0.1,
                    0.1,
                    0.1,
                    0.1,
                    0.1,
                    0.1
                  ],
                  "yaxis": "y"
                },
                {
                  "hoverinfo": "skip",
                  "legendgroup": "thresh",
                  "line": {
                    "color": "#DD4040",
                    "dash": "dash",
                    "width": 2
                  },
                  "mode": "lines",
                  "name": "Threshold",
                  "showlegend": false,
                  "type": "scatter",
                  "x": [
                    "2020-02-01T00:00:00",
                    "2020-02-01T00:00:00",
                    "2020-02-01T00:00:00",
                    "2020-02-01T00:00:00",
                    "2020-02-01T00:00:00",
                    "2020-02-01T00:00:00",
                    "2020-02-01T00:00:00",
                    "2020-02-01T00:00:00",
                    "2020-02-01T00:00:00",
                    "2020-02-01T00:00:00",
                    "2020-02-01T00:00:00"
                  ],
                  "xaxis": "x",
                  "y": [
                    0.1,
                    0.1,
                    0.1,
                    0.1,
                    0.1,
                    0.1,
                    0.1,
                    0.1,
                    0.1,
                    0.1,
                    0.1
                  ],
                  "yaxis": "y"
                },
                {
                  "hoverinfo": "skip",
                  "legendgroup": "metric_reference",
                  "line": {
                    "color": "#00c8e5",
                    "shape": "hv",
                    "width": 2
                  },
                  "mode": "lines",
                  "name": "Method",
                  "showlegend": false,
                  "type": "scatter",
                  "x": [
                    "2020-01-01T00:00:00",
                    "2020-01-01T00:00:00",
                    "2020-01-01T00:00:00",
                    "2020-01-01T00:00:00",
                    "2020-01-01T00:00:00",
                    "2020-01-01T00:00:00",
                    "2020-01-01T00:00:00",
                    "2020-01-01T00:00:00",
                    "2020-01-01T00:00:00",
                    "2020-01-01T00:00:00",
                    "2020-01-01T00:00:00"
                  ],
                  "xaxis": "x2",
                  "y": [
                    0.32911901834524177,
                    0.24315989849355002,
                    0.2027700324917836,
                    0.43391832088926663,
                    0.38931899268991726,
                    0.24083021823052408,
                    0.34264662735860135,
                    0.4250454395943472,
                    0.39044336642562083,
                    0.2556170199528811,
                    0.2556170199528811
                  ],
                  "yaxis": "y2"
                },
                {
                  "customdata": [
                    [
                      "Jensen-Shannon distance for <b>feature_1</b>",
                      "<b style=\"color:#00c8e5;line-height:60px\">Reference</b>",
                      "<span style=\"color:#AD0000\">⚠ <b>Drift detected</b></span>",
                      "[0:19]",
                      "From <b>Jan-01-2020</b> to <b>Jan-01-2020</b>",
                      0.3291
                    ],
                    [
                      "Jensen-Shannon distance for <b>feature_1</b>",
                      "<b style=\"color:#00c8e5;line-height:60px\">Reference</b>",
                      "<span style=\"color:#AD0000\">⚠ <b>Drift detected</b></span>",
                      "[20:39]",
                      "From <b>Jan-01-2020</b> to <b>Jan-01-2020</b>",
                      0.2432
                    ],
                    [
                      "Jensen-Shannon distance for <b>feature_1</b>",
                      "<b style=\"color:#00c8e5;line-height:60px\">Reference</b>",
                      "<span style=\"color:#AD0000\">⚠ <b>Drift detected</b></span>",
                      "[40:59]",
                      "From <b>Jan-01-2020</b> to <b>Jan-01-2020</b>",
                      0.2028
                    ],
                    [
                      "Jensen-Shannon distance for <b>feature_1</b>",
                      "<b style=\"color:#00c8e5;line-height:60px\">Reference</b>",
                      "<span style=\"color:#AD0000\">⚠ <b>Drift detected</b></span>",
                      "[60:79]",
                      "From <b>Jan-01-2020</b> to <b>Jan-01-2020</b>",
                      0.4339
                    ],
                    [
                      "Jensen-Shannon distance for <b>feature_1</b>",
                      "<b style=\"color:#00c8e5;line-height:60px\">Reference</b>",
                      "<span style=\"color:#AD0000\">⚠ <b>Drift detected</b></span>",
                      "[80:99]",
                      "From <b>Jan-01-2020</b> to <b>Jan-01-2020</b>",
                      0.3893
                    ],
                    [
                      "Jensen-Shannon distance for <b>feature_1</b>",
                      "<b style=\"color:#00c8e5;line-height:60px\">Reference</b>",
                      "<span style=\"color:#AD0000\">⚠ <b>Drift detected</b></span>",
                      "[100:119]",
                      "From <b>Jan-01-2020</b> to <b>Jan-01-2020</b>",
                      0.2408
                    ],
                    [
                      "Jensen-Shannon distance for <b>feature_1</b>",
                      "<b style=\"color:#00c8e5;line-height:60px\">Reference</b>",
                      "<span style=\"color:#AD0000\">⚠ <b>Drift detected</b></span>",
                      "[120:139]",
                      "From <b>Jan-01-2020</b> to <b>Jan-01-2020</b>",
                      0.3426
                    ],
                    [
                      "Jensen-Shannon distance for <b>feature_1</b>",
                      "<b style=\"color:#00c8e5;line-height:60px\">Reference</b>",
                      "<span style=\"color:#AD0000\">⚠ <b>Drift detected</b></span>",
                      "[140:159]",
                      "From <b>Jan-01-2020</b> to <b>Jan-01-2020</b>",
                      0.425
                    ],
                    [
                      "Jensen-Shannon distance for <b>feature_1</b>",
                      "<b style=\"color:#00c8e5;line-height:60px\">Reference</b>",
                      "<span style=\"color:#AD0000\">⚠ <b>Drift detected</b></span>",
                      "[160:179]",
                      "From <b>Jan-01-2020</b> to <b>Jan-01-2020</b>",
                      0.3904
                    ],
                    [
                      "Jensen-Shannon distance for <b>feature_1</b>",
                      "<b style=\"color:#00c8e5;line-height:60px\">Reference</b>",
                      "<span style=\"color:#AD0000\">⚠ <b>Drift detected</b></span>",
                      "[180:199]",
                      "From <b>Jan-01-2020</b> to <b>Jan-01-2020</b>",
                      0.2556
                    ]
                  ],
                  "hovertemplate": "%{customdata[1]} &nbsp; &nbsp; %{customdata[2]} <br />Chunk: <b>%{customdata[3]}</b> &nbsp; &nbsp; %{customdata[4]} <br />%{customdata[0]}: <b>%{customdata[5]}</b><b r /><extra></extra>",
                  "legendgroup": "metric_reference",
                  "marker": {
                    "color": "#00c8e5",
                    "size": 5,
                    "symbol": "circle"
                  },
                  "mode": "markers",
                  "name": "Method",
                  "showlegend": false,
                  "type": "scatter",
                  "x": [
                    "2020-01-01T00:00:00",
                    "2020-01-01T00:00:00",
                    "2020-01-01T00:00:00",
                    "2020-01-01T00:00:00",
                    "2020-01-01T00:00:00",
                    "2020-01-01T00:00:00",
                    "2020-01-01T00:00:00",
                    "2020-01-01T00:00:00",
                    "2020-01-01T00:00:00",
                    "2020-01-01T00:00:00"
                  ],
                  "xaxis": "x2",
                  "y": [
                    0.32911901834524177,
                    0.24315989849355002,
                    0.2027700324917836,
                    0.43391832088926663,
                    0.38931899268991726,
                    0.24083021823052408,
                    0.34264662735860135,
                    0.4250454395943472,
                    0.39044336642562083,
                    0.2556170199528811,
                    0.2556170199528811
                  ],
                  "yaxis": "y2"
                },
                {
                  "hoverinfo": "skip",
                  "legendgroup": "metric_analysis",
                  "line": {
                    "color": "#00c8e5",
                    "shape": "hv",
                    "width": 2
                  },
                  "mode": "lines",
                  "name": "Method",
                  "showlegend": false,
                  "type": "scatter",
                  "x": [
                    "2020-02-01T00:00:00",
                    "2020-02-01T00:00:00",
                    "2020-02-01T00:00:00",
                    "2020-02-01T00:00:00",
                    "2020-02-01T00:00:00",
                    "2020-02-01T00:00:00",
                    "2020-02-01T00:00:00",
                    "2020-02-01T00:00:00",
                    "2020-02-01T00:00:00",
                    "2020-02-01T00:00:00",
                    "2020-02-01T00:00:00"
                  ],
                  "xaxis": "x2",
                  "y": [
                    0.32911901834524177,
                    0.24315989849355002,
                    0.2027700324917836,
                    0.43391832088926663,
                    0.38931899268991726,
                    0.24083021823052408,
                    0.34264662735860135,
                    0.4250454395943472,
                    0.39044336642562083,
                    0.2556170199528811,
                    0.2556170199528811
                  ],
                  "yaxis": "y2"
                },
                {
                  "customdata": [
                    [
                      "Jensen-Shannon distance for <b>feature_1</b>",
                      "<b style=\"color:#00c8e5;line-height:60px\">Analysis</b>",
                      "<span style=\"color:#AD0000\">⚠ <b>Drift detected</b></span>",
                      "[0:19]",
                      "From <b>Feb-01-2020</b> to <b>Feb-01-2020</b>",
                      0.3291
                    ],
                    [
                      "Jensen-Shannon distance for <b>feature_1</b>",
                      "<b style=\"color:#00c8e5;line-height:60px\">Analysis</b>",
                      "<span style=\"color:#AD0000\">⚠ <b>Drift detected</b></span>",
                      "[20:39]",
                      "From <b>Feb-01-2020</b> to <b>Feb-01-2020</b>",
                      0.2432
                    ],
                    [
                      "Jensen-Shannon distance for <b>feature_1</b>",
                      "<b style=\"color:#00c8e5;line-height:60px\">Analysis</b>",
                      "<span style=\"color:#AD0000\">⚠ <b>Drift detected</b></span>",
                      "[40:59]",
                      "From <b>Feb-01-2020</b> to <b>Feb-01-2020</b>",
                      0.2028
                    ],
                    [
                      "Jensen-Shannon distance for <b>feature_1</b>",
                      "<b style=\"color:#00c8e5;line-height:60px\">Analysis</b>",
                      "<span style=\"color:#AD0000\">⚠ <b>Drift detected</b></span>",
                      "[60:79]",
                      "From <b>Feb-01-2020</b> to <b>Feb-01-2020</b>",
                      0.4339
                    ],
                    [
                      "Jensen-Shannon distance for <b>feature_1</b>",
                      "<b style=\"color:#00c8e5;line-height:60px\">Analysis</b>",
                      "<span style=\"color:#AD0000\">⚠ <b>Drift detected</b></span>",
                      "[80:99]",
                      "From <b>Feb-01-2020</b> to <b>Feb-01-2020</b>",
                      0.3893
                    ],
                    [
                      "Jensen-Shannon distance for <b>feature_1</b>",
                      "<b style=\"color:#00c8e5;line-height:60px\">Analysis</b>",
                      "<span style=\"color:#AD0000\">⚠ <b>Drift detected</b></span>",
                      "[100:119]",
                      "From <b>Feb-01-2020</b> to <b>Feb-01-2020</b>",
                      0.2408
                    ],
                    [
                      "Jensen-Shannon distance for <b>feature_1</b>",
                      "<b style=\"color:#00c8e5;line-height:60px\">Analysis</b>",
                      "<span style=\"color:#AD0000\">⚠ <b>Drift detected</b></span>",
                      "[120:139]",
                      "From <b>Feb-01-2020</b> to <b>Feb-01-2020</b>",
                      0.3426
                    ],
                    [
                      "Jensen-Shannon distance for <b>feature_1</b>",
                      "<b style=\"color:#00c8e5;line-height:60px\">Analysis</b>",
                      "<span style=\"color:#AD0000\">⚠ <b>Drift detected</b></span>",
                      "[140:159]",
                      "From <b>Feb-01-2020</b> to <b>Feb-01-2020</b>",
                      0.425
                    ],
                    [
                      "Jensen-Shannon distance for <b>feature_1</b>",
                      "<b style=\"color:#00c8e5;line-height:60px\">Analysis</b>",
                      "<span style=\"color:#AD0000\">⚠ <b>Drift detected</b></span>",
                      "[160:179]",
                      "From <b>Feb-01-2020</b> to <b>Feb-01-2020</b>",
                      0.3904
                    ],
                    [
                      "Jensen-Shannon distance for <b>feature_1</b>",
                      "<b style=\"color:#00c8e5;line-height:60px\">Analysis</b>",
                      "<span style=\"color:#AD0000\">⚠ <b>Drift detected</b></span>",
                      "[180:199]",
                      "From <b>Feb-01-2020</b> to <b>Feb-01-2020</b>",
                      0.2556
                    ]
                  ],
                  "hovertemplate": "%{customdata[1]} &nbsp; &nbsp; %{customdata[2]} <br />Chunk: <b>%{customdata[3]}</b> &nbsp; &nbsp; %{customdata[4]} <br />%{customdata[0]}: <b>%{customdata[5]}</b><b r /><extra></extra>",
                  "legendgroup": "metric_analysis",
                  "marker": {
                    "color": "#00c8e5",
                    "size": 5,
                    "symbol": "circle"
                  },
                  "mode": "markers",
                  "name": "Method",
                  "showlegend": false,
                  "type": "scatter",
                  "x": [
                    "2020-02-01T00:00:00",
                    "2020-02-01T00:00:00",
                    "2020-02-01T00:00:00",
                    "2020-02-01T00:00:00",
                    "2020-02-01T00:00:00",
                    "2020-02-01T00:00:00",
                    "2020-02-01T00:00:00",
                    "2020-02-01T00:00:00",
                    "2020-02-01T00:00:00",
                    "2020-02-01T00:00:00"
                  ],
                  "xaxis": "x2",
                  "y": [
                    0.32911901834524177,
                    0.24315989849355002,
                    0.2027700324917836,
                    0.43391832088926663,
                    0.38931899268991726,
                    0.24083021823052408,
                    0.34264662735860135,
                    0.4250454395943472,
                    0.39044336642562083,
                    0.2556170199528811,
                    0.2556170199528811
                  ],
                  "yaxis": "y2"
                },
                {
                  "hoverinfo": "skip",
                  "legendgroup": "alert",
                  "marker": {
                    "color": "#DD4040",
                    "size": 8,
                    "symbol": "diamond"
                  },
                  "mode": "markers",
                  "name": "Alert",
                  "showlegend": false,
                  "type": "scatter",
                  "x": [
                    "2020-02-01T00:00:00",
                    "2020-02-01T00:00:00",
                    "2020-02-01T00:00:00",
                    "2020-02-01T00:00:00",
                    "2020-02-01T00:00:00",
                    "2020-02-01T00:00:00",
                    "2020-02-01T00:00:00",
                    "2020-02-01T00:00:00",
                    "2020-02-01T00:00:00",
                    "2020-02-01T00:00:00"
                  ],
                  "xaxis": "x2",
                  "y": [
                    0.32911901834524177,
                    0.24315989849355002,
                    0.2027700324917836,
                    0.43391832088926663,
                    0.38931899268991726,
                    0.24083021823052408,
                    0.34264662735860135,
                    0.4250454395943472,
                    0.39044336642562083,
                    0.2556170199528811
                  ],
                  "yaxis": "y2"
                },
                {
                  "hoverinfo": "skip",
                  "legendgroup": "thresh",
                  "line": {
                    "color": "#DD4040",
                    "dash": "dash",
                    "width": 2
                  },
                  "mode": "lines",
                  "name": "Threshold",
                  "showlegend": false,
                  "type": "scatter",
                  "x": [
                    "2020-01-01T00:00:00",
                    "2020-01-01T00:00:00",
                    "2020-01-01T00:00:00",
                    "2020-01-01T00:00:00",
                    "2020-01-01T00:00:00",
                    "2020-01-01T00:00:00",
                    "2020-01-01T00:00:00",
                    "2020-01-01T00:00:00",
                    "2020-01-01T00:00:00",
                    "2020-01-01T00:00:00",
                    "2020-01-01T00:00:00"
                  ],
                  "xaxis": "x2",
                  "y": [
                    0.1,
                    0.1,
                    0.1,
                    0.1,
                    0.1,
                    0.1,
                    0.1,
                    0.1,
                    0.1,
                    0.1,
                    0.1
                  ],
                  "yaxis": "y2"
                },
                {
                  "hoverinfo": "skip",
                  "legendgroup": "thresh",
                  "line": {
                    "color": "#DD4040",
                    "dash": "dash",
                    "width": 2
                  },
                  "mode": "lines",
                  "name": "Threshold",
                  "showlegend": false,
                  "type": "scatter",
                  "x": [
                    "2020-02-01T00:00:00",
                    "2020-02-01T00:00:00",
                    "2020-02-01T00:00:00",
                    "2020-02-01T00:00:00",
                    "2020-02-01T00:00:00",
                    "2020-02-01T00:00:00",
                    "2020-02-01T00:00:00",
                    "2020-02-01T00:00:00",
                    "2020-02-01T00:00:00",
                    "2020-02-01T00:00:00",
                    "2020-02-01T00:00:00"
                  ],
                  "xaxis": "x2",
                  "y": [
                    0.1,
                    0.1,
                    0.1,
                    0.1,
                    0.1,
                    0.1,
                    0.1,
                    0.1,
                    0.1,
                    0.1,
                    0.1
                  ],
                  "yaxis": "y2"
                },
                {
                  "hoverinfo": "skip",
                  "legendgroup": "metric_reference",
                  "line": {
                    "color": "#00c8e5",
                    "shape": "hv",
                    "width": 2
                  },
                  "mode": "lines",
                  "name": "Method",
                  "showlegend": false,
                  "type": "scatter",
                  "x": [
                    "2020-01-01T00:00:00",
                    "2020-01-01T00:00:00",
                    "2020-01-01T00:00:00",
                    "2020-01-01T00:00:00",
                    "2020-01-01T00:00:00",
                    "2020-01-01T00:00:00",
                    "2020-01-01T00:00:00",
                    "2020-01-01T00:00:00",
                    "2020-01-01T00:00:00",
                    "2020-01-01T00:00:00",
                    "2020-01-01T00:00:00"
                  ],
                  "xaxis": "x3",
                  "y": [
                    0.2996076087135201,
                    0.27964011367615726,
                    0.3574191060531628,
                    0.25124182017228375,
                    0.15605390522076917,
                    0.31988761708899743,
                    0.38906648220299983,
                    0.44458913138920886,
                    0.17405863092705573,
                    0.22074022597487808,
                    0.22074022597487808
                  ],
                  "yaxis": "y3"
                },
                {
                  "customdata": [
                    [
                      "Jensen-Shannon distance for <b>feature_2</b>",
                      "<b style=\"color:#00c8e5;line-height:60px\">Reference</b>",
                      "<span style=\"color:#AD0000\">⚠ <b>Drift detected</b></span>",
                      "[0:19]",
                      "From <b>Jan-01-2020</b> to <b>Jan-01-2020</b>",
                      0.2996
                    ],
                    [
                      "Jensen-Shannon distance for <b>feature_2</b>",
                      "<b style=\"color:#00c8e5;line-height:60px\">Reference</b>",
                      "<span style=\"color:#AD0000\">⚠ <b>Drift detected</b></span>",
                      "[20:39]",
                      "From <b>Jan-01-2020</b> to <b>Jan-01-2020</b>",
                      0.2796
                    ],
                    [
                      "Jensen-Shannon distance for <b>feature_2</b>",
                      "<b style=\"color:#00c8e5;line-height:60px\">Reference</b>",
                      "<span style=\"color:#AD0000\">⚠ <b>Drift detected</b></span>",
                      "[40:59]",
                      "From <b>Jan-01-2020</b> to <b>Jan-01-2020</b>",
                      0.3574
                    ],
                    [
                      "Jensen-Shannon distance for <b>feature_2</b>",
                      "<b style=\"color:#00c8e5;line-height:60px\">Reference</b>",
                      "<span style=\"color:#AD0000\">⚠ <b>Drift detected</b></span>",
                      "[60:79]",
                      "From <b>Jan-01-2020</b> to <b>Jan-01-2020</b>",
                      0.2512
                    ],
                    [
                      "Jensen-Shannon distance for <b>feature_2</b>",
                      "<b style=\"color:#00c8e5;line-height:60px\">Reference</b>",
                      "<span style=\"color:#AD0000\">⚠ <b>Drift detected</b></span>",
                      "[80:99]",
                      "From <b>Jan-01-2020</b> to <b>Jan-01-2020</b>",
                      0.1561
                    ],
                    [
                      "Jensen-Shannon distance for <b>feature_2</b>",
                      "<b style=\"color:#00c8e5;line-height:60px\">Reference</b>",
                      "<span style=\"color:#AD0000\">⚠ <b>Drift detected</b></span>",
                      "[100:119]",
                      "From <b>Jan-01-2020</b> to <b>Jan-01-2020</b>",
                      0.3199
                    ],
                    [
                      "Jensen-Shannon distance for <b>feature_2</b>",
                      "<b style=\"color:#00c8e5;line-height:60px\">Reference</b>",
                      "<span style=\"color:#AD0000\">⚠ <b>Drift detected</b></span>",
                      "[120:139]",
                      "From <b>Jan-01-2020</b> to <b>Jan-01-2020</b>",
                      0.3891
                    ],
                    [
                      "Jensen-Shannon distance for <b>feature_2</b>",
                      "<b style=\"color:#00c8e5;line-height:60px\">Reference</b>",
                      "<span style=\"color:#AD0000\">⚠ <b>Drift detected</b></span>",
                      "[140:159]",
                      "From <b>Jan-01-2020</b> to <b>Jan-01-2020</b>",
                      0.4446
                    ],
                    [
                      "Jensen-Shannon distance for <b>feature_2</b>",
                      "<b style=\"color:#00c8e5;line-height:60px\">Reference</b>",
                      "<span style=\"color:#AD0000\">⚠ <b>Drift detected</b></span>",
                      "[160:179]",
                      "From <b>Jan-01-2020</b> to <b>Jan-01-2020</b>",
                      0.1741
                    ],
                    [
                      "Jensen-Shannon distance for <b>feature_2</b>",
                      "<b style=\"color:#00c8e5;line-height:60px\">Reference</b>",
                      "<span style=\"color:#AD0000\">⚠ <b>Drift detected</b></span>",
                      "[180:199]",
                      "From <b>Jan-01-2020</b> to <b>Jan-01-2020</b>",
                      0.2207
                    ]
                  ],
                  "hovertemplate": "%{customdata[1]} &nbsp; &nbsp; %{customdata[2]} <br />Chunk: <b>%{customdata[3]}</b> &nbsp; &nbsp; %{customdata[4]} <br />%{customdata[0]}: <b>%{customdata[5]}</b><b r /><extra></extra>",
                  "legendgroup": "metric_reference",
                  "marker": {
                    "color": "#00c8e5",
                    "size": 5,
                    "symbol": "circle"
                  },
                  "mode": "markers",
                  "name": "Method",
                  "showlegend": false,
                  "type": "scatter",
                  "x": [
                    "2020-01-01T00:00:00",
                    "2020-01-01T00:00:00",
                    "2020-01-01T00:00:00",
                    "2020-01-01T00:00:00",
                    "2020-01-01T00:00:00",
                    "2020-01-01T00:00:00",
                    "2020-01-01T00:00:00",
                    "2020-01-01T00:00:00",
                    "2020-01-01T00:00:00",
                    "2020-01-01T00:00:00"
                  ],
                  "xaxis": "x3",
                  "y": [
                    0.2996076087135201,
                    0.27964011367615726,
                    0.3574191060531628,
                    0.25124182017228375,
                    0.15605390522076917,
                    0.31988761708899743,
                    0.38906648220299983,
                    0.44458913138920886,
                    0.17405863092705573,
                    0.22074022597487808,
                    0.22074022597487808
                  ],
                  "yaxis": "y3"
                },
                {
                  "hoverinfo": "skip",
                  "legendgroup": "metric_analysis",
                  "line": {
                    "color": "#00c8e5",
                    "shape": "hv",
                    "width": 2
                  },
                  "mode": "lines",
                  "name": "Method",
                  "showlegend": false,
                  "type": "scatter",
                  "x": [
                    "2020-02-01T00:00:00",
                    "2020-02-01T00:00:00",
                    "2020-02-01T00:00:00",
                    "2020-02-01T00:00:00",
                    "2020-02-01T00:00:00",
                    "2020-02-01T00:00:00",
                    "2020-02-01T00:00:00",
                    "2020-02-01T00:00:00",
                    "2020-02-01T00:00:00",
                    "2020-02-01T00:00:00",
                    "2020-02-01T00:00:00"
                  ],
                  "xaxis": "x3",
                  "y": [
                    0.2996076087135201,
                    0.27964011367615726,
                    0.3574191060531628,
                    0.25124182017228375,
                    0.15605390522076917,
                    0.31988761708899743,
                    0.38906648220299983,
                    0.44458913138920886,
                    0.17405863092705573,
                    0.22074022597487808,
                    0.22074022597487808
                  ],
                  "yaxis": "y3"
                },
                {
                  "customdata": [
                    [
                      "Jensen-Shannon distance for <b>feature_2</b>",
                      "<b style=\"color:#00c8e5;line-height:60px\">Analysis</b>",
                      "<span style=\"color:#AD0000\">⚠ <b>Drift detected</b></span>",
                      "[0:19]",
                      "From <b>Feb-01-2020</b> to <b>Feb-01-2020</b>",
                      0.2996
                    ],
                    [
                      "Jensen-Shannon distance for <b>feature_2</b>",
                      "<b style=\"color:#00c8e5;line-height:60px\">Analysis</b>",
                      "<span style=\"color:#AD0000\">⚠ <b>Drift detected</b></span>",
                      "[20:39]",
                      "From <b>Feb-01-2020</b> to <b>Feb-01-2020</b>",
                      0.2796
                    ],
                    [
                      "Jensen-Shannon distance for <b>feature_2</b>",
                      "<b style=\"color:#00c8e5;line-height:60px\">Analysis</b>",
                      "<span style=\"color:#AD0000\">⚠ <b>Drift detected</b></span>",
                      "[40:59]",
                      "From <b>Feb-01-2020</b> to <b>Feb-01-2020</b>",
                      0.3574
                    ],
                    [
                      "Jensen-Shannon distance for <b>feature_2</b>",
                      "<b style=\"color:#00c8e5;line-height:60px\">Analysis</b>",
                      "<span style=\"color:#AD0000\">⚠ <b>Drift detected</b></span>",
                      "[60:79]",
                      "From <b>Feb-01-2020</b> to <b>Feb-01-2020</b>",
                      0.2512
                    ],
                    [
                      "Jensen-Shannon distance for <b>feature_2</b>",
                      "<b style=\"color:#00c8e5;line-height:60px\">Analysis</b>",
                      "<span style=\"color:#AD0000\">⚠ <b>Drift detected</b></span>",
                      "[80:99]",
                      "From <b>Feb-01-2020</b> to <b>Feb-01-2020</b>",
                      0.1561
                    ],
                    [
                      "Jensen-Shannon distance for <b>feature_2</b>",
                      "<b style=\"color:#00c8e5;line-height:60px\">Analysis</b>",
                      "<span style=\"color:#AD0000\">⚠ <b>Drift detected</b></span>",
                      "[100:119]",
                      "From <b>Feb-01-2020</b> to <b>Feb-01-2020</b>",
                      0.3199
                    ],
                    [
                      "Jensen-Shannon distance for <b>feature_2</b>",
                      "<b style=\"color:#00c8e5;line-height:60px\">Analysis</b>",
                      "<span style=\"color:#AD0000\">⚠ <b>Drift detected</b></span>",
                      "[120:139]",
                      "From <b>Feb-01-2020</b> to <b>Feb-01-2020</b>",
                      0.3891
                    ],
                    [
                      "Jensen-Shannon distance for <b>feature_2</b>",
                      "<b style=\"color:#00c8e5;line-height:60px\">Analysis</b>",
                      "<span style=\"color:#AD0000\">⚠ <b>Drift detected</b></span>",
                      "[140:159]",
                      "From <b>Feb-01-2020</b> to <b>Feb-01-2020</b>",
                      0.4446
                    ],
                    [
                      "Jensen-Shannon distance for <b>feature_2</b>",
                      "<b style=\"color:#00c8e5;line-height:60px\">Analysis</b>",
                      "<span style=\"color:#AD0000\">⚠ <b>Drift detected</b></span>",
                      "[160:179]",
                      "From <b>Feb-01-2020</b> to <b>Feb-01-2020</b>",
                      0.1741
                    ],
                    [
                      "Jensen-Shannon distance for <b>feature_2</b>",
                      "<b style=\"color:#00c8e5;line-height:60px\">Analysis</b>",
                      "<span style=\"color:#AD0000\">⚠ <b>Drift detected</b></span>",
                      "[180:199]",
                      "From <b>Feb-01-2020</b> to <b>Feb-01-2020</b>",
                      0.2207
                    ]
                  ],
                  "hovertemplate": "%{customdata[1]} &nbsp; &nbsp; %{customdata[2]} <br />Chunk: <b>%{customdata[3]}</b> &nbsp; &nbsp; %{customdata[4]} <br />%{customdata[0]}: <b>%{customdata[5]}</b><b r /><extra></extra>",
                  "legendgroup": "metric_analysis",
                  "marker": {
                    "color": "#00c8e5",
                    "size": 5,
                    "symbol": "circle"
                  },
                  "mode": "markers",
                  "name": "Method",
                  "showlegend": false,
                  "type": "scatter",
                  "x": [
                    "2020-02-01T00:00:00",
                    "2020-02-01T00:00:00",
                    "2020-02-01T00:00:00",
                    "2020-02-01T00:00:00",
                    "2020-02-01T00:00:00",
                    "2020-02-01T00:00:00",
                    "2020-02-01T00:00:00",
                    "2020-02-01T00:00:00",
                    "2020-02-01T00:00:00",
                    "2020-02-01T00:00:00"
                  ],
                  "xaxis": "x3",
                  "y": [
                    0.2996076087135201,
                    0.27964011367615726,
                    0.3574191060531628,
                    0.25124182017228375,
                    0.15605390522076917,
                    0.31988761708899743,
                    0.38906648220299983,
                    0.44458913138920886,
                    0.17405863092705573,
                    0.22074022597487808,
                    0.22074022597487808
                  ],
                  "yaxis": "y3"
                },
                {
                  "hoverinfo": "skip",
                  "legendgroup": "alert",
                  "marker": {
                    "color": "#DD4040",
                    "size": 8,
                    "symbol": "diamond"
                  },
                  "mode": "markers",
                  "name": "Alert",
                  "showlegend": false,
                  "type": "scatter",
                  "x": [
                    "2020-02-01T00:00:00",
                    "2020-02-01T00:00:00",
                    "2020-02-01T00:00:00",
                    "2020-02-01T00:00:00",
                    "2020-02-01T00:00:00",
                    "2020-02-01T00:00:00",
                    "2020-02-01T00:00:00",
                    "2020-02-01T00:00:00",
                    "2020-02-01T00:00:00",
                    "2020-02-01T00:00:00"
                  ],
                  "xaxis": "x3",
                  "y": [
                    0.2996076087135201,
                    0.27964011367615726,
                    0.3574191060531628,
                    0.25124182017228375,
                    0.15605390522076917,
                    0.31988761708899743,
                    0.38906648220299983,
                    0.44458913138920886,
                    0.17405863092705573,
                    0.22074022597487808
                  ],
                  "yaxis": "y3"
                },
                {
                  "hoverinfo": "skip",
                  "legendgroup": "thresh",
                  "line": {
                    "color": "#DD4040",
                    "dash": "dash",
                    "width": 2
                  },
                  "mode": "lines",
                  "name": "Threshold",
                  "showlegend": false,
                  "type": "scatter",
                  "x": [
                    "2020-01-01T00:00:00",
                    "2020-01-01T00:00:00",
                    "2020-01-01T00:00:00",
                    "2020-01-01T00:00:00",
                    "2020-01-01T00:00:00",
                    "2020-01-01T00:00:00",
                    "2020-01-01T00:00:00",
                    "2020-01-01T00:00:00",
                    "2020-01-01T00:00:00",
                    "2020-01-01T00:00:00",
                    "2020-01-01T00:00:00"
                  ],
                  "xaxis": "x3",
                  "y": [
                    0.1,
                    0.1,
                    0.1,
                    0.1,
                    0.1,
                    0.1,
                    0.1,
                    0.1,
                    0.1,
                    0.1,
                    0.1
                  ],
                  "yaxis": "y3"
                },
                {
                  "hoverinfo": "skip",
                  "legendgroup": "thresh",
                  "line": {
                    "color": "#DD4040",
                    "dash": "dash",
                    "width": 2
                  },
                  "mode": "lines",
                  "name": "Threshold",
                  "showlegend": false,
                  "type": "scatter",
                  "x": [
                    "2020-02-01T00:00:00",
                    "2020-02-01T00:00:00",
                    "2020-02-01T00:00:00",
                    "2020-02-01T00:00:00",
                    "2020-02-01T00:00:00",
                    "2020-02-01T00:00:00",
                    "2020-02-01T00:00:00",
                    "2020-02-01T00:00:00",
                    "2020-02-01T00:00:00",
                    "2020-02-01T00:00:00",
                    "2020-02-01T00:00:00"
                  ],
                  "xaxis": "x3",
                  "y": [
                    0.1,
                    0.1,
                    0.1,
                    0.1,
                    0.1,
                    0.1,
                    0.1,
                    0.1,
                    0.1,
                    0.1,
                    0.1
                  ],
                  "yaxis": "y3"
                },
                {
                  "hoverinfo": "skip",
                  "legendgroup": "metric_reference",
                  "line": {
                    "color": "#00c8e5",
                    "shape": "hv",
                    "width": 2
                  },
                  "mode": "lines",
                  "name": "Method",
                  "showlegend": false,
                  "type": "scatter",
                  "x": [
                    "2020-01-01T00:00:00",
                    "2020-01-01T00:00:00",
                    "2020-01-01T00:00:00",
                    "2020-01-01T00:00:00",
                    "2020-01-01T00:00:00",
                    "2020-01-01T00:00:00",
                    "2020-01-01T00:00:00",
                    "2020-01-01T00:00:00",
                    "2020-01-01T00:00:00",
                    "2020-01-01T00:00:00",
                    "2020-01-01T00:00:00"
                  ],
                  "xaxis": "x4",
                  "y": [
                    0.2251189401909202,
                    0.2763883798441466,
                    0.3183233726858666,
                    0.3282692158662873,
                    0.22058713510869632,
                    0.24852627901055463,
                    0.30009588779009155,
                    0.30643883623982937,
                    0.33141084546158944,
                    0.24592915232881446,
                    0.24592915232881446
                  ],
                  "yaxis": "y4"
                },
                {
                  "customdata": [
                    [
                      "Jensen-Shannon distance for <b>feature_3</b>",
                      "<b style=\"color:#00c8e5;line-height:60px\">Reference</b>",
                      "<span style=\"color:#AD0000\">⚠ <b>Drift detected</b></span>",
                      "[0:19]",
                      "From <b>Jan-01-2020</b> to <b>Jan-01-2020</b>",
                      0.2251
                    ],
                    [
                      "Jensen-Shannon distance for <b>feature_3</b>",
                      "<b style=\"color:#00c8e5;line-height:60px\">Reference</b>",
                      "<span style=\"color:#AD0000\">⚠ <b>Drift detected</b></span>",
                      "[20:39]",
                      "From <b>Jan-01-2020</b> to <b>Jan-01-2020</b>",
                      0.2764
                    ],
                    [
                      "Jensen-Shannon distance for <b>feature_3</b>",
                      "<b style=\"color:#00c8e5;line-height:60px\">Reference</b>",
                      "<span style=\"color:#AD0000\">⚠ <b>Drift detected</b></span>",
                      "[40:59]",
                      "From <b>Jan-01-2020</b> to <b>Jan-01-2020</b>",
                      0.3183
                    ],
                    [
                      "Jensen-Shannon distance for <b>feature_3</b>",
                      "<b style=\"color:#00c8e5;line-height:60px\">Reference</b>",
                      "<span style=\"color:#AD0000\">⚠ <b>Drift detected</b></span>",
                      "[60:79]",
                      "From <b>Jan-01-2020</b> to <b>Jan-01-2020</b>",
                      0.3283
                    ],
                    [
                      "Jensen-Shannon distance for <b>feature_3</b>",
                      "<b style=\"color:#00c8e5;line-height:60px\">Reference</b>",
                      "<span style=\"color:#AD0000\">⚠ <b>Drift detected</b></span>",
                      "[80:99]",
                      "From <b>Jan-01-2020</b> to <b>Jan-01-2020</b>",
                      0.2206
                    ],
                    [
                      "Jensen-Shannon distance for <b>feature_3</b>",
                      "<b style=\"color:#00c8e5;line-height:60px\">Reference</b>",
                      "<span style=\"color:#AD0000\">⚠ <b>Drift detected</b></span>",
                      "[100:119]",
                      "From <b>Jan-01-2020</b> to <b>Jan-01-2020</b>",
                      0.2485
                    ],
                    [
                      "Jensen-Shannon distance for <b>feature_3</b>",
                      "<b style=\"color:#00c8e5;line-height:60px\">Reference</b>",
                      "<span style=\"color:#AD0000\">⚠ <b>Drift detected</b></span>",
                      "[120:139]",
                      "From <b>Jan-01-2020</b> to <b>Jan-01-2020</b>",
                      0.3001
                    ],
                    [
                      "Jensen-Shannon distance for <b>feature_3</b>",
                      "<b style=\"color:#00c8e5;line-height:60px\">Reference</b>",
                      "<span style=\"color:#AD0000\">⚠ <b>Drift detected</b></span>",
                      "[140:159]",
                      "From <b>Jan-01-2020</b> to <b>Jan-01-2020</b>",
                      0.3064
                    ],
                    [
                      "Jensen-Shannon distance for <b>feature_3</b>",
                      "<b style=\"color:#00c8e5;line-height:60px\">Reference</b>",
                      "<span style=\"color:#AD0000\">⚠ <b>Drift detected</b></span>",
                      "[160:179]",
                      "From <b>Jan-01-2020</b> to <b>Jan-01-2020</b>",
                      0.3314
                    ],
                    [
                      "Jensen-Shannon distance for <b>feature_3</b>",
                      "<b style=\"color:#00c8e5;line-height:60px\">Reference</b>",
                      "<span style=\"color:#AD0000\">⚠ <b>Drift detected</b></span>",
                      "[180:199]",
                      "From <b>Jan-01-2020</b> to <b>Jan-01-2020</b>",
                      0.2459
                    ]
                  ],
                  "hovertemplate": "%{customdata[1]} &nbsp; &nbsp; %{customdata[2]} <br />Chunk: <b>%{customdata[3]}</b> &nbsp; &nbsp; %{customdata[4]} <br />%{customdata[0]}: <b>%{customdata[5]}</b><b r /><extra></extra>",
                  "legendgroup": "metric_reference",
                  "marker": {
                    "color": "#00c8e5",
                    "size": 5,
                    "symbol": "circle"
                  },
                  "mode": "markers",
                  "name": "Method",
                  "showlegend": false,
                  "type": "scatter",
                  "x": [
                    "2020-01-01T00:00:00",
                    "2020-01-01T00:00:00",
                    "2020-01-01T00:00:00",
                    "2020-01-01T00:00:00",
                    "2020-01-01T00:00:00",
                    "2020-01-01T00:00:00",
                    "2020-01-01T00:00:00",
                    "2020-01-01T00:00:00",
                    "2020-01-01T00:00:00",
                    "2020-01-01T00:00:00"
                  ],
                  "xaxis": "x4",
                  "y": [
                    0.2251189401909202,
                    0.2763883798441466,
                    0.3183233726858666,
                    0.3282692158662873,
                    0.22058713510869632,
                    0.24852627901055463,
                    0.30009588779009155,
                    0.30643883623982937,
                    0.33141084546158944,
                    0.24592915232881446,
                    0.24592915232881446
                  ],
                  "yaxis": "y4"
                },
                {
                  "hoverinfo": "skip",
                  "legendgroup": "metric_analysis",
                  "line": {
                    "color": "#00c8e5",
                    "shape": "hv",
                    "width": 2
                  },
                  "mode": "lines",
                  "name": "Method",
                  "showlegend": false,
                  "type": "scatter",
                  "x": [
                    "2020-02-01T00:00:00",
                    "2020-02-01T00:00:00",
                    "2020-02-01T00:00:00",
                    "2020-02-01T00:00:00",
                    "2020-02-01T00:00:00",
                    "2020-02-01T00:00:00",
                    "2020-02-01T00:00:00",
                    "2020-02-01T00:00:00",
                    "2020-02-01T00:00:00",
                    "2020-02-01T00:00:00",
                    "2020-02-01T00:00:00"
                  ],
                  "xaxis": "x4",
                  "y": [
                    0.2251189401909202,
                    0.2763883798441466,
                    0.3183233726858666,
                    0.3282692158662873,
                    0.22058713510869632,
                    0.24852627901055463,
                    0.30009588779009155,
                    0.30643883623982937,
                    0.33141084546158944,
                    0.24592915232881446,
                    0.24592915232881446
                  ],
                  "yaxis": "y4"
                },
                {
                  "customdata": [
                    [
                      "Jensen-Shannon distance for <b>feature_3</b>",
                      "<b style=\"color:#00c8e5;line-height:60px\">Analysis</b>",
                      "<span style=\"color:#AD0000\">⚠ <b>Drift detected</b></span>",
                      "[0:19]",
                      "From <b>Feb-01-2020</b> to <b>Feb-01-2020</b>",
                      0.2251
                    ],
                    [
                      "Jensen-Shannon distance for <b>feature_3</b>",
                      "<b style=\"color:#00c8e5;line-height:60px\">Analysis</b>",
                      "<span style=\"color:#AD0000\">⚠ <b>Drift detected</b></span>",
                      "[20:39]",
                      "From <b>Feb-01-2020</b> to <b>Feb-01-2020</b>",
                      0.2764
                    ],
                    [
                      "Jensen-Shannon distance for <b>feature_3</b>",
                      "<b style=\"color:#00c8e5;line-height:60px\">Analysis</b>",
                      "<span style=\"color:#AD0000\">⚠ <b>Drift detected</b></span>",
                      "[40:59]",
                      "From <b>Feb-01-2020</b> to <b>Feb-01-2020</b>",
                      0.3183
                    ],
                    [
                      "Jensen-Shannon distance for <b>feature_3</b>",
                      "<b style=\"color:#00c8e5;line-height:60px\">Analysis</b>",
                      "<span style=\"color:#AD0000\">⚠ <b>Drift detected</b></span>",
                      "[60:79]",
                      "From <b>Feb-01-2020</b> to <b>Feb-01-2020</b>",
                      0.3283
                    ],
                    [
                      "Jensen-Shannon distance for <b>feature_3</b>",
                      "<b style=\"color:#00c8e5;line-height:60px\">Analysis</b>",
                      "<span style=\"color:#AD0000\">⚠ <b>Drift detected</b></span>",
                      "[80:99]",
                      "From <b>Feb-01-2020</b> to <b>Feb-01-2020</b>",
                      0.2206
                    ],
                    [
                      "Jensen-Shannon distance for <b>feature_3</b>",
                      "<b style=\"color:#00c8e5;line-height:60px\">Analysis</b>",
                      "<span style=\"color:#AD0000\">⚠ <b>Drift detected</b></span>",
                      "[100:119]",
                      "From <b>Feb-01-2020</b> to <b>Feb-01-2020</b>",
                      0.2485
                    ],
                    [
                      "Jensen-Shannon distance for <b>feature_3</b>",
                      "<b style=\"color:#00c8e5;line-height:60px\">Analysis</b>",
                      "<span style=\"color:#AD0000\">⚠ <b>Drift detected</b></span>",
                      "[120:139]",
                      "From <b>Feb-01-2020</b> to <b>Feb-01-2020</b>",
                      0.3001
                    ],
                    [
                      "Jensen-Shannon distance for <b>feature_3</b>",
                      "<b style=\"color:#00c8e5;line-height:60px\">Analysis</b>",
                      "<span style=\"color:#AD0000\">⚠ <b>Drift detected</b></span>",
                      "[140:159]",
                      "From <b>Feb-01-2020</b> to <b>Feb-01-2020</b>",
                      0.3064
                    ],
                    [
                      "Jensen-Shannon distance for <b>feature_3</b>",
                      "<b style=\"color:#00c8e5;line-height:60px\">Analysis</b>",
                      "<span style=\"color:#AD0000\">⚠ <b>Drift detected</b></span>",
                      "[160:179]",
                      "From <b>Feb-01-2020</b> to <b>Feb-01-2020</b>",
                      0.3314
                    ],
                    [
                      "Jensen-Shannon distance for <b>feature_3</b>",
                      "<b style=\"color:#00c8e5;line-height:60px\">Analysis</b>",
                      "<span style=\"color:#AD0000\">⚠ <b>Drift detected</b></span>",
                      "[180:199]",
                      "From <b>Feb-01-2020</b> to <b>Feb-01-2020</b>",
                      0.2459
                    ]
                  ],
                  "hovertemplate": "%{customdata[1]} &nbsp; &nbsp; %{customdata[2]} <br />Chunk: <b>%{customdata[3]}</b> &nbsp; &nbsp; %{customdata[4]} <br />%{customdata[0]}: <b>%{customdata[5]}</b><b r /><extra></extra>",
                  "legendgroup": "metric_analysis",
                  "marker": {
                    "color": "#00c8e5",
                    "size": 5,
                    "symbol": "circle"
                  },
                  "mode": "markers",
                  "name": "Method",
                  "showlegend": false,
                  "type": "scatter",
                  "x": [
                    "2020-02-01T00:00:00",
                    "2020-02-01T00:00:00",
                    "2020-02-01T00:00:00",
                    "2020-02-01T00:00:00",
                    "2020-02-01T00:00:00",
                    "2020-02-01T00:00:00",
                    "2020-02-01T00:00:00",
                    "2020-02-01T00:00:00",
                    "2020-02-01T00:00:00",
                    "2020-02-01T00:00:00"
                  ],
                  "xaxis": "x4",
                  "y": [
                    0.2251189401909202,
                    0.2763883798441466,
                    0.3183233726858666,
                    0.3282692158662873,
                    0.22058713510869632,
                    0.24852627901055463,
                    0.30009588779009155,
                    0.30643883623982937,
                    0.33141084546158944,
                    0.24592915232881446,
                    0.24592915232881446
                  ],
                  "yaxis": "y4"
                },
                {
                  "hoverinfo": "skip",
                  "legendgroup": "alert",
                  "marker": {
                    "color": "#DD4040",
                    "size": 8,
                    "symbol": "diamond"
                  },
                  "mode": "markers",
                  "name": "Alert",
                  "showlegend": false,
                  "type": "scatter",
                  "x": [
                    "2020-02-01T00:00:00",
                    "2020-02-01T00:00:00",
                    "2020-02-01T00:00:00",
                    "2020-02-01T00:00:00",
                    "2020-02-01T00:00:00",
                    "2020-02-01T00:00:00",
                    "2020-02-01T00:00:00",
                    "2020-02-01T00:00:00",
                    "2020-02-01T00:00:00",
                    "2020-02-01T00:00:00"
                  ],
                  "xaxis": "x4",
                  "y": [
                    0.2251189401909202,
                    0.2763883798441466,
                    0.3183233726858666,
                    0.3282692158662873,
                    0.22058713510869632,
                    0.24852627901055463,
                    0.30009588779009155,
                    0.30643883623982937,
                    0.33141084546158944,
                    0.24592915232881446
                  ],
                  "yaxis": "y4"
                },
                {
                  "hoverinfo": "skip",
                  "legendgroup": "thresh",
                  "line": {
                    "color": "#DD4040",
                    "dash": "dash",
                    "width": 2
                  },
                  "mode": "lines",
                  "name": "Threshold",
                  "showlegend": false,
                  "type": "scatter",
                  "x": [
                    "2020-01-01T00:00:00",
                    "2020-01-01T00:00:00",
                    "2020-01-01T00:00:00",
                    "2020-01-01T00:00:00",
                    "2020-01-01T00:00:00",
                    "2020-01-01T00:00:00",
                    "2020-01-01T00:00:00",
                    "2020-01-01T00:00:00",
                    "2020-01-01T00:00:00",
                    "2020-01-01T00:00:00",
                    "2020-01-01T00:00:00"
                  ],
                  "xaxis": "x4",
                  "y": [
                    0.1,
                    0.1,
                    0.1,
                    0.1,
                    0.1,
                    0.1,
                    0.1,
                    0.1,
                    0.1,
                    0.1,
                    0.1
                  ],
                  "yaxis": "y4"
                },
                {
                  "hoverinfo": "skip",
                  "legendgroup": "thresh",
                  "line": {
                    "color": "#DD4040",
                    "dash": "dash",
                    "width": 2
                  },
                  "mode": "lines",
                  "name": "Threshold",
                  "showlegend": false,
                  "type": "scatter",
                  "x": [
                    "2020-02-01T00:00:00",
                    "2020-02-01T00:00:00",
                    "2020-02-01T00:00:00",
                    "2020-02-01T00:00:00",
                    "2020-02-01T00:00:00",
                    "2020-02-01T00:00:00",
                    "2020-02-01T00:00:00",
                    "2020-02-01T00:00:00",
                    "2020-02-01T00:00:00",
                    "2020-02-01T00:00:00",
                    "2020-02-01T00:00:00"
                  ],
                  "xaxis": "x4",
                  "y": [
                    0.1,
                    0.1,
                    0.1,
                    0.1,
                    0.1,
                    0.1,
                    0.1,
                    0.1,
                    0.1,
                    0.1,
                    0.1
                  ],
                  "yaxis": "y4"
                },
                {
                  "hoverinfo": "skip",
                  "legendgroup": "metric_reference",
                  "line": {
                    "color": "#00c8e5",
                    "shape": "hv",
                    "width": 2
                  },
                  "mode": "lines",
                  "name": "Method",
                  "showlegend": false,
                  "type": "scatter",
                  "x": [
                    "2020-01-01T00:00:00",
                    "2020-01-01T00:00:00",
                    "2020-01-01T00:00:00",
                    "2020-01-01T00:00:00",
                    "2020-01-01T00:00:00",
                    "2020-01-01T00:00:00",
                    "2020-01-01T00:00:00",
                    "2020-01-01T00:00:00",
                    "2020-01-01T00:00:00",
                    "2020-01-01T00:00:00",
                    "2020-01-01T00:00:00"
                  ],
                  "xaxis": "x5",
                  "y": [
                    0.2937204437487054,
                    0.24799298780613405,
                    0.19706667552864843,
                    0.24797056753588917,
                    0.27539559312440415,
                    0.37373180938428435,
                    0.2761438539915202,
                    0.333660178380729,
                    0.25606706681866415,
                    0.252933668920027,
                    0.252933668920027
                  ],
                  "yaxis": "y5"
                },
                {
                  "customdata": [
                    [
                      "Jensen-Shannon distance for <b>feature_4</b>",
                      "<b style=\"color:#00c8e5;line-height:60px\">Reference</b>",
                      "<span style=\"color:#AD0000\">⚠ <b>Drift detected</b></span>",
                      "[0:19]",
                      "From <b>Jan-01-2020</b> to <b>Jan-01-2020</b>",
                      0.2937
                    ],
                    [
                      "Jensen-Shannon distance for <b>feature_4</b>",
                      "<b style=\"color:#00c8e5;line-height:60px\">Reference</b>",
                      "<span style=\"color:#AD0000\">⚠ <b>Drift detected</b></span>",
                      "[20:39]",
                      "From <b>Jan-01-2020</b> to <b>Jan-01-2020</b>",
                      0.248
                    ],
                    [
                      "Jensen-Shannon distance for <b>feature_4</b>",
                      "<b style=\"color:#00c8e5;line-height:60px\">Reference</b>",
                      "<span style=\"color:#AD0000\">⚠ <b>Drift detected</b></span>",
                      "[40:59]",
                      "From <b>Jan-01-2020</b> to <b>Jan-01-2020</b>",
                      0.1971
                    ],
                    [
                      "Jensen-Shannon distance for <b>feature_4</b>",
                      "<b style=\"color:#00c8e5;line-height:60px\">Reference</b>",
                      "<span style=\"color:#AD0000\">⚠ <b>Drift detected</b></span>",
                      "[60:79]",
                      "From <b>Jan-01-2020</b> to <b>Jan-01-2020</b>",
                      0.248
                    ],
                    [
                      "Jensen-Shannon distance for <b>feature_4</b>",
                      "<b style=\"color:#00c8e5;line-height:60px\">Reference</b>",
                      "<span style=\"color:#AD0000\">⚠ <b>Drift detected</b></span>",
                      "[80:99]",
                      "From <b>Jan-01-2020</b> to <b>Jan-01-2020</b>",
                      0.2754
                    ],
                    [
                      "Jensen-Shannon distance for <b>feature_4</b>",
                      "<b style=\"color:#00c8e5;line-height:60px\">Reference</b>",
                      "<span style=\"color:#AD0000\">⚠ <b>Drift detected</b></span>",
                      "[100:119]",
                      "From <b>Jan-01-2020</b> to <b>Jan-01-2020</b>",
                      0.3737
                    ],
                    [
                      "Jensen-Shannon distance for <b>feature_4</b>",
                      "<b style=\"color:#00c8e5;line-height:60px\">Reference</b>",
                      "<span style=\"color:#AD0000\">⚠ <b>Drift detected</b></span>",
                      "[120:139]",
                      "From <b>Jan-01-2020</b> to <b>Jan-01-2020</b>",
                      0.2761
                    ],
                    [
                      "Jensen-Shannon distance for <b>feature_4</b>",
                      "<b style=\"color:#00c8e5;line-height:60px\">Reference</b>",
                      "<span style=\"color:#AD0000\">⚠ <b>Drift detected</b></span>",
                      "[140:159]",
                      "From <b>Jan-01-2020</b> to <b>Jan-01-2020</b>",
                      0.3337
                    ],
                    [
                      "Jensen-Shannon distance for <b>feature_4</b>",
                      "<b style=\"color:#00c8e5;line-height:60px\">Reference</b>",
                      "<span style=\"color:#AD0000\">⚠ <b>Drift detected</b></span>",
                      "[160:179]",
                      "From <b>Jan-01-2020</b> to <b>Jan-01-2020</b>",
                      0.2561
                    ],
                    [
                      "Jensen-Shannon distance for <b>feature_4</b>",
                      "<b style=\"color:#00c8e5;line-height:60px\">Reference</b>",
                      "<span style=\"color:#AD0000\">⚠ <b>Drift detected</b></span>",
                      "[180:199]",
                      "From <b>Jan-01-2020</b> to <b>Jan-01-2020</b>",
                      0.2529
                    ]
                  ],
                  "hovertemplate": "%{customdata[1]} &nbsp; &nbsp; %{customdata[2]} <br />Chunk: <b>%{customdata[3]}</b> &nbsp; &nbsp; %{customdata[4]} <br />%{customdata[0]}: <b>%{customdata[5]}</b><b r /><extra></extra>",
                  "legendgroup": "metric_reference",
                  "marker": {
                    "color": "#00c8e5",
                    "size": 5,
                    "symbol": "circle"
                  },
                  "mode": "markers",
                  "name": "Method",
                  "showlegend": false,
                  "type": "scatter",
                  "x": [
                    "2020-01-01T00:00:00",
                    "2020-01-01T00:00:00",
                    "2020-01-01T00:00:00",
                    "2020-01-01T00:00:00",
                    "2020-01-01T00:00:00",
                    "2020-01-01T00:00:00",
                    "2020-01-01T00:00:00",
                    "2020-01-01T00:00:00",
                    "2020-01-01T00:00:00",
                    "2020-01-01T00:00:00"
                  ],
                  "xaxis": "x5",
                  "y": [
                    0.2937204437487054,
                    0.24799298780613405,
                    0.19706667552864843,
                    0.24797056753588917,
                    0.27539559312440415,
                    0.37373180938428435,
                    0.2761438539915202,
                    0.333660178380729,
                    0.25606706681866415,
                    0.252933668920027,
                    0.252933668920027
                  ],
                  "yaxis": "y5"
                },
                {
                  "hoverinfo": "skip",
                  "legendgroup": "metric_analysis",
                  "line": {
                    "color": "#00c8e5",
                    "shape": "hv",
                    "width": 2
                  },
                  "mode": "lines",
                  "name": "Method",
                  "showlegend": false,
                  "type": "scatter",
                  "x": [
                    "2020-02-01T00:00:00",
                    "2020-02-01T00:00:00",
                    "2020-02-01T00:00:00",
                    "2020-02-01T00:00:00",
                    "2020-02-01T00:00:00",
                    "2020-02-01T00:00:00",
                    "2020-02-01T00:00:00",
                    "2020-02-01T00:00:00",
                    "2020-02-01T00:00:00",
                    "2020-02-01T00:00:00",
                    "2020-02-01T00:00:00"
                  ],
                  "xaxis": "x5",
                  "y": [
                    0.2937204437487054,
                    0.24799298780613405,
                    0.19706667552864843,
                    0.24797056753588917,
                    0.27539559312440415,
                    0.37373180938428435,
                    0.2761438539915202,
                    0.333660178380729,
                    0.25606706681866415,
                    0.252933668920027,
                    0.252933668920027
                  ],
                  "yaxis": "y5"
                },
                {
                  "customdata": [
                    [
                      "Jensen-Shannon distance for <b>feature_4</b>",
                      "<b style=\"color:#00c8e5;line-height:60px\">Analysis</b>",
                      "<span style=\"color:#AD0000\">⚠ <b>Drift detected</b></span>",
                      "[0:19]",
                      "From <b>Feb-01-2020</b> to <b>Feb-01-2020</b>",
                      0.2937
                    ],
                    [
                      "Jensen-Shannon distance for <b>feature_4</b>",
                      "<b style=\"color:#00c8e5;line-height:60px\">Analysis</b>",
                      "<span style=\"color:#AD0000\">⚠ <b>Drift detected</b></span>",
                      "[20:39]",
                      "From <b>Feb-01-2020</b> to <b>Feb-01-2020</b>",
                      0.248
                    ],
                    [
                      "Jensen-Shannon distance for <b>feature_4</b>",
                      "<b style=\"color:#00c8e5;line-height:60px\">Analysis</b>",
                      "<span style=\"color:#AD0000\">⚠ <b>Drift detected</b></span>",
                      "[40:59]",
                      "From <b>Feb-01-2020</b> to <b>Feb-01-2020</b>",
                      0.1971
                    ],
                    [
                      "Jensen-Shannon distance for <b>feature_4</b>",
                      "<b style=\"color:#00c8e5;line-height:60px\">Analysis</b>",
                      "<span style=\"color:#AD0000\">⚠ <b>Drift detected</b></span>",
                      "[60:79]",
                      "From <b>Feb-01-2020</b> to <b>Feb-01-2020</b>",
                      0.248
                    ],
                    [
                      "Jensen-Shannon distance for <b>feature_4</b>",
                      "<b style=\"color:#00c8e5;line-height:60px\">Analysis</b>",
                      "<span style=\"color:#AD0000\">⚠ <b>Drift detected</b></span>",
                      "[80:99]",
                      "From <b>Feb-01-2020</b> to <b>Feb-01-2020</b>",
                      0.2754
                    ],
                    [
                      "Jensen-Shannon distance for <b>feature_4</b>",
                      "<b style=\"color:#00c8e5;line-height:60px\">Analysis</b>",
                      "<span style=\"color:#AD0000\">⚠ <b>Drift detected</b></span>",
                      "[100:119]",
                      "From <b>Feb-01-2020</b> to <b>Feb-01-2020</b>",
                      0.3737
                    ],
                    [
                      "Jensen-Shannon distance for <b>feature_4</b>",
                      "<b style=\"color:#00c8e5;line-height:60px\">Analysis</b>",
                      "<span style=\"color:#AD0000\">⚠ <b>Drift detected</b></span>",
                      "[120:139]",
                      "From <b>Feb-01-2020</b> to <b>Feb-01-2020</b>",
                      0.2761
                    ],
                    [
                      "Jensen-Shannon distance for <b>feature_4</b>",
                      "<b style=\"color:#00c8e5;line-height:60px\">Analysis</b>",
                      "<span style=\"color:#AD0000\">⚠ <b>Drift detected</b></span>",
                      "[140:159]",
                      "From <b>Feb-01-2020</b> to <b>Feb-01-2020</b>",
                      0.3337
                    ],
                    [
                      "Jensen-Shannon distance for <b>feature_4</b>",
                      "<b style=\"color:#00c8e5;line-height:60px\">Analysis</b>",
                      "<span style=\"color:#AD0000\">⚠ <b>Drift detected</b></span>",
                      "[160:179]",
                      "From <b>Feb-01-2020</b> to <b>Feb-01-2020</b>",
                      0.2561
                    ],
                    [
                      "Jensen-Shannon distance for <b>feature_4</b>",
                      "<b style=\"color:#00c8e5;line-height:60px\">Analysis</b>",
                      "<span style=\"color:#AD0000\">⚠ <b>Drift detected</b></span>",
                      "[180:199]",
                      "From <b>Feb-01-2020</b> to <b>Feb-01-2020</b>",
                      0.2529
                    ]
                  ],
                  "hovertemplate": "%{customdata[1]} &nbsp; &nbsp; %{customdata[2]} <br />Chunk: <b>%{customdata[3]}</b> &nbsp; &nbsp; %{customdata[4]} <br />%{customdata[0]}: <b>%{customdata[5]}</b><b r /><extra></extra>",
                  "legendgroup": "metric_analysis",
                  "marker": {
                    "color": "#00c8e5",
                    "size": 5,
                    "symbol": "circle"
                  },
                  "mode": "markers",
                  "name": "Method",
                  "showlegend": false,
                  "type": "scatter",
                  "x": [
                    "2020-02-01T00:00:00",
                    "2020-02-01T00:00:00",
                    "2020-02-01T00:00:00",
                    "2020-02-01T00:00:00",
                    "2020-02-01T00:00:00",
                    "2020-02-01T00:00:00",
                    "2020-02-01T00:00:00",
                    "2020-02-01T00:00:00",
                    "2020-02-01T00:00:00",
                    "2020-02-01T00:00:00"
                  ],
                  "xaxis": "x5",
                  "y": [
                    0.2937204437487054,
                    0.24799298780613405,
                    0.19706667552864843,
                    0.24797056753588917,
                    0.27539559312440415,
                    0.37373180938428435,
                    0.2761438539915202,
                    0.333660178380729,
                    0.25606706681866415,
                    0.252933668920027,
                    0.252933668920027
                  ],
                  "yaxis": "y5"
                },
                {
                  "hoverinfo": "skip",
                  "legendgroup": "alert",
                  "marker": {
                    "color": "#DD4040",
                    "size": 8,
                    "symbol": "diamond"
                  },
                  "mode": "markers",
                  "name": "Alert",
                  "showlegend": false,
                  "type": "scatter",
                  "x": [
                    "2020-02-01T00:00:00",
                    "2020-02-01T00:00:00",
                    "2020-02-01T00:00:00",
                    "2020-02-01T00:00:00",
                    "2020-02-01T00:00:00",
                    "2020-02-01T00:00:00",
                    "2020-02-01T00:00:00",
                    "2020-02-01T00:00:00",
                    "2020-02-01T00:00:00",
                    "2020-02-01T00:00:00"
                  ],
                  "xaxis": "x5",
                  "y": [
                    0.2937204437487054,
                    0.24799298780613405,
                    0.19706667552864843,
                    0.24797056753588917,
                    0.27539559312440415,
                    0.37373180938428435,
                    0.2761438539915202,
                    0.333660178380729,
                    0.25606706681866415,
                    0.252933668920027
                  ],
                  "yaxis": "y5"
                },
                {
                  "hoverinfo": "skip",
                  "legendgroup": "thresh",
                  "line": {
                    "color": "#DD4040",
                    "dash": "dash",
                    "width": 2
                  },
                  "mode": "lines",
                  "name": "Threshold",
                  "showlegend": false,
                  "type": "scatter",
                  "x": [
                    "2020-01-01T00:00:00",
                    "2020-01-01T00:00:00",
                    "2020-01-01T00:00:00",
                    "2020-01-01T00:00:00",
                    "2020-01-01T00:00:00",
                    "2020-01-01T00:00:00",
                    "2020-01-01T00:00:00",
                    "2020-01-01T00:00:00",
                    "2020-01-01T00:00:00",
                    "2020-01-01T00:00:00",
                    "2020-01-01T00:00:00"
                  ],
                  "xaxis": "x5",
                  "y": [
                    0.1,
                    0.1,
                    0.1,
                    0.1,
                    0.1,
                    0.1,
                    0.1,
                    0.1,
                    0.1,
                    0.1,
                    0.1
                  ],
                  "yaxis": "y5"
                },
                {
                  "hoverinfo": "skip",
                  "legendgroup": "thresh",
                  "line": {
                    "color": "#DD4040",
                    "dash": "dash",
                    "width": 2
                  },
                  "mode": "lines",
                  "name": "Threshold",
                  "showlegend": false,
                  "type": "scatter",
                  "x": [
                    "2020-02-01T00:00:00",
                    "2020-02-01T00:00:00",
                    "2020-02-01T00:00:00",
                    "2020-02-01T00:00:00",
                    "2020-02-01T00:00:00",
                    "2020-02-01T00:00:00",
                    "2020-02-01T00:00:00",
                    "2020-02-01T00:00:00",
                    "2020-02-01T00:00:00",
                    "2020-02-01T00:00:00",
                    "2020-02-01T00:00:00"
                  ],
                  "xaxis": "x5",
                  "y": [
                    0.1,
                    0.1,
                    0.1,
                    0.1,
                    0.1,
                    0.1,
                    0.1,
                    0.1,
                    0.1,
                    0.1,
                    0.1
                  ],
                  "yaxis": "y5"
                },
                {
                  "hoverinfo": "skip",
                  "legendgroup": "metric_reference",
                  "line": {
                    "color": "#00c8e5",
                    "shape": "hv",
                    "width": 2
                  },
                  "mode": "lines",
                  "name": "Method",
                  "showlegend": false,
                  "type": "scatter",
                  "x": [
                    "2020-01-01T00:00:00",
                    "2020-01-01T00:00:00",
                    "2020-01-01T00:00:00",
                    "2020-01-01T00:00:00",
                    "2020-01-01T00:00:00",
                    "2020-01-01T00:00:00",
                    "2020-01-01T00:00:00",
                    "2020-01-01T00:00:00",
                    "2020-01-01T00:00:00",
                    "2020-01-01T00:00:00",
                    "2020-01-01T00:00:00"
                  ],
                  "xaxis": "x6",
                  "y": [
                    0.2193248023363772,
                    0.28686865703717207,
                    0.2624113933800069,
                    0.19591386427196275,
                    0.33796878857574697,
                    0.22800009004137503,
                    0.2833511512607378,
                    0.27097601286904155,
                    0.24895626566437093,
                    0.2709274345284161,
                    0.2709274345284161
                  ],
                  "yaxis": "y6"
                },
                {
                  "customdata": [
                    [
                      "Jensen-Shannon distance for <b>feature_5</b>",
                      "<b style=\"color:#00c8e5;line-height:60px\">Reference</b>",
                      "<span style=\"color:#AD0000\">⚠ <b>Drift detected</b></span>",
                      "[0:19]",
                      "From <b>Jan-01-2020</b> to <b>Jan-01-2020</b>",
                      0.2193
                    ],
                    [
                      "Jensen-Shannon distance for <b>feature_5</b>",
                      "<b style=\"color:#00c8e5;line-height:60px\">Reference</b>",
                      "<span style=\"color:#AD0000\">⚠ <b>Drift detected</b></span>",
                      "[20:39]",
                      "From <b>Jan-01-2020</b> to <b>Jan-01-2020</b>",
                      0.2869
                    ],
                    [
                      "Jensen-Shannon distance for <b>feature_5</b>",
                      "<b style=\"color:#00c8e5;line-height:60px\">Reference</b>",
                      "<span style=\"color:#AD0000\">⚠ <b>Drift detected</b></span>",
                      "[40:59]",
                      "From <b>Jan-01-2020</b> to <b>Jan-01-2020</b>",
                      0.2624
                    ],
                    [
                      "Jensen-Shannon distance for <b>feature_5</b>",
                      "<b style=\"color:#00c8e5;line-height:60px\">Reference</b>",
                      "<span style=\"color:#AD0000\">⚠ <b>Drift detected</b></span>",
                      "[60:79]",
                      "From <b>Jan-01-2020</b> to <b>Jan-01-2020</b>",
                      0.1959
                    ],
                    [
                      "Jensen-Shannon distance for <b>feature_5</b>",
                      "<b style=\"color:#00c8e5;line-height:60px\">Reference</b>",
                      "<span style=\"color:#AD0000\">⚠ <b>Drift detected</b></span>",
                      "[80:99]",
                      "From <b>Jan-01-2020</b> to <b>Jan-01-2020</b>",
                      0.338
                    ],
                    [
                      "Jensen-Shannon distance for <b>feature_5</b>",
                      "<b style=\"color:#00c8e5;line-height:60px\">Reference</b>",
                      "<span style=\"color:#AD0000\">⚠ <b>Drift detected</b></span>",
                      "[100:119]",
                      "From <b>Jan-01-2020</b> to <b>Jan-01-2020</b>",
                      0.228
                    ],
                    [
                      "Jensen-Shannon distance for <b>feature_5</b>",
                      "<b style=\"color:#00c8e5;line-height:60px\">Reference</b>",
                      "<span style=\"color:#AD0000\">⚠ <b>Drift detected</b></span>",
                      "[120:139]",
                      "From <b>Jan-01-2020</b> to <b>Jan-01-2020</b>",
                      0.2834
                    ],
                    [
                      "Jensen-Shannon distance for <b>feature_5</b>",
                      "<b style=\"color:#00c8e5;line-height:60px\">Reference</b>",
                      "<span style=\"color:#AD0000\">⚠ <b>Drift detected</b></span>",
                      "[140:159]",
                      "From <b>Jan-01-2020</b> to <b>Jan-01-2020</b>",
                      0.271
                    ],
                    [
                      "Jensen-Shannon distance for <b>feature_5</b>",
                      "<b style=\"color:#00c8e5;line-height:60px\">Reference</b>",
                      "<span style=\"color:#AD0000\">⚠ <b>Drift detected</b></span>",
                      "[160:179]",
                      "From <b>Jan-01-2020</b> to <b>Jan-01-2020</b>",
                      0.249
                    ],
                    [
                      "Jensen-Shannon distance for <b>feature_5</b>",
                      "<b style=\"color:#00c8e5;line-height:60px\">Reference</b>",
                      "<span style=\"color:#AD0000\">⚠ <b>Drift detected</b></span>",
                      "[180:199]",
                      "From <b>Jan-01-2020</b> to <b>Jan-01-2020</b>",
                      0.2709
                    ]
                  ],
                  "hovertemplate": "%{customdata[1]} &nbsp; &nbsp; %{customdata[2]} <br />Chunk: <b>%{customdata[3]}</b> &nbsp; &nbsp; %{customdata[4]} <br />%{customdata[0]}: <b>%{customdata[5]}</b><b r /><extra></extra>",
                  "legendgroup": "metric_reference",
                  "marker": {
                    "color": "#00c8e5",
                    "size": 5,
                    "symbol": "circle"
                  },
                  "mode": "markers",
                  "name": "Method",
                  "showlegend": false,
                  "type": "scatter",
                  "x": [
                    "2020-01-01T00:00:00",
                    "2020-01-01T00:00:00",
                    "2020-01-01T00:00:00",
                    "2020-01-01T00:00:00",
                    "2020-01-01T00:00:00",
                    "2020-01-01T00:00:00",
                    "2020-01-01T00:00:00",
                    "2020-01-01T00:00:00",
                    "2020-01-01T00:00:00",
                    "2020-01-01T00:00:00"
                  ],
                  "xaxis": "x6",
                  "y": [
                    0.2193248023363772,
                    0.28686865703717207,
                    0.2624113933800069,
                    0.19591386427196275,
                    0.33796878857574697,
                    0.22800009004137503,
                    0.2833511512607378,
                    0.27097601286904155,
                    0.24895626566437093,
                    0.2709274345284161,
                    0.2709274345284161
                  ],
                  "yaxis": "y6"
                },
                {
                  "hoverinfo": "skip",
                  "legendgroup": "metric_analysis",
                  "line": {
                    "color": "#00c8e5",
                    "shape": "hv",
                    "width": 2
                  },
                  "mode": "lines",
                  "name": "Method",
                  "showlegend": false,
                  "type": "scatter",
                  "x": [
                    "2020-02-01T00:00:00",
                    "2020-02-01T00:00:00",
                    "2020-02-01T00:00:00",
                    "2020-02-01T00:00:00",
                    "2020-02-01T00:00:00",
                    "2020-02-01T00:00:00",
                    "2020-02-01T00:00:00",
                    "2020-02-01T00:00:00",
                    "2020-02-01T00:00:00",
                    "2020-02-01T00:00:00",
                    "2020-02-01T00:00:00"
                  ],
                  "xaxis": "x6",
                  "y": [
                    0.2193248023363772,
                    0.28686865703717207,
                    0.2624113933800069,
                    0.19591386427196275,
                    0.33796878857574697,
                    0.22800009004137503,
                    0.2833511512607378,
                    0.27097601286904155,
                    0.24895626566437093,
                    0.2709274345284161,
                    0.2709274345284161
                  ],
                  "yaxis": "y6"
                },
                {
                  "customdata": [
                    [
                      "Jensen-Shannon distance for <b>feature_5</b>",
                      "<b style=\"color:#00c8e5;line-height:60px\">Analysis</b>",
                      "<span style=\"color:#AD0000\">⚠ <b>Drift detected</b></span>",
                      "[0:19]",
                      "From <b>Feb-01-2020</b> to <b>Feb-01-2020</b>",
                      0.2193
                    ],
                    [
                      "Jensen-Shannon distance for <b>feature_5</b>",
                      "<b style=\"color:#00c8e5;line-height:60px\">Analysis</b>",
                      "<span style=\"color:#AD0000\">⚠ <b>Drift detected</b></span>",
                      "[20:39]",
                      "From <b>Feb-01-2020</b> to <b>Feb-01-2020</b>",
                      0.2869
                    ],
                    [
                      "Jensen-Shannon distance for <b>feature_5</b>",
                      "<b style=\"color:#00c8e5;line-height:60px\">Analysis</b>",
                      "<span style=\"color:#AD0000\">⚠ <b>Drift detected</b></span>",
                      "[40:59]",
                      "From <b>Feb-01-2020</b> to <b>Feb-01-2020</b>",
                      0.2624
                    ],
                    [
                      "Jensen-Shannon distance for <b>feature_5</b>",
                      "<b style=\"color:#00c8e5;line-height:60px\">Analysis</b>",
                      "<span style=\"color:#AD0000\">⚠ <b>Drift detected</b></span>",
                      "[60:79]",
                      "From <b>Feb-01-2020</b> to <b>Feb-01-2020</b>",
                      0.1959
                    ],
                    [
                      "Jensen-Shannon distance for <b>feature_5</b>",
                      "<b style=\"color:#00c8e5;line-height:60px\">Analysis</b>",
                      "<span style=\"color:#AD0000\">⚠ <b>Drift detected</b></span>",
                      "[80:99]",
                      "From <b>Feb-01-2020</b> to <b>Feb-01-2020</b>",
                      0.338
                    ],
                    [
                      "Jensen-Shannon distance for <b>feature_5</b>",
                      "<b style=\"color:#00c8e5;line-height:60px\">Analysis</b>",
                      "<span style=\"color:#AD0000\">⚠ <b>Drift detected</b></span>",
                      "[100:119]",
                      "From <b>Feb-01-2020</b> to <b>Feb-01-2020</b>",
                      0.228
                    ],
                    [
                      "Jensen-Shannon distance for <b>feature_5</b>",
                      "<b style=\"color:#00c8e5;line-height:60px\">Analysis</b>",
                      "<span style=\"color:#AD0000\">⚠ <b>Drift detected</b></span>",
                      "[120:139]",
                      "From <b>Feb-01-2020</b> to <b>Feb-01-2020</b>",
                      0.2834
                    ],
                    [
                      "Jensen-Shannon distance for <b>feature_5</b>",
                      "<b style=\"color:#00c8e5;line-height:60px\">Analysis</b>",
                      "<span style=\"color:#AD0000\">⚠ <b>Drift detected</b></span>",
                      "[140:159]",
                      "From <b>Feb-01-2020</b> to <b>Feb-01-2020</b>",
                      0.271
                    ],
                    [
                      "Jensen-Shannon distance for <b>feature_5</b>",
                      "<b style=\"color:#00c8e5;line-height:60px\">Analysis</b>",
                      "<span style=\"color:#AD0000\">⚠ <b>Drift detected</b></span>",
                      "[160:179]",
                      "From <b>Feb-01-2020</b> to <b>Feb-01-2020</b>",
                      0.249
                    ],
                    [
                      "Jensen-Shannon distance for <b>feature_5</b>",
                      "<b style=\"color:#00c8e5;line-height:60px\">Analysis</b>",
                      "<span style=\"color:#AD0000\">⚠ <b>Drift detected</b></span>",
                      "[180:199]",
                      "From <b>Feb-01-2020</b> to <b>Feb-01-2020</b>",
                      0.2709
                    ]
                  ],
                  "hovertemplate": "%{customdata[1]} &nbsp; &nbsp; %{customdata[2]} <br />Chunk: <b>%{customdata[3]}</b> &nbsp; &nbsp; %{customdata[4]} <br />%{customdata[0]}: <b>%{customdata[5]}</b><b r /><extra></extra>",
                  "legendgroup": "metric_analysis",
                  "marker": {
                    "color": "#00c8e5",
                    "size": 5,
                    "symbol": "circle"
                  },
                  "mode": "markers",
                  "name": "Method",
                  "showlegend": false,
                  "type": "scatter",
                  "x": [
                    "2020-02-01T00:00:00",
                    "2020-02-01T00:00:00",
                    "2020-02-01T00:00:00",
                    "2020-02-01T00:00:00",
                    "2020-02-01T00:00:00",
                    "2020-02-01T00:00:00",
                    "2020-02-01T00:00:00",
                    "2020-02-01T00:00:00",
                    "2020-02-01T00:00:00",
                    "2020-02-01T00:00:00"
                  ],
                  "xaxis": "x6",
                  "y": [
                    0.2193248023363772,
                    0.28686865703717207,
                    0.2624113933800069,
                    0.19591386427196275,
                    0.33796878857574697,
                    0.22800009004137503,
                    0.2833511512607378,
                    0.27097601286904155,
                    0.24895626566437093,
                    0.2709274345284161,
                    0.2709274345284161
                  ],
                  "yaxis": "y6"
                },
                {
                  "hoverinfo": "skip",
                  "legendgroup": "alert",
                  "marker": {
                    "color": "#DD4040",
                    "size": 8,
                    "symbol": "diamond"
                  },
                  "mode": "markers",
                  "name": "Alert",
                  "showlegend": false,
                  "type": "scatter",
                  "x": [
                    "2020-02-01T00:00:00",
                    "2020-02-01T00:00:00",
                    "2020-02-01T00:00:00",
                    "2020-02-01T00:00:00",
                    "2020-02-01T00:00:00",
                    "2020-02-01T00:00:00",
                    "2020-02-01T00:00:00",
                    "2020-02-01T00:00:00",
                    "2020-02-01T00:00:00",
                    "2020-02-01T00:00:00"
                  ],
                  "xaxis": "x6",
                  "y": [
                    0.2193248023363772,
                    0.28686865703717207,
                    0.2624113933800069,
                    0.19591386427196275,
                    0.33796878857574697,
                    0.22800009004137503,
                    0.2833511512607378,
                    0.27097601286904155,
                    0.24895626566437093,
                    0.2709274345284161
                  ],
                  "yaxis": "y6"
                },
                {
                  "hoverinfo": "skip",
                  "legendgroup": "thresh",
                  "line": {
                    "color": "#DD4040",
                    "dash": "dash",
                    "width": 2
                  },
                  "mode": "lines",
                  "name": "Threshold",
                  "showlegend": false,
                  "type": "scatter",
                  "x": [
                    "2020-01-01T00:00:00",
                    "2020-01-01T00:00:00",
                    "2020-01-01T00:00:00",
                    "2020-01-01T00:00:00",
                    "2020-01-01T00:00:00",
                    "2020-01-01T00:00:00",
                    "2020-01-01T00:00:00",
                    "2020-01-01T00:00:00",
                    "2020-01-01T00:00:00",
                    "2020-01-01T00:00:00",
                    "2020-01-01T00:00:00"
                  ],
                  "xaxis": "x6",
                  "y": [
                    0.1,
                    0.1,
                    0.1,
                    0.1,
                    0.1,
                    0.1,
                    0.1,
                    0.1,
                    0.1,
                    0.1,
                    0.1
                  ],
                  "yaxis": "y6"
                },
                {
                  "hoverinfo": "skip",
                  "legendgroup": "thresh",
                  "line": {
                    "color": "#DD4040",
                    "dash": "dash",
                    "width": 2
                  },
                  "mode": "lines",
                  "name": "Threshold",
                  "showlegend": false,
                  "type": "scatter",
                  "x": [
                    "2020-02-01T00:00:00",
                    "2020-02-01T00:00:00",
                    "2020-02-01T00:00:00",
                    "2020-02-01T00:00:00",
                    "2020-02-01T00:00:00",
                    "2020-02-01T00:00:00",
                    "2020-02-01T00:00:00",
                    "2020-02-01T00:00:00",
                    "2020-02-01T00:00:00",
                    "2020-02-01T00:00:00",
                    "2020-02-01T00:00:00"
                  ],
                  "xaxis": "x6",
                  "y": [
                    0.1,
                    0.1,
                    0.1,
                    0.1,
                    0.1,
                    0.1,
                    0.1,
                    0.1,
                    0.1,
                    0.1,
                    0.1
                  ],
                  "yaxis": "y6"
                },
                {
                  "hoverinfo": "skip",
                  "legendgroup": "metric_reference",
                  "line": {
                    "color": "#00c8e5",
                    "shape": "hv",
                    "width": 2
                  },
                  "mode": "lines",
                  "name": "Method",
                  "showlegend": false,
                  "type": "scatter",
                  "x": [
                    "2020-01-01T00:00:00",
                    "2020-01-01T00:00:00",
                    "2020-01-01T00:00:00",
                    "2020-01-01T00:00:00",
                    "2020-01-01T00:00:00",
                    "2020-01-01T00:00:00",
                    "2020-01-01T00:00:00",
                    "2020-01-01T00:00:00",
                    "2020-01-01T00:00:00",
                    "2020-01-01T00:00:00",
                    "2020-01-01T00:00:00"
                  ],
                  "xaxis": "x7",
                  "y": [
                    0.26843947431771537,
                    0.3378886234204755,
                    0.36365580811660464,
                    0.2380350826717207,
                    0.3190455735614314,
                    0.2923911385668237,
                    0.414597935834262,
                    0.49011881666586155,
                    0.28477201238358946,
                    0.3474958451449967,
                    0.3474958451449967
                  ],
                  "yaxis": "y7"
                },
                {
                  "customdata": [
                    [
                      "Jensen-Shannon distance for <b>feature_6</b>",
                      "<b style=\"color:#00c8e5;line-height:60px\">Reference</b>",
                      "<span style=\"color:#AD0000\">⚠ <b>Drift detected</b></span>",
                      "[0:19]",
                      "From <b>Jan-01-2020</b> to <b>Jan-01-2020</b>",
                      0.2684
                    ],
                    [
                      "Jensen-Shannon distance for <b>feature_6</b>",
                      "<b style=\"color:#00c8e5;line-height:60px\">Reference</b>",
                      "<span style=\"color:#AD0000\">⚠ <b>Drift detected</b></span>",
                      "[20:39]",
                      "From <b>Jan-01-2020</b> to <b>Jan-01-2020</b>",
                      0.3379
                    ],
                    [
                      "Jensen-Shannon distance for <b>feature_6</b>",
                      "<b style=\"color:#00c8e5;line-height:60px\">Reference</b>",
                      "<span style=\"color:#AD0000\">⚠ <b>Drift detected</b></span>",
                      "[40:59]",
                      "From <b>Jan-01-2020</b> to <b>Jan-01-2020</b>",
                      0.3637
                    ],
                    [
                      "Jensen-Shannon distance for <b>feature_6</b>",
                      "<b style=\"color:#00c8e5;line-height:60px\">Reference</b>",
                      "<span style=\"color:#AD0000\">⚠ <b>Drift detected</b></span>",
                      "[60:79]",
                      "From <b>Jan-01-2020</b> to <b>Jan-01-2020</b>",
                      0.238
                    ],
                    [
                      "Jensen-Shannon distance for <b>feature_6</b>",
                      "<b style=\"color:#00c8e5;line-height:60px\">Reference</b>",
                      "<span style=\"color:#AD0000\">⚠ <b>Drift detected</b></span>",
                      "[80:99]",
                      "From <b>Jan-01-2020</b> to <b>Jan-01-2020</b>",
                      0.319
                    ],
                    [
                      "Jensen-Shannon distance for <b>feature_6</b>",
                      "<b style=\"color:#00c8e5;line-height:60px\">Reference</b>",
                      "<span style=\"color:#AD0000\">⚠ <b>Drift detected</b></span>",
                      "[100:119]",
                      "From <b>Jan-01-2020</b> to <b>Jan-01-2020</b>",
                      0.2924
                    ],
                    [
                      "Jensen-Shannon distance for <b>feature_6</b>",
                      "<b style=\"color:#00c8e5;line-height:60px\">Reference</b>",
                      "<span style=\"color:#AD0000\">⚠ <b>Drift detected</b></span>",
                      "[120:139]",
                      "From <b>Jan-01-2020</b> to <b>Jan-01-2020</b>",
                      0.4146
                    ],
                    [
                      "Jensen-Shannon distance for <b>feature_6</b>",
                      "<b style=\"color:#00c8e5;line-height:60px\">Reference</b>",
                      "<span style=\"color:#AD0000\">⚠ <b>Drift detected</b></span>",
                      "[140:159]",
                      "From <b>Jan-01-2020</b> to <b>Jan-01-2020</b>",
                      0.4901
                    ],
                    [
                      "Jensen-Shannon distance for <b>feature_6</b>",
                      "<b style=\"color:#00c8e5;line-height:60px\">Reference</b>",
                      "<span style=\"color:#AD0000\">⚠ <b>Drift detected</b></span>",
                      "[160:179]",
                      "From <b>Jan-01-2020</b> to <b>Jan-01-2020</b>",
                      0.2848
                    ],
                    [
                      "Jensen-Shannon distance for <b>feature_6</b>",
                      "<b style=\"color:#00c8e5;line-height:60px\">Reference</b>",
                      "<span style=\"color:#AD0000\">⚠ <b>Drift detected</b></span>",
                      "[180:199]",
                      "From <b>Jan-01-2020</b> to <b>Jan-01-2020</b>",
                      0.3475
                    ]
                  ],
                  "hovertemplate": "%{customdata[1]} &nbsp; &nbsp; %{customdata[2]} <br />Chunk: <b>%{customdata[3]}</b> &nbsp; &nbsp; %{customdata[4]} <br />%{customdata[0]}: <b>%{customdata[5]}</b><b r /><extra></extra>",
                  "legendgroup": "metric_reference",
                  "marker": {
                    "color": "#00c8e5",
                    "size": 5,
                    "symbol": "circle"
                  },
                  "mode": "markers",
                  "name": "Method",
                  "showlegend": false,
                  "type": "scatter",
                  "x": [
                    "2020-01-01T00:00:00",
                    "2020-01-01T00:00:00",
                    "2020-01-01T00:00:00",
                    "2020-01-01T00:00:00",
                    "2020-01-01T00:00:00",
                    "2020-01-01T00:00:00",
                    "2020-01-01T00:00:00",
                    "2020-01-01T00:00:00",
                    "2020-01-01T00:00:00",
                    "2020-01-01T00:00:00"
                  ],
                  "xaxis": "x7",
                  "y": [
                    0.26843947431771537,
                    0.3378886234204755,
                    0.36365580811660464,
                    0.2380350826717207,
                    0.3190455735614314,
                    0.2923911385668237,
                    0.414597935834262,
                    0.49011881666586155,
                    0.28477201238358946,
                    0.3474958451449967,
                    0.3474958451449967
                  ],
                  "yaxis": "y7"
                },
                {
                  "hoverinfo": "skip",
                  "legendgroup": "metric_analysis",
                  "line": {
                    "color": "#00c8e5",
                    "shape": "hv",
                    "width": 2
                  },
                  "mode": "lines",
                  "name": "Method",
                  "showlegend": false,
                  "type": "scatter",
                  "x": [
                    "2020-02-01T00:00:00",
                    "2020-02-01T00:00:00",
                    "2020-02-01T00:00:00",
                    "2020-02-01T00:00:00",
                    "2020-02-01T00:00:00",
                    "2020-02-01T00:00:00",
                    "2020-02-01T00:00:00",
                    "2020-02-01T00:00:00",
                    "2020-02-01T00:00:00",
                    "2020-02-01T00:00:00",
                    "2020-02-01T00:00:00"
                  ],
                  "xaxis": "x7",
                  "y": [
                    0.26843947431771537,
                    0.3378886234204755,
                    0.36365580811660464,
                    0.2380350826717207,
                    0.3190455735614314,
                    0.2923911385668237,
                    0.414597935834262,
                    0.49011881666586155,
                    0.28477201238358946,
                    0.3474958451449967,
                    0.3474958451449967
                  ],
                  "yaxis": "y7"
                },
                {
                  "customdata": [
                    [
                      "Jensen-Shannon distance for <b>feature_6</b>",
                      "<b style=\"color:#00c8e5;line-height:60px\">Analysis</b>",
                      "<span style=\"color:#AD0000\">⚠ <b>Drift detected</b></span>",
                      "[0:19]",
                      "From <b>Feb-01-2020</b> to <b>Feb-01-2020</b>",
                      0.2684
                    ],
                    [
                      "Jensen-Shannon distance for <b>feature_6</b>",
                      "<b style=\"color:#00c8e5;line-height:60px\">Analysis</b>",
                      "<span style=\"color:#AD0000\">⚠ <b>Drift detected</b></span>",
                      "[20:39]",
                      "From <b>Feb-01-2020</b> to <b>Feb-01-2020</b>",
                      0.3379
                    ],
                    [
                      "Jensen-Shannon distance for <b>feature_6</b>",
                      "<b style=\"color:#00c8e5;line-height:60px\">Analysis</b>",
                      "<span style=\"color:#AD0000\">⚠ <b>Drift detected</b></span>",
                      "[40:59]",
                      "From <b>Feb-01-2020</b> to <b>Feb-01-2020</b>",
                      0.3637
                    ],
                    [
                      "Jensen-Shannon distance for <b>feature_6</b>",
                      "<b style=\"color:#00c8e5;line-height:60px\">Analysis</b>",
                      "<span style=\"color:#AD0000\">⚠ <b>Drift detected</b></span>",
                      "[60:79]",
                      "From <b>Feb-01-2020</b> to <b>Feb-01-2020</b>",
                      0.238
                    ],
                    [
                      "Jensen-Shannon distance for <b>feature_6</b>",
                      "<b style=\"color:#00c8e5;line-height:60px\">Analysis</b>",
                      "<span style=\"color:#AD0000\">⚠ <b>Drift detected</b></span>",
                      "[80:99]",
                      "From <b>Feb-01-2020</b> to <b>Feb-01-2020</b>",
                      0.319
                    ],
                    [
                      "Jensen-Shannon distance for <b>feature_6</b>",
                      "<b style=\"color:#00c8e5;line-height:60px\">Analysis</b>",
                      "<span style=\"color:#AD0000\">⚠ <b>Drift detected</b></span>",
                      "[100:119]",
                      "From <b>Feb-01-2020</b> to <b>Feb-01-2020</b>",
                      0.2924
                    ],
                    [
                      "Jensen-Shannon distance for <b>feature_6</b>",
                      "<b style=\"color:#00c8e5;line-height:60px\">Analysis</b>",
                      "<span style=\"color:#AD0000\">⚠ <b>Drift detected</b></span>",
                      "[120:139]",
                      "From <b>Feb-01-2020</b> to <b>Feb-01-2020</b>",
                      0.4146
                    ],
                    [
                      "Jensen-Shannon distance for <b>feature_6</b>",
                      "<b style=\"color:#00c8e5;line-height:60px\">Analysis</b>",
                      "<span style=\"color:#AD0000\">⚠ <b>Drift detected</b></span>",
                      "[140:159]",
                      "From <b>Feb-01-2020</b> to <b>Feb-01-2020</b>",
                      0.4901
                    ],
                    [
                      "Jensen-Shannon distance for <b>feature_6</b>",
                      "<b style=\"color:#00c8e5;line-height:60px\">Analysis</b>",
                      "<span style=\"color:#AD0000\">⚠ <b>Drift detected</b></span>",
                      "[160:179]",
                      "From <b>Feb-01-2020</b> to <b>Feb-01-2020</b>",
                      0.2848
                    ],
                    [
                      "Jensen-Shannon distance for <b>feature_6</b>",
                      "<b style=\"color:#00c8e5;line-height:60px\">Analysis</b>",
                      "<span style=\"color:#AD0000\">⚠ <b>Drift detected</b></span>",
                      "[180:199]",
                      "From <b>Feb-01-2020</b> to <b>Feb-01-2020</b>",
                      0.3475
                    ]
                  ],
                  "hovertemplate": "%{customdata[1]} &nbsp; &nbsp; %{customdata[2]} <br />Chunk: <b>%{customdata[3]}</b> &nbsp; &nbsp; %{customdata[4]} <br />%{customdata[0]}: <b>%{customdata[5]}</b><b r /><extra></extra>",
                  "legendgroup": "metric_analysis",
                  "marker": {
                    "color": "#00c8e5",
                    "size": 5,
                    "symbol": "circle"
                  },
                  "mode": "markers",
                  "name": "Method",
                  "showlegend": false,
                  "type": "scatter",
                  "x": [
                    "2020-02-01T00:00:00",
                    "2020-02-01T00:00:00",
                    "2020-02-01T00:00:00",
                    "2020-02-01T00:00:00",
                    "2020-02-01T00:00:00",
                    "2020-02-01T00:00:00",
                    "2020-02-01T00:00:00",
                    "2020-02-01T00:00:00",
                    "2020-02-01T00:00:00",
                    "2020-02-01T00:00:00"
                  ],
                  "xaxis": "x7",
                  "y": [
                    0.26843947431771537,
                    0.3378886234204755,
                    0.36365580811660464,
                    0.2380350826717207,
                    0.3190455735614314,
                    0.2923911385668237,
                    0.414597935834262,
                    0.49011881666586155,
                    0.28477201238358946,
                    0.3474958451449967,
                    0.3474958451449967
                  ],
                  "yaxis": "y7"
                },
                {
                  "hoverinfo": "skip",
                  "legendgroup": "alert",
                  "marker": {
                    "color": "#DD4040",
                    "size": 8,
                    "symbol": "diamond"
                  },
                  "mode": "markers",
                  "name": "Alert",
                  "showlegend": false,
                  "type": "scatter",
                  "x": [
                    "2020-02-01T00:00:00",
                    "2020-02-01T00:00:00",
                    "2020-02-01T00:00:00",
                    "2020-02-01T00:00:00",
                    "2020-02-01T00:00:00",
                    "2020-02-01T00:00:00",
                    "2020-02-01T00:00:00",
                    "2020-02-01T00:00:00",
                    "2020-02-01T00:00:00",
                    "2020-02-01T00:00:00"
                  ],
                  "xaxis": "x7",
                  "y": [
                    0.26843947431771537,
                    0.3378886234204755,
                    0.36365580811660464,
                    0.2380350826717207,
                    0.3190455735614314,
                    0.2923911385668237,
                    0.414597935834262,
                    0.49011881666586155,
                    0.28477201238358946,
                    0.3474958451449967
                  ],
                  "yaxis": "y7"
                },
                {
                  "hoverinfo": "skip",
                  "legendgroup": "thresh",
                  "line": {
                    "color": "#DD4040",
                    "dash": "dash",
                    "width": 2
                  },
                  "mode": "lines",
                  "name": "Threshold",
                  "showlegend": false,
                  "type": "scatter",
                  "x": [
                    "2020-01-01T00:00:00",
                    "2020-01-01T00:00:00",
                    "2020-01-01T00:00:00",
                    "2020-01-01T00:00:00",
                    "2020-01-01T00:00:00",
                    "2020-01-01T00:00:00",
                    "2020-01-01T00:00:00",
                    "2020-01-01T00:00:00",
                    "2020-01-01T00:00:00",
                    "2020-01-01T00:00:00",
                    "2020-01-01T00:00:00"
                  ],
                  "xaxis": "x7",
                  "y": [
                    0.1,
                    0.1,
                    0.1,
                    0.1,
                    0.1,
                    0.1,
                    0.1,
                    0.1,
                    0.1,
                    0.1,
                    0.1
                  ],
                  "yaxis": "y7"
                },
                {
                  "hoverinfo": "skip",
                  "legendgroup": "thresh",
                  "line": {
                    "color": "#DD4040",
                    "dash": "dash",
                    "width": 2
                  },
                  "mode": "lines",
                  "name": "Threshold",
                  "showlegend": false,
                  "type": "scatter",
                  "x": [
                    "2020-02-01T00:00:00",
                    "2020-02-01T00:00:00",
                    "2020-02-01T00:00:00",
                    "2020-02-01T00:00:00",
                    "2020-02-01T00:00:00",
                    "2020-02-01T00:00:00",
                    "2020-02-01T00:00:00",
                    "2020-02-01T00:00:00",
                    "2020-02-01T00:00:00",
                    "2020-02-01T00:00:00",
                    "2020-02-01T00:00:00"
                  ],
                  "xaxis": "x7",
                  "y": [
                    0.1,
                    0.1,
                    0.1,
                    0.1,
                    0.1,
                    0.1,
                    0.1,
                    0.1,
                    0.1,
                    0.1,
                    0.1
                  ],
                  "yaxis": "y7"
                },
                {
                  "hoverinfo": "skip",
                  "legendgroup": "metric_reference",
                  "line": {
                    "color": "#00c8e5",
                    "shape": "hv",
                    "width": 2
                  },
                  "mode": "lines",
                  "name": "Method",
                  "showlegend": false,
                  "type": "scatter",
                  "x": [
                    "2020-01-01T00:00:00",
                    "2020-01-01T00:00:00",
                    "2020-01-01T00:00:00",
                    "2020-01-01T00:00:00",
                    "2020-01-01T00:00:00",
                    "2020-01-01T00:00:00",
                    "2020-01-01T00:00:00",
                    "2020-01-01T00:00:00",
                    "2020-01-01T00:00:00",
                    "2020-01-01T00:00:00",
                    "2020-01-01T00:00:00"
                  ],
                  "xaxis": "x8",
                  "y": [
                    0.3229990609712116,
                    0.2720934903775376,
                    0.31130322348659367,
                    0.33265590234131487,
                    0.29044942860869943,
                    0.30177893679476475,
                    0.21618699090979687,
                    0.3216879617454232,
                    0.3142658344937545,
                    0.188315093434561,
                    0.188315093434561
                  ],
                  "yaxis": "y8"
                },
                {
                  "customdata": [
                    [
                      "Jensen-Shannon distance for <b>feature_7</b>",
                      "<b style=\"color:#00c8e5;line-height:60px\">Reference</b>",
                      "<span style=\"color:#AD0000\">⚠ <b>Drift detected</b></span>",
                      "[0:19]",
                      "From <b>Jan-01-2020</b> to <b>Jan-01-2020</b>",
                      0.323
                    ],
                    [
                      "Jensen-Shannon distance for <b>feature_7</b>",
                      "<b style=\"color:#00c8e5;line-height:60px\">Reference</b>",
                      "<span style=\"color:#AD0000\">⚠ <b>Drift detected</b></span>",
                      "[20:39]",
                      "From <b>Jan-01-2020</b> to <b>Jan-01-2020</b>",
                      0.2721
                    ],
                    [
                      "Jensen-Shannon distance for <b>feature_7</b>",
                      "<b style=\"color:#00c8e5;line-height:60px\">Reference</b>",
                      "<span style=\"color:#AD0000\">⚠ <b>Drift detected</b></span>",
                      "[40:59]",
                      "From <b>Jan-01-2020</b> to <b>Jan-01-2020</b>",
                      0.3113
                    ],
                    [
                      "Jensen-Shannon distance for <b>feature_7</b>",
                      "<b style=\"color:#00c8e5;line-height:60px\">Reference</b>",
                      "<span style=\"color:#AD0000\">⚠ <b>Drift detected</b></span>",
                      "[60:79]",
                      "From <b>Jan-01-2020</b> to <b>Jan-01-2020</b>",
                      0.3327
                    ],
                    [
                      "Jensen-Shannon distance for <b>feature_7</b>",
                      "<b style=\"color:#00c8e5;line-height:60px\">Reference</b>",
                      "<span style=\"color:#AD0000\">⚠ <b>Drift detected</b></span>",
                      "[80:99]",
                      "From <b>Jan-01-2020</b> to <b>Jan-01-2020</b>",
                      0.2904
                    ],
                    [
                      "Jensen-Shannon distance for <b>feature_7</b>",
                      "<b style=\"color:#00c8e5;line-height:60px\">Reference</b>",
                      "<span style=\"color:#AD0000\">⚠ <b>Drift detected</b></span>",
                      "[100:119]",
                      "From <b>Jan-01-2020</b> to <b>Jan-01-2020</b>",
                      0.3018
                    ],
                    [
                      "Jensen-Shannon distance for <b>feature_7</b>",
                      "<b style=\"color:#00c8e5;line-height:60px\">Reference</b>",
                      "<span style=\"color:#AD0000\">⚠ <b>Drift detected</b></span>",
                      "[120:139]",
                      "From <b>Jan-01-2020</b> to <b>Jan-01-2020</b>",
                      0.2162
                    ],
                    [
                      "Jensen-Shannon distance for <b>feature_7</b>",
                      "<b style=\"color:#00c8e5;line-height:60px\">Reference</b>",
                      "<span style=\"color:#AD0000\">⚠ <b>Drift detected</b></span>",
                      "[140:159]",
                      "From <b>Jan-01-2020</b> to <b>Jan-01-2020</b>",
                      0.3217
                    ],
                    [
                      "Jensen-Shannon distance for <b>feature_7</b>",
                      "<b style=\"color:#00c8e5;line-height:60px\">Reference</b>",
                      "<span style=\"color:#AD0000\">⚠ <b>Drift detected</b></span>",
                      "[160:179]",
                      "From <b>Jan-01-2020</b> to <b>Jan-01-2020</b>",
                      0.3143
                    ],
                    [
                      "Jensen-Shannon distance for <b>feature_7</b>",
                      "<b style=\"color:#00c8e5;line-height:60px\">Reference</b>",
                      "<span style=\"color:#AD0000\">⚠ <b>Drift detected</b></span>",
                      "[180:199]",
                      "From <b>Jan-01-2020</b> to <b>Jan-01-2020</b>",
                      0.1883
                    ]
                  ],
                  "hovertemplate": "%{customdata[1]} &nbsp; &nbsp; %{customdata[2]} <br />Chunk: <b>%{customdata[3]}</b> &nbsp; &nbsp; %{customdata[4]} <br />%{customdata[0]}: <b>%{customdata[5]}</b><b r /><extra></extra>",
                  "legendgroup": "metric_reference",
                  "marker": {
                    "color": "#00c8e5",
                    "size": 5,
                    "symbol": "circle"
                  },
                  "mode": "markers",
                  "name": "Method",
                  "showlegend": false,
                  "type": "scatter",
                  "x": [
                    "2020-01-01T00:00:00",
                    "2020-01-01T00:00:00",
                    "2020-01-01T00:00:00",
                    "2020-01-01T00:00:00",
                    "2020-01-01T00:00:00",
                    "2020-01-01T00:00:00",
                    "2020-01-01T00:00:00",
                    "2020-01-01T00:00:00",
                    "2020-01-01T00:00:00",
                    "2020-01-01T00:00:00"
                  ],
                  "xaxis": "x8",
                  "y": [
                    0.3229990609712116,
                    0.2720934903775376,
                    0.31130322348659367,
                    0.33265590234131487,
                    0.29044942860869943,
                    0.30177893679476475,
                    0.21618699090979687,
                    0.3216879617454232,
                    0.3142658344937545,
                    0.188315093434561,
                    0.188315093434561
                  ],
                  "yaxis": "y8"
                },
                {
                  "hoverinfo": "skip",
                  "legendgroup": "metric_analysis",
                  "line": {
                    "color": "#00c8e5",
                    "shape": "hv",
                    "width": 2
                  },
                  "mode": "lines",
                  "name": "Method",
                  "showlegend": false,
                  "type": "scatter",
                  "x": [
                    "2020-02-01T00:00:00",
                    "2020-02-01T00:00:00",
                    "2020-02-01T00:00:00",
                    "2020-02-01T00:00:00",
                    "2020-02-01T00:00:00",
                    "2020-02-01T00:00:00",
                    "2020-02-01T00:00:00",
                    "2020-02-01T00:00:00",
                    "2020-02-01T00:00:00",
                    "2020-02-01T00:00:00",
                    "2020-02-01T00:00:00"
                  ],
                  "xaxis": "x8",
                  "y": [
                    0.3229990609712116,
                    0.2720934903775376,
                    0.31130322348659367,
                    0.33265590234131487,
                    0.29044942860869943,
                    0.30177893679476475,
                    0.21618699090979687,
                    0.3216879617454232,
                    0.3142658344937545,
                    0.188315093434561,
                    0.188315093434561
                  ],
                  "yaxis": "y8"
                },
                {
                  "customdata": [
                    [
                      "Jensen-Shannon distance for <b>feature_7</b>",
                      "<b style=\"color:#00c8e5;line-height:60px\">Analysis</b>",
                      "<span style=\"color:#AD0000\">⚠ <b>Drift detected</b></span>",
                      "[0:19]",
                      "From <b>Feb-01-2020</b> to <b>Feb-01-2020</b>",
                      0.323
                    ],
                    [
                      "Jensen-Shannon distance for <b>feature_7</b>",
                      "<b style=\"color:#00c8e5;line-height:60px\">Analysis</b>",
                      "<span style=\"color:#AD0000\">⚠ <b>Drift detected</b></span>",
                      "[20:39]",
                      "From <b>Feb-01-2020</b> to <b>Feb-01-2020</b>",
                      0.2721
                    ],
                    [
                      "Jensen-Shannon distance for <b>feature_7</b>",
                      "<b style=\"color:#00c8e5;line-height:60px\">Analysis</b>",
                      "<span style=\"color:#AD0000\">⚠ <b>Drift detected</b></span>",
                      "[40:59]",
                      "From <b>Feb-01-2020</b> to <b>Feb-01-2020</b>",
                      0.3113
                    ],
                    [
                      "Jensen-Shannon distance for <b>feature_7</b>",
                      "<b style=\"color:#00c8e5;line-height:60px\">Analysis</b>",
                      "<span style=\"color:#AD0000\">⚠ <b>Drift detected</b></span>",
                      "[60:79]",
                      "From <b>Feb-01-2020</b> to <b>Feb-01-2020</b>",
                      0.3327
                    ],
                    [
                      "Jensen-Shannon distance for <b>feature_7</b>",
                      "<b style=\"color:#00c8e5;line-height:60px\">Analysis</b>",
                      "<span style=\"color:#AD0000\">⚠ <b>Drift detected</b></span>",
                      "[80:99]",
                      "From <b>Feb-01-2020</b> to <b>Feb-01-2020</b>",
                      0.2904
                    ],
                    [
                      "Jensen-Shannon distance for <b>feature_7</b>",
                      "<b style=\"color:#00c8e5;line-height:60px\">Analysis</b>",
                      "<span style=\"color:#AD0000\">⚠ <b>Drift detected</b></span>",
                      "[100:119]",
                      "From <b>Feb-01-2020</b> to <b>Feb-01-2020</b>",
                      0.3018
                    ],
                    [
                      "Jensen-Shannon distance for <b>feature_7</b>",
                      "<b style=\"color:#00c8e5;line-height:60px\">Analysis</b>",
                      "<span style=\"color:#AD0000\">⚠ <b>Drift detected</b></span>",
                      "[120:139]",
                      "From <b>Feb-01-2020</b> to <b>Feb-01-2020</b>",
                      0.2162
                    ],
                    [
                      "Jensen-Shannon distance for <b>feature_7</b>",
                      "<b style=\"color:#00c8e5;line-height:60px\">Analysis</b>",
                      "<span style=\"color:#AD0000\">⚠ <b>Drift detected</b></span>",
                      "[140:159]",
                      "From <b>Feb-01-2020</b> to <b>Feb-01-2020</b>",
                      0.3217
                    ],
                    [
                      "Jensen-Shannon distance for <b>feature_7</b>",
                      "<b style=\"color:#00c8e5;line-height:60px\">Analysis</b>",
                      "<span style=\"color:#AD0000\">⚠ <b>Drift detected</b></span>",
                      "[160:179]",
                      "From <b>Feb-01-2020</b> to <b>Feb-01-2020</b>",
                      0.3143
                    ],
                    [
                      "Jensen-Shannon distance for <b>feature_7</b>",
                      "<b style=\"color:#00c8e5;line-height:60px\">Analysis</b>",
                      "<span style=\"color:#AD0000\">⚠ <b>Drift detected</b></span>",
                      "[180:199]",
                      "From <b>Feb-01-2020</b> to <b>Feb-01-2020</b>",
                      0.1883
                    ]
                  ],
                  "hovertemplate": "%{customdata[1]} &nbsp; &nbsp; %{customdata[2]} <br />Chunk: <b>%{customdata[3]}</b> &nbsp; &nbsp; %{customdata[4]} <br />%{customdata[0]}: <b>%{customdata[5]}</b><b r /><extra></extra>",
                  "legendgroup": "metric_analysis",
                  "marker": {
                    "color": "#00c8e5",
                    "size": 5,
                    "symbol": "circle"
                  },
                  "mode": "markers",
                  "name": "Method",
                  "showlegend": false,
                  "type": "scatter",
                  "x": [
                    "2020-02-01T00:00:00",
                    "2020-02-01T00:00:00",
                    "2020-02-01T00:00:00",
                    "2020-02-01T00:00:00",
                    "2020-02-01T00:00:00",
                    "2020-02-01T00:00:00",
                    "2020-02-01T00:00:00",
                    "2020-02-01T00:00:00",
                    "2020-02-01T00:00:00",
                    "2020-02-01T00:00:00"
                  ],
                  "xaxis": "x8",
                  "y": [
                    0.3229990609712116,
                    0.2720934903775376,
                    0.31130322348659367,
                    0.33265590234131487,
                    0.29044942860869943,
                    0.30177893679476475,
                    0.21618699090979687,
                    0.3216879617454232,
                    0.3142658344937545,
                    0.188315093434561,
                    0.188315093434561
                  ],
                  "yaxis": "y8"
                },
                {
                  "hoverinfo": "skip",
                  "legendgroup": "alert",
                  "marker": {
                    "color": "#DD4040",
                    "size": 8,
                    "symbol": "diamond"
                  },
                  "mode": "markers",
                  "name": "Alert",
                  "showlegend": false,
                  "type": "scatter",
                  "x": [
                    "2020-02-01T00:00:00",
                    "2020-02-01T00:00:00",
                    "2020-02-01T00:00:00",
                    "2020-02-01T00:00:00",
                    "2020-02-01T00:00:00",
                    "2020-02-01T00:00:00",
                    "2020-02-01T00:00:00",
                    "2020-02-01T00:00:00",
                    "2020-02-01T00:00:00",
                    "2020-02-01T00:00:00"
                  ],
                  "xaxis": "x8",
                  "y": [
                    0.3229990609712116,
                    0.2720934903775376,
                    0.31130322348659367,
                    0.33265590234131487,
                    0.29044942860869943,
                    0.30177893679476475,
                    0.21618699090979687,
                    0.3216879617454232,
                    0.3142658344937545,
                    0.188315093434561
                  ],
                  "yaxis": "y8"
                },
                {
                  "hoverinfo": "skip",
                  "legendgroup": "thresh",
                  "line": {
                    "color": "#DD4040",
                    "dash": "dash",
                    "width": 2
                  },
                  "mode": "lines",
                  "name": "Threshold",
                  "showlegend": false,
                  "type": "scatter",
                  "x": [
                    "2020-01-01T00:00:00",
                    "2020-01-01T00:00:00",
                    "2020-01-01T00:00:00",
                    "2020-01-01T00:00:00",
                    "2020-01-01T00:00:00",
                    "2020-01-01T00:00:00",
                    "2020-01-01T00:00:00",
                    "2020-01-01T00:00:00",
                    "2020-01-01T00:00:00",
                    "2020-01-01T00:00:00",
                    "2020-01-01T00:00:00"
                  ],
                  "xaxis": "x8",
                  "y": [
                    0.1,
                    0.1,
                    0.1,
                    0.1,
                    0.1,
                    0.1,
                    0.1,
                    0.1,
                    0.1,
                    0.1,
                    0.1
                  ],
                  "yaxis": "y8"
                },
                {
                  "hoverinfo": "skip",
                  "legendgroup": "thresh",
                  "line": {
                    "color": "#DD4040",
                    "dash": "dash",
                    "width": 2
                  },
                  "mode": "lines",
                  "name": "Threshold",
                  "showlegend": false,
                  "type": "scatter",
                  "x": [
                    "2020-02-01T00:00:00",
                    "2020-02-01T00:00:00",
                    "2020-02-01T00:00:00",
                    "2020-02-01T00:00:00",
                    "2020-02-01T00:00:00",
                    "2020-02-01T00:00:00",
                    "2020-02-01T00:00:00",
                    "2020-02-01T00:00:00",
                    "2020-02-01T00:00:00",
                    "2020-02-01T00:00:00",
                    "2020-02-01T00:00:00"
                  ],
                  "xaxis": "x8",
                  "y": [
                    0.1,
                    0.1,
                    0.1,
                    0.1,
                    0.1,
                    0.1,
                    0.1,
                    0.1,
                    0.1,
                    0.1,
                    0.1
                  ],
                  "yaxis": "y8"
                },
                {
                  "hoverinfo": "skip",
                  "legendgroup": "metric_reference",
                  "line": {
                    "color": "#00c8e5",
                    "shape": "hv",
                    "width": 2
                  },
                  "mode": "lines",
                  "name": "Method",
                  "showlegend": false,
                  "type": "scatter",
                  "x": [
                    "2020-01-01T00:00:00",
                    "2020-01-01T00:00:00",
                    "2020-01-01T00:00:00",
                    "2020-01-01T00:00:00",
                    "2020-01-01T00:00:00",
                    "2020-01-01T00:00:00",
                    "2020-01-01T00:00:00",
                    "2020-01-01T00:00:00",
                    "2020-01-01T00:00:00",
                    "2020-01-01T00:00:00",
                    "2020-01-01T00:00:00"
                  ],
                  "xaxis": "x9",
                  "y": [
                    0.3228621263209525,
                    0.3300876595107539,
                    0.3879959601410646,
                    0.3155128110347565,
                    0.2198842938577069,
                    0.44938005593013125,
                    0.2736469469552035,
                    0.3190527060887429,
                    0.3195593484282167,
                    0.2674387706788387,
                    0.2674387706788387
                  ],
                  "yaxis": "y9"
                },
                {
                  "customdata": [
                    [
                      "Jensen-Shannon distance for <b>feature_8</b>",
                      "<b style=\"color:#00c8e5;line-height:60px\">Reference</b>",
                      "<span style=\"color:#AD0000\">⚠ <b>Drift detected</b></span>",
                      "[0:19]",
                      "From <b>Jan-01-2020</b> to <b>Jan-01-2020</b>",
                      0.3229
                    ],
                    [
                      "Jensen-Shannon distance for <b>feature_8</b>",
                      "<b style=\"color:#00c8e5;line-height:60px\">Reference</b>",
                      "<span style=\"color:#AD0000\">⚠ <b>Drift detected</b></span>",
                      "[20:39]",
                      "From <b>Jan-01-2020</b> to <b>Jan-01-2020</b>",
                      0.3301
                    ],
                    [
                      "Jensen-Shannon distance for <b>feature_8</b>",
                      "<b style=\"color:#00c8e5;line-height:60px\">Reference</b>",
                      "<span style=\"color:#AD0000\">⚠ <b>Drift detected</b></span>",
                      "[40:59]",
                      "From <b>Jan-01-2020</b> to <b>Jan-01-2020</b>",
                      0.388
                    ],
                    [
                      "Jensen-Shannon distance for <b>feature_8</b>",
                      "<b style=\"color:#00c8e5;line-height:60px\">Reference</b>",
                      "<span style=\"color:#AD0000\">⚠ <b>Drift detected</b></span>",
                      "[60:79]",
                      "From <b>Jan-01-2020</b> to <b>Jan-01-2020</b>",
                      0.3155
                    ],
                    [
                      "Jensen-Shannon distance for <b>feature_8</b>",
                      "<b style=\"color:#00c8e5;line-height:60px\">Reference</b>",
                      "<span style=\"color:#AD0000\">⚠ <b>Drift detected</b></span>",
                      "[80:99]",
                      "From <b>Jan-01-2020</b> to <b>Jan-01-2020</b>",
                      0.2199
                    ],
                    [
                      "Jensen-Shannon distance for <b>feature_8</b>",
                      "<b style=\"color:#00c8e5;line-height:60px\">Reference</b>",
                      "<span style=\"color:#AD0000\">⚠ <b>Drift detected</b></span>",
                      "[100:119]",
                      "From <b>Jan-01-2020</b> to <b>Jan-01-2020</b>",
                      0.4494
                    ],
                    [
                      "Jensen-Shannon distance for <b>feature_8</b>",
                      "<b style=\"color:#00c8e5;line-height:60px\">Reference</b>",
                      "<span style=\"color:#AD0000\">⚠ <b>Drift detected</b></span>",
                      "[120:139]",
                      "From <b>Jan-01-2020</b> to <b>Jan-01-2020</b>",
                      0.2736
                    ],
                    [
                      "Jensen-Shannon distance for <b>feature_8</b>",
                      "<b style=\"color:#00c8e5;line-height:60px\">Reference</b>",
                      "<span style=\"color:#AD0000\">⚠ <b>Drift detected</b></span>",
                      "[140:159]",
                      "From <b>Jan-01-2020</b> to <b>Jan-01-2020</b>",
                      0.3191
                    ],
                    [
                      "Jensen-Shannon distance for <b>feature_8</b>",
                      "<b style=\"color:#00c8e5;line-height:60px\">Reference</b>",
                      "<span style=\"color:#AD0000\">⚠ <b>Drift detected</b></span>",
                      "[160:179]",
                      "From <b>Jan-01-2020</b> to <b>Jan-01-2020</b>",
                      0.3196
                    ],
                    [
                      "Jensen-Shannon distance for <b>feature_8</b>",
                      "<b style=\"color:#00c8e5;line-height:60px\">Reference</b>",
                      "<span style=\"color:#AD0000\">⚠ <b>Drift detected</b></span>",
                      "[180:199]",
                      "From <b>Jan-01-2020</b> to <b>Jan-01-2020</b>",
                      0.2674
                    ]
                  ],
                  "hovertemplate": "%{customdata[1]} &nbsp; &nbsp; %{customdata[2]} <br />Chunk: <b>%{customdata[3]}</b> &nbsp; &nbsp; %{customdata[4]} <br />%{customdata[0]}: <b>%{customdata[5]}</b><b r /><extra></extra>",
                  "legendgroup": "metric_reference",
                  "marker": {
                    "color": "#00c8e5",
                    "size": 5,
                    "symbol": "circle"
                  },
                  "mode": "markers",
                  "name": "Method",
                  "showlegend": false,
                  "type": "scatter",
                  "x": [
                    "2020-01-01T00:00:00",
                    "2020-01-01T00:00:00",
                    "2020-01-01T00:00:00",
                    "2020-01-01T00:00:00",
                    "2020-01-01T00:00:00",
                    "2020-01-01T00:00:00",
                    "2020-01-01T00:00:00",
                    "2020-01-01T00:00:00",
                    "2020-01-01T00:00:00",
                    "2020-01-01T00:00:00"
                  ],
                  "xaxis": "x9",
                  "y": [
                    0.3228621263209525,
                    0.3300876595107539,
                    0.3879959601410646,
                    0.3155128110347565,
                    0.2198842938577069,
                    0.44938005593013125,
                    0.2736469469552035,
                    0.3190527060887429,
                    0.3195593484282167,
                    0.2674387706788387,
                    0.2674387706788387
                  ],
                  "yaxis": "y9"
                },
                {
                  "hoverinfo": "skip",
                  "legendgroup": "metric_analysis",
                  "line": {
                    "color": "#00c8e5",
                    "shape": "hv",
                    "width": 2
                  },
                  "mode": "lines",
                  "name": "Method",
                  "showlegend": false,
                  "type": "scatter",
                  "x": [
                    "2020-02-01T00:00:00",
                    "2020-02-01T00:00:00",
                    "2020-02-01T00:00:00",
                    "2020-02-01T00:00:00",
                    "2020-02-01T00:00:00",
                    "2020-02-01T00:00:00",
                    "2020-02-01T00:00:00",
                    "2020-02-01T00:00:00",
                    "2020-02-01T00:00:00",
                    "2020-02-01T00:00:00",
                    "2020-02-01T00:00:00"
                  ],
                  "xaxis": "x9",
                  "y": [
                    0.3228621263209525,
                    0.3300876595107539,
                    0.3879959601410646,
                    0.3155128110347565,
                    0.2198842938577069,
                    0.44938005593013125,
                    0.2736469469552035,
                    0.3190527060887429,
                    0.3195593484282167,
                    0.2674387706788387,
                    0.2674387706788387
                  ],
                  "yaxis": "y9"
                },
                {
                  "customdata": [
                    [
                      "Jensen-Shannon distance for <b>feature_8</b>",
                      "<b style=\"color:#00c8e5;line-height:60px\">Analysis</b>",
                      "<span style=\"color:#AD0000\">⚠ <b>Drift detected</b></span>",
                      "[0:19]",
                      "From <b>Feb-01-2020</b> to <b>Feb-01-2020</b>",
                      0.3229
                    ],
                    [
                      "Jensen-Shannon distance for <b>feature_8</b>",
                      "<b style=\"color:#00c8e5;line-height:60px\">Analysis</b>",
                      "<span style=\"color:#AD0000\">⚠ <b>Drift detected</b></span>",
                      "[20:39]",
                      "From <b>Feb-01-2020</b> to <b>Feb-01-2020</b>",
                      0.3301
                    ],
                    [
                      "Jensen-Shannon distance for <b>feature_8</b>",
                      "<b style=\"color:#00c8e5;line-height:60px\">Analysis</b>",
                      "<span style=\"color:#AD0000\">⚠ <b>Drift detected</b></span>",
                      "[40:59]",
                      "From <b>Feb-01-2020</b> to <b>Feb-01-2020</b>",
                      0.388
                    ],
                    [
                      "Jensen-Shannon distance for <b>feature_8</b>",
                      "<b style=\"color:#00c8e5;line-height:60px\">Analysis</b>",
                      "<span style=\"color:#AD0000\">⚠ <b>Drift detected</b></span>",
                      "[60:79]",
                      "From <b>Feb-01-2020</b> to <b>Feb-01-2020</b>",
                      0.3155
                    ],
                    [
                      "Jensen-Shannon distance for <b>feature_8</b>",
                      "<b style=\"color:#00c8e5;line-height:60px\">Analysis</b>",
                      "<span style=\"color:#AD0000\">⚠ <b>Drift detected</b></span>",
                      "[80:99]",
                      "From <b>Feb-01-2020</b> to <b>Feb-01-2020</b>",
                      0.2199
                    ],
                    [
                      "Jensen-Shannon distance for <b>feature_8</b>",
                      "<b style=\"color:#00c8e5;line-height:60px\">Analysis</b>",
                      "<span style=\"color:#AD0000\">⚠ <b>Drift detected</b></span>",
                      "[100:119]",
                      "From <b>Feb-01-2020</b> to <b>Feb-01-2020</b>",
                      0.4494
                    ],
                    [
                      "Jensen-Shannon distance for <b>feature_8</b>",
                      "<b style=\"color:#00c8e5;line-height:60px\">Analysis</b>",
                      "<span style=\"color:#AD0000\">⚠ <b>Drift detected</b></span>",
                      "[120:139]",
                      "From <b>Feb-01-2020</b> to <b>Feb-01-2020</b>",
                      0.2736
                    ],
                    [
                      "Jensen-Shannon distance for <b>feature_8</b>",
                      "<b style=\"color:#00c8e5;line-height:60px\">Analysis</b>",
                      "<span style=\"color:#AD0000\">⚠ <b>Drift detected</b></span>",
                      "[140:159]",
                      "From <b>Feb-01-2020</b> to <b>Feb-01-2020</b>",
                      0.3191
                    ],
                    [
                      "Jensen-Shannon distance for <b>feature_8</b>",
                      "<b style=\"color:#00c8e5;line-height:60px\">Analysis</b>",
                      "<span style=\"color:#AD0000\">⚠ <b>Drift detected</b></span>",
                      "[160:179]",
                      "From <b>Feb-01-2020</b> to <b>Feb-01-2020</b>",
                      0.3196
                    ],
                    [
                      "Jensen-Shannon distance for <b>feature_8</b>",
                      "<b style=\"color:#00c8e5;line-height:60px\">Analysis</b>",
                      "<span style=\"color:#AD0000\">⚠ <b>Drift detected</b></span>",
                      "[180:199]",
                      "From <b>Feb-01-2020</b> to <b>Feb-01-2020</b>",
                      0.2674
                    ]
                  ],
                  "hovertemplate": "%{customdata[1]} &nbsp; &nbsp; %{customdata[2]} <br />Chunk: <b>%{customdata[3]}</b> &nbsp; &nbsp; %{customdata[4]} <br />%{customdata[0]}: <b>%{customdata[5]}</b><b r /><extra></extra>",
                  "legendgroup": "metric_analysis",
                  "marker": {
                    "color": "#00c8e5",
                    "size": 5,
                    "symbol": "circle"
                  },
                  "mode": "markers",
                  "name": "Method",
                  "showlegend": false,
                  "type": "scatter",
                  "x": [
                    "2020-02-01T00:00:00",
                    "2020-02-01T00:00:00",
                    "2020-02-01T00:00:00",
                    "2020-02-01T00:00:00",
                    "2020-02-01T00:00:00",
                    "2020-02-01T00:00:00",
                    "2020-02-01T00:00:00",
                    "2020-02-01T00:00:00",
                    "2020-02-01T00:00:00",
                    "2020-02-01T00:00:00"
                  ],
                  "xaxis": "x9",
                  "y": [
                    0.3228621263209525,
                    0.3300876595107539,
                    0.3879959601410646,
                    0.3155128110347565,
                    0.2198842938577069,
                    0.44938005593013125,
                    0.2736469469552035,
                    0.3190527060887429,
                    0.3195593484282167,
                    0.2674387706788387,
                    0.2674387706788387
                  ],
                  "yaxis": "y9"
                },
                {
                  "hoverinfo": "skip",
                  "legendgroup": "alert",
                  "marker": {
                    "color": "#DD4040",
                    "size": 8,
                    "symbol": "diamond"
                  },
                  "mode": "markers",
                  "name": "Alert",
                  "showlegend": false,
                  "type": "scatter",
                  "x": [
                    "2020-02-01T00:00:00",
                    "2020-02-01T00:00:00",
                    "2020-02-01T00:00:00",
                    "2020-02-01T00:00:00",
                    "2020-02-01T00:00:00",
                    "2020-02-01T00:00:00",
                    "2020-02-01T00:00:00",
                    "2020-02-01T00:00:00",
                    "2020-02-01T00:00:00",
                    "2020-02-01T00:00:00"
                  ],
                  "xaxis": "x9",
                  "y": [
                    0.3228621263209525,
                    0.3300876595107539,
                    0.3879959601410646,
                    0.3155128110347565,
                    0.2198842938577069,
                    0.44938005593013125,
                    0.2736469469552035,
                    0.3190527060887429,
                    0.3195593484282167,
                    0.2674387706788387
                  ],
                  "yaxis": "y9"
                },
                {
                  "hoverinfo": "skip",
                  "legendgroup": "thresh",
                  "line": {
                    "color": "#DD4040",
                    "dash": "dash",
                    "width": 2
                  },
                  "mode": "lines",
                  "name": "Threshold",
                  "showlegend": false,
                  "type": "scatter",
                  "x": [
                    "2020-01-01T00:00:00",
                    "2020-01-01T00:00:00",
                    "2020-01-01T00:00:00",
                    "2020-01-01T00:00:00",
                    "2020-01-01T00:00:00",
                    "2020-01-01T00:00:00",
                    "2020-01-01T00:00:00",
                    "2020-01-01T00:00:00",
                    "2020-01-01T00:00:00",
                    "2020-01-01T00:00:00",
                    "2020-01-01T00:00:00"
                  ],
                  "xaxis": "x9",
                  "y": [
                    0.1,
                    0.1,
                    0.1,
                    0.1,
                    0.1,
                    0.1,
                    0.1,
                    0.1,
                    0.1,
                    0.1,
                    0.1
                  ],
                  "yaxis": "y9"
                },
                {
                  "hoverinfo": "skip",
                  "legendgroup": "thresh",
                  "line": {
                    "color": "#DD4040",
                    "dash": "dash",
                    "width": 2
                  },
                  "mode": "lines",
                  "name": "Threshold",
                  "showlegend": false,
                  "type": "scatter",
                  "x": [
                    "2020-02-01T00:00:00",
                    "2020-02-01T00:00:00",
                    "2020-02-01T00:00:00",
                    "2020-02-01T00:00:00",
                    "2020-02-01T00:00:00",
                    "2020-02-01T00:00:00",
                    "2020-02-01T00:00:00",
                    "2020-02-01T00:00:00",
                    "2020-02-01T00:00:00",
                    "2020-02-01T00:00:00",
                    "2020-02-01T00:00:00"
                  ],
                  "xaxis": "x9",
                  "y": [
                    0.1,
                    0.1,
                    0.1,
                    0.1,
                    0.1,
                    0.1,
                    0.1,
                    0.1,
                    0.1,
                    0.1,
                    0.1
                  ],
                  "yaxis": "y9"
                },
                {
                  "hoverinfo": "skip",
                  "legendgroup": "metric_reference",
                  "line": {
                    "color": "#00c8e5",
                    "shape": "hv",
                    "width": 2
                  },
                  "mode": "lines",
                  "name": "Method",
                  "showlegend": false,
                  "type": "scatter",
                  "x": [
                    "2020-01-01T00:00:00",
                    "2020-01-01T00:00:00",
                    "2020-01-01T00:00:00",
                    "2020-01-01T00:00:00",
                    "2020-01-01T00:00:00",
                    "2020-01-01T00:00:00",
                    "2020-01-01T00:00:00",
                    "2020-01-01T00:00:00",
                    "2020-01-01T00:00:00",
                    "2020-01-01T00:00:00",
                    "2020-01-01T00:00:00"
                  ],
                  "xaxis": "x10",
                  "y": [
                    0.27326025855714087,
                    0.28633743070270296,
                    0.32199203652455716,
                    0.4115050429748498,
                    0.20997715852627208,
                    0.23490200458244745,
                    0.3198562778410081,
                    0.2488304456297099,
                    0.2410884613710651,
                    0.1998265034754256,
                    0.1998265034754256
                  ],
                  "yaxis": "y10"
                },
                {
                  "customdata": [
                    [
                      "Jensen-Shannon distance for <b>feature_9</b>",
                      "<b style=\"color:#00c8e5;line-height:60px\">Reference</b>",
                      "<span style=\"color:#AD0000\">⚠ <b>Drift detected</b></span>",
                      "[0:19]",
                      "From <b>Jan-01-2020</b> to <b>Jan-01-2020</b>",
                      0.2733
                    ],
                    [
                      "Jensen-Shannon distance for <b>feature_9</b>",
                      "<b style=\"color:#00c8e5;line-height:60px\">Reference</b>",
                      "<span style=\"color:#AD0000\">⚠ <b>Drift detected</b></span>",
                      "[20:39]",
                      "From <b>Jan-01-2020</b> to <b>Jan-01-2020</b>",
                      0.2863
                    ],
                    [
                      "Jensen-Shannon distance for <b>feature_9</b>",
                      "<b style=\"color:#00c8e5;line-height:60px\">Reference</b>",
                      "<span style=\"color:#AD0000\">⚠ <b>Drift detected</b></span>",
                      "[40:59]",
                      "From <b>Jan-01-2020</b> to <b>Jan-01-2020</b>",
                      0.322
                    ],
                    [
                      "Jensen-Shannon distance for <b>feature_9</b>",
                      "<b style=\"color:#00c8e5;line-height:60px\">Reference</b>",
                      "<span style=\"color:#AD0000\">⚠ <b>Drift detected</b></span>",
                      "[60:79]",
                      "From <b>Jan-01-2020</b> to <b>Jan-01-2020</b>",
                      0.4115
                    ],
                    [
                      "Jensen-Shannon distance for <b>feature_9</b>",
                      "<b style=\"color:#00c8e5;line-height:60px\">Reference</b>",
                      "<span style=\"color:#AD0000\">⚠ <b>Drift detected</b></span>",
                      "[80:99]",
                      "From <b>Jan-01-2020</b> to <b>Jan-01-2020</b>",
                      0.21
                    ],
                    [
                      "Jensen-Shannon distance for <b>feature_9</b>",
                      "<b style=\"color:#00c8e5;line-height:60px\">Reference</b>",
                      "<span style=\"color:#AD0000\">⚠ <b>Drift detected</b></span>",
                      "[100:119]",
                      "From <b>Jan-01-2020</b> to <b>Jan-01-2020</b>",
                      0.2349
                    ],
                    [
                      "Jensen-Shannon distance for <b>feature_9</b>",
                      "<b style=\"color:#00c8e5;line-height:60px\">Reference</b>",
                      "<span style=\"color:#AD0000\">⚠ <b>Drift detected</b></span>",
                      "[120:139]",
                      "From <b>Jan-01-2020</b> to <b>Jan-01-2020</b>",
                      0.3199
                    ],
                    [
                      "Jensen-Shannon distance for <b>feature_9</b>",
                      "<b style=\"color:#00c8e5;line-height:60px\">Reference</b>",
                      "<span style=\"color:#AD0000\">⚠ <b>Drift detected</b></span>",
                      "[140:159]",
                      "From <b>Jan-01-2020</b> to <b>Jan-01-2020</b>",
                      0.2488
                    ],
                    [
                      "Jensen-Shannon distance for <b>feature_9</b>",
                      "<b style=\"color:#00c8e5;line-height:60px\">Reference</b>",
                      "<span style=\"color:#AD0000\">⚠ <b>Drift detected</b></span>",
                      "[160:179]",
                      "From <b>Jan-01-2020</b> to <b>Jan-01-2020</b>",
                      0.2411
                    ],
                    [
                      "Jensen-Shannon distance for <b>feature_9</b>",
                      "<b style=\"color:#00c8e5;line-height:60px\">Reference</b>",
                      "<span style=\"color:#AD0000\">⚠ <b>Drift detected</b></span>",
                      "[180:199]",
                      "From <b>Jan-01-2020</b> to <b>Jan-01-2020</b>",
                      0.1998
                    ]
                  ],
                  "hovertemplate": "%{customdata[1]} &nbsp; &nbsp; %{customdata[2]} <br />Chunk: <b>%{customdata[3]}</b> &nbsp; &nbsp; %{customdata[4]} <br />%{customdata[0]}: <b>%{customdata[5]}</b><b r /><extra></extra>",
                  "legendgroup": "metric_reference",
                  "marker": {
                    "color": "#00c8e5",
                    "size": 5,
                    "symbol": "circle"
                  },
                  "mode": "markers",
                  "name": "Method",
                  "showlegend": false,
                  "type": "scatter",
                  "x": [
                    "2020-01-01T00:00:00",
                    "2020-01-01T00:00:00",
                    "2020-01-01T00:00:00",
                    "2020-01-01T00:00:00",
                    "2020-01-01T00:00:00",
                    "2020-01-01T00:00:00",
                    "2020-01-01T00:00:00",
                    "2020-01-01T00:00:00",
                    "2020-01-01T00:00:00",
                    "2020-01-01T00:00:00"
                  ],
                  "xaxis": "x10",
                  "y": [
                    0.27326025855714087,
                    0.28633743070270296,
                    0.32199203652455716,
                    0.4115050429748498,
                    0.20997715852627208,
                    0.23490200458244745,
                    0.3198562778410081,
                    0.2488304456297099,
                    0.2410884613710651,
                    0.1998265034754256,
                    0.1998265034754256
                  ],
                  "yaxis": "y10"
                },
                {
                  "hoverinfo": "skip",
                  "legendgroup": "metric_analysis",
                  "line": {
                    "color": "#00c8e5",
                    "shape": "hv",
                    "width": 2
                  },
                  "mode": "lines",
                  "name": "Method",
                  "showlegend": false,
                  "type": "scatter",
                  "x": [
                    "2020-02-01T00:00:00",
                    "2020-02-01T00:00:00",
                    "2020-02-01T00:00:00",
                    "2020-02-01T00:00:00",
                    "2020-02-01T00:00:00",
                    "2020-02-01T00:00:00",
                    "2020-02-01T00:00:00",
                    "2020-02-01T00:00:00",
                    "2020-02-01T00:00:00",
                    "2020-02-01T00:00:00",
                    "2020-02-01T00:00:00"
                  ],
                  "xaxis": "x10",
                  "y": [
                    0.27326025855714087,
                    0.28633743070270296,
                    0.32199203652455716,
                    0.4115050429748498,
                    0.20997715852627208,
                    0.23490200458244745,
                    0.3198562778410081,
                    0.2488304456297099,
                    0.2410884613710651,
                    0.1998265034754256,
                    0.1998265034754256
                  ],
                  "yaxis": "y10"
                },
                {
                  "customdata": [
                    [
                      "Jensen-Shannon distance for <b>feature_9</b>",
                      "<b style=\"color:#00c8e5;line-height:60px\">Analysis</b>",
                      "<span style=\"color:#AD0000\">⚠ <b>Drift detected</b></span>",
                      "[0:19]",
                      "From <b>Feb-01-2020</b> to <b>Feb-01-2020</b>",
                      0.2733
                    ],
                    [
                      "Jensen-Shannon distance for <b>feature_9</b>",
                      "<b style=\"color:#00c8e5;line-height:60px\">Analysis</b>",
                      "<span style=\"color:#AD0000\">⚠ <b>Drift detected</b></span>",
                      "[20:39]",
                      "From <b>Feb-01-2020</b> to <b>Feb-01-2020</b>",
                      0.2863
                    ],
                    [
                      "Jensen-Shannon distance for <b>feature_9</b>",
                      "<b style=\"color:#00c8e5;line-height:60px\">Analysis</b>",
                      "<span style=\"color:#AD0000\">⚠ <b>Drift detected</b></span>",
                      "[40:59]",
                      "From <b>Feb-01-2020</b> to <b>Feb-01-2020</b>",
                      0.322
                    ],
                    [
                      "Jensen-Shannon distance for <b>feature_9</b>",
                      "<b style=\"color:#00c8e5;line-height:60px\">Analysis</b>",
                      "<span style=\"color:#AD0000\">⚠ <b>Drift detected</b></span>",
                      "[60:79]",
                      "From <b>Feb-01-2020</b> to <b>Feb-01-2020</b>",
                      0.4115
                    ],
                    [
                      "Jensen-Shannon distance for <b>feature_9</b>",
                      "<b style=\"color:#00c8e5;line-height:60px\">Analysis</b>",
                      "<span style=\"color:#AD0000\">⚠ <b>Drift detected</b></span>",
                      "[80:99]",
                      "From <b>Feb-01-2020</b> to <b>Feb-01-2020</b>",
                      0.21
                    ],
                    [
                      "Jensen-Shannon distance for <b>feature_9</b>",
                      "<b style=\"color:#00c8e5;line-height:60px\">Analysis</b>",
                      "<span style=\"color:#AD0000\">⚠ <b>Drift detected</b></span>",
                      "[100:119]",
                      "From <b>Feb-01-2020</b> to <b>Feb-01-2020</b>",
                      0.2349
                    ],
                    [
                      "Jensen-Shannon distance for <b>feature_9</b>",
                      "<b style=\"color:#00c8e5;line-height:60px\">Analysis</b>",
                      "<span style=\"color:#AD0000\">⚠ <b>Drift detected</b></span>",
                      "[120:139]",
                      "From <b>Feb-01-2020</b> to <b>Feb-01-2020</b>",
                      0.3199
                    ],
                    [
                      "Jensen-Shannon distance for <b>feature_9</b>",
                      "<b style=\"color:#00c8e5;line-height:60px\">Analysis</b>",
                      "<span style=\"color:#AD0000\">⚠ <b>Drift detected</b></span>",
                      "[140:159]",
                      "From <b>Feb-01-2020</b> to <b>Feb-01-2020</b>",
                      0.2488
                    ],
                    [
                      "Jensen-Shannon distance for <b>feature_9</b>",
                      "<b style=\"color:#00c8e5;line-height:60px\">Analysis</b>",
                      "<span style=\"color:#AD0000\">⚠ <b>Drift detected</b></span>",
                      "[160:179]",
                      "From <b>Feb-01-2020</b> to <b>Feb-01-2020</b>",
                      0.2411
                    ],
                    [
                      "Jensen-Shannon distance for <b>feature_9</b>",
                      "<b style=\"color:#00c8e5;line-height:60px\">Analysis</b>",
                      "<span style=\"color:#AD0000\">⚠ <b>Drift detected</b></span>",
                      "[180:199]",
                      "From <b>Feb-01-2020</b> to <b>Feb-01-2020</b>",
                      0.1998
                    ]
                  ],
                  "hovertemplate": "%{customdata[1]} &nbsp; &nbsp; %{customdata[2]} <br />Chunk: <b>%{customdata[3]}</b> &nbsp; &nbsp; %{customdata[4]} <br />%{customdata[0]}: <b>%{customdata[5]}</b><b r /><extra></extra>",
                  "legendgroup": "metric_analysis",
                  "marker": {
                    "color": "#00c8e5",
                    "size": 5,
                    "symbol": "circle"
                  },
                  "mode": "markers",
                  "name": "Method",
                  "showlegend": false,
                  "type": "scatter",
                  "x": [
                    "2020-02-01T00:00:00",
                    "2020-02-01T00:00:00",
                    "2020-02-01T00:00:00",
                    "2020-02-01T00:00:00",
                    "2020-02-01T00:00:00",
                    "2020-02-01T00:00:00",
                    "2020-02-01T00:00:00",
                    "2020-02-01T00:00:00",
                    "2020-02-01T00:00:00",
                    "2020-02-01T00:00:00"
                  ],
                  "xaxis": "x10",
                  "y": [
                    0.27326025855714087,
                    0.28633743070270296,
                    0.32199203652455716,
                    0.4115050429748498,
                    0.20997715852627208,
                    0.23490200458244745,
                    0.3198562778410081,
                    0.2488304456297099,
                    0.2410884613710651,
                    0.1998265034754256,
                    0.1998265034754256
                  ],
                  "yaxis": "y10"
                },
                {
                  "hoverinfo": "skip",
                  "legendgroup": "alert",
                  "marker": {
                    "color": "#DD4040",
                    "size": 8,
                    "symbol": "diamond"
                  },
                  "mode": "markers",
                  "name": "Alert",
                  "showlegend": false,
                  "type": "scatter",
                  "x": [
                    "2020-02-01T00:00:00",
                    "2020-02-01T00:00:00",
                    "2020-02-01T00:00:00",
                    "2020-02-01T00:00:00",
                    "2020-02-01T00:00:00",
                    "2020-02-01T00:00:00",
                    "2020-02-01T00:00:00",
                    "2020-02-01T00:00:00",
                    "2020-02-01T00:00:00",
                    "2020-02-01T00:00:00"
                  ],
                  "xaxis": "x10",
                  "y": [
                    0.27326025855714087,
                    0.28633743070270296,
                    0.32199203652455716,
                    0.4115050429748498,
                    0.20997715852627208,
                    0.23490200458244745,
                    0.3198562778410081,
                    0.2488304456297099,
                    0.2410884613710651,
                    0.1998265034754256
                  ],
                  "yaxis": "y10"
                },
                {
                  "hoverinfo": "skip",
                  "legendgroup": "thresh",
                  "line": {
                    "color": "#DD4040",
                    "dash": "dash",
                    "width": 2
                  },
                  "mode": "lines",
                  "name": "Threshold",
                  "showlegend": false,
                  "type": "scatter",
                  "x": [
                    "2020-01-01T00:00:00",
                    "2020-01-01T00:00:00",
                    "2020-01-01T00:00:00",
                    "2020-01-01T00:00:00",
                    "2020-01-01T00:00:00",
                    "2020-01-01T00:00:00",
                    "2020-01-01T00:00:00",
                    "2020-01-01T00:00:00",
                    "2020-01-01T00:00:00",
                    "2020-01-01T00:00:00",
                    "2020-01-01T00:00:00"
                  ],
                  "xaxis": "x10",
                  "y": [
                    0.1,
                    0.1,
                    0.1,
                    0.1,
                    0.1,
                    0.1,
                    0.1,
                    0.1,
                    0.1,
                    0.1,
                    0.1
                  ],
                  "yaxis": "y10"
                },
                {
                  "hoverinfo": "skip",
                  "legendgroup": "thresh",
                  "line": {
                    "color": "#DD4040",
                    "dash": "dash",
                    "width": 2
                  },
                  "mode": "lines",
                  "name": "Threshold",
                  "showlegend": false,
                  "type": "scatter",
                  "x": [
                    "2020-02-01T00:00:00",
                    "2020-02-01T00:00:00",
                    "2020-02-01T00:00:00",
                    "2020-02-01T00:00:00",
                    "2020-02-01T00:00:00",
                    "2020-02-01T00:00:00",
                    "2020-02-01T00:00:00",
                    "2020-02-01T00:00:00",
                    "2020-02-01T00:00:00",
                    "2020-02-01T00:00:00",
                    "2020-02-01T00:00:00"
                  ],
                  "xaxis": "x10",
                  "y": [
                    0.1,
                    0.1,
                    0.1,
                    0.1,
                    0.1,
                    0.1,
                    0.1,
                    0.1,
                    0.1,
                    0.1,
                    0.1
                  ],
                  "yaxis": "y10"
                }
              ],
              "layout": {
                "annotations": [
                  {
                    "font": {
                      "size": 16
                    },
                    "showarrow": false,
                    "text": "Jensen-Shannon distance for <b>feature_0</b>",
                    "x": 0.5,
                    "xanchor": "center",
                    "xref": "paper",
                    "y": 1,
                    "yanchor": "bottom",
                    "yref": "paper"
                  },
                  {
                    "font": {
                      "size": 16
                    },
                    "showarrow": false,
                    "text": "Jensen-Shannon distance for <b>feature_1</b>",
                    "x": 0.5,
                    "xanchor": "center",
                    "xref": "paper",
                    "y": 0.8950000000000001,
                    "yanchor": "bottom",
                    "yref": "paper"
                  },
                  {
                    "font": {
                      "size": 16
                    },
                    "showarrow": false,
                    "text": "Jensen-Shannon distance for <b>feature_2</b>",
                    "x": 0.5,
                    "xanchor": "center",
                    "xref": "paper",
                    "y": 0.7900000000000001,
                    "yanchor": "bottom",
                    "yref": "paper"
                  },
                  {
                    "font": {
                      "size": 16
                    },
                    "showarrow": false,
                    "text": "Jensen-Shannon distance for <b>feature_3</b>",
                    "x": 0.5,
                    "xanchor": "center",
                    "xref": "paper",
                    "y": 0.6850000000000002,
                    "yanchor": "bottom",
                    "yref": "paper"
                  },
                  {
                    "font": {
                      "size": 16
                    },
                    "showarrow": false,
                    "text": "Jensen-Shannon distance for <b>feature_4</b>",
                    "x": 0.5,
                    "xanchor": "center",
                    "xref": "paper",
                    "y": 0.5800000000000001,
                    "yanchor": "bottom",
                    "yref": "paper"
                  },
                  {
                    "font": {
                      "size": 16
                    },
                    "showarrow": false,
                    "text": "Jensen-Shannon distance for <b>feature_5</b>",
                    "x": 0.5,
                    "xanchor": "center",
                    "xref": "paper",
                    "y": 0.47500000000000003,
                    "yanchor": "bottom",
                    "yref": "paper"
                  },
                  {
                    "font": {
                      "size": 16
                    },
                    "showarrow": false,
                    "text": "Jensen-Shannon distance for <b>feature_6</b>",
                    "x": 0.5,
                    "xanchor": "center",
                    "xref": "paper",
                    "y": 0.37000000000000005,
                    "yanchor": "bottom",
                    "yref": "paper"
                  },
                  {
                    "font": {
                      "size": 16
                    },
                    "showarrow": false,
                    "text": "Jensen-Shannon distance for <b>feature_7</b>",
                    "x": 0.5,
                    "xanchor": "center",
                    "xref": "paper",
                    "y": 0.265,
                    "yanchor": "bottom",
                    "yref": "paper"
                  },
                  {
                    "font": {
                      "size": 16
                    },
                    "showarrow": false,
                    "text": "Jensen-Shannon distance for <b>feature_8</b>",
                    "x": 0.5,
                    "xanchor": "center",
                    "xref": "paper",
                    "y": 0.16000000000000003,
                    "yanchor": "bottom",
                    "yref": "paper"
                  },
                  {
                    "font": {
                      "size": 16
                    },
                    "showarrow": false,
                    "text": "Jensen-Shannon distance for <b>feature_9</b>",
                    "x": 0.5,
                    "xanchor": "center",
                    "xref": "paper",
                    "y": 0.05500000000000001,
                    "yanchor": "bottom",
                    "yref": "paper"
                  },
                  {
                    "showarrow": false,
                    "text": "Reference",
                    "x": "2020-01-01T00:00:00",
                    "xref": "x",
                    "xshift": 10,
                    "y": 1.01,
                    "yref": "y domain"
                  },
                  {
                    "showarrow": false,
                    "text": "Analysis",
                    "x": "2020-02-01T00:00:00",
                    "xref": "x",
                    "xshift": 15,
                    "y": 1.01,
                    "yref": "y domain"
                  },
                  {
                    "showarrow": false,
                    "text": "Reference",
                    "x": "2020-01-01T00:00:00",
                    "xref": "x2",
                    "xshift": 10,
                    "y": 1.01,
                    "yref": "y2 domain"
                  },
                  {
                    "showarrow": false,
                    "text": "Analysis",
                    "x": "2020-02-01T00:00:00",
                    "xref": "x2",
                    "xshift": 15,
                    "y": 1.01,
                    "yref": "y2 domain"
                  },
                  {
                    "showarrow": false,
                    "text": "Reference",
                    "x": "2020-01-01T00:00:00",
                    "xref": "x3",
                    "xshift": 10,
                    "y": 1.01,
                    "yref": "y3 domain"
                  },
                  {
                    "showarrow": false,
                    "text": "Analysis",
                    "x": "2020-02-01T00:00:00",
                    "xref": "x3",
                    "xshift": 15,
                    "y": 1.01,
                    "yref": "y3 domain"
                  },
                  {
                    "showarrow": false,
                    "text": "Reference",
                    "x": "2020-01-01T00:00:00",
                    "xref": "x4",
                    "xshift": 10,
                    "y": 1.01,
                    "yref": "y4 domain"
                  },
                  {
                    "showarrow": false,
                    "text": "Analysis",
                    "x": "2020-02-01T00:00:00",
                    "xref": "x4",
                    "xshift": 15,
                    "y": 1.01,
                    "yref": "y4 domain"
                  },
                  {
                    "showarrow": false,
                    "text": "Reference",
                    "x": "2020-01-01T00:00:00",
                    "xref": "x5",
                    "xshift": 10,
                    "y": 1.01,
                    "yref": "y5 domain"
                  },
                  {
                    "showarrow": false,
                    "text": "Analysis",
                    "x": "2020-02-01T00:00:00",
                    "xref": "x5",
                    "xshift": 15,
                    "y": 1.01,
                    "yref": "y5 domain"
                  },
                  {
                    "showarrow": false,
                    "text": "Reference",
                    "x": "2020-01-01T00:00:00",
                    "xref": "x6",
                    "xshift": 10,
                    "y": 1.01,
                    "yref": "y6 domain"
                  },
                  {
                    "showarrow": false,
                    "text": "Analysis",
                    "x": "2020-02-01T00:00:00",
                    "xref": "x6",
                    "xshift": 15,
                    "y": 1.01,
                    "yref": "y6 domain"
                  },
                  {
                    "showarrow": false,
                    "text": "Reference",
                    "x": "2020-01-01T00:00:00",
                    "xref": "x7",
                    "xshift": 10,
                    "y": 1.01,
                    "yref": "y7 domain"
                  },
                  {
                    "showarrow": false,
                    "text": "Analysis",
                    "x": "2020-02-01T00:00:00",
                    "xref": "x7",
                    "xshift": 15,
                    "y": 1.01,
                    "yref": "y7 domain"
                  },
                  {
                    "showarrow": false,
                    "text": "Reference",
                    "x": "2020-01-01T00:00:00",
                    "xref": "x8",
                    "xshift": 10,
                    "y": 1.01,
                    "yref": "y8 domain"
                  },
                  {
                    "showarrow": false,
                    "text": "Analysis",
                    "x": "2020-02-01T00:00:00",
                    "xref": "x8",
                    "xshift": 15,
                    "y": 1.01,
                    "yref": "y8 domain"
                  },
                  {
                    "showarrow": false,
                    "text": "Reference",
                    "x": "2020-01-01T00:00:00",
                    "xref": "x9",
                    "xshift": 10,
                    "y": 1.01,
                    "yref": "y9 domain"
                  },
                  {
                    "showarrow": false,
                    "text": "Analysis",
                    "x": "2020-02-01T00:00:00",
                    "xref": "x9",
                    "xshift": 15,
                    "y": 1.01,
                    "yref": "y9 domain"
                  },
                  {
                    "showarrow": false,
                    "text": "Reference",
                    "x": "2020-01-01T00:00:00",
                    "xref": "x10",
                    "xshift": 10,
                    "y": 1.01,
                    "yref": "y10 domain"
                  },
                  {
                    "showarrow": false,
                    "text": "Analysis",
                    "x": "2020-02-01T00:00:00",
                    "xref": "x10",
                    "xshift": 15,
                    "y": 1.01,
                    "yref": "y10 domain"
                  }
                ],
                "height": 5000,
                "hoverlabel": {
                  "bgcolor": "white",
                  "font": {
                    "size": 14
                  }
                },
                "legend": {
                  "itemclick": false,
                  "itemdoubleclick": false,
                  "traceorder": "grouped"
                },
                "paper_bgcolor": "rgba(255,255,255,1)",
                "plot_bgcolor": "rgba(255,255,255,1)",
                "shapes": [
                  {
                    "layer": "below",
                    "line": {
                      "color": "#666666",
                      "width": 1
                    },
                    "type": "line",
                    "x0": "2020-02-01T00:00:00",
                    "x1": "2020-02-01T00:00:00",
                    "xref": "x",
                    "y0": 0,
                    "y1": 1,
                    "yref": "y domain"
                  },
                  {
                    "layer": "below",
                    "line": {
                      "color": "#666666",
                      "width": 1
                    },
                    "type": "line",
                    "x0": "2020-02-01T00:00:00",
                    "x1": "2020-02-01T00:00:00",
                    "xref": "x",
                    "y0": 0,
                    "y1": 1,
                    "yref": "y domain"
                  },
                  {
                    "layer": "below",
                    "line": {
                      "color": "#666666",
                      "width": 1
                    },
                    "type": "line",
                    "x0": "2020-02-01T00:00:00",
                    "x1": "2020-02-01T00:00:00",
                    "xref": "x2",
                    "y0": 0,
                    "y1": 1,
                    "yref": "y2 domain"
                  },
                  {
                    "layer": "below",
                    "line": {
                      "color": "#666666",
                      "width": 1
                    },
                    "type": "line",
                    "x0": "2020-02-01T00:00:00",
                    "x1": "2020-02-01T00:00:00",
                    "xref": "x",
                    "y0": 0,
                    "y1": 1,
                    "yref": "y domain"
                  },
                  {
                    "layer": "below",
                    "line": {
                      "color": "#666666",
                      "width": 1
                    },
                    "type": "line",
                    "x0": "2020-02-01T00:00:00",
                    "x1": "2020-02-01T00:00:00",
                    "xref": "x2",
                    "y0": 0,
                    "y1": 1,
                    "yref": "y2 domain"
                  },
                  {
                    "layer": "below",
                    "line": {
                      "color": "#666666",
                      "width": 1
                    },
                    "type": "line",
                    "x0": "2020-02-01T00:00:00",
                    "x1": "2020-02-01T00:00:00",
                    "xref": "x3",
                    "y0": 0,
                    "y1": 1,
                    "yref": "y3 domain"
                  },
                  {
                    "layer": "below",
                    "line": {
                      "color": "#666666",
                      "width": 1
                    },
                    "type": "line",
                    "x0": "2020-02-01T00:00:00",
                    "x1": "2020-02-01T00:00:00",
                    "xref": "x",
                    "y0": 0,
                    "y1": 1,
                    "yref": "y domain"
                  },
                  {
                    "layer": "below",
                    "line": {
                      "color": "#666666",
                      "width": 1
                    },
                    "type": "line",
                    "x0": "2020-02-01T00:00:00",
                    "x1": "2020-02-01T00:00:00",
                    "xref": "x2",
                    "y0": 0,
                    "y1": 1,
                    "yref": "y2 domain"
                  },
                  {
                    "layer": "below",
                    "line": {
                      "color": "#666666",
                      "width": 1
                    },
                    "type": "line",
                    "x0": "2020-02-01T00:00:00",
                    "x1": "2020-02-01T00:00:00",
                    "xref": "x3",
                    "y0": 0,
                    "y1": 1,
                    "yref": "y3 domain"
                  },
                  {
                    "layer": "below",
                    "line": {
                      "color": "#666666",
                      "width": 1
                    },
                    "type": "line",
                    "x0": "2020-02-01T00:00:00",
                    "x1": "2020-02-01T00:00:00",
                    "xref": "x4",
                    "y0": 0,
                    "y1": 1,
                    "yref": "y4 domain"
                  },
                  {
                    "layer": "below",
                    "line": {
                      "color": "#666666",
                      "width": 1
                    },
                    "type": "line",
                    "x0": "2020-02-01T00:00:00",
                    "x1": "2020-02-01T00:00:00",
                    "xref": "x",
                    "y0": 0,
                    "y1": 1,
                    "yref": "y domain"
                  },
                  {
                    "layer": "below",
                    "line": {
                      "color": "#666666",
                      "width": 1
                    },
                    "type": "line",
                    "x0": "2020-02-01T00:00:00",
                    "x1": "2020-02-01T00:00:00",
                    "xref": "x2",
                    "y0": 0,
                    "y1": 1,
                    "yref": "y2 domain"
                  },
                  {
                    "layer": "below",
                    "line": {
                      "color": "#666666",
                      "width": 1
                    },
                    "type": "line",
                    "x0": "2020-02-01T00:00:00",
                    "x1": "2020-02-01T00:00:00",
                    "xref": "x3",
                    "y0": 0,
                    "y1": 1,
                    "yref": "y3 domain"
                  },
                  {
                    "layer": "below",
                    "line": {
                      "color": "#666666",
                      "width": 1
                    },
                    "type": "line",
                    "x0": "2020-02-01T00:00:00",
                    "x1": "2020-02-01T00:00:00",
                    "xref": "x4",
                    "y0": 0,
                    "y1": 1,
                    "yref": "y4 domain"
                  },
                  {
                    "layer": "below",
                    "line": {
                      "color": "#666666",
                      "width": 1
                    },
                    "type": "line",
                    "x0": "2020-02-01T00:00:00",
                    "x1": "2020-02-01T00:00:00",
                    "xref": "x5",
                    "y0": 0,
                    "y1": 1,
                    "yref": "y5 domain"
                  },
                  {
                    "layer": "below",
                    "line": {
                      "color": "#666666",
                      "width": 1
                    },
                    "type": "line",
                    "x0": "2020-02-01T00:00:00",
                    "x1": "2020-02-01T00:00:00",
                    "xref": "x",
                    "y0": 0,
                    "y1": 1,
                    "yref": "y domain"
                  },
                  {
                    "layer": "below",
                    "line": {
                      "color": "#666666",
                      "width": 1
                    },
                    "type": "line",
                    "x0": "2020-02-01T00:00:00",
                    "x1": "2020-02-01T00:00:00",
                    "xref": "x2",
                    "y0": 0,
                    "y1": 1,
                    "yref": "y2 domain"
                  },
                  {
                    "layer": "below",
                    "line": {
                      "color": "#666666",
                      "width": 1
                    },
                    "type": "line",
                    "x0": "2020-02-01T00:00:00",
                    "x1": "2020-02-01T00:00:00",
                    "xref": "x3",
                    "y0": 0,
                    "y1": 1,
                    "yref": "y3 domain"
                  },
                  {
                    "layer": "below",
                    "line": {
                      "color": "#666666",
                      "width": 1
                    },
                    "type": "line",
                    "x0": "2020-02-01T00:00:00",
                    "x1": "2020-02-01T00:00:00",
                    "xref": "x4",
                    "y0": 0,
                    "y1": 1,
                    "yref": "y4 domain"
                  },
                  {
                    "layer": "below",
                    "line": {
                      "color": "#666666",
                      "width": 1
                    },
                    "type": "line",
                    "x0": "2020-02-01T00:00:00",
                    "x1": "2020-02-01T00:00:00",
                    "xref": "x5",
                    "y0": 0,
                    "y1": 1,
                    "yref": "y5 domain"
                  },
                  {
                    "layer": "below",
                    "line": {
                      "color": "#666666",
                      "width": 1
                    },
                    "type": "line",
                    "x0": "2020-02-01T00:00:00",
                    "x1": "2020-02-01T00:00:00",
                    "xref": "x6",
                    "y0": 0,
                    "y1": 1,
                    "yref": "y6 domain"
                  },
                  {
                    "layer": "below",
                    "line": {
                      "color": "#666666",
                      "width": 1
                    },
                    "type": "line",
                    "x0": "2020-02-01T00:00:00",
                    "x1": "2020-02-01T00:00:00",
                    "xref": "x",
                    "y0": 0,
                    "y1": 1,
                    "yref": "y domain"
                  },
                  {
                    "layer": "below",
                    "line": {
                      "color": "#666666",
                      "width": 1
                    },
                    "type": "line",
                    "x0": "2020-02-01T00:00:00",
                    "x1": "2020-02-01T00:00:00",
                    "xref": "x2",
                    "y0": 0,
                    "y1": 1,
                    "yref": "y2 domain"
                  },
                  {
                    "layer": "below",
                    "line": {
                      "color": "#666666",
                      "width": 1
                    },
                    "type": "line",
                    "x0": "2020-02-01T00:00:00",
                    "x1": "2020-02-01T00:00:00",
                    "xref": "x3",
                    "y0": 0,
                    "y1": 1,
                    "yref": "y3 domain"
                  },
                  {
                    "layer": "below",
                    "line": {
                      "color": "#666666",
                      "width": 1
                    },
                    "type": "line",
                    "x0": "2020-02-01T00:00:00",
                    "x1": "2020-02-01T00:00:00",
                    "xref": "x4",
                    "y0": 0,
                    "y1": 1,
                    "yref": "y4 domain"
                  },
                  {
                    "layer": "below",
                    "line": {
                      "color": "#666666",
                      "width": 1
                    },
                    "type": "line",
                    "x0": "2020-02-01T00:00:00",
                    "x1": "2020-02-01T00:00:00",
                    "xref": "x5",
                    "y0": 0,
                    "y1": 1,
                    "yref": "y5 domain"
                  },
                  {
                    "layer": "below",
                    "line": {
                      "color": "#666666",
                      "width": 1
                    },
                    "type": "line",
                    "x0": "2020-02-01T00:00:00",
                    "x1": "2020-02-01T00:00:00",
                    "xref": "x6",
                    "y0": 0,
                    "y1": 1,
                    "yref": "y6 domain"
                  },
                  {
                    "layer": "below",
                    "line": {
                      "color": "#666666",
                      "width": 1
                    },
                    "type": "line",
                    "x0": "2020-02-01T00:00:00",
                    "x1": "2020-02-01T00:00:00",
                    "xref": "x7",
                    "y0": 0,
                    "y1": 1,
                    "yref": "y7 domain"
                  },
                  {
                    "layer": "below",
                    "line": {
                      "color": "#666666",
                      "width": 1
                    },
                    "type": "line",
                    "x0": "2020-02-01T00:00:00",
                    "x1": "2020-02-01T00:00:00",
                    "xref": "x",
                    "y0": 0,
                    "y1": 1,
                    "yref": "y domain"
                  },
                  {
                    "layer": "below",
                    "line": {
                      "color": "#666666",
                      "width": 1
                    },
                    "type": "line",
                    "x0": "2020-02-01T00:00:00",
                    "x1": "2020-02-01T00:00:00",
                    "xref": "x2",
                    "y0": 0,
                    "y1": 1,
                    "yref": "y2 domain"
                  },
                  {
                    "layer": "below",
                    "line": {
                      "color": "#666666",
                      "width": 1
                    },
                    "type": "line",
                    "x0": "2020-02-01T00:00:00",
                    "x1": "2020-02-01T00:00:00",
                    "xref": "x3",
                    "y0": 0,
                    "y1": 1,
                    "yref": "y3 domain"
                  },
                  {
                    "layer": "below",
                    "line": {
                      "color": "#666666",
                      "width": 1
                    },
                    "type": "line",
                    "x0": "2020-02-01T00:00:00",
                    "x1": "2020-02-01T00:00:00",
                    "xref": "x4",
                    "y0": 0,
                    "y1": 1,
                    "yref": "y4 domain"
                  },
                  {
                    "layer": "below",
                    "line": {
                      "color": "#666666",
                      "width": 1
                    },
                    "type": "line",
                    "x0": "2020-02-01T00:00:00",
                    "x1": "2020-02-01T00:00:00",
                    "xref": "x5",
                    "y0": 0,
                    "y1": 1,
                    "yref": "y5 domain"
                  },
                  {
                    "layer": "below",
                    "line": {
                      "color": "#666666",
                      "width": 1
                    },
                    "type": "line",
                    "x0": "2020-02-01T00:00:00",
                    "x1": "2020-02-01T00:00:00",
                    "xref": "x6",
                    "y0": 0,
                    "y1": 1,
                    "yref": "y6 domain"
                  },
                  {
                    "layer": "below",
                    "line": {
                      "color": "#666666",
                      "width": 1
                    },
                    "type": "line",
                    "x0": "2020-02-01T00:00:00",
                    "x1": "2020-02-01T00:00:00",
                    "xref": "x7",
                    "y0": 0,
                    "y1": 1,
                    "yref": "y7 domain"
                  },
                  {
                    "layer": "below",
                    "line": {
                      "color": "#666666",
                      "width": 1
                    },
                    "type": "line",
                    "x0": "2020-02-01T00:00:00",
                    "x1": "2020-02-01T00:00:00",
                    "xref": "x8",
                    "y0": 0,
                    "y1": 1,
                    "yref": "y8 domain"
                  },
                  {
                    "layer": "below",
                    "line": {
                      "color": "#666666",
                      "width": 1
                    },
                    "type": "line",
                    "x0": "2020-02-01T00:00:00",
                    "x1": "2020-02-01T00:00:00",
                    "xref": "x",
                    "y0": 0,
                    "y1": 1,
                    "yref": "y domain"
                  },
                  {
                    "layer": "below",
                    "line": {
                      "color": "#666666",
                      "width": 1
                    },
                    "type": "line",
                    "x0": "2020-02-01T00:00:00",
                    "x1": "2020-02-01T00:00:00",
                    "xref": "x2",
                    "y0": 0,
                    "y1": 1,
                    "yref": "y2 domain"
                  },
                  {
                    "layer": "below",
                    "line": {
                      "color": "#666666",
                      "width": 1
                    },
                    "type": "line",
                    "x0": "2020-02-01T00:00:00",
                    "x1": "2020-02-01T00:00:00",
                    "xref": "x3",
                    "y0": 0,
                    "y1": 1,
                    "yref": "y3 domain"
                  },
                  {
                    "layer": "below",
                    "line": {
                      "color": "#666666",
                      "width": 1
                    },
                    "type": "line",
                    "x0": "2020-02-01T00:00:00",
                    "x1": "2020-02-01T00:00:00",
                    "xref": "x4",
                    "y0": 0,
                    "y1": 1,
                    "yref": "y4 domain"
                  },
                  {
                    "layer": "below",
                    "line": {
                      "color": "#666666",
                      "width": 1
                    },
                    "type": "line",
                    "x0": "2020-02-01T00:00:00",
                    "x1": "2020-02-01T00:00:00",
                    "xref": "x5",
                    "y0": 0,
                    "y1": 1,
                    "yref": "y5 domain"
                  },
                  {
                    "layer": "below",
                    "line": {
                      "color": "#666666",
                      "width": 1
                    },
                    "type": "line",
                    "x0": "2020-02-01T00:00:00",
                    "x1": "2020-02-01T00:00:00",
                    "xref": "x6",
                    "y0": 0,
                    "y1": 1,
                    "yref": "y6 domain"
                  },
                  {
                    "layer": "below",
                    "line": {
                      "color": "#666666",
                      "width": 1
                    },
                    "type": "line",
                    "x0": "2020-02-01T00:00:00",
                    "x1": "2020-02-01T00:00:00",
                    "xref": "x7",
                    "y0": 0,
                    "y1": 1,
                    "yref": "y7 domain"
                  },
                  {
                    "layer": "below",
                    "line": {
                      "color": "#666666",
                      "width": 1
                    },
                    "type": "line",
                    "x0": "2020-02-01T00:00:00",
                    "x1": "2020-02-01T00:00:00",
                    "xref": "x8",
                    "y0": 0,
                    "y1": 1,
                    "yref": "y8 domain"
                  },
                  {
                    "layer": "below",
                    "line": {
                      "color": "#666666",
                      "width": 1
                    },
                    "type": "line",
                    "x0": "2020-02-01T00:00:00",
                    "x1": "2020-02-01T00:00:00",
                    "xref": "x9",
                    "y0": 0,
                    "y1": 1,
                    "yref": "y9 domain"
                  },
                  {
                    "layer": "below",
                    "line": {
                      "color": "#666666",
                      "width": 1
                    },
                    "type": "line",
                    "x0": "2020-02-01T00:00:00",
                    "x1": "2020-02-01T00:00:00",
                    "xref": "x",
                    "y0": 0,
                    "y1": 1,
                    "yref": "y domain"
                  },
                  {
                    "layer": "below",
                    "line": {
                      "color": "#666666",
                      "width": 1
                    },
                    "type": "line",
                    "x0": "2020-02-01T00:00:00",
                    "x1": "2020-02-01T00:00:00",
                    "xref": "x2",
                    "y0": 0,
                    "y1": 1,
                    "yref": "y2 domain"
                  },
                  {
                    "layer": "below",
                    "line": {
                      "color": "#666666",
                      "width": 1
                    },
                    "type": "line",
                    "x0": "2020-02-01T00:00:00",
                    "x1": "2020-02-01T00:00:00",
                    "xref": "x3",
                    "y0": 0,
                    "y1": 1,
                    "yref": "y3 domain"
                  },
                  {
                    "layer": "below",
                    "line": {
                      "color": "#666666",
                      "width": 1
                    },
                    "type": "line",
                    "x0": "2020-02-01T00:00:00",
                    "x1": "2020-02-01T00:00:00",
                    "xref": "x4",
                    "y0": 0,
                    "y1": 1,
                    "yref": "y4 domain"
                  },
                  {
                    "layer": "below",
                    "line": {
                      "color": "#666666",
                      "width": 1
                    },
                    "type": "line",
                    "x0": "2020-02-01T00:00:00",
                    "x1": "2020-02-01T00:00:00",
                    "xref": "x5",
                    "y0": 0,
                    "y1": 1,
                    "yref": "y5 domain"
                  },
                  {
                    "layer": "below",
                    "line": {
                      "color": "#666666",
                      "width": 1
                    },
                    "type": "line",
                    "x0": "2020-02-01T00:00:00",
                    "x1": "2020-02-01T00:00:00",
                    "xref": "x6",
                    "y0": 0,
                    "y1": 1,
                    "yref": "y6 domain"
                  },
                  {
                    "layer": "below",
                    "line": {
                      "color": "#666666",
                      "width": 1
                    },
                    "type": "line",
                    "x0": "2020-02-01T00:00:00",
                    "x1": "2020-02-01T00:00:00",
                    "xref": "x7",
                    "y0": 0,
                    "y1": 1,
                    "yref": "y7 domain"
                  },
                  {
                    "layer": "below",
                    "line": {
                      "color": "#666666",
                      "width": 1
                    },
                    "type": "line",
                    "x0": "2020-02-01T00:00:00",
                    "x1": "2020-02-01T00:00:00",
                    "xref": "x8",
                    "y0": 0,
                    "y1": 1,
                    "yref": "y8 domain"
                  },
                  {
                    "layer": "below",
                    "line": {
                      "color": "#666666",
                      "width": 1
                    },
                    "type": "line",
                    "x0": "2020-02-01T00:00:00",
                    "x1": "2020-02-01T00:00:00",
                    "xref": "x9",
                    "y0": 0,
                    "y1": 1,
                    "yref": "y9 domain"
                  },
                  {
                    "layer": "below",
                    "line": {
                      "color": "#666666",
                      "width": 1
                    },
                    "type": "line",
                    "x0": "2020-02-01T00:00:00",
                    "x1": "2020-02-01T00:00:00",
                    "xref": "x10",
                    "y0": 0,
                    "y1": 1,
                    "yref": "y10 domain"
                  }
                ],
                "template": {
                  "data": {
                    "bar": [
                      {
                        "error_x": {
                          "color": "#2a3f5f"
                        },
                        "error_y": {
                          "color": "#2a3f5f"
                        },
                        "marker": {
                          "line": {
                            "color": "#E5ECF6",
                            "width": 0.5
                          },
                          "pattern": {
                            "fillmode": "overlay",
                            "size": 10,
                            "solidity": 0.2
                          }
                        },
                        "type": "bar"
                      }
                    ],
                    "barpolar": [
                      {
                        "marker": {
                          "line": {
                            "color": "#E5ECF6",
                            "width": 0.5
                          },
                          "pattern": {
                            "fillmode": "overlay",
                            "size": 10,
                            "solidity": 0.2
                          }
                        },
                        "type": "barpolar"
                      }
                    ],
                    "carpet": [
                      {
                        "aaxis": {
                          "endlinecolor": "#2a3f5f",
                          "gridcolor": "white",
                          "linecolor": "white",
                          "minorgridcolor": "white",
                          "startlinecolor": "#2a3f5f"
                        },
                        "baxis": {
                          "endlinecolor": "#2a3f5f",
                          "gridcolor": "white",
                          "linecolor": "white",
                          "minorgridcolor": "white",
                          "startlinecolor": "#2a3f5f"
                        },
                        "type": "carpet"
                      }
                    ],
                    "choropleth": [
                      {
                        "colorbar": {
                          "outlinewidth": 0,
                          "ticks": ""
                        },
                        "type": "choropleth"
                      }
                    ],
                    "contour": [
                      {
                        "colorbar": {
                          "outlinewidth": 0,
                          "ticks": ""
                        },
                        "colorscale": [
                          [
                            0,
                            "#0d0887"
                          ],
                          [
                            0.1111111111111111,
                            "#46039f"
                          ],
                          [
                            0.2222222222222222,
                            "#7201a8"
                          ],
                          [
                            0.3333333333333333,
                            "#9c179e"
                          ],
                          [
                            0.4444444444444444,
                            "#bd3786"
                          ],
                          [
                            0.5555555555555556,
                            "#d8576b"
                          ],
                          [
                            0.6666666666666666,
                            "#ed7953"
                          ],
                          [
                            0.7777777777777778,
                            "#fb9f3a"
                          ],
                          [
                            0.8888888888888888,
                            "#fdca26"
                          ],
                          [
                            1,
                            "#f0f921"
                          ]
                        ],
                        "type": "contour"
                      }
                    ],
                    "contourcarpet": [
                      {
                        "colorbar": {
                          "outlinewidth": 0,
                          "ticks": ""
                        },
                        "type": "contourcarpet"
                      }
                    ],
                    "heatmap": [
                      {
                        "colorbar": {
                          "outlinewidth": 0,
                          "ticks": ""
                        },
                        "colorscale": [
                          [
                            0,
                            "#0d0887"
                          ],
                          [
                            0.1111111111111111,
                            "#46039f"
                          ],
                          [
                            0.2222222222222222,
                            "#7201a8"
                          ],
                          [
                            0.3333333333333333,
                            "#9c179e"
                          ],
                          [
                            0.4444444444444444,
                            "#bd3786"
                          ],
                          [
                            0.5555555555555556,
                            "#d8576b"
                          ],
                          [
                            0.6666666666666666,
                            "#ed7953"
                          ],
                          [
                            0.7777777777777778,
                            "#fb9f3a"
                          ],
                          [
                            0.8888888888888888,
                            "#fdca26"
                          ],
                          [
                            1,
                            "#f0f921"
                          ]
                        ],
                        "type": "heatmap"
                      }
                    ],
                    "heatmapgl": [
                      {
                        "colorbar": {
                          "outlinewidth": 0,
                          "ticks": ""
                        },
                        "colorscale": [
                          [
                            0,
                            "#0d0887"
                          ],
                          [
                            0.1111111111111111,
                            "#46039f"
                          ],
                          [
                            0.2222222222222222,
                            "#7201a8"
                          ],
                          [
                            0.3333333333333333,
                            "#9c179e"
                          ],
                          [
                            0.4444444444444444,
                            "#bd3786"
                          ],
                          [
                            0.5555555555555556,
                            "#d8576b"
                          ],
                          [
                            0.6666666666666666,
                            "#ed7953"
                          ],
                          [
                            0.7777777777777778,
                            "#fb9f3a"
                          ],
                          [
                            0.8888888888888888,
                            "#fdca26"
                          ],
                          [
                            1,
                            "#f0f921"
                          ]
                        ],
                        "type": "heatmapgl"
                      }
                    ],
                    "histogram": [
                      {
                        "marker": {
                          "pattern": {
                            "fillmode": "overlay",
                            "size": 10,
                            "solidity": 0.2
                          }
                        },
                        "type": "histogram"
                      }
                    ],
                    "histogram2d": [
                      {
                        "colorbar": {
                          "outlinewidth": 0,
                          "ticks": ""
                        },
                        "colorscale": [
                          [
                            0,
                            "#0d0887"
                          ],
                          [
                            0.1111111111111111,
                            "#46039f"
                          ],
                          [
                            0.2222222222222222,
                            "#7201a8"
                          ],
                          [
                            0.3333333333333333,
                            "#9c179e"
                          ],
                          [
                            0.4444444444444444,
                            "#bd3786"
                          ],
                          [
                            0.5555555555555556,
                            "#d8576b"
                          ],
                          [
                            0.6666666666666666,
                            "#ed7953"
                          ],
                          [
                            0.7777777777777778,
                            "#fb9f3a"
                          ],
                          [
                            0.8888888888888888,
                            "#fdca26"
                          ],
                          [
                            1,
                            "#f0f921"
                          ]
                        ],
                        "type": "histogram2d"
                      }
                    ],
                    "histogram2dcontour": [
                      {
                        "colorbar": {
                          "outlinewidth": 0,
                          "ticks": ""
                        },
                        "colorscale": [
                          [
                            0,
                            "#0d0887"
                          ],
                          [
                            0.1111111111111111,
                            "#46039f"
                          ],
                          [
                            0.2222222222222222,
                            "#7201a8"
                          ],
                          [
                            0.3333333333333333,
                            "#9c179e"
                          ],
                          [
                            0.4444444444444444,
                            "#bd3786"
                          ],
                          [
                            0.5555555555555556,
                            "#d8576b"
                          ],
                          [
                            0.6666666666666666,
                            "#ed7953"
                          ],
                          [
                            0.7777777777777778,
                            "#fb9f3a"
                          ],
                          [
                            0.8888888888888888,
                            "#fdca26"
                          ],
                          [
                            1,
                            "#f0f921"
                          ]
                        ],
                        "type": "histogram2dcontour"
                      }
                    ],
                    "mesh3d": [
                      {
                        "colorbar": {
                          "outlinewidth": 0,
                          "ticks": ""
                        },
                        "type": "mesh3d"
                      }
                    ],
                    "parcoords": [
                      {
                        "line": {
                          "colorbar": {
                            "outlinewidth": 0,
                            "ticks": ""
                          }
                        },
                        "type": "parcoords"
                      }
                    ],
                    "pie": [
                      {
                        "automargin": true,
                        "type": "pie"
                      }
                    ],
                    "scatter": [
                      {
                        "fillpattern": {
                          "fillmode": "overlay",
                          "size": 10,
                          "solidity": 0.2
                        },
                        "type": "scatter"
                      }
                    ],
                    "scatter3d": [
                      {
                        "line": {
                          "colorbar": {
                            "outlinewidth": 0,
                            "ticks": ""
                          }
                        },
                        "marker": {
                          "colorbar": {
                            "outlinewidth": 0,
                            "ticks": ""
                          }
                        },
                        "type": "scatter3d"
                      }
                    ],
                    "scattercarpet": [
                      {
                        "marker": {
                          "colorbar": {
                            "outlinewidth": 0,
                            "ticks": ""
                          }
                        },
                        "type": "scattercarpet"
                      }
                    ],
                    "scattergeo": [
                      {
                        "marker": {
                          "colorbar": {
                            "outlinewidth": 0,
                            "ticks": ""
                          }
                        },
                        "type": "scattergeo"
                      }
                    ],
                    "scattergl": [
                      {
                        "marker": {
                          "colorbar": {
                            "outlinewidth": 0,
                            "ticks": ""
                          }
                        },
                        "type": "scattergl"
                      }
                    ],
                    "scattermapbox": [
                      {
                        "marker": {
                          "colorbar": {
                            "outlinewidth": 0,
                            "ticks": ""
                          }
                        },
                        "type": "scattermapbox"
                      }
                    ],
                    "scatterpolar": [
                      {
                        "marker": {
                          "colorbar": {
                            "outlinewidth": 0,
                            "ticks": ""
                          }
                        },
                        "type": "scatterpolar"
                      }
                    ],
                    "scatterpolargl": [
                      {
                        "marker": {
                          "colorbar": {
                            "outlinewidth": 0,
                            "ticks": ""
                          }
                        },
                        "type": "scatterpolargl"
                      }
                    ],
                    "scatterternary": [
                      {
                        "marker": {
                          "colorbar": {
                            "outlinewidth": 0,
                            "ticks": ""
                          }
                        },
                        "type": "scatterternary"
                      }
                    ],
                    "surface": [
                      {
                        "colorbar": {
                          "outlinewidth": 0,
                          "ticks": ""
                        },
                        "colorscale": [
                          [
                            0,
                            "#0d0887"
                          ],
                          [
                            0.1111111111111111,
                            "#46039f"
                          ],
                          [
                            0.2222222222222222,
                            "#7201a8"
                          ],
                          [
                            0.3333333333333333,
                            "#9c179e"
                          ],
                          [
                            0.4444444444444444,
                            "#bd3786"
                          ],
                          [
                            0.5555555555555556,
                            "#d8576b"
                          ],
                          [
                            0.6666666666666666,
                            "#ed7953"
                          ],
                          [
                            0.7777777777777778,
                            "#fb9f3a"
                          ],
                          [
                            0.8888888888888888,
                            "#fdca26"
                          ],
                          [
                            1,
                            "#f0f921"
                          ]
                        ],
                        "type": "surface"
                      }
                    ],
                    "table": [
                      {
                        "cells": {
                          "fill": {
                            "color": "#EBF0F8"
                          },
                          "line": {
                            "color": "white"
                          }
                        },
                        "header": {
                          "fill": {
                            "color": "#C8D4E3"
                          },
                          "line": {
                            "color": "white"
                          }
                        },
                        "type": "table"
                      }
                    ]
                  },
                  "layout": {
                    "annotationdefaults": {
                      "arrowcolor": "#2a3f5f",
                      "arrowhead": 0,
                      "arrowwidth": 1
                    },
                    "autotypenumbers": "strict",
                    "coloraxis": {
                      "colorbar": {
                        "outlinewidth": 0,
                        "ticks": ""
                      }
                    },
                    "colorscale": {
                      "diverging": [
                        [
                          0,
                          "#8e0152"
                        ],
                        [
                          0.1,
                          "#c51b7d"
                        ],
                        [
                          0.2,
                          "#de77ae"
                        ],
                        [
                          0.3,
                          "#f1b6da"
                        ],
                        [
                          0.4,
                          "#fde0ef"
                        ],
                        [
                          0.5,
                          "#f7f7f7"
                        ],
                        [
                          0.6,
                          "#e6f5d0"
                        ],
                        [
                          0.7,
                          "#b8e186"
                        ],
                        [
                          0.8,
                          "#7fbc41"
                        ],
                        [
                          0.9,
                          "#4d9221"
                        ],
                        [
                          1,
                          "#276419"
                        ]
                      ],
                      "sequential": [
                        [
                          0,
                          "#0d0887"
                        ],
                        [
                          0.1111111111111111,
                          "#46039f"
                        ],
                        [
                          0.2222222222222222,
                          "#7201a8"
                        ],
                        [
                          0.3333333333333333,
                          "#9c179e"
                        ],
                        [
                          0.4444444444444444,
                          "#bd3786"
                        ],
                        [
                          0.5555555555555556,
                          "#d8576b"
                        ],
                        [
                          0.6666666666666666,
                          "#ed7953"
                        ],
                        [
                          0.7777777777777778,
                          "#fb9f3a"
                        ],
                        [
                          0.8888888888888888,
                          "#fdca26"
                        ],
                        [
                          1,
                          "#f0f921"
                        ]
                      ],
                      "sequentialminus": [
                        [
                          0,
                          "#0d0887"
                        ],
                        [
                          0.1111111111111111,
                          "#46039f"
                        ],
                        [
                          0.2222222222222222,
                          "#7201a8"
                        ],
                        [
                          0.3333333333333333,
                          "#9c179e"
                        ],
                        [
                          0.4444444444444444,
                          "#bd3786"
                        ],
                        [
                          0.5555555555555556,
                          "#d8576b"
                        ],
                        [
                          0.6666666666666666,
                          "#ed7953"
                        ],
                        [
                          0.7777777777777778,
                          "#fb9f3a"
                        ],
                        [
                          0.8888888888888888,
                          "#fdca26"
                        ],
                        [
                          1,
                          "#f0f921"
                        ]
                      ]
                    },
                    "colorway": [
                      "#636efa",
                      "#EF553B",
                      "#00cc96",
                      "#ab63fa",
                      "#FFA15A",
                      "#19d3f3",
                      "#FF6692",
                      "#B6E880",
                      "#FF97FF",
                      "#FECB52"
                    ],
                    "font": {
                      "color": "#2a3f5f"
                    },
                    "geo": {
                      "bgcolor": "white",
                      "lakecolor": "white",
                      "landcolor": "#E5ECF6",
                      "showlakes": true,
                      "showland": true,
                      "subunitcolor": "white"
                    },
                    "hoverlabel": {
                      "align": "left"
                    },
                    "hovermode": "closest",
                    "mapbox": {
                      "style": "light"
                    },
                    "paper_bgcolor": "white",
                    "plot_bgcolor": "#E5ECF6",
                    "polar": {
                      "angularaxis": {
                        "gridcolor": "white",
                        "linecolor": "white",
                        "ticks": ""
                      },
                      "bgcolor": "#E5ECF6",
                      "radialaxis": {
                        "gridcolor": "white",
                        "linecolor": "white",
                        "ticks": ""
                      }
                    },
                    "scene": {
                      "xaxis": {
                        "backgroundcolor": "#E5ECF6",
                        "gridcolor": "white",
                        "gridwidth": 2,
                        "linecolor": "white",
                        "showbackground": true,
                        "ticks": "",
                        "zerolinecolor": "white"
                      },
                      "yaxis": {
                        "backgroundcolor": "#E5ECF6",
                        "gridcolor": "white",
                        "gridwidth": 2,
                        "linecolor": "white",
                        "showbackground": true,
                        "ticks": "",
                        "zerolinecolor": "white"
                      },
                      "zaxis": {
                        "backgroundcolor": "#E5ECF6",
                        "gridcolor": "white",
                        "gridwidth": 2,
                        "linecolor": "white",
                        "showbackground": true,
                        "ticks": "",
                        "zerolinecolor": "white"
                      }
                    },
                    "shapedefaults": {
                      "line": {
                        "color": "#2a3f5f"
                      }
                    },
                    "ternary": {
                      "aaxis": {
                        "gridcolor": "white",
                        "linecolor": "white",
                        "ticks": ""
                      },
                      "baxis": {
                        "gridcolor": "white",
                        "linecolor": "white",
                        "ticks": ""
                      },
                      "bgcolor": "#E5ECF6",
                      "caxis": {
                        "gridcolor": "white",
                        "linecolor": "white",
                        "ticks": ""
                      }
                    },
                    "title": {
                      "x": 0.05
                    },
                    "xaxis": {
                      "automargin": true,
                      "gridcolor": "white",
                      "linecolor": "white",
                      "ticks": "",
                      "title": {
                        "standoff": 15
                      },
                      "zerolinecolor": "white",
                      "zerolinewidth": 2
                    },
                    "yaxis": {
                      "automargin": true,
                      "gridcolor": "white",
                      "linecolor": "white",
                      "ticks": "",
                      "title": {
                        "standoff": 15
                      },
                      "zerolinecolor": "white",
                      "zerolinewidth": 2
                    }
                  }
                },
                "title": {
                  "text": "Univariate drift metrics"
                },
                "xaxis": {
                  "anchor": "y",
                  "domain": [
                    0,
                    1
                  ],
                  "linecolor": "#3b0280",
                  "matches": "x",
                  "mirror": true,
                  "showgrid": false,
                  "title": {
                    "text": "Time"
                  },
                  "zeroline": false
                },
                "xaxis10": {
                  "anchor": "y10",
                  "domain": [
                    0,
                    1
                  ],
                  "linecolor": "#3b0280",
                  "matches": "x",
                  "mirror": true,
                  "showgrid": false,
                  "title": {
                    "text": "Time"
                  },
                  "zeroline": false
                },
                "xaxis2": {
                  "anchor": "y2",
                  "domain": [
                    0,
                    1
                  ],
                  "linecolor": "#3b0280",
                  "matches": "x",
                  "mirror": true,
                  "showgrid": false,
                  "title": {
                    "text": "Time"
                  },
                  "zeroline": false
                },
                "xaxis3": {
                  "anchor": "y3",
                  "domain": [
                    0,
                    1
                  ],
                  "linecolor": "#3b0280",
                  "matches": "x",
                  "mirror": true,
                  "showgrid": false,
                  "title": {
                    "text": "Time"
                  },
                  "zeroline": false
                },
                "xaxis4": {
                  "anchor": "y4",
                  "domain": [
                    0,
                    1
                  ],
                  "linecolor": "#3b0280",
                  "matches": "x",
                  "mirror": true,
                  "showgrid": false,
                  "title": {
                    "text": "Time"
                  },
                  "zeroline": false
                },
                "xaxis5": {
                  "anchor": "y5",
                  "domain": [
                    0,
                    1
                  ],
                  "linecolor": "#3b0280",
                  "matches": "x",
                  "mirror": true,
                  "showgrid": false,
                  "title": {
                    "text": "Time"
                  },
                  "zeroline": false
                },
                "xaxis6": {
                  "anchor": "y6",
                  "domain": [
                    0,
                    1
                  ],
                  "linecolor": "#3b0280",
                  "matches": "x",
                  "mirror": true,
                  "showgrid": false,
                  "title": {
                    "text": "Time"
                  },
                  "zeroline": false
                },
                "xaxis7": {
                  "anchor": "y7",
                  "domain": [
                    0,
                    1
                  ],
                  "linecolor": "#3b0280",
                  "matches": "x",
                  "mirror": true,
                  "showgrid": false,
                  "title": {
                    "text": "Time"
                  },
                  "zeroline": false
                },
                "xaxis8": {
                  "anchor": "y8",
                  "domain": [
                    0,
                    1
                  ],
                  "linecolor": "#3b0280",
                  "matches": "x",
                  "mirror": true,
                  "showgrid": false,
                  "title": {
                    "text": "Time"
                  },
                  "zeroline": false
                },
                "xaxis9": {
                  "anchor": "y9",
                  "domain": [
                    0,
                    1
                  ],
                  "linecolor": "#3b0280",
                  "matches": "x",
                  "mirror": true,
                  "showgrid": false,
                  "title": {
                    "text": "Time"
                  },
                  "zeroline": false
                },
                "yaxis": {
                  "anchor": "x",
                  "domain": [
                    0.9450000000000001,
                    1
                  ],
                  "linecolor": "#3b0280",
                  "mirror": true,
                  "showgrid": false,
                  "title": {
                    "text": "Jensen-Shannon distance"
                  },
                  "zeroline": false
                },
                "yaxis10": {
                  "anchor": "x10",
                  "domain": [
                    0,
                    0.05500000000000001
                  ],
                  "linecolor": "#3b0280",
                  "mirror": true,
                  "showgrid": false,
                  "title": {
                    "text": "Jensen-Shannon distance"
                  },
                  "zeroline": false
                },
                "yaxis2": {
                  "anchor": "x2",
                  "domain": [
                    0.8400000000000001,
                    0.8950000000000001
                  ],
                  "linecolor": "#3b0280",
                  "mirror": true,
                  "showgrid": false,
                  "title": {
                    "text": "Jensen-Shannon distance"
                  },
                  "zeroline": false
                },
                "yaxis3": {
                  "anchor": "x3",
                  "domain": [
                    0.7350000000000001,
                    0.7900000000000001
                  ],
                  "linecolor": "#3b0280",
                  "mirror": true,
                  "showgrid": false,
                  "title": {
                    "text": "Jensen-Shannon distance"
                  },
                  "zeroline": false
                },
                "yaxis4": {
                  "anchor": "x4",
                  "domain": [
                    0.6300000000000001,
                    0.6850000000000002
                  ],
                  "linecolor": "#3b0280",
                  "mirror": true,
                  "showgrid": false,
                  "title": {
                    "text": "Jensen-Shannon distance"
                  },
                  "zeroline": false
                },
                "yaxis5": {
                  "anchor": "x5",
                  "domain": [
                    0.525,
                    0.5800000000000001
                  ],
                  "linecolor": "#3b0280",
                  "mirror": true,
                  "showgrid": false,
                  "title": {
                    "text": "Jensen-Shannon distance"
                  },
                  "zeroline": false
                },
                "yaxis6": {
                  "anchor": "x6",
                  "domain": [
                    0.42000000000000004,
                    0.47500000000000003
                  ],
                  "linecolor": "#3b0280",
                  "mirror": true,
                  "showgrid": false,
                  "title": {
                    "text": "Jensen-Shannon distance"
                  },
                  "zeroline": false
                },
                "yaxis7": {
                  "anchor": "x7",
                  "domain": [
                    0.31500000000000006,
                    0.37000000000000005
                  ],
                  "linecolor": "#3b0280",
                  "mirror": true,
                  "showgrid": false,
                  "title": {
                    "text": "Jensen-Shannon distance"
                  },
                  "zeroline": false
                },
                "yaxis8": {
                  "anchor": "x8",
                  "domain": [
                    0.21000000000000002,
                    0.265
                  ],
                  "linecolor": "#3b0280",
                  "mirror": true,
                  "showgrid": false,
                  "title": {
                    "text": "Jensen-Shannon distance"
                  },
                  "zeroline": false
                },
                "yaxis9": {
                  "anchor": "x9",
                  "domain": [
                    0.10500000000000001,
                    0.16000000000000003
                  ],
                  "linecolor": "#3b0280",
                  "mirror": true,
                  "showgrid": false,
                  "title": {
                    "text": "Jensen-Shannon distance"
                  },
                  "zeroline": false
                }
              }
            }
          },
          "metadata": {},
          "output_type": "display_data"
        }
      ],
      "source": [
        "import nannyml as nml\n",
        "import pandas as pd\n",
        "\n",
        "\n",
        "# For simplicity, we'll use the same dataset as reference and target here.\n",
        "# In a real-world scenario, target_data should be your new, incoming data.\n",
        "reference_data = pd.DataFrame(X_test, columns=[f'feature_{i}' for i in range(X_test.shape[1])])\n",
        "target_data = pd.DataFrame(X_test, columns=[f'feature_{i}' for i in range(X_test.shape[1])])\n",
        "\n",
        "# Calculate drift using NannyML (for demonstration, we're using univariate drift calculation)\n",
        "reference_data['timestamp'] = pd.to_datetime('2020-01-01')\n",
        "target_data['timestamp'] = pd.to_datetime('2020-02-01')\n",
        "\n",
        "drift_calculator = nml.UnivariateDriftCalculator(column_names=reference_data.columns[:-1], timestamp_column_name='timestamp')\n",
        "drift_calculator.fit(reference_data)\n",
        "drift_results = drift_calculator.calculate(target_data)\n",
        "\n",
        "# Visualize drift results\n",
        "drift_figures = drift_results.plot(kind='drift')\n",
        "drift_figures.show()"
      ]
    },
    {
      "cell_type": "markdown",
      "id": "23bbaff5-5663-4ec5-aabd-008a67eb91dc",
      "metadata": {
        "id": "23bbaff5-5663-4ec5-aabd-008a67eb91dc"
      },
      "source": [
        "## Step 4:  Model Registry with MLFlow  "
      ]
    },
    {
      "cell_type": "code",
      "execution_count": 4,
      "id": "2e427aa6-01b0-49d8-b3c9-1384aea01d4f",
      "metadata": {
        "id": "2e427aa6-01b0-49d8-b3c9-1384aea01d4f",
        "outputId": "11fd7ce1-7618-4146-aacc-bd16457ac816"
      },
      "outputs": [
        {
          "ename": "MlflowException",
          "evalue": "API request to http://127.0.0.1:5556/api/2.0/mlflow/experiments/get-by-name failed with exception HTTPConnectionPool(host='127.0.0.1', port=5556): Max retries exceeded with url: /api/2.0/mlflow/experiments/get-by-name?experiment_name=MLBook_Experiment2 (Caused by NewConnectionError('<urllib3.connection.HTTPConnection object at 0x3466a9570>: Failed to establish a new connection: [Errno 61] Connection refused'))",
          "output_type": "error",
          "traceback": [
            "\u001b[0;31m---------------------------------------------------------------------------\u001b[0m",
            "\u001b[0;31mConnectionRefusedError\u001b[0m                    Traceback (most recent call last)",
            "File \u001b[0;32m~/anaconda3/envs/book/lib/python3.10/site-packages/urllib3/connection.py:174\u001b[0m, in \u001b[0;36mHTTPConnection._new_conn\u001b[0;34m(self)\u001b[0m\n\u001b[1;32m    173\u001b[0m \u001b[38;5;28;01mtry\u001b[39;00m:\n\u001b[0;32m--> 174\u001b[0m     conn \u001b[38;5;241m=\u001b[39m \u001b[43mconnection\u001b[49m\u001b[38;5;241;43m.\u001b[39;49m\u001b[43mcreate_connection\u001b[49m\u001b[43m(\u001b[49m\n\u001b[1;32m    175\u001b[0m \u001b[43m        \u001b[49m\u001b[43m(\u001b[49m\u001b[38;5;28;43mself\u001b[39;49m\u001b[38;5;241;43m.\u001b[39;49m\u001b[43m_dns_host\u001b[49m\u001b[43m,\u001b[49m\u001b[43m \u001b[49m\u001b[38;5;28;43mself\u001b[39;49m\u001b[38;5;241;43m.\u001b[39;49m\u001b[43mport\u001b[49m\u001b[43m)\u001b[49m\u001b[43m,\u001b[49m\u001b[43m \u001b[49m\u001b[38;5;28;43mself\u001b[39;49m\u001b[38;5;241;43m.\u001b[39;49m\u001b[43mtimeout\u001b[49m\u001b[43m,\u001b[49m\u001b[43m \u001b[49m\u001b[38;5;241;43m*\u001b[39;49m\u001b[38;5;241;43m*\u001b[39;49m\u001b[43mextra_kw\u001b[49m\n\u001b[1;32m    176\u001b[0m \u001b[43m    \u001b[49m\u001b[43m)\u001b[49m\n\u001b[1;32m    178\u001b[0m \u001b[38;5;28;01mexcept\u001b[39;00m SocketTimeout:\n",
            "File \u001b[0;32m~/anaconda3/envs/book/lib/python3.10/site-packages/urllib3/util/connection.py:95\u001b[0m, in \u001b[0;36mcreate_connection\u001b[0;34m(address, timeout, source_address, socket_options)\u001b[0m\n\u001b[1;32m     94\u001b[0m \u001b[38;5;28;01mif\u001b[39;00m err \u001b[38;5;129;01mis\u001b[39;00m \u001b[38;5;129;01mnot\u001b[39;00m \u001b[38;5;28;01mNone\u001b[39;00m:\n\u001b[0;32m---> 95\u001b[0m     \u001b[38;5;28;01mraise\u001b[39;00m err\n\u001b[1;32m     97\u001b[0m \u001b[38;5;28;01mraise\u001b[39;00m socket\u001b[38;5;241m.\u001b[39merror(\u001b[38;5;124m\"\u001b[39m\u001b[38;5;124mgetaddrinfo returns an empty list\u001b[39m\u001b[38;5;124m\"\u001b[39m)\n",
            "File \u001b[0;32m~/anaconda3/envs/book/lib/python3.10/site-packages/urllib3/util/connection.py:85\u001b[0m, in \u001b[0;36mcreate_connection\u001b[0;34m(address, timeout, source_address, socket_options)\u001b[0m\n\u001b[1;32m     84\u001b[0m     sock\u001b[38;5;241m.\u001b[39mbind(source_address)\n\u001b[0;32m---> 85\u001b[0m \u001b[43msock\u001b[49m\u001b[38;5;241;43m.\u001b[39;49m\u001b[43mconnect\u001b[49m\u001b[43m(\u001b[49m\u001b[43msa\u001b[49m\u001b[43m)\u001b[49m\n\u001b[1;32m     86\u001b[0m \u001b[38;5;28;01mreturn\u001b[39;00m sock\n",
            "\u001b[0;31mConnectionRefusedError\u001b[0m: [Errno 61] Connection refused",
            "\nDuring handling of the above exception, another exception occurred:\n",
            "\u001b[0;31mNewConnectionError\u001b[0m                        Traceback (most recent call last)",
            "File \u001b[0;32m~/anaconda3/envs/book/lib/python3.10/site-packages/urllib3/connectionpool.py:715\u001b[0m, in \u001b[0;36mHTTPConnectionPool.urlopen\u001b[0;34m(self, method, url, body, headers, retries, redirect, assert_same_host, timeout, pool_timeout, release_conn, chunked, body_pos, **response_kw)\u001b[0m\n\u001b[1;32m    714\u001b[0m \u001b[38;5;66;03m# Make the request on the httplib connection object.\u001b[39;00m\n\u001b[0;32m--> 715\u001b[0m httplib_response \u001b[38;5;241m=\u001b[39m \u001b[38;5;28;43mself\u001b[39;49m\u001b[38;5;241;43m.\u001b[39;49m\u001b[43m_make_request\u001b[49m\u001b[43m(\u001b[49m\n\u001b[1;32m    716\u001b[0m \u001b[43m    \u001b[49m\u001b[43mconn\u001b[49m\u001b[43m,\u001b[49m\n\u001b[1;32m    717\u001b[0m \u001b[43m    \u001b[49m\u001b[43mmethod\u001b[49m\u001b[43m,\u001b[49m\n\u001b[1;32m    718\u001b[0m \u001b[43m    \u001b[49m\u001b[43murl\u001b[49m\u001b[43m,\u001b[49m\n\u001b[1;32m    719\u001b[0m \u001b[43m    \u001b[49m\u001b[43mtimeout\u001b[49m\u001b[38;5;241;43m=\u001b[39;49m\u001b[43mtimeout_obj\u001b[49m\u001b[43m,\u001b[49m\n\u001b[1;32m    720\u001b[0m \u001b[43m    \u001b[49m\u001b[43mbody\u001b[49m\u001b[38;5;241;43m=\u001b[39;49m\u001b[43mbody\u001b[49m\u001b[43m,\u001b[49m\n\u001b[1;32m    721\u001b[0m \u001b[43m    \u001b[49m\u001b[43mheaders\u001b[49m\u001b[38;5;241;43m=\u001b[39;49m\u001b[43mheaders\u001b[49m\u001b[43m,\u001b[49m\n\u001b[1;32m    722\u001b[0m \u001b[43m    \u001b[49m\u001b[43mchunked\u001b[49m\u001b[38;5;241;43m=\u001b[39;49m\u001b[43mchunked\u001b[49m\u001b[43m,\u001b[49m\n\u001b[1;32m    723\u001b[0m \u001b[43m\u001b[49m\u001b[43m)\u001b[49m\n\u001b[1;32m    725\u001b[0m \u001b[38;5;66;03m# If we're going to release the connection in ``finally:``, then\u001b[39;00m\n\u001b[1;32m    726\u001b[0m \u001b[38;5;66;03m# the response doesn't need to know about the connection. Otherwise\u001b[39;00m\n\u001b[1;32m    727\u001b[0m \u001b[38;5;66;03m# it will also try to release it and we'll have a double-release\u001b[39;00m\n\u001b[1;32m    728\u001b[0m \u001b[38;5;66;03m# mess.\u001b[39;00m\n",
            "File \u001b[0;32m~/anaconda3/envs/book/lib/python3.10/site-packages/urllib3/connectionpool.py:416\u001b[0m, in \u001b[0;36mHTTPConnectionPool._make_request\u001b[0;34m(self, conn, method, url, timeout, chunked, **httplib_request_kw)\u001b[0m\n\u001b[1;32m    415\u001b[0m     \u001b[38;5;28;01melse\u001b[39;00m:\n\u001b[0;32m--> 416\u001b[0m         \u001b[43mconn\u001b[49m\u001b[38;5;241;43m.\u001b[39;49m\u001b[43mrequest\u001b[49m\u001b[43m(\u001b[49m\u001b[43mmethod\u001b[49m\u001b[43m,\u001b[49m\u001b[43m \u001b[49m\u001b[43murl\u001b[49m\u001b[43m,\u001b[49m\u001b[43m \u001b[49m\u001b[38;5;241;43m*\u001b[39;49m\u001b[38;5;241;43m*\u001b[39;49m\u001b[43mhttplib_request_kw\u001b[49m\u001b[43m)\u001b[49m\n\u001b[1;32m    418\u001b[0m \u001b[38;5;66;03m# We are swallowing BrokenPipeError (errno.EPIPE) since the server is\u001b[39;00m\n\u001b[1;32m    419\u001b[0m \u001b[38;5;66;03m# legitimately able to close the connection after sending a valid response.\u001b[39;00m\n\u001b[1;32m    420\u001b[0m \u001b[38;5;66;03m# With this behaviour, the received response is still readable.\u001b[39;00m\n",
            "File \u001b[0;32m~/anaconda3/envs/book/lib/python3.10/site-packages/urllib3/connection.py:244\u001b[0m, in \u001b[0;36mHTTPConnection.request\u001b[0;34m(self, method, url, body, headers)\u001b[0m\n\u001b[1;32m    243\u001b[0m     headers[\u001b[38;5;124m\"\u001b[39m\u001b[38;5;124mUser-Agent\u001b[39m\u001b[38;5;124m\"\u001b[39m] \u001b[38;5;241m=\u001b[39m _get_default_user_agent()\n\u001b[0;32m--> 244\u001b[0m \u001b[38;5;28;43msuper\u001b[39;49m\u001b[43m(\u001b[49m\u001b[43mHTTPConnection\u001b[49m\u001b[43m,\u001b[49m\u001b[43m \u001b[49m\u001b[38;5;28;43mself\u001b[39;49m\u001b[43m)\u001b[49m\u001b[38;5;241;43m.\u001b[39;49m\u001b[43mrequest\u001b[49m\u001b[43m(\u001b[49m\u001b[43mmethod\u001b[49m\u001b[43m,\u001b[49m\u001b[43m \u001b[49m\u001b[43murl\u001b[49m\u001b[43m,\u001b[49m\u001b[43m \u001b[49m\u001b[43mbody\u001b[49m\u001b[38;5;241;43m=\u001b[39;49m\u001b[43mbody\u001b[49m\u001b[43m,\u001b[49m\u001b[43m \u001b[49m\u001b[43mheaders\u001b[49m\u001b[38;5;241;43m=\u001b[39;49m\u001b[43mheaders\u001b[49m\u001b[43m)\u001b[49m\n",
            "File \u001b[0;32m~/anaconda3/envs/book/lib/python3.10/http/client.py:1283\u001b[0m, in \u001b[0;36mHTTPConnection.request\u001b[0;34m(self, method, url, body, headers, encode_chunked)\u001b[0m\n\u001b[1;32m   1282\u001b[0m \u001b[38;5;250m\u001b[39m\u001b[38;5;124;03m\"\"\"Send a complete request to the server.\"\"\"\u001b[39;00m\n\u001b[0;32m-> 1283\u001b[0m \u001b[38;5;28;43mself\u001b[39;49m\u001b[38;5;241;43m.\u001b[39;49m\u001b[43m_send_request\u001b[49m\u001b[43m(\u001b[49m\u001b[43mmethod\u001b[49m\u001b[43m,\u001b[49m\u001b[43m \u001b[49m\u001b[43murl\u001b[49m\u001b[43m,\u001b[49m\u001b[43m \u001b[49m\u001b[43mbody\u001b[49m\u001b[43m,\u001b[49m\u001b[43m \u001b[49m\u001b[43mheaders\u001b[49m\u001b[43m,\u001b[49m\u001b[43m \u001b[49m\u001b[43mencode_chunked\u001b[49m\u001b[43m)\u001b[49m\n",
            "File \u001b[0;32m~/anaconda3/envs/book/lib/python3.10/http/client.py:1329\u001b[0m, in \u001b[0;36mHTTPConnection._send_request\u001b[0;34m(self, method, url, body, headers, encode_chunked)\u001b[0m\n\u001b[1;32m   1328\u001b[0m     body \u001b[38;5;241m=\u001b[39m _encode(body, \u001b[38;5;124m'\u001b[39m\u001b[38;5;124mbody\u001b[39m\u001b[38;5;124m'\u001b[39m)\n\u001b[0;32m-> 1329\u001b[0m \u001b[38;5;28;43mself\u001b[39;49m\u001b[38;5;241;43m.\u001b[39;49m\u001b[43mendheaders\u001b[49m\u001b[43m(\u001b[49m\u001b[43mbody\u001b[49m\u001b[43m,\u001b[49m\u001b[43m \u001b[49m\u001b[43mencode_chunked\u001b[49m\u001b[38;5;241;43m=\u001b[39;49m\u001b[43mencode_chunked\u001b[49m\u001b[43m)\u001b[49m\n",
            "File \u001b[0;32m~/anaconda3/envs/book/lib/python3.10/http/client.py:1278\u001b[0m, in \u001b[0;36mHTTPConnection.endheaders\u001b[0;34m(self, message_body, encode_chunked)\u001b[0m\n\u001b[1;32m   1277\u001b[0m     \u001b[38;5;28;01mraise\u001b[39;00m CannotSendHeader()\n\u001b[0;32m-> 1278\u001b[0m \u001b[38;5;28;43mself\u001b[39;49m\u001b[38;5;241;43m.\u001b[39;49m\u001b[43m_send_output\u001b[49m\u001b[43m(\u001b[49m\u001b[43mmessage_body\u001b[49m\u001b[43m,\u001b[49m\u001b[43m \u001b[49m\u001b[43mencode_chunked\u001b[49m\u001b[38;5;241;43m=\u001b[39;49m\u001b[43mencode_chunked\u001b[49m\u001b[43m)\u001b[49m\n",
            "File \u001b[0;32m~/anaconda3/envs/book/lib/python3.10/http/client.py:1038\u001b[0m, in \u001b[0;36mHTTPConnection._send_output\u001b[0;34m(self, message_body, encode_chunked)\u001b[0m\n\u001b[1;32m   1037\u001b[0m \u001b[38;5;28;01mdel\u001b[39;00m \u001b[38;5;28mself\u001b[39m\u001b[38;5;241m.\u001b[39m_buffer[:]\n\u001b[0;32m-> 1038\u001b[0m \u001b[38;5;28;43mself\u001b[39;49m\u001b[38;5;241;43m.\u001b[39;49m\u001b[43msend\u001b[49m\u001b[43m(\u001b[49m\u001b[43mmsg\u001b[49m\u001b[43m)\u001b[49m\n\u001b[1;32m   1040\u001b[0m \u001b[38;5;28;01mif\u001b[39;00m message_body \u001b[38;5;129;01mis\u001b[39;00m \u001b[38;5;129;01mnot\u001b[39;00m \u001b[38;5;28;01mNone\u001b[39;00m:\n\u001b[1;32m   1041\u001b[0m \n\u001b[1;32m   1042\u001b[0m     \u001b[38;5;66;03m# create a consistent interface to message_body\u001b[39;00m\n",
            "File \u001b[0;32m~/anaconda3/envs/book/lib/python3.10/http/client.py:976\u001b[0m, in \u001b[0;36mHTTPConnection.send\u001b[0;34m(self, data)\u001b[0m\n\u001b[1;32m    975\u001b[0m \u001b[38;5;28;01mif\u001b[39;00m \u001b[38;5;28mself\u001b[39m\u001b[38;5;241m.\u001b[39mauto_open:\n\u001b[0;32m--> 976\u001b[0m     \u001b[38;5;28;43mself\u001b[39;49m\u001b[38;5;241;43m.\u001b[39;49m\u001b[43mconnect\u001b[49m\u001b[43m(\u001b[49m\u001b[43m)\u001b[49m\n\u001b[1;32m    977\u001b[0m \u001b[38;5;28;01melse\u001b[39;00m:\n",
            "File \u001b[0;32m~/anaconda3/envs/book/lib/python3.10/site-packages/urllib3/connection.py:205\u001b[0m, in \u001b[0;36mHTTPConnection.connect\u001b[0;34m(self)\u001b[0m\n\u001b[1;32m    204\u001b[0m \u001b[38;5;28;01mdef\u001b[39;00m \u001b[38;5;21mconnect\u001b[39m(\u001b[38;5;28mself\u001b[39m):\n\u001b[0;32m--> 205\u001b[0m     conn \u001b[38;5;241m=\u001b[39m \u001b[38;5;28;43mself\u001b[39;49m\u001b[38;5;241;43m.\u001b[39;49m\u001b[43m_new_conn\u001b[49m\u001b[43m(\u001b[49m\u001b[43m)\u001b[49m\n\u001b[1;32m    206\u001b[0m     \u001b[38;5;28mself\u001b[39m\u001b[38;5;241m.\u001b[39m_prepare_conn(conn)\n",
            "File \u001b[0;32m~/anaconda3/envs/book/lib/python3.10/site-packages/urllib3/connection.py:186\u001b[0m, in \u001b[0;36mHTTPConnection._new_conn\u001b[0;34m(self)\u001b[0m\n\u001b[1;32m    185\u001b[0m \u001b[38;5;28;01mexcept\u001b[39;00m SocketError \u001b[38;5;28;01mas\u001b[39;00m e:\n\u001b[0;32m--> 186\u001b[0m     \u001b[38;5;28;01mraise\u001b[39;00m NewConnectionError(\n\u001b[1;32m    187\u001b[0m         \u001b[38;5;28mself\u001b[39m, \u001b[38;5;124m\"\u001b[39m\u001b[38;5;124mFailed to establish a new connection: \u001b[39m\u001b[38;5;132;01m%s\u001b[39;00m\u001b[38;5;124m\"\u001b[39m \u001b[38;5;241m%\u001b[39m e\n\u001b[1;32m    188\u001b[0m     )\n\u001b[1;32m    190\u001b[0m \u001b[38;5;28;01mreturn\u001b[39;00m conn\n",
            "\u001b[0;31mNewConnectionError\u001b[0m: <urllib3.connection.HTTPConnection object at 0x3466a9570>: Failed to establish a new connection: [Errno 61] Connection refused",
            "\nDuring handling of the above exception, another exception occurred:\n",
            "\u001b[0;31mMaxRetryError\u001b[0m                             Traceback (most recent call last)",
            "File \u001b[0;32m~/anaconda3/envs/book/lib/python3.10/site-packages/requests/adapters.py:667\u001b[0m, in \u001b[0;36mHTTPAdapter.send\u001b[0;34m(self, request, stream, timeout, verify, cert, proxies)\u001b[0m\n\u001b[1;32m    666\u001b[0m \u001b[38;5;28;01mtry\u001b[39;00m:\n\u001b[0;32m--> 667\u001b[0m     resp \u001b[38;5;241m=\u001b[39m \u001b[43mconn\u001b[49m\u001b[38;5;241;43m.\u001b[39;49m\u001b[43murlopen\u001b[49m\u001b[43m(\u001b[49m\n\u001b[1;32m    668\u001b[0m \u001b[43m        \u001b[49m\u001b[43mmethod\u001b[49m\u001b[38;5;241;43m=\u001b[39;49m\u001b[43mrequest\u001b[49m\u001b[38;5;241;43m.\u001b[39;49m\u001b[43mmethod\u001b[49m\u001b[43m,\u001b[49m\n\u001b[1;32m    669\u001b[0m \u001b[43m        \u001b[49m\u001b[43murl\u001b[49m\u001b[38;5;241;43m=\u001b[39;49m\u001b[43murl\u001b[49m\u001b[43m,\u001b[49m\n\u001b[1;32m    670\u001b[0m \u001b[43m        \u001b[49m\u001b[43mbody\u001b[49m\u001b[38;5;241;43m=\u001b[39;49m\u001b[43mrequest\u001b[49m\u001b[38;5;241;43m.\u001b[39;49m\u001b[43mbody\u001b[49m\u001b[43m,\u001b[49m\n\u001b[1;32m    671\u001b[0m \u001b[43m        \u001b[49m\u001b[43mheaders\u001b[49m\u001b[38;5;241;43m=\u001b[39;49m\u001b[43mrequest\u001b[49m\u001b[38;5;241;43m.\u001b[39;49m\u001b[43mheaders\u001b[49m\u001b[43m,\u001b[49m\n\u001b[1;32m    672\u001b[0m \u001b[43m        \u001b[49m\u001b[43mredirect\u001b[49m\u001b[38;5;241;43m=\u001b[39;49m\u001b[38;5;28;43;01mFalse\u001b[39;49;00m\u001b[43m,\u001b[49m\n\u001b[1;32m    673\u001b[0m \u001b[43m        \u001b[49m\u001b[43massert_same_host\u001b[49m\u001b[38;5;241;43m=\u001b[39;49m\u001b[38;5;28;43;01mFalse\u001b[39;49;00m\u001b[43m,\u001b[49m\n\u001b[1;32m    674\u001b[0m \u001b[43m        \u001b[49m\u001b[43mpreload_content\u001b[49m\u001b[38;5;241;43m=\u001b[39;49m\u001b[38;5;28;43;01mFalse\u001b[39;49;00m\u001b[43m,\u001b[49m\n\u001b[1;32m    675\u001b[0m \u001b[43m        \u001b[49m\u001b[43mdecode_content\u001b[49m\u001b[38;5;241;43m=\u001b[39;49m\u001b[38;5;28;43;01mFalse\u001b[39;49;00m\u001b[43m,\u001b[49m\n\u001b[1;32m    676\u001b[0m \u001b[43m        \u001b[49m\u001b[43mretries\u001b[49m\u001b[38;5;241;43m=\u001b[39;49m\u001b[38;5;28;43mself\u001b[39;49m\u001b[38;5;241;43m.\u001b[39;49m\u001b[43mmax_retries\u001b[49m\u001b[43m,\u001b[49m\n\u001b[1;32m    677\u001b[0m \u001b[43m        \u001b[49m\u001b[43mtimeout\u001b[49m\u001b[38;5;241;43m=\u001b[39;49m\u001b[43mtimeout\u001b[49m\u001b[43m,\u001b[49m\n\u001b[1;32m    678\u001b[0m \u001b[43m        \u001b[49m\u001b[43mchunked\u001b[49m\u001b[38;5;241;43m=\u001b[39;49m\u001b[43mchunked\u001b[49m\u001b[43m,\u001b[49m\n\u001b[1;32m    679\u001b[0m \u001b[43m    \u001b[49m\u001b[43m)\u001b[49m\n\u001b[1;32m    681\u001b[0m \u001b[38;5;28;01mexcept\u001b[39;00m (ProtocolError, \u001b[38;5;167;01mOSError\u001b[39;00m) \u001b[38;5;28;01mas\u001b[39;00m err:\n",
            "File \u001b[0;32m~/anaconda3/envs/book/lib/python3.10/site-packages/urllib3/connectionpool.py:827\u001b[0m, in \u001b[0;36mHTTPConnectionPool.urlopen\u001b[0;34m(self, method, url, body, headers, retries, redirect, assert_same_host, timeout, pool_timeout, release_conn, chunked, body_pos, **response_kw)\u001b[0m\n\u001b[1;32m    824\u001b[0m     log\u001b[38;5;241m.\u001b[39mwarning(\n\u001b[1;32m    825\u001b[0m         \u001b[38;5;124m\"\u001b[39m\u001b[38;5;124mRetrying (\u001b[39m\u001b[38;5;132;01m%r\u001b[39;00m\u001b[38;5;124m) after connection broken by \u001b[39m\u001b[38;5;124m'\u001b[39m\u001b[38;5;132;01m%r\u001b[39;00m\u001b[38;5;124m'\u001b[39m\u001b[38;5;124m: \u001b[39m\u001b[38;5;132;01m%s\u001b[39;00m\u001b[38;5;124m\"\u001b[39m, retries, err, url\n\u001b[1;32m    826\u001b[0m     )\n\u001b[0;32m--> 827\u001b[0m     \u001b[38;5;28;01mreturn\u001b[39;00m \u001b[38;5;28;43mself\u001b[39;49m\u001b[38;5;241;43m.\u001b[39;49m\u001b[43murlopen\u001b[49m\u001b[43m(\u001b[49m\n\u001b[1;32m    828\u001b[0m \u001b[43m        \u001b[49m\u001b[43mmethod\u001b[49m\u001b[43m,\u001b[49m\n\u001b[1;32m    829\u001b[0m \u001b[43m        \u001b[49m\u001b[43murl\u001b[49m\u001b[43m,\u001b[49m\n\u001b[1;32m    830\u001b[0m \u001b[43m        \u001b[49m\u001b[43mbody\u001b[49m\u001b[43m,\u001b[49m\n\u001b[1;32m    831\u001b[0m \u001b[43m        \u001b[49m\u001b[43mheaders\u001b[49m\u001b[43m,\u001b[49m\n\u001b[1;32m    832\u001b[0m \u001b[43m        \u001b[49m\u001b[43mretries\u001b[49m\u001b[43m,\u001b[49m\n\u001b[1;32m    833\u001b[0m \u001b[43m        \u001b[49m\u001b[43mredirect\u001b[49m\u001b[43m,\u001b[49m\n\u001b[1;32m    834\u001b[0m \u001b[43m        \u001b[49m\u001b[43massert_same_host\u001b[49m\u001b[43m,\u001b[49m\n\u001b[1;32m    835\u001b[0m \u001b[43m        \u001b[49m\u001b[43mtimeout\u001b[49m\u001b[38;5;241;43m=\u001b[39;49m\u001b[43mtimeout\u001b[49m\u001b[43m,\u001b[49m\n\u001b[1;32m    836\u001b[0m \u001b[43m        \u001b[49m\u001b[43mpool_timeout\u001b[49m\u001b[38;5;241;43m=\u001b[39;49m\u001b[43mpool_timeout\u001b[49m\u001b[43m,\u001b[49m\n\u001b[1;32m    837\u001b[0m \u001b[43m        \u001b[49m\u001b[43mrelease_conn\u001b[49m\u001b[38;5;241;43m=\u001b[39;49m\u001b[43mrelease_conn\u001b[49m\u001b[43m,\u001b[49m\n\u001b[1;32m    838\u001b[0m \u001b[43m        \u001b[49m\u001b[43mchunked\u001b[49m\u001b[38;5;241;43m=\u001b[39;49m\u001b[43mchunked\u001b[49m\u001b[43m,\u001b[49m\n\u001b[1;32m    839\u001b[0m \u001b[43m        \u001b[49m\u001b[43mbody_pos\u001b[49m\u001b[38;5;241;43m=\u001b[39;49m\u001b[43mbody_pos\u001b[49m\u001b[43m,\u001b[49m\n\u001b[1;32m    840\u001b[0m \u001b[43m        \u001b[49m\u001b[38;5;241;43m*\u001b[39;49m\u001b[38;5;241;43m*\u001b[39;49m\u001b[43mresponse_kw\u001b[49m\n\u001b[1;32m    841\u001b[0m \u001b[43m    \u001b[49m\u001b[43m)\u001b[49m\n\u001b[1;32m    843\u001b[0m \u001b[38;5;66;03m# Handle redirect?\u001b[39;00m\n",
            "File \u001b[0;32m~/anaconda3/envs/book/lib/python3.10/site-packages/urllib3/connectionpool.py:827\u001b[0m, in \u001b[0;36mHTTPConnectionPool.urlopen\u001b[0;34m(self, method, url, body, headers, retries, redirect, assert_same_host, timeout, pool_timeout, release_conn, chunked, body_pos, **response_kw)\u001b[0m\n\u001b[1;32m    824\u001b[0m     log\u001b[38;5;241m.\u001b[39mwarning(\n\u001b[1;32m    825\u001b[0m         \u001b[38;5;124m\"\u001b[39m\u001b[38;5;124mRetrying (\u001b[39m\u001b[38;5;132;01m%r\u001b[39;00m\u001b[38;5;124m) after connection broken by \u001b[39m\u001b[38;5;124m'\u001b[39m\u001b[38;5;132;01m%r\u001b[39;00m\u001b[38;5;124m'\u001b[39m\u001b[38;5;124m: \u001b[39m\u001b[38;5;132;01m%s\u001b[39;00m\u001b[38;5;124m\"\u001b[39m, retries, err, url\n\u001b[1;32m    826\u001b[0m     )\n\u001b[0;32m--> 827\u001b[0m     \u001b[38;5;28;01mreturn\u001b[39;00m \u001b[38;5;28;43mself\u001b[39;49m\u001b[38;5;241;43m.\u001b[39;49m\u001b[43murlopen\u001b[49m\u001b[43m(\u001b[49m\n\u001b[1;32m    828\u001b[0m \u001b[43m        \u001b[49m\u001b[43mmethod\u001b[49m\u001b[43m,\u001b[49m\n\u001b[1;32m    829\u001b[0m \u001b[43m        \u001b[49m\u001b[43murl\u001b[49m\u001b[43m,\u001b[49m\n\u001b[1;32m    830\u001b[0m \u001b[43m        \u001b[49m\u001b[43mbody\u001b[49m\u001b[43m,\u001b[49m\n\u001b[1;32m    831\u001b[0m \u001b[43m        \u001b[49m\u001b[43mheaders\u001b[49m\u001b[43m,\u001b[49m\n\u001b[1;32m    832\u001b[0m \u001b[43m        \u001b[49m\u001b[43mretries\u001b[49m\u001b[43m,\u001b[49m\n\u001b[1;32m    833\u001b[0m \u001b[43m        \u001b[49m\u001b[43mredirect\u001b[49m\u001b[43m,\u001b[49m\n\u001b[1;32m    834\u001b[0m \u001b[43m        \u001b[49m\u001b[43massert_same_host\u001b[49m\u001b[43m,\u001b[49m\n\u001b[1;32m    835\u001b[0m \u001b[43m        \u001b[49m\u001b[43mtimeout\u001b[49m\u001b[38;5;241;43m=\u001b[39;49m\u001b[43mtimeout\u001b[49m\u001b[43m,\u001b[49m\n\u001b[1;32m    836\u001b[0m \u001b[43m        \u001b[49m\u001b[43mpool_timeout\u001b[49m\u001b[38;5;241;43m=\u001b[39;49m\u001b[43mpool_timeout\u001b[49m\u001b[43m,\u001b[49m\n\u001b[1;32m    837\u001b[0m \u001b[43m        \u001b[49m\u001b[43mrelease_conn\u001b[49m\u001b[38;5;241;43m=\u001b[39;49m\u001b[43mrelease_conn\u001b[49m\u001b[43m,\u001b[49m\n\u001b[1;32m    838\u001b[0m \u001b[43m        \u001b[49m\u001b[43mchunked\u001b[49m\u001b[38;5;241;43m=\u001b[39;49m\u001b[43mchunked\u001b[49m\u001b[43m,\u001b[49m\n\u001b[1;32m    839\u001b[0m \u001b[43m        \u001b[49m\u001b[43mbody_pos\u001b[49m\u001b[38;5;241;43m=\u001b[39;49m\u001b[43mbody_pos\u001b[49m\u001b[43m,\u001b[49m\n\u001b[1;32m    840\u001b[0m \u001b[43m        \u001b[49m\u001b[38;5;241;43m*\u001b[39;49m\u001b[38;5;241;43m*\u001b[39;49m\u001b[43mresponse_kw\u001b[49m\n\u001b[1;32m    841\u001b[0m \u001b[43m    \u001b[49m\u001b[43m)\u001b[49m\n\u001b[1;32m    843\u001b[0m \u001b[38;5;66;03m# Handle redirect?\u001b[39;00m\n",
            "    \u001b[0;31m[... skipping similar frames: HTTPConnectionPool.urlopen at line 827 (2 times)]\u001b[0m\n",
            "File \u001b[0;32m~/anaconda3/envs/book/lib/python3.10/site-packages/urllib3/connectionpool.py:827\u001b[0m, in \u001b[0;36mHTTPConnectionPool.urlopen\u001b[0;34m(self, method, url, body, headers, retries, redirect, assert_same_host, timeout, pool_timeout, release_conn, chunked, body_pos, **response_kw)\u001b[0m\n\u001b[1;32m    824\u001b[0m     log\u001b[38;5;241m.\u001b[39mwarning(\n\u001b[1;32m    825\u001b[0m         \u001b[38;5;124m\"\u001b[39m\u001b[38;5;124mRetrying (\u001b[39m\u001b[38;5;132;01m%r\u001b[39;00m\u001b[38;5;124m) after connection broken by \u001b[39m\u001b[38;5;124m'\u001b[39m\u001b[38;5;132;01m%r\u001b[39;00m\u001b[38;5;124m'\u001b[39m\u001b[38;5;124m: \u001b[39m\u001b[38;5;132;01m%s\u001b[39;00m\u001b[38;5;124m\"\u001b[39m, retries, err, url\n\u001b[1;32m    826\u001b[0m     )\n\u001b[0;32m--> 827\u001b[0m     \u001b[38;5;28;01mreturn\u001b[39;00m \u001b[38;5;28;43mself\u001b[39;49m\u001b[38;5;241;43m.\u001b[39;49m\u001b[43murlopen\u001b[49m\u001b[43m(\u001b[49m\n\u001b[1;32m    828\u001b[0m \u001b[43m        \u001b[49m\u001b[43mmethod\u001b[49m\u001b[43m,\u001b[49m\n\u001b[1;32m    829\u001b[0m \u001b[43m        \u001b[49m\u001b[43murl\u001b[49m\u001b[43m,\u001b[49m\n\u001b[1;32m    830\u001b[0m \u001b[43m        \u001b[49m\u001b[43mbody\u001b[49m\u001b[43m,\u001b[49m\n\u001b[1;32m    831\u001b[0m \u001b[43m        \u001b[49m\u001b[43mheaders\u001b[49m\u001b[43m,\u001b[49m\n\u001b[1;32m    832\u001b[0m \u001b[43m        \u001b[49m\u001b[43mretries\u001b[49m\u001b[43m,\u001b[49m\n\u001b[1;32m    833\u001b[0m \u001b[43m        \u001b[49m\u001b[43mredirect\u001b[49m\u001b[43m,\u001b[49m\n\u001b[1;32m    834\u001b[0m \u001b[43m        \u001b[49m\u001b[43massert_same_host\u001b[49m\u001b[43m,\u001b[49m\n\u001b[1;32m    835\u001b[0m \u001b[43m        \u001b[49m\u001b[43mtimeout\u001b[49m\u001b[38;5;241;43m=\u001b[39;49m\u001b[43mtimeout\u001b[49m\u001b[43m,\u001b[49m\n\u001b[1;32m    836\u001b[0m \u001b[43m        \u001b[49m\u001b[43mpool_timeout\u001b[49m\u001b[38;5;241;43m=\u001b[39;49m\u001b[43mpool_timeout\u001b[49m\u001b[43m,\u001b[49m\n\u001b[1;32m    837\u001b[0m \u001b[43m        \u001b[49m\u001b[43mrelease_conn\u001b[49m\u001b[38;5;241;43m=\u001b[39;49m\u001b[43mrelease_conn\u001b[49m\u001b[43m,\u001b[49m\n\u001b[1;32m    838\u001b[0m \u001b[43m        \u001b[49m\u001b[43mchunked\u001b[49m\u001b[38;5;241;43m=\u001b[39;49m\u001b[43mchunked\u001b[49m\u001b[43m,\u001b[49m\n\u001b[1;32m    839\u001b[0m \u001b[43m        \u001b[49m\u001b[43mbody_pos\u001b[49m\u001b[38;5;241;43m=\u001b[39;49m\u001b[43mbody_pos\u001b[49m\u001b[43m,\u001b[49m\n\u001b[1;32m    840\u001b[0m \u001b[43m        \u001b[49m\u001b[38;5;241;43m*\u001b[39;49m\u001b[38;5;241;43m*\u001b[39;49m\u001b[43mresponse_kw\u001b[49m\n\u001b[1;32m    841\u001b[0m \u001b[43m    \u001b[49m\u001b[43m)\u001b[49m\n\u001b[1;32m    843\u001b[0m \u001b[38;5;66;03m# Handle redirect?\u001b[39;00m\n",
            "File \u001b[0;32m~/anaconda3/envs/book/lib/python3.10/site-packages/urllib3/connectionpool.py:799\u001b[0m, in \u001b[0;36mHTTPConnectionPool.urlopen\u001b[0;34m(self, method, url, body, headers, retries, redirect, assert_same_host, timeout, pool_timeout, release_conn, chunked, body_pos, **response_kw)\u001b[0m\n\u001b[1;32m    797\u001b[0m     e \u001b[38;5;241m=\u001b[39m ProtocolError(\u001b[38;5;124m\"\u001b[39m\u001b[38;5;124mConnection aborted.\u001b[39m\u001b[38;5;124m\"\u001b[39m, e)\n\u001b[0;32m--> 799\u001b[0m retries \u001b[38;5;241m=\u001b[39m \u001b[43mretries\u001b[49m\u001b[38;5;241;43m.\u001b[39;49m\u001b[43mincrement\u001b[49m\u001b[43m(\u001b[49m\n\u001b[1;32m    800\u001b[0m \u001b[43m    \u001b[49m\u001b[43mmethod\u001b[49m\u001b[43m,\u001b[49m\u001b[43m \u001b[49m\u001b[43murl\u001b[49m\u001b[43m,\u001b[49m\u001b[43m \u001b[49m\u001b[43merror\u001b[49m\u001b[38;5;241;43m=\u001b[39;49m\u001b[43me\u001b[49m\u001b[43m,\u001b[49m\u001b[43m \u001b[49m\u001b[43m_pool\u001b[49m\u001b[38;5;241;43m=\u001b[39;49m\u001b[38;5;28;43mself\u001b[39;49m\u001b[43m,\u001b[49m\u001b[43m \u001b[49m\u001b[43m_stacktrace\u001b[49m\u001b[38;5;241;43m=\u001b[39;49m\u001b[43msys\u001b[49m\u001b[38;5;241;43m.\u001b[39;49m\u001b[43mexc_info\u001b[49m\u001b[43m(\u001b[49m\u001b[43m)\u001b[49m\u001b[43m[\u001b[49m\u001b[38;5;241;43m2\u001b[39;49m\u001b[43m]\u001b[49m\n\u001b[1;32m    801\u001b[0m \u001b[43m\u001b[49m\u001b[43m)\u001b[49m\n\u001b[1;32m    802\u001b[0m retries\u001b[38;5;241m.\u001b[39msleep()\n",
            "File \u001b[0;32m~/anaconda3/envs/book/lib/python3.10/site-packages/urllib3/util/retry.py:592\u001b[0m, in \u001b[0;36mRetry.increment\u001b[0;34m(self, method, url, response, error, _pool, _stacktrace)\u001b[0m\n\u001b[1;32m    591\u001b[0m \u001b[38;5;28;01mif\u001b[39;00m new_retry\u001b[38;5;241m.\u001b[39mis_exhausted():\n\u001b[0;32m--> 592\u001b[0m     \u001b[38;5;28;01mraise\u001b[39;00m MaxRetryError(_pool, url, error \u001b[38;5;129;01mor\u001b[39;00m ResponseError(cause))\n\u001b[1;32m    594\u001b[0m log\u001b[38;5;241m.\u001b[39mdebug(\u001b[38;5;124m\"\u001b[39m\u001b[38;5;124mIncremented Retry for (url=\u001b[39m\u001b[38;5;124m'\u001b[39m\u001b[38;5;132;01m%s\u001b[39;00m\u001b[38;5;124m'\u001b[39m\u001b[38;5;124m): \u001b[39m\u001b[38;5;132;01m%r\u001b[39;00m\u001b[38;5;124m\"\u001b[39m, url, new_retry)\n",
            "\u001b[0;31mMaxRetryError\u001b[0m: HTTPConnectionPool(host='127.0.0.1', port=5556): Max retries exceeded with url: /api/2.0/mlflow/experiments/get-by-name?experiment_name=MLBook_Experiment2 (Caused by NewConnectionError('<urllib3.connection.HTTPConnection object at 0x3466a9570>: Failed to establish a new connection: [Errno 61] Connection refused'))",
            "\nDuring handling of the above exception, another exception occurred:\n",
            "\u001b[0;31mConnectionError\u001b[0m                           Traceback (most recent call last)",
            "File \u001b[0;32m~/anaconda3/envs/book/lib/python3.10/site-packages/mlflow/utils/rest_utils.py:107\u001b[0m, in \u001b[0;36mhttp_request\u001b[0;34m(host_creds, endpoint, method, max_retries, backoff_factor, backoff_jitter, extra_headers, retry_codes, timeout, raise_on_status, **kwargs)\u001b[0m\n\u001b[1;32m    106\u001b[0m \u001b[38;5;28;01mtry\u001b[39;00m:\n\u001b[0;32m--> 107\u001b[0m     \u001b[38;5;28;01mreturn\u001b[39;00m \u001b[43m_get_http_response_with_retries\u001b[49m\u001b[43m(\u001b[49m\n\u001b[1;32m    108\u001b[0m \u001b[43m        \u001b[49m\u001b[43mmethod\u001b[49m\u001b[43m,\u001b[49m\n\u001b[1;32m    109\u001b[0m \u001b[43m        \u001b[49m\u001b[43murl\u001b[49m\u001b[43m,\u001b[49m\n\u001b[1;32m    110\u001b[0m \u001b[43m        \u001b[49m\u001b[43mmax_retries\u001b[49m\u001b[43m,\u001b[49m\n\u001b[1;32m    111\u001b[0m \u001b[43m        \u001b[49m\u001b[43mbackoff_factor\u001b[49m\u001b[43m,\u001b[49m\n\u001b[1;32m    112\u001b[0m \u001b[43m        \u001b[49m\u001b[43mbackoff_jitter\u001b[49m\u001b[43m,\u001b[49m\n\u001b[1;32m    113\u001b[0m \u001b[43m        \u001b[49m\u001b[43mretry_codes\u001b[49m\u001b[43m,\u001b[49m\n\u001b[1;32m    114\u001b[0m \u001b[43m        \u001b[49m\u001b[43mraise_on_status\u001b[49m\u001b[43m,\u001b[49m\n\u001b[1;32m    115\u001b[0m \u001b[43m        \u001b[49m\u001b[43mheaders\u001b[49m\u001b[38;5;241;43m=\u001b[39;49m\u001b[43mheaders\u001b[49m\u001b[43m,\u001b[49m\n\u001b[1;32m    116\u001b[0m \u001b[43m        \u001b[49m\u001b[43mverify\u001b[49m\u001b[38;5;241;43m=\u001b[39;49m\u001b[43mhost_creds\u001b[49m\u001b[38;5;241;43m.\u001b[39;49m\u001b[43mverify\u001b[49m\u001b[43m,\u001b[49m\n\u001b[1;32m    117\u001b[0m \u001b[43m        \u001b[49m\u001b[43mtimeout\u001b[49m\u001b[38;5;241;43m=\u001b[39;49m\u001b[43mtimeout\u001b[49m\u001b[43m,\u001b[49m\n\u001b[1;32m    118\u001b[0m \u001b[43m        \u001b[49m\u001b[38;5;241;43m*\u001b[39;49m\u001b[38;5;241;43m*\u001b[39;49m\u001b[43mkwargs\u001b[49m\u001b[43m,\u001b[49m\n\u001b[1;32m    119\u001b[0m \u001b[43m    \u001b[49m\u001b[43m)\u001b[49m\n\u001b[1;32m    120\u001b[0m \u001b[38;5;28;01mexcept\u001b[39;00m requests\u001b[38;5;241m.\u001b[39mexceptions\u001b[38;5;241m.\u001b[39mTimeout \u001b[38;5;28;01mas\u001b[39;00m to:\n",
            "File \u001b[0;32m~/anaconda3/envs/book/lib/python3.10/site-packages/mlflow/utils/request_utils.py:197\u001b[0m, in \u001b[0;36m_get_http_response_with_retries\u001b[0;34m(method, url, max_retries, backoff_factor, backoff_jitter, retry_codes, raise_on_status, allow_redirects, **kwargs)\u001b[0m\n\u001b[1;32m    195\u001b[0m allow_redirects \u001b[38;5;241m=\u001b[39m env_value \u001b[38;5;28;01mif\u001b[39;00m allow_redirects \u001b[38;5;129;01mis\u001b[39;00m \u001b[38;5;28;01mNone\u001b[39;00m \u001b[38;5;28;01melse\u001b[39;00m allow_redirects\n\u001b[0;32m--> 197\u001b[0m \u001b[38;5;28;01mreturn\u001b[39;00m \u001b[43msession\u001b[49m\u001b[38;5;241;43m.\u001b[39;49m\u001b[43mrequest\u001b[49m\u001b[43m(\u001b[49m\u001b[43mmethod\u001b[49m\u001b[43m,\u001b[49m\u001b[43m \u001b[49m\u001b[43murl\u001b[49m\u001b[43m,\u001b[49m\u001b[43m \u001b[49m\u001b[43mallow_redirects\u001b[49m\u001b[38;5;241;43m=\u001b[39;49m\u001b[43mallow_redirects\u001b[49m\u001b[43m,\u001b[49m\u001b[43m \u001b[49m\u001b[38;5;241;43m*\u001b[39;49m\u001b[38;5;241;43m*\u001b[39;49m\u001b[43mkwargs\u001b[49m\u001b[43m)\u001b[49m\n",
            "File \u001b[0;32m~/anaconda3/envs/book/lib/python3.10/site-packages/requests/sessions.py:589\u001b[0m, in \u001b[0;36mSession.request\u001b[0;34m(self, method, url, params, data, headers, cookies, files, auth, timeout, allow_redirects, proxies, hooks, stream, verify, cert, json)\u001b[0m\n\u001b[1;32m    588\u001b[0m send_kwargs\u001b[38;5;241m.\u001b[39mupdate(settings)\n\u001b[0;32m--> 589\u001b[0m resp \u001b[38;5;241m=\u001b[39m \u001b[38;5;28;43mself\u001b[39;49m\u001b[38;5;241;43m.\u001b[39;49m\u001b[43msend\u001b[49m\u001b[43m(\u001b[49m\u001b[43mprep\u001b[49m\u001b[43m,\u001b[49m\u001b[43m \u001b[49m\u001b[38;5;241;43m*\u001b[39;49m\u001b[38;5;241;43m*\u001b[39;49m\u001b[43msend_kwargs\u001b[49m\u001b[43m)\u001b[49m\n\u001b[1;32m    591\u001b[0m \u001b[38;5;28;01mreturn\u001b[39;00m resp\n",
            "File \u001b[0;32m~/anaconda3/envs/book/lib/python3.10/site-packages/requests/sessions.py:703\u001b[0m, in \u001b[0;36mSession.send\u001b[0;34m(self, request, **kwargs)\u001b[0m\n\u001b[1;32m    702\u001b[0m \u001b[38;5;66;03m# Send the request\u001b[39;00m\n\u001b[0;32m--> 703\u001b[0m r \u001b[38;5;241m=\u001b[39m \u001b[43madapter\u001b[49m\u001b[38;5;241;43m.\u001b[39;49m\u001b[43msend\u001b[49m\u001b[43m(\u001b[49m\u001b[43mrequest\u001b[49m\u001b[43m,\u001b[49m\u001b[43m \u001b[49m\u001b[38;5;241;43m*\u001b[39;49m\u001b[38;5;241;43m*\u001b[39;49m\u001b[43mkwargs\u001b[49m\u001b[43m)\u001b[49m\n\u001b[1;32m    705\u001b[0m \u001b[38;5;66;03m# Total elapsed time of the request (approximately)\u001b[39;00m\n",
            "File \u001b[0;32m~/anaconda3/envs/book/lib/python3.10/site-packages/requests/adapters.py:700\u001b[0m, in \u001b[0;36mHTTPAdapter.send\u001b[0;34m(self, request, stream, timeout, verify, cert, proxies)\u001b[0m\n\u001b[1;32m    698\u001b[0m         \u001b[38;5;28;01mraise\u001b[39;00m SSLError(e, request\u001b[38;5;241m=\u001b[39mrequest)\n\u001b[0;32m--> 700\u001b[0m     \u001b[38;5;28;01mraise\u001b[39;00m \u001b[38;5;167;01mConnectionError\u001b[39;00m(e, request\u001b[38;5;241m=\u001b[39mrequest)\n\u001b[1;32m    702\u001b[0m \u001b[38;5;28;01mexcept\u001b[39;00m ClosedPoolError \u001b[38;5;28;01mas\u001b[39;00m e:\n",
            "\u001b[0;31mConnectionError\u001b[0m: HTTPConnectionPool(host='127.0.0.1', port=5556): Max retries exceeded with url: /api/2.0/mlflow/experiments/get-by-name?experiment_name=MLBook_Experiment2 (Caused by NewConnectionError('<urllib3.connection.HTTPConnection object at 0x3466a9570>: Failed to establish a new connection: [Errno 61] Connection refused'))",
            "\nDuring handling of the above exception, another exception occurred:\n",
            "\u001b[0;31mMlflowException\u001b[0m                           Traceback (most recent call last)",
            "Cell \u001b[0;32mIn[4], line 6\u001b[0m\n\u001b[1;32m      4\u001b[0m \u001b[38;5;66;03m# Set MLFlow tracking URI and experiment name\u001b[39;00m\n\u001b[1;32m      5\u001b[0m mlflow\u001b[38;5;241m.\u001b[39mset_tracking_uri(\u001b[38;5;124m'\u001b[39m\u001b[38;5;124mhttp://127.0.0.1:5556\u001b[39m\u001b[38;5;124m'\u001b[39m)  \u001b[38;5;66;03m# Adjust to your MLFlow server\u001b[39;00m\n\u001b[0;32m----> 6\u001b[0m \u001b[43mmlflow\u001b[49m\u001b[38;5;241;43m.\u001b[39;49m\u001b[43mset_experiment\u001b[49m\u001b[43m(\u001b[49m\u001b[38;5;124;43m'\u001b[39;49m\u001b[38;5;124;43mMLBook_Experiment2\u001b[39;49m\u001b[38;5;124;43m'\u001b[39;49m\u001b[43m)\u001b[49m\n\u001b[1;32m      8\u001b[0m \u001b[38;5;66;03m# Start an MLFlow run and log the model\u001b[39;00m\n\u001b[1;32m      9\u001b[0m \u001b[38;5;28;01mwith\u001b[39;00m mlflow\u001b[38;5;241m.\u001b[39mstart_run(run_name\u001b[38;5;241m=\u001b[39m\u001b[38;5;124m'\u001b[39m\u001b[38;5;124msimple_nn\u001b[39m\u001b[38;5;124m'\u001b[39m):\n",
            "File \u001b[0;32m~/anaconda3/envs/book/lib/python3.10/site-packages/mlflow/tracking/fluent.py:135\u001b[0m, in \u001b[0;36mset_experiment\u001b[0;34m(experiment_name, experiment_id)\u001b[0m\n\u001b[1;32m    133\u001b[0m client \u001b[38;5;241m=\u001b[39m MlflowClient()\n\u001b[1;32m    134\u001b[0m \u001b[38;5;28;01mif\u001b[39;00m experiment_id \u001b[38;5;129;01mis\u001b[39;00m \u001b[38;5;28;01mNone\u001b[39;00m:\n\u001b[0;32m--> 135\u001b[0m     experiment \u001b[38;5;241m=\u001b[39m \u001b[43mclient\u001b[49m\u001b[38;5;241;43m.\u001b[39;49m\u001b[43mget_experiment_by_name\u001b[49m\u001b[43m(\u001b[49m\u001b[43mexperiment_name\u001b[49m\u001b[43m)\u001b[49m\n\u001b[1;32m    136\u001b[0m     \u001b[38;5;28;01mif\u001b[39;00m \u001b[38;5;129;01mnot\u001b[39;00m experiment:\n\u001b[1;32m    137\u001b[0m         _logger\u001b[38;5;241m.\u001b[39minfo(\n\u001b[1;32m    138\u001b[0m             \u001b[38;5;124m\"\u001b[39m\u001b[38;5;124mExperiment with name \u001b[39m\u001b[38;5;124m'\u001b[39m\u001b[38;5;132;01m%s\u001b[39;00m\u001b[38;5;124m'\u001b[39m\u001b[38;5;124m does not exist. Creating a new experiment.\u001b[39m\u001b[38;5;124m\"\u001b[39m,\n\u001b[1;32m    139\u001b[0m             experiment_name,\n\u001b[1;32m    140\u001b[0m         )\n",
            "File \u001b[0;32m~/anaconda3/envs/book/lib/python3.10/site-packages/mlflow/tracking/client.py:520\u001b[0m, in \u001b[0;36mMlflowClient.get_experiment_by_name\u001b[0;34m(self, name)\u001b[0m\n\u001b[1;32m    489\u001b[0m \u001b[38;5;28;01mdef\u001b[39;00m \u001b[38;5;21mget_experiment_by_name\u001b[39m(\u001b[38;5;28mself\u001b[39m, name: \u001b[38;5;28mstr\u001b[39m) \u001b[38;5;241m-\u001b[39m\u001b[38;5;241m>\u001b[39m Optional[Experiment]:\n\u001b[1;32m    490\u001b[0m \u001b[38;5;250m    \u001b[39m\u001b[38;5;124;03m\"\"\"\u001b[39;00m\n\u001b[1;32m    491\u001b[0m \u001b[38;5;124;03m    Retrieve an experiment by experiment name from the backend store\u001b[39;00m\n\u001b[1;32m    492\u001b[0m \n\u001b[0;32m   (...)\u001b[0m\n\u001b[1;32m    518\u001b[0m \u001b[38;5;124;03m        Lifecycle_stage: active\u001b[39;00m\n\u001b[1;32m    519\u001b[0m \u001b[38;5;124;03m    \"\"\"\u001b[39;00m\n\u001b[0;32m--> 520\u001b[0m     \u001b[38;5;28;01mreturn\u001b[39;00m \u001b[38;5;28;43mself\u001b[39;49m\u001b[38;5;241;43m.\u001b[39;49m\u001b[43m_tracking_client\u001b[49m\u001b[38;5;241;43m.\u001b[39;49m\u001b[43mget_experiment_by_name\u001b[49m\u001b[43m(\u001b[49m\u001b[43mname\u001b[49m\u001b[43m)\u001b[49m\n",
            "File \u001b[0;32m~/anaconda3/envs/book/lib/python3.10/site-packages/mlflow/tracking/_tracking_service/client.py:221\u001b[0m, in \u001b[0;36mTrackingServiceClient.get_experiment_by_name\u001b[0;34m(self, name)\u001b[0m\n\u001b[1;32m    216\u001b[0m \u001b[38;5;28;01mdef\u001b[39;00m \u001b[38;5;21mget_experiment_by_name\u001b[39m(\u001b[38;5;28mself\u001b[39m, name):\n\u001b[1;32m    217\u001b[0m \u001b[38;5;250m    \u001b[39m\u001b[38;5;124;03m\"\"\"\u001b[39;00m\n\u001b[1;32m    218\u001b[0m \u001b[38;5;124;03m    :param name: The experiment name.\u001b[39;00m\n\u001b[1;32m    219\u001b[0m \u001b[38;5;124;03m    :return: :py:class:`mlflow.entities.Experiment`\u001b[39;00m\n\u001b[1;32m    220\u001b[0m \u001b[38;5;124;03m    \"\"\"\u001b[39;00m\n\u001b[0;32m--> 221\u001b[0m     \u001b[38;5;28;01mreturn\u001b[39;00m \u001b[38;5;28;43mself\u001b[39;49m\u001b[38;5;241;43m.\u001b[39;49m\u001b[43mstore\u001b[49m\u001b[38;5;241;43m.\u001b[39;49m\u001b[43mget_experiment_by_name\u001b[49m\u001b[43m(\u001b[49m\u001b[43mname\u001b[49m\u001b[43m)\u001b[49m\n",
            "File \u001b[0;32m~/anaconda3/envs/book/lib/python3.10/site-packages/mlflow/store/tracking/rest_store.py:306\u001b[0m, in \u001b[0;36mRestStore.get_experiment_by_name\u001b[0;34m(self, experiment_name)\u001b[0m\n\u001b[1;32m    304\u001b[0m \u001b[38;5;28;01mtry\u001b[39;00m:\n\u001b[1;32m    305\u001b[0m     req_body \u001b[38;5;241m=\u001b[39m message_to_json(GetExperimentByName(experiment_name\u001b[38;5;241m=\u001b[39mexperiment_name))\n\u001b[0;32m--> 306\u001b[0m     response_proto \u001b[38;5;241m=\u001b[39m \u001b[38;5;28;43mself\u001b[39;49m\u001b[38;5;241;43m.\u001b[39;49m\u001b[43m_call_endpoint\u001b[49m\u001b[43m(\u001b[49m\u001b[43mGetExperimentByName\u001b[49m\u001b[43m,\u001b[49m\u001b[43m \u001b[49m\u001b[43mreq_body\u001b[49m\u001b[43m)\u001b[49m\n\u001b[1;32m    307\u001b[0m     \u001b[38;5;28;01mreturn\u001b[39;00m Experiment\u001b[38;5;241m.\u001b[39mfrom_proto(response_proto\u001b[38;5;241m.\u001b[39mexperiment)\n\u001b[1;32m    308\u001b[0m \u001b[38;5;28;01mexcept\u001b[39;00m MlflowException \u001b[38;5;28;01mas\u001b[39;00m e:\n",
            "File \u001b[0;32m~/anaconda3/envs/book/lib/python3.10/site-packages/mlflow/store/tracking/rest_store.py:59\u001b[0m, in \u001b[0;36mRestStore._call_endpoint\u001b[0;34m(self, api, json_body)\u001b[0m\n\u001b[1;32m     57\u001b[0m endpoint, method \u001b[38;5;241m=\u001b[39m _METHOD_TO_INFO[api]\n\u001b[1;32m     58\u001b[0m response_proto \u001b[38;5;241m=\u001b[39m api\u001b[38;5;241m.\u001b[39mResponse()\n\u001b[0;32m---> 59\u001b[0m \u001b[38;5;28;01mreturn\u001b[39;00m \u001b[43mcall_endpoint\u001b[49m\u001b[43m(\u001b[49m\u001b[38;5;28;43mself\u001b[39;49m\u001b[38;5;241;43m.\u001b[39;49m\u001b[43mget_host_creds\u001b[49m\u001b[43m(\u001b[49m\u001b[43m)\u001b[49m\u001b[43m,\u001b[49m\u001b[43m \u001b[49m\u001b[43mendpoint\u001b[49m\u001b[43m,\u001b[49m\u001b[43m \u001b[49m\u001b[43mmethod\u001b[49m\u001b[43m,\u001b[49m\u001b[43m \u001b[49m\u001b[43mjson_body\u001b[49m\u001b[43m,\u001b[49m\u001b[43m \u001b[49m\u001b[43mresponse_proto\u001b[49m\u001b[43m)\u001b[49m\n",
            "File \u001b[0;32m~/anaconda3/envs/book/lib/python3.10/site-packages/mlflow/utils/rest_utils.py:215\u001b[0m, in \u001b[0;36mcall_endpoint\u001b[0;34m(host_creds, endpoint, method, json_body, response_proto, extra_headers)\u001b[0m\n\u001b[1;32m    213\u001b[0m \u001b[38;5;28;01mif\u001b[39;00m method \u001b[38;5;241m==\u001b[39m \u001b[38;5;124m\"\u001b[39m\u001b[38;5;124mGET\u001b[39m\u001b[38;5;124m\"\u001b[39m:\n\u001b[1;32m    214\u001b[0m     call_kwargs[\u001b[38;5;124m\"\u001b[39m\u001b[38;5;124mparams\u001b[39m\u001b[38;5;124m\"\u001b[39m] \u001b[38;5;241m=\u001b[39m json_body\n\u001b[0;32m--> 215\u001b[0m     response \u001b[38;5;241m=\u001b[39m \u001b[43mhttp_request\u001b[49m\u001b[43m(\u001b[49m\u001b[38;5;241;43m*\u001b[39;49m\u001b[38;5;241;43m*\u001b[39;49m\u001b[43mcall_kwargs\u001b[49m\u001b[43m)\u001b[49m\n\u001b[1;32m    216\u001b[0m \u001b[38;5;28;01melse\u001b[39;00m:\n\u001b[1;32m    217\u001b[0m     call_kwargs[\u001b[38;5;124m\"\u001b[39m\u001b[38;5;124mjson\u001b[39m\u001b[38;5;124m\"\u001b[39m] \u001b[38;5;241m=\u001b[39m json_body\n",
            "File \u001b[0;32m~/anaconda3/envs/book/lib/python3.10/site-packages/mlflow/utils/rest_utils.py:129\u001b[0m, in \u001b[0;36mhttp_request\u001b[0;34m(host_creds, endpoint, method, max_retries, backoff_factor, backoff_jitter, extra_headers, retry_codes, timeout, raise_on_status, **kwargs)\u001b[0m\n\u001b[1;32m    127\u001b[0m     \u001b[38;5;28;01mraise\u001b[39;00m InvalidUrlException(\u001b[38;5;124mf\u001b[39m\u001b[38;5;124m\"\u001b[39m\u001b[38;5;124mInvalid url: \u001b[39m\u001b[38;5;132;01m{\u001b[39;00murl\u001b[38;5;132;01m}\u001b[39;00m\u001b[38;5;124m\"\u001b[39m) \u001b[38;5;28;01mfrom\u001b[39;00m \u001b[38;5;21;01miu\u001b[39;00m\n\u001b[1;32m    128\u001b[0m \u001b[38;5;28;01mexcept\u001b[39;00m \u001b[38;5;167;01mException\u001b[39;00m \u001b[38;5;28;01mas\u001b[39;00m e:\n\u001b[0;32m--> 129\u001b[0m     \u001b[38;5;28;01mraise\u001b[39;00m MlflowException(\u001b[38;5;124mf\u001b[39m\u001b[38;5;124m\"\u001b[39m\u001b[38;5;124mAPI request to \u001b[39m\u001b[38;5;132;01m{\u001b[39;00murl\u001b[38;5;132;01m}\u001b[39;00m\u001b[38;5;124m failed with exception \u001b[39m\u001b[38;5;132;01m{\u001b[39;00me\u001b[38;5;132;01m}\u001b[39;00m\u001b[38;5;124m\"\u001b[39m)\n",
            "\u001b[0;31mMlflowException\u001b[0m: API request to http://127.0.0.1:5556/api/2.0/mlflow/experiments/get-by-name failed with exception HTTPConnectionPool(host='127.0.0.1', port=5556): Max retries exceeded with url: /api/2.0/mlflow/experiments/get-by-name?experiment_name=MLBook_Experiment2 (Caused by NewConnectionError('<urllib3.connection.HTTPConnection object at 0x3466a9570>: Failed to establish a new connection: [Errno 61] Connection refused'))"
          ]
        }
      ],
      "source": [
        "import mlflow\n",
        "import mlflow.pytorch\n",
        "\n",
        "# Set MLFlow tracking URI and experiment name\n",
        "mlflow.set_tracking_uri('http://127.0.0.1:5556')  # Adjust to your MLFlow server\n",
        "mlflow.set_experiment('MLBook_Experiment2')\n",
        "\n",
        "# Start an MLFlow run and log the model\n",
        "with mlflow.start_run(run_name='simple_nn'):\n",
        "    mlflow.pytorch.log_model(model, 'model')\n",
        "    mlflow.log_param('epochs', num_epochs)\n",
        "    mlflow.log_metric('final_loss', loss.item())\n"
      ]
    },
    {
      "cell_type": "markdown",
      "id": "aef53568-5ea5-4996-812d-77d4646e875e",
      "metadata": {
        "id": "aef53568-5ea5-4996-812d-77d4646e875e"
      },
      "source": [
        "## Step 5: Fine-Tuning Pipeline"
      ]
    },
    {
      "cell_type": "code",
      "execution_count": null,
      "id": "7e57d4a5-2acd-4479-8959-8b4edc428a9d",
      "metadata": {
        "id": "7e57d4a5-2acd-4479-8959-8b4edc428a9d",
        "outputId": "5caa1582-a623-499f-9f6b-1bef20754e11",
        "tags": []
      },
      "outputs": [
        {
          "name": "stdout",
          "output_type": "stream",
          "text": [
            "Fine-tuning Epoch 1/5, Loss: 1.0046367645263672\n",
            "Fine-tuning Epoch 2/5, Loss: 0.8660054802894592\n",
            "Fine-tuning Epoch 3/5, Loss: 0.8357763886451721\n",
            "Fine-tuning Epoch 4/5, Loss: 0.8215194940567017\n",
            "Fine-tuning Epoch 5/5, Loss: 1.1421597003936768\n"
          ]
        }
      ],
      "source": [
        "# Generate or load new data for fine-tuning\n",
        "# Here, we'll simulate new data for simplicity\n",
        "X_new, y_new = make_classification(n_samples=500, n_features=10, n_classes=2, random_state=42)\n",
        "new_data = TensorDataset(torch.tensor(X_new, dtype=torch.float32), torch.tensor(y_new, dtype=torch.long))\n",
        "new_data_loader = DataLoader(new_data, batch_size=64, shuffle=True)\n",
        "\n",
        "# Adjust the optimizer for fine-tuning (e.g., lower learning rate)\n",
        "fine_tune_optimizer = optim.Adam(model.parameters(), lr=0.0001)\n",
        "\n",
        "# Fine-tuning loop\n",
        "fine_tune_epochs = 5\n",
        "for epoch in range(fine_tune_epochs):\n",
        "    for inputs, labels in new_data_loader:\n",
        "        fine_tune_optimizer.zero_grad()\n",
        "        outputs = model(inputs)\n",
        "        loss = criterion(outputs, labels)\n",
        "        loss.backward()\n",
        "        fine_tune_optimizer.step()\n",
        "    print(f'Fine-tuning Epoch {epoch+1}/{fine_tune_epochs}, Loss: {loss.item()}')\n"
      ]
    },
    {
      "cell_type": "markdown",
      "id": "5aab46cd-81e9-41de-a924-cab766af01c6",
      "metadata": {
        "id": "5aab46cd-81e9-41de-a924-cab766af01c6"
      },
      "source": [
        "## Step 6: Evaluation and Model Registry"
      ]
    },
    {
      "cell_type": "code",
      "execution_count": null,
      "id": "cced83d1-ca04-4ac8-b516-45e137cca571",
      "metadata": {
        "id": "cced83d1-ca04-4ac8-b516-45e137cca571",
        "outputId": "38904b69-0bc2-4e57-dce9-13e7b41455df",
        "tags": []
      },
      "outputs": [
        {
          "name": "stdout",
          "output_type": "stream",
          "text": [
            "Accuracy of the fine-tuned model on the test data: 83.5%\n"
          ]
        }
      ],
      "source": [
        "# Evaluate the fine-tuned model (simplified evaluation for demonstration)\n",
        "correct = 0\n",
        "total = 0\n",
        "with torch.no_grad():\n",
        "    for inputs, labels in test_loader:\n",
        "        outputs = model(inputs)\n",
        "        _, predicted = torch.max(outputs.data, 1)\n",
        "        total += labels.size(0)\n",
        "        correct += (predicted == labels).sum().item()\n",
        "\n",
        "print(f'Accuracy of the fine-tuned model on the test data: {100 * correct / total}%')\n",
        "\n",
        "# Log the fine-tuned model in MLFlow\n",
        "with mlflow.start_run(run_name='simple_nn_fine_tuned'):\n",
        "    mlflow.pytorch.log_model(model, 'model_fine_tuned')\n",
        "    mlflow.log_param('fine_tune_epochs', fine_tune_epochs)\n",
        "    mlflow.log_metric('fine_tune_final_loss', loss.item())\n",
        "    mlflow.log_metric('fine_tune_accuracy', 100 * correct / total)\n"
      ]
    },
    {
      "cell_type": "code",
      "execution_count": null,
      "id": "ff694aa5-d594-4a07-998f-e9ced90d8f70",
      "metadata": {
        "id": "ff694aa5-d594-4a07-998f-e9ced90d8f70"
      },
      "outputs": [],
      "source": []
    }
  ],
  "metadata": {
    "colab": {
      "provenance": []
    },
    "kernelspec": {
      "display_name": "Python 3 (ipykernel)",
      "language": "python",
      "name": "python3"
    },
    "language_info": {
      "codemirror_mode": {
        "name": "ipython",
        "version": 3
      },
      "file_extension": ".py",
      "mimetype": "text/x-python",
      "name": "python",
      "nbconvert_exporter": "python",
      "pygments_lexer": "ipython3",
      "version": "3.10.14"
    }
  },
  "nbformat": 4,
  "nbformat_minor": 5
}
